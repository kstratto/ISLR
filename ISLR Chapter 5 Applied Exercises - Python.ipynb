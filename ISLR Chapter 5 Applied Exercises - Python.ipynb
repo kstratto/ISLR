{
 "cells": [
  {
   "cell_type": "code",
   "execution_count": 1,
   "metadata": {},
   "outputs": [],
   "source": [
    "# Import standard Python data science libraries\n",
    "import numpy as np\n",
    "import pandas as pd\n",
    "import matplotlib.pyplot as plt\n",
    "import seaborn as sns\n",
    "sns.set()\n",
    "\n",
    "# Import classes from scikit-learn for logistic regression, least squares linear regression\n",
    "# Import OneHotEncoder and PolynomialFeatures for data pre-processing\n",
    "# Import Pipeline, ColumnTransformer to encapsulate pre-processing heterogenous data and fitting\n",
    "# into a single estimator\n",
    "# Import train_test_split, cross_val_score, LeaveOneOut, KFold for model validation\n",
    "# Import resample for bootstrapping\n",
    "from sklearn.linear_model import LogisticRegression, LinearRegression\n",
    "from sklearn.model_selection import train_test_split, cross_val_score, LeaveOneOut, KFold\n",
    "from sklearn.preprocessing import OneHotEncoder, PolynomialFeatures\n",
    "from sklearn.pipeline import Pipeline\n",
    "from sklearn.compose import ColumnTransformer\n",
    "from sklearn.utils import resample\n",
    "\n",
    "# Load StatsModels API\n",
    "# Note that if we wish to use R-style formulas, then we would use the StatsModels Formula API\n",
    "import statsmodels.api as sm\n",
    "import statsmodels.formula.api as smf"
   ]
  },
  {
   "cell_type": "markdown",
   "metadata": {},
   "source": [
    "# Applied Exercise 1\n",
    "\n",
    "**In Chapter 4, we used logistic regression to predict the probability of `default` using `income` and `balance` on the `Default` data set. We will now estimate the test error of this logistic regression model using te validation set approach. Do not forget to set a random seed before beginning your analysis.**"
   ]
  },
  {
   "cell_type": "code",
   "execution_count": 2,
   "metadata": {},
   "outputs": [
    {
     "data": {
      "text/html": [
       "<div>\n",
       "<style scoped>\n",
       "    .dataframe tbody tr th:only-of-type {\n",
       "        vertical-align: middle;\n",
       "    }\n",
       "\n",
       "    .dataframe tbody tr th {\n",
       "        vertical-align: top;\n",
       "    }\n",
       "\n",
       "    .dataframe thead th {\n",
       "        text-align: right;\n",
       "    }\n",
       "</style>\n",
       "<table border=\"1\" class=\"dataframe\">\n",
       "  <thead>\n",
       "    <tr style=\"text-align: right;\">\n",
       "      <th></th>\n",
       "      <th>default</th>\n",
       "      <th>student</th>\n",
       "      <th>balance</th>\n",
       "      <th>income</th>\n",
       "    </tr>\n",
       "  </thead>\n",
       "  <tbody>\n",
       "    <tr>\n",
       "      <td>0</td>\n",
       "      <td>No</td>\n",
       "      <td>No</td>\n",
       "      <td>729.526495</td>\n",
       "      <td>44361.625074</td>\n",
       "    </tr>\n",
       "    <tr>\n",
       "      <td>1</td>\n",
       "      <td>No</td>\n",
       "      <td>Yes</td>\n",
       "      <td>817.180407</td>\n",
       "      <td>12106.134700</td>\n",
       "    </tr>\n",
       "    <tr>\n",
       "      <td>2</td>\n",
       "      <td>No</td>\n",
       "      <td>No</td>\n",
       "      <td>1073.549164</td>\n",
       "      <td>31767.138947</td>\n",
       "    </tr>\n",
       "    <tr>\n",
       "      <td>3</td>\n",
       "      <td>No</td>\n",
       "      <td>No</td>\n",
       "      <td>529.250605</td>\n",
       "      <td>35704.493935</td>\n",
       "    </tr>\n",
       "    <tr>\n",
       "      <td>4</td>\n",
       "      <td>No</td>\n",
       "      <td>No</td>\n",
       "      <td>785.655883</td>\n",
       "      <td>38463.495879</td>\n",
       "    </tr>\n",
       "  </tbody>\n",
       "</table>\n",
       "</div>"
      ],
      "text/plain": [
       "  default student      balance        income\n",
       "0      No      No   729.526495  44361.625074\n",
       "1      No     Yes   817.180407  12106.134700\n",
       "2      No      No  1073.549164  31767.138947\n",
       "3      No      No   529.250605  35704.493935\n",
       "4      No      No   785.655883  38463.495879"
      ]
     },
     "execution_count": 2,
     "metadata": {},
     "output_type": "execute_result"
    }
   ],
   "source": [
    "default_filepath = \"Default.csv\"\n",
    "Default = pd.read_csv(default_filepath)\n",
    "Default.head()"
   ]
  },
  {
   "cell_type": "markdown",
   "metadata": {},
   "source": [
    "## Part 1\n",
    "**Fit a logistic regression model that uses `income` and `balance` to predict `default`.**"
   ]
  },
  {
   "cell_type": "markdown",
   "metadata": {},
   "source": [
    "For this part, we use the entire data set to fit a logisic regression model to predict `default` by using `income` and `balance`."
   ]
  },
  {
   "cell_type": "code",
   "execution_count": 3,
   "metadata": {},
   "outputs": [
    {
     "data": {
      "text/plain": [
       "array([[5.64710291e-03, 2.08089921e-05]])"
      ]
     },
     "execution_count": 3,
     "metadata": {},
     "output_type": "execute_result"
    }
   ],
   "source": [
    "X = Default[[\"balance\", \"income\"]]\n",
    "y = Default[\"default\"]\n",
    "clf = LogisticRegression(penalty = \"none\", solver = \"lbfgs\")\n",
    "clf.fit(X, y)\n",
    "clf.coef_"
   ]
  },
  {
   "cell_type": "markdown",
   "metadata": {},
   "source": [
    "## Part 2\n",
    "**Using the validation set approach, estimate the test error of this model. In order to do this, youmust perform the following steps:**\n",
    "\n",
    "1. **Split the sample into a training set and a validation set.**\n",
    "2. **Fit a multiple logistic regression model using only the training observations.**\n",
    "3. **Obtain a prediction of default status for each individual in the validation set by computing the posterior probability of default for that individual, and classifying the individual to the `default` category if the posterior probability is greater than 0.5.**\n",
    "4. **Compute the validation set error, which is the fraction of observations in the validation set that are misclassified.**"
   ]
  },
  {
   "cell_type": "markdown",
   "metadata": {},
   "source": [
    "I will use a 75-25 split when dividing my data into a training set and a validation set. To split the data into a training set and a validation set, we use `train_test_split()`. Note that we passed a value to the `random_state` argument to have reproducible results. After fitting the logistic regression model using the training observations, scikit-learn performs steps 3 and 4 (obtaining predictions using a posterior probability threshold of 0.5 and then computing the validation set accuracy) in a single step via the `score()` function. Note that if we wished to make predictions using a posterior probability threshold other than 0.5, we would want to use the `predict_proba()` function to obtain the posterior probabilities of each class for each observation in the validation set."
   ]
  },
  {
   "cell_type": "code",
   "execution_count": 4,
   "metadata": {},
   "outputs": [
    {
     "data": {
      "text/plain": [
       "0.02839999999999998"
      ]
     },
     "execution_count": 4,
     "metadata": {},
     "output_type": "execute_result"
    }
   ],
   "source": [
    "X_train, X_test, y_train, y_test = train_test_split(Default[[\"balance\", \"income\"]], Default[\"default\"],\n",
    "                                                   test_size = 0.25, random_state = 312)\n",
    "clf = LogisticRegression(penalty = \"none\", solver = \"lbfgs\")\n",
    "clf.fit(X_train, y_train)\n",
    "1 - clf.score(X_test, y_test)"
   ]
  },
  {
   "cell_type": "markdown",
   "metadata": {},
   "source": [
    "For this train-test split, we had a validation set error of 0.0284, or 2.84% of the observations in the validation set that are misclassified."
   ]
  },
  {
   "cell_type": "markdown",
   "metadata": {},
   "source": [
    "## Part 3\n",
    "**Repeat the process in Part 2 three times, using three different splits of the observations into a training set and a validation set. Comment on the results obtained.**"
   ]
  },
  {
   "cell_type": "code",
   "execution_count": 5,
   "metadata": {},
   "outputs": [
    {
     "data": {
      "text/plain": [
       "0.03200000000000003"
      ]
     },
     "execution_count": 5,
     "metadata": {},
     "output_type": "execute_result"
    }
   ],
   "source": [
    "X_train, X_test, y_train, y_test = train_test_split(Default[[\"balance\", \"income\"]], Default[\"default\"],\n",
    "                                                   test_size = 0.25, random_state = 456)\n",
    "clf = LogisticRegression(penalty = \"none\", solver = \"lbfgs\")\n",
    "clf.fit(X_train, y_train)\n",
    "1 - clf.score(X_test, y_test)"
   ]
  },
  {
   "cell_type": "code",
   "execution_count": 6,
   "metadata": {},
   "outputs": [
    {
     "data": {
      "text/plain": [
       "0.034399999999999986"
      ]
     },
     "execution_count": 6,
     "metadata": {},
     "output_type": "execute_result"
    }
   ],
   "source": [
    "X_train, X_test, y_train, y_test = train_test_split(Default[[\"balance\", \"income\"]], Default[\"default\"],\n",
    "                                                   test_size = 0.25, random_state = 789)\n",
    "clf = LogisticRegression(penalty = \"none\", solver = \"lbfgs\")\n",
    "clf.fit(X_train, y_train)\n",
    "1 - clf.score(X_test, y_test)"
   ]
  },
  {
   "cell_type": "code",
   "execution_count": 7,
   "metadata": {},
   "outputs": [
    {
     "data": {
      "text/plain": [
       "0.031200000000000006"
      ]
     },
     "execution_count": 7,
     "metadata": {},
     "output_type": "execute_result"
    }
   ],
   "source": [
    "X_train, X_test, y_train, y_test = train_test_split(Default[[\"balance\", \"income\"]], Default[\"default\"],\n",
    "                                                   test_size = 0.25, random_state = 314159)\n",
    "clf = LogisticRegression(penalty = \"none\", solver = \"lbfgs\")\n",
    "clf.fit(X_train, y_train)\n",
    "1 - clf.score(X_test, y_test)"
   ]
  },
  {
   "cell_type": "code",
   "execution_count": 8,
   "metadata": {},
   "outputs": [
    {
     "data": {
      "text/plain": [
       "0.0333"
      ]
     },
     "execution_count": 8,
     "metadata": {},
     "output_type": "execute_result"
    }
   ],
   "source": [
    "(Default[\"default\"] != \"No\").mean()"
   ]
  },
  {
   "cell_type": "markdown",
   "metadata": {},
   "source": [
    "Using three different 75-25 splits of the data, our validation set error remained fairly consistent. The average error between this part and Part 2 was 0.0315, and errors were all within about 20% of each other. We also note, however, that these test errors are all fairly close to the error one would achieve with a naive strategy of just saying that nobody will default. The average of the test errors is only about 5% less than the error from using the naive strategy."
   ]
  },
  {
   "cell_type": "markdown",
   "metadata": {},
   "source": [
    "## Part 4\n",
    "**Now consider a logistic regression model that predicts the probability of `default` using `income`, `balance`, and a dummy variable for `student`. Estimate the test error for this model using the validation set approach. Comment on whether or not including a dummy variable for `student` leads to a reduction in the test error rate.**"
   ]
  },
  {
   "cell_type": "code",
   "execution_count": 9,
   "metadata": {},
   "outputs": [
    {
     "data": {
      "text/plain": [
       "0.0021280000000000075"
      ]
     },
     "execution_count": 9,
     "metadata": {},
     "output_type": "execute_result"
    }
   ],
   "source": [
    "np.random.seed(312)\n",
    "with_student = {}\n",
    "without_student = {}\n",
    "\n",
    "# Create two classifier pipelines\n",
    "# with_student takes the student variable and encodes it using one hot encoding, passes through income, balance\n",
    "# without_student drops the student variable and only passes through income and balance\n",
    "categorical_features = [\"student\"]\n",
    "categorical_transformer = Pipeline([(\"onehot\", OneHotEncoder(drop = \"first\"))])\n",
    "numerical_features = [\"income\", \"balance\"]\n",
    "with_student_preprocessor = ColumnTransformer([(\"cat\", categorical_transformer, categorical_features),\n",
    "                                 (\"num\", \"passthrough\", numerical_features)])\n",
    "with_student_clf = Pipeline([(\"preprocessor\", with_student_preprocessor), \n",
    "                (\"classifier\", LogisticRegression(penalty = \"none\", solver = \"lbfgs\"))])\n",
    "without_student_preprocessor = ColumnTransformer([(\"num\", \"passthrough\", numerical_features)])\n",
    "without_student_clf = Pipeline([(\"preprocessor\", without_student_preprocessor), \n",
    "                (\"classifier\", LogisticRegression(penalty = \"none\", solver = \"lbfgs\"))])\n",
    "\n",
    "# Loop through 50 train-test splits to compute average difference in error rate\n",
    "for i in range(50):\n",
    "    # Split the data in to training and test sets\n",
    "    X_train, X_test, y_train, y_test = train_test_split(Default, Default[\"default\"], test_size = 0.25)\n",
    "    # Fit classifier which includes student variable and compute validation set error\n",
    "    with_student_clf.fit(X_train, y_train)\n",
    "    with_student[i] = 1 - with_student_clf.score(X_test, y_test)\n",
    "    # Fit classifier which excludes student variable and compute validation set error\n",
    "    without_student_clf.fit(X_train, y_train)\n",
    "    without_student[i] = 1 - without_student_clf.score(X_test, y_test)\n",
    "errors = pd.DataFrame({\"with_student\": with_student, \"without_student\": without_student})\n",
    "errors[\"difference\"] = errors[\"with_student\"] - errors[\"without_student\"]\n",
    "errors[\"difference\"].mean()"
   ]
  },
  {
   "cell_type": "markdown",
   "metadata": {},
   "source": [
    "Looping through 50 train-test splits and comparing the error rates between the logistic regression model predicting `default` using `income`, `balance`, and `student` and the logistic regression model predicting `default` using just `income` and `balance` for each split, we see that, on average, including a dummy variable for `student` does not lead to a reduction in the test error rate. In fact, on average it resulted in a very slight increase in the test error rate."
   ]
  },
  {
   "cell_type": "markdown",
   "metadata": {},
   "source": [
    "# Applied Exercise 2\n",
    "\n",
    "**We continue to consider the use of a logistic regression model to predict the probability of `default` using `income` and `balance` on the `Default` data set. In particular, we will now compute estimates for the standard errors of the `income` and `balance` logistic regression coefficients in two different ways: (1) using the bootstrap, and (2) using the standard formula for computing the standard errors in the `Logit` class in StatsModels. Do not forget to set a random seed before beginning your analysis.**"
   ]
  },
  {
   "cell_type": "markdown",
   "metadata": {},
   "source": [
    "## Part 1\n",
    "**Using the `Logit` class in StatsModels, determine the estimated standard errors for the coefficients associated with `income` and `balance` in a multiple logistic regression model that uses both predictors.**"
   ]
  },
  {
   "cell_type": "code",
   "execution_count": 10,
   "metadata": {
    "scrolled": false
   },
   "outputs": [
    {
     "name": "stdout",
     "output_type": "stream",
     "text": [
      "Optimization terminated successfully.\n",
      "         Current function value: 0.078948\n",
      "         Iterations 10\n"
     ]
    },
    {
     "name": "stderr",
     "output_type": "stream",
     "text": [
      "C:\\Users\\Kyle\\Anaconda3\\envs\\islr\\lib\\site-packages\\numpy\\core\\fromnumeric.py:2389: FutureWarning: Method .ptp is deprecated and will be removed in a future version. Use numpy.ptp instead.\n",
      "  return ptp(axis=axis, out=out, **kwargs)\n"
     ]
    }
   ],
   "source": [
    "# Using the Logit class from StatsModels\n",
    "# First encode response numerically\n",
    "endog = (Default[\"default\"] == \"Yes\").astype(int)\n",
    "exog = sm.add_constant(Default[[\"income\", \"balance\"]])\n",
    "mod = sm.Logit(endog, exog)\n",
    "res = mod.fit()"
   ]
  },
  {
   "cell_type": "code",
   "execution_count": 11,
   "metadata": {},
   "outputs": [
    {
     "data": {
      "text/plain": [
       "4.985245461753051e-06"
      ]
     },
     "execution_count": 11,
     "metadata": {},
     "output_type": "execute_result"
    }
   ],
   "source": [
    "res.bse[\"income\"]"
   ]
  },
  {
   "cell_type": "code",
   "execution_count": 12,
   "metadata": {},
   "outputs": [
    {
     "data": {
      "text/plain": [
       "0.00022738138476844716"
      ]
     },
     "execution_count": 12,
     "metadata": {},
     "output_type": "execute_result"
    }
   ],
   "source": [
    "res.bse[\"balance\"]"
   ]
  },
  {
   "cell_type": "markdown",
   "metadata": {},
   "source": [
    "Using the `Logit` class in StatsModels, the estimated standard error for the estimated coefficient of `income` is $4.985 \\times 10^{-6}$, while the estimated standard error for the estimated coefficient of `balance` is $2.274 \\times 10^{-4}$. Note that we also could have used the `GLM` class in StatsModels as well. The difference between the classes for [regression with a discrete dependent variable](https://www.statsmodels.org/stable/discretemod.html) and those for [generalized linear models](https://www.statsmodels.org/stable/glm.html) are negligible when we are performing logistic regression, but are more meaningful for other regression situations."
   ]
  },
  {
   "cell_type": "markdown",
   "metadata": {},
   "source": [
    "## Part 2\n",
    "\n",
    "**Write a function, `boot_fn()` that takes as input the a sample of the `Default` data and a scikit-learn classifier model object, and that outputs the coefficient estimates for `income` and `balance` in the multiple logistic regression model.**"
   ]
  },
  {
   "cell_type": "code",
   "execution_count": 13,
   "metadata": {},
   "outputs": [],
   "source": [
    "def boot_fn(data, clf):\n",
    "    clf.fit(data[[\"income\", \"balance\"]], data[\"default\"])\n",
    "    return clf.coef_"
   ]
  },
  {
   "cell_type": "markdown",
   "metadata": {},
   "source": [
    "## Part 3\n",
    "**Use the `resample()` fuction together with your `boot_fn()` function to estimate the standard errors of the logistic regression coefficients for `income` and `balance` using the bootstrap.**"
   ]
  },
  {
   "cell_type": "code",
   "execution_count": 14,
   "metadata": {},
   "outputs": [],
   "source": [
    "np.random.seed(17)\n",
    "num_estimates = 10000\n",
    "boot_estimates = np.empty((num_estimates, 2))\n",
    "for i in range(num_estimates):\n",
    "    clf = LogisticRegression(penalty = \"none\", solver = \"lbfgs\")\n",
    "    sample = resample(Default)\n",
    "    coefs = boot_fn(sample, clf)\n",
    "    boot_estimates[i, 0] = coefs[0, 0]\n",
    "    boot_estimates[i, 1] = coefs[0, 1]"
   ]
  },
  {
   "cell_type": "code",
   "execution_count": 15,
   "metadata": {},
   "outputs": [],
   "source": [
    "boot_df = pd.DataFrame(boot_estimates, columns = [\"income\", \"balance\"])"
   ]
  },
  {
   "cell_type": "code",
   "execution_count": 16,
   "metadata": {},
   "outputs": [
    {
     "data": {
      "text/plain": [
       "7.334947123816397e-05"
      ]
     },
     "execution_count": 16,
     "metadata": {},
     "output_type": "execute_result"
    }
   ],
   "source": [
    "boot_df[\"income\"].std()"
   ]
  },
  {
   "cell_type": "code",
   "execution_count": 17,
   "metadata": {},
   "outputs": [
    {
     "data": {
      "text/plain": [
       "0.0025923464483329217"
      ]
     },
     "execution_count": 17,
     "metadata": {},
     "output_type": "execute_result"
    }
   ],
   "source": [
    "boot_df[\"balance\"].std()"
   ]
  },
  {
   "cell_type": "markdown",
   "metadata": {},
   "source": [
    "When using scikit-learn the bootstrap estimates for the standard errors of the logistic regression coefficients appear to be off by an order of magnitude. We can compare with the standard errors obtained when performing the bootstrap (using the same random seed for resampling) with StatsModels."
   ]
  },
  {
   "cell_type": "code",
   "execution_count": 18,
   "metadata": {},
   "outputs": [
    {
     "name": "stderr",
     "output_type": "stream",
     "text": [
      "C:\\Users\\Kyle\\Anaconda3\\envs\\islr\\lib\\site-packages\\numpy\\core\\fromnumeric.py:2389: FutureWarning: Method .ptp is deprecated and will be removed in a future version. Use numpy.ptp instead.\n",
      "  return ptp(axis=axis, out=out, **kwargs)\n"
     ]
    }
   ],
   "source": [
    "np.random.seed(17)\n",
    "num_estimates = 10000\n",
    "boot_estimates = np.empty((num_estimates, 2))\n",
    "for i in range(num_estimates):\n",
    "    sample = resample(Default)\n",
    "    endog = (sample[\"default\"] == \"Yes\").astype(int)\n",
    "    exog = sm.add_constant(sample[[\"income\", \"balance\"]])\n",
    "    mod = sm.Logit(endog, exog)\n",
    "    res = mod.fit(disp = False)\n",
    "    boot_estimates[i, 0] = res.params[\"income\"]\n",
    "    boot_estimates[i, 1] = res.params[\"balance\"]\n",
    "sm_df = pd.DataFrame(boot_estimates, columns = [\"income\", \"balance\"])"
   ]
  },
  {
   "cell_type": "code",
   "execution_count": 19,
   "metadata": {},
   "outputs": [
    {
     "data": {
      "text/plain": [
       "4.858313148393596e-06"
      ]
     },
     "execution_count": 19,
     "metadata": {},
     "output_type": "execute_result"
    }
   ],
   "source": [
    "sm_df[\"income\"].std()"
   ]
  },
  {
   "cell_type": "code",
   "execution_count": 20,
   "metadata": {},
   "outputs": [
    {
     "data": {
      "text/plain": [
       "0.00022847275797215077"
      ]
     },
     "execution_count": 20,
     "metadata": {},
     "output_type": "execute_result"
    }
   ],
   "source": [
    "sm_df[\"balance\"].std()"
   ]
  },
  {
   "cell_type": "markdown",
   "metadata": {},
   "source": [
    "The estimates for the standard errors of the logistic regression coefficients obtained when performing the bootstrap with StatsModels are much more in-line with the expected values when compared to the values I obtained from doing this exercise in R and also with the estimates from Part 1. Looking more closely at the coefficient estimates obtained from each bootstrap sample, we see that the coefficients obtained using scikit-learn have some strange values that do not match those obtained using StatsModels on the same sample. I think that this might be due to convergence issues that the underlying solver for scikit-learn's implementation of logistic regression encountered for certain samples, where the solver converges to a solution, but not the correct one due to aspects of the sample."
   ]
  },
  {
   "cell_type": "code",
   "execution_count": 21,
   "metadata": {},
   "outputs": [
    {
     "data": {
      "text/html": [
       "<div>\n",
       "<style scoped>\n",
       "    .dataframe tbody tr th:only-of-type {\n",
       "        vertical-align: middle;\n",
       "    }\n",
       "\n",
       "    .dataframe tbody tr th {\n",
       "        vertical-align: top;\n",
       "    }\n",
       "\n",
       "    .dataframe thead th {\n",
       "        text-align: right;\n",
       "    }\n",
       "</style>\n",
       "<table border=\"1\" class=\"dataframe\">\n",
       "  <thead>\n",
       "    <tr style=\"text-align: right;\">\n",
       "      <th></th>\n",
       "      <th>income</th>\n",
       "      <th>balance</th>\n",
       "      <th>income_sm</th>\n",
       "      <th>balance_sm</th>\n",
       "    </tr>\n",
       "  </thead>\n",
       "  <tbody>\n",
       "    <tr>\n",
       "      <td>0</td>\n",
       "      <td>-0.000127</td>\n",
       "      <td>0.000472</td>\n",
       "      <td>0.000020</td>\n",
       "      <td>0.005557</td>\n",
       "    </tr>\n",
       "    <tr>\n",
       "      <td>1</td>\n",
       "      <td>0.000024</td>\n",
       "      <td>0.005767</td>\n",
       "      <td>0.000024</td>\n",
       "      <td>0.005767</td>\n",
       "    </tr>\n",
       "    <tr>\n",
       "      <td>2</td>\n",
       "      <td>-0.000118</td>\n",
       "      <td>0.000331</td>\n",
       "      <td>0.000030</td>\n",
       "      <td>0.005479</td>\n",
       "    </tr>\n",
       "    <tr>\n",
       "      <td>3</td>\n",
       "      <td>0.000024</td>\n",
       "      <td>0.005686</td>\n",
       "      <td>0.000024</td>\n",
       "      <td>0.005686</td>\n",
       "    </tr>\n",
       "    <tr>\n",
       "      <td>4</td>\n",
       "      <td>-0.000125</td>\n",
       "      <td>0.000422</td>\n",
       "      <td>0.000016</td>\n",
       "      <td>0.005687</td>\n",
       "    </tr>\n",
       "  </tbody>\n",
       "</table>\n",
       "</div>"
      ],
      "text/plain": [
       "     income   balance  income_sm  balance_sm\n",
       "0 -0.000127  0.000472   0.000020    0.005557\n",
       "1  0.000024  0.005767   0.000024    0.005767\n",
       "2 -0.000118  0.000331   0.000030    0.005479\n",
       "3  0.000024  0.005686   0.000024    0.005686\n",
       "4 -0.000125  0.000422   0.000016    0.005687"
      ]
     },
     "execution_count": 21,
     "metadata": {},
     "output_type": "execute_result"
    }
   ],
   "source": [
    "coef_comparison = boot_df.join(sm_df, rsuffix = \"_sm\")\n",
    "coef_comparison.head()"
   ]
  },
  {
   "cell_type": "code",
   "execution_count": 22,
   "metadata": {},
   "outputs": [
    {
     "data": {
      "text/plain": [
       "(4316, 4)"
      ]
     },
     "execution_count": 22,
     "metadata": {},
     "output_type": "execute_result"
    }
   ],
   "source": [
    "coef_comparison[np.isclose(coef_comparison[\"income\"], coef_comparison[\"income_sm\"])].shape"
   ]
  },
  {
   "cell_type": "markdown",
   "metadata": {},
   "source": [
    "Using the [NumPy `isclose()` function](https://numpy.org/doc/1.16/reference/generated/numpy.isclose.html), we see that scikit-learn seemed to encounter convergence issues when estimating the logistic regression coefficients for about 57% of the bootstrap samples. If we look specifically at those samples which had convergence issues, then the bootstrap estimates for the standard errors of the scikit-learn coefficients are more in-line with those for the StatsModels coefficients. This suggests that the convergence issues scikit-learn encountered for certain bootstrap samples at least resulted in convergence to consistently incorrect coefficient estimates without too much variability."
   ]
  },
  {
   "cell_type": "code",
   "execution_count": 23,
   "metadata": {},
   "outputs": [],
   "source": [
    "close_coefs = np.isclose(coef_comparison[\"income\"], coef_comparison[\"income_sm\"])"
   ]
  },
  {
   "cell_type": "code",
   "execution_count": 24,
   "metadata": {},
   "outputs": [
    {
     "data": {
      "text/plain": [
       "income       -0.000126\n",
       "balance       0.000438\n",
       "income_sm     0.000020\n",
       "balance_sm    0.005680\n",
       "dtype: float64"
      ]
     },
     "execution_count": 24,
     "metadata": {},
     "output_type": "execute_result"
    }
   ],
   "source": [
    "coef_comparison[~close_coefs].mean()"
   ]
  },
  {
   "cell_type": "code",
   "execution_count": 25,
   "metadata": {},
   "outputs": [
    {
     "data": {
      "text/plain": [
       "8.752961708662195e-06"
      ]
     },
     "execution_count": 25,
     "metadata": {},
     "output_type": "execute_result"
    }
   ],
   "source": [
    "coef_comparison.loc[~close_coefs, \"income\"].std()"
   ]
  },
  {
   "cell_type": "code",
   "execution_count": 26,
   "metadata": {},
   "outputs": [
    {
     "data": {
      "text/plain": [
       "4.8768575616908896e-06"
      ]
     },
     "execution_count": 26,
     "metadata": {},
     "output_type": "execute_result"
    }
   ],
   "source": [
    "coef_comparison.loc[~close_coefs, \"income_sm\"].std()"
   ]
  },
  {
   "cell_type": "code",
   "execution_count": 27,
   "metadata": {},
   "outputs": [
    {
     "data": {
      "text/plain": [
       "0.0002805718618190253"
      ]
     },
     "execution_count": 27,
     "metadata": {},
     "output_type": "execute_result"
    }
   ],
   "source": [
    "coef_comparison.loc[~close_coefs, \"balance\"].std()"
   ]
  },
  {
   "cell_type": "code",
   "execution_count": 28,
   "metadata": {},
   "outputs": [
    {
     "data": {
      "text/plain": [
       "0.00023018058778552966"
      ]
     },
     "execution_count": 28,
     "metadata": {},
     "output_type": "execute_result"
    }
   ],
   "source": [
    "coef_comparison.loc[~close_coefs, \"balance_sm\"].std()"
   ]
  },
  {
   "cell_type": "markdown",
   "metadata": {},
   "source": [
    "To finish, we look at the estimated standard errors for the logistic regression coefficients for the bootstrap samples which did not cause scikit-learn to experience convergence issues. The estimates from scikit-learn and StatsModels agree up to five significant figures."
   ]
  },
  {
   "cell_type": "code",
   "execution_count": 29,
   "metadata": {},
   "outputs": [
    {
     "data": {
      "text/plain": [
       "4.770940015481915e-06"
      ]
     },
     "execution_count": 29,
     "metadata": {},
     "output_type": "execute_result"
    }
   ],
   "source": [
    "coef_comparison.loc[close_coefs, \"income\"].std()"
   ]
  },
  {
   "cell_type": "code",
   "execution_count": 30,
   "metadata": {},
   "outputs": [
    {
     "data": {
      "text/plain": [
       "4.770947342643109e-06"
      ]
     },
     "execution_count": 30,
     "metadata": {},
     "output_type": "execute_result"
    }
   ],
   "source": [
    "coef_comparison.loc[close_coefs, \"income_sm\"].std()"
   ]
  },
  {
   "cell_type": "code",
   "execution_count": 31,
   "metadata": {},
   "outputs": [
    {
     "data": {
      "text/plain": [
       "0.00022469643206981835"
      ]
     },
     "execution_count": 31,
     "metadata": {},
     "output_type": "execute_result"
    }
   ],
   "source": [
    "coef_comparison.loc[close_coefs, \"balance\"].std()"
   ]
  },
  {
   "cell_type": "code",
   "execution_count": 32,
   "metadata": {},
   "outputs": [
    {
     "data": {
      "text/plain": [
       "0.0002246953718114099"
      ]
     },
     "execution_count": 32,
     "metadata": {},
     "output_type": "execute_result"
    }
   ],
   "source": [
    "coef_comparison.loc[close_coefs, \"balance_sm\"].std()"
   ]
  },
  {
   "cell_type": "markdown",
   "metadata": {},
   "source": [
    "Using the bootstrap, the estimated standard errors of the logistic regression coefficients for `income` and `balance` are $4.771 \\times 10^{-6}$ and $2.247 \\times 10^{-4}$, respectively."
   ]
  },
  {
   "cell_type": "markdown",
   "metadata": {},
   "source": [
    "## Part 4\n",
    "\n",
    "**Comment on the estimated standard errors obtained using the `Logit` class and using your bootstrap function.**"
   ]
  },
  {
   "cell_type": "markdown",
   "metadata": {},
   "source": [
    "The standard errors obtained by the bootstrap appear to be a quite close to those obtained using the statistical formulas underlying the `Logit` class. However, as mentioned above, it appeared that scikit-learn encountered convergence issues when estimating the coefficients for certain bootstrap samples. After separating the bootstrap coefficient estimates into two categories: those which resulted from scikit-learn convergence issues and those which did not, we saw that the estimated standard errors for the coefficients within each category were fairly close to those obtained using statistical formulas underlying the `Logit` class. This suggests that the data satisfies the underlying assumptions of a logistic regression model: the responses $Y_i$ are independent random variables coming from Bernoulli distributions with probabilities $P_i$, and the log-odds corresponding to $P_i$ is a linear combination of the predictors."
   ]
  },
  {
   "cell_type": "markdown",
   "metadata": {},
   "source": [
    "# Applied Exercise 3\n",
    "\n",
    "**In Sections 5.3.2 and 5.3.3, we saw that the `cross_val_score()` function can be used in order to compute the LOOCV test error estimate. Alternatively, one could compute those quantities using just the `fit()` and `score()` functions for a `LogisticRegression` object, and a for loop. You will now take this approach in order to compute the LOOCV error for a simple logistic regression model on the `Weekly` data set. Recall that in the context of classification problems, the LOOCV error is given by the following formula.**\n",
    "\n",
    "\\begin{equation}\n",
    "    \\text{CV}_{(n)} = \\frac{1}{n} \\sum_{i = 1}^n I(y_i \\neq \\hat{y}_i)\n",
    "\\end{equation}"
   ]
  },
  {
   "cell_type": "code",
   "execution_count": 33,
   "metadata": {},
   "outputs": [
    {
     "data": {
      "text/html": [
       "<div>\n",
       "<style scoped>\n",
       "    .dataframe tbody tr th:only-of-type {\n",
       "        vertical-align: middle;\n",
       "    }\n",
       "\n",
       "    .dataframe tbody tr th {\n",
       "        vertical-align: top;\n",
       "    }\n",
       "\n",
       "    .dataframe thead th {\n",
       "        text-align: right;\n",
       "    }\n",
       "</style>\n",
       "<table border=\"1\" class=\"dataframe\">\n",
       "  <thead>\n",
       "    <tr style=\"text-align: right;\">\n",
       "      <th></th>\n",
       "      <th>Year</th>\n",
       "      <th>Lag1</th>\n",
       "      <th>Lag2</th>\n",
       "      <th>Lag3</th>\n",
       "      <th>Lag4</th>\n",
       "      <th>Lag5</th>\n",
       "      <th>Volume</th>\n",
       "      <th>Today</th>\n",
       "      <th>Direction</th>\n",
       "    </tr>\n",
       "  </thead>\n",
       "  <tbody>\n",
       "    <tr>\n",
       "      <td>0</td>\n",
       "      <td>1990</td>\n",
       "      <td>0.816</td>\n",
       "      <td>1.572</td>\n",
       "      <td>-3.936</td>\n",
       "      <td>-0.229</td>\n",
       "      <td>-3.484</td>\n",
       "      <td>0.154976</td>\n",
       "      <td>-0.270</td>\n",
       "      <td>Down</td>\n",
       "    </tr>\n",
       "    <tr>\n",
       "      <td>1</td>\n",
       "      <td>1990</td>\n",
       "      <td>-0.270</td>\n",
       "      <td>0.816</td>\n",
       "      <td>1.572</td>\n",
       "      <td>-3.936</td>\n",
       "      <td>-0.229</td>\n",
       "      <td>0.148574</td>\n",
       "      <td>-2.576</td>\n",
       "      <td>Down</td>\n",
       "    </tr>\n",
       "    <tr>\n",
       "      <td>2</td>\n",
       "      <td>1990</td>\n",
       "      <td>-2.576</td>\n",
       "      <td>-0.270</td>\n",
       "      <td>0.816</td>\n",
       "      <td>1.572</td>\n",
       "      <td>-3.936</td>\n",
       "      <td>0.159837</td>\n",
       "      <td>3.514</td>\n",
       "      <td>Up</td>\n",
       "    </tr>\n",
       "    <tr>\n",
       "      <td>3</td>\n",
       "      <td>1990</td>\n",
       "      <td>3.514</td>\n",
       "      <td>-2.576</td>\n",
       "      <td>-0.270</td>\n",
       "      <td>0.816</td>\n",
       "      <td>1.572</td>\n",
       "      <td>0.161630</td>\n",
       "      <td>0.712</td>\n",
       "      <td>Up</td>\n",
       "    </tr>\n",
       "    <tr>\n",
       "      <td>4</td>\n",
       "      <td>1990</td>\n",
       "      <td>0.712</td>\n",
       "      <td>3.514</td>\n",
       "      <td>-2.576</td>\n",
       "      <td>-0.270</td>\n",
       "      <td>0.816</td>\n",
       "      <td>0.153728</td>\n",
       "      <td>1.178</td>\n",
       "      <td>Up</td>\n",
       "    </tr>\n",
       "  </tbody>\n",
       "</table>\n",
       "</div>"
      ],
      "text/plain": [
       "   Year   Lag1   Lag2   Lag3   Lag4   Lag5    Volume  Today Direction\n",
       "0  1990  0.816  1.572 -3.936 -0.229 -3.484  0.154976 -0.270      Down\n",
       "1  1990 -0.270  0.816  1.572 -3.936 -0.229  0.148574 -2.576      Down\n",
       "2  1990 -2.576 -0.270  0.816  1.572 -3.936  0.159837  3.514        Up\n",
       "3  1990  3.514 -2.576 -0.270  0.816  1.572  0.161630  0.712        Up\n",
       "4  1990  0.712  3.514 -2.576 -0.270  0.816  0.153728  1.178        Up"
      ]
     },
     "execution_count": 33,
     "metadata": {},
     "output_type": "execute_result"
    }
   ],
   "source": [
    "weekly_filepath = \"Weekly.csv\"\n",
    "weekly = pd.read_csv(weekly_filepath)\n",
    "weekly.head()"
   ]
  },
  {
   "cell_type": "markdown",
   "metadata": {},
   "source": [
    "## Part 1\n",
    "**Fit a logistic regression model that predicts `Direction` using `Lag1` and `Lag2`.**"
   ]
  },
  {
   "cell_type": "code",
   "execution_count": 35,
   "metadata": {},
   "outputs": [
    {
     "name": "stdout",
     "output_type": "stream",
     "text": [
      "[[-0.03872222  0.0602483 ]] [0.22122405]\n"
     ]
    }
   ],
   "source": [
    "X = weekly[[\"Lag1\", \"Lag2\"]]\n",
    "y = weekly[\"Direction\"]\n",
    "clf = LogisticRegression(penalty = \"none\", solver = \"lbfgs\")\n",
    "clf.fit(X, y)\n",
    "print(clf.coef_, clf.intercept_)"
   ]
  },
  {
   "cell_type": "markdown",
   "metadata": {},
   "source": [
    "## Part 2\n",
    "**Fit a logistic regression model that predicts `Direction` using `Lag1` and `Lag2` *using all but the first observation*.**"
   ]
  },
  {
   "cell_type": "code",
   "execution_count": 37,
   "metadata": {},
   "outputs": [
    {
     "name": "stdout",
     "output_type": "stream",
     "text": [
      "[[-0.03843317  0.06084763]] [0.22324305]\n"
     ]
    }
   ],
   "source": [
    "X_loo = weekly.loc[weekly.index != 0, [\"Lag1\", \"Lag2\"]]\n",
    "y_loo = weekly.loc[weekly.index != 0, \"Direction\"]\n",
    "clf = LogisticRegression(penalty = \"none\", solver = \"lbfgs\")\n",
    "clf.fit(X_loo, y_loo)\n",
    "print(clf.coef_, clf.intercept_)"
   ]
  },
  {
   "cell_type": "markdown",
   "metadata": {},
   "source": [
    "## Part 3\n",
    "**Use the model from Part 2 to predict the direction of the first observation. You can do this by predicting that the first observation will go up if $P(\\text{Direction} = \\text{\"Up\"} | \\text{Lag1, Lag2}) > 0.5$. Was this observation correctly classified?**"
   ]
  },
  {
   "cell_type": "code",
   "execution_count": 49,
   "metadata": {},
   "outputs": [
    {
     "data": {
      "text/plain": [
       "array([[0.42860768, 0.57139232]])"
      ]
     },
     "execution_count": 49,
     "metadata": {},
     "output_type": "execute_result"
    }
   ],
   "source": [
    "clf.predict_proba(weekly.loc[0, [\"Lag1\", \"Lag2\"]].to_frame().T)"
   ]
  },
  {
   "cell_type": "code",
   "execution_count": 50,
   "metadata": {},
   "outputs": [
    {
     "data": {
      "text/plain": [
       "array(['Up'], dtype=object)"
      ]
     },
     "execution_count": 50,
     "metadata": {},
     "output_type": "execute_result"
    }
   ],
   "source": [
    "clf.predict(weekly.loc[0, [\"Lag1\", \"Lag2\"]].to_frame().T)"
   ]
  },
  {
   "cell_type": "code",
   "execution_count": 51,
   "metadata": {},
   "outputs": [
    {
     "data": {
      "text/plain": [
       "Year             1990\n",
       "Lag1            0.816\n",
       "Lag2            1.572\n",
       "Lag3           -3.936\n",
       "Lag4           -0.229\n",
       "Lag5           -3.484\n",
       "Volume       0.154976\n",
       "Today           -0.27\n",
       "Direction        Down\n",
       "Name: 0, dtype: object"
      ]
     },
     "execution_count": 51,
     "metadata": {},
     "output_type": "execute_result"
    }
   ],
   "source": [
    "weekly.iloc[0]"
   ]
  },
  {
   "cell_type": "markdown",
   "metadata": {},
   "source": [
    "Using the model from Part 2, we predict that the first observation will go up, since the predicted posterior probability from the model is 0.4286 that the direction will be down and 0.5714 that the direction will be up. This observation was incorrectly classified."
   ]
  },
  {
   "cell_type": "markdown",
   "metadata": {},
   "source": [
    "## Part 4\n",
    "**Write a for loop from $i = 1$ to $i = n$, where $n$ is the number of observations in the data set, that performs each of the following steps:**\n",
    "\n",
    "1. **Fit a logistic regression model using all but the $i$th observation to predict `Direction` using `Lag1` and `Lag2`.**\n",
    "2. **Compute the posterior probability of the market moving up for the $i$th observation.**\n",
    "3. **Use the posterior probability for the $i$th observation in order to predict whether or not the market moves up.**\n",
    "4. **Determine whether or not an error was made in predicting the direction for the $i$th observation. If an error was made, then indicate this as a 1, and otherwise indicate it as a 0.**"
   ]
  },
  {
   "cell_type": "code",
   "execution_count": 57,
   "metadata": {},
   "outputs": [],
   "source": [
    "n = weekly.shape[0]\n",
    "scores = np.empty(n)\n",
    "clf = LogisticRegression(penalty = \"none\", solver = \"lbfgs\")\n",
    "for i in range(n):\n",
    "    X_loo = weekly.loc[weekly.index != i, [\"Lag1\", \"Lag2\"]]\n",
    "    y_loo = weekly.loc[weekly.index != i, \"Direction\"]\n",
    "    clf.fit(X_loo, y_loo)\n",
    "    scores[i] = clf.score(weekly.loc[i, [\"Lag1\", \"Lag2\"]].to_frame().T, pd.Series(weekly.loc[i, \"Direction\"]))"
   ]
  },
  {
   "cell_type": "markdown",
   "metadata": {},
   "source": [
    "## Part 5\n",
    "**Take the average of the $n$ numbers obtained in Step 4 of Part 4 in order to obtain the LOOCV estimate for the test error. Comment on the results.**"
   ]
  },
  {
   "cell_type": "code",
   "execution_count": 58,
   "metadata": {},
   "outputs": [
    {
     "data": {
      "text/plain": [
       "0.5500459136822773"
      ]
     },
     "execution_count": 58,
     "metadata": {},
     "output_type": "execute_result"
    }
   ],
   "source": [
    "scores.mean()"
   ]
  },
  {
   "cell_type": "code",
   "execution_count": 59,
   "metadata": {},
   "outputs": [
    {
     "data": {
      "text/plain": [
       "0.44995408631772266"
      ]
     },
     "execution_count": 59,
     "metadata": {},
     "output_type": "execute_result"
    }
   ],
   "source": [
    "errors = 1 - scores\n",
    "errors.mean()"
   ]
  },
  {
   "cell_type": "code",
   "execution_count": 62,
   "metadata": {},
   "outputs": [
    {
     "data": {
      "text/plain": [
       "0.5500459136822773"
      ]
     },
     "execution_count": 62,
     "metadata": {},
     "output_type": "execute_result"
    }
   ],
   "source": [
    "# Using cross_val_score to compare results with LeaveOneOut splitter\n",
    "X = weekly[[\"Lag1\", \"Lag2\"]]\n",
    "y = weekly[\"Direction\"]\n",
    "clf = LogisticRegression(penalty = \"none\", solver = \"lbfgs\")\n",
    "loo = LeaveOneOut()\n",
    "cv_scores = cross_val_score(clf, X, y, cv = loo)\n",
    "cv_scores.mean()"
   ]
  },
  {
   "cell_type": "code",
   "execution_count": 63,
   "metadata": {},
   "outputs": [
    {
     "data": {
      "text/plain": [
       "0.4499540863177227"
      ]
     },
     "execution_count": 63,
     "metadata": {},
     "output_type": "execute_result"
    }
   ],
   "source": [
    "1 - cv_scores.mean()"
   ]
  },
  {
   "cell_type": "code",
   "execution_count": 64,
   "metadata": {},
   "outputs": [
    {
     "data": {
      "text/plain": [
       "0.4444444444444444"
      ]
     },
     "execution_count": 64,
     "metadata": {},
     "output_type": "execute_result"
    }
   ],
   "source": [
    "(weekly[\"Direction\"] != \"Up\").mean()"
   ]
  },
  {
   "cell_type": "markdown",
   "metadata": {},
   "source": [
    "The LOOCV estimate for the test error is approximately 0.45, which matches the value we get if we use `cross_val_score()` with the `LeaveOneOut()` splitter to compute the error. This tells us that the logistic regression model using `Lag1` and `Lag2` to predict `Direction` by using a probability threshold of 0.5 performed a bit better than randomly guessing. However, it is important to note that we get essentially the same error rate with a naive strategy of predicting that the market will go up every week. \n",
    "\n",
    "Note that when using `cross_val_score` to compute the LOOCV test error, it computes scores using the `score()` function associated with the estimator class by default. In the case of logistic regression with two classes, this is the accuracy score computed using a posterior probability threshold of 0.5. However, it is important to note that performing classification using logistic regression like we have done in this chapter involves choosing a probability threshold for assigning class predictions, based on the posterior probabilities predicted by the logistic regresion model. Since on its own logistic regression is ***not*** a classification method, we may wish to instead compute scores/errors associated with the posterior probabilities instead. To do that, we should either pick one of the [scorers or metrics as discussed in the scikit-learn documentation](https://scikit-learn.org/stable/modules/model_evaluation.html#scoring-parameter) and supply that for the `scoring` argument."
   ]
  },
  {
   "cell_type": "markdown",
   "metadata": {},
   "source": [
    "# Applied Exercise 4\n",
    "\n",
    "**We will now perform cross-validation on a simulated data set.**"
   ]
  },
  {
   "cell_type": "markdown",
   "metadata": {},
   "source": [
    "## Part 1\n",
    "**Generate a simulated data set as follows:**\n",
    "\n",
    "```\n",
    "> np.random.seed(312)\n",
    "> x = np.random.normal(size = 100)\n",
    "> y = x - 2*x**2 + np.random.normal(size = 100)\n",
    "```\n",
    "\n",
    "**In this data set, what is $n$ and what is $p$? Write out the model used to generate the data in equation form.**"
   ]
  },
  {
   "cell_type": "code",
   "execution_count": 65,
   "metadata": {},
   "outputs": [],
   "source": [
    "np.random.seed(312)\n",
    "x = np.random.normal(size = 100)\n",
    "y = x - 2*x**2 + np.random.normal(size = 100)"
   ]
  },
  {
   "cell_type": "markdown",
   "metadata": {},
   "source": [
    "In this data set, $n = 100$ and $p = 1$. In other words, there is one predictor and 100 observations. In equation form, the model used to generate the data is $Y = X - 2X^2 + \\epsilon$."
   ]
  },
  {
   "cell_type": "markdown",
   "metadata": {},
   "source": [
    "## Part 2\n",
    "**Create a scatterplot of $X$ against $Y$. Comment on what you find.**"
   ]
  },
  {
   "cell_type": "code",
   "execution_count": 73,
   "metadata": {},
   "outputs": [
    {
     "data": {
      "image/png": "[encoded data removed]",
      "text/plain": [
       "<Figure size 720x576 with 1 Axes>"
      ]
     },
     "metadata": {},
     "output_type": "display_data"
    }
   ],
   "source": [
    "fig, ax = plt.subplots(figsize = (10, 8))\n",
    "ax.scatter(x, y)\n",
    "\n",
    "#Plot parabola used to model the data set\n",
    "x_range = np.linspace(start = -2.5, stop = 2.5)\n",
    "parabola = x_range - 2*x_range**2\n",
    "ax.plot(x_range, parabola, color = \"orange\", linestyle = \"--\");"
   ]
  },
  {
   "cell_type": "markdown",
   "metadata": {},
   "source": [
    "While there is some noise, especially around the vertex of parabola for the model underlying the data, we can see that for the most part the scatterplot is fairly parabolic."
   ]
  },
  {
   "cell_type": "markdown",
   "metadata": {},
   "source": [
    "## Part 3\n",
    "**Set a random seed, and then compute the LOOCV errors that result from fitting the following four models using least squares:**\n",
    "\n",
    "1. $Y = \\beta_0 + \\beta_1X + \\epsilon$\n",
    "2. $Y = \\beta_0 + \\beta_1X + \\beta_2X^2 + \\epsilon$\n",
    "3. $Y = \\beta_0 + \\beta_1X + \\beta_2X^2 + \\beta_3X^3 + \\epsilon$\n",
    "4. $Y = \\beta_0 + \\beta_1X + \\beta_2X^2 + \\beta_3X^3 + \\beta_4X^4 + \\epsilon$\n",
    "\n",
    "**Note that you may find it helpful to use the `pandas.DataFrame()` function to create a single dataset containing both $X$ and $Y$.**"
   ]
  },
  {
   "cell_type": "code",
   "execution_count": 81,
   "metadata": {},
   "outputs": [
    {
     "data": {
      "text/plain": [
       "1    8.015655\n",
       "2    0.807797\n",
       "3    0.823459\n",
       "4    0.827053\n",
       "dtype: float64"
      ]
     },
     "execution_count": 81,
     "metadata": {},
     "output_type": "execute_result"
    }
   ],
   "source": [
    "np.random.seed(312)\n",
    "loocv_scores = pd.Series()\n",
    "for i in range(1, 5):\n",
    "    poly_reg = Pipeline([(\"poly\", PolynomialFeatures(degree = i)), (\"reg\", LinearRegression())])\n",
    "    loo = LeaveOneOut()\n",
    "    cv_scores = cross_val_score(poly_reg, x.reshape(-1, 1), y, scoring = \"neg_mean_squared_error\", cv = loo)\n",
    "    loocv_scores.loc[i] = abs(cv_scores.mean())\n",
    "loocv_scores"
   ]
  },
  {
   "cell_type": "markdown",
   "metadata": {},
   "source": [
    "We have the following LOOCV errors.\n",
    "\n",
    "- For the linear model $Y = \\beta_0 + \\beta_1X + \\epsilon$ it is 8.016.\n",
    "- For the quadratic model $Y = \\beta_0 + \\beta_1X + \\beta_2X^2 + \\epsilon$ it is 0.808.\n",
    "- For the cubic model $Y = \\beta_0 + \\beta_1X + \\beta_2X^2 + \\beta_3X^3 + \\epsilon$ it is 0.823.\n",
    "- For the quartic model $Y = \\beta_0 + \\beta_1X + \\beta_2X^2 + \\beta_3X^3 + \\beta_4X^4 + \\epsilon$ it is 0.827."
   ]
  },
  {
   "cell_type": "markdown",
   "metadata": {},
   "source": [
    "## Part 4\n",
    "**Repeat Part 3 using another random seed, and report your results. Are your results the same as what you got in Part 3? Why or why not?**"
   ]
  },
  {
   "cell_type": "code",
   "execution_count": 82,
   "metadata": {},
   "outputs": [
    {
     "data": {
      "text/plain": [
       "1    8.015655\n",
       "2    0.807797\n",
       "3    0.823459\n",
       "4    0.827053\n",
       "dtype: float64"
      ]
     },
     "execution_count": 82,
     "metadata": {},
     "output_type": "execute_result"
    }
   ],
   "source": [
    "np.random.seed(42)\n",
    "loocv_scores = pd.Series()\n",
    "for i in range(1, 5):\n",
    "    poly_reg = Pipeline([(\"poly\", PolynomialFeatures(degree = i)), (\"reg\", LinearRegression())])\n",
    "    loo = LeaveOneOut()\n",
    "    cv_scores = cross_val_score(poly_reg, x.reshape(-1, 1), y, scoring = \"neg_mean_squared_error\", cv = loo)\n",
    "    loocv_scores.loc[i] = abs(cv_scores.mean())\n",
    "loocv_scores"
   ]
  },
  {
   "cell_type": "markdown",
   "metadata": {},
   "source": [
    "The LOOCV errors for each model are the same as those computed in Part 3, even with a different seed. This makes sense since LOOCV does not involve any randomness. It always involves fitting a model $\\mathcal{M}_i$ using all of the observations except for observation $X_i$, computing the error between the predicted value $\\hat{Y}_i$ obtained from the model $\\mathcal{M}_i$ and the actual value $Y_i$, and then taking the average of the errors over all $n$ models for the $n$ observations in the data set."
   ]
  },
  {
   "cell_type": "markdown",
   "metadata": {},
   "source": [
    "## Part 5\n",
    "**Which of the models in Part 3 had the smallest LOOCV error? Is this what you expected? Explain your answer.**"
   ]
  },
  {
   "cell_type": "markdown",
   "metadata": {},
   "source": [
    "The quadratic model in Part 3 had the smallest LOOCV error, though the cubic and quartic models also had close LOOCV error values, especially compared to the much larger LOOCV error value for the linear model. This is what I expected, since the true model used to produce the simulated data was a quadratic one."
   ]
  },
  {
   "cell_type": "markdown",
   "metadata": {},
   "source": [
    "## Part 6\n",
    "**Comment on the statistical significance of the coefficient estimates that results from fitting each of the models in Part 3 using least squares. Do these results agree with the conclusions drawn based on the cross-validation results?**"
   ]
  },
  {
   "cell_type": "markdown",
   "metadata": {},
   "source": [
    "Note that we orthogonalize the polynomials for each of the higher-order polynomial fits py using a QR decomposition, as orthogonal polynomials allows for more clear evaluation of the statistical significance of the coefficient estimates for the higher order terms."
   ]
  },
  {
   "cell_type": "code",
   "execution_count": 91,
   "metadata": {},
   "outputs": [
    {
     "name": "stdout",
     "output_type": "stream",
     "text": [
      "                            OLS Regression Results                            \n",
      "==============================================================================\n",
      "Dep. Variable:                      y   R-squared:                       0.049\n",
      "Model:                            OLS   Adj. R-squared:                  0.039\n",
      "Method:                 Least Squares   F-statistic:                     5.012\n",
      "Date:                Tue, 28 Jan 2020   Prob (F-statistic):             0.0274\n",
      "Time:                        16:17:04   Log-Likelihood:                -241.53\n",
      "No. Observations:                 100   AIC:                             487.1\n",
      "Df Residuals:                      98   BIC:                             492.3\n",
      "Df Model:                           1                                         \n",
      "Covariance Type:            nonrobust                                         \n",
      "==============================================================================\n",
      "                 coef    std err          t      P>|t|      [0.025      0.975]\n",
      "------------------------------------------------------------------------------\n",
      "const         -1.6505      0.274     -6.033      0.000      -2.193      -1.108\n",
      "x1             6.1251      2.736      2.239      0.027       0.696      11.554\n",
      "==============================================================================\n",
      "Omnibus:                       38.791   Durbin-Watson:                   2.070\n",
      "Prob(Omnibus):                  0.000   Jarque-Bera (JB):               73.529\n",
      "Skew:                          -1.612   Prob(JB):                     1.08e-16\n",
      "Kurtosis:                       5.692   Cond. No.                         10.0\n",
      "==============================================================================\n",
      "\n",
      "Warnings:\n",
      "[1] Standard Errors assume that the covariance matrix of the errors is correctly specified.\n",
      "\n",
      "p-values:  [2.86486528e-08 2.74310798e-02]\n"
     ]
    }
   ],
   "source": [
    "poly = PolynomialFeatures(degree = 1, include_bias = True)\n",
    "# Orthogonalize the powers of the predictor using QR decomposition\n",
    "ortho_X = np.linalg.qr(poly.fit_transform(x.reshape(-1, 1)))[0][:, 1:]\n",
    "exog = sm.add_constant(ortho_X)\n",
    "endog = y\n",
    "mod = sm.OLS(endog, exog)\n",
    "res = mod.fit()\n",
    "print(res.summary())\n",
    "print(\"\\np-values: \", res.pvalues)"
   ]
  },
  {
   "cell_type": "markdown",
   "metadata": {},
   "source": [
    "In the linear model, the coefficient estimate is statistically significant at the 5% level. This result agrees with the high LOOCV error obtained in Part 3, which suggested that a purely linear fit was not appropriate."
   ]
  },
  {
   "cell_type": "code",
   "execution_count": 92,
   "metadata": {},
   "outputs": [
    {
     "name": "stdout",
     "output_type": "stream",
     "text": [
      "                            OLS Regression Results                            \n",
      "==============================================================================\n",
      "Dep. Variable:                      y   R-squared:                       0.901\n",
      "Model:                            OLS   Adj. R-squared:                  0.899\n",
      "Method:                 Least Squares   F-statistic:                     441.9\n",
      "Date:                Tue, 28 Jan 2020   Prob (F-statistic):           1.85e-49\n",
      "Time:                        16:17:16   Log-Likelihood:                -128.34\n",
      "No. Observations:                 100   AIC:                             262.7\n",
      "Df Residuals:                      97   BIC:                             270.5\n",
      "Df Model:                           2                                         \n",
      "Covariance Type:            nonrobust                                         \n",
      "==============================================================================\n",
      "                 coef    std err          t      P>|t|      [0.025      0.975]\n",
      "------------------------------------------------------------------------------\n",
      "const         -1.6505      0.089    -18.615      0.000      -1.827      -1.475\n",
      "x1             6.1251      0.887      6.908      0.000       4.365       7.885\n",
      "x2            25.6376      0.887     28.914      0.000      23.878      27.397\n",
      "==============================================================================\n",
      "Omnibus:                        1.818   Durbin-Watson:                   2.196\n",
      "Prob(Omnibus):                  0.403   Jarque-Bera (JB):                1.859\n",
      "Skew:                           0.303   Prob(JB):                        0.395\n",
      "Kurtosis:                       2.718   Cond. No.                         10.0\n",
      "==============================================================================\n",
      "\n",
      "Warnings:\n",
      "[1] Standard Errors assume that the covariance matrix of the errors is correctly specified.\n",
      "\n",
      "p-values:  [8.77668424e-34 5.15996850e-10 1.77505792e-49]\n"
     ]
    }
   ],
   "source": [
    "poly = PolynomialFeatures(degree = 2, include_bias = True)\n",
    "# Orthogonalize the powers of the predictor using QR decomposition\n",
    "ortho_X = np.linalg.qr(poly.fit_transform(x.reshape(-1, 1)))[0][:, 1:]\n",
    "exog = sm.add_constant(ortho_X)\n",
    "endog = y\n",
    "mod = sm.OLS(endog, exog)\n",
    "res = mod.fit()\n",
    "print(res.summary())\n",
    "print(\"\\np-values: \", res.pvalues)"
   ]
  },
  {
   "cell_type": "markdown",
   "metadata": {},
   "source": [
    "In the quadratic model, both coefficient estimates are highly statistically significant. In particular, the p-values for the coefficients of both the quadratic and linear terms are essentially zero. This agrees with the large drop in LOOCV error going from the linear fit to the quadratic fit, which suggested that a quadratic fit was more appropriate than a purely linear one."
   ]
  },
  {
   "cell_type": "code",
   "execution_count": 93,
   "metadata": {},
   "outputs": [
    {
     "name": "stdout",
     "output_type": "stream",
     "text": [
      "                            OLS Regression Results                            \n",
      "==============================================================================\n",
      "Dep. Variable:                      y   R-squared:                       0.901\n",
      "Model:                            OLS   Adj. R-squared:                  0.898\n",
      "Method:                 Least Squares   F-statistic:                     292.2\n",
      "Date:                Tue, 28 Jan 2020   Prob (F-statistic):           3.98e-48\n",
      "Time:                        16:17:53   Log-Likelihood:                -128.24\n",
      "No. Observations:                 100   AIC:                             264.5\n",
      "Df Residuals:                      96   BIC:                             274.9\n",
      "Df Model:                           3                                         \n",
      "Covariance Type:            nonrobust                                         \n",
      "==============================================================================\n",
      "                 coef    std err          t      P>|t|      [0.025      0.975]\n",
      "------------------------------------------------------------------------------\n",
      "const         -1.6505      0.089    -18.538      0.000      -1.827      -1.474\n",
      "x1             6.1251      0.890      6.880      0.000       4.358       7.892\n",
      "x2            25.6376      0.890     28.795      0.000      23.870      27.405\n",
      "x3             0.4019      0.890      0.451      0.653      -1.365       2.169\n",
      "==============================================================================\n",
      "Omnibus:                        1.960   Durbin-Watson:                   2.185\n",
      "Prob(Omnibus):                  0.375   Jarque-Bera (JB):                1.984\n",
      "Skew:                           0.320   Prob(JB):                        0.371\n",
      "Kurtosis:                       2.743   Cond. No.                         10.0\n",
      "==============================================================================\n",
      "\n",
      "Warnings:\n",
      "[1] Standard Errors assume that the covariance matrix of the errors is correctly specified.\n",
      "\n",
      "p-values:  [1.74176823e-33 6.12079008e-10 5.05078872e-49 6.52745322e-01]\n"
     ]
    }
   ],
   "source": [
    "poly = PolynomialFeatures(degree = 3, include_bias = True)\n",
    "# Orthogonalize the powers of the predictor using QR decomposition\n",
    "ortho_X = np.linalg.qr(poly.fit_transform(x.reshape(-1, 1)))[0][:, 1:]\n",
    "exog = sm.add_constant(ortho_X)\n",
    "endog = y\n",
    "mod = sm.OLS(endog, exog)\n",
    "res = mod.fit()\n",
    "print(res.summary())\n",
    "print(\"\\np-values: \", res.pvalues)"
   ]
  },
  {
   "cell_type": "markdown",
   "metadata": {},
   "source": [
    "In the cubic model, the linear and quadratic terms are both highly statistically significant, but the cubic term is not. In particular, the p-value for the cubic term is 0.653, which is quite high. This agrees with the fact that while the LOOCV error for the cubic fit is still much lower than the LOOCV error for the linear fit, it is slightly higher than this LOOCV error for the quadratic fit, which suggests that a quadratic fit is likely to be more appropriate than a cubic fit."
   ]
  },
  {
   "cell_type": "code",
   "execution_count": 94,
   "metadata": {},
   "outputs": [
    {
     "name": "stdout",
     "output_type": "stream",
     "text": [
      "                            OLS Regression Results                            \n",
      "==============================================================================\n",
      "Dep. Variable:                      y   R-squared:                       0.903\n",
      "Model:                            OLS   Adj. R-squared:                  0.899\n",
      "Method:                 Least Squares   F-statistic:                     220.2\n",
      "Date:                Tue, 28 Jan 2020   Prob (F-statistic):           3.87e-47\n",
      "Time:                        16:18:59   Log-Likelihood:                -127.55\n",
      "No. Observations:                 100   AIC:                             265.1\n",
      "Df Residuals:                      95   BIC:                             278.1\n",
      "Df Model:                           4                                         \n",
      "Covariance Type:            nonrobust                                         \n",
      "==============================================================================\n",
      "                 coef    std err          t      P>|t|      [0.025      0.975]\n",
      "------------------------------------------------------------------------------\n",
      "const         -1.6505      0.089    -18.569      0.000      -1.827      -1.474\n",
      "x1             6.1251      0.889      6.891      0.000       4.360       7.890\n",
      "x2            25.6376      0.889     28.843      0.000      23.873      27.402\n",
      "x3             0.4019      0.889      0.452      0.652      -1.363       2.167\n",
      "x4             1.0198      0.889      1.147      0.254      -0.745       2.784\n",
      "==============================================================================\n",
      "Omnibus:                        1.908   Durbin-Watson:                   2.212\n",
      "Prob(Omnibus):                  0.385   Jarque-Bera (JB):                1.930\n",
      "Skew:                           0.317   Prob(JB):                        0.381\n",
      "Kurtosis:                       2.753   Cond. No.                         10.0\n",
      "==============================================================================\n",
      "\n",
      "Warnings:\n",
      "[1] Standard Errors assume that the covariance matrix of the errors is correctly specified.\n",
      "\n",
      "p-values:  [2.24303134e-33 6.02520321e-10 8.76433677e-49 6.52222851e-01\n",
      " 2.54160319e-01]\n"
     ]
    }
   ],
   "source": [
    "poly = PolynomialFeatures(degree = 4, include_bias = True)\n",
    "# Orthogonalize the powers of the predictor using QR decomposition\n",
    "ortho_X = np.linalg.qr(poly.fit_transform(x.reshape(-1, 1)))[0][:, 1:]\n",
    "exog = sm.add_constant(ortho_X)\n",
    "endog = y\n",
    "mod = sm.OLS(endog, exog)\n",
    "res = mod.fit()\n",
    "print(res.summary())\n",
    "print(\"\\np-values: \", res.pvalues)"
   ]
  },
  {
   "cell_type": "markdown",
   "metadata": {},
   "source": [
    "In the quartic model, the linear and quadratic terms are both highly statistically significant, but the cubic and quartic terms are not. In particular, the p-values for the cubic and quartic terms are 0.652 and 0.254, respectively, which are quite high. This agrees with the fact that while the LOOCV error for the quartic fit is still much lower than the LOOCV error for the linear fit, it is slightly higher than this LOOCV error for the quadratic fit, which suggests that a quadratic fit is likely to be more appropriate than a quartic fit."
   ]
  },
  {
   "cell_type": "markdown",
   "metadata": {},
   "source": [
    "# Applied Exercise 5\n",
    "**We'll we now consider the `Boston` housing data set.**"
   ]
  },
  {
   "cell_type": "markdown",
   "metadata": {},
   "source": [
    "We import the scipy stats library for use later on in this exercise."
   ]
  },
  {
   "cell_type": "code",
   "execution_count": 2,
   "metadata": {},
   "outputs": [],
   "source": [
    "from scipy import stats"
   ]
  },
  {
   "cell_type": "code",
   "execution_count": 4,
   "metadata": {},
   "outputs": [
    {
     "data": {
      "text/html": [
       "<div>\n",
       "<style scoped>\n",
       "    .dataframe tbody tr th:only-of-type {\n",
       "        vertical-align: middle;\n",
       "    }\n",
       "\n",
       "    .dataframe tbody tr th {\n",
       "        vertical-align: top;\n",
       "    }\n",
       "\n",
       "    .dataframe thead th {\n",
       "        text-align: right;\n",
       "    }\n",
       "</style>\n",
       "<table border=\"1\" class=\"dataframe\">\n",
       "  <thead>\n",
       "    <tr style=\"text-align: right;\">\n",
       "      <th></th>\n",
       "      <th></th>\n",
       "      <th>CMEDV</th>\n",
       "      <th>CRIM</th>\n",
       "      <th>ZN</th>\n",
       "      <th>INDUS</th>\n",
       "      <th>CHAS</th>\n",
       "      <th>NOX</th>\n",
       "      <th>RM</th>\n",
       "      <th>AGE</th>\n",
       "      <th>DIS</th>\n",
       "      <th>RAD</th>\n",
       "      <th>TAX</th>\n",
       "      <th>PTRATIO</th>\n",
       "      <th>B</th>\n",
       "      <th>LSTAT</th>\n",
       "    </tr>\n",
       "    <tr>\n",
       "      <th>TOWN</th>\n",
       "      <th>TRACT</th>\n",
       "      <th></th>\n",
       "      <th></th>\n",
       "      <th></th>\n",
       "      <th></th>\n",
       "      <th></th>\n",
       "      <th></th>\n",
       "      <th></th>\n",
       "      <th></th>\n",
       "      <th></th>\n",
       "      <th></th>\n",
       "      <th></th>\n",
       "      <th></th>\n",
       "      <th></th>\n",
       "      <th></th>\n",
       "    </tr>\n",
       "  </thead>\n",
       "  <tbody>\n",
       "    <tr>\n",
       "      <td>Nahant</td>\n",
       "      <td>2011</td>\n",
       "      <td>24.0</td>\n",
       "      <td>0.00632</td>\n",
       "      <td>18.0</td>\n",
       "      <td>2.31</td>\n",
       "      <td>0</td>\n",
       "      <td>0.538</td>\n",
       "      <td>6.575</td>\n",
       "      <td>65.2</td>\n",
       "      <td>4.0900</td>\n",
       "      <td>1</td>\n",
       "      <td>296</td>\n",
       "      <td>15.3</td>\n",
       "      <td>396.90</td>\n",
       "      <td>4.98</td>\n",
       "    </tr>\n",
       "    <tr>\n",
       "      <td rowspan=\"2\" valign=\"top\">Swampscott</td>\n",
       "      <td>2021</td>\n",
       "      <td>21.6</td>\n",
       "      <td>0.02731</td>\n",
       "      <td>0.0</td>\n",
       "      <td>7.07</td>\n",
       "      <td>0</td>\n",
       "      <td>0.469</td>\n",
       "      <td>6.421</td>\n",
       "      <td>78.9</td>\n",
       "      <td>4.9671</td>\n",
       "      <td>2</td>\n",
       "      <td>242</td>\n",
       "      <td>17.8</td>\n",
       "      <td>396.90</td>\n",
       "      <td>9.14</td>\n",
       "    </tr>\n",
       "    <tr>\n",
       "      <td>2022</td>\n",
       "      <td>34.7</td>\n",
       "      <td>0.02729</td>\n",
       "      <td>0.0</td>\n",
       "      <td>7.07</td>\n",
       "      <td>0</td>\n",
       "      <td>0.469</td>\n",
       "      <td>7.185</td>\n",
       "      <td>61.1</td>\n",
       "      <td>4.9671</td>\n",
       "      <td>2</td>\n",
       "      <td>242</td>\n",
       "      <td>17.8</td>\n",
       "      <td>392.83</td>\n",
       "      <td>4.03</td>\n",
       "    </tr>\n",
       "    <tr>\n",
       "      <td rowspan=\"2\" valign=\"top\">Marblehead</td>\n",
       "      <td>2031</td>\n",
       "      <td>33.4</td>\n",
       "      <td>0.03237</td>\n",
       "      <td>0.0</td>\n",
       "      <td>2.18</td>\n",
       "      <td>0</td>\n",
       "      <td>0.458</td>\n",
       "      <td>6.998</td>\n",
       "      <td>45.8</td>\n",
       "      <td>6.0622</td>\n",
       "      <td>3</td>\n",
       "      <td>222</td>\n",
       "      <td>18.7</td>\n",
       "      <td>394.63</td>\n",
       "      <td>2.94</td>\n",
       "    </tr>\n",
       "    <tr>\n",
       "      <td>2032</td>\n",
       "      <td>36.2</td>\n",
       "      <td>0.06905</td>\n",
       "      <td>0.0</td>\n",
       "      <td>2.18</td>\n",
       "      <td>0</td>\n",
       "      <td>0.458</td>\n",
       "      <td>7.147</td>\n",
       "      <td>54.2</td>\n",
       "      <td>6.0622</td>\n",
       "      <td>3</td>\n",
       "      <td>222</td>\n",
       "      <td>18.7</td>\n",
       "      <td>396.90</td>\n",
       "      <td>5.33</td>\n",
       "    </tr>\n",
       "  </tbody>\n",
       "</table>\n",
       "</div>"
      ],
      "text/plain": [
       "                  CMEDV     CRIM    ZN  INDUS  CHAS    NOX     RM   AGE  \\\n",
       "TOWN       TRACT                                                          \n",
       "Nahant     2011    24.0  0.00632  18.0   2.31     0  0.538  6.575  65.2   \n",
       "Swampscott 2021    21.6  0.02731   0.0   7.07     0  0.469  6.421  78.9   \n",
       "           2022    34.7  0.02729   0.0   7.07     0  0.469  7.185  61.1   \n",
       "Marblehead 2031    33.4  0.03237   0.0   2.18     0  0.458  6.998  45.8   \n",
       "           2032    36.2  0.06905   0.0   2.18     0  0.458  7.147  54.2   \n",
       "\n",
       "                     DIS  RAD  TAX  PTRATIO       B  LSTAT  \n",
       "TOWN       TRACT                                            \n",
       "Nahant     2011   4.0900    1  296     15.3  396.90   4.98  \n",
       "Swampscott 2021   4.9671    2  242     17.8  396.90   9.14  \n",
       "           2022   4.9671    2  242     17.8  392.83   4.03  \n",
       "Marblehead 2031   6.0622    3  222     18.7  394.63   2.94  \n",
       "           2032   6.0622    3  222     18.7  396.90   5.33  "
      ]
     },
     "execution_count": 4,
     "metadata": {},
     "output_type": "execute_result"
    }
   ],
   "source": [
    "boston_filepath = \"boston_corrected.csv\"\n",
    "index_cols = [\"TOWN\", \"TRACT\"]\n",
    "data_cols = [\"TOWN\", \"TRACT\", \"CMEDV\", \"CRIM\", \"ZN\", \"INDUS\", \"CHAS\", \"NOX\", \"RM\", \"AGE\", \"DIS\", \"RAD\", \"TAX\",\n",
    "            \"PTRATIO\", \"B\", \"LSTAT\"]\n",
    "boston = pd.read_csv(boston_filepath, index_col = index_cols, usecols = data_cols)\n",
    "boston.head()"
   ]
  },
  {
   "cell_type": "markdown",
   "metadata": {},
   "source": [
    "## Part 1\n",
    "**Based on this data set, provide an estimate for the population mean of `CMEDV`. Call this estimate $\\hat{\\mu}$.**"
   ]
  },
  {
   "cell_type": "code",
   "execution_count": 5,
   "metadata": {},
   "outputs": [
    {
     "data": {
      "text/plain": [
       "22.528853754940716"
      ]
     },
     "execution_count": 5,
     "metadata": {},
     "output_type": "execute_result"
    }
   ],
   "source": [
    "boston[\"CMEDV\"].mean()"
   ]
  },
  {
   "cell_type": "markdown",
   "metadata": {},
   "source": [
    "The estimated population mean of `CMEDV` is $\\hat{\\mu} = 22.529$. In other words, the average median home value for this sample is \\$22,529."
   ]
  },
  {
   "cell_type": "markdown",
   "metadata": {},
   "source": [
    "## Part 2\n",
    "**Provide an estimate of the standard error of $\\hat{\\mu}$. Interpret this result.**\n",
    "\n",
    "***Hint: We can compute the standard error of the sample mean by dividing the sample standard deviation by the square root of the number of observations.***"
   ]
  },
  {
   "cell_type": "code",
   "execution_count": 6,
   "metadata": {},
   "outputs": [
    {
     "data": {
      "text/plain": [
       "0.40819750782840736"
      ]
     },
     "execution_count": 6,
     "metadata": {},
     "output_type": "execute_result"
    }
   ],
   "source": [
    "sample_sd = boston[\"CMEDV\"].std()\n",
    "sample_sd / boston.shape[0]**0.5"
   ]
  },
  {
   "cell_type": "markdown",
   "metadata": {},
   "source": [
    "Using the [usual formula for estimating the standard error](https://en.wikipedia.org/wiki/Standard_error), we get a value of 0.408 as our estimate for the standard error of $\\hat{\\mu}$. Since `CMEDV` was measured in units of 1,000 USD, this estimate of the standard error translates to \\$408. We will further interpret what this estimate of standard error means in Part 4. Note that we can also use the `Series.sem()` function to directly compute the standard error of the sample mean."
   ]
  },
  {
   "cell_type": "code",
   "execution_count": 7,
   "metadata": {},
   "outputs": [
    {
     "data": {
      "text/plain": [
       "0.40819750782840736"
      ]
     },
     "execution_count": 7,
     "metadata": {},
     "output_type": "execute_result"
    }
   ],
   "source": [
    "boston[\"CMEDV\"].sem()"
   ]
  },
  {
   "cell_type": "markdown",
   "metadata": {},
   "source": [
    "## Part 3\n",
    "**Now estimate the standard error of $\\hat{\\mu}$ using the bootstrap. How does this compare to your answer from Part 2?**"
   ]
  },
  {
   "cell_type": "code",
   "execution_count": 9,
   "metadata": {},
   "outputs": [
    {
     "name": "stdout",
     "output_type": "stream",
     "text": [
      "Bootstrap estimate of mean:  22.52534049407115\n",
      "Bootstrap estimate of std. error:  0.40901136594703136\n"
     ]
    }
   ],
   "source": [
    "np.random.seed(312)\n",
    "n_bootstraps = 10000\n",
    "means = np.empty(n_bootstraps)\n",
    "for i in range(n_bootstraps):\n",
    "    sample = resample(boston[\"CMEDV\"])\n",
    "    means[i] = sample.mean()\n",
    "print(\"Bootstrap estimate of mean: \", means.mean())\n",
    "print(\"Bootstrap estimate of std. error: \", means.std(ddof = 1))"
   ]
  },
  {
   "cell_type": "markdown",
   "metadata": {},
   "source": [
    "Using the bootstrap, we have an estimate of 0.409 for the standard error of $\\hat{\\mu}$. This is very close to the estimate obtained in Part 3."
   ]
  },
  {
   "cell_type": "markdown",
   "metadata": {},
   "source": [
    "## Part 4\n",
    "**Based on your bootstrap estimate from Part 3, provide a 95% confidence interval for the mean of `CMEDV`. Compare it to the results obtained using `scipy.stats.t.interval()`.**\n",
    "\n",
    "***Hint: You can approximate a 95% confidence interval using the formula $[ \\hat{\\mu} - 2\\text{SE}(\\hat{\\mu}), \\hat{\\mu} + 2\\text{SE}(\\hat{\\mu}) ]$.***"
   ]
  },
  {
   "cell_type": "code",
   "execution_count": 10,
   "metadata": {},
   "outputs": [
    {
     "data": {
      "text/plain": [
       "(21.72687928010855, 23.33082822977288)"
      ]
     },
     "execution_count": 10,
     "metadata": {},
     "output_type": "execute_result"
    }
   ],
   "source": [
    "stats.t.interval(0.95, boston.shape[0] - 1, loc = boston[\"CMEDV\"].mean(), scale = boston[\"CMEDV\"].sem())"
   ]
  },
  {
   "cell_type": "markdown",
   "metadata": {},
   "source": [
    "Based on our bootstrap estimate from Part 3, a 95% confidence interval for the mean of `CMEDV` is approximately $[22.529 - 2 \\times 0.409, \\, 22.529 + 2 \\times 0.409]$, or $[21.711, \\, 23.347]$. This is slightly wider than the confidence interval computed using `t.test()`, since we rounded our critical $t$-value up to 2, when for our data set with 506 observations the actual critical $t$-value is approximately 1.960. The meaning of a 95% confidence interval is that if we repeatedly sampled from the population and used the sample means and estimated standard errors to compute many confidence intervals, approximately 95% of those confidence intervals will contain the actual population mean. In other words, there is a 95% chance that this confidence interval contains the actual population mean of `CMEDV`."
   ]
  },
  {
   "cell_type": "markdown",
   "metadata": {},
   "source": [
    "## Part 5\n",
    "**Based on this dataset, provide an estimate, $\\hat{\\mu}_{\\text{med}}$, for the median value of `CMEDV` in the population.**"
   ]
  },
  {
   "cell_type": "code",
   "execution_count": 11,
   "metadata": {},
   "outputs": [
    {
     "data": {
      "text/plain": [
       "21.2"
      ]
     },
     "execution_count": 11,
     "metadata": {},
     "output_type": "execute_result"
    }
   ],
   "source": [
    "boston[\"CMEDV\"].median()"
   ]
  },
  {
   "cell_type": "markdown",
   "metadata": {},
   "source": [
    "The estimated population median of `CMEDV` is $\\hat{\\mu}_{\\text{med}} = 21.2$. In other words, the median of median home values for this sample is \\$21,200."
   ]
  },
  {
   "cell_type": "markdown",
   "metadata": {},
   "source": [
    "## Part 6\n",
    "**We would now like to estimate the standard error of $\\hat{\\mu}_{\\text{med}}$. Unfortunately, there is no simple formula for computing the standard error of the median. Instead, estimate the standard error of the median using the bootstrap. Comment on your findings.**"
   ]
  },
  {
   "cell_type": "code",
   "execution_count": 14,
   "metadata": {},
   "outputs": [
    {
     "name": "stdout",
     "output_type": "stream",
     "text": [
      "Bootstrap estimate of median:  21.179235\n",
      "Bootstrap estimate of std. error:  0.3805279817956791\n"
     ]
    }
   ],
   "source": [
    "np.random.seed(312)\n",
    "n_bootstraps = 10000\n",
    "medians = np.empty(n_bootstraps)\n",
    "for i in range(n_bootstraps):\n",
    "    sample = resample(boston[\"CMEDV\"])\n",
    "    medians[i] = sample.median()\n",
    "print(\"Bootstrap estimate of median: \", medians.mean())\n",
    "print(\"Bootstrap estimate of std. error: \", medians.std(ddof = 1))"
   ]
  },
  {
   "cell_type": "markdown",
   "metadata": {},
   "source": [
    "Using the bootstrap, we have an estimate of 0.381 for the standard error of $\\hat{\\mu}_{\\text{med}}$. Based on this bootstrap estimate, a 95% confidence interval for the median of `CMEDV` is approximately $[21.2 - 2 \\times 0.381, \\, 21.2 + 2 \\times 0.381]$, or $[20.438, \\, 21.962]$. There is a 95% chance that this confidence interval contains the actual population median of `CMEDV`."
   ]
  },
  {
   "cell_type": "markdown",
   "metadata": {},
   "source": [
    "## Part 7\n",
    "**Based on this data set, provide an estimate for the tenth percentile of `CMEDV` in Boston suburbs. Call this quantity $\\hat{\\mu}_{0.1}$. To compute this estimate, you can use the `Series.quantile()` function.**"
   ]
  },
  {
   "cell_type": "code",
   "execution_count": 13,
   "metadata": {},
   "outputs": [
    {
     "data": {
      "text/plain": [
       "12.9"
      ]
     },
     "execution_count": 13,
     "metadata": {},
     "output_type": "execute_result"
    }
   ],
   "source": [
    "boston[\"CMEDV\"].quantile(0.1)"
   ]
  },
  {
   "cell_type": "markdown",
   "metadata": {},
   "source": [
    "The estimated population tenth percentile of `CMEDV` is $\\hat{\\mu}_{0.1} = 12.9$. In other words, the tenth percentile of median home values for this sample is \\$12,900, or only 10% of observations in this sample have a `CMEDV` value of 12.9 or less."
   ]
  },
  {
   "cell_type": "markdown",
   "metadata": {},
   "source": [
    "## Part 8\n",
    "**Use the bootstrap to estimate the standard error of $\\hat{\\mu}_{0.1}$. Comment on your findings.**"
   ]
  },
  {
   "cell_type": "code",
   "execution_count": 16,
   "metadata": {},
   "outputs": [
    {
     "name": "stdout",
     "output_type": "stream",
     "text": [
      "Bootstrap estimate of tenth percentile:  12.81746\n",
      "Bootstrap estimate of std. error:  0.4975323127599091\n"
     ]
    }
   ],
   "source": [
    "np.random.seed(312)\n",
    "n_bootstraps = 10000\n",
    "tenth_percs = np.empty(n_bootstraps)\n",
    "for i in range(n_bootstraps):\n",
    "    sample = resample(boston[\"CMEDV\"])\n",
    "    tenth_percs[i] = sample.quantile(0.1)\n",
    "print(\"Bootstrap estimate of tenth percentile: \", tenth_percs.mean())\n",
    "print(\"Bootstrap estimate of std. error: \", tenth_percs.std(ddof = 1))"
   ]
  },
  {
   "cell_type": "markdown",
   "metadata": {},
   "source": [
    "Using the bootstrap, we have an estimate of 0.498 for the standard error of $\\hat{\\mu}_{0.1}$. Based on this bootstrap estimate, a 95% confidence interval for the tenth percentile of `CMEDV` is approximately $[12.9 - 2 \\times 0.498, \\, 12.9 + 2 \\times 0.498]$, or $[11.904, \\, 13.896]$. There is a 95% chance that this confidence interval contains the actual population tenth percentile of `CMEDV`."
   ]
  }
 ],
 "metadata": {
  "kernelspec": {
   "display_name": "Python 3",
   "language": "python",
   "name": "python3"
  },
  "language_info": {
   "codemirror_mode": {
    "name": "ipython",
    "version": 3
   },
   "file_extension": ".py",
   "mimetype": "text/x-python",
   "name": "python",
   "nbconvert_exporter": "python",
   "pygments_lexer": "ipython3",
   "version": "3.7.4"
  }
 },
 "nbformat": 4,
 "nbformat_minor": 2
}
