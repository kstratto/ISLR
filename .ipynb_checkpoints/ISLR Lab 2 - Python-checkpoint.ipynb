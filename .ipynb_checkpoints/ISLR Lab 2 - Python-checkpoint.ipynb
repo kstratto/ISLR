{
 "cells": [
  {
   "cell_type": "markdown",
   "metadata": {},
   "source": [
    "# Lab: Linear Regression"
   ]
  },
  {
   "cell_type": "markdown",
   "metadata": {},
   "source": [
    "In this lab, we will go over how to do linear regression using Python. There are a few ways we can go about this, depending on how much we are interested in investigating ancillary statistics for the coefficients in the model (p-values, residual standard error, etc.). If our main goal is to generate the model and focus on the basic statistics for evaluating the model, then [scikit-learn](https://scikit-learn.org/) will work well. If we want to analyze detailed ancillary statistics associated with the model, then [StatsModels](http://www.statsmodels.org/) will generate those statistics without requiring us to code functions to compute them from scratch. Also, StatsModels allows for the usage of [R-style formulas](http://www.statsmodels.org/stable/example_formulas.html) when fitting models for those who are already comfortable with that syntax. For completeness and to get practice using both packages, I will complete this lab both ways."
   ]
  },
  {
   "cell_type": "markdown",
   "metadata": {},
   "source": [
    "## Loading the necessary packages and data sets"
   ]
  },
  {
   "cell_type": "markdown",
   "metadata": {},
   "source": [
    "This lab involves the `Boston` and `Carseats` data sets, so before getting started we should make sure we have them available on our computer along with our usual Python data science packages. Recall that since we are analyzing these data sets in Python instead of `R`, we may should make sure to download the corresponding CSV files for each set from the book's [website](http://www.statlearning.com) under the \"Data Sets and Figures\" link. The corrected Boston housing data set which I am using can be downloaded from the [CMU StatLib archive](http://lib.stat.cmu.edu/datasets/boston_corrected.txt). The `Carseats` data set wasn't available directly as a CSV file from the book's website, so I needed to load it from the ISLR library in R and then export it."
   ]
  },
  {
   "cell_type": "code",
   "execution_count": 1,
   "metadata": {},
   "outputs": [],
   "source": [
    "# Load the standard Python data science packages\n",
    "import numpy as np\n",
    "import pandas as pd\n",
    "import matplotlib.pyplot as plt\n",
    "import seaborn as sns\n",
    "sns.set()\n",
    "\n",
    "# Load the LinearRegression class from scikit-learn's linear_model module\n",
    "from sklearn.linear_model import LinearRegression\n",
    "\n",
    "# Load the stats module from scipy so we can code the functions to compute model statistics\n",
    "from scipy import stats\n",
    "\n",
    "# Load StatsModels API\n",
    "# Note that if we wish to use R-style formulas, then we would load statsmodels.formula.api instead\n",
    "import statsmodels.api as sm\n",
    "import statsmodels.formula.api as smf"
   ]
  },
  {
   "cell_type": "markdown",
   "metadata": {},
   "source": [
    "## Simple linear regression"
   ]
  },
  {
   "cell_type": "markdown",
   "metadata": {},
   "source": [
    "As we saw in the third applied exercise from Chapter 2, one of the factors in the `Boston` data set is `cmedv`, which records the median house value for 506 tracts of land around Boston. To start with, we'll try to predict `cmedv` using the other factors, such as `rm` (average number of rooms per house), `age` (percent of owner-occupied homes built prior to 1940), and `lstat` (percent of low socioeconomic households). First, we'll take a look at the first few rows of data and then check again for missing values."
   ]
  },
  {
   "cell_type": "code",
   "execution_count": 2,
   "metadata": {},
   "outputs": [],
   "source": [
    "# Load the corrected Boston housing data set\n",
    "# Create a multi-index on TOWN and TRACT columns\n",
    "# Exclude the TOWNNO, LON, LAT, and MEDV columns when loading the set\n",
    "boston_filepath = \"boston_corrected.csv\"\n",
    "boston = pd.read_csv(boston_filepath, index_col = [\"TOWN\", \"TRACT\"], \n",
    "                     usecols = [\"TOWN\", \"TRACT\", \"CMEDV\", \"CRIM\", \"ZN\", \"INDUS\", \"CHAS\", \"NOX\", \"RM\", \"AGE\", \"DIS\", \"RAD\", \"TAX\", \"PTRATIO\", \"B\", \"LSTAT\"])"
   ]
  },
  {
   "cell_type": "code",
   "execution_count": 3,
   "metadata": {},
   "outputs": [
    {
     "data": {
      "text/html": [
       "<div>\n",
       "<style scoped>\n",
       "    .dataframe tbody tr th:only-of-type {\n",
       "        vertical-align: middle;\n",
       "    }\n",
       "\n",
       "    .dataframe tbody tr th {\n",
       "        vertical-align: top;\n",
       "    }\n",
       "\n",
       "    .dataframe thead th {\n",
       "        text-align: right;\n",
       "    }\n",
       "</style>\n",
       "<table border=\"1\" class=\"dataframe\">\n",
       "  <thead>\n",
       "    <tr style=\"text-align: right;\">\n",
       "      <th></th>\n",
       "      <th></th>\n",
       "      <th>CMEDV</th>\n",
       "      <th>CRIM</th>\n",
       "      <th>ZN</th>\n",
       "      <th>INDUS</th>\n",
       "      <th>CHAS</th>\n",
       "      <th>NOX</th>\n",
       "      <th>RM</th>\n",
       "      <th>AGE</th>\n",
       "      <th>DIS</th>\n",
       "      <th>RAD</th>\n",
       "      <th>TAX</th>\n",
       "      <th>PTRATIO</th>\n",
       "      <th>B</th>\n",
       "      <th>LSTAT</th>\n",
       "    </tr>\n",
       "    <tr>\n",
       "      <th>TOWN</th>\n",
       "      <th>TRACT</th>\n",
       "      <th></th>\n",
       "      <th></th>\n",
       "      <th></th>\n",
       "      <th></th>\n",
       "      <th></th>\n",
       "      <th></th>\n",
       "      <th></th>\n",
       "      <th></th>\n",
       "      <th></th>\n",
       "      <th></th>\n",
       "      <th></th>\n",
       "      <th></th>\n",
       "      <th></th>\n",
       "      <th></th>\n",
       "    </tr>\n",
       "  </thead>\n",
       "  <tbody>\n",
       "    <tr>\n",
       "      <td>Nahant</td>\n",
       "      <td>2011</td>\n",
       "      <td>24.0</td>\n",
       "      <td>0.00632</td>\n",
       "      <td>18.0</td>\n",
       "      <td>2.31</td>\n",
       "      <td>0</td>\n",
       "      <td>0.538</td>\n",
       "      <td>6.575</td>\n",
       "      <td>65.2</td>\n",
       "      <td>4.0900</td>\n",
       "      <td>1</td>\n",
       "      <td>296</td>\n",
       "      <td>15.3</td>\n",
       "      <td>396.90</td>\n",
       "      <td>4.98</td>\n",
       "    </tr>\n",
       "    <tr>\n",
       "      <td rowspan=\"2\" valign=\"top\">Swampscott</td>\n",
       "      <td>2021</td>\n",
       "      <td>21.6</td>\n",
       "      <td>0.02731</td>\n",
       "      <td>0.0</td>\n",
       "      <td>7.07</td>\n",
       "      <td>0</td>\n",
       "      <td>0.469</td>\n",
       "      <td>6.421</td>\n",
       "      <td>78.9</td>\n",
       "      <td>4.9671</td>\n",
       "      <td>2</td>\n",
       "      <td>242</td>\n",
       "      <td>17.8</td>\n",
       "      <td>396.90</td>\n",
       "      <td>9.14</td>\n",
       "    </tr>\n",
       "    <tr>\n",
       "      <td>2022</td>\n",
       "      <td>34.7</td>\n",
       "      <td>0.02729</td>\n",
       "      <td>0.0</td>\n",
       "      <td>7.07</td>\n",
       "      <td>0</td>\n",
       "      <td>0.469</td>\n",
       "      <td>7.185</td>\n",
       "      <td>61.1</td>\n",
       "      <td>4.9671</td>\n",
       "      <td>2</td>\n",
       "      <td>242</td>\n",
       "      <td>17.8</td>\n",
       "      <td>392.83</td>\n",
       "      <td>4.03</td>\n",
       "    </tr>\n",
       "    <tr>\n",
       "      <td rowspan=\"2\" valign=\"top\">Marblehead</td>\n",
       "      <td>2031</td>\n",
       "      <td>33.4</td>\n",
       "      <td>0.03237</td>\n",
       "      <td>0.0</td>\n",
       "      <td>2.18</td>\n",
       "      <td>0</td>\n",
       "      <td>0.458</td>\n",
       "      <td>6.998</td>\n",
       "      <td>45.8</td>\n",
       "      <td>6.0622</td>\n",
       "      <td>3</td>\n",
       "      <td>222</td>\n",
       "      <td>18.7</td>\n",
       "      <td>394.63</td>\n",
       "      <td>2.94</td>\n",
       "    </tr>\n",
       "    <tr>\n",
       "      <td>2032</td>\n",
       "      <td>36.2</td>\n",
       "      <td>0.06905</td>\n",
       "      <td>0.0</td>\n",
       "      <td>2.18</td>\n",
       "      <td>0</td>\n",
       "      <td>0.458</td>\n",
       "      <td>7.147</td>\n",
       "      <td>54.2</td>\n",
       "      <td>6.0622</td>\n",
       "      <td>3</td>\n",
       "      <td>222</td>\n",
       "      <td>18.7</td>\n",
       "      <td>396.90</td>\n",
       "      <td>5.33</td>\n",
       "    </tr>\n",
       "  </tbody>\n",
       "</table>\n",
       "</div>"
      ],
      "text/plain": [
       "                  CMEDV     CRIM    ZN  INDUS  CHAS    NOX     RM   AGE  \\\n",
       "TOWN       TRACT                                                          \n",
       "Nahant     2011    24.0  0.00632  18.0   2.31     0  0.538  6.575  65.2   \n",
       "Swampscott 2021    21.6  0.02731   0.0   7.07     0  0.469  6.421  78.9   \n",
       "           2022    34.7  0.02729   0.0   7.07     0  0.469  7.185  61.1   \n",
       "Marblehead 2031    33.4  0.03237   0.0   2.18     0  0.458  6.998  45.8   \n",
       "           2032    36.2  0.06905   0.0   2.18     0  0.458  7.147  54.2   \n",
       "\n",
       "                     DIS  RAD  TAX  PTRATIO       B  LSTAT  \n",
       "TOWN       TRACT                                            \n",
       "Nahant     2011   4.0900    1  296     15.3  396.90   4.98  \n",
       "Swampscott 2021   4.9671    2  242     17.8  396.90   9.14  \n",
       "           2022   4.9671    2  242     17.8  392.83   4.03  \n",
       "Marblehead 2031   6.0622    3  222     18.7  394.63   2.94  \n",
       "           2032   6.0622    3  222     18.7  396.90   5.33  "
      ]
     },
     "execution_count": 3,
     "metadata": {},
     "output_type": "execute_result"
    }
   ],
   "source": [
    "boston.head()"
   ]
  },
  {
   "cell_type": "code",
   "execution_count": 4,
   "metadata": {},
   "outputs": [
    {
     "data": {
      "text/plain": [
       "CMEDV      False\n",
       "CRIM       False\n",
       "ZN         False\n",
       "INDUS      False\n",
       "CHAS       False\n",
       "NOX        False\n",
       "RM         False\n",
       "AGE        False\n",
       "DIS        False\n",
       "RAD        False\n",
       "TAX        False\n",
       "PTRATIO    False\n",
       "B          False\n",
       "LSTAT      False\n",
       "dtype: bool"
      ]
     },
     "execution_count": 4,
     "metadata": {},
     "output_type": "execute_result"
    }
   ],
   "source": [
    "boston.isnull().any()"
   ]
  },
  {
   "cell_type": "markdown",
   "metadata": {},
   "source": [
    "First, we'll use scikit-learn to fit a simple linear regression model using `CMEDV` as the response and `LSTAT` as the predictor. To do so, we create a `LinearRegression` object and then use the `LinearRegression.fit(X, y)` function to fit a linear model with `X` as the predictor and `y` as the response. For more details, we can look at the [official documentation](https://scikit-learn.org/stable/modules/generated/sklearn.linear_model.LinearRegression.html) and a [basic example](https://scikit-learn.org/stable/auto_examples/linear_model/plot_ols.html). Note that the `fit(X, y)` function requires the training `X` and `y` data to have the correct shape. In particular, when working with a single predictor, we cannot just pass the corresponding column of the dataframe as an argument, as `df[\"Col_name\"].shape` has the value `(num_rows, )`, meaning that the underlying values are stored in a one-dimensional array. Instead, we need a two-dimensional array with shape `(num_rows, 1)`, which means that we have `num_rows` observations, and a single feature value for each observation. As soon as we start using multiple predictors, `df.loc[:, [\"Pred_1\", ..., \"Pred_p\"]]` will have the correct shape of `(num_rows, p)`. The same is true as soon as we start using multiple targets."
   ]
  },
  {
   "cell_type": "code",
   "execution_count": 5,
   "metadata": {},
   "outputs": [],
   "source": [
    "# Create a LinearRegression object\n",
    "reg = LinearRegression()\n",
    "# Need to extract the two columns we are using and then reshape them so that\n",
    "# X has the shape (n_samples, n_features),\n",
    "# Y has the shape (n_samples, n_targets)\n",
    "# When using -1 as one of the reshape arguments, NumPy will infer the value\n",
    "# from the length of the array and the values for the other dimensions\n",
    "X = boston[\"LSTAT\"].values.reshape(-1, 1)\n",
    "y = boston[\"CMEDV\"].values.reshape(-1, 1)\n",
    "# Fit linear regression model using X = LSTAT, y = CMEDV\n",
    "reg.fit(X, y);"
   ]
  },
  {
   "cell_type": "markdown",
   "metadata": {},
   "source": [
    "Once we have fitted a linear regression model, the `LinearRegression` object stores some basic info that we can access."
   ]
  },
  {
   "cell_type": "code",
   "execution_count": 6,
   "metadata": {},
   "outputs": [
    {
     "name": "stdout",
     "output_type": "stream",
     "text": [
      "Model coefficients: [[-0.95258756]]\n",
      "Model intercept: [34.58200444]\n"
     ]
    }
   ],
   "source": [
    "print(\"Model coefficients:\", reg.coef_)\n",
    "print(\"Model intercept:\", reg.intercept_)"
   ]
  },
  {
   "cell_type": "markdown",
   "metadata": {},
   "source": [
    "This tells us that the regression line takes the form $y = -0.95x + 34.58$, where $y$ is the response `CMEDV` and $x$ is the predictor `LSTAT`. We can also access the value for $R^2$, the coefficient of determination, using the `score()` function."
   ]
  },
  {
   "cell_type": "code",
   "execution_count": 7,
   "metadata": {},
   "outputs": [
    {
     "data": {
      "text/plain": [
       "0.5488379682040347"
      ]
     },
     "execution_count": 7,
     "metadata": {},
     "output_type": "execute_result"
    }
   ],
   "source": [
    "# In the score function, X is an array of the test samples\n",
    "# It needs to have shape = (num_samples, num_features)\n",
    "# y is an array of the true values for the given X\n",
    "reg.score(X, y)"
   ]
  },
  {
   "cell_type": "markdown",
   "metadata": {},
   "source": [
    "If we want any more information beyond this, such as p-values and standard errors for the coefficients, or residual standard error and F-statistic values for the model, we'll need to write some additional code of our own using SciPy and some linear algebra knowledge. The underlying math which goes into the calculation of the variance for each coefficient in a least-squares model with p predictors can be found at the beginning of Chapter 3 in the book [*Elements of Satistical Learning*](http://www-stat.stanford.edu/ElemStatLearn). This [Stackoverflow post](https://stackoverflow.com/a/42677750) serves as the basis for my implementation."
   ]
  },
  {
   "cell_type": "code",
   "execution_count": 8,
   "metadata": {},
   "outputs": [],
   "source": [
    "def detailed_linear_regression(X, y):\n",
    "    \"\"\"\n",
    "    Assume X is array-like with shape (num_samples, num_features)\n",
    "    Assume y is array-like with shape (num_samples, num_targets)\n",
    "    Computes the least-squares regression model and returns a dictionary consisting of\n",
    "    the fitted linear regression object; a series with the residual standard error,\n",
    "    R^2 value, and the overall F-statistic with corresponding p-value; and a dataframe\n",
    "    with columns for the parameters, and their corresponding standard errors,\n",
    "    t-statistics, and p-values.\n",
    "    \"\"\"\n",
    "    # Create a linear regression object and fit it using x and y\n",
    "    reg = LinearRegression()\n",
    "    reg.fit(X, y)\n",
    "    \n",
    "    # Store the parameters (regression intercept and coefficients) and predictions\n",
    "    params = np.append(reg.intercept_, reg.coef_)\n",
    "    predictions = reg.predict(X)\n",
    "    \n",
    "    # Create matrix with shape (num_samples, num_features + 1)\n",
    "    # Where the first column is all 1s and then there is one column for the values\n",
    "    # of each feature/predictor\n",
    "    X_mat = np.append(np.ones((X.shape[0], 1)), X, axis = 1)\n",
    "    \n",
    "    # Compute residual sum of squares\n",
    "    RSS = np.sum((y - predictions)**2)\n",
    "    \n",
    "    # Compute total sum of squares\n",
    "    TSS = np.sum((np.mean(y) - y)**2)\n",
    "    \n",
    "    # Estimate the variance of the y-values\n",
    "    obs_var = RSS/(X_mat.shape[0] - X_mat.shape[1])\n",
    "    \n",
    "    # Residual standard error is square root of variance of y-values\n",
    "    RSE = obs_var**0.5\n",
    "    \n",
    "    # Variances of the parameter estimates are on the diagonal of the \n",
    "    # variance-covariance matrix of the parameter estimates\n",
    "    var_beta = obs_var*(np.linalg.inv(np.matmul(X_mat.T, X_mat)).diagonal())\n",
    "    \n",
    "    # Standard error is square root of variance\n",
    "    se_beta = np.sqrt(var_beta)\n",
    "    \n",
    "    # t-statistic for beta_i is beta_i/se_i, \n",
    "    # where se_i is the standard error for beta_i\n",
    "    t_stats_beta = params/se_beta\n",
    "    \n",
    "    # Compute p-values for each parameter using a t-distribution with\n",
    "    # (num_samples - 1) degrees of freedom\n",
    "    beta_p_values = [2 * (1 - stats.t.cdf(np.abs(t_i), X_mat.shape[0] - 1))\n",
    "                    for t_i in t_stats_beta]\n",
    "    \n",
    "    # Compute value of overall F-statistic, to measure how likely our\n",
    "    # coefficient estimate are, assuming there is no relationship between\n",
    "    # the predictors and the response\n",
    "    F_overall = ((TSS - RSS)/(X_mat.shape[1] - 1))/(RSS/(X_mat.shape[0] - X_mat.shape[1]))\n",
    "    F_p_value = stats.f.sf(F_overall, X_mat.shape[1] - 1, X_mat.shape[0] - X_mat.shape[1])\n",
    "    \n",
    "    # Construct dataframe for the overall model statistics:\n",
    "    # RSE, R^2, F-statistic, p-value for F-statistic\n",
    "    oa_model_stats = pd.Series({\"Residual standard error\": RSE, \"R-squared\": reg.score(X, y),\n",
    "                                \"F-statistic\": F_overall, \"F-test p-value\": F_p_value})\n",
    "    \n",
    "    # Construct dataframe for parameter statistics:\n",
    "    # coefficients, standard errors, t-statistic, p-values for t-statistics\n",
    "    param_stats = pd.DataFrame({\"Coefficient\": params, \"Standard Error\": se_beta,\n",
    "                                \"t-value\": t_stats_beta, \"Prob(>|t|)\": beta_p_values})\n",
    "    return {\"model\": reg, \"param_stats\": param_stats, \"oa_stats\": oa_model_stats}"
   ]
  },
  {
   "cell_type": "code",
   "execution_count": 9,
   "metadata": {},
   "outputs": [],
   "source": [
    "detailed_reg = detailed_linear_regression(X, y)"
   ]
  },
  {
   "cell_type": "code",
   "execution_count": 10,
   "metadata": {},
   "outputs": [
    {
     "data": {
      "text/html": [
       "<div>\n",
       "<style scoped>\n",
       "    .dataframe tbody tr th:only-of-type {\n",
       "        vertical-align: middle;\n",
       "    }\n",
       "\n",
       "    .dataframe tbody tr th {\n",
       "        vertical-align: top;\n",
       "    }\n",
       "\n",
       "    .dataframe thead th {\n",
       "        text-align: right;\n",
       "    }\n",
       "</style>\n",
       "<table border=\"1\" class=\"dataframe\">\n",
       "  <thead>\n",
       "    <tr style=\"text-align: right;\">\n",
       "      <th></th>\n",
       "      <th>Coefficient</th>\n",
       "      <th>Standard Error</th>\n",
       "      <th>t-value</th>\n",
       "      <th>Prob(&gt;|t|)</th>\n",
       "    </tr>\n",
       "  </thead>\n",
       "  <tbody>\n",
       "    <tr>\n",
       "      <td>0</td>\n",
       "      <td>34.5820</td>\n",
       "      <td>0.5588</td>\n",
       "      <td>61.8844</td>\n",
       "      <td>0.0</td>\n",
       "    </tr>\n",
       "    <tr>\n",
       "      <td>1</td>\n",
       "      <td>-0.9526</td>\n",
       "      <td>0.0385</td>\n",
       "      <td>-24.7612</td>\n",
       "      <td>0.0</td>\n",
       "    </tr>\n",
       "  </tbody>\n",
       "</table>\n",
       "</div>"
      ],
      "text/plain": [
       "   Coefficient  Standard Error  t-value  Prob(>|t|)\n",
       "0      34.5820          0.5588  61.8844         0.0\n",
       "1      -0.9526          0.0385 -24.7612         0.0"
      ]
     },
     "execution_count": 10,
     "metadata": {},
     "output_type": "execute_result"
    }
   ],
   "source": [
    "np.round(detailed_reg[\"param_stats\"], 4)"
   ]
  },
  {
   "cell_type": "code",
   "execution_count": 11,
   "metadata": {},
   "outputs": [
    {
     "data": {
      "text/plain": [
       "Residual standard error      6.1737\n",
       "R-squared                    0.5488\n",
       "F-statistic                613.1153\n",
       "F-test p-value               0.0000\n",
       "dtype: float64"
      ]
     },
     "execution_count": 11,
     "metadata": {},
     "output_type": "execute_result"
    }
   ],
   "source": [
    "np.round(detailed_reg[\"oa_stats\"], 4)"
   ]
  },
  {
   "cell_type": "markdown",
   "metadata": {},
   "source": [
    "This was a lot of work! It took me a solid 1.5 days of working through the Stackoverflow post and section of *Elements of Statistical Learning* to feel like I had a decently confident grasp on the underlying mathematics and how to translate that math into Python code, but I think it was a really good process to go through. Now, let's see how we can generate the model and access the summary statistics using [StatsModels](http://www.statsmodels.org/stable/regression.html#references)."
   ]
  },
  {
   "cell_type": "code",
   "execution_count": 12,
   "metadata": {},
   "outputs": [
    {
     "name": "stdout",
     "output_type": "stream",
     "text": [
      "                            OLS Regression Results                            \n",
      "==============================================================================\n",
      "Dep. Variable:                  CMEDV   R-squared:                       0.549\n",
      "Model:                            OLS   Adj. R-squared:                  0.548\n",
      "Method:                 Least Squares   F-statistic:                     613.1\n",
      "Date:                Tue, 19 Nov 2019   Prob (F-statistic):           3.73e-89\n",
      "Time:                        10:02:29   Log-Likelihood:                -1638.0\n",
      "No. Observations:                 506   AIC:                             3280.\n",
      "Df Residuals:                     504   BIC:                             3289.\n",
      "Df Model:                           1                                         \n",
      "Covariance Type:            nonrobust                                         \n",
      "==============================================================================\n",
      "                 coef    std err          t      P>|t|      [0.025      0.975]\n",
      "------------------------------------------------------------------------------\n",
      "const         34.5820      0.559     61.884      0.000      33.484      35.680\n",
      "LSTAT         -0.9526      0.038    -24.761      0.000      -1.028      -0.877\n",
      "==============================================================================\n",
      "Omnibus:                      141.744   Durbin-Watson:                   0.902\n",
      "Prob(Omnibus):                  0.000   Jarque-Bera (JB):              306.876\n",
      "Skew:                           1.494   Prob(JB):                     2.30e-67\n",
      "Kurtosis:                       5.371   Cond. No.                         29.7\n",
      "==============================================================================\n",
      "\n",
      "Warnings:\n",
      "[1] Standard Errors assume that the covariance matrix of the errors is correctly specified.\n"
     ]
    },
    {
     "name": "stderr",
     "output_type": "stream",
     "text": [
      "C:\\Users\\Kyle\\Anaconda3\\envs\\islr\\lib\\site-packages\\numpy\\core\\fromnumeric.py:2389: FutureWarning: Method .ptp is deprecated and will be removed in a future version. Use numpy.ptp instead.\n",
      "  return ptp(axis=axis, out=out, **kwargs)\n"
     ]
    }
   ],
   "source": [
    "# Use the terms exog (exogenous) and endog (endogenous) for X and y,\n",
    "# respectively to match the language used in the StatsModels documentation\n",
    "# Need to manually add a column for the intercept, as StatsModels does not\n",
    "# include it by default when performing ordinary least-squares regression\n",
    "exog = sm.add_constant(boston[\"LSTAT\"])\n",
    "endog = boston[\"CMEDV\"]\n",
    "\n",
    "# Generate the model\n",
    "mod = sm.OLS(endog, exog)\n",
    "\n",
    "# Fit the model\n",
    "res = mod.fit()\n",
    "\n",
    "#Print out model summary\n",
    "print(res.summary())"
   ]
  },
  {
   "cell_type": "markdown",
   "metadata": {},
   "source": [
    "Note that there are a lot of other attributes of the fitted model that we can analyze and use. See the documentation for the [OLSResults object](http://www.statsmodels.org/stable/generated/statsmodels.regression.linear_model.OLSResults.html#statsmodels.regression.linear_model.OLSResults). As we can see, that was a lot simpler! This reflects one of the big differences between the philosophies behind scikit-learn and StatsModels -- scikit-learn is more focused on applying the results of machine learning strategies, while StatsModels has a larger emphasis on being able to easily analyze the detailed underlying statistics that go into generating a model.\n",
    "\n",
    "Next, let's compute some confidence and prediction intervals for various aspects of our least squares regression model. Once again we'll start off with doing things by hand using SciPy, though thankfully this is a bit easier to do as we can use the `interval(alpha, df, loc = 0, scale = 1)` function associated with SciPy's [Student t-distribution](https://docs.scipy.org/doc/scipy-1.3.0/reference/generated/scipy.stats.t.html) object. First off, we'll produce 95% confidence intervals for the parameter estimates."
   ]
  },
  {
   "cell_type": "code",
   "execution_count": 13,
   "metadata": {},
   "outputs": [],
   "source": [
    "def param_conf_int(X, y, level = 0.95):\n",
    "    \"\"\"\n",
    "    Assume X is array-like with shape (num_samples, num_features)\n",
    "    Assume y is array-like with shape (num_samples, num_targets)\n",
    "    Assume level, if given, is a float with 0 < level < 1\n",
    "    Computes confidence intervals at the given confidence level for each parameter\n",
    "    in the linear regression model relating the predictors X to the response y\n",
    "    Returns a dataframe with the endpoints of the confidence interval for each parameter\n",
    "    \"\"\"\n",
    "    # Store parameters and corresponding stats for easy access\n",
    "    detailed_reg = detailed_linear_regression(X, y)\n",
    "    param_stats = detailed_reg[\"param_stats\"]\n",
    "    conf_intervals = pd.DataFrame()\n",
    "    # Degrees of freedom = num_samples - (num_features + 1)\n",
    "    df = X.shape[0] - (X.shape[1] + 1)\n",
    "    a, b = str(round((1 - level)*100/2, 2)) + \"%\", str(round((1 + level)*100/2, 2)) + \"%\"\n",
    "    # Loop through each parameter\n",
    "    for index in param_stats.index:\n",
    "        coeff = param_stats.loc[index, \"Coefficient\"]\n",
    "        std_err = param_stats.loc[index, \"Standard Error\"]\n",
    "        # alpha = level of confidence\n",
    "        # df = degrees of freedom = num_samples - number of parameters\n",
    "        # loc = center of t-interval = estimated coefficient value\n",
    "        # scale = standard error in coefficient estimate\n",
    "        conf_intervals = conf_intervals.append(pd.DataFrame([stats.t.interval(level, df, loc = coeff, scale = std_err)],\n",
    "                                                            columns = [a, b]), ignore_index = True)\n",
    "    return conf_intervals"
   ]
  },
  {
   "cell_type": "code",
   "execution_count": 14,
   "metadata": {},
   "outputs": [
    {
     "data": {
      "text/html": [
       "<div>\n",
       "<style scoped>\n",
       "    .dataframe tbody tr th:only-of-type {\n",
       "        vertical-align: middle;\n",
       "    }\n",
       "\n",
       "    .dataframe tbody tr th {\n",
       "        vertical-align: top;\n",
       "    }\n",
       "\n",
       "    .dataframe thead th {\n",
       "        text-align: right;\n",
       "    }\n",
       "</style>\n",
       "<table border=\"1\" class=\"dataframe\">\n",
       "  <thead>\n",
       "    <tr style=\"text-align: right;\">\n",
       "      <th></th>\n",
       "      <th>2.5%</th>\n",
       "      <th>97.5%</th>\n",
       "    </tr>\n",
       "  </thead>\n",
       "  <tbody>\n",
       "    <tr>\n",
       "      <td>0</td>\n",
       "      <td>33.484109</td>\n",
       "      <td>35.679900</td>\n",
       "    </tr>\n",
       "    <tr>\n",
       "      <td>1</td>\n",
       "      <td>-1.028171</td>\n",
       "      <td>-0.877004</td>\n",
       "    </tr>\n",
       "  </tbody>\n",
       "</table>\n",
       "</div>"
      ],
      "text/plain": [
       "        2.5%      97.5%\n",
       "0  33.484109  35.679900\n",
       "1  -1.028171  -0.877004"
      ]
     },
     "execution_count": 14,
     "metadata": {},
     "output_type": "execute_result"
    }
   ],
   "source": [
    "param_conf_int(X, y)"
   ]
  },
  {
   "cell_type": "markdown",
   "metadata": {},
   "source": [
    "When using a model generated by StatsModels, we can use the `conf_int(alpha = 0.05)` method of the RegressionResults object. Note that in StatsModels, the argument `alpha` refers to the *significance level*, which is equivalent to $1 - l$, where $l$ is the *confidence level*."
   ]
  },
  {
   "cell_type": "code",
   "execution_count": 15,
   "metadata": {},
   "outputs": [
    {
     "data": {
      "text/html": [
       "<div>\n",
       "<style scoped>\n",
       "    .dataframe tbody tr th:only-of-type {\n",
       "        vertical-align: middle;\n",
       "    }\n",
       "\n",
       "    .dataframe tbody tr th {\n",
       "        vertical-align: top;\n",
       "    }\n",
       "\n",
       "    .dataframe thead th {\n",
       "        text-align: right;\n",
       "    }\n",
       "</style>\n",
       "<table border=\"1\" class=\"dataframe\">\n",
       "  <thead>\n",
       "    <tr style=\"text-align: right;\">\n",
       "      <th></th>\n",
       "      <th>0</th>\n",
       "      <th>1</th>\n",
       "    </tr>\n",
       "  </thead>\n",
       "  <tbody>\n",
       "    <tr>\n",
       "      <td>const</td>\n",
       "      <td>33.484109</td>\n",
       "      <td>35.679900</td>\n",
       "    </tr>\n",
       "    <tr>\n",
       "      <td>LSTAT</td>\n",
       "      <td>-1.028171</td>\n",
       "      <td>-0.877004</td>\n",
       "    </tr>\n",
       "  </tbody>\n",
       "</table>\n",
       "</div>"
      ],
      "text/plain": [
       "               0          1\n",
       "const  33.484109  35.679900\n",
       "LSTAT  -1.028171  -0.877004"
      ]
     },
     "execution_count": 15,
     "metadata": {},
     "output_type": "execute_result"
    }
   ],
   "source": [
    "res.conf_int()"
   ]
  },
  {
   "cell_type": "markdown",
   "metadata": {},
   "source": [
    "By adjusting the `level` parameter in the `param_conf_int()` function I wrote, or by adjusting the `alpha` parameter in the `conf_int()` function from StatsModels, we can also produce other confidence intervals for the parameters. For example, we can produce 99% confidence intervals."
   ]
  },
  {
   "cell_type": "code",
   "execution_count": 16,
   "metadata": {},
   "outputs": [
    {
     "data": {
      "text/html": [
       "<div>\n",
       "<style scoped>\n",
       "    .dataframe tbody tr th:only-of-type {\n",
       "        vertical-align: middle;\n",
       "    }\n",
       "\n",
       "    .dataframe tbody tr th {\n",
       "        vertical-align: top;\n",
       "    }\n",
       "\n",
       "    .dataframe thead th {\n",
       "        text-align: right;\n",
       "    }\n",
       "</style>\n",
       "<table border=\"1\" class=\"dataframe\">\n",
       "  <thead>\n",
       "    <tr style=\"text-align: right;\">\n",
       "      <th></th>\n",
       "      <th>0.5%</th>\n",
       "      <th>99.5%</th>\n",
       "    </tr>\n",
       "  </thead>\n",
       "  <tbody>\n",
       "    <tr>\n",
       "      <td>0</td>\n",
       "      <td>33.137119</td>\n",
       "      <td>36.026890</td>\n",
       "    </tr>\n",
       "    <tr>\n",
       "      <td>1</td>\n",
       "      <td>-1.052059</td>\n",
       "      <td>-0.853116</td>\n",
       "    </tr>\n",
       "  </tbody>\n",
       "</table>\n",
       "</div>"
      ],
      "text/plain": [
       "        0.5%      99.5%\n",
       "0  33.137119  36.026890\n",
       "1  -1.052059  -0.853116"
      ]
     },
     "execution_count": 16,
     "metadata": {},
     "output_type": "execute_result"
    }
   ],
   "source": [
    "param_conf_int(X, y, level = 0.99)"
   ]
  },
  {
   "cell_type": "code",
   "execution_count": 17,
   "metadata": {},
   "outputs": [
    {
     "data": {
      "text/html": [
       "<div>\n",
       "<style scoped>\n",
       "    .dataframe tbody tr th:only-of-type {\n",
       "        vertical-align: middle;\n",
       "    }\n",
       "\n",
       "    .dataframe tbody tr th {\n",
       "        vertical-align: top;\n",
       "    }\n",
       "\n",
       "    .dataframe thead th {\n",
       "        text-align: right;\n",
       "    }\n",
       "</style>\n",
       "<table border=\"1\" class=\"dataframe\">\n",
       "  <thead>\n",
       "    <tr style=\"text-align: right;\">\n",
       "      <th></th>\n",
       "      <th>0</th>\n",
       "      <th>1</th>\n",
       "    </tr>\n",
       "  </thead>\n",
       "  <tbody>\n",
       "    <tr>\n",
       "      <td>const</td>\n",
       "      <td>33.137119</td>\n",
       "      <td>36.026890</td>\n",
       "    </tr>\n",
       "    <tr>\n",
       "      <td>LSTAT</td>\n",
       "      <td>-1.052059</td>\n",
       "      <td>-0.853116</td>\n",
       "    </tr>\n",
       "  </tbody>\n",
       "</table>\n",
       "</div>"
      ],
      "text/plain": [
       "               0          1\n",
       "const  33.137119  36.026890\n",
       "LSTAT  -1.052059  -0.853116"
      ]
     },
     "execution_count": 17,
     "metadata": {},
     "output_type": "execute_result"
    }
   ],
   "source": [
    "res.conf_int(alpha = 0.01)"
   ]
  },
  {
   "cell_type": "markdown",
   "metadata": {},
   "source": [
    "Next, we compute confidence and prediction intervals for the prediction of `CMEDV` for a given value of `LSTAT`. Once again, we'll start off by coding a function by hand to do this, referring to [these notes from Stanford](http://statweb.stanford.edu/~susan/courses/s141/horegconf.pdf) for the underlying mathematics of what values of the error to use when computing the intervals. Note that the Stanford notes only cover the situation of a single predictor and a single response."
   ]
  },
  {
   "cell_type": "code",
   "execution_count": 18,
   "metadata": {},
   "outputs": [],
   "source": [
    "def predict_intervals(X, y, X_star, level = 0.95, kind = \"confidence\"):\n",
    "    \"\"\"\n",
    "    Assume X is array-like with shape (num_samples, num_features)\n",
    "    Assume y is array-like with shape (num_samples, num_targets)\n",
    "    Assume X_star is array-like with shape (num_predictions, num_features) with x-values for which we want predictions\n",
    "    Assume level, if given, is a float with 0 < level < 1\n",
    "    Assume kind, if given is either the string \"confidence\" or \"prediction\" for the kind of interval\n",
    "    Computes confidence intervals at the given confidence level for each parameter\n",
    "    in the linear regression model relating the predictors X to the response y\n",
    "    Returns a dataframe with the endpoints of the confidence interval for each parameter\n",
    "    \"\"\"\n",
    "    # Store parameters and corresponding stats for easy access\n",
    "    detailed_reg = detailed_linear_regression(X, y)\n",
    "    predictions = detailed_reg[\"model\"].predict(X_star)\n",
    "    RSE = detailed_reg[\"oa_stats\"][\"Residual standard error\"]\n",
    "    intervals = pd.DataFrame()\n",
    "    # Degrees of freedom = num_samples - (num_features + 1)\n",
    "    df = X.shape[0] - (X.shape[1] + 1)\n",
    "    a, b = str(round((1 - level)*100/2, 2)) + \"%\", str(round((1 + level)*100/2, 2)) + \"%\"\n",
    "    x_bar = X.mean()\n",
    "    x_tss = np.sum((X - x_bar)**2)\n",
    "    # Loop through each x-value being used for prediction\n",
    "    for i in range(len(predictions)) :\n",
    "        prediction = predictions[i, 0]\n",
    "        x_star = X_star[i, 0]\n",
    "        conf_error = RSE * (1/X.shape[0] + (x_star - x_bar)**2/x_tss)**0.5\n",
    "        predict_error = (RSE**2 + conf_error**2)**0.5\n",
    "        # alpha = level of confidence\n",
    "        # df = degrees of freedom = num_samples - number of parameters\n",
    "        # loc = center of t-interval = predicted value from linear regression model\n",
    "        # scale = standard error in predicted value estimate\n",
    "        if (kind == \"confidence\"):\n",
    "            lower, upper = stats.t.interval(level, df, loc = prediction, scale = conf_error)\n",
    "            intervals = intervals.append(pd.Series({\"prediction\": prediction, a: lower, b: upper}),\n",
    "                                         ignore_index = True)\n",
    "        elif (kind == \"prediction\"):\n",
    "            lower, upper = stats.t.interval(level, df, loc = prediction, scale = predict_error)\n",
    "            intervals = intervals.append(pd.Series({\"prediction\": prediction, a: lower, b: upper}),\n",
    "                                         ignore_index = True)\n",
    "    return intervals"
   ]
  },
  {
   "cell_type": "markdown",
   "metadata": {},
   "source": [
    "FIrst we produce 95% confidence intervals for the predicted `CMEDV` value using `LSTAT` values of 5, 10, and 15."
   ]
  },
  {
   "cell_type": "code",
   "execution_count": 19,
   "metadata": {},
   "outputs": [
    {
     "data": {
      "text/html": [
       "<div>\n",
       "<style scoped>\n",
       "    .dataframe tbody tr th:only-of-type {\n",
       "        vertical-align: middle;\n",
       "    }\n",
       "\n",
       "    .dataframe tbody tr th {\n",
       "        vertical-align: top;\n",
       "    }\n",
       "\n",
       "    .dataframe thead th {\n",
       "        text-align: right;\n",
       "    }\n",
       "</style>\n",
       "<table border=\"1\" class=\"dataframe\">\n",
       "  <thead>\n",
       "    <tr style=\"text-align: right;\">\n",
       "      <th></th>\n",
       "      <th>2.5%</th>\n",
       "      <th>97.5%</th>\n",
       "      <th>prediction</th>\n",
       "    </tr>\n",
       "  </thead>\n",
       "  <tbody>\n",
       "    <tr>\n",
       "      <td>0</td>\n",
       "      <td>29.028278</td>\n",
       "      <td>30.609855</td>\n",
       "      <td>29.819067</td>\n",
       "    </tr>\n",
       "    <tr>\n",
       "      <td>1</td>\n",
       "      <td>24.480837</td>\n",
       "      <td>25.631420</td>\n",
       "      <td>25.056129</td>\n",
       "    </tr>\n",
       "    <tr>\n",
       "      <td>2</td>\n",
       "      <td>19.725550</td>\n",
       "      <td>20.860832</td>\n",
       "      <td>20.293191</td>\n",
       "    </tr>\n",
       "  </tbody>\n",
       "</table>\n",
       "</div>"
      ],
      "text/plain": [
       "        2.5%      97.5%  prediction\n",
       "0  29.028278  30.609855   29.819067\n",
       "1  24.480837  25.631420   25.056129\n",
       "2  19.725550  20.860832   20.293191"
      ]
     },
     "execution_count": 19,
     "metadata": {},
     "output_type": "execute_result"
    }
   ],
   "source": [
    "predict_intervals(X, y, np.array([5, 10, 15]).reshape((-1, 1)), level = 0.95, kind = \"confidence\")"
   ]
  },
  {
   "cell_type": "markdown",
   "metadata": {},
   "source": [
    "Similarly, we can produce 99% confidence intervals for the predicted `CMEDV` values, again using `LSTAT` values of 5, 10, and 15."
   ]
  },
  {
   "cell_type": "code",
   "execution_count": 20,
   "metadata": {},
   "outputs": [
    {
     "data": {
      "text/html": [
       "<div>\n",
       "<style scoped>\n",
       "    .dataframe tbody tr th:only-of-type {\n",
       "        vertical-align: middle;\n",
       "    }\n",
       "\n",
       "    .dataframe tbody tr th {\n",
       "        vertical-align: top;\n",
       "    }\n",
       "\n",
       "    .dataframe thead th {\n",
       "        text-align: right;\n",
       "    }\n",
       "</style>\n",
       "<table border=\"1\" class=\"dataframe\">\n",
       "  <thead>\n",
       "    <tr style=\"text-align: right;\">\n",
       "      <th></th>\n",
       "      <th>0.5%</th>\n",
       "      <th>99.5%</th>\n",
       "      <th>prediction</th>\n",
       "    </tr>\n",
       "  </thead>\n",
       "  <tbody>\n",
       "    <tr>\n",
       "      <td>0</td>\n",
       "      <td>28.778349</td>\n",
       "      <td>30.859784</td>\n",
       "      <td>29.819067</td>\n",
       "    </tr>\n",
       "    <tr>\n",
       "      <td>1</td>\n",
       "      <td>24.299016</td>\n",
       "      <td>25.813241</td>\n",
       "      <td>25.056129</td>\n",
       "    </tr>\n",
       "    <tr>\n",
       "      <td>2</td>\n",
       "      <td>19.546147</td>\n",
       "      <td>21.040235</td>\n",
       "      <td>20.293191</td>\n",
       "    </tr>\n",
       "  </tbody>\n",
       "</table>\n",
       "</div>"
      ],
      "text/plain": [
       "        0.5%      99.5%  prediction\n",
       "0  28.778349  30.859784   29.819067\n",
       "1  24.299016  25.813241   25.056129\n",
       "2  19.546147  21.040235   20.293191"
      ]
     },
     "execution_count": 20,
     "metadata": {},
     "output_type": "execute_result"
    }
   ],
   "source": [
    "predict_intervals(X, y, np.array([5, 10, 15]).reshape((-1, 1)), level = 0.99, kind = \"confidence\")"
   ]
  },
  {
   "cell_type": "markdown",
   "metadata": {},
   "source": [
    "Now we produce 95%, and then 99%, prediction intervals for the predicted `CMEDV` values, once again using `LSTAT` values of 5, 10, and 15."
   ]
  },
  {
   "cell_type": "code",
   "execution_count": 21,
   "metadata": {},
   "outputs": [
    {
     "data": {
      "text/html": [
       "<div>\n",
       "<style scoped>\n",
       "    .dataframe tbody tr th:only-of-type {\n",
       "        vertical-align: middle;\n",
       "    }\n",
       "\n",
       "    .dataframe tbody tr th {\n",
       "        vertical-align: top;\n",
       "    }\n",
       "\n",
       "    .dataframe thead th {\n",
       "        text-align: right;\n",
       "    }\n",
       "</style>\n",
       "<table border=\"1\" class=\"dataframe\">\n",
       "  <thead>\n",
       "    <tr style=\"text-align: right;\">\n",
       "      <th></th>\n",
       "      <th>2.5%</th>\n",
       "      <th>97.5%</th>\n",
       "      <th>prediction</th>\n",
       "    </tr>\n",
       "  </thead>\n",
       "  <tbody>\n",
       "    <tr>\n",
       "      <td>0</td>\n",
       "      <td>17.664048</td>\n",
       "      <td>41.974085</td>\n",
       "      <td>29.819067</td>\n",
       "    </tr>\n",
       "    <tr>\n",
       "      <td>1</td>\n",
       "      <td>12.913226</td>\n",
       "      <td>37.199031</td>\n",
       "      <td>25.056129</td>\n",
       "    </tr>\n",
       "    <tr>\n",
       "      <td>2</td>\n",
       "      <td>8.150648</td>\n",
       "      <td>32.435734</td>\n",
       "      <td>20.293191</td>\n",
       "    </tr>\n",
       "  </tbody>\n",
       "</table>\n",
       "</div>"
      ],
      "text/plain": [
       "        2.5%      97.5%  prediction\n",
       "0  17.664048  41.974085   29.819067\n",
       "1  12.913226  37.199031   25.056129\n",
       "2   8.150648  32.435734   20.293191"
      ]
     },
     "execution_count": 21,
     "metadata": {},
     "output_type": "execute_result"
    }
   ],
   "source": [
    "predict_intervals(X, y, np.array([5, 10, 15]).reshape((-1, 1)), level = 0.95, kind = \"prediction\")"
   ]
  },
  {
   "cell_type": "code",
   "execution_count": 22,
   "metadata": {},
   "outputs": [
    {
     "data": {
      "text/html": [
       "<div>\n",
       "<style scoped>\n",
       "    .dataframe tbody tr th:only-of-type {\n",
       "        vertical-align: middle;\n",
       "    }\n",
       "\n",
       "    .dataframe tbody tr th {\n",
       "        vertical-align: top;\n",
       "    }\n",
       "\n",
       "    .dataframe thead th {\n",
       "        text-align: right;\n",
       "    }\n",
       "</style>\n",
       "<table border=\"1\" class=\"dataframe\">\n",
       "  <thead>\n",
       "    <tr style=\"text-align: right;\">\n",
       "      <th></th>\n",
       "      <th>0.5%</th>\n",
       "      <th>99.5%</th>\n",
       "      <th>prediction</th>\n",
       "    </tr>\n",
       "  </thead>\n",
       "  <tbody>\n",
       "    <tr>\n",
       "      <td>0</td>\n",
       "      <td>13.822458</td>\n",
       "      <td>45.815675</td>\n",
       "      <td>29.819067</td>\n",
       "    </tr>\n",
       "    <tr>\n",
       "      <td>1</td>\n",
       "      <td>9.075465</td>\n",
       "      <td>41.036793</td>\n",
       "      <td>25.056129</td>\n",
       "    </tr>\n",
       "    <tr>\n",
       "      <td>2</td>\n",
       "      <td>4.313001</td>\n",
       "      <td>36.273381</td>\n",
       "      <td>20.293191</td>\n",
       "    </tr>\n",
       "  </tbody>\n",
       "</table>\n",
       "</div>"
      ],
      "text/plain": [
       "        0.5%      99.5%  prediction\n",
       "0  13.822458  45.815675   29.819067\n",
       "1   9.075465  41.036793   25.056129\n",
       "2   4.313001  36.273381   20.293191"
      ]
     },
     "execution_count": 22,
     "metadata": {},
     "output_type": "execute_result"
    }
   ],
   "source": [
    "predict_intervals(X, y, np.array([5, 10, 15]).reshape((-1, 1)), level = 0.99, kind = \"prediction\")"
   ]
  },
  {
   "cell_type": "markdown",
   "metadata": {},
   "source": [
    "Looking at the intervals, we can see that a 95% confidence interval for the predicted value of `CMEDV` using an `LSTAT` value of 10 is (24.481, 25.631), while the corresponding 95% prediction interval is (12.913, 37.199). Both intervals are centered around the same point, the predicted value for `CMEDV` of 25.053, but the prediction interval is much wider. Now, let's compare with the intervals we get when using StatsModels."
   ]
  },
  {
   "cell_type": "code",
   "execution_count": 23,
   "metadata": {},
   "outputs": [],
   "source": [
    "reg_predictions = res.get_prediction(np.array([[1, 5], [1, 10], [1, 15]]))"
   ]
  },
  {
   "cell_type": "code",
   "execution_count": 24,
   "metadata": {},
   "outputs": [
    {
     "data": {
      "text/html": [
       "<div>\n",
       "<style scoped>\n",
       "    .dataframe tbody tr th:only-of-type {\n",
       "        vertical-align: middle;\n",
       "    }\n",
       "\n",
       "    .dataframe tbody tr th {\n",
       "        vertical-align: top;\n",
       "    }\n",
       "\n",
       "    .dataframe thead th {\n",
       "        text-align: right;\n",
       "    }\n",
       "</style>\n",
       "<table border=\"1\" class=\"dataframe\">\n",
       "  <thead>\n",
       "    <tr style=\"text-align: right;\">\n",
       "      <th></th>\n",
       "      <th>2.5%</th>\n",
       "      <th>97.5%</th>\n",
       "    </tr>\n",
       "  </thead>\n",
       "  <tbody>\n",
       "    <tr>\n",
       "      <td>0</td>\n",
       "      <td>29.028278</td>\n",
       "      <td>30.609855</td>\n",
       "    </tr>\n",
       "    <tr>\n",
       "      <td>1</td>\n",
       "      <td>24.480837</td>\n",
       "      <td>25.631420</td>\n",
       "    </tr>\n",
       "    <tr>\n",
       "      <td>2</td>\n",
       "      <td>19.725550</td>\n",
       "      <td>20.860832</td>\n",
       "    </tr>\n",
       "  </tbody>\n",
       "</table>\n",
       "</div>"
      ],
      "text/plain": [
       "        2.5%      97.5%\n",
       "0  29.028278  30.609855\n",
       "1  24.480837  25.631420\n",
       "2  19.725550  20.860832"
      ]
     },
     "execution_count": 24,
     "metadata": {},
     "output_type": "execute_result"
    }
   ],
   "source": [
    "pd.DataFrame(reg_predictions.conf_int(alpha = 0.05), columns = [\"2.5%\", \"97.5%\"])"
   ]
  },
  {
   "cell_type": "markdown",
   "metadata": {},
   "source": [
    "By default, the `conf_int()` method gives 95% confidence intervals for the predicted values, though by adjusting the `level` parameter we can change the confidence/prediction level, and `obs` parameter allows us to change from confidence intervals to prediction intervals."
   ]
  },
  {
   "cell_type": "code",
   "execution_count": 25,
   "metadata": {},
   "outputs": [
    {
     "data": {
      "text/html": [
       "<div>\n",
       "<style scoped>\n",
       "    .dataframe tbody tr th:only-of-type {\n",
       "        vertical-align: middle;\n",
       "    }\n",
       "\n",
       "    .dataframe tbody tr th {\n",
       "        vertical-align: top;\n",
       "    }\n",
       "\n",
       "    .dataframe thead th {\n",
       "        text-align: right;\n",
       "    }\n",
       "</style>\n",
       "<table border=\"1\" class=\"dataframe\">\n",
       "  <thead>\n",
       "    <tr style=\"text-align: right;\">\n",
       "      <th></th>\n",
       "      <th>0.5%</th>\n",
       "      <th>99.5%</th>\n",
       "    </tr>\n",
       "  </thead>\n",
       "  <tbody>\n",
       "    <tr>\n",
       "      <td>0</td>\n",
       "      <td>13.822458</td>\n",
       "      <td>45.815675</td>\n",
       "    </tr>\n",
       "    <tr>\n",
       "      <td>1</td>\n",
       "      <td>9.075465</td>\n",
       "      <td>41.036793</td>\n",
       "    </tr>\n",
       "    <tr>\n",
       "      <td>2</td>\n",
       "      <td>4.313001</td>\n",
       "      <td>36.273381</td>\n",
       "    </tr>\n",
       "  </tbody>\n",
       "</table>\n",
       "</div>"
      ],
      "text/plain": [
       "        0.5%      99.5%\n",
       "0  13.822458  45.815675\n",
       "1   9.075465  41.036793\n",
       "2   4.313001  36.273381"
      ]
     },
     "execution_count": 25,
     "metadata": {},
     "output_type": "execute_result"
    }
   ],
   "source": [
    "# Produce 99% prediction intervals for the predicted values of CMEDV\n",
    "pd.DataFrame(reg_predictions.conf_int(obs = True, alpha = 0.01), columns = [\"0.5%\", \"99.5%\"])"
   ]
  },
  {
   "cell_type": "markdown",
   "metadata": {},
   "source": [
    "As we can see, these results match up with what we computed by hand. Once again, in this context using StatsModels proves to be a lot more convenient! The functions we created for this section are pretty handy, but since we did them one at a time in a somewhat piecemeal fashion, they aren't as cohesive and nicely implemented as they could be, so lets combine them all into a class that extends the scikit-learn LinearRegression class. In addition, I'll rewrite my `predict_intervals()` function to properly work for the situation of multiple linear regression. To do so, I will follow the math from [these notes from the University of Minnesota](http://users.stat.umn.edu/~helwig/notes/mlr-Notes.pdf). "
   ]
  },
  {
   "cell_type": "code",
   "execution_count": 26,
   "metadata": {},
   "outputs": [],
   "source": [
    "class ExtendedLinearRegression(LinearRegression):\n",
    "    \n",
    "    def detailed_linear_regression(self, X, y):\n",
    "        \"\"\"\n",
    "        Assume X is array-like with shape (num_samples, num_features)\n",
    "        Assume y is array-like with shape (num_samples, num_targets)\n",
    "        include_intercept is a boolean where True means X does not already have a column\n",
    "        for the intercept\n",
    "        Computes the least-squares regression model and returns a dictionary consisting of\n",
    "        the fitted linear regression object; a series with the residual standard error,\n",
    "        R^2 value, and the overall F-statistic with corresponding p-value; and a dataframe\n",
    "        with columns for the parameters, and their corresponding standard errors,\n",
    "        t-statistics, and p-values.\n",
    "        \"\"\"\n",
    "        # Create a linear regression object and fit it using x and y\n",
    "        self.training_X, self.training_y = X, y\n",
    "        self.fit(X, y)\n",
    "    \n",
    "        # Store the parameters (regression intercept and coefficients) and predictions\n",
    "        self.params = np.append(self.intercept_, self.coef_)\n",
    "        predictions = self.predict(X)\n",
    "    \n",
    "        # Create matrix with shape (num_samples, num_features + 1)\n",
    "        # Where the first column is all 1s and then there is one column for the values\n",
    "        # of each feature/predictor\n",
    "        X_mat = np.append(np.ones((X.shape[0], 1)), X, axis = 1)\n",
    "    \n",
    "        # Compute residual sum of squares\n",
    "        self.RSS = np.sum((y - predictions)**2)\n",
    "    \n",
    "        # Compute total sum of squares\n",
    "        self.TSS = np.sum((np.mean(y) - y)**2)\n",
    "    \n",
    "        # Estimate the variance of the y-values\n",
    "        obs_var = self.RSS/(X_mat.shape[0] - X_mat.shape[1])\n",
    "    \n",
    "        # Residual standard error is square root of variance of y-values\n",
    "        self.RSE = obs_var**0.5\n",
    "    \n",
    "        # Variances of the parameter estimates are on the diagonal of the \n",
    "        # variance-covariance matrix of the parameter estimates\n",
    "        self.var_beta_mat = obs_var*(np.linalg.inv(np.matmul(X_mat.T, X_mat)))\n",
    "        self.var_beta = self.var_beta_mat.diagonal()\n",
    "    \n",
    "        # Standard error is square root of variance\n",
    "        self.se_beta = np.sqrt(self.var_beta)\n",
    "    \n",
    "        # t-statistic for beta_i is beta_i/se_i, \n",
    "        # where se_i is the standard error for beta_i\n",
    "        t_stats_beta = self.params/self.se_beta\n",
    "    \n",
    "        # Compute p-values for each parameter using a t-distribution with\n",
    "        # (num_samples - 1) degrees of freedom\n",
    "        beta_p_values = [2 * (1 - stats.t.cdf(np.abs(t_i), X_mat.shape[0] - 1)) for t_i in t_stats_beta]\n",
    "    \n",
    "        # Compute value of overall F-statistic, to measure how likely our\n",
    "        # coefficient estimate are, assuming there is no relationship between\n",
    "        # the predictors and the response\n",
    "        self.F_overall = ((self.TSS - self.RSS)/(X_mat.shape[1] - 1))/(self.RSS/(X_mat.shape[0] - X_mat.shape[1]))\n",
    "        self.F_p_value = stats.f.sf(self.F_overall, X_mat.shape[1] - 1, X_mat.shape[0] - X_mat.shape[1])\n",
    "    \n",
    "        # Construct dataframe for the overall model statistics:\n",
    "        # RSE, R^2, F-statistic, p-value for F-statistic\n",
    "        oa_model_stats = pd.Series({\"Residual standard error\": self.RSE, \"R-squared\": self.score(X, y), \"F-statistic\": self.F_overall, \"F-test p-value\": self.F_p_value})\n",
    "    \n",
    "        # Construct dataframe for parameter statistics:\n",
    "        # coefficients, standard errors, t-statistic, p-values for t-statistics\n",
    "        param_stats = pd.DataFrame({\"Coefficient\": self.params, \"Standard Error\": self.se_beta, \"t-value\": t_stats_beta, \"Prob(>|t|)\": beta_p_values})\n",
    "        return {\"model\": self, \"param_stats\": param_stats, \"oa_stats\": oa_model_stats}\n",
    "    \n",
    "    def param_conf_int(self, level = 0.95):\n",
    "        \"\"\"\n",
    "        Assume level, if given, is a float with 0 < level < 1\n",
    "        Computes confidence intervals at the given confidence level for each parameter\n",
    "        in the linear regression model relating the predictors X to the response y\n",
    "        Returns a dataframe with the endpoints of the confidence interval for each parameter\n",
    "        \"\"\"\n",
    "        conf_intervals = pd.DataFrame()\n",
    "        # Degrees of freedom = num_samples - (num_features + 1)\n",
    "        df = self.training_X.shape[0] - (self.training_X.shape[1] + 1)\n",
    "        a, b = str(round((1 - level)*100/2, 2)) + \"%\", str(round((1 + level)*100/2, 2)) + \"%\"\n",
    "        # Loop through each parameter\n",
    "        for i in range(len(self.params)):\n",
    "            coeff = self.params[i]\n",
    "            std_err = self.se_beta[i]\n",
    "            # alpha = level of confidence\n",
    "            # df = degrees of freedom = num_samples - number of parameters\n",
    "            # loc = center of t-interval = estimated coefficient value\n",
    "            # scale = standard error in coefficient estimate\n",
    "            conf_intervals = conf_intervals.append(pd.DataFrame([stats.t.interval(level, df, loc = coeff, scale = std_err)], columns = [a, b]), ignore_index = True)\n",
    "        return conf_intervals\n",
    "    \n",
    "    def predict_intervals(self, X_pred, level = 0.95, kind = \"confidence\"):\n",
    "        \"\"\"\n",
    "        Assume X_pred is array-like with shape (num_predictions, num_features) with x-values for which we want predictions\n",
    "        Assume level, if given, is a float with 0 < level < 1\n",
    "        Assume kind, if given is either the string \"confidence\" or \"prediction\" for the kind of interval\n",
    "        Computes confidence intervals at the given confidence level for each parameter\n",
    "        in the linear regression model relating the predictors X to the response y\n",
    "        Returns a dataframe with the endpoints of the confidence interval for each parameter\n",
    "        \"\"\"\n",
    "        # Store predictions for easy access\n",
    "        predictions = self.predict(X_pred)\n",
    "        intervals = pd.DataFrame()\n",
    "        # Degrees of freedom = num_samples - (num_features + 1)\n",
    "        df = self.training_X.shape[0] - (self.training_X.shape[1] + 1)\n",
    "        a, b = str(round((1 - level)*100/2, 2)) + \"%\", str(round((1 + level)*100/2, 2)) + \"%\"\n",
    "        # Loop through each x-value being used for prediction\n",
    "        for i in range(len(predictions)):\n",
    "            prediction = predictions[i]\n",
    "            # Need to append the leading 1 since our matrix of regression parameter\n",
    "            # Estimates has first row the estimate for the constant\n",
    "            x_star = np.append(np.ones(1), X_pred[i])\n",
    "            conf_error = np.matmul(np.matmul(x_star.T, self.var_beta_mat), x_star)**0.5\n",
    "            predict_error = (self.RSE**2 + conf_error**2)**0.5\n",
    "            # alpha = level of confidence\n",
    "            # df = degrees of freedom = num_samples - number of parameters\n",
    "            # loc = center of t-interval = predicted value from linear regression model\n",
    "            # scale = standard error in predicted value estimate\n",
    "            if (kind == \"confidence\"):\n",
    "                lower, upper = stats.t.interval(level, df, loc = prediction, scale = conf_error)\n",
    "                intervals = intervals.append(pd.Series({\"prediction\": prediction[0], a: lower[0], b: upper[0]}), ignore_index = True) \n",
    "            elif(kind == \"prediction\"):\n",
    "                lower, upper = stats.t.interval(level, df, loc = prediction, scale = predict_error)\n",
    "                intervals = intervals.append(pd.Series({\"prediction\": prediction[0], a: lower[0], b: upper[0]}), ignore_index = True)\n",
    "        return intervals"
   ]
  },
  {
   "cell_type": "markdown",
   "metadata": {},
   "source": [
    "Having a class like this makes the act of accessing the various regression statistics more like the way things are done with StatsModels. For example, we can go back and redo some of the computations we did in a way that extends better to the further examples later on in this lab."
   ]
  },
  {
   "cell_type": "code",
   "execution_count": 27,
   "metadata": {},
   "outputs": [
    {
     "data": {
      "text/html": [
       "<div>\n",
       "<style scoped>\n",
       "    .dataframe tbody tr th:only-of-type {\n",
       "        vertical-align: middle;\n",
       "    }\n",
       "\n",
       "    .dataframe tbody tr th {\n",
       "        vertical-align: top;\n",
       "    }\n",
       "\n",
       "    .dataframe thead th {\n",
       "        text-align: right;\n",
       "    }\n",
       "</style>\n",
       "<table border=\"1\" class=\"dataframe\">\n",
       "  <thead>\n",
       "    <tr style=\"text-align: right;\">\n",
       "      <th></th>\n",
       "      <th>Coefficient</th>\n",
       "      <th>Standard Error</th>\n",
       "      <th>t-value</th>\n",
       "      <th>Prob(&gt;|t|)</th>\n",
       "    </tr>\n",
       "  </thead>\n",
       "  <tbody>\n",
       "    <tr>\n",
       "      <td>0</td>\n",
       "      <td>34.5820</td>\n",
       "      <td>0.5588</td>\n",
       "      <td>61.8844</td>\n",
       "      <td>0.0</td>\n",
       "    </tr>\n",
       "    <tr>\n",
       "      <td>1</td>\n",
       "      <td>-0.9526</td>\n",
       "      <td>0.0385</td>\n",
       "      <td>-24.7612</td>\n",
       "      <td>0.0</td>\n",
       "    </tr>\n",
       "  </tbody>\n",
       "</table>\n",
       "</div>"
      ],
      "text/plain": [
       "   Coefficient  Standard Error  t-value  Prob(>|t|)\n",
       "0      34.5820          0.5588  61.8844         0.0\n",
       "1      -0.9526          0.0385 -24.7612         0.0"
      ]
     },
     "execution_count": 27,
     "metadata": {},
     "output_type": "execute_result"
    }
   ],
   "source": [
    "extended_reg = ExtendedLinearRegression()\n",
    "detailed_regression_stats = extended_reg.detailed_linear_regression(X, y)\n",
    "np.round(detailed_regression_stats[\"param_stats\"], 4)"
   ]
  },
  {
   "cell_type": "code",
   "execution_count": 28,
   "metadata": {},
   "outputs": [
    {
     "data": {
      "text/plain": [
       "Residual standard error      6.1737\n",
       "R-squared                    0.5488\n",
       "F-statistic                613.1153\n",
       "F-test p-value               0.0000\n",
       "dtype: float64"
      ]
     },
     "execution_count": 28,
     "metadata": {},
     "output_type": "execute_result"
    }
   ],
   "source": [
    "np.round(detailed_regression_stats[\"oa_stats\"], 4)"
   ]
  },
  {
   "cell_type": "code",
   "execution_count": 29,
   "metadata": {},
   "outputs": [
    {
     "data": {
      "text/html": [
       "<div>\n",
       "<style scoped>\n",
       "    .dataframe tbody tr th:only-of-type {\n",
       "        vertical-align: middle;\n",
       "    }\n",
       "\n",
       "    .dataframe tbody tr th {\n",
       "        vertical-align: top;\n",
       "    }\n",
       "\n",
       "    .dataframe thead th {\n",
       "        text-align: right;\n",
       "    }\n",
       "</style>\n",
       "<table border=\"1\" class=\"dataframe\">\n",
       "  <thead>\n",
       "    <tr style=\"text-align: right;\">\n",
       "      <th></th>\n",
       "      <th>0.5%</th>\n",
       "      <th>99.5%</th>\n",
       "      <th>prediction</th>\n",
       "    </tr>\n",
       "  </thead>\n",
       "  <tbody>\n",
       "    <tr>\n",
       "      <td>0</td>\n",
       "      <td>13.822458</td>\n",
       "      <td>45.815675</td>\n",
       "      <td>29.819067</td>\n",
       "    </tr>\n",
       "    <tr>\n",
       "      <td>1</td>\n",
       "      <td>9.075465</td>\n",
       "      <td>41.036793</td>\n",
       "      <td>25.056129</td>\n",
       "    </tr>\n",
       "    <tr>\n",
       "      <td>2</td>\n",
       "      <td>4.313001</td>\n",
       "      <td>36.273381</td>\n",
       "      <td>20.293191</td>\n",
       "    </tr>\n",
       "  </tbody>\n",
       "</table>\n",
       "</div>"
      ],
      "text/plain": [
       "        0.5%      99.5%  prediction\n",
       "0  13.822458  45.815675   29.819067\n",
       "1   9.075465  41.036793   25.056129\n",
       "2   4.313001  36.273381   20.293191"
      ]
     },
     "execution_count": 29,
     "metadata": {},
     "output_type": "execute_result"
    }
   ],
   "source": [
    "extended_reg.predict_intervals(np.array([5, 10, 15]).reshape((-1, 1)), level = 0.99, kind = \"prediction\")"
   ]
  },
  {
   "cell_type": "markdown",
   "metadata": {},
   "source": [
    "There are a few different options for plotting a least squares regression line alongside the scatterplot of `CMEDV` versus `LSTAT`. The first, which would be best for exploring whether or not least squares regression would be appropriate, as well as explore some simple variable transforms beyond linear regression (e.g. using polynomial regression of some degree bigger than 1), would be to use Seaborn's `lmplot()` or `regplot()` functions. The `lmplot()` function can be especially handy if we want to quickly visualize regression models that reflect different facets of the data. One example given in the [tutorial for visualizing linear relationships in Seaborn](http://seaborn.pydata.org/tutorial/regression.html) is exploring the difference between the tipping habits smokers and non-smokers as it relates to the total bill. Note that by default, Seaborn will include translucent bands around the regression line to indicate a 95% confidence interval for the regression estimate. This behavior can be altered by setting the `ci` parameter with an integer between 0 and 100 for the confidence level, or be turned off by setting `ci = None`."
   ]
  },
  {
   "cell_type": "code",
   "execution_count": 30,
   "metadata": {},
   "outputs": [
    {
     "data": {
      "text/plain": [
       "<matplotlib.axes._subplots.AxesSubplot at 0x1db5a9ed488>"
      ]
     },
     "execution_count": 30,
     "metadata": {},
     "output_type": "execute_result"
    },
    {
     "data": {
      "image/png": "[encoded data removed]",
      "text/plain": [
       "<Figure size 432x288 with 1 Axes>"
      ]
     },
     "metadata": {
      "needs_background": "light"
     },
     "output_type": "display_data"
    }
   ],
   "source": [
    "# Plot scatterplot with regression line and default 95% confidence interval for regression estimate\n",
    "# Set the marker transparancy to 0.25 in order to more clearly see the regression line\n",
    "# Make regression line orange so it is more visible\n",
    "sns.regplot(x = \"LSTAT\", y = \"CMEDV\", data = boston, scatter_kws = {\"alpha\":0.25}, line_kws = {\"color\":\"orange\"})"
   ]
  },
  {
   "cell_type": "code",
   "execution_count": 31,
   "metadata": {},
   "outputs": [
    {
     "data": {
      "text/plain": [
       "<matplotlib.axes._subplots.AxesSubplot at 0x1db5aaa2d48>"
      ]
     },
     "execution_count": 31,
     "metadata": {},
     "output_type": "execute_result"
    },
    {
     "data": {
      "image/png": "[encoded data removed]",
      "text/plain": [
       "<Figure size 432x288 with 1 Axes>"
      ]
     },
     "metadata": {
      "needs_background": "light"
     },
     "output_type": "display_data"
    }
   ],
   "source": [
    "# Plot scatterplot with regression line and 99% confidence interval for regression estimate\n",
    "# Set the marker transparancy to 0.25 in order to more clearly see the regression line\n",
    "# Make regression line orange so it is more visible\n",
    "sns.regplot(x = \"LSTAT\", y = \"CMEDV\", data = boston, ci = 99, scatter_kws = {\"alpha\":0.25}, line_kws = {\"color\":\"orange\"})"
   ]
  },
  {
   "cell_type": "markdown",
   "metadata": {},
   "source": [
    "Notice that we can alter some options for how the points of the scatter plot and the regression line are displayed by using the `scatter_kws` and `line_kws` arguments, respectively. For further information about the options that can be tweaked, refer to the Matplotlib documentation for [plot](https://matplotlib.org/3.1.1/api/_as_gen/matplotlib.pyplot.plot.html) for the options for `line_kws` and for [scatter](https://matplotlib.org/3.1.1/api/_as_gen/matplotlib.pyplot.scatter.html) for `scatter_kws`."
   ]
  },
  {
   "cell_type": "markdown",
   "metadata": {},
   "source": [
    "We can also quickly plot the residuals with Seaborn's `residplot()` function."
   ]
  },
  {
   "cell_type": "code",
   "execution_count": 32,
   "metadata": {},
   "outputs": [
    {
     "data": {
      "text/plain": [
       "<matplotlib.axes._subplots.AxesSubplot at 0x1db5ab6a088>"
      ]
     },
     "execution_count": 32,
     "metadata": {},
     "output_type": "execute_result"
    },
    {
     "data": {
      "image/png": "[encoded data removed]",
      "text/plain": [
       "<Figure size 432x288 with 1 Axes>"
      ]
     },
     "metadata": {
      "needs_background": "light"
     },
     "output_type": "display_data"
    }
   ],
   "source": [
    "# Set the marker transparency to 0.25 in order to improve visibility\n",
    "sns.residplot(x = \"LSTAT\", y = \"CMEDV\", data = boston, scatter_kws = {\"alpha\":0.25})"
   ]
  },
  {
   "cell_type": "markdown",
   "metadata": {},
   "source": [
    "While plotting with Seaborn is pretty convenient, it is limited in the types of regression models it can produce and the transformations we can make to the predictor variable. In addition, Seaborn can only produce one type of residual plot. If we want to produce other plots, we'll need to do things a little more directly using Matplotlib.pyplot. First, let's demonstrate how to produce a scatter plot of `LSTAT` versus `CMEDV` with the least squares regression line on it. Here we'll be using the object-oriented syntax for using Matplotlib.pyplot."
   ]
  },
  {
   "cell_type": "code",
   "execution_count": 33,
   "metadata": {},
   "outputs": [
    {
     "data": {
      "text/plain": [
       "[Text(0, 0.5, 'CMEDV'), (0, 40), Text(0.5, 0, 'LSTAT')]"
      ]
     },
     "execution_count": 33,
     "metadata": {},
     "output_type": "execute_result"
    },
    {
     "data": {
      "image/png": "[encoded data removed]",
      "text/plain": [
       "<Figure size 432x288 with 1 Axes>"
      ]
     },
     "metadata": {
      "needs_background": "light"
     },
     "output_type": "display_data"
    }
   ],
   "source": [
    "# Generate a range of x-values to feed into the regression model for producing the\n",
    "# line that gets passed to the plot function\n",
    "x = np.linspace(0, 40, num = 100).reshape(-1, 1)\n",
    "predictions = reg.predict(x)\n",
    "fig = plt.figure()\n",
    "ax = plt.axes()\n",
    "# Plot the regression line in orange with a line width of 3 to increase visibility\n",
    "ax.plot(x, predictions, color = \"orange\", linewidth = 3)\n",
    "# Plot the scatter plot using an alpha value of 0.25 for the markers to reduce clutter\n",
    "ax.scatter(boston[\"LSTAT\"], boston[\"CMEDV\"], alpha = 0.25)\n",
    "# Give the scatterplot some labels that are more descriptive\n",
    "ax.set(xlabel = \"LSTAT\", ylabel = \"CMEDV\", xlim = (0, 40))"
   ]
  },
  {
   "cell_type": "markdown",
   "metadata": {},
   "source": [
    "From the scatter plot, we can see that there is some evidence that the relationship between `lstat` and `medv` is non-linear. We'll take a look at this a little later in the lab."
   ]
  },
  {
   "cell_type": "markdown",
   "metadata": {},
   "source": [
    "While Seaborn makes it really convenient to produce the residuals plot, it isn't quite as convenient to generate the other diagnostic plots which R can generate when applyint the `plot()` function to directly to the output from `lm()`. This is especially the case if we are using just scikit-learn, as we would have to calculate quantities such as the residuals or leverage values a little more directly. Things are a little easier when using StatsModels, as the `OLSResults` class has a number of built-in functions to calculate these quantities. To start off, let's compare the process for making a residuals plot by hand using scikit-learn versus StatsModels."
   ]
  },
  {
   "cell_type": "code",
   "execution_count": 34,
   "metadata": {},
   "outputs": [
    {
     "data": {
      "text/plain": [
       "[Text(0, 0.5, 'Residual value'), Text(0.5, 0, 'Fitted value of CMEDV')]"
      ]
     },
     "execution_count": 34,
     "metadata": {},
     "output_type": "execute_result"
    },
    {
     "data": {
      "image/png": "[encoded data removed]",
      "text/plain": [
       "<Figure size 432x288 with 1 Axes>"
      ]
     },
     "metadata": {
      "needs_background": "light"
     },
     "output_type": "display_data"
    }
   ],
   "source": [
    "# Generating residual plot by hand using scikit-learn\n",
    "# Compute predicted values\n",
    "predicted_cmedv = reg.predict(X)\n",
    "# Compute residuals\n",
    "residuals = y - predicted_cmedv\n",
    "fig = plt.figure()\n",
    "ax = plt.axes()\n",
    "# Plot residuals versus fitted values\n",
    "ax.scatter(predicted_cmedv, residuals, alpha = 0.25)\n",
    "# Plot orange dashed horizontal line y = 0\n",
    "ax.axhline(y = 0, color = \"orange\", linestyle = \"--\")\n",
    "# Give the plot some descriptive axis labels\n",
    "ax.set(xlabel = \"Fitted value of CMEDV\", ylabel = \"Residual value\")"
   ]
  },
  {
   "cell_type": "code",
   "execution_count": 35,
   "metadata": {},
   "outputs": [
    {
     "data": {
      "text/plain": [
       "[Text(0, 0.5, 'Residual value'), Text(0.5, 0, 'Fitted value of CMEDV')]"
      ]
     },
     "execution_count": 35,
     "metadata": {},
     "output_type": "execute_result"
    },
    {
     "data": {
      "image/png": "[encoded data removed]",
      "text/plain": [
       "<Figure size 432x288 with 1 Axes>"
      ]
     },
     "metadata": {
      "needs_background": "light"
     },
     "output_type": "display_data"
    }
   ],
   "source": [
    "# Generating residual plot by hand using StatsModels\n",
    "# Compute predicted values\n",
    "predicted_cmedv = res.predict()\n",
    "# Compute residuals\n",
    "residuals = res.resid\n",
    "fig = plt.figure()\n",
    "ax = plt.axes()\n",
    "# Plot residuals versus fitted values\n",
    "ax.scatter(predicted_cmedv, residuals, alpha = 0.25)\n",
    "# Plot orange dashed horizontal line y = 0\n",
    "ax.axhline(y = 0, color = \"orange\", linestyle = \"--\")\n",
    "# Give the plot some descriptive axis labels\n",
    "ax.set(xlabel = \"Fitted value of CMEDV\", ylabel = \"Residual value\")"
   ]
  },
  {
   "cell_type": "markdown",
   "metadata": {},
   "source": [
    "For now we won't worry about producing the Q-Q plot or Scale-Location plot in Python, but for future reference one option is to use some of the [built-in plotting methods in StatsModels](https://www.statsmodels.org/stable/graphics.html) for this if we don't want to code things by hand. We will, however, still go over how to compute leverage statistics and (internally) studentized residuals and then plot them. We will refer to the [Wikipedia page on studentized residuals](https://en.wikipedia.org/wiki/Studentized_residual) for the underlying math."
   ]
  },
  {
   "cell_type": "code",
   "execution_count": 36,
   "metadata": {},
   "outputs": [
    {
     "data": {
      "text/plain": [
       "[Text(0, 0.5, 'Studentized residual value'),\n",
       " Text(0.5, 0, 'Fitted value of CMEDV')]"
      ]
     },
     "execution_count": 36,
     "metadata": {},
     "output_type": "execute_result"
    },
    {
     "data": {
      "image/png": "[encoded data removed]",
      "text/plain": [
       "<Figure size 432x288 with 1 Axes>"
      ]
     },
     "metadata": {
      "needs_background": "light"
     },
     "output_type": "display_data"
    }
   ],
   "source": [
    "# Appened leading column of ones to the matrix of predictors\n",
    "design_mat = np.append(np.ones((X.shape[0], 1)), X, axis = 1)\n",
    "# Compute hat matrix\n",
    "hat_mat = design_mat @ np.linalg.inv(design_mat.T @ design_mat) @ design_mat.T\n",
    "# Leverage values are the diagonal of the hat matrix\n",
    "leverage_vals = hat_mat.diagonal()\n",
    "residuals = (y - reg.predict(X)).flatten()\n",
    "residual_standard_error = (np.sum(residuals**2) / (design_mat.shape[0] - design_mat.shape[1]))**0.5\n",
    "# Compute studentized residuals\n",
    "studentized_residuals = residuals/(residual_standard_error*(1 - leverage_vals)**0.5)\n",
    "fig = plt.figure()\n",
    "ax = plt.axes()\n",
    "# Plot studentized residuals versus fitted values\n",
    "ax.scatter(predicted_cmedv, studentized_residuals, alpha = 0.25)\n",
    "# Plot orange dashed horizontal line y = 0\n",
    "ax.axhline(y = 0, color = \"orange\", linestyle = \"--\")\n",
    "# Give the plot some descriptive axis labels\n",
    "ax.set(xlabel = \"Fitted value of CMEDV\", ylabel = \"Studentized residual value\")"
   ]
  },
  {
   "cell_type": "code",
   "execution_count": 37,
   "metadata": {},
   "outputs": [
    {
     "data": {
      "text/plain": [
       "[(0, 0.029551683161311827),\n",
       " Text(0, 0.5, 'Leverage value'),\n",
       " Text(0.5, 0, 'Index')]"
      ]
     },
     "execution_count": 37,
     "metadata": {},
     "output_type": "execute_result"
    },
    {
     "data": {
      "image/png": "[encoded data removed]",
      "text/plain": [
       "<Figure size 432x288 with 1 Axes>"
      ]
     },
     "metadata": {
      "needs_background": "light"
     },
     "output_type": "display_data"
    }
   ],
   "source": [
    "fig = plt.figure()\n",
    "ax = plt.axes()\n",
    "# Plot leverage values for each observation\n",
    "ax.scatter(np.arange(design_mat.shape[0]), leverage_vals, alpha = 0.25)\n",
    "# Plot orange dashed horizontal line y = (p + 1)/n, the average leverage for all observations\n",
    "ax.axhline(y = design_mat.shape[1]/design_mat.shape[0], color = \"orange\", linestyle = \"--\")\n",
    "# Give the plot some descriptive axis labels\n",
    "ax.set(xlabel = \"Index\", ylabel = \"Leverage value\", ylim = (0, leverage_vals.max()*1.1))"
   ]
  },
  {
   "cell_type": "markdown",
   "metadata": {},
   "source": [
    "Since we stored the leverage values in a NumPy array, we can use the `argmax()` function to find the index of the maximum leverage value. In other words, we can use it in this case to find out which observation has the largest leverage value."
   ]
  },
  {
   "cell_type": "code",
   "execution_count": 38,
   "metadata": {},
   "outputs": [
    {
     "data": {
      "text/plain": [
       "374"
      ]
     },
     "execution_count": 38,
     "metadata": {},
     "output_type": "execute_result"
    }
   ],
   "source": [
    "leverage_vals.argmax()"
   ]
  },
  {
   "cell_type": "markdown",
   "metadata": {},
   "source": [
    "Recall that NumPy arrays are zero-indexed, so this tells us that the 375th observation has the largest leverage value."
   ]
  },
  {
   "cell_type": "markdown",
   "metadata": {},
   "source": [
    "If we want to use StatsModels to compute leverage values and studentized residuals, we use the `OLSResults.get_influence()` to generate an [OLSInfluence](http://www.statsmodels.org/stable/generated/statsmodels.stats.outliers_influence.OLSInfluence.html) object. From there, we can use the `OLSInfluence.hat_matrix_diagonal()` function to compute leverage values and `OLSInfluence.resid_studentized()` to compute (internally) studentized residuals."
   ]
  },
  {
   "cell_type": "markdown",
   "metadata": {},
   "source": [
    "## Multiple Linear Regression"
   ]
  },
  {
   "cell_type": "markdown",
   "metadata": {},
   "source": [
    "To perform multiple linear regression using least squares, we again use the LinearRegression class from scikit-learn (or our ExtendedLinearRegression class, which extends the scikit-learn LinearRegression class), or we use the OLS class from StatsModels. In either case, the only change in syntax is in selecting the columns we use for regression. This will give a linear regression function of the form $y = \\beta_0 + \\beta_1x_1 + \\beta_2x_2 + \\cdots + \\beta_nx_n$. To start off with, we perform multiple linear regression using `LSTAT` and `AGE` to predict `CMEDV`."
   ]
  },
  {
   "cell_type": "code",
   "execution_count": 39,
   "metadata": {},
   "outputs": [],
   "source": [
    "# Create an ExtendedLinearRegression object\n",
    "reg = ExtendedLinearRegression()\n",
    "# Need to extract the columns we are using and then reshape them so that\n",
    "# X has the shape (n_samples, n_features),\n",
    "# Y has the shape (n_samples, n_targets)\n",
    "# When using -1 as one of the reshape arguments, NumPy will infer the value\n",
    "# from the length of the array and the values for the other dimensions\n",
    "X = boston.loc[:, [\"LSTAT\", \"AGE\"]].values\n",
    "y = boston[\"CMEDV\"].values.reshape(-1, 1)\n",
    "# Fit linear regression model using X = LSTAT, y = CMEDV\n",
    "detailed_regression_stats = reg.detailed_linear_regression(X, y)"
   ]
  },
  {
   "cell_type": "code",
   "execution_count": 40,
   "metadata": {},
   "outputs": [
    {
     "data": {
      "text/html": [
       "<div>\n",
       "<style scoped>\n",
       "    .dataframe tbody tr th:only-of-type {\n",
       "        vertical-align: middle;\n",
       "    }\n",
       "\n",
       "    .dataframe tbody tr th {\n",
       "        vertical-align: top;\n",
       "    }\n",
       "\n",
       "    .dataframe thead th {\n",
       "        text-align: right;\n",
       "    }\n",
       "</style>\n",
       "<table border=\"1\" class=\"dataframe\">\n",
       "  <thead>\n",
       "    <tr style=\"text-align: right;\">\n",
       "      <th></th>\n",
       "      <th>Coefficient</th>\n",
       "      <th>Standard Error</th>\n",
       "      <th>t-value</th>\n",
       "      <th>Prob(&gt;|t|)</th>\n",
       "    </tr>\n",
       "  </thead>\n",
       "  <tbody>\n",
       "    <tr>\n",
       "      <td>0</td>\n",
       "      <td>33.2360</td>\n",
       "      <td>0.7257</td>\n",
       "      <td>45.7994</td>\n",
       "      <td>0.0000</td>\n",
       "    </tr>\n",
       "    <tr>\n",
       "      <td>1</td>\n",
       "      <td>-1.0355</td>\n",
       "      <td>0.0479</td>\n",
       "      <td>-21.6409</td>\n",
       "      <td>0.0000</td>\n",
       "    </tr>\n",
       "    <tr>\n",
       "      <td>2</td>\n",
       "      <td>0.0349</td>\n",
       "      <td>0.0121</td>\n",
       "      <td>2.8776</td>\n",
       "      <td>0.0042</td>\n",
       "    </tr>\n",
       "  </tbody>\n",
       "</table>\n",
       "</div>"
      ],
      "text/plain": [
       "   Coefficient  Standard Error  t-value  Prob(>|t|)\n",
       "0      33.2360          0.7257  45.7994      0.0000\n",
       "1      -1.0355          0.0479 -21.6409      0.0000\n",
       "2       0.0349          0.0121   2.8776      0.0042"
      ]
     },
     "execution_count": 40,
     "metadata": {},
     "output_type": "execute_result"
    }
   ],
   "source": [
    "np.round(detailed_regression_stats[\"param_stats\"], 4)"
   ]
  },
  {
   "cell_type": "code",
   "execution_count": 41,
   "metadata": {},
   "outputs": [
    {
     "data": {
      "text/plain": [
       "Residual standard error      6.1295\n",
       "R-squared                    0.5561\n",
       "F-statistic                315.1267\n",
       "F-test p-value               0.0000\n",
       "dtype: float64"
      ]
     },
     "execution_count": 41,
     "metadata": {},
     "output_type": "execute_result"
    }
   ],
   "source": [
    "np.round(detailed_regression_stats[\"oa_stats\"], 4)"
   ]
  },
  {
   "cell_type": "code",
   "execution_count": 42,
   "metadata": {},
   "outputs": [
    {
     "name": "stdout",
     "output_type": "stream",
     "text": [
      "                            OLS Regression Results                            \n",
      "==============================================================================\n",
      "Dep. Variable:                  CMEDV   R-squared:                       0.556\n",
      "Model:                            OLS   Adj. R-squared:                  0.554\n",
      "Method:                 Least Squares   F-statistic:                     315.1\n",
      "Date:                Tue, 19 Nov 2019   Prob (F-statistic):           1.91e-89\n",
      "Time:                        10:02:34   Log-Likelihood:                -1633.9\n",
      "No. Observations:                 506   AIC:                             3274.\n",
      "Df Residuals:                     503   BIC:                             3287.\n",
      "Df Model:                           2                                         \n",
      "Covariance Type:            nonrobust                                         \n",
      "==============================================================================\n",
      "                 coef    std err          t      P>|t|      [0.025      0.975]\n",
      "------------------------------------------------------------------------------\n",
      "const         33.2360      0.726     45.799      0.000      31.810      34.662\n",
      "LSTAT         -1.0355      0.048    -21.641      0.000      -1.130      -0.942\n",
      "AGE            0.0349      0.012      2.878      0.004       0.011       0.059\n",
      "==============================================================================\n",
      "Omnibus:                      128.978   Durbin-Watson:                   0.958\n",
      "Prob(Omnibus):                  0.000   Jarque-Bera (JB):              257.159\n",
      "Skew:                           1.406   Prob(JB):                     1.44e-56\n",
      "Kurtosis:                       5.072   Cond. No.                         201.\n",
      "==============================================================================\n",
      "\n",
      "Warnings:\n",
      "[1] Standard Errors assume that the covariance matrix of the errors is correctly specified.\n"
     ]
    },
    {
     "name": "stderr",
     "output_type": "stream",
     "text": [
      "C:\\Users\\Kyle\\Anaconda3\\envs\\islr\\lib\\site-packages\\numpy\\core\\fromnumeric.py:2389: FutureWarning: Method .ptp is deprecated and will be removed in a future version. Use numpy.ptp instead.\n",
      "  return ptp(axis=axis, out=out, **kwargs)\n"
     ]
    }
   ],
   "source": [
    "# Use the terms exog (exogenous) and endog (endogenous) for X and y,\n",
    "# respectively to match the language used in the StatsModels documentation\n",
    "# Need to manually add a column for the intercept, as StatsModels does not\n",
    "# include it by default when performing ordinary least-squares regression\n",
    "exog = sm.add_constant(boston.loc[:, [\"LSTAT\", \"AGE\"]])\n",
    "endog = boston[\"CMEDV\"]\n",
    "\n",
    "# Generate the model\n",
    "mod = sm.OLS(endog, exog)\n",
    "\n",
    "# Fit the model\n",
    "res = mod.fit()\n",
    "\n",
    "#Print out model summary\n",
    "print(res.summary())"
   ]
  },
  {
   "cell_type": "markdown",
   "metadata": {},
   "source": [
    "A quick way to peform a regression using all of the predictors in a data set is to use the `drop()` function in Pandas to drop the column containing the response variable."
   ]
  },
  {
   "cell_type": "code",
   "execution_count": 43,
   "metadata": {},
   "outputs": [],
   "source": [
    "# Create an ExtendedLinearRegression object\n",
    "reg = ExtendedLinearRegression()\n",
    "# Need to extract the columns we are using and then reshape them so that\n",
    "# X has the shape (n_samples, n_features),\n",
    "# Y has the shape (n_samples, n_targets)\n",
    "# When using -1 as one of the reshape arguments, NumPy will infer the value\n",
    "# from the length of the array and the values for the other dimensions\n",
    "X = boston.drop(columns = [\"CMEDV\"]).values\n",
    "y = boston[\"CMEDV\"].values.reshape(-1, 1)\n",
    "# Fit linear regression model using X = LSTAT, y = CMEDV\n",
    "detailed_regression_stats = reg.detailed_linear_regression(X, y)"
   ]
  },
  {
   "cell_type": "code",
   "execution_count": 44,
   "metadata": {},
   "outputs": [
    {
     "data": {
      "text/html": [
       "<div>\n",
       "<style scoped>\n",
       "    .dataframe tbody tr th:only-of-type {\n",
       "        vertical-align: middle;\n",
       "    }\n",
       "\n",
       "    .dataframe tbody tr th {\n",
       "        vertical-align: top;\n",
       "    }\n",
       "\n",
       "    .dataframe thead th {\n",
       "        text-align: right;\n",
       "    }\n",
       "</style>\n",
       "<table border=\"1\" class=\"dataframe\">\n",
       "  <thead>\n",
       "    <tr style=\"text-align: right;\">\n",
       "      <th></th>\n",
       "      <th>Coefficient</th>\n",
       "      <th>Standard Error</th>\n",
       "      <th>t-value</th>\n",
       "      <th>Prob(&gt;|t|)</th>\n",
       "    </tr>\n",
       "  </thead>\n",
       "  <tbody>\n",
       "    <tr>\n",
       "      <td>0</td>\n",
       "      <td>36.3719</td>\n",
       "      <td>5.0577</td>\n",
       "      <td>7.1914</td>\n",
       "      <td>0.0000</td>\n",
       "    </tr>\n",
       "    <tr>\n",
       "      <td>1</td>\n",
       "      <td>-0.1062</td>\n",
       "      <td>0.0326</td>\n",
       "      <td>-3.2607</td>\n",
       "      <td>0.0012</td>\n",
       "    </tr>\n",
       "    <tr>\n",
       "      <td>2</td>\n",
       "      <td>0.0477</td>\n",
       "      <td>0.0136</td>\n",
       "      <td>3.5080</td>\n",
       "      <td>0.0005</td>\n",
       "    </tr>\n",
       "    <tr>\n",
       "      <td>3</td>\n",
       "      <td>0.0233</td>\n",
       "      <td>0.0609</td>\n",
       "      <td>0.3815</td>\n",
       "      <td>0.7030</td>\n",
       "    </tr>\n",
       "    <tr>\n",
       "      <td>4</td>\n",
       "      <td>2.6917</td>\n",
       "      <td>0.8539</td>\n",
       "      <td>3.1525</td>\n",
       "      <td>0.0017</td>\n",
       "    </tr>\n",
       "    <tr>\n",
       "      <td>5</td>\n",
       "      <td>-17.7426</td>\n",
       "      <td>3.7855</td>\n",
       "      <td>-4.6870</td>\n",
       "      <td>0.0000</td>\n",
       "    </tr>\n",
       "    <tr>\n",
       "      <td>6</td>\n",
       "      <td>3.7894</td>\n",
       "      <td>0.4142</td>\n",
       "      <td>9.1492</td>\n",
       "      <td>0.0000</td>\n",
       "    </tr>\n",
       "    <tr>\n",
       "      <td>7</td>\n",
       "      <td>0.0006</td>\n",
       "      <td>0.0131</td>\n",
       "      <td>0.0439</td>\n",
       "      <td>0.9650</td>\n",
       "    </tr>\n",
       "    <tr>\n",
       "      <td>8</td>\n",
       "      <td>-1.5018</td>\n",
       "      <td>0.1977</td>\n",
       "      <td>-7.5976</td>\n",
       "      <td>0.0000</td>\n",
       "    </tr>\n",
       "    <tr>\n",
       "      <td>9</td>\n",
       "      <td>0.3038</td>\n",
       "      <td>0.0658</td>\n",
       "      <td>4.6198</td>\n",
       "      <td>0.0000</td>\n",
       "    </tr>\n",
       "    <tr>\n",
       "      <td>10</td>\n",
       "      <td>-0.0127</td>\n",
       "      <td>0.0037</td>\n",
       "      <td>-3.4090</td>\n",
       "      <td>0.0007</td>\n",
       "    </tr>\n",
       "    <tr>\n",
       "      <td>11</td>\n",
       "      <td>-0.9239</td>\n",
       "      <td>0.1297</td>\n",
       "      <td>-7.1260</td>\n",
       "      <td>0.0000</td>\n",
       "    </tr>\n",
       "    <tr>\n",
       "      <td>12</td>\n",
       "      <td>0.0092</td>\n",
       "      <td>0.0027</td>\n",
       "      <td>3.4669</td>\n",
       "      <td>0.0006</td>\n",
       "    </tr>\n",
       "    <tr>\n",
       "      <td>13</td>\n",
       "      <td>-0.5307</td>\n",
       "      <td>0.0503</td>\n",
       "      <td>-10.5583</td>\n",
       "      <td>0.0000</td>\n",
       "    </tr>\n",
       "  </tbody>\n",
       "</table>\n",
       "</div>"
      ],
      "text/plain": [
       "    Coefficient  Standard Error  t-value  Prob(>|t|)\n",
       "0       36.3719          5.0577   7.1914      0.0000\n",
       "1       -0.1062          0.0326  -3.2607      0.0012\n",
       "2        0.0477          0.0136   3.5080      0.0005\n",
       "3        0.0233          0.0609   0.3815      0.7030\n",
       "4        2.6917          0.8539   3.1525      0.0017\n",
       "5      -17.7426          3.7855  -4.6870      0.0000\n",
       "6        3.7894          0.4142   9.1492      0.0000\n",
       "7        0.0006          0.0131   0.0439      0.9650\n",
       "8       -1.5018          0.1977  -7.5976      0.0000\n",
       "9        0.3038          0.0658   4.6198      0.0000\n",
       "10      -0.0127          0.0037  -3.4090      0.0007\n",
       "11      -0.9239          0.1297  -7.1260      0.0000\n",
       "12       0.0092          0.0027   3.4669      0.0006\n",
       "13      -0.5307          0.0503 -10.5583      0.0000"
      ]
     },
     "execution_count": 44,
     "metadata": {},
     "output_type": "execute_result"
    }
   ],
   "source": [
    "np.round(detailed_regression_stats[\"param_stats\"], 4)"
   ]
  },
  {
   "cell_type": "code",
   "execution_count": 45,
   "metadata": {},
   "outputs": [
    {
     "data": {
      "text/plain": [
       "Residual standard error      4.7027\n",
       "R-squared                    0.7444\n",
       "F-statistic                110.2480\n",
       "F-test p-value               0.0000\n",
       "dtype: float64"
      ]
     },
     "execution_count": 45,
     "metadata": {},
     "output_type": "execute_result"
    }
   ],
   "source": [
    "np.round(detailed_regression_stats[\"oa_stats\"], 4)"
   ]
  },
  {
   "cell_type": "code",
   "execution_count": 46,
   "metadata": {},
   "outputs": [
    {
     "name": "stdout",
     "output_type": "stream",
     "text": [
      "                            OLS Regression Results                            \n",
      "==============================================================================\n",
      "Dep. Variable:                  CMEDV   R-squared:                       0.744\n",
      "Model:                            OLS   Adj. R-squared:                  0.738\n",
      "Method:                 Least Squares   F-statistic:                     110.2\n",
      "Date:                Tue, 19 Nov 2019   Prob (F-statistic):          1.83e-136\n",
      "Time:                        10:02:35   Log-Likelihood:                -1494.2\n",
      "No. Observations:                 506   AIC:                             3016.\n",
      "Df Residuals:                     492   BIC:                             3076.\n",
      "Df Model:                          13                                         \n",
      "Covariance Type:            nonrobust                                         \n",
      "==============================================================================\n",
      "                 coef    std err          t      P>|t|      [0.025      0.975]\n",
      "------------------------------------------------------------------------------\n",
      "const         36.3719      5.058      7.191      0.000      26.435      46.309\n",
      "CRIM          -0.1062      0.033     -3.261      0.001      -0.170      -0.042\n",
      "ZN             0.0477      0.014      3.508      0.000       0.021       0.074\n",
      "INDUS          0.0233      0.061      0.382      0.703      -0.096       0.143\n",
      "CHAS           2.6917      0.854      3.152      0.002       1.014       4.369\n",
      "NOX          -17.7426      3.785     -4.687      0.000     -25.180     -10.305\n",
      "RM             3.7894      0.414      9.149      0.000       2.976       4.603\n",
      "AGE            0.0006      0.013      0.044      0.965      -0.025       0.026\n",
      "DIS           -1.5018      0.198     -7.598      0.000      -1.890      -1.113\n",
      "RAD            0.3038      0.066      4.620      0.000       0.175       0.433\n",
      "TAX           -0.0127      0.004     -3.409      0.001      -0.020      -0.005\n",
      "PTRATIO       -0.9239      0.130     -7.126      0.000      -1.179      -0.669\n",
      "B              0.0092      0.003      3.467      0.001       0.004       0.014\n",
      "LSTAT         -0.5307      0.050    -10.558      0.000      -0.629      -0.432\n",
      "==============================================================================\n",
      "Omnibus:                      185.097   Durbin-Watson:                   1.087\n",
      "Prob(Omnibus):                  0.000   Jarque-Bera (JB):              842.380\n",
      "Skew:                           1.576   Prob(JB):                    1.20e-183\n",
      "Kurtosis:                       8.479   Cond. No.                     1.51e+04\n",
      "==============================================================================\n",
      "\n",
      "Warnings:\n",
      "[1] Standard Errors assume that the covariance matrix of the errors is correctly specified.\n",
      "[2] The condition number is large, 1.51e+04. This might indicate that there are\n",
      "strong multicollinearity or other numerical problems.\n"
     ]
    },
    {
     "name": "stderr",
     "output_type": "stream",
     "text": [
      "C:\\Users\\Kyle\\Anaconda3\\envs\\islr\\lib\\site-packages\\numpy\\core\\fromnumeric.py:2389: FutureWarning: Method .ptp is deprecated and will be removed in a future version. Use numpy.ptp instead.\n",
      "  return ptp(axis=axis, out=out, **kwargs)\n"
     ]
    }
   ],
   "source": [
    "# Use the terms exog (exogenous) and endog (endogenous) for X and y,\n",
    "# respectively to match the language used in the StatsModels documentation\n",
    "# Need to manually add a column for the intercept, as StatsModels does not\n",
    "# include it by default when performing ordinary least-squares regression\n",
    "exog = sm.add_constant(boston.drop(columns = [\"CMEDV\"]))\n",
    "endog = boston[\"CMEDV\"]\n",
    "\n",
    "# Generate the model\n",
    "mod = sm.OLS(endog, exog)\n",
    "\n",
    "# Fit the model\n",
    "res = mod.fit()\n",
    "\n",
    "#Print out model summary\n",
    "print(res.summary())"
   ]
  },
  {
   "cell_type": "markdown",
   "metadata": {},
   "source": [
    "If we wish to access individual components of a scikit-learn LinearRegression object or StatsModels OLSResults object, we can access they by name. The command `dir` shows what class variables and functions are available to access. For more details, we can also look at the documentation for [scikit-learn](https://scikit-learn.org/stable/modules/generated/sklearn.linear_model.LinearRegression.html) or [StatsModels](http://www.statsmodels.org/stable/generated/statsmodels.regression.linear_model.OLSResults.html)."
   ]
  },
  {
   "cell_type": "markdown",
   "metadata": {},
   "source": [
    "Some fancier statistics require coding additional functions by hand. For example, while StatsModels does have a function to [compute variance inflation factors](http://www.statsmodels.org/stable/generated/statsmodels.stats.outliers_influence.variance_inflation_factor.html), its current implementation can only do so for one predictor variable at a time. Thus, we will write our own function to compute the variance inflation factors for all of our predictors at once."
   ]
  },
  {
   "cell_type": "markdown",
   "metadata": {},
   "source": [
    "Recall that the variance inflation factor for a predictor $X_j$ is the ratio of the variance of its coefficient $\\hat{\\beta}_j$ in the full model using divided by the variance of $\\hat{\\beta}_j$ in the model just using $X_j$. Another way to compute the variance inflation factor for each variable is to use the formula\n",
    "\n",
    "\\begin{equation}\n",
    "\\text{VIF}(\\hat{\\beta}_j) = \n",
    "\\frac{1}{1 - R^2_{X_j | X_{-j}}},\n",
    "\\end{equation}\n",
    "\n",
    "where $R^2_{X_j | X_{-j}}$ is the $R^2$ value from a regression using $X_j$ as the response and the remaining variables as the predictors."
   ]
  },
  {
   "cell_type": "code",
   "execution_count": 47,
   "metadata": {},
   "outputs": [],
   "source": [
    "def vif(predictors):\n",
    "    \"\"\"\n",
    "    Assumes predictors is a Pandas dataframe with at least two columns\n",
    "    Returns a Pandas series containing the variance inflation factor for each column variable\n",
    "    \"\"\"\n",
    "    columns = predictors.columns\n",
    "    vif_series = pd.Series()\n",
    "    for col_name in columns:\n",
    "        X = predictors.drop(columns = [col_name]).values\n",
    "        y = predictors[col_name].values.reshape(-1, 1)\n",
    "        reg = LinearRegression().fit(X, y)\n",
    "        r_sq = reg.score(X, y)\n",
    "        vif_series[col_name] = 1/(1 - r_sq)\n",
    "    return vif_series"
   ]
  },
  {
   "cell_type": "code",
   "execution_count": 48,
   "metadata": {},
   "outputs": [
    {
     "data": {
      "text/plain": [
       "CRIM       1.792192\n",
       "ZN         2.298758\n",
       "INDUS      3.991596\n",
       "CHAS       1.073995\n",
       "NOX        4.393720\n",
       "RM         1.933744\n",
       "AGE        3.100826\n",
       "DIS        3.955945\n",
       "RAD        7.484496\n",
       "TAX        9.008554\n",
       "PTRATIO    1.799084\n",
       "B          1.348521\n",
       "LSTAT      2.941491\n",
       "dtype: float64"
      ]
     },
     "execution_count": 48,
     "metadata": {},
     "output_type": "execute_result"
    }
   ],
   "source": [
    "vif(boston.drop(columns = [\"CMEDV\"]))"
   ]
  },
  {
   "cell_type": "markdown",
   "metadata": {},
   "source": [
    "Variance inflation factors close to the minimum value of 1 indicate a small amount of collinearity, while values exceeding 5 or 10 are generally considered to indicate a problematic amount of collinearity. For this data, most of the variance inflation factors are low to moderate, though `RAD` and `TAX` stand out as having values on the high end."
   ]
  },
  {
   "cell_type": "markdown",
   "metadata": {},
   "source": [
    "In the multiple linear regression output, we see that `AGE` has a high p-value of 0.958, so we might want to exclude it. If we wish to perform regression with a small number of excluded variables the simplest thing to do is to re-run the regression after dropping the variable(s) we wish to exclude."
   ]
  },
  {
   "cell_type": "code",
   "execution_count": 49,
   "metadata": {},
   "outputs": [],
   "source": [
    "# Create an ExtendedLinearRegression object\n",
    "reg = ExtendedLinearRegression()\n",
    "# Need to extract the columns we are using and then reshape them so that\n",
    "# X has the shape (n_samples, n_features),\n",
    "# Y has the shape (n_samples, n_targets)\n",
    "# When using -1 as one of the reshape arguments, NumPy will infer the value\n",
    "# from the length of the array and the values for the other dimensions\n",
    "X = boston.drop(columns = [\"CMEDV\", \"AGE\"]).values\n",
    "y = boston[\"CMEDV\"].values.reshape(-1, 1)\n",
    "# Fit linear regression model using X = LSTAT, y = CMEDV\n",
    "detailed_regression_stats = reg.detailed_linear_regression(X, y)"
   ]
  },
  {
   "cell_type": "code",
   "execution_count": 50,
   "metadata": {},
   "outputs": [
    {
     "data": {
      "text/html": [
       "<div>\n",
       "<style scoped>\n",
       "    .dataframe tbody tr th:only-of-type {\n",
       "        vertical-align: middle;\n",
       "    }\n",
       "\n",
       "    .dataframe tbody tr th {\n",
       "        vertical-align: top;\n",
       "    }\n",
       "\n",
       "    .dataframe thead th {\n",
       "        text-align: right;\n",
       "    }\n",
       "</style>\n",
       "<table border=\"1\" class=\"dataframe\">\n",
       "  <thead>\n",
       "    <tr style=\"text-align: right;\">\n",
       "      <th></th>\n",
       "      <th>Coefficient</th>\n",
       "      <th>Standard Error</th>\n",
       "      <th>t-value</th>\n",
       "      <th>Prob(&gt;|t|)</th>\n",
       "    </tr>\n",
       "  </thead>\n",
       "  <tbody>\n",
       "    <tr>\n",
       "      <td>0</td>\n",
       "      <td>36.3532</td>\n",
       "      <td>5.0346</td>\n",
       "      <td>7.2207</td>\n",
       "      <td>0.0000</td>\n",
       "    </tr>\n",
       "    <tr>\n",
       "      <td>1</td>\n",
       "      <td>-0.1062</td>\n",
       "      <td>0.0325</td>\n",
       "      <td>-3.2638</td>\n",
       "      <td>0.0012</td>\n",
       "    </tr>\n",
       "    <tr>\n",
       "      <td>2</td>\n",
       "      <td>0.0477</td>\n",
       "      <td>0.0135</td>\n",
       "      <td>3.5320</td>\n",
       "      <td>0.0005</td>\n",
       "    </tr>\n",
       "    <tr>\n",
       "      <td>3</td>\n",
       "      <td>0.0233</td>\n",
       "      <td>0.0609</td>\n",
       "      <td>0.3820</td>\n",
       "      <td>0.7026</td>\n",
       "    </tr>\n",
       "    <tr>\n",
       "      <td>4</td>\n",
       "      <td>2.6936</td>\n",
       "      <td>0.8519</td>\n",
       "      <td>3.1620</td>\n",
       "      <td>0.0017</td>\n",
       "    </tr>\n",
       "    <tr>\n",
       "      <td>5</td>\n",
       "      <td>-17.6985</td>\n",
       "      <td>3.6463</td>\n",
       "      <td>-4.8538</td>\n",
       "      <td>0.0000</td>\n",
       "    </tr>\n",
       "    <tr>\n",
       "      <td>6</td>\n",
       "      <td>3.7932</td>\n",
       "      <td>0.4048</td>\n",
       "      <td>9.3701</td>\n",
       "      <td>0.0000</td>\n",
       "    </tr>\n",
       "    <tr>\n",
       "      <td>7</td>\n",
       "      <td>-1.5043</td>\n",
       "      <td>0.1889</td>\n",
       "      <td>-7.9635</td>\n",
       "      <td>0.0000</td>\n",
       "    </tr>\n",
       "    <tr>\n",
       "      <td>8</td>\n",
       "      <td>0.3035</td>\n",
       "      <td>0.0655</td>\n",
       "      <td>4.6345</td>\n",
       "      <td>0.0000</td>\n",
       "    </tr>\n",
       "    <tr>\n",
       "      <td>9</td>\n",
       "      <td>-0.0127</td>\n",
       "      <td>0.0037</td>\n",
       "      <td>-3.4127</td>\n",
       "      <td>0.0007</td>\n",
       "    </tr>\n",
       "    <tr>\n",
       "      <td>10</td>\n",
       "      <td>-0.9235</td>\n",
       "      <td>0.1291</td>\n",
       "      <td>-7.1517</td>\n",
       "      <td>0.0000</td>\n",
       "    </tr>\n",
       "    <tr>\n",
       "      <td>11</td>\n",
       "      <td>0.0092</td>\n",
       "      <td>0.0027</td>\n",
       "      <td>3.4803</td>\n",
       "      <td>0.0005</td>\n",
       "    </tr>\n",
       "    <tr>\n",
       "      <td>12</td>\n",
       "      <td>-0.5299</td>\n",
       "      <td>0.0472</td>\n",
       "      <td>-11.2273</td>\n",
       "      <td>0.0000</td>\n",
       "    </tr>\n",
       "  </tbody>\n",
       "</table>\n",
       "</div>"
      ],
      "text/plain": [
       "    Coefficient  Standard Error  t-value  Prob(>|t|)\n",
       "0       36.3532          5.0346   7.2207      0.0000\n",
       "1       -0.1062          0.0325  -3.2638      0.0012\n",
       "2        0.0477          0.0135   3.5320      0.0005\n",
       "3        0.0233          0.0609   0.3820      0.7026\n",
       "4        2.6936          0.8519   3.1620      0.0017\n",
       "5      -17.6985          3.6463  -4.8538      0.0000\n",
       "6        3.7932          0.4048   9.3701      0.0000\n",
       "7       -1.5043          0.1889  -7.9635      0.0000\n",
       "8        0.3035          0.0655   4.6345      0.0000\n",
       "9       -0.0127          0.0037  -3.4127      0.0007\n",
       "10      -0.9235          0.1291  -7.1517      0.0000\n",
       "11       0.0092          0.0027   3.4803      0.0005\n",
       "12      -0.5299          0.0472 -11.2273      0.0000"
      ]
     },
     "execution_count": 50,
     "metadata": {},
     "output_type": "execute_result"
    }
   ],
   "source": [
    "np.round(detailed_regression_stats[\"param_stats\"], 4)"
   ]
  },
  {
   "cell_type": "code",
   "execution_count": 51,
   "metadata": {},
   "outputs": [
    {
     "data": {
      "text/plain": [
       "Residual standard error      4.6980\n",
       "R-squared                    0.7444\n",
       "F-statistic                119.6775\n",
       "F-test p-value               0.0000\n",
       "dtype: float64"
      ]
     },
     "execution_count": 51,
     "metadata": {},
     "output_type": "execute_result"
    }
   ],
   "source": [
    "np.round(detailed_regression_stats[\"oa_stats\"], 4)"
   ]
  },
  {
   "cell_type": "code",
   "execution_count": 52,
   "metadata": {},
   "outputs": [
    {
     "name": "stdout",
     "output_type": "stream",
     "text": [
      "                            OLS Regression Results                            \n",
      "==============================================================================\n",
      "Dep. Variable:                  CMEDV   R-squared:                       0.744\n",
      "Model:                            OLS   Adj. R-squared:                  0.738\n",
      "Method:                 Least Squares   F-statistic:                     119.7\n",
      "Date:                Tue, 19 Nov 2019   Prob (F-statistic):          1.63e-137\n",
      "Time:                        10:02:35   Log-Likelihood:                -1494.2\n",
      "No. Observations:                 506   AIC:                             3014.\n",
      "Df Residuals:                     493   BIC:                             3069.\n",
      "Df Model:                          12                                         \n",
      "Covariance Type:            nonrobust                                         \n",
      "==============================================================================\n",
      "                 coef    std err          t      P>|t|      [0.025      0.975]\n",
      "------------------------------------------------------------------------------\n",
      "const         36.3532      5.035      7.221      0.000      26.461      46.245\n",
      "CRIM          -0.1062      0.033     -3.264      0.001      -0.170      -0.042\n",
      "ZN             0.0477      0.013      3.532      0.000       0.021       0.074\n",
      "INDUS          0.0233      0.061      0.382      0.703      -0.096       0.143\n",
      "CHAS           2.6936      0.852      3.162      0.002       1.020       4.367\n",
      "NOX          -17.6985      3.646     -4.854      0.000     -24.863     -10.534\n",
      "RM             3.7932      0.405      9.370      0.000       2.998       4.589\n",
      "DIS           -1.5043      0.189     -7.964      0.000      -1.875      -1.133\n",
      "RAD            0.3035      0.065      4.635      0.000       0.175       0.432\n",
      "TAX           -0.0127      0.004     -3.413      0.001      -0.020      -0.005\n",
      "PTRATIO       -0.9235      0.129     -7.152      0.000      -1.177      -0.670\n",
      "B              0.0092      0.003      3.480      0.001       0.004       0.014\n",
      "LSTAT         -0.5299      0.047    -11.227      0.000      -0.623      -0.437\n",
      "==============================================================================\n",
      "Omnibus:                      185.344   Durbin-Watson:                   1.086\n",
      "Prob(Omnibus):                  0.000   Jarque-Bera (JB):              845.244\n",
      "Skew:                           1.577   Prob(JB):                    2.87e-184\n",
      "Kurtosis:                       8.490   Cond. No.                     1.48e+04\n",
      "==============================================================================\n",
      "\n",
      "Warnings:\n",
      "[1] Standard Errors assume that the covariance matrix of the errors is correctly specified.\n",
      "[2] The condition number is large, 1.48e+04. This might indicate that there are\n",
      "strong multicollinearity or other numerical problems.\n"
     ]
    },
    {
     "name": "stderr",
     "output_type": "stream",
     "text": [
      "C:\\Users\\Kyle\\Anaconda3\\envs\\islr\\lib\\site-packages\\numpy\\core\\fromnumeric.py:2389: FutureWarning: Method .ptp is deprecated and will be removed in a future version. Use numpy.ptp instead.\n",
      "  return ptp(axis=axis, out=out, **kwargs)\n"
     ]
    }
   ],
   "source": [
    "# Use the terms exog (exogenous) and endog (endogenous) for X and y,\n",
    "# respectively to match the language used in the StatsModels documentation\n",
    "# Need to manually add a column for the intercept, as StatsModels does not\n",
    "# include it by default when performing ordinary least-squares regression\n",
    "exog = sm.add_constant(boston.drop(columns = [\"CMEDV\", \"AGE\"]))\n",
    "endog = boston[\"CMEDV\"]\n",
    "\n",
    "# Generate the model\n",
    "mod = sm.OLS(endog, exog)\n",
    "\n",
    "# Fit the model\n",
    "res = mod.fit()\n",
    "\n",
    "#Print out model summary\n",
    "print(res.summary())"
   ]
  },
  {
   "cell_type": "markdown",
   "metadata": {},
   "source": [
    "## Interaction Terms"
   ]
  },
  {
   "cell_type": "markdown",
   "metadata": {},
   "source": [
    "If we wish to include interaction terms in a linear regression model [using StatsModels](http://www.statsmodels.org/stable/example_formulas.html), we can use the syntax `statsmodels.formula.api.ols(formula = \"y~x1:x2\", data = df)`, which uses [patsy](https://patsy.readthedocs.io/en/latest/) to implement `R`-style formula syntax which tells StatsModels to include an interaction term between `x1` and `x2`. This would give us the regression function $y = \\beta_0 + \\beta_{12}x_1x_2$. If we want to include the individual variables themselves, as well as the interaction term between them, we can use `x1*x2`, which is a shorthand for `x1 + x2 + x1:x2`. Calling `ols(formula = \"y~x1*x2\", data = df)` would give us the regression function $y = \\beta_0 + \\beta_1x_1 + \\beta_2x_2 + \\beta_{12}x_1x_2$. "
   ]
  },
  {
   "cell_type": "code",
   "execution_count": 53,
   "metadata": {},
   "outputs": [
    {
     "name": "stdout",
     "output_type": "stream",
     "text": [
      "                            OLS Regression Results                            \n",
      "==============================================================================\n",
      "Dep. Variable:                  CMEDV   R-squared:                       0.560\n",
      "Model:                            OLS   Adj. R-squared:                  0.558\n",
      "Method:                 Least Squares   F-statistic:                     213.1\n",
      "Date:                Tue, 19 Nov 2019   Prob (F-statistic):           3.87e-89\n",
      "Time:                        10:02:35   Log-Likelihood:                -1631.6\n",
      "No. Observations:                 506   AIC:                             3271.\n",
      "Df Residuals:                     502   BIC:                             3288.\n",
      "Df Model:                           3                                         \n",
      "Covariance Type:            nonrobust                                         \n",
      "==============================================================================\n",
      "                 coef    std err          t      P>|t|      [0.025      0.975]\n",
      "------------------------------------------------------------------------------\n",
      "Intercept     35.9616      1.460     24.630      0.000      33.093      38.830\n",
      "LSTAT         -1.3780      0.166     -8.284      0.000      -1.705      -1.051\n",
      "AGE            0.0014      0.020      0.070      0.944      -0.037       0.040\n",
      "LSTAT:AGE      0.0040      0.002      2.149      0.032       0.000       0.008\n",
      "==============================================================================\n",
      "Omnibus:                      139.677   Durbin-Watson:                   0.977\n",
      "Prob(Omnibus):                  0.000   Jarque-Bera (JB):              308.235\n",
      "Skew:                           1.457   Prob(JB):                     1.17e-67\n",
      "Kurtosis:                       5.475   Cond. No.                     6.88e+03\n",
      "==============================================================================\n",
      "\n",
      "Warnings:\n",
      "[1] Standard Errors assume that the covariance matrix of the errors is correctly specified.\n",
      "[2] The condition number is large, 6.88e+03. This might indicate that there are\n",
      "strong multicollinearity or other numerical problems.\n"
     ]
    }
   ],
   "source": [
    "# Using patsy to include interaction terms via R-style formulas\n",
    "\n",
    "# Generate a linear regression model with LSTAT, AGE, and an interaction term between\n",
    "# them to predict CMEDV\n",
    "mod = smf.ols(formula = \"CMEDV ~ LSTAT*AGE\", data = boston)\n",
    "res = mod.fit()\n",
    "print(res.summary())"
   ]
  },
  {
   "cell_type": "markdown",
   "metadata": {},
   "source": [
    "Alternatively, if for some reason we do not wish to use `R`-style formulas when using StatsModels, we can create the columns for the interaction terms by hand."
   ]
  },
  {
   "cell_type": "code",
   "execution_count": 54,
   "metadata": {},
   "outputs": [
    {
     "name": "stdout",
     "output_type": "stream",
     "text": [
      "                            OLS Regression Results                            \n",
      "==============================================================================\n",
      "Dep. Variable:                  CMEDV   R-squared:                       0.560\n",
      "Model:                            OLS   Adj. R-squared:                  0.558\n",
      "Method:                 Least Squares   F-statistic:                     213.1\n",
      "Date:                Tue, 19 Nov 2019   Prob (F-statistic):           3.87e-89\n",
      "Time:                        10:02:35   Log-Likelihood:                -1631.6\n",
      "No. Observations:                 506   AIC:                             3271.\n",
      "Df Residuals:                     502   BIC:                             3288.\n",
      "Df Model:                           3                                         \n",
      "Covariance Type:            nonrobust                                         \n",
      "==============================================================================\n",
      "                 coef    std err          t      P>|t|      [0.025      0.975]\n",
      "------------------------------------------------------------------------------\n",
      "const         35.9616      1.460     24.630      0.000      33.093      38.830\n",
      "LSTAT         -1.3780      0.166     -8.284      0.000      -1.705      -1.051\n",
      "AGE            0.0014      0.020      0.070      0.944      -0.037       0.040\n",
      "LSTAT_AGE      0.0040      0.002      2.149      0.032       0.000       0.008\n",
      "==============================================================================\n",
      "Omnibus:                      139.677   Durbin-Watson:                   0.977\n",
      "Prob(Omnibus):                  0.000   Jarque-Bera (JB):              308.235\n",
      "Skew:                           1.457   Prob(JB):                     1.17e-67\n",
      "Kurtosis:                       5.475   Cond. No.                     6.88e+03\n",
      "==============================================================================\n",
      "\n",
      "Warnings:\n",
      "[1] Standard Errors assume that the covariance matrix of the errors is correctly specified.\n",
      "[2] The condition number is large, 6.88e+03. This might indicate that there are\n",
      "strong multicollinearity or other numerical problems.\n"
     ]
    }
   ],
   "source": [
    "# Creating a column forthe interaction terms by hand\n",
    "\n",
    "# Use the terms exog (exogenous) and endog (endogenous) for X and y,\n",
    "# respectively to match the language used in the StatsModels documentation\n",
    "# Need to manually add a column for the intercept, as StatsModels does not\n",
    "# include it by default when performing ordinary least-squares regression\n",
    "exog = sm.add_constant(boston.loc[:, [\"LSTAT\", \"AGE\"]].assign(LSTAT_AGE = boston[\"LSTAT\"] * boston[\"AGE\"]))\n",
    "endog = boston[\"CMEDV\"]\n",
    "\n",
    "# Generate the model\n",
    "mod = sm.OLS(endog, exog)\n",
    "\n",
    "# Fit the model\n",
    "res = mod.fit()\n",
    "\n",
    "#Print out model summary\n",
    "print(res.summary())"
   ]
  },
  {
   "cell_type": "markdown",
   "metadata": {},
   "source": [
    "When using scikit-learn, while creating the columns for interaction terms by hand is still an option, a better way is to use [PolynomialFeatures transformer](https://scikit-learn.org/stable/modules/linear_model.html#polynomial-regression-extending-linear-models-with-basis-functions) as part of a model pipeline."
   ]
  },
  {
   "cell_type": "code",
   "execution_count": 55,
   "metadata": {},
   "outputs": [
    {
     "name": "stdout",
     "output_type": "stream",
     "text": [
      "[[ 3.59616298e+01 -1.37797070e+00  1.39129271e-03  3.95274004e-03]]\n"
     ]
    }
   ],
   "source": [
    "from sklearn.preprocessing import PolynomialFeatures\n",
    "from sklearn.pipeline import Pipeline\n",
    "\n",
    "# Create a pipeline which first transforms the data to include up to second degree terms\n",
    "# Setting interaction_only to True indicates that we only want interaction terms\n",
    "# and excludes higher powers of the individual features\n",
    "# Since the transformed data includes the 0-degree (i.e. constant = 1) feature\n",
    "# an intercept is not necessary in the linear regression\n",
    "model = Pipeline([(\"poly\", PolynomialFeatures(degree = 2, interaction_only = True)),\n",
    "                 (\"linear\", LinearRegression(fit_intercept = False))])\n",
    "X = boston.loc[:, [\"LSTAT\", \"AGE\"]].values\n",
    "y = boston[\"CMEDV\"].values.reshape((-1, 1))\n",
    "model = model.fit(X, y)\n",
    "print(model.named_steps[\"linear\"].coef_)"
   ]
  },
  {
   "cell_type": "markdown",
   "metadata": {},
   "source": [
    "Using a pipeline like this doesn't play nicely with the ExtendedLinearRegression class I created, so if we want to use that for access to more of the detailed model statistics, we'll need to do things a little more by hand. However, in a production setting, pipeline usage is very useful for convenience and encapsulation, joint parameter selection, and safety."
   ]
  },
  {
   "cell_type": "code",
   "execution_count": 56,
   "metadata": {},
   "outputs": [],
   "source": [
    "from sklearn.preprocessing import PolynomialFeatures\n",
    "# Create an ExtendedLinearRegression object\n",
    "reg = ExtendedLinearRegression()\n",
    "# Create a 2nd degree Polynomial features transformer which only includes interaction terms\n",
    "poly = PolynomialFeatures(degree = 2, interaction_only = True)\n",
    "# Need to extract the columns we are using and then reshape them so that\n",
    "# X has the shape (n_samples, n_features),\n",
    "# Y has the shape (n_samples, n_targets)\n",
    "# When using -1 as one of the reshape arguments, NumPy will infer the value\n",
    "# from the length of the array and the values for the other dimensions\n",
    "# Transform X using the PolynomialFeatures transformer\n",
    "# Exclude the intercept column so it plays nicely with how I've written the ExtendedLinearRegression class\n",
    "X = poly.fit_transform(boston.loc[:,[\"LSTAT\", \"AGE\"]].values)[:, 1:]\n",
    "y = boston[\"CMEDV\"].values.reshape(-1, 1)\n",
    "# Fit linear regression model using X = LSTAT, y = CMEDV\n",
    "detailed_regression_stats = reg.detailed_linear_regression(X, y)"
   ]
  },
  {
   "cell_type": "code",
   "execution_count": 57,
   "metadata": {},
   "outputs": [
    {
     "data": {
      "text/html": [
       "<div>\n",
       "<style scoped>\n",
       "    .dataframe tbody tr th:only-of-type {\n",
       "        vertical-align: middle;\n",
       "    }\n",
       "\n",
       "    .dataframe tbody tr th {\n",
       "        vertical-align: top;\n",
       "    }\n",
       "\n",
       "    .dataframe thead th {\n",
       "        text-align: right;\n",
       "    }\n",
       "</style>\n",
       "<table border=\"1\" class=\"dataframe\">\n",
       "  <thead>\n",
       "    <tr style=\"text-align: right;\">\n",
       "      <th></th>\n",
       "      <th>Coefficient</th>\n",
       "      <th>Standard Error</th>\n",
       "      <th>t-value</th>\n",
       "      <th>Prob(&gt;|t|)</th>\n",
       "    </tr>\n",
       "  </thead>\n",
       "  <tbody>\n",
       "    <tr>\n",
       "      <td>0</td>\n",
       "      <td>35.9616</td>\n",
       "      <td>1.4601</td>\n",
       "      <td>24.6303</td>\n",
       "      <td>0.0000</td>\n",
       "    </tr>\n",
       "    <tr>\n",
       "      <td>1</td>\n",
       "      <td>-1.3780</td>\n",
       "      <td>0.1663</td>\n",
       "      <td>-8.2840</td>\n",
       "      <td>0.0000</td>\n",
       "    </tr>\n",
       "    <tr>\n",
       "      <td>2</td>\n",
       "      <td>0.0014</td>\n",
       "      <td>0.0197</td>\n",
       "      <td>0.0705</td>\n",
       "      <td>0.9439</td>\n",
       "    </tr>\n",
       "    <tr>\n",
       "      <td>3</td>\n",
       "      <td>0.0040</td>\n",
       "      <td>0.0018</td>\n",
       "      <td>2.1488</td>\n",
       "      <td>0.0321</td>\n",
       "    </tr>\n",
       "  </tbody>\n",
       "</table>\n",
       "</div>"
      ],
      "text/plain": [
       "   Coefficient  Standard Error  t-value  Prob(>|t|)\n",
       "0      35.9616          1.4601  24.6303      0.0000\n",
       "1      -1.3780          0.1663  -8.2840      0.0000\n",
       "2       0.0014          0.0197   0.0705      0.9439\n",
       "3       0.0040          0.0018   2.1488      0.0321"
      ]
     },
     "execution_count": 57,
     "metadata": {},
     "output_type": "execute_result"
    }
   ],
   "source": [
    "np.round(detailed_regression_stats[\"param_stats\"], 4)"
   ]
  },
  {
   "cell_type": "code",
   "execution_count": 58,
   "metadata": {},
   "outputs": [
    {
     "data": {
      "text/plain": [
       "Residual standard error      6.1076\n",
       "R-squared                    0.5602\n",
       "F-statistic                213.1345\n",
       "F-test p-value               0.0000\n",
       "dtype: float64"
      ]
     },
     "execution_count": 58,
     "metadata": {},
     "output_type": "execute_result"
    }
   ],
   "source": [
    "np.round(detailed_regression_stats[\"oa_stats\"], 4)"
   ]
  },
  {
   "cell_type": "markdown",
   "metadata": {},
   "source": [
    "## Non-linear transformations of the predictors"
   ]
  },
  {
   "cell_type": "markdown",
   "metadata": {},
   "source": [
    "We can also use additional non-linear transformations of our variables when generating least-squares regression models. For example, if we wish to create a predictor $X^2$ from the predictor $X$, we have a few different options depending on which packages we are using. Some of the options include\n",
    "\n",
    "- Creating a column for $X^2$ by hand, which works for both scikit-learn and StatsModels\n",
    "- Using `np.square(X)` or `X**2` as part of an `R`-style formula in StatsModels\n",
    "- Using the PolynomialFeatures transformer with scikit-learn\n",
    "\n",
    "Let's use each of these three strategies to perform a regression of `CMEDV` onto `LSTAT` and `LSTAT**2`."
   ]
  },
  {
   "cell_type": "code",
   "execution_count": 62,
   "metadata": {},
   "outputs": [
    {
     "name": "stdout",
     "output_type": "stream",
     "text": [
      "                            OLS Regression Results                            \n",
      "==============================================================================\n",
      "Dep. Variable:                  CMEDV   R-squared:                       0.646\n",
      "Model:                            OLS   Adj. R-squared:                  0.644\n",
      "Method:                 Least Squares   F-statistic:                     458.7\n",
      "Date:                Tue, 19 Nov 2019   Prob (F-statistic):          4.06e-114\n",
      "Time:                        10:31:36   Log-Likelihood:                -1576.8\n",
      "No. Observations:                 506   AIC:                             3160.\n",
      "Df Residuals:                     503   BIC:                             3172.\n",
      "Df Model:                           2                                         \n",
      "Covariance Type:            nonrobust                                         \n",
      "==============================================================================\n",
      "                 coef    std err          t      P>|t|      [0.025      0.975]\n",
      "------------------------------------------------------------------------------\n",
      "const         42.8973      0.864     49.628      0.000      41.199      44.596\n",
      "LSTAT         -2.3365      0.123    -19.041      0.000      -2.578      -2.095\n",
      "LSTAT_sq       0.0436      0.004     11.741      0.000       0.036       0.051\n",
      "==============================================================================\n",
      "Omnibus:                      111.454   Durbin-Watson:                   0.931\n",
      "Prob(Omnibus):                  0.000   Jarque-Bera (JB):              238.910\n",
      "Skew:                           1.171   Prob(JB):                     1.32e-52\n",
      "Kurtosis:                       5.418   Cond. No.                     1.13e+03\n",
      "==============================================================================\n",
      "\n",
      "Warnings:\n",
      "[1] Standard Errors assume that the covariance matrix of the errors is correctly specified.\n",
      "[2] The condition number is large, 1.13e+03. This might indicate that there are\n",
      "strong multicollinearity or other numerical problems.\n"
     ]
    },
    {
     "name": "stderr",
     "output_type": "stream",
     "text": [
      "C:\\Users\\Kyle\\Anaconda3\\envs\\islr\\lib\\site-packages\\numpy\\core\\fromnumeric.py:2389: FutureWarning: Method .ptp is deprecated and will be removed in a future version. Use numpy.ptp instead.\n",
      "  return ptp(axis=axis, out=out, **kwargs)\n"
     ]
    }
   ],
   "source": [
    "# Creating a column for LSTAT**2 by hand\n",
    "\n",
    "# Use the terms exog (exogenous) and endog (endogenous) for X and y,\n",
    "# respectively to match the language used in the StatsModels documentation\n",
    "# Need to manually add a column for the intercept, as StatsModels does not\n",
    "# include it by default when performing ordinary least-squares regression\n",
    "exog = sm.add_constant(boston.loc[:, [\"LSTAT\"]].assign(LSTAT_sq = np.square(boston[\"LSTAT\"])))\n",
    "endog = boston[\"CMEDV\"]\n",
    "\n",
    "# Generate the model\n",
    "mod_square = sm.OLS(endog, exog)\n",
    "\n",
    "# Fit the model\n",
    "res_square = mod_square.fit()\n",
    "#Print out model summary\n",
    "print(res_square.summary())"
   ]
  },
  {
   "cell_type": "code",
   "execution_count": 64,
   "metadata": {},
   "outputs": [
    {
     "name": "stdout",
     "output_type": "stream",
     "text": [
      "                            OLS Regression Results                            \n",
      "==============================================================================\n",
      "Dep. Variable:                  CMEDV   R-squared:                       0.646\n",
      "Model:                            OLS   Adj. R-squared:                  0.644\n",
      "Method:                 Least Squares   F-statistic:                     458.7\n",
      "Date:                Tue, 19 Nov 2019   Prob (F-statistic):          4.06e-114\n",
      "Time:                        10:34:39   Log-Likelihood:                -1576.8\n",
      "No. Observations:                 506   AIC:                             3160.\n",
      "Df Residuals:                     503   BIC:                             3172.\n",
      "Df Model:                           2                                         \n",
      "Covariance Type:            nonrobust                                         \n",
      "====================================================================================\n",
      "                       coef    std err          t      P>|t|      [0.025      0.975]\n",
      "------------------------------------------------------------------------------------\n",
      "Intercept           42.8973      0.864     49.628      0.000      41.199      44.596\n",
      "LSTAT               -2.3365      0.123    -19.041      0.000      -2.578      -2.095\n",
      "np.square(LSTAT)     0.0436      0.004     11.741      0.000       0.036       0.051\n",
      "==============================================================================\n",
      "Omnibus:                      111.454   Durbin-Watson:                   0.931\n",
      "Prob(Omnibus):                  0.000   Jarque-Bera (JB):              238.910\n",
      "Skew:                           1.171   Prob(JB):                     1.32e-52\n",
      "Kurtosis:                       5.418   Cond. No.                     1.13e+03\n",
      "==============================================================================\n",
      "\n",
      "Warnings:\n",
      "[1] Standard Errors assume that the covariance matrix of the errors is correctly specified.\n",
      "[2] The condition number is large, 1.13e+03. This might indicate that there are\n",
      "strong multicollinearity or other numerical problems.\n"
     ]
    }
   ],
   "source": [
    "# Using patsy to include the term LSTAT**2 via R-style formulas\n",
    "\n",
    "mod_square = smf.ols(formula = \"CMEDV ~ LSTAT + np.square(LSTAT)\", data = boston)\n",
    "res_square = mod_square.fit()\n",
    "print(res_square.summary())"
   ]
  },
  {
   "cell_type": "code",
   "execution_count": 65,
   "metadata": {},
   "outputs": [],
   "source": [
    "# Using PolynomialFeatures transformer with scikit-learn to include the term LSTAT**2\n",
    "\n",
    "from sklearn.preprocessing import PolynomialFeatures\n",
    "# Create an ExtendedLinearRegression object\n",
    "reg = ExtendedLinearRegression()\n",
    "# Create a 2nd degree Polynomial features transformer\n",
    "poly = PolynomialFeatures(degree = 2)\n",
    "# Need to extract the columns we are using and then reshape them so that\n",
    "# X has the shape (n_samples, n_features),\n",
    "# Y has the shape (n_samples, n_targets)\n",
    "# When using -1 as one of the reshape arguments, NumPy will infer the value\n",
    "# from the length of the array and the values for the other dimensions\n",
    "# Transform X using the PolynomialFeatures transformer\n",
    "# Exclude the intercept column so it plays nicely with how I've written the ExtendedLinearRegression class\n",
    "X = poly.fit_transform(boston.loc[:,[\"LSTAT\"]].values)[:, 1:]\n",
    "y = boston[\"CMEDV\"].values.reshape(-1, 1)\n",
    "# Fit linear regression model using X = LSTAT, y = CMEDV\n",
    "detailed_regression_stats = reg.detailed_linear_regression(X, y)"
   ]
  },
  {
   "cell_type": "code",
   "execution_count": 66,
   "metadata": {},
   "outputs": [
    {
     "data": {
      "text/html": [
       "<div>\n",
       "<style scoped>\n",
       "    .dataframe tbody tr th:only-of-type {\n",
       "        vertical-align: middle;\n",
       "    }\n",
       "\n",
       "    .dataframe tbody tr th {\n",
       "        vertical-align: top;\n",
       "    }\n",
       "\n",
       "    .dataframe thead th {\n",
       "        text-align: right;\n",
       "    }\n",
       "</style>\n",
       "<table border=\"1\" class=\"dataframe\">\n",
       "  <thead>\n",
       "    <tr style=\"text-align: right;\">\n",
       "      <th></th>\n",
       "      <th>Coefficient</th>\n",
       "      <th>Standard Error</th>\n",
       "      <th>t-value</th>\n",
       "      <th>Prob(&gt;|t|)</th>\n",
       "    </tr>\n",
       "  </thead>\n",
       "  <tbody>\n",
       "    <tr>\n",
       "      <td>0</td>\n",
       "      <td>42.8973</td>\n",
       "      <td>0.8644</td>\n",
       "      <td>49.6279</td>\n",
       "      <td>0.0</td>\n",
       "    </tr>\n",
       "    <tr>\n",
       "      <td>1</td>\n",
       "      <td>-2.3365</td>\n",
       "      <td>0.1227</td>\n",
       "      <td>-19.0413</td>\n",
       "      <td>0.0</td>\n",
       "    </tr>\n",
       "    <tr>\n",
       "      <td>2</td>\n",
       "      <td>0.0436</td>\n",
       "      <td>0.0037</td>\n",
       "      <td>11.7413</td>\n",
       "      <td>0.0</td>\n",
       "    </tr>\n",
       "  </tbody>\n",
       "</table>\n",
       "</div>"
      ],
      "text/plain": [
       "   Coefficient  Standard Error  t-value  Prob(>|t|)\n",
       "0      42.8973          0.8644  49.6279         0.0\n",
       "1      -2.3365          0.1227 -19.0413         0.0\n",
       "2       0.0436          0.0037  11.7413         0.0"
      ]
     },
     "execution_count": 66,
     "metadata": {},
     "output_type": "execute_result"
    }
   ],
   "source": [
    "np.round(detailed_regression_stats[\"param_stats\"], 4)"
   ]
  },
  {
   "cell_type": "code",
   "execution_count": 67,
   "metadata": {},
   "outputs": [
    {
     "data": {
      "text/plain": [
       "Residual standard error      5.4749\n",
       "R-squared                    0.6459\n",
       "F-statistic                458.7298\n",
       "F-test p-value               0.0000\n",
       "dtype: float64"
      ]
     },
     "execution_count": 67,
     "metadata": {},
     "output_type": "execute_result"
    }
   ],
   "source": [
    "np.round(detailed_regression_stats[\"oa_stats\"], 4)"
   ]
  },
  {
   "cell_type": "markdown",
   "metadata": {},
   "source": [
    "Since the quadratic term `LSTAT**2` has an extremely small p-value, we have evidence to believe that its inclusion leads to an improved model. To further quantify the extent to which the quadratic fit is superior to the linear fit, we can use the `anova_lm()` function from StatsModels. More details can be found in [the documentation](http://www.statsmodels.org/stable/anova.html)."
   ]
  },
  {
   "cell_type": "code",
   "execution_count": 76,
   "metadata": {},
   "outputs": [
    {
     "data": {
      "text/html": [
       "<div>\n",
       "<style scoped>\n",
       "    .dataframe tbody tr th:only-of-type {\n",
       "        vertical-align: middle;\n",
       "    }\n",
       "\n",
       "    .dataframe tbody tr th {\n",
       "        vertical-align: top;\n",
       "    }\n",
       "\n",
       "    .dataframe thead th {\n",
       "        text-align: right;\n",
       "    }\n",
       "</style>\n",
       "<table border=\"1\" class=\"dataframe\">\n",
       "  <thead>\n",
       "    <tr style=\"text-align: right;\">\n",
       "      <th></th>\n",
       "      <th>df_resid</th>\n",
       "      <th>ssr</th>\n",
       "      <th>df_diff</th>\n",
       "      <th>ss_diff</th>\n",
       "      <th>F</th>\n",
       "      <th>Pr(&gt;F)</th>\n",
       "    </tr>\n",
       "  </thead>\n",
       "  <tbody>\n",
       "    <tr>\n",
       "      <td>0</td>\n",
       "      <td>504.0</td>\n",
       "      <td>19209.459117</td>\n",
       "      <td>0.0</td>\n",
       "      <td>NaN</td>\n",
       "      <td>NaN</td>\n",
       "      <td>NaN</td>\n",
       "    </tr>\n",
       "    <tr>\n",
       "      <td>1</td>\n",
       "      <td>503.0</td>\n",
       "      <td>15077.233894</td>\n",
       "      <td>1.0</td>\n",
       "      <td>4132.225223</td>\n",
       "      <td>137.857468</td>\n",
       "      <td>2.662969e-28</td>\n",
       "    </tr>\n",
       "  </tbody>\n",
       "</table>\n",
       "</div>"
      ],
      "text/plain": [
       "   df_resid           ssr  df_diff      ss_diff           F        Pr(>F)\n",
       "0     504.0  19209.459117      0.0          NaN         NaN           NaN\n",
       "1     503.0  15077.233894      1.0  4132.225223  137.857468  2.662969e-28"
      ]
     },
     "execution_count": 76,
     "metadata": {},
     "output_type": "execute_result"
    }
   ],
   "source": [
    "mod_square = smf.ols(formula = \"CMEDV ~ LSTAT + np.square(LSTAT)\", data = boston).fit()\n",
    "mod = smf.ols(formula = \"CMEDV ~ LSTAT\", data = boston).fit()\n",
    "anova_table = sm.stats.anova_lm(mod, mod_square)\n",
    "anova_table"
   ]
  },
  {
   "cell_type": "markdown",
   "metadata": {},
   "source": [
    "The `anova_lm()` function performs a hypothesis test comparing the two models. The null hypothesis is that both models fit the data equally well, while the alternative hypothesis is that the second model (in our case the model including the quadratic term) performs better. Here, we have an F-statistic of about 138 and an p-value that is essentially zero, which provides strong evidence that the model containing the predictors `LSTAT` and `LSTAT**2` is a better fit than the one containing only `LSTAT`. This further confirms our initial suspicions based on the non-linearity we saw in the scatter plot for `CMEDV` and `LSTAT`."
   ]
  },
  {
   "cell_type": "markdown",
   "metadata": {},
   "source": [
    "As discussed earlier, there are a few different ways of generating residual plots for us to have visual evidence that a model containing the predictors `LSTAT` and `LSTAT**2` is a better fit than the one containing only `LSTAT`. First, we can set the `order` parameter in Seaborn's `residplot()` function to generate residual plots for higher-order polynomial regression. For completeness, we first use Seaborn to plot the quadratic fit on a scatterplot of the data as well."
   ]
  },
  {
   "cell_type": "code",
   "execution_count": 77,
   "metadata": {},
   "outputs": [
    {
     "data": {
      "text/plain": [
       "<matplotlib.axes._subplots.AxesSubplot at 0x1db5b00f048>"
      ]
     },
     "execution_count": 77,
     "metadata": {},
     "output_type": "execute_result"
    },
    {
     "data": {
      "image/png": "[encoded data removed]",
      "text/plain": [
       "<Figure size 432x288 with 1 Axes>"
      ]
     },
     "metadata": {
      "needs_background": "light"
     },
     "output_type": "display_data"
    }
   ],
   "source": [
    "# Plot scatterplot with regression line and default 95% confidence interval for regression estimate\n",
    "# Set the marker transparancy to 0.25 in order to more clearly see the regression line\n",
    "# Make regression line orange so it is more visible\n",
    "sns.regplot(x = \"LSTAT\", y = \"CMEDV\", data = boston, order = 2, scatter_kws = {\"alpha\":0.25}, line_kws = {\"color\":\"orange\"})"
   ]
  },
  {
   "cell_type": "code",
   "execution_count": 78,
   "metadata": {},
   "outputs": [
    {
     "data": {
      "text/plain": [
       "<matplotlib.axes._subplots.AxesSubplot at 0x1db5bd4d848>"
      ]
     },
     "execution_count": 78,
     "metadata": {},
     "output_type": "execute_result"
    },
    {
     "data": {
      "image/png": "[encoded data removed]",
      "text/plain": [
       "<Figure size 432x288 with 1 Axes>"
      ]
     },
     "metadata": {
      "needs_background": "light"
     },
     "output_type": "display_data"
    }
   ],
   "source": [
    "# Set the marker transparency to 0.25 in order to improve visibility\n",
    "sns.residplot(x = \"LSTAT\", y = \"CMEDV\", data = boston, order = 2, scatter_kws = {\"alpha\":0.25})"
   ]
  },
  {
   "cell_type": "markdown",
   "metadata": {},
   "source": [
    "Next, we use scikit-learn and Matplotlib directly to produce the scatterplot with quadratic fit and residuals plot."
   ]
  },
  {
   "cell_type": "code",
   "execution_count": 87,
   "metadata": {},
   "outputs": [
    {
     "data": {
      "text/plain": [
       "[Text(0, 0.5, 'Residual value'), Text(0.5, 0, 'Fitted value of CMEDV')]"
      ]
     },
     "execution_count": 87,
     "metadata": {},
     "output_type": "execute_result"
    },
    {
     "data": {
      "image/png": "[encoded data removed]",
      "text/plain": [
       "<Figure size 720x720 with 2 Axes>"
      ]
     },
     "metadata": {
      "needs_background": "light"
     },
     "output_type": "display_data"
    }
   ],
   "source": [
    "poly = PolynomialFeatures(degree = 2)\n",
    "\n",
    "# Generate a range of x-values to feed into the regression model for producing the\n",
    "# line that gets passed to the plot function\n",
    "x = np.linspace(0, 40, num = 100).reshape(-1, 1)\n",
    "# Need to transform the x array to properly feed into the predict function\n",
    "transformed = poly.fit_transform(x)[:, 1:]\n",
    "predictions = reg.predict(transformed)\n",
    "fig, axes = plt.subplots(nrows = 2, figsize = (10, 10), gridspec_kw = {})\n",
    "# Plot the regression line in orange with a line width of 3 to increase visibility\n",
    "axes[0].plot(x, predictions, color = \"orange\", linewidth = 3)\n",
    "# Plot the scatter plot using an alpha value of 0.25 for the markers to reduce clutter\n",
    "axes[0].scatter(boston[\"LSTAT\"], boston[\"CMEDV\"], alpha = 0.25)\n",
    "# Give the scatterplot some labels that are more descriptive\n",
    "axes[0].set(xlabel = \"LSTAT\", ylabel = \"CMEDV\", xlim = (0, 40))\n",
    "\n",
    "# Generating residual plot by hand using scikit-learn\n",
    "# Compute predicted values\n",
    "predicted_cmedv = reg.predict(X)\n",
    "# Compute residuals\n",
    "residuals = y - predicted_cmedv\n",
    "# Plot residuals versus fitted values\n",
    "axes[1].scatter(predicted_cmedv, residuals, alpha = 0.25)\n",
    "# Plot orange dashed horizontal line y = 0\n",
    "axes[1].axhline(y = 0, color = \"orange\", linestyle = \"--\")\n",
    "# Give the plot some descriptive axis labels\n",
    "axes[1].set(xlabel = \"Fitted value of CMEDV\", ylabel = \"Residual value\")"
   ]
  },
  {
   "cell_type": "markdown",
   "metadata": {},
   "source": [
    "In addition, as we can see above, there isn't a discernible pattern in the residuals for the model which includes the `LSTAT**2` term."
   ]
  },
  {
   "cell_type": "markdown",
   "metadata": {},
   "source": [
    "If we wish to include higher-order predictors of the form $X^k$, the strategy of adding those columns by hand becomes less convenient. It is still doable by appropriately adjusting the how we call the `assign()` function to add columns to our dataframe. Let's demonstrate this by producing a fifth-order polynomial fit."
   ]
  },
  {
   "cell_type": "code",
   "execution_count": 98,
   "metadata": {},
   "outputs": [
    {
     "name": "stdout",
     "output_type": "stream",
     "text": [
      "                            OLS Regression Results                            \n",
      "==============================================================================\n",
      "Dep. Variable:                  CMEDV   R-squared:                       0.686\n",
      "Model:                            OLS   Adj. R-squared:                  0.683\n",
      "Method:                 Least Squares   F-statistic:                     218.1\n",
      "Date:                Wed, 20 Nov 2019   Prob (F-statistic):          3.81e-123\n",
      "Time:                        09:09:10   Log-Likelihood:                -1546.6\n",
      "No. Observations:                 506   AIC:                             3105.\n",
      "Df Residuals:                     500   BIC:                             3131.\n",
      "Df Model:                           5                                         \n",
      "Covariance Type:            nonrobust                                         \n",
      "==============================================================================\n",
      "                 coef    std err          t      P>|t|      [0.025      0.975]\n",
      "------------------------------------------------------------------------------\n",
      "const         67.5157      3.576     18.881      0.000      60.490      74.541\n",
      "LSTAT        -11.9435      1.514     -7.890      0.000     -14.918      -8.970\n",
      "LSTAT_2        1.2717      0.221      5.744      0.000       0.837       1.707\n",
      "LSTAT_3       -0.0685      0.014     -4.803      0.000      -0.097      -0.040\n",
      "LSTAT_4        0.0017      0.000      4.210      0.000       0.001       0.003\n",
      "LSTAT_5    -1.652e-05   4.39e-06     -3.767      0.000   -2.51e-05   -7.91e-06\n",
      "==============================================================================\n",
      "Omnibus:                      148.796   Durbin-Watson:                   0.996\n",
      "Prob(Omnibus):                  0.000   Jarque-Bera (JB):              515.972\n",
      "Skew:                           1.333   Prob(JB):                    9.08e-113\n",
      "Kurtosis:                       7.167   Cond. No.                     1.37e+08\n",
      "==============================================================================\n",
      "\n",
      "Warnings:\n",
      "[1] Standard Errors assume that the covariance matrix of the errors is correctly specified.\n",
      "[2] The condition number is large, 1.37e+08. This might indicate that there are\n",
      "strong multicollinearity or other numerical problems.\n"
     ]
    }
   ],
   "source": [
    "# Creating a fifth-order polynomial fit by hand\n",
    "\n",
    "# Use the terms exog (exogenous) and endog (endogenous) for X and y,\n",
    "# respectively to match the language used in the StatsModels documentation\n",
    "# Need to manually add a column for the intercept, as StatsModels does not\n",
    "# include it by default when performing ordinary least-squares regression\n",
    "exog = sm.add_constant(boston.loc[:, [\"LSTAT\"]].assign(LSTAT_2 = boston[\"LSTAT\"]**2,\n",
    "                                                      LSTAT_3 = boston[\"LSTAT\"]**3,\n",
    "                                                      LSTAT_4 = boston[\"LSTAT\"]**4,\n",
    "                                                      LSTAT_5 = boston[\"LSTAT\"]**5))\n",
    "endog = boston[\"CMEDV\"]\n",
    "\n",
    "# Generate the model\n",
    "mod_quint = sm.OLS(endog, exog)\n",
    "\n",
    "# Fit the model\n",
    "res_quint = mod_quint.fit()\n",
    "\n",
    "#Print out model summary\n",
    "print(res_quint.summary())"
   ]
  },
  {
   "cell_type": "markdown",
   "metadata": {},
   "source": [
    "It is much more convenient to use the PolynomialFeatures transformer from scikit-learn."
   ]
  },
  {
   "cell_type": "code",
   "execution_count": 105,
   "metadata": {},
   "outputs": [],
   "source": [
    "# Using PolynomialFeatures transformer with scikit-learn to create fifth-order polynomial fit\n",
    "\n",
    "from sklearn.preprocessing import PolynomialFeatures\n",
    "# Create an ExtendedLinearRegression object\n",
    "reg = ExtendedLinearRegression()\n",
    "# Create a 2nd degree Polynomial features transformer\n",
    "poly = PolynomialFeatures(degree = 5)\n",
    "# Need to extract the columns we are using and then reshape them so that\n",
    "# X has the shape (n_samples, n_features),\n",
    "# Y has the shape (n_samples, n_targets)\n",
    "# When using -1 as one of the reshape arguments, NumPy will infer the value\n",
    "# from the length of the array and the values for the other dimensions\n",
    "# Transform X using the PolynomialFeatures transformer\n",
    "# Exclude the intercept column so it plays nicely with how I've written the ExtendedLinearRegression class\n",
    "X = poly.fit_transform(boston.loc[:,[\"LSTAT\"]].values)[:, 1:]\n",
    "y = boston[\"CMEDV\"].values.reshape(-1, 1)\n",
    "# Fit linear regression model using X = LSTAT, y = CMEDV\n",
    "detailed_regression_stats = reg.detailed_linear_regression(X, y)"
   ]
  },
  {
   "cell_type": "code",
   "execution_count": 108,
   "metadata": {},
   "outputs": [
    {
     "data": {
      "text/html": [
       "<div>\n",
       "<style scoped>\n",
       "    .dataframe tbody tr th:only-of-type {\n",
       "        vertical-align: middle;\n",
       "    }\n",
       "\n",
       "    .dataframe tbody tr th {\n",
       "        vertical-align: top;\n",
       "    }\n",
       "\n",
       "    .dataframe thead th {\n",
       "        text-align: right;\n",
       "    }\n",
       "</style>\n",
       "<table border=\"1\" class=\"dataframe\">\n",
       "  <thead>\n",
       "    <tr style=\"text-align: right;\">\n",
       "      <th></th>\n",
       "      <th>Coefficient</th>\n",
       "      <th>Standard Error</th>\n",
       "      <th>t-value</th>\n",
       "      <th>Prob(&gt;|t|)</th>\n",
       "    </tr>\n",
       "  </thead>\n",
       "  <tbody>\n",
       "    <tr>\n",
       "      <td>0</td>\n",
       "      <td>67.515717</td>\n",
       "      <td>3.575911</td>\n",
       "      <td>18.880702</td>\n",
       "      <td>0.000000</td>\n",
       "    </tr>\n",
       "    <tr>\n",
       "      <td>1</td>\n",
       "      <td>-11.943525</td>\n",
       "      <td>1.513703</td>\n",
       "      <td>-7.890269</td>\n",
       "      <td>0.000000</td>\n",
       "    </tr>\n",
       "    <tr>\n",
       "      <td>2</td>\n",
       "      <td>1.271666</td>\n",
       "      <td>0.221410</td>\n",
       "      <td>5.743503</td>\n",
       "      <td>0.000000</td>\n",
       "    </tr>\n",
       "    <tr>\n",
       "      <td>3</td>\n",
       "      <td>-0.068529</td>\n",
       "      <td>0.014269</td>\n",
       "      <td>-4.802629</td>\n",
       "      <td>0.000002</td>\n",
       "    </tr>\n",
       "    <tr>\n",
       "      <td>4</td>\n",
       "      <td>0.001740</td>\n",
       "      <td>0.000413</td>\n",
       "      <td>4.210180</td>\n",
       "      <td>0.000030</td>\n",
       "    </tr>\n",
       "    <tr>\n",
       "      <td>5</td>\n",
       "      <td>-0.000017</td>\n",
       "      <td>0.000004</td>\n",
       "      <td>-3.767324</td>\n",
       "      <td>0.000184</td>\n",
       "    </tr>\n",
       "  </tbody>\n",
       "</table>\n",
       "</div>"
      ],
      "text/plain": [
       "   Coefficient  Standard Error    t-value  Prob(>|t|)\n",
       "0    67.515717        3.575911  18.880702    0.000000\n",
       "1   -11.943525        1.513703  -7.890269    0.000000\n",
       "2     1.271666        0.221410   5.743503    0.000000\n",
       "3    -0.068529        0.014269  -4.802629    0.000002\n",
       "4     0.001740        0.000413   4.210180    0.000030\n",
       "5    -0.000017        0.000004  -3.767324    0.000184"
      ]
     },
     "execution_count": 108,
     "metadata": {},
     "output_type": "execute_result"
    }
   ],
   "source": [
    "np.round(detailed_regression_stats[\"param_stats\"], 6)"
   ]
  },
  {
   "cell_type": "code",
   "execution_count": 109,
   "metadata": {},
   "outputs": [
    {
     "data": {
      "text/plain": [
       "Residual standard error      5.173728\n",
       "R-squared                    0.685664\n",
       "F-statistic                218.130626\n",
       "F-test p-value               0.000000\n",
       "dtype: float64"
      ]
     },
     "execution_count": 109,
     "metadata": {},
     "output_type": "execute_result"
    }
   ],
   "source": [
    "np.round(detailed_regression_stats[\"oa_stats\"], 6)"
   ]
  },
  {
   "cell_type": "code",
   "execution_count": 114,
   "metadata": {},
   "outputs": [
    {
     "name": "stdout",
     "output_type": "stream",
     "text": [
      "                            OLS Regression Results                            \n",
      "==============================================================================\n",
      "Dep. Variable:                  CMEDV   R-squared:                       0.686\n",
      "Model:                            OLS   Adj. R-squared:                  0.683\n",
      "Method:                 Least Squares   F-statistic:                     218.1\n",
      "Date:                Wed, 20 Nov 2019   Prob (F-statistic):          3.81e-123\n",
      "Time:                        09:28:25   Log-Likelihood:                -1546.6\n",
      "No. Observations:                 506   AIC:                             3105.\n",
      "Df Residuals:                     500   BIC:                             3131.\n",
      "Df Model:                           5                                         \n",
      "Covariance Type:            nonrobust                                         \n",
      "==============================================================================\n",
      "                 coef    std err          t      P>|t|      [0.025      0.975]\n",
      "------------------------------------------------------------------------------\n",
      "const         67.5157      3.576     18.881      0.000      60.490      74.541\n",
      "x1           -11.9435      1.514     -7.890      0.000     -14.918      -8.970\n",
      "x2             1.2717      0.221      5.744      0.000       0.837       1.707\n",
      "x3            -0.0685      0.014     -4.803      0.000      -0.097      -0.040\n",
      "x4             0.0017      0.000      4.210      0.000       0.001       0.003\n",
      "x5         -1.652e-05   4.39e-06     -3.767      0.000   -2.51e-05   -7.91e-06\n",
      "==============================================================================\n",
      "Omnibus:                      148.796   Durbin-Watson:                   0.996\n",
      "Prob(Omnibus):                  0.000   Jarque-Bera (JB):              515.972\n",
      "Skew:                           1.333   Prob(JB):                    9.08e-113\n",
      "Kurtosis:                       7.167   Cond. No.                     1.37e+08\n",
      "==============================================================================\n",
      "\n",
      "Warnings:\n",
      "[1] Standard Errors assume that the covariance matrix of the errors is correctly specified.\n",
      "[2] The condition number is large, 1.37e+08. This might indicate that there are\n",
      "strong multicollinearity or other numerical problems.\n"
     ]
    }
   ],
   "source": [
    "# Using PolynomialFeatures transformer to create fifth-order polynomial fit with StatsModels\n",
    "\n",
    "poly = PolynomialFeatures(degree = 5)\n",
    "# Use the terms exog (exogenous) and endog (endogenous) for X and y,\n",
    "# respectively to match the language used in the StatsModels documentation\n",
    "# No need to include a column for intercept in this case, since it is\n",
    "# included when applying the fit_transform function\n",
    "# Make sure to reshape the LSTAT column values to play nicely with fit_transform\n",
    "exog = poly.fit_transform(boston[\"LSTAT\"].values.reshape((-1, 1)))\n",
    "endog = boston[\"CMEDV\"]\n",
    "\n",
    "# Generate the model\n",
    "mod_quint = sm.OLS(endog, exog)\n",
    "\n",
    "# Fit the model\n",
    "res_quint = mod_quint.fit()\n",
    "\n",
    "#Print out model summary\n",
    "print(res_quint.summary())"
   ]
  },
  {
   "cell_type": "markdown",
   "metadata": {},
   "source": [
    "This summary suggests that including additional polynomial terms further improves the model fit. Remember that we *do not* care about the coefficient values when evaluating model fit. We care about statistical indicators such as the $R^2$ value for each model. Further investigation of the data indicates that polynomial terms beyond fifth order do not have significant p-values in a regression fit. Before moving on to other non-linear transformations of the predictors, note that we can use Python's string manipulation capabilities as another way of more conveniently performing higher order polynomial fits when using `R`-style formulas in StatsModels."
   ]
  },
  {
   "cell_type": "code",
   "execution_count": 140,
   "metadata": {},
   "outputs": [
    {
     "name": "stdout",
     "output_type": "stream",
     "text": [
      "                            OLS Regression Results                            \n",
      "==============================================================================\n",
      "Dep. Variable:                  CMEDV   R-squared:                       0.686\n",
      "Model:                            OLS   Adj. R-squared:                  0.683\n",
      "Method:                 Least Squares   F-statistic:                     218.1\n",
      "Date:                Wed, 20 Nov 2019   Prob (F-statistic):          3.81e-123\n",
      "Time:                        10:29:35   Log-Likelihood:                -1546.6\n",
      "No. Observations:                 506   AIC:                             3105.\n",
      "Df Residuals:                     500   BIC:                             3131.\n",
      "Df Model:                           5                                         \n",
      "Covariance Type:            nonrobust                                         \n",
      "=================================================================================\n",
      "                    coef    std err          t      P>|t|      [0.025      0.975]\n",
      "---------------------------------------------------------------------------------\n",
      "Intercept        67.5157      3.576     18.881      0.000      60.490      74.541\n",
      "LSTAT           -11.9435      1.514     -7.890      0.000     -14.918      -8.970\n",
      "I(LSTAT ** 2)     1.2717      0.221      5.744      0.000       0.837       1.707\n",
      "I(LSTAT ** 3)    -0.0685      0.014     -4.803      0.000      -0.097      -0.040\n",
      "I(LSTAT ** 4)     0.0017      0.000      4.210      0.000       0.001       0.003\n",
      "I(LSTAT ** 5) -1.652e-05   4.39e-06     -3.767      0.000   -2.51e-05   -7.91e-06\n",
      "==============================================================================\n",
      "Omnibus:                      148.796   Durbin-Watson:                   0.996\n",
      "Prob(Omnibus):                  0.000   Jarque-Bera (JB):              515.972\n",
      "Skew:                           1.333   Prob(JB):                    9.08e-113\n",
      "Kurtosis:                       7.167   Cond. No.                     1.37e+08\n",
      "==============================================================================\n",
      "\n",
      "Warnings:\n",
      "[1] Standard Errors assume that the covariance matrix of the errors is correctly specified.\n",
      "[2] The condition number is large, 1.37e+08. This might indicate that there are\n",
      "strong multicollinearity or other numerical problems.\n"
     ]
    }
   ],
   "source": [
    "# Using Python string manipulation alongside patsy to create fifth-order polynomial fit\n",
    "\n",
    "# Create string for the higher-order polynomial terms\n",
    "poly_terms = \"+\".join([\"I(LSTAT**{0})\".format(i) for i in range(2, 6)])\n",
    "# Join this string with the rest of the formula I wish to use\n",
    "my_formula = \"CMEDV ~ LSTAT + \" + poly_terms\n",
    "mod_quint = smf.ols(formula = my_formula, data = boston)\n",
    "res_quint = mod_quint.fit()\n",
    "print(res_quint.summary())"
   ]
  },
  {
   "cell_type": "markdown",
   "metadata": {},
   "source": [
    "One last thing to note is that we can use other non-linear transformations of the predictors. For example, we can do a logarithmic model where the predictor is $\\ln(X)$, and $X$ is `RM`, the average number of rooms."
   ]
  },
  {
   "cell_type": "code",
   "execution_count": 122,
   "metadata": {},
   "outputs": [
    {
     "name": "stdout",
     "output_type": "stream",
     "text": [
      "                            OLS Regression Results                            \n",
      "==============================================================================\n",
      "Dep. Variable:                  CMEDV   R-squared:                       0.437\n",
      "Model:                            OLS   Adj. R-squared:                  0.436\n",
      "Method:                 Least Squares   F-statistic:                     391.1\n",
      "Date:                Wed, 20 Nov 2019   Prob (F-statistic):           7.33e-65\n",
      "Time:                        09:46:08   Log-Likelihood:                -1694.1\n",
      "No. Observations:                 506   AIC:                             3392.\n",
      "Df Residuals:                     504   BIC:                             3401.\n",
      "Df Model:                           1                                         \n",
      "Covariance Type:            nonrobust                                         \n",
      "==============================================================================\n",
      "                 coef    std err          t      P>|t|      [0.025      0.975]\n",
      "------------------------------------------------------------------------------\n",
      "const        -76.4591      5.015    -15.248      0.000     -86.311     -66.607\n",
      "log(RM)       54.0367      2.732     19.777      0.000      48.669      59.405\n",
      "==============================================================================\n",
      "Omnibus:                      118.327   Durbin-Watson:                   0.679\n",
      "Prob(Omnibus):                  0.000   Jarque-Bera (JB):              602.084\n",
      "Skew:                           0.920   Prob(JB):                    1.82e-131\n",
      "Kurtosis:                       8.017   Cond. No.                         38.9\n",
      "==============================================================================\n",
      "\n",
      "Warnings:\n",
      "[1] Standard Errors assume that the covariance matrix of the errors is correctly specified.\n"
     ]
    }
   ],
   "source": [
    "# Creating a column for log(RM) by hand, using StatsModels\n",
    "# Here log refers to the natural logarithm\n",
    "\n",
    "# Use the terms exog (exogenous) and endog (endogenous) for X and y,\n",
    "# respectively to match the language used in the StatsModels documentation\n",
    "# Need to manually add a column for the intercept, as StatsModels does not\n",
    "# include it by default when performing ordinary least-squares regression\n",
    "exog = sm.add_constant(np.log(boston[\"RM\"].rename(\"log(RM)\")))\n",
    "endog = boston[\"CMEDV\"]\n",
    "\n",
    "# Generate the model\n",
    "mod_log = sm.OLS(endog, exog)\n",
    "\n",
    "# Fit the model\n",
    "res_log = mod_log.fit()\n",
    "#Print out model summary\n",
    "print(res_log.summary())"
   ]
  },
  {
   "cell_type": "code",
   "execution_count": 116,
   "metadata": {},
   "outputs": [
    {
     "name": "stdout",
     "output_type": "stream",
     "text": [
      "                            OLS Regression Results                            \n",
      "==============================================================================\n",
      "Dep. Variable:                  CMEDV   R-squared:                       0.437\n",
      "Model:                            OLS   Adj. R-squared:                  0.436\n",
      "Method:                 Least Squares   F-statistic:                     391.1\n",
      "Date:                Wed, 20 Nov 2019   Prob (F-statistic):           7.33e-65\n",
      "Time:                        09:36:34   Log-Likelihood:                -1694.1\n",
      "No. Observations:                 506   AIC:                             3392.\n",
      "Df Residuals:                     504   BIC:                             3401.\n",
      "Df Model:                           1                                         \n",
      "Covariance Type:            nonrobust                                         \n",
      "==============================================================================\n",
      "                 coef    std err          t      P>|t|      [0.025      0.975]\n",
      "------------------------------------------------------------------------------\n",
      "Intercept    -76.4591      5.015    -15.248      0.000     -86.311     -66.607\n",
      "np.log(RM)    54.0367      2.732     19.777      0.000      48.669      59.405\n",
      "==============================================================================\n",
      "Omnibus:                      118.327   Durbin-Watson:                   0.679\n",
      "Prob(Omnibus):                  0.000   Jarque-Bera (JB):              602.084\n",
      "Skew:                           0.920   Prob(JB):                    1.82e-131\n",
      "Kurtosis:                       8.017   Cond. No.                         38.9\n",
      "==============================================================================\n",
      "\n",
      "Warnings:\n",
      "[1] Standard Errors assume that the covariance matrix of the errors is correctly specified.\n"
     ]
    }
   ],
   "source": [
    "# Using patsy to include the term log(RM) via R-style formulas\n",
    "\n",
    "mod_log = smf.ols(formula = \"CMEDV ~ np.log(RM)\", data = boston)\n",
    "res_log = mod_log.fit()\n",
    "print(res_log.summary())"
   ]
  },
  {
   "cell_type": "code",
   "execution_count": 123,
   "metadata": {},
   "outputs": [],
   "source": [
    "# Creating a column for log(RM) by hand, using scikit-learn\n",
    "\n",
    "# Create an ExtendedLinearRegression object\n",
    "reg = ExtendedLinearRegression()\n",
    "# Need to extract the columns we are using and then reshape them so that\n",
    "# X has the shape (n_samples, n_features),\n",
    "# Y has the shape (n_samples, n_targets)\n",
    "# When using -1 as one of the reshape arguments, NumPy will infer the value\n",
    "# from the length of the array and the values for the other dimensions\n",
    "# Transform the RM column using np.log\n",
    "X = np.log(boston[\"RM\"]).values.reshape(-1, 1)\n",
    "y = boston[\"CMEDV\"].values.reshape(-1, 1)\n",
    "# Fit linear regression model using X = LSTAT, y = CMEDV\n",
    "detailed_regression_stats = reg.detailed_linear_regression(X, y)"
   ]
  },
  {
   "cell_type": "code",
   "execution_count": 124,
   "metadata": {},
   "outputs": [
    {
     "data": {
      "text/html": [
       "<div>\n",
       "<style scoped>\n",
       "    .dataframe tbody tr th:only-of-type {\n",
       "        vertical-align: middle;\n",
       "    }\n",
       "\n",
       "    .dataframe tbody tr th {\n",
       "        vertical-align: top;\n",
       "    }\n",
       "\n",
       "    .dataframe thead th {\n",
       "        text-align: right;\n",
       "    }\n",
       "</style>\n",
       "<table border=\"1\" class=\"dataframe\">\n",
       "  <thead>\n",
       "    <tr style=\"text-align: right;\">\n",
       "      <th></th>\n",
       "      <th>Coefficient</th>\n",
       "      <th>Standard Error</th>\n",
       "      <th>t-value</th>\n",
       "      <th>Prob(&gt;|t|)</th>\n",
       "    </tr>\n",
       "  </thead>\n",
       "  <tbody>\n",
       "    <tr>\n",
       "      <td>0</td>\n",
       "      <td>-76.4591</td>\n",
       "      <td>5.0145</td>\n",
       "      <td>-15.2475</td>\n",
       "      <td>0.0</td>\n",
       "    </tr>\n",
       "    <tr>\n",
       "      <td>1</td>\n",
       "      <td>54.0367</td>\n",
       "      <td>2.7323</td>\n",
       "      <td>19.7772</td>\n",
       "      <td>0.0</td>\n",
       "    </tr>\n",
       "  </tbody>\n",
       "</table>\n",
       "</div>"
      ],
      "text/plain": [
       "   Coefficient  Standard Error  t-value  Prob(>|t|)\n",
       "0     -76.4591          5.0145 -15.2475         0.0\n",
       "1      54.0367          2.7323  19.7772         0.0"
      ]
     },
     "execution_count": 124,
     "metadata": {},
     "output_type": "execute_result"
    }
   ],
   "source": [
    "np.round(detailed_regression_stats[\"param_stats\"], 4)"
   ]
  },
  {
   "cell_type": "code",
   "execution_count": 125,
   "metadata": {},
   "outputs": [
    {
     "data": {
      "text/plain": [
       "Residual standard error      6.8968\n",
       "R-squared                    0.4370\n",
       "F-statistic                391.1382\n",
       "F-test p-value               0.0000\n",
       "dtype: float64"
      ]
     },
     "execution_count": 125,
     "metadata": {},
     "output_type": "execute_result"
    }
   ],
   "source": [
    "np.round(detailed_regression_stats[\"oa_stats\"], 4)"
   ]
  },
  {
   "cell_type": "markdown",
   "metadata": {},
   "source": [
    "## Qualitative Predictors"
   ]
  },
  {
   "cell_type": "markdown",
   "metadata": {},
   "source": [
    "Next we'll examine the `Carseats` data set from the `ISLR` library and attempt to predict `Sales` (child car seat sales) in 400 locations based on a number of predictors. To start with, we'll do our usual overview inspection of the first few rows of the data set and then check for missing values."
   ]
  },
  {
   "cell_type": "code",
   "execution_count": 126,
   "metadata": {},
   "outputs": [],
   "source": [
    "# Load the Carseats data set\n",
    "# Use the unnamed zeroth column as the index\n",
    "carseats_filepath = \"Carseats.csv\"\n",
    "carseats = pd.read_csv(carseats_filepath, index_col = [\"Unnamed: 0\"])"
   ]
  },
  {
   "cell_type": "code",
   "execution_count": 127,
   "metadata": {},
   "outputs": [
    {
     "data": {
      "text/html": [
       "<div>\n",
       "<style scoped>\n",
       "    .dataframe tbody tr th:only-of-type {\n",
       "        vertical-align: middle;\n",
       "    }\n",
       "\n",
       "    .dataframe tbody tr th {\n",
       "        vertical-align: top;\n",
       "    }\n",
       "\n",
       "    .dataframe thead th {\n",
       "        text-align: right;\n",
       "    }\n",
       "</style>\n",
       "<table border=\"1\" class=\"dataframe\">\n",
       "  <thead>\n",
       "    <tr style=\"text-align: right;\">\n",
       "      <th></th>\n",
       "      <th>Sales</th>\n",
       "      <th>CompPrice</th>\n",
       "      <th>Income</th>\n",
       "      <th>Advertising</th>\n",
       "      <th>Population</th>\n",
       "      <th>Price</th>\n",
       "      <th>ShelveLoc</th>\n",
       "      <th>Age</th>\n",
       "      <th>Education</th>\n",
       "      <th>Urban</th>\n",
       "      <th>US</th>\n",
       "    </tr>\n",
       "  </thead>\n",
       "  <tbody>\n",
       "    <tr>\n",
       "      <td>1</td>\n",
       "      <td>9.50</td>\n",
       "      <td>138</td>\n",
       "      <td>73</td>\n",
       "      <td>11</td>\n",
       "      <td>276</td>\n",
       "      <td>120</td>\n",
       "      <td>Bad</td>\n",
       "      <td>42</td>\n",
       "      <td>17</td>\n",
       "      <td>Yes</td>\n",
       "      <td>Yes</td>\n",
       "    </tr>\n",
       "    <tr>\n",
       "      <td>2</td>\n",
       "      <td>11.22</td>\n",
       "      <td>111</td>\n",
       "      <td>48</td>\n",
       "      <td>16</td>\n",
       "      <td>260</td>\n",
       "      <td>83</td>\n",
       "      <td>Good</td>\n",
       "      <td>65</td>\n",
       "      <td>10</td>\n",
       "      <td>Yes</td>\n",
       "      <td>Yes</td>\n",
       "    </tr>\n",
       "    <tr>\n",
       "      <td>3</td>\n",
       "      <td>10.06</td>\n",
       "      <td>113</td>\n",
       "      <td>35</td>\n",
       "      <td>10</td>\n",
       "      <td>269</td>\n",
       "      <td>80</td>\n",
       "      <td>Medium</td>\n",
       "      <td>59</td>\n",
       "      <td>12</td>\n",
       "      <td>Yes</td>\n",
       "      <td>Yes</td>\n",
       "    </tr>\n",
       "    <tr>\n",
       "      <td>4</td>\n",
       "      <td>7.40</td>\n",
       "      <td>117</td>\n",
       "      <td>100</td>\n",
       "      <td>4</td>\n",
       "      <td>466</td>\n",
       "      <td>97</td>\n",
       "      <td>Medium</td>\n",
       "      <td>55</td>\n",
       "      <td>14</td>\n",
       "      <td>Yes</td>\n",
       "      <td>Yes</td>\n",
       "    </tr>\n",
       "    <tr>\n",
       "      <td>5</td>\n",
       "      <td>4.15</td>\n",
       "      <td>141</td>\n",
       "      <td>64</td>\n",
       "      <td>3</td>\n",
       "      <td>340</td>\n",
       "      <td>128</td>\n",
       "      <td>Bad</td>\n",
       "      <td>38</td>\n",
       "      <td>13</td>\n",
       "      <td>Yes</td>\n",
       "      <td>No</td>\n",
       "    </tr>\n",
       "  </tbody>\n",
       "</table>\n",
       "</div>"
      ],
      "text/plain": [
       "   Sales  CompPrice  Income  Advertising  Population  Price ShelveLoc  Age  \\\n",
       "1   9.50        138      73           11         276    120       Bad   42   \n",
       "2  11.22        111      48           16         260     83      Good   65   \n",
       "3  10.06        113      35           10         269     80    Medium   59   \n",
       "4   7.40        117     100            4         466     97    Medium   55   \n",
       "5   4.15        141      64            3         340    128       Bad   38   \n",
       "\n",
       "   Education Urban   US  \n",
       "1         17   Yes  Yes  \n",
       "2         10   Yes  Yes  \n",
       "3         12   Yes  Yes  \n",
       "4         14   Yes  Yes  \n",
       "5         13   Yes   No  "
      ]
     },
     "execution_count": 127,
     "metadata": {},
     "output_type": "execute_result"
    }
   ],
   "source": [
    "carseats.head()"
   ]
  },
  {
   "cell_type": "code",
   "execution_count": 128,
   "metadata": {},
   "outputs": [
    {
     "data": {
      "text/plain": [
       "Sales          False\n",
       "CompPrice      False\n",
       "Income         False\n",
       "Advertising    False\n",
       "Population     False\n",
       "Price          False\n",
       "ShelveLoc      False\n",
       "Age            False\n",
       "Education      False\n",
       "Urban          False\n",
       "US             False\n",
       "dtype: bool"
      ]
     },
     "execution_count": 128,
     "metadata": {},
     "output_type": "execute_result"
    }
   ],
   "source": [
    "carseats.isnull().any()"
   ]
  },
  {
   "cell_type": "markdown",
   "metadata": {},
   "source": [
    "Looking at the data, we see that there are a number of qualitative predictors. For example, the `ShelveLoc` predictor is an indicator of the quality of the shelving location, or the space within a store in which the car seat is displayed, at each location. This predictor takes on three possible values: *Bad*, *Medium*, and *Good*. If we include a qualitative variable in `statsmodels.formula.api.ols()`, `Patsy` will automatically generate dummy variables for the possible values of that variable. For more details on how this is done, we can refer to a tutorial on [contrast coding systems for categorical variables with Patsy](http://www.statsmodels.org/stable/contrasts.html) on the StatsModels documentation site, as well as the official [Patsy documentation for coding categorical data](https://patsy.readthedocs.io/en/latest/categorical-coding.html). Now we'll create a multiple regression model that also includes some interaction terms. Note that as far as I can tell (as of November 2019), Patsy currently does not have an equivalent to `.` to include all columns in the way `R` can do this. However, following [this StackExchange post](https://stackoverflow.com/a/22388673), we can use Python string manipulation for this purpose."
   ]
  },
  {
   "cell_type": "code",
   "execution_count": 135,
   "metadata": {},
   "outputs": [
    {
     "name": "stdout",
     "output_type": "stream",
     "text": [
      "                            OLS Regression Results                            \n",
      "==============================================================================\n",
      "Dep. Variable:                  Sales   R-squared:                       0.876\n",
      "Model:                            OLS   Adj. R-squared:                  0.872\n",
      "Method:                 Least Squares   F-statistic:                     210.0\n",
      "Date:                Wed, 20 Nov 2019   Prob (F-statistic):          6.14e-166\n",
      "Time:                        10:13:01   Log-Likelihood:                -564.67\n",
      "No. Observations:                 400   AIC:                             1157.\n",
      "Df Residuals:                     386   BIC:                             1213.\n",
      "Df Model:                          13                                         \n",
      "Covariance Type:            nonrobust                                         \n",
      "=======================================================================================\n",
      "                          coef    std err          t      P>|t|      [0.025      0.975]\n",
      "---------------------------------------------------------------------------------------\n",
      "Intercept               6.5756      1.009      6.519      0.000       4.592       8.559\n",
      "ShelveLoc[T.Good]       4.8487      0.153     31.724      0.000       4.548       5.149\n",
      "ShelveLoc[T.Medium]     1.9533      0.126     15.531      0.000       1.706       2.201\n",
      "Urban[T.Yes]            0.1402      0.112      1.247      0.213      -0.081       0.361\n",
      "US[T.Yes]              -0.1576      0.149     -1.058      0.291      -0.450       0.135\n",
      "CompPrice               0.0929      0.004     22.567      0.000       0.085       0.101\n",
      "Income                  0.0109      0.003      4.183      0.000       0.006       0.016\n",
      "Advertising             0.0702      0.023      3.107      0.002       0.026       0.115\n",
      "Population              0.0002      0.000      0.433      0.665      -0.001       0.001\n",
      "Price                  -0.1008      0.007    -13.549      0.000      -0.115      -0.086\n",
      "Age                    -0.0579      0.016     -3.633      0.000      -0.089      -0.027\n",
      "Education              -0.0209      0.020     -1.063      0.288      -0.059       0.018\n",
      "Income:Advertising      0.0008      0.000      2.698      0.007       0.000       0.001\n",
      "Price:Age               0.0001      0.000      0.801      0.424      -0.000       0.000\n",
      "==============================================================================\n",
      "Omnibus:                        1.281   Durbin-Watson:                   2.047\n",
      "Prob(Omnibus):                  0.527   Jarque-Bera (JB):                1.147\n",
      "Skew:                           0.129   Prob(JB):                        0.564\n",
      "Kurtosis:                       3.050   Cond. No.                     1.31e+05\n",
      "==============================================================================\n",
      "\n",
      "Warnings:\n",
      "[1] Standard Errors assume that the covariance matrix of the errors is correctly specified.\n",
      "[2] The condition number is large, 1.31e+05. This might indicate that there are\n",
      "strong multicollinearity or other numerical problems.\n"
     ]
    }
   ],
   "source": [
    "# Using patsy to include the perform multiple regression using the Carseats data\n",
    "# Include interaction terms for Income:Advertising and Price:Age\n",
    "# Note that there are some qualitative predictors\n",
    "\n",
    "# Create string for the names of all of the columns\n",
    "all_columns = \"+\".join(carseats.columns.drop(\"Sales\"))\n",
    "# Join this string with the rest of the formula I wish to use\n",
    "my_formula = \"Sales ~\" + all_columns + \"+ Income:Advertising + Price:Age\"\n",
    "mod = smf.ols(formula = my_formula, data = carseats)\n",
    "res = mod.fit()\n",
    "print(res.summary())"
   ]
  },
  {
   "cell_type": "markdown",
   "metadata": {},
   "source": [
    "By default, Patsy uses [treatment (dummy) coding](https://patsy.readthedocs.io/en/latest/API-reference.html#patsy.Treatment), though there are lots of other contrast coding options we can explore in the linked documentation. In addition, by default the reference is the first level (using alphabetical order), though we have the option to specify this explicitly if we wish. Here we see that Patsy created a dummy variable `ShelveLoc[T.Good]` which is equal to 1 if the shelving location is good and 0 otherwise, along with a dummy variable `ShelveLoc[T.Medium]` which is equal to 1 if the shelving location is medium and 0 otherwise. With this encoding, a bad shelving location corresponds to both dummy variables having a value of 0. The positive coefficients for `ShelveLoc[T.Good]` and `ShelveLoc[T.Medium]` in the regression output indicates that good or medium shelving locations contribute to higher sales compared to a bad location. The higher value of the coefficient for `ShelveLoc[T.Good]` indicates that a good shelving location has leads to a bigger increase in sales (over a bad location) than a medium shelving location."
   ]
  },
  {
   "cell_type": "markdown",
   "metadata": {},
   "source": [
    "To perform this regression with scikit-learn, we'll use the [OneHotEncoder](https://scikit-learn.org/stable/modules/generated/sklearn.preprocessing.OneHotEncoder.html) to code the categorical predictors and again use the PolynomialFeatures transformer to add the interaction terms. We can look at the preprocessing section of the user guide for more information on how to use scikit-learn for [encoding categorical data](https://scikit-learn.org/stable/modules/preprocessing.html#encoding-categorical-features)."
   ]
  },
  {
   "cell_type": "code",
   "execution_count": 217,
   "metadata": {},
   "outputs": [],
   "source": [
    "from sklearn.preprocessing import PolynomialFeatures, OneHotEncoder\n",
    "# Create an ExtendedLinearRegression object\n",
    "reg = ExtendedLinearRegression()\n",
    "# Create a 2nd degree Polynomial features transformer which only includes interaction terms\n",
    "poly = PolynomialFeatures(degree = 2, interaction_only = True)\n",
    "# Create columns for interaction terms Income:Advertising and Price:Age\n",
    "income_advert = pd.Series(poly.fit_transform(carseats.loc[:, [\"Income\", \"Advertising\"]])[:, -1], name = \"Income:Advertising\")\n",
    "price_age = pd.Series(poly.fit_transform(carseats.loc[:, [\"Price\", \"Age\"]])[:, -1], name = \"Price:Age\")\n",
    "# Encode categorical predictors using OneHotEncoder\n",
    "# Set the categories and drop the first category when encoding to use reduced-rank coding\n",
    "# This then replicates the default behavior of how Patsy and R do categorical encoding\n",
    "enc = OneHotEncoder(categories = [[\"Bad\", \"Medium\", \"Good\"], [\"No\", \"Yes\"], [\"No\", \"Yes\"]], drop = \"first\")\n",
    "cat_pred = enc.fit_transform(carseats.loc[:, [\"ShelveLoc\", \"Urban\", \"US\"]]).toarray()\n",
    "cat_pred = pd.DataFrame(cat_pred, columns = [\"ShelveLocMedium\", \"ShelveLocGood\", \"UrbanYes\", \"USYes\"])\n",
    "quant_pred = carseats.loc[:, [\"CompPrice\", \"Income\", \"Advertising\", \"Population\", \"Price\", \"Age\", \"Education\"]].reset_index(drop = True)\n",
    "\n",
    "# Combine all of the columns into a single dataframe of predictors\n",
    "# Note that we needed to reset the index for quant_pred in order to have it align with the indices\n",
    "# for the other columns when joining\n",
    "# We could avoid this if we worked purely with the underlying NumPy arrays\n",
    "X = cat_pred.join([quant_pred, income_advert, price_age])\n",
    "y = carseats[\"Sales\"].values.reshape(-1, 1)\n",
    "detailed_regression_stats = reg.detailed_linear_regression(X, y)"
   ]
  },
  {
   "cell_type": "code",
   "execution_count": 218,
   "metadata": {},
   "outputs": [
    {
     "data": {
      "text/html": [
       "<div>\n",
       "<style scoped>\n",
       "    .dataframe tbody tr th:only-of-type {\n",
       "        vertical-align: middle;\n",
       "    }\n",
       "\n",
       "    .dataframe tbody tr th {\n",
       "        vertical-align: top;\n",
       "    }\n",
       "\n",
       "    .dataframe thead th {\n",
       "        text-align: right;\n",
       "    }\n",
       "</style>\n",
       "<table border=\"1\" class=\"dataframe\">\n",
       "  <thead>\n",
       "    <tr style=\"text-align: right;\">\n",
       "      <th></th>\n",
       "      <th>Coefficient</th>\n",
       "      <th>Standard Error</th>\n",
       "      <th>t-value</th>\n",
       "      <th>Prob(&gt;|t|)</th>\n",
       "    </tr>\n",
       "  </thead>\n",
       "  <tbody>\n",
       "    <tr>\n",
       "      <td>0</td>\n",
       "      <td>6.5756</td>\n",
       "      <td>1.0087</td>\n",
       "      <td>6.5185</td>\n",
       "      <td>0.0000</td>\n",
       "    </tr>\n",
       "    <tr>\n",
       "      <td>1</td>\n",
       "      <td>1.9533</td>\n",
       "      <td>0.1258</td>\n",
       "      <td>15.5307</td>\n",
       "      <td>0.0000</td>\n",
       "    </tr>\n",
       "    <tr>\n",
       "      <td>2</td>\n",
       "      <td>4.8487</td>\n",
       "      <td>0.1528</td>\n",
       "      <td>31.7243</td>\n",
       "      <td>0.0000</td>\n",
       "    </tr>\n",
       "    <tr>\n",
       "      <td>3</td>\n",
       "      <td>0.1402</td>\n",
       "      <td>0.1124</td>\n",
       "      <td>1.2470</td>\n",
       "      <td>0.2131</td>\n",
       "    </tr>\n",
       "    <tr>\n",
       "      <td>4</td>\n",
       "      <td>-0.1576</td>\n",
       "      <td>0.1489</td>\n",
       "      <td>-1.0580</td>\n",
       "      <td>0.2907</td>\n",
       "    </tr>\n",
       "    <tr>\n",
       "      <td>5</td>\n",
       "      <td>0.0929</td>\n",
       "      <td>0.0041</td>\n",
       "      <td>22.5668</td>\n",
       "      <td>0.0000</td>\n",
       "    </tr>\n",
       "    <tr>\n",
       "      <td>6</td>\n",
       "      <td>0.0109</td>\n",
       "      <td>0.0026</td>\n",
       "      <td>4.1828</td>\n",
       "      <td>0.0000</td>\n",
       "    </tr>\n",
       "    <tr>\n",
       "      <td>7</td>\n",
       "      <td>0.0702</td>\n",
       "      <td>0.0226</td>\n",
       "      <td>3.1070</td>\n",
       "      <td>0.0020</td>\n",
       "    </tr>\n",
       "    <tr>\n",
       "      <td>8</td>\n",
       "      <td>0.0002</td>\n",
       "      <td>0.0004</td>\n",
       "      <td>0.4329</td>\n",
       "      <td>0.6653</td>\n",
       "    </tr>\n",
       "    <tr>\n",
       "      <td>9</td>\n",
       "      <td>-0.1008</td>\n",
       "      <td>0.0074</td>\n",
       "      <td>-13.5494</td>\n",
       "      <td>0.0000</td>\n",
       "    </tr>\n",
       "    <tr>\n",
       "      <td>10</td>\n",
       "      <td>-0.0579</td>\n",
       "      <td>0.0160</td>\n",
       "      <td>-3.6329</td>\n",
       "      <td>0.0003</td>\n",
       "    </tr>\n",
       "    <tr>\n",
       "      <td>11</td>\n",
       "      <td>-0.0209</td>\n",
       "      <td>0.0196</td>\n",
       "      <td>-1.0632</td>\n",
       "      <td>0.2883</td>\n",
       "    </tr>\n",
       "    <tr>\n",
       "      <td>12</td>\n",
       "      <td>0.0008</td>\n",
       "      <td>0.0003</td>\n",
       "      <td>2.6976</td>\n",
       "      <td>0.0073</td>\n",
       "    </tr>\n",
       "    <tr>\n",
       "      <td>13</td>\n",
       "      <td>0.0001</td>\n",
       "      <td>0.0001</td>\n",
       "      <td>0.8007</td>\n",
       "      <td>0.4238</td>\n",
       "    </tr>\n",
       "  </tbody>\n",
       "</table>\n",
       "</div>"
      ],
      "text/plain": [
       "    Coefficient  Standard Error  t-value  Prob(>|t|)\n",
       "0        6.5756          1.0087   6.5185      0.0000\n",
       "1        1.9533          0.1258  15.5307      0.0000\n",
       "2        4.8487          0.1528  31.7243      0.0000\n",
       "3        0.1402          0.1124   1.2470      0.2131\n",
       "4       -0.1576          0.1489  -1.0580      0.2907\n",
       "5        0.0929          0.0041  22.5668      0.0000\n",
       "6        0.0109          0.0026   4.1828      0.0000\n",
       "7        0.0702          0.0226   3.1070      0.0020\n",
       "8        0.0002          0.0004   0.4329      0.6653\n",
       "9       -0.1008          0.0074 -13.5494      0.0000\n",
       "10      -0.0579          0.0160  -3.6329      0.0003\n",
       "11      -0.0209          0.0196  -1.0632      0.2883\n",
       "12       0.0008          0.0003   2.6976      0.0073\n",
       "13       0.0001          0.0001   0.8007      0.4238"
      ]
     },
     "execution_count": 218,
     "metadata": {},
     "output_type": "execute_result"
    }
   ],
   "source": [
    "np.round(detailed_regression_stats[\"param_stats\"], 4)"
   ]
  },
  {
   "cell_type": "code",
   "execution_count": 219,
   "metadata": {},
   "outputs": [
    {
     "data": {
      "text/plain": [
       "Residual standard error      1.0106\n",
       "R-squared                    0.8761\n",
       "F-statistic                209.9884\n",
       "F-test p-value               0.0000\n",
       "dtype: float64"
      ]
     },
     "execution_count": 219,
     "metadata": {},
     "output_type": "execute_result"
    }
   ],
   "source": [
    "np.round(detailed_regression_stats[\"oa_stats\"], 4)"
   ]
  },
  {
   "cell_type": "code",
   "execution_count": 220,
   "metadata": {},
   "outputs": [
    {
     "data": {
      "text/plain": [
       "Index(['ShelveLocMedium', 'ShelveLocGood', 'UrbanYes', 'USYes', 'CompPrice',\n",
       "       'Income', 'Advertising', 'Population', 'Price', 'Age', 'Education',\n",
       "       'Income:Advertising', 'Price:Age'],\n",
       "      dtype='object')"
      ]
     },
     "execution_count": 220,
     "metadata": {},
     "output_type": "execute_result"
    }
   ],
   "source": [
    "# List of columns to remember which column corresponds to each coefficient\n",
    "X.columns"
   ]
  }
 ],
 "metadata": {
  "kernelspec": {
   "display_name": "Python 3",
   "language": "python",
   "name": "python3"
  },
  "language_info": {
   "codemirror_mode": {
    "name": "ipython",
    "version": 3
   },
   "file_extension": ".py",
   "mimetype": "text/x-python",
   "name": "python",
   "nbconvert_exporter": "python",
   "pygments_lexer": "ipython3",
   "version": "3.7.4"
  }
 },
 "nbformat": 4,
 "nbformat_minor": 2
}
