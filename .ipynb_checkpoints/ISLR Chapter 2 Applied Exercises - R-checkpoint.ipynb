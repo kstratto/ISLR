{
 "cells": [
  {
   "cell_type": "markdown",
   "metadata": {},
   "source": [
    "# Applied Exercise 1\n",
    "\n",
    "\n",
    "**This exercise relates to the `College` data set, which can be found in the file `College.csv`. It contains a number of variables for 777 different universities and colleges in the US. The variables are**\n",
    "\n",
    "- **`Private`: Public/private indicator**\n",
    "- **`Apps`: Number of applications received**\n",
    "- **`Accept`: Number of applicants accepted**\n",
    "- **`Enroll`: Number of new students enrolled**\n",
    "- **`Top10perc`: New students from top 10% of high school class**\n",
    "- **`Top25perc`: New students from top 25% of high school class**\n",
    "- **`F.Undergrad`: Number of full-time undergraduates**\n",
    "- **`P.Undergrad`: Number of part-time undergraduates**\n",
    "- **`Outstate`: Out-of-state tuition**\n",
    "- **`Room.Board`: Room and board costs**\n",
    "- **`Books`: Estimated book costs**\n",
    "- **`Personal`: Estimated personal spending**\n",
    "- **`PhD`: Percent of faculty with Ph.D.'s**\n",
    "- **`Terminal`: Percent of faculty with terminal degree**\n",
    "- **`S.F.Ratio`: Student/faculty ratio**\n",
    "- **`perc.alumni`: Percent of alumni who donate**\n",
    "- **`Expend`: Instructional expenditure per student**\n",
    "- **`Grad.Rate`: Graduation rate**\n",
    "\n",
    "**Before reading the data into `R`, it can be viewed in Excel or a text editor.**"
   ]
  },
  {
   "cell_type": "markdown",
   "metadata": {},
   "source": [
    "## Part 1\n",
    "**Use the `read.csv()` function to read the data into `R`. Call the loaded data `college`. Make sure that you have the directory set to the correct location for the data.**"
   ]
  },
  {
   "cell_type": "code",
   "execution_count": 1,
   "metadata": {},
   "outputs": [],
   "source": [
    "college = read.csv(\"College.csv\", header = TRUE)"
   ]
  },
  {
   "cell_type": "markdown",
   "metadata": {},
   "source": [
    "## Part 2\n",
    "**Look at the data using the `fix()` function. You should notice that the first column is just the name of each university. We don't really want `R` to treat this as data. However, it may be handy to have these names for later. Try the following commands:**\n",
    "\n",
    "```\n",
    "> rownames(college) = college[, 1]\n",
    "> fix(college)\n",
    "```"
   ]
  },
  {
   "cell_type": "code",
   "execution_count": 2,
   "metadata": {},
   "outputs": [],
   "source": [
    "fix(college)"
   ]
  },
  {
   "cell_type": "code",
   "execution_count": 3,
   "metadata": {},
   "outputs": [],
   "source": [
    "rownames(college) = college[, 1]\n",
    "fix(college)"
   ]
  },
  {
   "cell_type": "markdown",
   "metadata": {},
   "source": [
    "**You should see that there is now a `row.names` column with the name of each university recorded. This means that `R` has given each row a name corresponding to the appropriate university. `R` will not try to perform calculations on the row names. However, we still need to eliminate the first column in the data where the names are stored. Try**\n",
    "\n",
    "```\n",
    "> college = college[, -1]\n",
    "> fix(college)\n",
    "```"
   ]
  },
  {
   "cell_type": "code",
   "execution_count": 4,
   "metadata": {},
   "outputs": [],
   "source": [
    "college = college[, -1]\n",
    "fix(college)"
   ]
  },
  {
   "cell_type": "markdown",
   "metadata": {},
   "source": [
    "**Now you should see that the first data column is `Private`. Note that another column labeled `row.names` now appears before the `Private` column. However, this is not a data column but rather the name that `R` is giving to each row.**"
   ]
  },
  {
   "cell_type": "markdown",
   "metadata": {},
   "source": [
    "## Part 3.1\n",
    "**Use the `summary()` function to produce a numerical summary of the variables in the data set.**"
   ]
  },
  {
   "cell_type": "code",
   "execution_count": 5,
   "metadata": {},
   "outputs": [
    {
     "data": {
      "text/plain": [
       " Private        Apps           Accept          Enroll       Top10perc    \n",
       " No :212   Min.   :   81   Min.   :   72   Min.   :  35   Min.   : 1.00  \n",
       " Yes:565   1st Qu.:  776   1st Qu.:  604   1st Qu.: 242   1st Qu.:15.00  \n",
       "           Median : 1558   Median : 1110   Median : 434   Median :23.00  \n",
       "           Mean   : 3002   Mean   : 2019   Mean   : 780   Mean   :27.56  \n",
       "           3rd Qu.: 3624   3rd Qu.: 2424   3rd Qu.: 902   3rd Qu.:35.00  \n",
       "           Max.   :48094   Max.   :26330   Max.   :6392   Max.   :96.00  \n",
       "   Top25perc      F.Undergrad     P.Undergrad         Outstate    \n",
       " Min.   :  9.0   Min.   :  139   Min.   :    1.0   Min.   : 2340  \n",
       " 1st Qu.: 41.0   1st Qu.:  992   1st Qu.:   95.0   1st Qu.: 7320  \n",
       " Median : 54.0   Median : 1707   Median :  353.0   Median : 9990  \n",
       " Mean   : 55.8   Mean   : 3700   Mean   :  855.3   Mean   :10441  \n",
       " 3rd Qu.: 69.0   3rd Qu.: 4005   3rd Qu.:  967.0   3rd Qu.:12925  \n",
       " Max.   :100.0   Max.   :31643   Max.   :21836.0   Max.   :21700  \n",
       "   Room.Board       Books           Personal         PhD        \n",
       " Min.   :1780   Min.   :  96.0   Min.   : 250   Min.   :  8.00  \n",
       " 1st Qu.:3597   1st Qu.: 470.0   1st Qu.: 850   1st Qu.: 62.00  \n",
       " Median :4200   Median : 500.0   Median :1200   Median : 75.00  \n",
       " Mean   :4358   Mean   : 549.4   Mean   :1341   Mean   : 72.66  \n",
       " 3rd Qu.:5050   3rd Qu.: 600.0   3rd Qu.:1700   3rd Qu.: 85.00  \n",
       " Max.   :8124   Max.   :2340.0   Max.   :6800   Max.   :103.00  \n",
       "    Terminal       S.F.Ratio      perc.alumni        Expend     \n",
       " Min.   : 24.0   Min.   : 2.50   Min.   : 0.00   Min.   : 3186  \n",
       " 1st Qu.: 71.0   1st Qu.:11.50   1st Qu.:13.00   1st Qu.: 6751  \n",
       " Median : 82.0   Median :13.60   Median :21.00   Median : 8377  \n",
       " Mean   : 79.7   Mean   :14.09   Mean   :22.74   Mean   : 9660  \n",
       " 3rd Qu.: 92.0   3rd Qu.:16.50   3rd Qu.:31.00   3rd Qu.:10830  \n",
       " Max.   :100.0   Max.   :39.80   Max.   :64.00   Max.   :56233  \n",
       "   Grad.Rate     \n",
       " Min.   : 10.00  \n",
       " 1st Qu.: 53.00  \n",
       " Median : 65.00  \n",
       " Mean   : 65.46  \n",
       " 3rd Qu.: 78.00  \n",
       " Max.   :118.00  "
      ]
     },
     "metadata": {},
     "output_type": "display_data"
    }
   ],
   "source": [
    "summary(college)"
   ]
  },
  {
   "cell_type": "markdown",
   "metadata": {},
   "source": [
    "## Part 3.2\n",
    "**Use the `pairs()` function to produce a scatterplot matrix of the first ten columns or variables of the data. Recall that you can reference the first ten columns of a matrix `A` using `A[, 1:10]`.**"
   ]
  },
  {
   "cell_type": "code",
   "execution_count": 6,
   "metadata": {},
   "outputs": [
    {
     "data": {
      "image/png": "[encoded data removed]",
      "text/plain": [
       "plot without title"
      ]
     },
     "metadata": {},
     "output_type": "display_data"
    }
   ],
   "source": [
    "pairs(college[, 1:10])"
   ]
  },
  {
   "cell_type": "markdown",
   "metadata": {},
   "source": [
    "## Part 3.3\n",
    "**Use the `plot()` function to produce side-by-side boxplots of `Outstate` versus `Private`.**"
   ]
  },
  {
   "cell_type": "code",
   "execution_count": 7,
   "metadata": {},
   "outputs": [
    {
     "data": {
      "image/png": "[encoded data removed]",
      "text/plain": [
       "plot without title"
      ]
     },
     "metadata": {},
     "output_type": "display_data"
    }
   ],
   "source": [
    "plot(college$Private, college$Outstate, xlab = \"Private\", ylab = \"Out-of-state tuition (dollars)\")"
   ]
  },
  {
   "cell_type": "markdown",
   "metadata": {},
   "source": [
    "## Part 3.4\n",
    "**Create a new qualitative variable, called `Elite`, by *binning* the `Top10perc` variable. We are going to divide universities into two groups based on whether or not the proportion of students coming from the top 10% of their high school classes exceeds 50%.**\n",
    "\n",
    "```\n",
    "> Elite = rep(\"No\", nrow(college))\n",
    "> Elite[college$Top10per>50] = \"Yes\"\n",
    "> Elite = as.factor(Elite)\n",
    "> college = data.frame(college, Elite)\n",
    "```"
   ]
  },
  {
   "cell_type": "code",
   "execution_count": 8,
   "metadata": {},
   "outputs": [],
   "source": [
    "Elite = rep(\"No\", nrow(college))\n",
    "Elite[college$Top10per > 50] = \"Yes\"\n",
    "Elite = as.factor(Elite)\n",
    "college = data.frame(college, Elite)"
   ]
  },
  {
   "cell_type": "markdown",
   "metadata": {},
   "source": [
    "**Use the `summary()` function to see how many elite universities there are. Now use the `plot()` function to produce side-by-side boxplots of `Outstate` versus `Elite`.**"
   ]
  },
  {
   "cell_type": "code",
   "execution_count": 9,
   "metadata": {},
   "outputs": [
    {
     "data": {
      "text/html": [
       "<dl class=dl-horizontal>\n",
       "\t<dt>No</dt>\n",
       "\t\t<dd>699</dd>\n",
       "\t<dt>Yes</dt>\n",
       "\t\t<dd>78</dd>\n",
       "</dl>\n"
      ],
      "text/latex": [
       "\\begin{description*}\n",
       "\\item[No] 699\n",
       "\\item[Yes] 78\n",
       "\\end{description*}\n"
      ],
      "text/markdown": [
       "No\n",
       ":   699Yes\n",
       ":   78\n",
       "\n"
      ],
      "text/plain": [
       " No Yes \n",
       "699  78 "
      ]
     },
     "metadata": {},
     "output_type": "display_data"
    }
   ],
   "source": [
    "summary(college$Elite)"
   ]
  },
  {
   "cell_type": "code",
   "execution_count": 10,
   "metadata": {},
   "outputs": [
    {
     "data": {
      "image/png": "[encoded data removed]",
      "text/plain": [
       "plot without title"
      ]
     },
     "metadata": {},
     "output_type": "display_data"
    }
   ],
   "source": [
    "plot(college$Elite, college$Outstate, xlab = \"Elite\", ylab = \"Out-of-state tuition (dollars)\")"
   ]
  },
  {
   "cell_type": "markdown",
   "metadata": {},
   "source": [
    "## Part 3.5\n",
    "**Use the `hist()` function to produce some histograms with differing numbers of bins for a few of the quantitative variables. You may find the command `par(mfrow = c(2, 2))` useful: it will divide the print window into four regions so that four plots can be made simultaneously. Modifying the arguments to this function will divide the screen in other ways.**"
   ]
  },
  {
   "cell_type": "code",
   "execution_count": 11,
   "metadata": {},
   "outputs": [
    {
     "data": {
      "image/png": "[encoded data removed]",
      "text/plain": [
       "Plot with title \"Histogram for elite schools\""
      ]
     },
     "metadata": {},
     "output_type": "display_data"
    }
   ],
   "source": [
    "par(mfrow = c(2, 2))\n",
    "hist(college$Apps, xlab = \"Number of applicants\", main = \"Histogram for all colleges\")\n",
    "hist(college$Apps[college$Private == \"Yes\"], xlab = \"Number of applicants\", main = \"Histogram for private schools\")\n",
    "hist(college$Apps[college$Private == \"No\"], xlab = \"Number of applicants\", main = \"Histogram for public schools\")\n",
    "hist(college$Apps[college$Elite == \"Yes\"], xlab = \"Number of applicants\", main = \"Histogram for elite schools\")"
   ]
  },
  {
   "cell_type": "code",
   "execution_count": 12,
   "metadata": {},
   "outputs": [
    {
     "data": {
      "image/png": "[encoded data removed]",
      "text/plain": [
       "Plot with title \"Histogram for elite schools\""
      ]
     },
     "metadata": {},
     "output_type": "display_data"
    }
   ],
   "source": [
    "par(mfrow = c(2, 2))\n",
    "hist(college$Expend, xlab = \"Instructional expenditure per student (dollars)\", main = \"Histogram for all colleges\")\n",
    "hist(college$Expend[college$Private == \"Yes\"], xlab = \"Instructional expenditure per student (dollars)\", main = \"Histogram for private schools\")\n",
    "hist(college$Expend[college$Private == \"No\"], xlab = \"Instructional expenditure per student (dollars)\", main = \"Histogram for public schools\")\n",
    "hist(college$Expend[college$Elite == \"Yes\"], xlab = \"Instructional expenditure per student (dollars)\", main = \"Histogram for elite schools\")"
   ]
  },
  {
   "cell_type": "code",
   "execution_count": 13,
   "metadata": {},
   "outputs": [
    {
     "data": {
      "image/png": "[encoded data removed]",
      "text/plain": [
       "Plot with title \"Histogram for elite schools\""
      ]
     },
     "metadata": {},
     "output_type": "display_data"
    }
   ],
   "source": [
    "par(mfrow = c(2, 2))\n",
    "hist(college$S.F.Ratio, xlab = \"Student-Faculty Ratio\", main = \"Histogram for all colleges\")\n",
    "hist(college$S.F.Ratio[college$Private == \"Yes\"], xlab = \"Student-Faculty Ratio\", main = \"Histogram for private schools\")\n",
    "hist(college$S.F.Ratio[college$Private == \"No\"], xlab = \"Student-Faculty Ratio\", main = \"Histogram for public schools\")\n",
    "hist(college$S.F.Ratio[college$Elite == \"Yes\"], xlab = \"Student-Faculty Ratio\", main = \"Histogram for elite schools\")"
   ]
  },
  {
   "cell_type": "markdown",
   "metadata": {},
   "source": [
    "## Part 3.6\n",
    "**Continue exploring the data, and provide a brief summary of what you discover.**"
   ]
  },
  {
   "cell_type": "code",
   "execution_count": 14,
   "metadata": {},
   "outputs": [
    {
     "data": {
      "image/png": "[encoded data removed]",
      "text/plain": [
       "plot without title"
      ]
     },
     "metadata": {},
     "output_type": "display_data"
    }
   ],
   "source": [
    "NonTuitionCosts = college$Room.Board + college$Books + college$Personal\n",
    "college = data.frame(college, NonTuitionCosts)\n",
    "par(mfrow = c(1, 2))\n",
    "plot(college$Private, college$NonTuitionCosts, xlab = \"Private\", ylab = \"Total non-tuition costs per year (dollars)\")\n",
    "plot(college$Elite, college$NonTuitionCosts, xlab = \"Elite\", ylab = \"Total non-tuition costs per year (dollars)\")"
   ]
  },
  {
   "cell_type": "markdown",
   "metadata": {},
   "source": [
    "Based on the above box plots, it looks like that, aside from some outlier schools with very high costs, there isn't a wide gap for the median non-tution costs between private schools and public schools. The box plots do show, though, that there is a distinct difference in median non-tuition costs between elite and non-elite schools, with elite schools having higher costs."
   ]
  },
  {
   "cell_type": "code",
   "execution_count": 15,
   "metadata": {},
   "outputs": [
    {
     "data": {
      "image/png": "[encoded data removed]",
      "text/plain": [
       "plot without title"
      ]
     },
     "metadata": {},
     "output_type": "display_data"
    }
   ],
   "source": [
    "AcceptPerc = college$Accept / college$Apps * 100\n",
    "college = data.frame(college, AcceptPerc)\n",
    "par(mfrow = c(1, 2))\n",
    "plot(college$Private, college$AcceptPerc, xlab = \"Private\", ylab = \"Acceptance Rate\")\n",
    "plot(college$Elite, college$AcceptPerc, xlab = \"Elite\", ylab = \"Acceptance Rate\")"
   ]
  },
  {
   "cell_type": "code",
   "execution_count": 16,
   "metadata": {},
   "outputs": [
    {
     "data": {
      "text/plain": [
       "   Min. 1st Qu.  Median    Mean 3rd Qu.    Max. \n",
       "  15.45   69.49   78.86   75.46   85.10  100.00 "
      ]
     },
     "metadata": {},
     "output_type": "display_data"
    }
   ],
   "source": [
    "summary(college$AcceptPerc[college$Private == \"Yes\"])"
   ]
  },
  {
   "cell_type": "code",
   "execution_count": 17,
   "metadata": {},
   "outputs": [
    {
     "data": {
      "text/plain": [
       "   Min. 1st Qu.  Median    Mean 3rd Qu.    Max. \n",
       "  33.97   64.12   74.43   72.65   83.42  100.00 "
      ]
     },
     "metadata": {},
     "output_type": "display_data"
    }
   ],
   "source": [
    "summary(college$AcceptPerc[college$Private == \"No\"])"
   ]
  },
  {
   "cell_type": "code",
   "execution_count": 18,
   "metadata": {},
   "outputs": [
    {
     "data": {
      "text/plain": [
       "   Min. 1st Qu.  Median    Mean 3rd Qu.    Max. \n",
       "  15.45   41.53   53.30   54.34   69.59   96.05 "
      ]
     },
     "metadata": {},
     "output_type": "display_data"
    }
   ],
   "source": [
    "summary(college$AcceptPerc[college$Elite == \"Yes\"])"
   ]
  },
  {
   "cell_type": "code",
   "execution_count": 19,
   "metadata": {},
   "outputs": [
    {
     "data": {
      "text/plain": [
       "   Min. 1st Qu.  Median    Mean 3rd Qu.    Max. \n",
       "  32.83   70.13   78.81   76.96   85.48  100.00 "
      ]
     },
     "metadata": {},
     "output_type": "display_data"
    }
   ],
   "source": [
    "summary(college$AcceptPerc[college$Elite == \"No\"])"
   ]
  },
  {
   "cell_type": "markdown",
   "metadata": {},
   "source": [
    "The boxplots show that while the median acceptance rates for both private and public schools are pretty close at around 75-80%, private schools have a much wider range of acceptance rates (going down to a minimum of 15.45%). When we distinguish between elite and non-elite schools, elite schools have a much lower median acceptance rate compared to non-elite ones."
   ]
  },
  {
   "cell_type": "code",
   "execution_count": 20,
   "metadata": {},
   "outputs": [
    {
     "data": {
      "image/png": "[encoded data removed]",
      "text/plain": [
       "Plot with title \"Histogram for elite schools\""
      ]
     },
     "metadata": {},
     "output_type": "display_data"
    }
   ],
   "source": [
    "par(mfrow = c(2, 2))\n",
    "hist(college$perc.alumni, xlab = \"Percent of alumni who donate\", main = \"Histogram for all colleges\")\n",
    "hist(college$perc.alumni[college$Private == \"Yes\"], xlab = \"Percent of alumni who donate\", main = \"Histogram for private schools\")\n",
    "hist(college$perc.alumni[college$Private == \"No\"], xlab = \"Percent of alumni who donate\", main = \"Histogram for public schools\")\n",
    "hist(college$perc.alumni[college$Elite == \"Yes\"], xlab = \"Percent of alumni who donate\", main = \"Histogram for elite schools\")"
   ]
  },
  {
   "cell_type": "markdown",
   "metadata": {},
   "source": [
    "Based on the above histograms, private schools and elite schools tend to have a higher percent of alumni who donate."
   ]
  },
  {
   "cell_type": "code",
   "execution_count": 21,
   "metadata": {},
   "outputs": [
    {
     "data": {
      "image/png": "[encoded data removed]",
      "text/plain": [
       "plot without title"
      ]
     },
     "metadata": {},
     "output_type": "display_data"
    }
   ],
   "source": [
    "par(mfrow = c(2, 2))\n",
    "plot(college$PhD, college$Grad.Rate, xlab = \"Number of faculty with PhDs\", ylab = \"Graduation Rate\")\n",
    "plot(college$Terminal, college$Grad.Rate, xlab = \"Number of faculty with terminal degrees\", ylab = \"Graduation Rate\")\n",
    "plot(college$S.F.Ratio, college$Grad.Rate, xlab = \"Student-faculty ratio\", ylab = \"Graduation Rate\")\n",
    "plot(college$Expend, college$Grad.Rate, xlab = \"Instructional expenditure per student (dollars)\", ylab = \"Graduation Rate\")"
   ]
  },
  {
   "cell_type": "markdown",
   "metadata": {},
   "source": [
    "The above scatterplots explore some of the factors which might be related to student graduation rates. From the upper-left plot, it appears there is a weak positive relationship between the number of faculty with PhDs and graduation rates. The upper-right plot appears to indicate that there isn't relationship between the number of faculty with terminal degrees and graduation rates. The bottom-left plot indicates that as student-faculty ratios increase, graduation rates generally tend to decrease. Lastly, the bottom-right plot seems to show that there is a definite positive relationship between instructional expenditure per student and graduation rates, with higher expenditures corresponding to higher graduation rates."
   ]
  },
  {
   "cell_type": "markdown",
   "metadata": {},
   "source": [
    "# Applied Exercise 2\n",
    "\n",
    "**This exercise involves the `Auto` data set studied in the lab. Make sure that the missing values have been removed from the data.**"
   ]
  },
  {
   "cell_type": "code",
   "execution_count": 22,
   "metadata": {},
   "outputs": [
    {
     "data": {
      "text/html": [
       "<ol class=list-inline>\n",
       "\t<li>392</li>\n",
       "\t<li>9</li>\n",
       "</ol>\n"
      ],
      "text/latex": [
       "\\begin{enumerate*}\n",
       "\\item 392\n",
       "\\item 9\n",
       "\\end{enumerate*}\n"
      ],
      "text/markdown": [
       "1. 392\n",
       "2. 9\n",
       "\n",
       "\n"
      ],
      "text/plain": [
       "[1] 392   9"
      ]
     },
     "metadata": {},
     "output_type": "display_data"
    }
   ],
   "source": [
    "Auto = read.csv(\"Auto.csv\", header = TRUE, na.strings = \"?\")\n",
    "Auto = na.omit(Auto)\n",
    "dim(Auto)"
   ]
  },
  {
   "cell_type": "markdown",
   "metadata": {},
   "source": [
    "## Part 1\n",
    "**Which of the predictors are quantitative, and which are qualitative?**"
   ]
  },
  {
   "cell_type": "code",
   "execution_count": 23,
   "metadata": {},
   "outputs": [
    {
     "data": {
      "text/html": [
       "<table>\n",
       "<thead><tr><th scope=col>mpg</th><th scope=col>cylinders</th><th scope=col>displacement</th><th scope=col>horsepower</th><th scope=col>weight</th><th scope=col>acceleration</th><th scope=col>year</th><th scope=col>origin</th><th scope=col>name</th></tr></thead>\n",
       "<tbody>\n",
       "\t<tr><td>18                       </td><td>8                        </td><td>307                      </td><td>130                      </td><td>3504                     </td><td>12.0                     </td><td>70                       </td><td>1                        </td><td>chevrolet chevelle malibu</td></tr>\n",
       "\t<tr><td>15                       </td><td>8                        </td><td>350                      </td><td>165                      </td><td>3693                     </td><td>11.5                     </td><td>70                       </td><td>1                        </td><td>buick skylark 320        </td></tr>\n",
       "\t<tr><td>18                       </td><td>8                        </td><td>318                      </td><td>150                      </td><td>3436                     </td><td>11.0                     </td><td>70                       </td><td>1                        </td><td>plymouth satellite       </td></tr>\n",
       "\t<tr><td>16                       </td><td>8                        </td><td>304                      </td><td>150                      </td><td>3433                     </td><td>12.0                     </td><td>70                       </td><td>1                        </td><td>amc rebel sst            </td></tr>\n",
       "\t<tr><td>17                       </td><td>8                        </td><td>302                      </td><td>140                      </td><td>3449                     </td><td>10.5                     </td><td>70                       </td><td>1                        </td><td>ford torino              </td></tr>\n",
       "\t<tr><td>15                       </td><td>8                        </td><td>429                      </td><td>198                      </td><td>4341                     </td><td>10.0                     </td><td>70                       </td><td>1                        </td><td>ford galaxie 500         </td></tr>\n",
       "</tbody>\n",
       "</table>\n"
      ],
      "text/latex": [
       "\\begin{tabular}{r|lllllllll}\n",
       " mpg & cylinders & displacement & horsepower & weight & acceleration & year & origin & name\\\\\n",
       "\\hline\n",
       "\t 18                        & 8                         & 307                       & 130                       & 3504                      & 12.0                      & 70                        & 1                         & chevrolet chevelle malibu\\\\\n",
       "\t 15                        & 8                         & 350                       & 165                       & 3693                      & 11.5                      & 70                        & 1                         & buick skylark 320        \\\\\n",
       "\t 18                        & 8                         & 318                       & 150                       & 3436                      & 11.0                      & 70                        & 1                         & plymouth satellite       \\\\\n",
       "\t 16                        & 8                         & 304                       & 150                       & 3433                      & 12.0                      & 70                        & 1                         & amc rebel sst            \\\\\n",
       "\t 17                        & 8                         & 302                       & 140                       & 3449                      & 10.5                      & 70                        & 1                         & ford torino              \\\\\n",
       "\t 15                        & 8                         & 429                       & 198                       & 4341                      & 10.0                      & 70                        & 1                         & ford galaxie 500         \\\\\n",
       "\\end{tabular}\n"
      ],
      "text/markdown": [
       "\n",
       "| mpg | cylinders | displacement | horsepower | weight | acceleration | year | origin | name |\n",
       "|---|---|---|---|---|---|---|---|---|\n",
       "| 18                        | 8                         | 307                       | 130                       | 3504                      | 12.0                      | 70                        | 1                         | chevrolet chevelle malibu |\n",
       "| 15                        | 8                         | 350                       | 165                       | 3693                      | 11.5                      | 70                        | 1                         | buick skylark 320         |\n",
       "| 18                        | 8                         | 318                       | 150                       | 3436                      | 11.0                      | 70                        | 1                         | plymouth satellite        |\n",
       "| 16                        | 8                         | 304                       | 150                       | 3433                      | 12.0                      | 70                        | 1                         | amc rebel sst             |\n",
       "| 17                        | 8                         | 302                       | 140                       | 3449                      | 10.5                      | 70                        | 1                         | ford torino               |\n",
       "| 15                        | 8                         | 429                       | 198                       | 4341                      | 10.0                      | 70                        | 1                         | ford galaxie 500          |\n",
       "\n"
      ],
      "text/plain": [
       "  mpg cylinders displacement horsepower weight acceleration year origin\n",
       "1 18  8         307          130        3504   12.0         70   1     \n",
       "2 15  8         350          165        3693   11.5         70   1     \n",
       "3 18  8         318          150        3436   11.0         70   1     \n",
       "4 16  8         304          150        3433   12.0         70   1     \n",
       "5 17  8         302          140        3449   10.5         70   1     \n",
       "6 15  8         429          198        4341   10.0         70   1     \n",
       "  name                     \n",
       "1 chevrolet chevelle malibu\n",
       "2 buick skylark 320        \n",
       "3 plymouth satellite       \n",
       "4 amc rebel sst            \n",
       "5 ford torino              \n",
       "6 ford galaxie 500         "
      ]
     },
     "metadata": {},
     "output_type": "display_data"
    }
   ],
   "source": [
    "head(Auto)"
   ]
  },
  {
   "cell_type": "markdown",
   "metadata": {},
   "source": [
    "The quantitative variables are `mpg`, `displacement`, `horsepower`, `weight`, and `acceleration`. Depending on the context, we may want to treat `cylinders` and `year` as quantitative predictors or qualitative ones. Lastly, `origin` and `name` are qualitative predictors. `origin` is a quantitative encoding of a car's country of origin, where 1 being American, 2 being European, and 3 being Japanese."
   ]
  },
  {
   "cell_type": "markdown",
   "metadata": {},
   "source": [
    "## Part 2\n",
    "**What is the *range* of each quantitative predictor? You can answer this using the `range()` function.**"
   ]
  },
  {
   "cell_type": "code",
   "execution_count": 24,
   "metadata": {},
   "outputs": [],
   "source": [
    "?range"
   ]
  },
  {
   "cell_type": "code",
   "execution_count": 25,
   "metadata": {},
   "outputs": [
    {
     "data": {
      "text/html": [
       "<ol class=list-inline>\n",
       "\t<li>9</li>\n",
       "\t<li>46.6</li>\n",
       "</ol>\n"
      ],
      "text/latex": [
       "\\begin{enumerate*}\n",
       "\\item 9\n",
       "\\item 46.6\n",
       "\\end{enumerate*}\n"
      ],
      "text/markdown": [
       "1. 9\n",
       "2. 46.6\n",
       "\n",
       "\n"
      ],
      "text/plain": [
       "[1]  9.0 46.6"
      ]
     },
     "metadata": {},
     "output_type": "display_data"
    }
   ],
   "source": [
    "range(Auto$mpg)"
   ]
  },
  {
   "cell_type": "code",
   "execution_count": 26,
   "metadata": {},
   "outputs": [
    {
     "data": {
      "text/html": [
       "<ol class=list-inline>\n",
       "\t<li>3</li>\n",
       "\t<li>8</li>\n",
       "</ol>\n"
      ],
      "text/latex": [
       "\\begin{enumerate*}\n",
       "\\item 3\n",
       "\\item 8\n",
       "\\end{enumerate*}\n"
      ],
      "text/markdown": [
       "1. 3\n",
       "2. 8\n",
       "\n",
       "\n"
      ],
      "text/plain": [
       "[1] 3 8"
      ]
     },
     "metadata": {},
     "output_type": "display_data"
    }
   ],
   "source": [
    "range(Auto$cylinders)"
   ]
  },
  {
   "cell_type": "code",
   "execution_count": 27,
   "metadata": {},
   "outputs": [
    {
     "data": {
      "text/html": [
       "<ol class=list-inline>\n",
       "\t<li>68</li>\n",
       "\t<li>455</li>\n",
       "</ol>\n"
      ],
      "text/latex": [
       "\\begin{enumerate*}\n",
       "\\item 68\n",
       "\\item 455\n",
       "\\end{enumerate*}\n"
      ],
      "text/markdown": [
       "1. 68\n",
       "2. 455\n",
       "\n",
       "\n"
      ],
      "text/plain": [
       "[1]  68 455"
      ]
     },
     "metadata": {},
     "output_type": "display_data"
    }
   ],
   "source": [
    "range(Auto$displacement)"
   ]
  },
  {
   "cell_type": "code",
   "execution_count": 28,
   "metadata": {},
   "outputs": [
    {
     "data": {
      "text/html": [
       "<ol class=list-inline>\n",
       "\t<li>46</li>\n",
       "\t<li>230</li>\n",
       "</ol>\n"
      ],
      "text/latex": [
       "\\begin{enumerate*}\n",
       "\\item 46\n",
       "\\item 230\n",
       "\\end{enumerate*}\n"
      ],
      "text/markdown": [
       "1. 46\n",
       "2. 230\n",
       "\n",
       "\n"
      ],
      "text/plain": [
       "[1]  46 230"
      ]
     },
     "metadata": {},
     "output_type": "display_data"
    }
   ],
   "source": [
    "range(Auto$horsepower)"
   ]
  },
  {
   "cell_type": "code",
   "execution_count": 29,
   "metadata": {},
   "outputs": [
    {
     "data": {
      "text/html": [
       "<ol class=list-inline>\n",
       "\t<li>1613</li>\n",
       "\t<li>5140</li>\n",
       "</ol>\n"
      ],
      "text/latex": [
       "\\begin{enumerate*}\n",
       "\\item 1613\n",
       "\\item 5140\n",
       "\\end{enumerate*}\n"
      ],
      "text/markdown": [
       "1. 1613\n",
       "2. 5140\n",
       "\n",
       "\n"
      ],
      "text/plain": [
       "[1] 1613 5140"
      ]
     },
     "metadata": {},
     "output_type": "display_data"
    }
   ],
   "source": [
    "range(Auto$weight)"
   ]
  },
  {
   "cell_type": "code",
   "execution_count": 30,
   "metadata": {},
   "outputs": [
    {
     "data": {
      "text/html": [
       "<ol class=list-inline>\n",
       "\t<li>8</li>\n",
       "\t<li>24.8</li>\n",
       "</ol>\n"
      ],
      "text/latex": [
       "\\begin{enumerate*}\n",
       "\\item 8\n",
       "\\item 24.8\n",
       "\\end{enumerate*}\n"
      ],
      "text/markdown": [
       "1. 8\n",
       "2. 24.8\n",
       "\n",
       "\n"
      ],
      "text/plain": [
       "[1]  8.0 24.8"
      ]
     },
     "metadata": {},
     "output_type": "display_data"
    }
   ],
   "source": [
    "range(Auto$acceleration)"
   ]
  },
  {
   "cell_type": "code",
   "execution_count": 31,
   "metadata": {},
   "outputs": [
    {
     "data": {
      "text/html": [
       "<ol class=list-inline>\n",
       "\t<li>70</li>\n",
       "\t<li>82</li>\n",
       "</ol>\n"
      ],
      "text/latex": [
       "\\begin{enumerate*}\n",
       "\\item 70\n",
       "\\item 82\n",
       "\\end{enumerate*}\n"
      ],
      "text/markdown": [
       "1. 70\n",
       "2. 82\n",
       "\n",
       "\n"
      ],
      "text/plain": [
       "[1] 70 82"
      ]
     },
     "metadata": {},
     "output_type": "display_data"
    }
   ],
   "source": [
    "range(Auto$year)"
   ]
  },
  {
   "cell_type": "markdown",
   "metadata": {},
   "source": [
    "We have the following ranges for each quantitative predictor:\n",
    "\n",
    "- `mpg` = 37.6\n",
    "- `cylinders` = 5\n",
    "- `displacement` = 387\n",
    "- `horsepower` = 184\n",
    "- `weight` = 3527\n",
    "- `acceleration` = 16.8\n",
    "- `year` = 12"
   ]
  },
  {
   "cell_type": "markdown",
   "metadata": {},
   "source": [
    "## Part 3\n",
    "**What is the mean and standard deviation of each quantitative predictor?**"
   ]
  },
  {
   "cell_type": "code",
   "execution_count": 32,
   "metadata": {},
   "outputs": [
    {
     "data": {
      "text/html": [
       "<dl class=dl-horizontal>\n",
       "\t<dt>mpg</dt>\n",
       "\t\t<dd>23.4459183673469</dd>\n",
       "\t<dt>cylinders</dt>\n",
       "\t\t<dd>5.4719387755102</dd>\n",
       "\t<dt>displacement</dt>\n",
       "\t\t<dd>194.411989795918</dd>\n",
       "\t<dt>horsepower</dt>\n",
       "\t\t<dd>104.469387755102</dd>\n",
       "\t<dt>weight</dt>\n",
       "\t\t<dd>2977.58418367347</dd>\n",
       "\t<dt>acceleration</dt>\n",
       "\t\t<dd>15.5413265306122</dd>\n",
       "\t<dt>year</dt>\n",
       "\t\t<dd>75.9795918367347</dd>\n",
       "</dl>\n"
      ],
      "text/latex": [
       "\\begin{description*}\n",
       "\\item[mpg] 23.4459183673469\n",
       "\\item[cylinders] 5.4719387755102\n",
       "\\item[displacement] 194.411989795918\n",
       "\\item[horsepower] 104.469387755102\n",
       "\\item[weight] 2977.58418367347\n",
       "\\item[acceleration] 15.5413265306122\n",
       "\\item[year] 75.9795918367347\n",
       "\\end{description*}\n"
      ],
      "text/markdown": [
       "mpg\n",
       ":   23.4459183673469cylinders\n",
       ":   5.4719387755102displacement\n",
       ":   194.411989795918horsepower\n",
       ":   104.469387755102weight\n",
       ":   2977.58418367347acceleration\n",
       ":   15.5413265306122year\n",
       ":   75.9795918367347\n",
       "\n"
      ],
      "text/plain": [
       "         mpg    cylinders displacement   horsepower       weight acceleration \n",
       "   23.445918     5.471939   194.411990   104.469388  2977.584184    15.541327 \n",
       "        year \n",
       "   75.979592 "
      ]
     },
     "metadata": {},
     "output_type": "display_data"
    }
   ],
   "source": [
    "colMeans(Auto[, 1:7])"
   ]
  },
  {
   "cell_type": "code",
   "execution_count": 33,
   "metadata": {},
   "outputs": [
    {
     "data": {
      "text/html": [
       "<dl class=dl-horizontal>\n",
       "\t<dt>mpg</dt>\n",
       "\t\t<dd>7.8050074865718</dd>\n",
       "\t<dt>cylinders</dt>\n",
       "\t\t<dd>1.70578324745278</dd>\n",
       "\t<dt>displacement</dt>\n",
       "\t\t<dd>104.644003908905</dd>\n",
       "\t<dt>horsepower</dt>\n",
       "\t\t<dd>38.4911599328285</dd>\n",
       "\t<dt>weight</dt>\n",
       "\t\t<dd>849.402560042949</dd>\n",
       "\t<dt>acceleration</dt>\n",
       "\t\t<dd>2.75886411918808</dd>\n",
       "\t<dt>year</dt>\n",
       "\t\t<dd>3.68373654357783</dd>\n",
       "</dl>\n"
      ],
      "text/latex": [
       "\\begin{description*}\n",
       "\\item[mpg] 7.8050074865718\n",
       "\\item[cylinders] 1.70578324745278\n",
       "\\item[displacement] 104.644003908905\n",
       "\\item[horsepower] 38.4911599328285\n",
       "\\item[weight] 849.402560042949\n",
       "\\item[acceleration] 2.75886411918808\n",
       "\\item[year] 3.68373654357783\n",
       "\\end{description*}\n"
      ],
      "text/markdown": [
       "mpg\n",
       ":   7.8050074865718cylinders\n",
       ":   1.70578324745278displacement\n",
       ":   104.644003908905horsepower\n",
       ":   38.4911599328285weight\n",
       ":   849.402560042949acceleration\n",
       ":   2.75886411918808year\n",
       ":   3.68373654357783\n",
       "\n"
      ],
      "text/plain": [
       "         mpg    cylinders displacement   horsepower       weight acceleration \n",
       "    7.805007     1.705783   104.644004    38.491160   849.402560     2.758864 \n",
       "        year \n",
       "    3.683737 "
      ]
     },
     "metadata": {},
     "output_type": "display_data"
    }
   ],
   "source": [
    "apply(Auto[, 1:7], MARGIN = 2, FUN = \"sd\")"
   ]
  },
  {
   "cell_type": "markdown",
   "metadata": {},
   "source": [
    "We have the following mean and standard deviation for each quantitative predictor:\n",
    "\n",
    "- `mpg`: mean = 23.45, standard deviation = 7.81\n",
    "- `cylinders`: mean = 5.47, standard deviation = 1.71\n",
    "- `displacement`: mean = 194.41, standard deviation = 104.64\n",
    "- `horsepower`: mean = 104.47, standard deviation = 38.49\n",
    "- `weight`: mean = 2977.58, standard deviation = 849.40\n",
    "- `acceleration`: mean = 15.54, standard deviation = 2.76\n",
    "- `year`: mean = 75.98, standard deviation = 3.68"
   ]
  },
  {
   "cell_type": "markdown",
   "metadata": {},
   "source": [
    "## Part 4\n",
    "**Now remove the 10th through 85th observations. What is the range, mean, and standard deviation of each predictor in the subset of the data that remains?**"
   ]
  },
  {
   "cell_type": "code",
   "execution_count": 34,
   "metadata": {},
   "outputs": [
    {
     "data": {
      "text/html": [
       "<table>\n",
       "<thead><tr><th scope=col>mpg</th><th scope=col>cylinders</th><th scope=col>displacement</th><th scope=col>horsepower</th><th scope=col>weight</th><th scope=col>acceleration</th><th scope=col>year</th></tr></thead>\n",
       "<tbody>\n",
       "\t<tr><td>11.0</td><td>3   </td><td> 68 </td><td> 46 </td><td>1649</td><td> 8.5</td><td>70  </td></tr>\n",
       "\t<tr><td>46.6</td><td>8   </td><td>455 </td><td>230 </td><td>4997</td><td>24.8</td><td>82  </td></tr>\n",
       "</tbody>\n",
       "</table>\n"
      ],
      "text/latex": [
       "\\begin{tabular}{lllllll}\n",
       " mpg & cylinders & displacement & horsepower & weight & acceleration & year\\\\\n",
       "\\hline\n",
       "\t 11.0 & 3    &  68  &  46  & 1649 &  8.5 & 70  \\\\\n",
       "\t 46.6 & 8    & 455  & 230  & 4997 & 24.8 & 82  \\\\\n",
       "\\end{tabular}\n"
      ],
      "text/markdown": [
       "\n",
       "| mpg | cylinders | displacement | horsepower | weight | acceleration | year |\n",
       "|---|---|---|---|---|---|---|\n",
       "| 11.0 | 3    |  68  |  46  | 1649 |  8.5 | 70   |\n",
       "| 46.6 | 8    | 455  | 230  | 4997 | 24.8 | 82   |\n",
       "\n"
      ],
      "text/plain": [
       "     mpg  cylinders displacement horsepower weight acceleration year\n",
       "[1,] 11.0 3          68           46        1649    8.5         70  \n",
       "[2,] 46.6 8         455          230        4997   24.8         82  "
      ]
     },
     "metadata": {},
     "output_type": "display_data"
    }
   ],
   "source": [
    "apply(Auto[-(10:85), 1:7], MARGIN = 2, FUN = \"range\")"
   ]
  },
  {
   "cell_type": "code",
   "execution_count": 35,
   "metadata": {},
   "outputs": [
    {
     "data": {
      "text/html": [
       "<dl class=dl-horizontal>\n",
       "\t<dt>mpg</dt>\n",
       "\t\t<dd>24.4044303797468</dd>\n",
       "\t<dt>cylinders</dt>\n",
       "\t\t<dd>5.37341772151899</dd>\n",
       "\t<dt>displacement</dt>\n",
       "\t\t<dd>187.240506329114</dd>\n",
       "\t<dt>horsepower</dt>\n",
       "\t\t<dd>100.721518987342</dd>\n",
       "\t<dt>weight</dt>\n",
       "\t\t<dd>2935.97151898734</dd>\n",
       "\t<dt>acceleration</dt>\n",
       "\t\t<dd>15.7268987341772</dd>\n",
       "\t<dt>year</dt>\n",
       "\t\t<dd>77.1455696202532</dd>\n",
       "</dl>\n"
      ],
      "text/latex": [
       "\\begin{description*}\n",
       "\\item[mpg] 24.4044303797468\n",
       "\\item[cylinders] 5.37341772151899\n",
       "\\item[displacement] 187.240506329114\n",
       "\\item[horsepower] 100.721518987342\n",
       "\\item[weight] 2935.97151898734\n",
       "\\item[acceleration] 15.7268987341772\n",
       "\\item[year] 77.1455696202532\n",
       "\\end{description*}\n"
      ],
      "text/markdown": [
       "mpg\n",
       ":   24.4044303797468cylinders\n",
       ":   5.37341772151899displacement\n",
       ":   187.240506329114horsepower\n",
       ":   100.721518987342weight\n",
       ":   2935.97151898734acceleration\n",
       ":   15.7268987341772year\n",
       ":   77.1455696202532\n",
       "\n"
      ],
      "text/plain": [
       "         mpg    cylinders displacement   horsepower       weight acceleration \n",
       "   24.404430     5.373418   187.240506   100.721519  2935.971519    15.726899 \n",
       "        year \n",
       "   77.145570 "
      ]
     },
     "metadata": {},
     "output_type": "display_data"
    }
   ],
   "source": [
    "apply(Auto[-(10:85), 1:7], MARGIN = 2, FUN = \"mean\")"
   ]
  },
  {
   "cell_type": "code",
   "execution_count": 36,
   "metadata": {},
   "outputs": [
    {
     "data": {
      "text/html": [
       "<dl class=dl-horizontal>\n",
       "\t<dt>mpg</dt>\n",
       "\t\t<dd>7.86728282443069</dd>\n",
       "\t<dt>cylinders</dt>\n",
       "\t\t<dd>1.65417865185607</dd>\n",
       "\t<dt>displacement</dt>\n",
       "\t\t<dd>99.6783672303628</dd>\n",
       "\t<dt>horsepower</dt>\n",
       "\t\t<dd>35.7088532738003</dd>\n",
       "\t<dt>weight</dt>\n",
       "\t\t<dd>811.30020815829</dd>\n",
       "\t<dt>acceleration</dt>\n",
       "\t\t<dd>2.69372071752036</dd>\n",
       "\t<dt>year</dt>\n",
       "\t\t<dd>3.10621690872137</dd>\n",
       "</dl>\n"
      ],
      "text/latex": [
       "\\begin{description*}\n",
       "\\item[mpg] 7.86728282443069\n",
       "\\item[cylinders] 1.65417865185607\n",
       "\\item[displacement] 99.6783672303628\n",
       "\\item[horsepower] 35.7088532738003\n",
       "\\item[weight] 811.30020815829\n",
       "\\item[acceleration] 2.69372071752036\n",
       "\\item[year] 3.10621690872137\n",
       "\\end{description*}\n"
      ],
      "text/markdown": [
       "mpg\n",
       ":   7.86728282443069cylinders\n",
       ":   1.65417865185607displacement\n",
       ":   99.6783672303628horsepower\n",
       ":   35.7088532738003weight\n",
       ":   811.30020815829acceleration\n",
       ":   2.69372071752036year\n",
       ":   3.10621690872137\n",
       "\n"
      ],
      "text/plain": [
       "         mpg    cylinders displacement   horsepower       weight acceleration \n",
       "    7.867283     1.654179    99.678367    35.708853   811.300208     2.693721 \n",
       "        year \n",
       "    3.106217 "
      ]
     },
     "metadata": {},
     "output_type": "display_data"
    }
   ],
   "source": [
    "apply(Auto[-(10:85), 1:7], MARGIN = 2, FUN = \"sd\")"
   ]
  },
  {
   "cell_type": "markdown",
   "metadata": {},
   "source": [
    "We have the following range, mean,standard deviation for each quantitative predictor after the 10th through 85th rows have been removed:\n",
    "\n",
    "- `mpg`: range = 35.6, mean = 24.40, standard deviation = 7.87\n",
    "- `cylinders`: range = 5, mean = 5.37, standard deviation = 1.65\n",
    "- `displacement`: range = 387, mean = 187.24, standard deviation = 99.68\n",
    "- `horsepower`: range = 184, mean = 100.72, standard deviation = 35.71\n",
    "- `weight`: range = 3348, mean = 2935.97, standard deviation = 811.30\n",
    "- `acceleration`: range = 16.3, mean = 15.73, standard deviation = 2.69\n",
    "- `year`: mean = 77.15, standard deviation = 3.11"
   ]
  },
  {
   "cell_type": "markdown",
   "metadata": {},
   "source": [
    "## Part 5\n",
    "**Using the full data set, investigate the predictors graphically, using scatterplots or other tools of your choice. Create some plots highlighting the relationships among the predictors. Comment on your findings.**"
   ]
  },
  {
   "cell_type": "code",
   "execution_count": 40,
   "metadata": {},
   "outputs": [
    {
     "data": {
      "image/png": "[encoded data removed]",
      "text/plain": [
       "plot without title"
      ]
     },
     "metadata": {},
     "output_type": "display_data"
    }
   ],
   "source": [
    "par(mfrow = c(2, 2))\n",
    "plot(Auto$displacement, Auto$mpg, xlab = \"Engine displacement (cubic inches)\", ylab = \"Miles per gallon\")\n",
    "plot(Auto$horsepower, Auto$mpg, xlab = \"Horsepower\", ylab = \"Miles per gallon\")\n",
    "plot(Auto$weight, Auto$mpg, xlab = \"Car weight (pounds)\", ylab = \"Miles per gallon\")\n",
    "plot(Auto$year, Auto$mpg, xlab = \"Model Year\", ylab = \"Miles per gallon\")"
   ]
  },
  {
   "cell_type": "markdown",
   "metadata": {},
   "source": [
    "See discussion in Part 6 below."
   ]
  },
  {
   "cell_type": "code",
   "execution_count": 41,
   "metadata": {},
   "outputs": [
    {
     "data": {
      "image/png": "[encoded data removed]",
      "text/plain": [
       "plot without title"
      ]
     },
     "metadata": {},
     "output_type": "display_data"
    }
   ],
   "source": [
    "par(mfrow = c(2, 2))\n",
    "plot(Auto$year, Auto$acceleration, xlab = \"Model Year\", ylab = \"0 to 60mph time (seconds)\")\n",
    "plot(Auto$year, Auto$displacement, xlab = \"Model Year\", ylab = \"Engine displacement (cubic inches)\")\n",
    "plot(Auto$year, Auto$weight, xlab = \"Model Year\", ylab = \"Car weight (pounds)\")\n",
    "plot(Auto$year, Auto$horsepower, xlab = \"Model Year\", ylab = \"Horsepower\")"
   ]
  },
  {
   "cell_type": "markdown",
   "metadata": {},
   "source": [
    "Looking at how various car characteristics change with model year, we see that there aren't any strong relationships. There are still some weak relationships, such as max engine displacement, car weight, and horsepower generally decreasing from 1970 to 1982. From a historical perspective, these changes could be in response to the 1973 and 1979 oil crises, in which spikes in oil prices pushed auto manufacturers to take measures to improve the efficiency of their cars."
   ]
  },
  {
   "cell_type": "code",
   "execution_count": 42,
   "metadata": {},
   "outputs": [
    {
     "data": {
      "image/png": "[encoded data removed]",
      "text/plain": [
       "plot without title"
      ]
     },
     "metadata": {},
     "output_type": "display_data"
    }
   ],
   "source": [
    "par(mfrow = c(2, 2))\n",
    "plot(Auto$weight, Auto$acceleration, xlab = \"Car weight (pounds)\", ylab = \"0 to 60mph time (seconds)\")\n",
    "plot(Auto$cylinders, Auto$acceleration, xlab = \"Number of engine cylinders\", ylab = \"0 to 60mph time (seconds)\")\n",
    "plot(Auto$displacement, Auto$acceleration, xlab = \"Engine displacement (cubic inches)\", ylab = \"0 to 60mph time (seconds)\")\n",
    "plot(Auto$horsepower, Auto$acceleration, xlab = \"Horsepower\", ylab = \"0 to 60mph time (seconds)\")"
   ]
  },
  {
   "cell_type": "markdown",
   "metadata": {},
   "source": [
    "Next, I explored the relationship between the number of seconds it takes a car to accelerate from 0 to 60 miles per hour and a number of different factors. As expected, the 0-to-60 time clearly decreases with increased engine displacement and increased horsepower. There is also a weak relationship that as the number of engine cylinders increases the 0-to-60 time tends to decrease. While it may seem counter-intuitive at first, the 0-to-60 time also tends to decrease with car weight. This makes more sense in the context of the two scatterplots below, which shows that the higher weight is correlated with higher horsepower and higher engine displacement."
   ]
  },
  {
   "cell_type": "code",
   "execution_count": 52,
   "metadata": {},
   "outputs": [
    {
     "data": {
      "image/png": "[encoded data removed]",
      "text/plain": [
       "plot without title"
      ]
     },
     "metadata": {},
     "output_type": "display_data"
    }
   ],
   "source": [
    "par(mfrow = c(2, 1))\n",
    "plot(Auto$weight, Auto$horsepower, xlab = \"Car weight (pounds)\", ylab = \"Horsepower\")\n",
    "plot(Auto$weight, Auto$displacement, xlab = \"Car weight (pounds)\", ylab = \"Engine displacement (cubic inches)\")"
   ]
  },
  {
   "cell_type": "markdown",
   "metadata": {},
   "source": [
    "## Part 6\n",
    "**Suppose we wish to predict gas mileage (`mpg`) on the basis of the other variables. Do your plots suggest that any of the other variables might be useful in predicting `mpg`? Justify your answer.**"
   ]
  },
  {
   "cell_type": "markdown",
   "metadata": {},
   "source": [
    "Based on the scatter plots I made in part 5 which relate miles per gallon to the predictors engine displacement, horsepower, car weight, and model year, it seems as if the first three factors would be most helpful in predicting `mpg`, with model year still potentially being helpful but less so. There are clear relationships that increasing engine displacement/horsepower/car weight results in decreased fuel efficiency. There is also a weak relationship that fuel efficiency generally increased going from 1970 to 1982."
   ]
  },
  {
   "cell_type": "code",
   "execution_count": 48,
   "metadata": {},
   "outputs": [],
   "source": [
    "Auto$origin[Auto$origin == 1] = \"American\"\n",
    "Auto$origin[Auto$origin == 2] = \"European\"\n",
    "Auto$origin[Auto$origin == 3] = \"Japanese\"\n",
    "Auto$origin = as.factor(Auto$origin)"
   ]
  },
  {
   "cell_type": "code",
   "execution_count": 50,
   "metadata": {},
   "outputs": [
    {
     "data": {
      "image/png": "[encoded data removed]",
      "text/plain": [
       "plot without title"
      ]
     },
     "metadata": {},
     "output_type": "display_data"
    }
   ],
   "source": [
    "plot(Auto$origin, Auto$mpg, xlab = \"Country of origin\", ylab = \"Miles per gallon\")"
   ]
  },
  {
   "cell_type": "markdown",
   "metadata": {},
   "source": [
    "Looking at the above box plot, we can also see that there is a relationship between a car's country of origin and fuel efficiency, where on average Japanese cars are the most efficient, followed by European cars and then by American cars."
   ]
  },
  {
   "cell_type": "markdown",
   "metadata": {},
   "source": [
    "# Applied Exercise 3\n",
    "\n",
    "**This exercise involves the `Boston` housing data set.**"
   ]
  },
  {
   "cell_type": "markdown",
   "metadata": {},
   "source": [
    "## Part 1\n",
    "**To begin, load the `Boston` data set. The `Boston` data set is part of the `MASS` *library* in `R`.**\n",
    "\n",
    "```\n",
    "> library(MASS)\n",
    "```"
   ]
  },
  {
   "cell_type": "code",
   "execution_count": 53,
   "metadata": {},
   "outputs": [],
   "source": [
    "library(MASS)"
   ]
  },
  {
   "cell_type": "markdown",
   "metadata": {},
   "source": [
    "**Now the data set is contained in the object `Boston`.**\n",
    "\n",
    "```\n",
    "> Boston\n",
    "```"
   ]
  },
  {
   "cell_type": "code",
   "execution_count": 55,
   "metadata": {},
   "outputs": [
    {
     "data": {
      "text/html": [
       "<table>\n",
       "<thead><tr><th scope=col>crim</th><th scope=col>zn</th><th scope=col>indus</th><th scope=col>chas</th><th scope=col>nox</th><th scope=col>rm</th><th scope=col>age</th><th scope=col>dis</th><th scope=col>rad</th><th scope=col>tax</th><th scope=col>ptratio</th><th scope=col>black</th><th scope=col>lstat</th><th scope=col>medv</th></tr></thead>\n",
       "<tbody>\n",
       "\t<tr><td>0.00632</td><td>18     </td><td>2.31   </td><td>0      </td><td>0.538  </td><td>6.575  </td><td>65.2   </td><td>4.0900 </td><td>1      </td><td>296    </td><td>15.3   </td><td>396.90 </td><td>4.98   </td><td>24.0   </td></tr>\n",
       "\t<tr><td>0.02731</td><td> 0     </td><td>7.07   </td><td>0      </td><td>0.469  </td><td>6.421  </td><td>78.9   </td><td>4.9671 </td><td>2      </td><td>242    </td><td>17.8   </td><td>396.90 </td><td>9.14   </td><td>21.6   </td></tr>\n",
       "\t<tr><td>0.02729</td><td> 0     </td><td>7.07   </td><td>0      </td><td>0.469  </td><td>7.185  </td><td>61.1   </td><td>4.9671 </td><td>2      </td><td>242    </td><td>17.8   </td><td>392.83 </td><td>4.03   </td><td>34.7   </td></tr>\n",
       "\t<tr><td>0.03237</td><td> 0     </td><td>2.18   </td><td>0      </td><td>0.458  </td><td>6.998  </td><td>45.8   </td><td>6.0622 </td><td>3      </td><td>222    </td><td>18.7   </td><td>394.63 </td><td>2.94   </td><td>33.4   </td></tr>\n",
       "\t<tr><td>0.06905</td><td> 0     </td><td>2.18   </td><td>0      </td><td>0.458  </td><td>7.147  </td><td>54.2   </td><td>6.0622 </td><td>3      </td><td>222    </td><td>18.7   </td><td>396.90 </td><td>5.33   </td><td>36.2   </td></tr>\n",
       "\t<tr><td>0.02985</td><td> 0     </td><td>2.18   </td><td>0      </td><td>0.458  </td><td>6.430  </td><td>58.7   </td><td>6.0622 </td><td>3      </td><td>222    </td><td>18.7   </td><td>394.12 </td><td>5.21   </td><td>28.7   </td></tr>\n",
       "</tbody>\n",
       "</table>\n"
      ],
      "text/latex": [
       "\\begin{tabular}{r|llllllllllllll}\n",
       " crim & zn & indus & chas & nox & rm & age & dis & rad & tax & ptratio & black & lstat & medv\\\\\n",
       "\\hline\n",
       "\t 0.00632 & 18      & 2.31    & 0       & 0.538   & 6.575   & 65.2    & 4.0900  & 1       & 296     & 15.3    & 396.90  & 4.98    & 24.0   \\\\\n",
       "\t 0.02731 &  0      & 7.07    & 0       & 0.469   & 6.421   & 78.9    & 4.9671  & 2       & 242     & 17.8    & 396.90  & 9.14    & 21.6   \\\\\n",
       "\t 0.02729 &  0      & 7.07    & 0       & 0.469   & 7.185   & 61.1    & 4.9671  & 2       & 242     & 17.8    & 392.83  & 4.03    & 34.7   \\\\\n",
       "\t 0.03237 &  0      & 2.18    & 0       & 0.458   & 6.998   & 45.8    & 6.0622  & 3       & 222     & 18.7    & 394.63  & 2.94    & 33.4   \\\\\n",
       "\t 0.06905 &  0      & 2.18    & 0       & 0.458   & 7.147   & 54.2    & 6.0622  & 3       & 222     & 18.7    & 396.90  & 5.33    & 36.2   \\\\\n",
       "\t 0.02985 &  0      & 2.18    & 0       & 0.458   & 6.430   & 58.7    & 6.0622  & 3       & 222     & 18.7    & 394.12  & 5.21    & 28.7   \\\\\n",
       "\\end{tabular}\n"
      ],
      "text/markdown": [
       "\n",
       "| crim | zn | indus | chas | nox | rm | age | dis | rad | tax | ptratio | black | lstat | medv |\n",
       "|---|---|---|---|---|---|---|---|---|---|---|---|---|---|\n",
       "| 0.00632 | 18      | 2.31    | 0       | 0.538   | 6.575   | 65.2    | 4.0900  | 1       | 296     | 15.3    | 396.90  | 4.98    | 24.0    |\n",
       "| 0.02731 |  0      | 7.07    | 0       | 0.469   | 6.421   | 78.9    | 4.9671  | 2       | 242     | 17.8    | 396.90  | 9.14    | 21.6    |\n",
       "| 0.02729 |  0      | 7.07    | 0       | 0.469   | 7.185   | 61.1    | 4.9671  | 2       | 242     | 17.8    | 392.83  | 4.03    | 34.7    |\n",
       "| 0.03237 |  0      | 2.18    | 0       | 0.458   | 6.998   | 45.8    | 6.0622  | 3       | 222     | 18.7    | 394.63  | 2.94    | 33.4    |\n",
       "| 0.06905 |  0      | 2.18    | 0       | 0.458   | 7.147   | 54.2    | 6.0622  | 3       | 222     | 18.7    | 396.90  | 5.33    | 36.2    |\n",
       "| 0.02985 |  0      | 2.18    | 0       | 0.458   | 6.430   | 58.7    | 6.0622  | 3       | 222     | 18.7    | 394.12  | 5.21    | 28.7    |\n",
       "\n"
      ],
      "text/plain": [
       "  crim    zn indus chas nox   rm    age  dis    rad tax ptratio black  lstat\n",
       "1 0.00632 18 2.31  0    0.538 6.575 65.2 4.0900 1   296 15.3    396.90 4.98 \n",
       "2 0.02731  0 7.07  0    0.469 6.421 78.9 4.9671 2   242 17.8    396.90 9.14 \n",
       "3 0.02729  0 7.07  0    0.469 7.185 61.1 4.9671 2   242 17.8    392.83 4.03 \n",
       "4 0.03237  0 2.18  0    0.458 6.998 45.8 6.0622 3   222 18.7    394.63 2.94 \n",
       "5 0.06905  0 2.18  0    0.458 7.147 54.2 6.0622 3   222 18.7    396.90 5.33 \n",
       "6 0.02985  0 2.18  0    0.458 6.430 58.7 6.0622 3   222 18.7    394.12 5.21 \n",
       "  medv\n",
       "1 24.0\n",
       "2 21.6\n",
       "3 34.7\n",
       "4 33.4\n",
       "5 36.2\n",
       "6 28.7"
      ]
     },
     "metadata": {},
     "output_type": "display_data"
    }
   ],
   "source": [
    "head(Boston)"
   ]
  },
  {
   "cell_type": "markdown",
   "metadata": {},
   "source": [
    "**Read about the data set:**\n",
    "\n",
    "```\n",
    "> ?Boston\n",
    "```"
   ]
  },
  {
   "cell_type": "code",
   "execution_count": 87,
   "metadata": {},
   "outputs": [],
   "source": [
    "?Boston"
   ]
  },
  {
   "cell_type": "markdown",
   "metadata": {},
   "source": [
    "**Note** Instead of using the `Boston` data set found in the `MASS` library in `R`, from this point on I will instead be using the corrected Boston data set, which can be downloaded [here](http://lib.stat.cmu.edu/datasets/boston_corrected.txt)."
   ]
  },
  {
   "cell_type": "code",
   "execution_count": 59,
   "metadata": {},
   "outputs": [
    {
     "data": {
      "text/html": [
       "<table>\n",
       "<thead><tr><th scope=col>TOWN</th><th scope=col>TOWNNO</th><th scope=col>TRACT</th><th scope=col>LON</th><th scope=col>LAT</th><th scope=col>MEDV</th><th scope=col>CMEDV</th><th scope=col>CRIM</th><th scope=col>ZN</th><th scope=col>INDUS</th><th scope=col>CHAS</th><th scope=col>NOX</th><th scope=col>RM</th><th scope=col>AGE</th><th scope=col>DIS</th><th scope=col>RAD</th><th scope=col>TAX</th><th scope=col>PTRATIO</th><th scope=col>B</th><th scope=col>LSTAT</th></tr></thead>\n",
       "<tbody>\n",
       "\t<tr><td>Nahant    </td><td>0         </td><td>2011      </td><td>-70.9550  </td><td>42.2550   </td><td>24.0      </td><td>24.0      </td><td>0.00632   </td><td>18        </td><td>2.31      </td><td>0         </td><td>0.538     </td><td>6.575     </td><td>65.2      </td><td>4.0900    </td><td>1         </td><td>296       </td><td>15.3      </td><td>396.90    </td><td>4.98      </td></tr>\n",
       "\t<tr><td>Swampscott</td><td>1         </td><td>2021      </td><td>-70.9500  </td><td>42.2875   </td><td>21.6      </td><td>21.6      </td><td>0.02731   </td><td> 0        </td><td>7.07      </td><td>0         </td><td>0.469     </td><td>6.421     </td><td>78.9      </td><td>4.9671    </td><td>2         </td><td>242       </td><td>17.8      </td><td>396.90    </td><td>9.14      </td></tr>\n",
       "\t<tr><td>Swampscott</td><td>1         </td><td>2022      </td><td>-70.9360  </td><td>42.2830   </td><td>34.7      </td><td>34.7      </td><td>0.02729   </td><td> 0        </td><td>7.07      </td><td>0         </td><td>0.469     </td><td>7.185     </td><td>61.1      </td><td>4.9671    </td><td>2         </td><td>242       </td><td>17.8      </td><td>392.83    </td><td>4.03      </td></tr>\n",
       "\t<tr><td>Marblehead</td><td>2         </td><td>2031      </td><td>-70.9280  </td><td>42.2930   </td><td>33.4      </td><td>33.4      </td><td>0.03237   </td><td> 0        </td><td>2.18      </td><td>0         </td><td>0.458     </td><td>6.998     </td><td>45.8      </td><td>6.0622    </td><td>3         </td><td>222       </td><td>18.7      </td><td>394.63    </td><td>2.94      </td></tr>\n",
       "\t<tr><td>Marblehead</td><td>2         </td><td>2032      </td><td>-70.9220  </td><td>42.2980   </td><td>36.2      </td><td>36.2      </td><td>0.06905   </td><td> 0        </td><td>2.18      </td><td>0         </td><td>0.458     </td><td>7.147     </td><td>54.2      </td><td>6.0622    </td><td>3         </td><td>222       </td><td>18.7      </td><td>396.90    </td><td>5.33      </td></tr>\n",
       "\t<tr><td>Marblehead</td><td>2         </td><td>2033      </td><td>-70.9165  </td><td>42.3040   </td><td>28.7      </td><td>28.7      </td><td>0.02985   </td><td> 0        </td><td>2.18      </td><td>0         </td><td>0.458     </td><td>6.430     </td><td>58.7      </td><td>6.0622    </td><td>3         </td><td>222       </td><td>18.7      </td><td>394.12    </td><td>5.21      </td></tr>\n",
       "</tbody>\n",
       "</table>\n"
      ],
      "text/latex": [
       "\\begin{tabular}{r|llllllllllllllllllll}\n",
       " TOWN & TOWNNO & TRACT & LON & LAT & MEDV & CMEDV & CRIM & ZN & INDUS & CHAS & NOX & RM & AGE & DIS & RAD & TAX & PTRATIO & B & LSTAT\\\\\n",
       "\\hline\n",
       "\t Nahant     & 0          & 2011       & -70.9550   & 42.2550    & 24.0       & 24.0       & 0.00632    & 18         & 2.31       & 0          & 0.538      & 6.575      & 65.2       & 4.0900     & 1          & 296        & 15.3       & 396.90     & 4.98      \\\\\n",
       "\t Swampscott & 1          & 2021       & -70.9500   & 42.2875    & 21.6       & 21.6       & 0.02731    &  0         & 7.07       & 0          & 0.469      & 6.421      & 78.9       & 4.9671     & 2          & 242        & 17.8       & 396.90     & 9.14      \\\\\n",
       "\t Swampscott & 1          & 2022       & -70.9360   & 42.2830    & 34.7       & 34.7       & 0.02729    &  0         & 7.07       & 0          & 0.469      & 7.185      & 61.1       & 4.9671     & 2          & 242        & 17.8       & 392.83     & 4.03      \\\\\n",
       "\t Marblehead & 2          & 2031       & -70.9280   & 42.2930    & 33.4       & 33.4       & 0.03237    &  0         & 2.18       & 0          & 0.458      & 6.998      & 45.8       & 6.0622     & 3          & 222        & 18.7       & 394.63     & 2.94      \\\\\n",
       "\t Marblehead & 2          & 2032       & -70.9220   & 42.2980    & 36.2       & 36.2       & 0.06905    &  0         & 2.18       & 0          & 0.458      & 7.147      & 54.2       & 6.0622     & 3          & 222        & 18.7       & 396.90     & 5.33      \\\\\n",
       "\t Marblehead & 2          & 2033       & -70.9165   & 42.3040    & 28.7       & 28.7       & 0.02985    &  0         & 2.18       & 0          & 0.458      & 6.430      & 58.7       & 6.0622     & 3          & 222        & 18.7       & 394.12     & 5.21      \\\\\n",
       "\\end{tabular}\n"
      ],
      "text/markdown": [
       "\n",
       "| TOWN | TOWNNO | TRACT | LON | LAT | MEDV | CMEDV | CRIM | ZN | INDUS | CHAS | NOX | RM | AGE | DIS | RAD | TAX | PTRATIO | B | LSTAT |\n",
       "|---|---|---|---|---|---|---|---|---|---|---|---|---|---|---|---|---|---|---|---|\n",
       "| Nahant     | 0          | 2011       | -70.9550   | 42.2550    | 24.0       | 24.0       | 0.00632    | 18         | 2.31       | 0          | 0.538      | 6.575      | 65.2       | 4.0900     | 1          | 296        | 15.3       | 396.90     | 4.98       |\n",
       "| Swampscott | 1          | 2021       | -70.9500   | 42.2875    | 21.6       | 21.6       | 0.02731    |  0         | 7.07       | 0          | 0.469      | 6.421      | 78.9       | 4.9671     | 2          | 242        | 17.8       | 396.90     | 9.14       |\n",
       "| Swampscott | 1          | 2022       | -70.9360   | 42.2830    | 34.7       | 34.7       | 0.02729    |  0         | 7.07       | 0          | 0.469      | 7.185      | 61.1       | 4.9671     | 2          | 242        | 17.8       | 392.83     | 4.03       |\n",
       "| Marblehead | 2          | 2031       | -70.9280   | 42.2930    | 33.4       | 33.4       | 0.03237    |  0         | 2.18       | 0          | 0.458      | 6.998      | 45.8       | 6.0622     | 3          | 222        | 18.7       | 394.63     | 2.94       |\n",
       "| Marblehead | 2          | 2032       | -70.9220   | 42.2980    | 36.2       | 36.2       | 0.06905    |  0         | 2.18       | 0          | 0.458      | 7.147      | 54.2       | 6.0622     | 3          | 222        | 18.7       | 396.90     | 5.33       |\n",
       "| Marblehead | 2          | 2033       | -70.9165   | 42.3040    | 28.7       | 28.7       | 0.02985    |  0         | 2.18       | 0          | 0.458      | 6.430      | 58.7       | 6.0622     | 3          | 222        | 18.7       | 394.12     | 5.21       |\n",
       "\n"
      ],
      "text/plain": [
       "  TOWN       TOWNNO TRACT LON      LAT     MEDV CMEDV CRIM    ZN INDUS CHAS\n",
       "1 Nahant     0      2011  -70.9550 42.2550 24.0 24.0  0.00632 18 2.31  0   \n",
       "2 Swampscott 1      2021  -70.9500 42.2875 21.6 21.6  0.02731  0 7.07  0   \n",
       "3 Swampscott 1      2022  -70.9360 42.2830 34.7 34.7  0.02729  0 7.07  0   \n",
       "4 Marblehead 2      2031  -70.9280 42.2930 33.4 33.4  0.03237  0 2.18  0   \n",
       "5 Marblehead 2      2032  -70.9220 42.2980 36.2 36.2  0.06905  0 2.18  0   \n",
       "6 Marblehead 2      2033  -70.9165 42.3040 28.7 28.7  0.02985  0 2.18  0   \n",
       "  NOX   RM    AGE  DIS    RAD TAX PTRATIO B      LSTAT\n",
       "1 0.538 6.575 65.2 4.0900 1   296 15.3    396.90 4.98 \n",
       "2 0.469 6.421 78.9 4.9671 2   242 17.8    396.90 9.14 \n",
       "3 0.469 7.185 61.1 4.9671 2   242 17.8    392.83 4.03 \n",
       "4 0.458 6.998 45.8 6.0622 3   222 18.7    394.63 2.94 \n",
       "5 0.458 7.147 54.2 6.0622 3   222 18.7    396.90 5.33 \n",
       "6 0.458 6.430 58.7 6.0622 3   222 18.7    394.12 5.21 "
      ]
     },
     "metadata": {},
     "output_type": "display_data"
    }
   ],
   "source": [
    "Boston_corrected = read.csv(\"boston_corrected.csv\", header = TRUE)\n",
    "head(Boston_corrected)"
   ]
  },
  {
   "cell_type": "code",
   "execution_count": 58,
   "metadata": {},
   "outputs": [
    {
     "data": {
      "text/html": [
       "<ol class=list-inline>\n",
       "\t<li>506</li>\n",
       "\t<li>20</li>\n",
       "</ol>\n"
      ],
      "text/latex": [
       "\\begin{enumerate*}\n",
       "\\item 506\n",
       "\\item 20\n",
       "\\end{enumerate*}\n"
      ],
      "text/markdown": [
       "1. 506\n",
       "2. 20\n",
       "\n",
       "\n"
      ],
      "text/plain": [
       "[1] 506  20"
      ]
     },
     "metadata": {},
     "output_type": "display_data"
    }
   ],
   "source": [
    "dim(Boston_corrected)"
   ]
  },
  {
   "cell_type": "markdown",
   "metadata": {},
   "source": [
    "**How many rows are in this data set? How many columns? What do the rows and columns represent?**"
   ]
  },
  {
   "cell_type": "markdown",
   "metadata": {},
   "source": [
    "The corrected Boston data set has 506 rows and 20 columns. Each row represents a particular tract of land within the city of Boston. The dataset has the following columns.\n",
    "\n",
    "- `TOWN`: Name of the town in which the tract is located\n",
    "- `TOWNNO`: Numeric code corresponding to the town\n",
    "- `TRACT`: ID number of the tract of land\n",
    "- `LON`: Longitude of the tract in decimal degrees\n",
    "- `LAT`: Latitude of the tract in decimal degrees\n",
    "- `MEDV`: Median value of owner-occupied housing in \\\\$1000 for the tract\n",
    "- `CMEDV`: Corrected median value of owner occupied housing in \\\\$1000 for the tract, since the original values in MEDV were censored in the sense that all median values at or over \\\\$50000 are set to \\\\$50000\n",
    "- `CRIM`: Per capita crime rate for the tract\n",
    "- `ZN`: Percent of residential land zoned for lots over 25000 square feet per town (constant for all tracts within the same town)\n",
    "- `INDUS`: Percent of non-retail business acres per town (constant for all tracts within the same town)\n",
    "- `CHAS`: Dummy variable to indicate whether or not the tract borders the Charles River (1 = Borders Charles River, 0 = Otherwise)\n",
    "- `NOX`: Nitric oxides concentration (in parts per 10 million) per town (constant for all tracts within the same town)\n",
    "- `RM`: Average number of rooms per dwelling in the tract\n",
    "- `AGE`: Percent of owner-occupied units in the tract built prior to 1940 \n",
    "- `DIS`: Weighted distance from the tract to five Boston employment centers\n",
    "- `RAD`: Index of accessibility to radial highways per town (constant for all tracts within the same town)\n",
    "- `TAX`: Full-value property tax rate per \\\\$10000 per town (constant for all tracts within the same town)\n",
    "- `PTRATIO`: Pupil-teacher ratio per town (constant for all tracts within the same town)\n",
    "- `B`: $1000(B - 0.63)^2$, where $B$ is the proportion of black residents in the tract\n",
    "- `LSTAT`: Percent of tract population designated as lower status"
   ]
  },
  {
   "cell_type": "markdown",
   "metadata": {},
   "source": [
    "## Part 2\n",
    "**Make some pairwise scatterplots of the predictors (columns) in the data set. Describe your findings.**"
   ]
  },
  {
   "cell_type": "code",
   "execution_count": 79,
   "metadata": {},
   "outputs": [
    {
     "data": {
      "text/html": [
       "<ol class=list-inline>\n",
       "\t<li>506</li>\n",
       "\t<li>20</li>\n",
       "</ol>\n"
      ],
      "text/latex": [
       "\\begin{enumerate*}\n",
       "\\item 506\n",
       "\\item 20\n",
       "\\end{enumerate*}\n"
      ],
      "text/markdown": [
       "1. 506\n",
       "2. 20\n",
       "\n",
       "\n"
      ],
      "text/plain": [
       "[1] 506  20"
      ]
     },
     "metadata": {},
     "output_type": "display_data"
    }
   ],
   "source": [
    "dim(Boston_corrected)"
   ]
  },
  {
   "cell_type": "code",
   "execution_count": 85,
   "metadata": {},
   "outputs": [
    {
     "data": {
      "image/png": "[encoded data removed]",
      "text/plain": [
       "plot without title"
      ]
     },
     "metadata": {},
     "output_type": "display_data"
    }
   ],
   "source": [
    "par(mfrow = c(2, 2))\n",
    "plot(Boston_corrected$AGE, Boston_corrected$CMEDV, xlab = \"Percent of units built prior to 1940\", ylab = \"Median home value in $1000s\")\n",
    "plot(Boston_corrected$LSTAT, Boston_corrected$CMEDV, xlab = \"Percent of lower status residents\", ylab = \"Median home value in $1000s\")\n",
    "plot(Boston_corrected$CMEDV, Boston_corrected$PTRATIO, xlab = \"Median home value in $1000s\", ylab = \"Pupil-teacher ratio\")\n",
    "plot(as.factor(Boston_corrected$CHAS), Boston_corrected$CMEDV, xlab = \"Borders Charles River\", ylab = \"Median home value in $1000s\")"
   ]
  },
  {
   "cell_type": "markdown",
   "metadata": {},
   "source": [
    "First, I generated some plots to explore the relationship between median home value and a number of non-crime factors. There aren't any especially clear patterns I can discern from thes plots aside from the expected result that as a tracts with higher median home values have a greater proportion of lower-status residence. Also, it appears as if tracts that border the Charles river are a high a slightly higher median home value on average."
   ]
  },
  {
   "cell_type": "code",
   "execution_count": 88,
   "metadata": {},
   "outputs": [
    {
     "data": {
      "image/png": "[encoded data removed]",
      "text/plain": [
       "plot without title"
      ]
     },
     "metadata": {},
     "output_type": "display_data"
    }
   ],
   "source": [
    "par(mfrow = c(2, 2))\n",
    "plot(Boston_corrected$CMEDV, Boston_corrected$NOX, xlab = \"Median home value in $1000s\", ylab = \"Nitric oxides concentration (parts per 10 million)\")\n",
    "plot(Boston_corrected$INDUS, Boston_corrected$NOX, xlab = \"Percent of non-retail business acres\", ylab = \"Nitric oxides concentration (parts per 10 million)\")\n",
    "plot(Boston_corrected$CMEDV, Boston_corrected$B, xlab = \"Median home value in $1000s\", ylab = \"1000(Proportion of black residents - 0.63)^2\")\n",
    "plot(Boston_corrected$DIS, Boston_corrected$CMEDV, xlab = \"Weighted distance to Boston employment centers\", ylab = \"Median home value in $1000s\")"
   ]
  },
  {
   "cell_type": "markdown",
   "metadata": {},
   "source": [
    "The first two scatter plots in this next group explore factors that might relate to the concentration of nitric oxides. While there isn't a strong relationship, it appears that tracts with higher median home value also weakly tend to have lower concentrations of nitric oxides. There is a much clearer relationship with the percentage of non-retail business acres -- tracts with a higher proportion of non-retail business acres tend to have higher concentrations of nitric oxides. The bottom two plots look at some more factors which might be related to the median home value of a tract. \n",
    "\n",
    "The bottom-left plot seems to indicate that there is a relationship between the value of `B` and `CMEDV`, where `B` increases as `CMEDV` increases. If I am interpreting this correctly, this means that tracts with high median home values have a very low (close to 0%) proportion of Black residents, while tracts with low median home values have a much higher proportion (close to 63%). The bottom-right plot appears to indicate that there is also a relationship between proximity to Boston employment centers and median home value, with home values generally increasing as one gets further away from the employment centers."
   ]
  },
  {
   "cell_type": "markdown",
   "metadata": {},
   "source": [
    "## Part 3\n",
    "**Are any of the predictors associated with per capita crime rate? If so, explain the relationship.**"
   ]
  },
  {
   "cell_type": "code",
   "execution_count": 89,
   "metadata": {},
   "outputs": [
    {
     "data": {
      "image/png": "[encoded data removed]",
      "text/plain": [
       "plot without title"
      ]
     },
     "metadata": {},
     "output_type": "display_data"
    }
   ],
   "source": [
    "par(mfrow = c(2, 2))\n",
    "plot(Boston_corrected$B, Boston_corrected$CRIM, xlab = \"1000(Proportion of black residents - 0.63)^2\", ylab = \"Per capita crime rate\")\n",
    "plot(Boston_corrected$LSTAT, Boston_corrected$CRIM, xlab = \"Percent of lower status residents\", ylab = \"Per capita crime rate\")\n",
    "plot(Boston_corrected$CMEDV, Boston_corrected$CRIM, xlab = \"Median home value in $1000s\", ylab = \"Per capita crime rate\")\n",
    "plot(Boston_corrected$DIS, Boston_corrected$CRIM, xlab = \"Weighted distance to Boston employment centers\", ylab = \"Per capita crime rate\")"
   ]
  },
  {
   "cell_type": "markdown",
   "metadata": {},
   "source": [
    "Based on the above four scatter plots, it appears that there are pretty clear relationships between crime rate and median home value, percent of lower status residents, and proximity to Boston employment centers. Tracts with lower home values tend to have higher crime rates, as do tracts which are closer to Boston employment centers. In addiion, tracts with higher proportion of lower status residents tend to have higher crime rates. I was also curious if there would be a relationship between crime rate and `B`, which serves as some kind of measurement for the proportion of Black residents. Based on the scatter plot between those two variables, there doesn't appear to be a clear relationship."
   ]
  },
  {
   "cell_type": "markdown",
   "metadata": {},
   "source": [
    "## Part 4\n",
    "**Do any of the suburbs of Boston appear to have particularly high crime rates? Tax rates? Pupil-teacher ratios? Comment on the range of each predictor.**"
   ]
  },
  {
   "cell_type": "code",
   "execution_count": 97,
   "metadata": {},
   "outputs": [
    {
     "data": {
      "image/png": "[encoded data removed]",
      "text/plain": [
       "Plot with title \"Histogram of Boston pupil-teacher ratios\""
      ]
     },
     "metadata": {},
     "output_type": "display_data"
    }
   ],
   "source": [
    "par(mfrow = c(2, 2))\n",
    "hist(Boston_corrected$CRIM, xlab = \"Per capita crime rate\", main = \"Histogram of Boston crime rates\")\n",
    "hist(Boston_corrected$TAX, xlab = \"Tax rate per 10000 USD\", main = \"Histogram of Boston tax rates\")\n",
    "hist(Boston_corrected$PTRATIO, xlab = \"Pupil-teacher ratio\", main = \"Histogram of Boston pupil-teacher ratios\")"
   ]
  },
  {
   "cell_type": "code",
   "execution_count": 101,
   "metadata": {},
   "outputs": [
    {
     "data": {
      "text/plain": [
       "      CRIM               TAX           PTRATIO     \n",
       " Min.   : 0.00632   Min.   :187.0   Min.   :12.60  \n",
       " 1st Qu.: 0.08204   1st Qu.:279.0   1st Qu.:17.40  \n",
       " Median : 0.25651   Median :330.0   Median :19.05  \n",
       " Mean   : 3.61352   Mean   :408.2   Mean   :18.46  \n",
       " 3rd Qu.: 3.67708   3rd Qu.:666.0   3rd Qu.:20.20  \n",
       " Max.   :88.97620   Max.   :711.0   Max.   :22.00  "
      ]
     },
     "metadata": {},
     "output_type": "display_data"
    }
   ],
   "source": [
    "summary(Boston_corrected[, c(8, 17, 18)])"
   ]
  },
  {
   "cell_type": "markdown",
   "metadata": {},
   "source": [
    "Based on the histograms and the numerical summary, there do appear to be tracts within Boston which have particularly high crime rates, tax rates, or pupil-teacher ratios. The minimum crime rate is 0.00632, while the maximum is 88.97620, with a median of 0.25651. The minimum tax rate is \\\\$187 per \\\\$10000, while the maximum is \\\\$711, with a median of \\\\$330. The minimum pupil-teacher ratio is 12.60 pupils per teacher, while the maximum is 22, with a median of 19.05. Given the median value, the maximum pupil-teacher ratio in the data set isn't outrageously high, since about half of the tracts have a ratio of 19 or more."
   ]
  },
  {
   "cell_type": "markdown",
   "metadata": {},
   "source": [
    "## Part 5\n",
    "**How many of the suburbs in this data set bound the Charles river?**"
   ]
  },
  {
   "cell_type": "code",
   "execution_count": 74,
   "metadata": {},
   "outputs": [
    {
     "data": {
      "text/html": [
       "35"
      ],
      "text/latex": [
       "35"
      ],
      "text/markdown": [
       "35"
      ],
      "text/plain": [
       "[1] 35"
      ]
     },
     "metadata": {},
     "output_type": "display_data"
    }
   ],
   "source": [
    "sum(Boston_corrected$CHAS)"
   ]
  },
  {
   "cell_type": "markdown",
   "metadata": {},
   "source": [
    "In this data set, 35 tracts neighbor the Charles river."
   ]
  },
  {
   "cell_type": "markdown",
   "metadata": {},
   "source": [
    "## Part 6\n",
    "**What is the median pupil-teacher ratio among towns in this data set?**"
   ]
  },
  {
   "cell_type": "code",
   "execution_count": 61,
   "metadata": {},
   "outputs": [
    {
     "data": {
      "text/plain": [
       "   Min. 1st Qu.  Median    Mean 3rd Qu.    Max. \n",
       "  12.60   17.40   19.05   18.46   20.20   22.00 "
      ]
     },
     "metadata": {},
     "output_type": "display_data"
    }
   ],
   "source": [
    "summary(Boston_corrected$PTRATIO)"
   ]
  },
  {
   "cell_type": "markdown",
   "metadata": {},
   "source": [
    "The median pupil-teacher ratio among towns in this data set is 19.05 pupils per teacher."
   ]
  },
  {
   "cell_type": "markdown",
   "metadata": {},
   "source": [
    "## Part 7\n",
    "**Which suburb of Boston has the lowest median value of owner-occupied homes? What are the values of the other predictors for that suburb, and how do those values compare to the overall ranges for those predictors? Comment on your findings.**"
   ]
  },
  {
   "cell_type": "code",
   "execution_count": 70,
   "metadata": {},
   "outputs": [
    {
     "data": {
      "text/html": [
       "5"
      ],
      "text/latex": [
       "5"
      ],
      "text/markdown": [
       "5"
      ],
      "text/plain": [
       "[1] 5"
      ]
     },
     "metadata": {},
     "output_type": "display_data"
    }
   ],
   "source": [
    "min(Boston_corrected$CMEDV)"
   ]
  },
  {
   "cell_type": "code",
   "execution_count": 72,
   "metadata": {},
   "outputs": [
    {
     "data": {
      "text/html": [
       "<table>\n",
       "<thead><tr><th></th><th scope=col>TOWN</th><th scope=col>TOWNNO</th><th scope=col>TRACT</th><th scope=col>LON</th><th scope=col>LAT</th><th scope=col>MEDV</th><th scope=col>CMEDV</th><th scope=col>CRIM</th><th scope=col>ZN</th><th scope=col>INDUS</th><th scope=col>CHAS</th><th scope=col>NOX</th><th scope=col>RM</th><th scope=col>AGE</th><th scope=col>DIS</th><th scope=col>RAD</th><th scope=col>TAX</th><th scope=col>PTRATIO</th><th scope=col>B</th><th scope=col>LSTAT</th></tr></thead>\n",
       "<tbody>\n",
       "\t<tr><th scope=row>399</th><td>Boston South Boston</td><td>80                 </td><td>606                </td><td>-71.023            </td><td>42.2090            </td><td>5                  </td><td>5                  </td><td>38.3518            </td><td>0                  </td><td>18.1               </td><td>0                  </td><td>0.693              </td><td>5.453              </td><td>100                </td><td>1.4896             </td><td>24                 </td><td>666                </td><td>20.2               </td><td>396.90             </td><td>30.59              </td></tr>\n",
       "\t<tr><th scope=row>406</th><td>Boston South Boston</td><td>80                 </td><td>614                </td><td>-71.032            </td><td>42.2057            </td><td>5                  </td><td>5                  </td><td>67.9208            </td><td>0                  </td><td>18.1               </td><td>0                  </td><td>0.693              </td><td>5.683              </td><td>100                </td><td>1.4254             </td><td>24                 </td><td>666                </td><td>20.2               </td><td>384.97             </td><td>22.98              </td></tr>\n",
       "</tbody>\n",
       "</table>\n"
      ],
      "text/latex": [
       "\\begin{tabular}{r|llllllllllllllllllll}\n",
       "  & TOWN & TOWNNO & TRACT & LON & LAT & MEDV & CMEDV & CRIM & ZN & INDUS & CHAS & NOX & RM & AGE & DIS & RAD & TAX & PTRATIO & B & LSTAT\\\\\n",
       "\\hline\n",
       "\t399 & Boston South Boston & 80                  & 606                 & -71.023             & 42.2090             & 5                   & 5                   & 38.3518             & 0                   & 18.1                & 0                   & 0.693               & 5.453               & 100                 & 1.4896              & 24                  & 666                 & 20.2                & 396.90              & 30.59              \\\\\n",
       "\t406 & Boston South Boston & 80                  & 614                 & -71.032             & 42.2057             & 5                   & 5                   & 67.9208             & 0                   & 18.1                & 0                   & 0.693               & 5.683               & 100                 & 1.4254              & 24                  & 666                 & 20.2                & 384.97              & 22.98              \\\\\n",
       "\\end{tabular}\n"
      ],
      "text/markdown": [
       "\n",
       "| <!--/--> | TOWN | TOWNNO | TRACT | LON | LAT | MEDV | CMEDV | CRIM | ZN | INDUS | CHAS | NOX | RM | AGE | DIS | RAD | TAX | PTRATIO | B | LSTAT |\n",
       "|---|---|---|---|---|---|---|---|---|---|---|---|---|---|---|---|---|---|---|---|---|\n",
       "| 399 | Boston South Boston | 80                  | 606                 | -71.023             | 42.2090             | 5                   | 5                   | 38.3518             | 0                   | 18.1                | 0                   | 0.693               | 5.453               | 100                 | 1.4896              | 24                  | 666                 | 20.2                | 396.90              | 30.59               |\n",
       "| 406 | Boston South Boston | 80                  | 614                 | -71.032             | 42.2057             | 5                   | 5                   | 67.9208             | 0                   | 18.1                | 0                   | 0.693               | 5.683               | 100                 | 1.4254              | 24                  | 666                 | 20.2                | 384.97              | 22.98               |\n",
       "\n"
      ],
      "text/plain": [
       "    TOWN                TOWNNO TRACT LON     LAT     MEDV CMEDV CRIM    ZN\n",
       "399 Boston South Boston 80     606   -71.023 42.2090 5    5     38.3518 0 \n",
       "406 Boston South Boston 80     614   -71.032 42.2057 5    5     67.9208 0 \n",
       "    INDUS CHAS NOX   RM    AGE DIS    RAD TAX PTRATIO B      LSTAT\n",
       "399 18.1  0    0.693 5.453 100 1.4896 24  666 20.2    396.90 30.59\n",
       "406 18.1  0    0.693 5.683 100 1.4254 24  666 20.2    384.97 22.98"
      ]
     },
     "metadata": {},
     "output_type": "display_data"
    }
   ],
   "source": [
    "Boston_corrected[Boston_corrected$CMEDV == 5, ]"
   ]
  },
  {
   "cell_type": "code",
   "execution_count": 107,
   "metadata": {},
   "outputs": [
    {
     "data": {
      "text/plain": [
       "      CRIM                ZN             INDUS            NOX        \n",
       " Min.   : 0.00632   Min.   :  0.00   Min.   : 0.46   Min.   :0.3850  \n",
       " 1st Qu.: 0.08204   1st Qu.:  0.00   1st Qu.: 5.19   1st Qu.:0.4490  \n",
       " Median : 0.25651   Median :  0.00   Median : 9.69   Median :0.5380  \n",
       " Mean   : 3.61352   Mean   : 11.36   Mean   :11.14   Mean   :0.5547  \n",
       " 3rd Qu.: 3.67708   3rd Qu.: 12.50   3rd Qu.:18.10   3rd Qu.:0.6240  \n",
       " Max.   :88.97620   Max.   :100.00   Max.   :27.74   Max.   :0.8710  \n",
       "       RM             AGE              DIS              RAD        \n",
       " Min.   :3.561   Min.   :  2.90   Min.   : 1.130   Min.   : 1.000  \n",
       " 1st Qu.:5.886   1st Qu.: 45.02   1st Qu.: 2.100   1st Qu.: 4.000  \n",
       " Median :6.208   Median : 77.50   Median : 3.207   Median : 5.000  \n",
       " Mean   :6.285   Mean   : 68.57   Mean   : 3.795   Mean   : 9.549  \n",
       " 3rd Qu.:6.623   3rd Qu.: 94.08   3rd Qu.: 5.188   3rd Qu.:24.000  \n",
       " Max.   :8.780   Max.   :100.00   Max.   :12.127   Max.   :24.000  \n",
       "      TAX           PTRATIO            B              LSTAT      \n",
       " Min.   :187.0   Min.   :12.60   Min.   :  0.32   Min.   : 1.73  \n",
       " 1st Qu.:279.0   1st Qu.:17.40   1st Qu.:375.38   1st Qu.: 6.95  \n",
       " Median :330.0   Median :19.05   Median :391.44   Median :11.36  \n",
       " Mean   :408.2   Mean   :18.46   Mean   :356.67   Mean   :12.65  \n",
       " 3rd Qu.:666.0   3rd Qu.:20.20   3rd Qu.:396.23   3rd Qu.:16.95  \n",
       " Max.   :711.0   Max.   :22.00   Max.   :396.90   Max.   :37.97  "
      ]
     },
     "metadata": {},
     "output_type": "display_data"
    }
   ],
   "source": [
    "summary(Boston_corrected[, c(8:10, 12:20)])"
   ]
  },
  {
   "cell_type": "markdown",
   "metadata": {},
   "source": [
    "Two of the tracts of South Boston have the lowest median value of owner-occupied homes, at $5000. Both of these tracts have very high crime rates compared to the overall range for that variable, with values 38.3518 and 67.9208 putting them far into the upper quartile and into the range of being outliers. These tracts have no land zoned for residential lots of 25000 sq. ft., though this is in line with at least half of the tracts in the overall set given the median for `ZN` is 0. The two tracts do have a relatively high proportion of non-retail business acres, with values of 18.1 being right at the third quartile. Similarly, the tracts also have concentrations of nitric oxides in the upper quartile of the overall set with a value of 0.693 parts per ten million. The average number of rooms per dwelling for these two tracts is at the low end, with values of 5.453 and 5.683 putting them at the bottom quartile. Next, these two tracts are among those with the highest proportion of owner-occupied homes built prior to 1940, with a value of 100. The tracts are also quite close Boston employment centers with `DIS` values of 1.4896 and 1.4254 putting them at the bottom quartile. The tracts also are very close to radial highways with the maximum value of `RAD` at 24. Next, the tracts have above average property tax rates, with a value of \\\\$666 per \\\\$10000, putting them at the third quartile. The pupil-teacher ratio of 20.2 also puts these tracts at the third quartile. The tracts have relatively high values for `B`, though one tract has a maximum value while the other, with a value of 384.97, is in between the first and second quartiles. Lastly, the tracts have a high proportion of lower status residents (values of 30.59 and 22.98), putting them in the top quartile of the data.\n",
    "\n",
    "In summary, these two tracts with the lowest median value of owner-occupied homes have predictors generally at the extreme ends of their respective ranges."
   ]
  },
  {
   "cell_type": "markdown",
   "metadata": {},
   "source": [
    "## Part 8 \n",
    "**In this data set, how many of the suburbs average more than seven rooms per dwelling? More than eight rooms per dwelling? Comment on the suburbs that average more than eight rooms per dwelling.**"
   ]
  },
  {
   "cell_type": "code",
   "execution_count": 68,
   "metadata": {},
   "outputs": [
    {
     "data": {
      "text/html": [
       "64"
      ],
      "text/latex": [
       "64"
      ],
      "text/markdown": [
       "64"
      ],
      "text/plain": [
       "[1] 64"
      ]
     },
     "metadata": {},
     "output_type": "display_data"
    }
   ],
   "source": [
    "sum(Boston_corrected$RM > 7)"
   ]
  },
  {
   "cell_type": "code",
   "execution_count": 69,
   "metadata": {},
   "outputs": [
    {
     "data": {
      "text/html": [
       "13"
      ],
      "text/latex": [
       "13"
      ],
      "text/markdown": [
       "13"
      ],
      "text/plain": [
       "[1] 13"
      ]
     },
     "metadata": {},
     "output_type": "display_data"
    }
   ],
   "source": [
    "sum(Boston_corrected$RM > 8)"
   ]
  },
  {
   "cell_type": "markdown",
   "metadata": {},
   "source": [
    "In this data set, there are 64 tracts which average more than seven rooms per dwelling, and 13 of those tracts which average more than 8 rooms per dwelling."
   ]
  },
  {
   "cell_type": "code",
   "execution_count": 73,
   "metadata": {},
   "outputs": [
    {
     "data": {
      "text/html": [
       "<table>\n",
       "<thead><tr><th></th><th scope=col>TOWN</th><th scope=col>TOWNNO</th><th scope=col>TRACT</th><th scope=col>LON</th><th scope=col>LAT</th><th scope=col>MEDV</th><th scope=col>CMEDV</th><th scope=col>CRIM</th><th scope=col>ZN</th><th scope=col>INDUS</th><th scope=col>CHAS</th><th scope=col>NOX</th><th scope=col>RM</th><th scope=col>AGE</th><th scope=col>DIS</th><th scope=col>RAD</th><th scope=col>TAX</th><th scope=col>PTRATIO</th><th scope=col>B</th><th scope=col>LSTAT</th></tr></thead>\n",
       "<tbody>\n",
       "\t<tr><th scope=row>98</th><td>Winchester     </td><td>23             </td><td>3383           </td><td>-71.0890       </td><td>42.2715        </td><td>38.7           </td><td>38.7           </td><td>0.12083        </td><td> 0             </td><td> 2.89          </td><td>0              </td><td>0.4450         </td><td>8.069          </td><td>76.0           </td><td>3.4952         </td><td> 2             </td><td>276            </td><td>18.0           </td><td>396.90         </td><td>4.21           </td></tr>\n",
       "\t<tr><th scope=row>164</th><td>Cambridge      </td><td>28             </td><td>3542           </td><td>-71.0815       </td><td>42.2250        </td><td>50.0           </td><td>50.0           </td><td>1.51902        </td><td> 0             </td><td>19.58          </td><td>1              </td><td>0.6050         </td><td>8.375          </td><td>93.9           </td><td>2.1620         </td><td> 5             </td><td>403            </td><td>14.7           </td><td>388.45         </td><td>3.32           </td></tr>\n",
       "\t<tr><th scope=row>205</th><td>Weston         </td><td>37             </td><td>3672           </td><td>-71.1990       </td><td>42.2058        </td><td>50.0           </td><td>50.0           </td><td>0.02009        </td><td>95             </td><td> 2.68          </td><td>0              </td><td>0.4161         </td><td>8.034          </td><td>31.9           </td><td>5.1180         </td><td> 4             </td><td>224            </td><td>14.7           </td><td>390.55         </td><td>2.88           </td></tr>\n",
       "\t<tr><th scope=row>225</th><td>Newton         </td><td>40             </td><td>3735           </td><td>-71.1100       </td><td>42.2060        </td><td>44.8           </td><td>44.8           </td><td>0.31533        </td><td> 0             </td><td> 6.20          </td><td>0              </td><td>0.5040         </td><td>8.266          </td><td>78.3           </td><td>2.8944         </td><td> 8             </td><td>307            </td><td>17.4           </td><td>385.05         </td><td>4.14           </td></tr>\n",
       "\t<tr><th scope=row>226</th><td>Newton         </td><td>40             </td><td>3736           </td><td>-71.1012       </td><td>42.1975        </td><td>50.0           </td><td>50.0           </td><td>0.52693        </td><td> 0             </td><td> 6.20          </td><td>0              </td><td>0.5040         </td><td>8.725          </td><td>83.0           </td><td>2.8944         </td><td> 8             </td><td>307            </td><td>17.4           </td><td>382.00         </td><td>4.63           </td></tr>\n",
       "\t<tr><th scope=row>227</th><td>Newton         </td><td>40             </td><td>3737           </td><td>-71.1215       </td><td>42.2025        </td><td>37.6           </td><td>37.6           </td><td>0.38214        </td><td> 0             </td><td> 6.20          </td><td>0              </td><td>0.5040         </td><td>8.040          </td><td>86.5           </td><td>3.2157         </td><td> 8             </td><td>307            </td><td>17.4           </td><td>387.38         </td><td>3.13           </td></tr>\n",
       "\t<tr><th scope=row>233</th><td>Newton         </td><td>40             </td><td>3743           </td><td>-71.1400       </td><td>42.1946        </td><td>41.7           </td><td>41.7           </td><td>0.57529        </td><td> 0             </td><td> 6.20          </td><td>0              </td><td>0.5070         </td><td>8.337          </td><td>73.3           </td><td>3.8384         </td><td> 8             </td><td>307            </td><td>17.4           </td><td>385.91         </td><td>2.47           </td></tr>\n",
       "\t<tr><th scope=row>234</th><td>Newton         </td><td>40             </td><td>3744           </td><td>-71.1340       </td><td>42.2040        </td><td>48.3           </td><td>48.3           </td><td>0.33147        </td><td> 0             </td><td> 6.20          </td><td>0              </td><td>0.5070         </td><td>8.247          </td><td>70.4           </td><td>3.6519         </td><td> 8             </td><td>307            </td><td>17.4           </td><td>378.95         </td><td>3.95           </td></tr>\n",
       "\t<tr><th scope=row>254</th><td>Framingham     </td><td>42             </td><td>3840           </td><td>-71.2807       </td><td>42.1727        </td><td>42.8           </td><td>42.8           </td><td>0.36894        </td><td>22             </td><td> 5.86          </td><td>0              </td><td>0.4310         </td><td>8.259          </td><td> 8.4           </td><td>8.9067         </td><td> 7             </td><td>330            </td><td>19.1           </td><td>396.90         </td><td>3.54           </td></tr>\n",
       "\t<tr><th scope=row>258</th><td>Brookline      </td><td>45             </td><td>4001           </td><td>-71.0679       </td><td>42.2073        </td><td>50.0           </td><td>50.0           </td><td>0.61154        </td><td>20             </td><td> 3.97          </td><td>0              </td><td>0.6470         </td><td>8.704          </td><td>86.9           </td><td>1.8010         </td><td> 5             </td><td>264            </td><td>13.0           </td><td>389.70         </td><td>5.12           </td></tr>\n",
       "\t<tr><th scope=row>263</th><td>Brookline      </td><td>45             </td><td>4006           </td><td>-71.0835       </td><td>42.2000        </td><td>48.8           </td><td>48.8           </td><td>0.52014        </td><td>20             </td><td> 3.97          </td><td>0              </td><td>0.6470         </td><td>8.398          </td><td>91.5           </td><td>2.2885         </td><td> 5             </td><td>264            </td><td>13.0           </td><td>386.86         </td><td>5.91           </td></tr>\n",
       "\t<tr><th scope=row>268</th><td>Brookline      </td><td>45             </td><td>4011           </td><td>-71.0850       </td><td>42.1925        </td><td>50.0           </td><td>50.0           </td><td>0.57834        </td><td>20             </td><td> 3.97          </td><td>0              </td><td>0.5750         </td><td>8.297          </td><td>67.0           </td><td>2.4216         </td><td> 5             </td><td>264            </td><td>13.0           </td><td>384.54         </td><td>7.44           </td></tr>\n",
       "\t<tr><th scope=row>365</th><td>Boston Back Bay</td><td>75             </td><td> 101           </td><td>-71.0590       </td><td>42.2098        </td><td>21.9           </td><td>21.9           </td><td>3.47428        </td><td> 0             </td><td>18.10          </td><td>1              </td><td>0.7180         </td><td>8.780          </td><td>82.9           </td><td>1.9047         </td><td>24             </td><td>666            </td><td>20.2           </td><td>354.55         </td><td>5.29           </td></tr>\n",
       "</tbody>\n",
       "</table>\n"
      ],
      "text/latex": [
       "\\begin{tabular}{r|llllllllllllllllllll}\n",
       "  & TOWN & TOWNNO & TRACT & LON & LAT & MEDV & CMEDV & CRIM & ZN & INDUS & CHAS & NOX & RM & AGE & DIS & RAD & TAX & PTRATIO & B & LSTAT\\\\\n",
       "\\hline\n",
       "\t98 & Winchester      & 23              & 3383            & -71.0890        & 42.2715         & 38.7            & 38.7            & 0.12083         &  0              &  2.89           & 0               & 0.4450          & 8.069           & 76.0            & 3.4952          &  2              & 276             & 18.0            & 396.90          & 4.21           \\\\\n",
       "\t164 & Cambridge       & 28              & 3542            & -71.0815        & 42.2250         & 50.0            & 50.0            & 1.51902         &  0              & 19.58           & 1               & 0.6050          & 8.375           & 93.9            & 2.1620          &  5              & 403             & 14.7            & 388.45          & 3.32           \\\\\n",
       "\t205 & Weston          & 37              & 3672            & -71.1990        & 42.2058         & 50.0            & 50.0            & 0.02009         & 95              &  2.68           & 0               & 0.4161          & 8.034           & 31.9            & 5.1180          &  4              & 224             & 14.7            & 390.55          & 2.88           \\\\\n",
       "\t225 & Newton          & 40              & 3735            & -71.1100        & 42.2060         & 44.8            & 44.8            & 0.31533         &  0              &  6.20           & 0               & 0.5040          & 8.266           & 78.3            & 2.8944          &  8              & 307             & 17.4            & 385.05          & 4.14           \\\\\n",
       "\t226 & Newton          & 40              & 3736            & -71.1012        & 42.1975         & 50.0            & 50.0            & 0.52693         &  0              &  6.20           & 0               & 0.5040          & 8.725           & 83.0            & 2.8944          &  8              & 307             & 17.4            & 382.00          & 4.63           \\\\\n",
       "\t227 & Newton          & 40              & 3737            & -71.1215        & 42.2025         & 37.6            & 37.6            & 0.38214         &  0              &  6.20           & 0               & 0.5040          & 8.040           & 86.5            & 3.2157          &  8              & 307             & 17.4            & 387.38          & 3.13           \\\\\n",
       "\t233 & Newton          & 40              & 3743            & -71.1400        & 42.1946         & 41.7            & 41.7            & 0.57529         &  0              &  6.20           & 0               & 0.5070          & 8.337           & 73.3            & 3.8384          &  8              & 307             & 17.4            & 385.91          & 2.47           \\\\\n",
       "\t234 & Newton          & 40              & 3744            & -71.1340        & 42.2040         & 48.3            & 48.3            & 0.33147         &  0              &  6.20           & 0               & 0.5070          & 8.247           & 70.4            & 3.6519          &  8              & 307             & 17.4            & 378.95          & 3.95           \\\\\n",
       "\t254 & Framingham      & 42              & 3840            & -71.2807        & 42.1727         & 42.8            & 42.8            & 0.36894         & 22              &  5.86           & 0               & 0.4310          & 8.259           &  8.4            & 8.9067          &  7              & 330             & 19.1            & 396.90          & 3.54           \\\\\n",
       "\t258 & Brookline       & 45              & 4001            & -71.0679        & 42.2073         & 50.0            & 50.0            & 0.61154         & 20              &  3.97           & 0               & 0.6470          & 8.704           & 86.9            & 1.8010          &  5              & 264             & 13.0            & 389.70          & 5.12           \\\\\n",
       "\t263 & Brookline       & 45              & 4006            & -71.0835        & 42.2000         & 48.8            & 48.8            & 0.52014         & 20              &  3.97           & 0               & 0.6470          & 8.398           & 91.5            & 2.2885          &  5              & 264             & 13.0            & 386.86          & 5.91           \\\\\n",
       "\t268 & Brookline       & 45              & 4011            & -71.0850        & 42.1925         & 50.0            & 50.0            & 0.57834         & 20              &  3.97           & 0               & 0.5750          & 8.297           & 67.0            & 2.4216          &  5              & 264             & 13.0            & 384.54          & 7.44           \\\\\n",
       "\t365 & Boston Back Bay & 75              &  101            & -71.0590        & 42.2098         & 21.9            & 21.9            & 3.47428         &  0              & 18.10           & 1               & 0.7180          & 8.780           & 82.9            & 1.9047          & 24              & 666             & 20.2            & 354.55          & 5.29           \\\\\n",
       "\\end{tabular}\n"
      ],
      "text/markdown": [
       "\n",
       "| <!--/--> | TOWN | TOWNNO | TRACT | LON | LAT | MEDV | CMEDV | CRIM | ZN | INDUS | CHAS | NOX | RM | AGE | DIS | RAD | TAX | PTRATIO | B | LSTAT |\n",
       "|---|---|---|---|---|---|---|---|---|---|---|---|---|---|---|---|---|---|---|---|---|\n",
       "| 98 | Winchester      | 23              | 3383            | -71.0890        | 42.2715         | 38.7            | 38.7            | 0.12083         |  0              |  2.89           | 0               | 0.4450          | 8.069           | 76.0            | 3.4952          |  2              | 276             | 18.0            | 396.90          | 4.21            |\n",
       "| 164 | Cambridge       | 28              | 3542            | -71.0815        | 42.2250         | 50.0            | 50.0            | 1.51902         |  0              | 19.58           | 1               | 0.6050          | 8.375           | 93.9            | 2.1620          |  5              | 403             | 14.7            | 388.45          | 3.32            |\n",
       "| 205 | Weston          | 37              | 3672            | -71.1990        | 42.2058         | 50.0            | 50.0            | 0.02009         | 95              |  2.68           | 0               | 0.4161          | 8.034           | 31.9            | 5.1180          |  4              | 224             | 14.7            | 390.55          | 2.88            |\n",
       "| 225 | Newton          | 40              | 3735            | -71.1100        | 42.2060         | 44.8            | 44.8            | 0.31533         |  0              |  6.20           | 0               | 0.5040          | 8.266           | 78.3            | 2.8944          |  8              | 307             | 17.4            | 385.05          | 4.14            |\n",
       "| 226 | Newton          | 40              | 3736            | -71.1012        | 42.1975         | 50.0            | 50.0            | 0.52693         |  0              |  6.20           | 0               | 0.5040          | 8.725           | 83.0            | 2.8944          |  8              | 307             | 17.4            | 382.00          | 4.63            |\n",
       "| 227 | Newton          | 40              | 3737            | -71.1215        | 42.2025         | 37.6            | 37.6            | 0.38214         |  0              |  6.20           | 0               | 0.5040          | 8.040           | 86.5            | 3.2157          |  8              | 307             | 17.4            | 387.38          | 3.13            |\n",
       "| 233 | Newton          | 40              | 3743            | -71.1400        | 42.1946         | 41.7            | 41.7            | 0.57529         |  0              |  6.20           | 0               | 0.5070          | 8.337           | 73.3            | 3.8384          |  8              | 307             | 17.4            | 385.91          | 2.47            |\n",
       "| 234 | Newton          | 40              | 3744            | -71.1340        | 42.2040         | 48.3            | 48.3            | 0.33147         |  0              |  6.20           | 0               | 0.5070          | 8.247           | 70.4            | 3.6519          |  8              | 307             | 17.4            | 378.95          | 3.95            |\n",
       "| 254 | Framingham      | 42              | 3840            | -71.2807        | 42.1727         | 42.8            | 42.8            | 0.36894         | 22              |  5.86           | 0               | 0.4310          | 8.259           |  8.4            | 8.9067          |  7              | 330             | 19.1            | 396.90          | 3.54            |\n",
       "| 258 | Brookline       | 45              | 4001            | -71.0679        | 42.2073         | 50.0            | 50.0            | 0.61154         | 20              |  3.97           | 0               | 0.6470          | 8.704           | 86.9            | 1.8010          |  5              | 264             | 13.0            | 389.70          | 5.12            |\n",
       "| 263 | Brookline       | 45              | 4006            | -71.0835        | 42.2000         | 48.8            | 48.8            | 0.52014         | 20              |  3.97           | 0               | 0.6470          | 8.398           | 91.5            | 2.2885          |  5              | 264             | 13.0            | 386.86          | 5.91            |\n",
       "| 268 | Brookline       | 45              | 4011            | -71.0850        | 42.1925         | 50.0            | 50.0            | 0.57834         | 20              |  3.97           | 0               | 0.5750          | 8.297           | 67.0            | 2.4216          |  5              | 264             | 13.0            | 384.54          | 7.44            |\n",
       "| 365 | Boston Back Bay | 75              |  101            | -71.0590        | 42.2098         | 21.9            | 21.9            | 3.47428         |  0              | 18.10           | 1               | 0.7180          | 8.780           | 82.9            | 1.9047          | 24              | 666             | 20.2            | 354.55          | 5.29            |\n",
       "\n"
      ],
      "text/plain": [
       "    TOWN            TOWNNO TRACT LON      LAT     MEDV CMEDV CRIM    ZN INDUS\n",
       "98  Winchester      23     3383  -71.0890 42.2715 38.7 38.7  0.12083  0  2.89\n",
       "164 Cambridge       28     3542  -71.0815 42.2250 50.0 50.0  1.51902  0 19.58\n",
       "205 Weston          37     3672  -71.1990 42.2058 50.0 50.0  0.02009 95  2.68\n",
       "225 Newton          40     3735  -71.1100 42.2060 44.8 44.8  0.31533  0  6.20\n",
       "226 Newton          40     3736  -71.1012 42.1975 50.0 50.0  0.52693  0  6.20\n",
       "227 Newton          40     3737  -71.1215 42.2025 37.6 37.6  0.38214  0  6.20\n",
       "233 Newton          40     3743  -71.1400 42.1946 41.7 41.7  0.57529  0  6.20\n",
       "234 Newton          40     3744  -71.1340 42.2040 48.3 48.3  0.33147  0  6.20\n",
       "254 Framingham      42     3840  -71.2807 42.1727 42.8 42.8  0.36894 22  5.86\n",
       "258 Brookline       45     4001  -71.0679 42.2073 50.0 50.0  0.61154 20  3.97\n",
       "263 Brookline       45     4006  -71.0835 42.2000 48.8 48.8  0.52014 20  3.97\n",
       "268 Brookline       45     4011  -71.0850 42.1925 50.0 50.0  0.57834 20  3.97\n",
       "365 Boston Back Bay 75      101  -71.0590 42.2098 21.9 21.9  3.47428  0 18.10\n",
       "    CHAS NOX    RM    AGE  DIS    RAD TAX PTRATIO B      LSTAT\n",
       "98  0    0.4450 8.069 76.0 3.4952  2  276 18.0    396.90 4.21 \n",
       "164 1    0.6050 8.375 93.9 2.1620  5  403 14.7    388.45 3.32 \n",
       "205 0    0.4161 8.034 31.9 5.1180  4  224 14.7    390.55 2.88 \n",
       "225 0    0.5040 8.266 78.3 2.8944  8  307 17.4    385.05 4.14 \n",
       "226 0    0.5040 8.725 83.0 2.8944  8  307 17.4    382.00 4.63 \n",
       "227 0    0.5040 8.040 86.5 3.2157  8  307 17.4    387.38 3.13 \n",
       "233 0    0.5070 8.337 73.3 3.8384  8  307 17.4    385.91 2.47 \n",
       "234 0    0.5070 8.247 70.4 3.6519  8  307 17.4    378.95 3.95 \n",
       "254 0    0.4310 8.259  8.4 8.9067  7  330 19.1    396.90 3.54 \n",
       "258 0    0.6470 8.704 86.9 1.8010  5  264 13.0    389.70 5.12 \n",
       "263 0    0.6470 8.398 91.5 2.2885  5  264 13.0    386.86 5.91 \n",
       "268 0    0.5750 8.297 67.0 2.4216  5  264 13.0    384.54 7.44 \n",
       "365 1    0.7180 8.780 82.9 1.9047 24  666 20.2    354.55 5.29 "
      ]
     },
     "metadata": {},
     "output_type": "display_data"
    }
   ],
   "source": [
    "Boston_corrected[Boston_corrected$RM > 8, ]"
   ]
  },
  {
   "cell_type": "code",
   "execution_count": 110,
   "metadata": {},
   "outputs": [
    {
     "data": {
      "text/plain": [
       "     CMEDV           CRIM               ZN            INDUS       \n",
       " Min.   :21.9   Min.   :0.02009   Min.   : 0.00   Min.   : 2.680  \n",
       " 1st Qu.:41.7   1st Qu.:0.33147   1st Qu.: 0.00   1st Qu.: 3.970  \n",
       " Median :48.3   Median :0.52014   Median : 0.00   Median : 6.200  \n",
       " Mean   :44.2   Mean   :0.71879   Mean   :13.62   Mean   : 7.078  \n",
       " 3rd Qu.:50.0   3rd Qu.:0.57834   3rd Qu.:20.00   3rd Qu.: 6.200  \n",
       " Max.   :50.0   Max.   :3.47428   Max.   :95.00   Max.   :19.580  \n",
       "      NOX               RM             AGE             DIS       \n",
       " Min.   :0.4161   Min.   :8.034   Min.   : 8.40   Min.   :1.801  \n",
       " 1st Qu.:0.5040   1st Qu.:8.247   1st Qu.:70.40   1st Qu.:2.288  \n",
       " Median :0.5070   Median :8.297   Median :78.30   Median :2.894  \n",
       " Mean   :0.5392   Mean   :8.349   Mean   :71.54   Mean   :3.430  \n",
       " 3rd Qu.:0.6050   3rd Qu.:8.398   3rd Qu.:86.50   3rd Qu.:3.652  \n",
       " Max.   :0.7180   Max.   :8.780   Max.   :93.90   Max.   :8.907  \n",
       "      RAD              TAX           PTRATIO            B        \n",
       " Min.   : 2.000   Min.   :224.0   Min.   :13.00   Min.   :354.6  \n",
       " 1st Qu.: 5.000   1st Qu.:264.0   1st Qu.:14.70   1st Qu.:384.5  \n",
       " Median : 7.000   Median :307.0   Median :17.40   Median :386.9  \n",
       " Mean   : 7.462   Mean   :325.1   Mean   :16.36   Mean   :385.2  \n",
       " 3rd Qu.: 8.000   3rd Qu.:307.0   3rd Qu.:17.40   3rd Qu.:389.7  \n",
       " Max.   :24.000   Max.   :666.0   Max.   :20.20   Max.   :396.9  \n",
       "     LSTAT     \n",
       " Min.   :2.47  \n",
       " 1st Qu.:3.32  \n",
       " Median :4.14  \n",
       " Mean   :4.31  \n",
       " 3rd Qu.:5.12  \n",
       " Max.   :7.44  "
      ]
     },
     "metadata": {},
     "output_type": "display_data"
    }
   ],
   "source": [
    "summary(Boston_corrected[Boston_corrected$RM > 8, c(7:10, 12:20)])"
   ]
  },
  {
   "cell_type": "markdown",
   "metadata": {},
   "source": [
    "From the numerical summary, one thing that stands out is that the tracts which average at least eight rooms per dwelling have low crime rates, low concentrations of nitric oxides, low proportions of Black residents (high values of `B`), and low proportions of lower status residents compared to the overall data set."
   ]
  }
 ],
 "metadata": {
  "kernelspec": {
   "display_name": "R",
   "language": "R",
   "name": "ir"
  },
  "language_info": {
   "codemirror_mode": "r",
   "file_extension": ".r",
   "mimetype": "text/x-r-source",
   "name": "R",
   "pygments_lexer": "r",
   "version": "3.6.1"
  }
 },
 "nbformat": 4,
 "nbformat_minor": 2
}
