{
 "cells": [
  {
   "cell_type": "markdown",
   "metadata": {},
   "source": [
    "# Lab: Linear Model Selection and Regularization"
   ]
  },
  {
   "cell_type": "markdown",
   "metadata": {},
   "source": [
    "In this lab we will explore three main topics:\n",
    "\n",
    "- Methods for selecting the subset of predictors to use in a statistical learning method. This includes best subset selection, forward and backward stepwise selection, and how to use the validation set and cross-validation approaches to choose between models using different numbers of predictors.\n",
    "\n",
    "- Regularization methods for constraining the sizes of the coefficient estimates in a least squares linear regression model. The two main strategies we will focus on are ridge regression and the lasso.\n",
    "\n",
    "- Dimension reduction methods to transform the original predictors into a set of variables in a lower-dimensional space before performing least squares regression. The two methods we will focus on are principal components regression and partial least squares.\n",
    "\n",
    "Throughout the three parts of this lab, we will analyze the `Hitters` dataset from the `ISLR` library, which consists of salary information and a wide variety of statistics for a set of 322 baseball players. In particular, our goal will be to predict a baseball player's salary based on their performance statistics from the previous year. Before diving into the main parts of this lab, we load the `ISLR` library and perform an initial inspection of the `Hitters` data."
   ]
  },
  {
   "cell_type": "code",
   "execution_count": 1,
   "metadata": {},
   "outputs": [],
   "source": [
    "library(ISLR)"
   ]
  },
  {
   "cell_type": "code",
   "execution_count": 2,
   "metadata": {},
   "outputs": [
    {
     "data": {
      "text/html": [
       "<ol class=list-inline>\n",
       "\t<li>'AtBat'</li>\n",
       "\t<li>'Hits'</li>\n",
       "\t<li>'HmRun'</li>\n",
       "\t<li>'Runs'</li>\n",
       "\t<li>'RBI'</li>\n",
       "\t<li>'Walks'</li>\n",
       "\t<li>'Years'</li>\n",
       "\t<li>'CAtBat'</li>\n",
       "\t<li>'CHits'</li>\n",
       "\t<li>'CHmRun'</li>\n",
       "\t<li>'CRuns'</li>\n",
       "\t<li>'CRBI'</li>\n",
       "\t<li>'CWalks'</li>\n",
       "\t<li>'League'</li>\n",
       "\t<li>'Division'</li>\n",
       "\t<li>'PutOuts'</li>\n",
       "\t<li>'Assists'</li>\n",
       "\t<li>'Errors'</li>\n",
       "\t<li>'Salary'</li>\n",
       "\t<li>'NewLeague'</li>\n",
       "</ol>\n"
      ],
      "text/latex": [
       "\\begin{enumerate*}\n",
       "\\item 'AtBat'\n",
       "\\item 'Hits'\n",
       "\\item 'HmRun'\n",
       "\\item 'Runs'\n",
       "\\item 'RBI'\n",
       "\\item 'Walks'\n",
       "\\item 'Years'\n",
       "\\item 'CAtBat'\n",
       "\\item 'CHits'\n",
       "\\item 'CHmRun'\n",
       "\\item 'CRuns'\n",
       "\\item 'CRBI'\n",
       "\\item 'CWalks'\n",
       "\\item 'League'\n",
       "\\item 'Division'\n",
       "\\item 'PutOuts'\n",
       "\\item 'Assists'\n",
       "\\item 'Errors'\n",
       "\\item 'Salary'\n",
       "\\item 'NewLeague'\n",
       "\\end{enumerate*}\n"
      ],
      "text/markdown": [
       "1. 'AtBat'\n",
       "2. 'Hits'\n",
       "3. 'HmRun'\n",
       "4. 'Runs'\n",
       "5. 'RBI'\n",
       "6. 'Walks'\n",
       "7. 'Years'\n",
       "8. 'CAtBat'\n",
       "9. 'CHits'\n",
       "10. 'CHmRun'\n",
       "11. 'CRuns'\n",
       "12. 'CRBI'\n",
       "13. 'CWalks'\n",
       "14. 'League'\n",
       "15. 'Division'\n",
       "16. 'PutOuts'\n",
       "17. 'Assists'\n",
       "18. 'Errors'\n",
       "19. 'Salary'\n",
       "20. 'NewLeague'\n",
       "\n",
       "\n"
      ],
      "text/plain": [
       " [1] \"AtBat\"     \"Hits\"      \"HmRun\"     \"Runs\"      \"RBI\"       \"Walks\"    \n",
       " [7] \"Years\"     \"CAtBat\"    \"CHits\"     \"CHmRun\"    \"CRuns\"     \"CRBI\"     \n",
       "[13] \"CWalks\"    \"League\"    \"Division\"  \"PutOuts\"   \"Assists\"   \"Errors\"   \n",
       "[19] \"Salary\"    \"NewLeague\""
      ]
     },
     "metadata": {},
     "output_type": "display_data"
    }
   ],
   "source": [
    "names(Hitters)"
   ]
  },
  {
   "cell_type": "code",
   "execution_count": 3,
   "metadata": {},
   "outputs": [
    {
     "data": {
      "text/html": [
       "<ol class=list-inline>\n",
       "\t<li>322</li>\n",
       "\t<li>20</li>\n",
       "</ol>\n"
      ],
      "text/latex": [
       "\\begin{enumerate*}\n",
       "\\item 322\n",
       "\\item 20\n",
       "\\end{enumerate*}\n"
      ],
      "text/markdown": [
       "1. 322\n",
       "2. 20\n",
       "\n",
       "\n"
      ],
      "text/plain": [
       "[1] 322  20"
      ]
     },
     "metadata": {},
     "output_type": "display_data"
    }
   ],
   "source": [
    "dim(Hitters)"
   ]
  },
  {
   "cell_type": "markdown",
   "metadata": {},
   "source": [
    "Looking at the names of the columns, we see that there are a total of 19 variables in addition to the `Salary` variable. As usual, we can learn more about the dataset and the meaning of each column by using the command `?Hitters`. For now, though, we focus on checking the `Salary` column for null values, since that is the variable we wish to use as the response. To check the number of null values in a column, we can use the `is.na()` function in tandem with the `sum()` function."
   ]
  },
  {
   "cell_type": "code",
   "execution_count": 4,
   "metadata": {},
   "outputs": [
    {
     "data": {
      "text/html": [
       "59"
      ],
      "text/latex": [
       "59"
      ],
      "text/markdown": [
       "59"
      ],
      "text/plain": [
       "[1] 59"
      ]
     },
     "metadata": {},
     "output_type": "display_data"
    }
   ],
   "source": [
    "sum(is.na(Hitters$Salary))"
   ]
  },
  {
   "cell_type": "markdown",
   "metadata": {},
   "source": [
    "We can also use the `colSums()` function to check for the number of null values in each column."
   ]
  },
  {
   "cell_type": "code",
   "execution_count": 5,
   "metadata": {},
   "outputs": [
    {
     "data": {
      "text/html": [
       "<dl class=dl-horizontal>\n",
       "\t<dt>AtBat</dt>\n",
       "\t\t<dd>0</dd>\n",
       "\t<dt>Hits</dt>\n",
       "\t\t<dd>0</dd>\n",
       "\t<dt>HmRun</dt>\n",
       "\t\t<dd>0</dd>\n",
       "\t<dt>Runs</dt>\n",
       "\t\t<dd>0</dd>\n",
       "\t<dt>RBI</dt>\n",
       "\t\t<dd>0</dd>\n",
       "\t<dt>Walks</dt>\n",
       "\t\t<dd>0</dd>\n",
       "\t<dt>Years</dt>\n",
       "\t\t<dd>0</dd>\n",
       "\t<dt>CAtBat</dt>\n",
       "\t\t<dd>0</dd>\n",
       "\t<dt>CHits</dt>\n",
       "\t\t<dd>0</dd>\n",
       "\t<dt>CHmRun</dt>\n",
       "\t\t<dd>0</dd>\n",
       "\t<dt>CRuns</dt>\n",
       "\t\t<dd>0</dd>\n",
       "\t<dt>CRBI</dt>\n",
       "\t\t<dd>0</dd>\n",
       "\t<dt>CWalks</dt>\n",
       "\t\t<dd>0</dd>\n",
       "\t<dt>League</dt>\n",
       "\t\t<dd>0</dd>\n",
       "\t<dt>Division</dt>\n",
       "\t\t<dd>0</dd>\n",
       "\t<dt>PutOuts</dt>\n",
       "\t\t<dd>0</dd>\n",
       "\t<dt>Assists</dt>\n",
       "\t\t<dd>0</dd>\n",
       "\t<dt>Errors</dt>\n",
       "\t\t<dd>0</dd>\n",
       "\t<dt>Salary</dt>\n",
       "\t\t<dd>59</dd>\n",
       "\t<dt>NewLeague</dt>\n",
       "\t\t<dd>0</dd>\n",
       "</dl>\n"
      ],
      "text/latex": [
       "\\begin{description*}\n",
       "\\item[AtBat] 0\n",
       "\\item[Hits] 0\n",
       "\\item[HmRun] 0\n",
       "\\item[Runs] 0\n",
       "\\item[RBI] 0\n",
       "\\item[Walks] 0\n",
       "\\item[Years] 0\n",
       "\\item[CAtBat] 0\n",
       "\\item[CHits] 0\n",
       "\\item[CHmRun] 0\n",
       "\\item[CRuns] 0\n",
       "\\item[CRBI] 0\n",
       "\\item[CWalks] 0\n",
       "\\item[League] 0\n",
       "\\item[Division] 0\n",
       "\\item[PutOuts] 0\n",
       "\\item[Assists] 0\n",
       "\\item[Errors] 0\n",
       "\\item[Salary] 59\n",
       "\\item[NewLeague] 0\n",
       "\\end{description*}\n"
      ],
      "text/markdown": [
       "AtBat\n",
       ":   0Hits\n",
       ":   0HmRun\n",
       ":   0Runs\n",
       ":   0RBI\n",
       ":   0Walks\n",
       ":   0Years\n",
       ":   0CAtBat\n",
       ":   0CHits\n",
       ":   0CHmRun\n",
       ":   0CRuns\n",
       ":   0CRBI\n",
       ":   0CWalks\n",
       ":   0League\n",
       ":   0Division\n",
       ":   0PutOuts\n",
       ":   0Assists\n",
       ":   0Errors\n",
       ":   0Salary\n",
       ":   59NewLeague\n",
       ":   0\n",
       "\n"
      ],
      "text/plain": [
       "    AtBat      Hits     HmRun      Runs       RBI     Walks     Years    CAtBat \n",
       "        0         0         0         0         0         0         0         0 \n",
       "    CHits    CHmRun     CRuns      CRBI    CWalks    League  Division   PutOuts \n",
       "        0         0         0         0         0         0         0         0 \n",
       "  Assists    Errors    Salary NewLeague \n",
       "        0         0        59         0 "
      ]
     },
     "metadata": {},
     "output_type": "display_data"
    }
   ],
   "source": [
    "colSums(is.na(Hitters))"
   ]
  },
  {
   "cell_type": "markdown",
   "metadata": {},
   "source": [
    "There are 59 players which do not have a value in the `Salary` column, and none of the other columns have null values. Since our goal is to predict a baseball player's salary, we drop the rows which have a missing `Salary` value by using the `na.omit()` function. Note that the `na.omit()` function will drop all of the rows that have missing values in **any** variable."
   ]
  },
  {
   "cell_type": "code",
   "execution_count": 6,
   "metadata": {},
   "outputs": [],
   "source": [
    "Hitters = na.omit(Hitters)"
   ]
  },
  {
   "cell_type": "code",
   "execution_count": 7,
   "metadata": {},
   "outputs": [
    {
     "data": {
      "text/html": [
       "<ol class=list-inline>\n",
       "\t<li>263</li>\n",
       "\t<li>20</li>\n",
       "</ol>\n"
      ],
      "text/latex": [
       "\\begin{enumerate*}\n",
       "\\item 263\n",
       "\\item 20\n",
       "\\end{enumerate*}\n"
      ],
      "text/markdown": [
       "1. 263\n",
       "2. 20\n",
       "\n",
       "\n"
      ],
      "text/plain": [
       "[1] 263  20"
      ]
     },
     "metadata": {},
     "output_type": "display_data"
    }
   ],
   "source": [
    "dim(Hitters)"
   ]
  },
  {
   "cell_type": "code",
   "execution_count": 8,
   "metadata": {},
   "outputs": [
    {
     "data": {
      "text/html": [
       "<dl class=dl-horizontal>\n",
       "\t<dt>AtBat</dt>\n",
       "\t\t<dd>0</dd>\n",
       "\t<dt>Hits</dt>\n",
       "\t\t<dd>0</dd>\n",
       "\t<dt>HmRun</dt>\n",
       "\t\t<dd>0</dd>\n",
       "\t<dt>Runs</dt>\n",
       "\t\t<dd>0</dd>\n",
       "\t<dt>RBI</dt>\n",
       "\t\t<dd>0</dd>\n",
       "\t<dt>Walks</dt>\n",
       "\t\t<dd>0</dd>\n",
       "\t<dt>Years</dt>\n",
       "\t\t<dd>0</dd>\n",
       "\t<dt>CAtBat</dt>\n",
       "\t\t<dd>0</dd>\n",
       "\t<dt>CHits</dt>\n",
       "\t\t<dd>0</dd>\n",
       "\t<dt>CHmRun</dt>\n",
       "\t\t<dd>0</dd>\n",
       "\t<dt>CRuns</dt>\n",
       "\t\t<dd>0</dd>\n",
       "\t<dt>CRBI</dt>\n",
       "\t\t<dd>0</dd>\n",
       "\t<dt>CWalks</dt>\n",
       "\t\t<dd>0</dd>\n",
       "\t<dt>League</dt>\n",
       "\t\t<dd>0</dd>\n",
       "\t<dt>Division</dt>\n",
       "\t\t<dd>0</dd>\n",
       "\t<dt>PutOuts</dt>\n",
       "\t\t<dd>0</dd>\n",
       "\t<dt>Assists</dt>\n",
       "\t\t<dd>0</dd>\n",
       "\t<dt>Errors</dt>\n",
       "\t\t<dd>0</dd>\n",
       "\t<dt>Salary</dt>\n",
       "\t\t<dd>0</dd>\n",
       "\t<dt>NewLeague</dt>\n",
       "\t\t<dd>0</dd>\n",
       "</dl>\n"
      ],
      "text/latex": [
       "\\begin{description*}\n",
       "\\item[AtBat] 0\n",
       "\\item[Hits] 0\n",
       "\\item[HmRun] 0\n",
       "\\item[Runs] 0\n",
       "\\item[RBI] 0\n",
       "\\item[Walks] 0\n",
       "\\item[Years] 0\n",
       "\\item[CAtBat] 0\n",
       "\\item[CHits] 0\n",
       "\\item[CHmRun] 0\n",
       "\\item[CRuns] 0\n",
       "\\item[CRBI] 0\n",
       "\\item[CWalks] 0\n",
       "\\item[League] 0\n",
       "\\item[Division] 0\n",
       "\\item[PutOuts] 0\n",
       "\\item[Assists] 0\n",
       "\\item[Errors] 0\n",
       "\\item[Salary] 0\n",
       "\\item[NewLeague] 0\n",
       "\\end{description*}\n"
      ],
      "text/markdown": [
       "AtBat\n",
       ":   0Hits\n",
       ":   0HmRun\n",
       ":   0Runs\n",
       ":   0RBI\n",
       ":   0Walks\n",
       ":   0Years\n",
       ":   0CAtBat\n",
       ":   0CHits\n",
       ":   0CHmRun\n",
       ":   0CRuns\n",
       ":   0CRBI\n",
       ":   0CWalks\n",
       ":   0League\n",
       ":   0Division\n",
       ":   0PutOuts\n",
       ":   0Assists\n",
       ":   0Errors\n",
       ":   0Salary\n",
       ":   0NewLeague\n",
       ":   0\n",
       "\n"
      ],
      "text/plain": [
       "    AtBat      Hits     HmRun      Runs       RBI     Walks     Years    CAtBat \n",
       "        0         0         0         0         0         0         0         0 \n",
       "    CHits    CHmRun     CRuns      CRBI    CWalks    League  Division   PutOuts \n",
       "        0         0         0         0         0         0         0         0 \n",
       "  Assists    Errors    Salary NewLeague \n",
       "        0         0         0         0 "
      ]
     },
     "metadata": {},
     "output_type": "display_data"
    }
   ],
   "source": [
    "colSums(is.na(Hitters))"
   ]
  },
  {
   "cell_type": "markdown",
   "metadata": {},
   "source": [
    "Now that we have dropped the rows with missing values in the `Hitters` data, we can proceed with the rest of the lab."
   ]
  },
  {
   "cell_type": "markdown",
   "metadata": {},
   "source": [
    "# Part 1: Subset Selection Methods"
   ]
  },
  {
   "cell_type": "markdown",
   "metadata": {},
   "source": [
    "In this section, we focus on performing subset selection using the three main strategies discussed in the chapter: best subset selection, forward stepwise selection, and backward stepwise selection. To do this, we will use the `regsubsets()` function from the `leaps` library."
   ]
  },
  {
   "cell_type": "code",
   "execution_count": 9,
   "metadata": {},
   "outputs": [],
   "source": [
    "library(leaps)"
   ]
  },
  {
   "cell_type": "markdown",
   "metadata": {},
   "source": [
    "## Best Subset Selection"
   ]
  },
  {
   "cell_type": "markdown",
   "metadata": {},
   "source": [
    "First, we use `regsubsets()` to perform best subset selection with the `Hitters` data. Recall that best subset selection follows the following algorithm.\n",
    "\n",
    "1. Let $\\mathcal{M}_0$ denote the *null model*, which contains no predictors. This model simply predicts the sample mean for each observation.\n",
    "\n",
    "2. For $k = 1, 2, \\dots, p$:\n",
    "    1. Fit all $\\binom{p}{k}$ models that contain exactly $k$ predictors.\n",
    "    2. Pick the best among these $\\binom{p}{k}$ models, and call it $\\mathcal{M}_k$. Here *best* is defined as having the smallest residual sum of squares (or equivalently the largest $R^2$ value).\n",
    "\n",
    "3. Select a single best model from among the models $\\mathcal{M}_0, \\dots, \\mathcal{M}_p$ by using cross-validated prediction error, $C_p$ (equivalently Akaike information criterion -- AIC), Bayesian information criterion (BIC), or adjusted $R^2$ value.\n",
    "\n",
    "Conveniently, the `regsubsets()` function uses the same syntax as `lm()`. The `summary()` command then outputs the best set of variables (i.e. the set of variables which results in the lowest residual sum of squares) for each model size."
   ]
  },
  {
   "cell_type": "code",
   "execution_count": 10,
   "metadata": {},
   "outputs": [
    {
     "data": {
      "text/plain": [
       "Subset selection object\n",
       "Call: regsubsets.formula(Salary ~ ., data = Hitters)\n",
       "19 Variables  (and intercept)\n",
       "           Forced in Forced out\n",
       "AtBat          FALSE      FALSE\n",
       "Hits           FALSE      FALSE\n",
       "HmRun          FALSE      FALSE\n",
       "Runs           FALSE      FALSE\n",
       "RBI            FALSE      FALSE\n",
       "Walks          FALSE      FALSE\n",
       "Years          FALSE      FALSE\n",
       "CAtBat         FALSE      FALSE\n",
       "CHits          FALSE      FALSE\n",
       "CHmRun         FALSE      FALSE\n",
       "CRuns          FALSE      FALSE\n",
       "CRBI           FALSE      FALSE\n",
       "CWalks         FALSE      FALSE\n",
       "LeagueN        FALSE      FALSE\n",
       "DivisionW      FALSE      FALSE\n",
       "PutOuts        FALSE      FALSE\n",
       "Assists        FALSE      FALSE\n",
       "Errors         FALSE      FALSE\n",
       "NewLeagueN     FALSE      FALSE\n",
       "1 subsets of each size up to 8\n",
       "Selection Algorithm: exhaustive\n",
       "         AtBat Hits HmRun Runs RBI Walks Years CAtBat CHits CHmRun CRuns CRBI\n",
       "1  ( 1 ) \" \"   \" \"  \" \"   \" \"  \" \" \" \"   \" \"   \" \"    \" \"   \" \"    \" \"   \"*\" \n",
       "2  ( 1 ) \" \"   \"*\"  \" \"   \" \"  \" \" \" \"   \" \"   \" \"    \" \"   \" \"    \" \"   \"*\" \n",
       "3  ( 1 ) \" \"   \"*\"  \" \"   \" \"  \" \" \" \"   \" \"   \" \"    \" \"   \" \"    \" \"   \"*\" \n",
       "4  ( 1 ) \" \"   \"*\"  \" \"   \" \"  \" \" \" \"   \" \"   \" \"    \" \"   \" \"    \" \"   \"*\" \n",
       "5  ( 1 ) \"*\"   \"*\"  \" \"   \" \"  \" \" \" \"   \" \"   \" \"    \" \"   \" \"    \" \"   \"*\" \n",
       "6  ( 1 ) \"*\"   \"*\"  \" \"   \" \"  \" \" \"*\"   \" \"   \" \"    \" \"   \" \"    \" \"   \"*\" \n",
       "7  ( 1 ) \" \"   \"*\"  \" \"   \" \"  \" \" \"*\"   \" \"   \"*\"    \"*\"   \"*\"    \" \"   \" \" \n",
       "8  ( 1 ) \"*\"   \"*\"  \" \"   \" \"  \" \" \"*\"   \" \"   \" \"    \" \"   \"*\"    \"*\"   \" \" \n",
       "         CWalks LeagueN DivisionW PutOuts Assists Errors NewLeagueN\n",
       "1  ( 1 ) \" \"    \" \"     \" \"       \" \"     \" \"     \" \"    \" \"       \n",
       "2  ( 1 ) \" \"    \" \"     \" \"       \" \"     \" \"     \" \"    \" \"       \n",
       "3  ( 1 ) \" \"    \" \"     \" \"       \"*\"     \" \"     \" \"    \" \"       \n",
       "4  ( 1 ) \" \"    \" \"     \"*\"       \"*\"     \" \"     \" \"    \" \"       \n",
       "5  ( 1 ) \" \"    \" \"     \"*\"       \"*\"     \" \"     \" \"    \" \"       \n",
       "6  ( 1 ) \" \"    \" \"     \"*\"       \"*\"     \" \"     \" \"    \" \"       \n",
       "7  ( 1 ) \" \"    \" \"     \"*\"       \"*\"     \" \"     \" \"    \" \"       \n",
       "8  ( 1 ) \"*\"    \" \"     \"*\"       \"*\"     \" \"     \" \"    \" \"       "
      ]
     },
     "metadata": {},
     "output_type": "display_data"
    }
   ],
   "source": [
    "regfit.full = regsubsets(Salary ~ ., data = Hitters)\n",
    "summary(regfit.full)"
   ]
  },
  {
   "cell_type": "markdown",
   "metadata": {},
   "source": [
    "An asterisk indicates that a given variable is included in the corresponding model. For example, the two-variable model which resulted in the lowest RSS is the one using `Hits` and `CRBI` to predict salary. Note that by default, `regsubsets()` only computes up to the best eight-variable model. We can adjust this behavior using the `nvmax` parameter. For instance, we can compute up to the best model using all 19 predictors in the `Hitters` set."
   ]
  },
  {
   "cell_type": "code",
   "execution_count": 11,
   "metadata": {},
   "outputs": [],
   "source": [
    "regfit.full = regsubsets(Salary ~ ., data = Hitters, nvmax = 19)\n",
    "reg.summary = summary(regfit.full)"
   ]
  },
  {
   "cell_type": "markdown",
   "metadata": {},
   "source": [
    "In order to try and select the best *overall* model, the `summary()` function also returns $R^2$, RSS, adjusted $R^2$, $C_p$, and BIC to help us compare models using different numbers of predictors."
   ]
  },
  {
   "cell_type": "code",
   "execution_count": 12,
   "metadata": {},
   "outputs": [
    {
     "data": {
      "text/html": [
       "<ol class=list-inline>\n",
       "\t<li>'which'</li>\n",
       "\t<li>'rsq'</li>\n",
       "\t<li>'rss'</li>\n",
       "\t<li>'adjr2'</li>\n",
       "\t<li>'cp'</li>\n",
       "\t<li>'bic'</li>\n",
       "\t<li>'outmat'</li>\n",
       "\t<li>'obj'</li>\n",
       "</ol>\n"
      ],
      "text/latex": [
       "\\begin{enumerate*}\n",
       "\\item 'which'\n",
       "\\item 'rsq'\n",
       "\\item 'rss'\n",
       "\\item 'adjr2'\n",
       "\\item 'cp'\n",
       "\\item 'bic'\n",
       "\\item 'outmat'\n",
       "\\item 'obj'\n",
       "\\end{enumerate*}\n"
      ],
      "text/markdown": [
       "1. 'which'\n",
       "2. 'rsq'\n",
       "3. 'rss'\n",
       "4. 'adjr2'\n",
       "5. 'cp'\n",
       "6. 'bic'\n",
       "7. 'outmat'\n",
       "8. 'obj'\n",
       "\n",
       "\n"
      ],
      "text/plain": [
       "[1] \"which\"  \"rsq\"    \"rss\"    \"adjr2\"  \"cp\"     \"bic\"    \"outmat\" \"obj\"   "
      ]
     },
     "metadata": {},
     "output_type": "display_data"
    }
   ],
   "source": [
    "names(reg.summary)"
   ]
  },
  {
   "cell_type": "markdown",
   "metadata": {},
   "source": [
    "For example, we can compare the $R^2$ value for the best model of each size and see that it increases from 32% for the best single-variable model up to almost 55% for the model using all of the variables. This agrees with our knowledge that the $R^2$ statistic increases monotonically as more variables are included."
   ]
  },
  {
   "cell_type": "code",
   "execution_count": 13,
   "metadata": {},
   "outputs": [
    {
     "data": {
      "text/html": [
       "<ol class=list-inline>\n",
       "\t<li>0.321450088667894</li>\n",
       "\t<li>0.425223746466778</li>\n",
       "\t<li>0.451429415717957</li>\n",
       "\t<li>0.475406653394787</li>\n",
       "\t<li>0.490803615963518</li>\n",
       "\t<li>0.508714557358996</li>\n",
       "\t<li>0.514122682361273</li>\n",
       "\t<li>0.528556860302574</li>\n",
       "\t<li>0.534612447792431</li>\n",
       "\t<li>0.540494950940798</li>\n",
       "\t<li>0.54261532542542</li>\n",
       "\t<li>0.543630208632163</li>\n",
       "\t<li>0.544457014231977</li>\n",
       "\t<li>0.545216356301489</li>\n",
       "\t<li>0.545469230681164</li>\n",
       "\t<li>0.54576555748528</li>\n",
       "\t<li>0.545951808076699</li>\n",
       "\t<li>0.546094522341906</li>\n",
       "\t<li>0.546115861912532</li>\n",
       "</ol>\n"
      ],
      "text/latex": [
       "\\begin{enumerate*}\n",
       "\\item 0.321450088667894\n",
       "\\item 0.425223746466778\n",
       "\\item 0.451429415717957\n",
       "\\item 0.475406653394787\n",
       "\\item 0.490803615963518\n",
       "\\item 0.508714557358996\n",
       "\\item 0.514122682361273\n",
       "\\item 0.528556860302574\n",
       "\\item 0.534612447792431\n",
       "\\item 0.540494950940798\n",
       "\\item 0.54261532542542\n",
       "\\item 0.543630208632163\n",
       "\\item 0.544457014231977\n",
       "\\item 0.545216356301489\n",
       "\\item 0.545469230681164\n",
       "\\item 0.54576555748528\n",
       "\\item 0.545951808076699\n",
       "\\item 0.546094522341906\n",
       "\\item 0.546115861912532\n",
       "\\end{enumerate*}\n"
      ],
      "text/markdown": [
       "1. 0.321450088667894\n",
       "2. 0.425223746466778\n",
       "3. 0.451429415717957\n",
       "4. 0.475406653394787\n",
       "5. 0.490803615963518\n",
       "6. 0.508714557358996\n",
       "7. 0.514122682361273\n",
       "8. 0.528556860302574\n",
       "9. 0.534612447792431\n",
       "10. 0.540494950940798\n",
       "11. 0.54261532542542\n",
       "12. 0.543630208632163\n",
       "13. 0.544457014231977\n",
       "14. 0.545216356301489\n",
       "15. 0.545469230681164\n",
       "16. 0.54576555748528\n",
       "17. 0.545951808076699\n",
       "18. 0.546094522341906\n",
       "19. 0.546115861912532\n",
       "\n",
       "\n"
      ],
      "text/plain": [
       " [1] 0.3214501 0.4252237 0.4514294 0.4754067 0.4908036 0.5087146 0.5141227\n",
       " [8] 0.5285569 0.5346124 0.5404950 0.5426153 0.5436302 0.5444570 0.5452164\n",
       "[15] 0.5454692 0.5457656 0.5459518 0.5460945 0.5461159"
      ]
     },
     "metadata": {},
     "output_type": "display_data"
    }
   ],
   "source": [
    "reg.summary$rsq"
   ]
  },
  {
   "cell_type": "markdown",
   "metadata": {},
   "source": [
    "Plotting RSS, adjusted $R^2$, $C_p$, and BIC for all of the models at once will help us decide which model to select. Note that we use the parameter `type = \"l\"` to connect the plotted points with lines."
   ]
  },
  {
   "cell_type": "code",
   "execution_count": 14,
   "metadata": {},
   "outputs": [
    {
     "data": {
      "image/png": "[encoded data removed]",
      "text/plain": [
       "plot without title"
      ]
     },
     "metadata": {},
     "output_type": "display_data"
    }
   ],
   "source": [
    "par(mfrow = c(2, 2))\n",
    "plot(reg.summary$rss, xlab = \"Number of variables\", ylab = \"RSS\", type = \"l\")\n",
    "plot(reg.summary$adjr2, xlab = \"Number of variables\", ylab = \"Adjusted RSq\", type = \"l\")\n",
    "plot(reg.summary$cp, xlab = \"Number of variables\", ylab = \"Cp\", type = \"l\")\n",
    "plot(reg.summary$bic, xlab = \"Number of variables\", ylab = \"BIC\", type = \"l\")"
   ]
  },
  {
   "cell_type": "markdown",
   "metadata": {},
   "source": [
    "While the plots on their own are helpful for viewing the overall patterns for each statistic as the number of variables increases, it can be helpful to identify the maximum adjusted $R^2$ value and the minimum $C_p$/BIC values and indicate the corresponding models with dots on the graphs. We can identify the index of the maximum or minimum value in a vector using the `which.max()` and `which.min()` functions, and then use the `points()` command to plot a red dot to indicate the model with the best value for each statistic."
   ]
  },
  {
   "cell_type": "code",
   "execution_count": 15,
   "metadata": {},
   "outputs": [
    {
     "data": {
      "image/png": "[encoded data removed]",
      "text/plain": [
       "plot without title"
      ]
     },
     "metadata": {},
     "output_type": "display_data"
    }
   ],
   "source": [
    "par(mfrow = c(2, 2))\n",
    "plot(reg.summary$rss, xlab = \"Number of variables\", ylab = \"RSS\", type = \"l\")\n",
    "plot(reg.summary$adjr2, xlab = \"Number of variables\", ylab = \"Adjusted RSq\", type = \"l\")\n",
    "points(which.max(reg.summary$adjr2), max(reg.summary$adjr2), col = \"red\", cex = 2, pch = 20)\n",
    "plot(reg.summary$cp, xlab = \"Number of variables\", ylab = \"Cp\", type = \"l\")\n",
    "points(which.min(reg.summary$cp), min(reg.summary$cp), col = \"red\", cex = 2, pch = 20)\n",
    "plot(reg.summary$bic, xlab = \"Number of variables\", ylab = \"BIC\", type = \"l\")\n",
    "points(which.min(reg.summary$bic), min(reg.summary$bic), col = \"red\", cex = 2, pch = 20)"
   ]
  },
  {
   "cell_type": "markdown",
   "metadata": {},
   "source": [
    "The `regsubsets()` function also has a built-in `plot()` command which can be used to display the selected variables for the best model with a given nmber of predictors, ranked according to the various statistics used to compare models of different sizes (BIC, $C_p$, adjusted $R^2$, or AIC). The top row of each plot contains a black square for each variable selected according to the optimal model associated with that statistic. For example, the top row of the plot for $R^2$ has a black square for every variable, as expected."
   ]
  },
  {
   "cell_type": "code",
   "execution_count": 16,
   "metadata": {},
   "outputs": [
    {
     "data": {
      "image/png": "[encoded data removed]",
      "text/plain": [
       "plot without title"
      ]
     },
     "metadata": {},
     "output_type": "display_data"
    }
   ],
   "source": [
    "plot(regfit.full, scale = \"r2\")"
   ]
  },
  {
   "cell_type": "code",
   "execution_count": 17,
   "metadata": {},
   "outputs": [
    {
     "data": {
      "image/png": "[encoded data removed]",
      "text/plain": [
       "plot without title"
      ]
     },
     "metadata": {},
     "output_type": "display_data"
    }
   ],
   "source": [
    "plot(regfit.full, scale = \"adjr2\")"
   ]
  },
  {
   "cell_type": "code",
   "execution_count": 18,
   "metadata": {},
   "outputs": [
    {
     "data": {
      "image/png": "[encoded data removed]",
      "text/plain": [
       "plot without title"
      ]
     },
     "metadata": {},
     "output_type": "display_data"
    }
   ],
   "source": [
    "plot(regfit.full, scale = \"Cp\")"
   ]
  },
  {
   "cell_type": "markdown",
   "metadata": {},
   "source": [
    "Looking at the plot for BIC, we see that there are several models which have a BIC value of close to -150. The model with the lowest BIC value is the six-variable model that uses `AtBat`, `Hits`, `Walks`, `CRBI`, `DivisionW`, and `PutOuts` to predict `Salary`."
   ]
  },
  {
   "cell_type": "code",
   "execution_count": 19,
   "metadata": {},
   "outputs": [
    {
     "data": {
      "image/png": "[encoded data removed]",
      "text/plain": [
       "plot without title"
      ]
     },
     "metadata": {},
     "output_type": "display_data"
    }
   ],
   "source": [
    "plot(regfit.full, scale = \"bic\")"
   ]
  },
  {
   "cell_type": "markdown",
   "metadata": {},
   "source": [
    "If we wish to see the coefficient estimates associated with the best six-variable model, we can use the `coef()` function and pass in the model size as the second parameter."
   ]
  },
  {
   "cell_type": "code",
   "execution_count": 20,
   "metadata": {},
   "outputs": [
    {
     "data": {
      "text/html": [
       "<dl class=dl-horizontal>\n",
       "\t<dt>(Intercept)</dt>\n",
       "\t\t<dd>91.5117981171539</dd>\n",
       "\t<dt>AtBat</dt>\n",
       "\t\t<dd>-1.86858923135561</dd>\n",
       "\t<dt>Hits</dt>\n",
       "\t\t<dd>7.60439763117204</dd>\n",
       "\t<dt>Walks</dt>\n",
       "\t\t<dd>3.69764677424139</dd>\n",
       "\t<dt>CRBI</dt>\n",
       "\t\t<dd>0.643016935097332</dd>\n",
       "\t<dt>DivisionW</dt>\n",
       "\t\t<dd>-122.95153377292</dd>\n",
       "\t<dt>PutOuts</dt>\n",
       "\t\t<dd>0.264307605461511</dd>\n",
       "</dl>\n"
      ],
      "text/latex": [
       "\\begin{description*}\n",
       "\\item[(Intercept)] 91.5117981171539\n",
       "\\item[AtBat] -1.86858923135561\n",
       "\\item[Hits] 7.60439763117204\n",
       "\\item[Walks] 3.69764677424139\n",
       "\\item[CRBI] 0.643016935097332\n",
       "\\item[DivisionW] -122.95153377292\n",
       "\\item[PutOuts] 0.264307605461511\n",
       "\\end{description*}\n"
      ],
      "text/markdown": [
       "(Intercept)\n",
       ":   91.5117981171539AtBat\n",
       ":   -1.86858923135561Hits\n",
       ":   7.60439763117204Walks\n",
       ":   3.69764677424139CRBI\n",
       ":   0.643016935097332DivisionW\n",
       ":   -122.95153377292PutOuts\n",
       ":   0.264307605461511\n",
       "\n"
      ],
      "text/plain": [
       " (Intercept)        AtBat         Hits        Walks         CRBI    DivisionW \n",
       "  91.5117981   -1.8685892    7.6043976    3.6976468    0.6430169 -122.9515338 \n",
       "     PutOuts \n",
       "   0.2643076 "
      ]
     },
     "metadata": {},
     "output_type": "display_data"
    }
   ],
   "source": [
    "coef(regfit.full, 6)"
   ]
  },
  {
   "cell_type": "markdown",
   "metadata": {},
   "source": [
    "## Forward and Backward Stepwise Selection"
   ]
  },
  {
   "cell_type": "markdown",
   "metadata": {},
   "source": [
    "By supplying the appropriate value to the `method` argument for `regsubsets`, we can also perform forward and backward stepwise selection. Recall that forward stepwise subset selection follows the following algorithm.\n",
    "\n",
    "1. Let $\\mathcal{M}_0$ denote the *null model*, which contains no predictors. This model simply predicts the sample mean for each observation.\n",
    "\n",
    "2. For $k = 0, 1, \\dots, p - 1$:\n",
    "    1. Consider all $p - k$ models that augment the predictors in $\\mathcal{M}_k$ with one additional predictor.\n",
    "    2. Pick the best among these $p - k$ models, and call it $\\mathcal{M}_{k + 1}$. Here *best* is defined as having the smallest residual sum of squares (or equivalently the largest $R^2$ value).\n",
    "\n",
    "3. Select a single best model from among the models $\\mathcal{M}_0, \\dots, \\mathcal{M}_p$ by using cross-validated prediction error, $C_p$ (equivalently Akaike information criterion -- AIC), Bayesian information criterion (BIC), or adjusted $R^2$ value."
   ]
  },
  {
   "cell_type": "code",
   "execution_count": 21,
   "metadata": {},
   "outputs": [
    {
     "data": {
      "text/plain": [
       "Subset selection object\n",
       "Call: regsubsets.formula(Salary ~ ., data = Hitters, nvmax = 19, method = \"forward\")\n",
       "19 Variables  (and intercept)\n",
       "           Forced in Forced out\n",
       "AtBat          FALSE      FALSE\n",
       "Hits           FALSE      FALSE\n",
       "HmRun          FALSE      FALSE\n",
       "Runs           FALSE      FALSE\n",
       "RBI            FALSE      FALSE\n",
       "Walks          FALSE      FALSE\n",
       "Years          FALSE      FALSE\n",
       "CAtBat         FALSE      FALSE\n",
       "CHits          FALSE      FALSE\n",
       "CHmRun         FALSE      FALSE\n",
       "CRuns          FALSE      FALSE\n",
       "CRBI           FALSE      FALSE\n",
       "CWalks         FALSE      FALSE\n",
       "LeagueN        FALSE      FALSE\n",
       "DivisionW      FALSE      FALSE\n",
       "PutOuts        FALSE      FALSE\n",
       "Assists        FALSE      FALSE\n",
       "Errors         FALSE      FALSE\n",
       "NewLeagueN     FALSE      FALSE\n",
       "1 subsets of each size up to 19\n",
       "Selection Algorithm: forward\n",
       "          AtBat Hits HmRun Runs RBI Walks Years CAtBat CHits CHmRun CRuns CRBI\n",
       "1  ( 1 )  \" \"   \" \"  \" \"   \" \"  \" \" \" \"   \" \"   \" \"    \" \"   \" \"    \" \"   \"*\" \n",
       "2  ( 1 )  \" \"   \"*\"  \" \"   \" \"  \" \" \" \"   \" \"   \" \"    \" \"   \" \"    \" \"   \"*\" \n",
       "3  ( 1 )  \" \"   \"*\"  \" \"   \" \"  \" \" \" \"   \" \"   \" \"    \" \"   \" \"    \" \"   \"*\" \n",
       "4  ( 1 )  \" \"   \"*\"  \" \"   \" \"  \" \" \" \"   \" \"   \" \"    \" \"   \" \"    \" \"   \"*\" \n",
       "5  ( 1 )  \"*\"   \"*\"  \" \"   \" \"  \" \" \" \"   \" \"   \" \"    \" \"   \" \"    \" \"   \"*\" \n",
       "6  ( 1 )  \"*\"   \"*\"  \" \"   \" \"  \" \" \"*\"   \" \"   \" \"    \" \"   \" \"    \" \"   \"*\" \n",
       "7  ( 1 )  \"*\"   \"*\"  \" \"   \" \"  \" \" \"*\"   \" \"   \" \"    \" \"   \" \"    \" \"   \"*\" \n",
       "8  ( 1 )  \"*\"   \"*\"  \" \"   \" \"  \" \" \"*\"   \" \"   \" \"    \" \"   \" \"    \"*\"   \"*\" \n",
       "9  ( 1 )  \"*\"   \"*\"  \" \"   \" \"  \" \" \"*\"   \" \"   \"*\"    \" \"   \" \"    \"*\"   \"*\" \n",
       "10  ( 1 ) \"*\"   \"*\"  \" \"   \" \"  \" \" \"*\"   \" \"   \"*\"    \" \"   \" \"    \"*\"   \"*\" \n",
       "11  ( 1 ) \"*\"   \"*\"  \" \"   \" \"  \" \" \"*\"   \" \"   \"*\"    \" \"   \" \"    \"*\"   \"*\" \n",
       "12  ( 1 ) \"*\"   \"*\"  \" \"   \"*\"  \" \" \"*\"   \" \"   \"*\"    \" \"   \" \"    \"*\"   \"*\" \n",
       "13  ( 1 ) \"*\"   \"*\"  \" \"   \"*\"  \" \" \"*\"   \" \"   \"*\"    \" \"   \" \"    \"*\"   \"*\" \n",
       "14  ( 1 ) \"*\"   \"*\"  \"*\"   \"*\"  \" \" \"*\"   \" \"   \"*\"    \" \"   \" \"    \"*\"   \"*\" \n",
       "15  ( 1 ) \"*\"   \"*\"  \"*\"   \"*\"  \" \" \"*\"   \" \"   \"*\"    \"*\"   \" \"    \"*\"   \"*\" \n",
       "16  ( 1 ) \"*\"   \"*\"  \"*\"   \"*\"  \"*\" \"*\"   \" \"   \"*\"    \"*\"   \" \"    \"*\"   \"*\" \n",
       "17  ( 1 ) \"*\"   \"*\"  \"*\"   \"*\"  \"*\" \"*\"   \" \"   \"*\"    \"*\"   \" \"    \"*\"   \"*\" \n",
       "18  ( 1 ) \"*\"   \"*\"  \"*\"   \"*\"  \"*\" \"*\"   \"*\"   \"*\"    \"*\"   \" \"    \"*\"   \"*\" \n",
       "19  ( 1 ) \"*\"   \"*\"  \"*\"   \"*\"  \"*\" \"*\"   \"*\"   \"*\"    \"*\"   \"*\"    \"*\"   \"*\" \n",
       "          CWalks LeagueN DivisionW PutOuts Assists Errors NewLeagueN\n",
       "1  ( 1 )  \" \"    \" \"     \" \"       \" \"     \" \"     \" \"    \" \"       \n",
       "2  ( 1 )  \" \"    \" \"     \" \"       \" \"     \" \"     \" \"    \" \"       \n",
       "3  ( 1 )  \" \"    \" \"     \" \"       \"*\"     \" \"     \" \"    \" \"       \n",
       "4  ( 1 )  \" \"    \" \"     \"*\"       \"*\"     \" \"     \" \"    \" \"       \n",
       "5  ( 1 )  \" \"    \" \"     \"*\"       \"*\"     \" \"     \" \"    \" \"       \n",
       "6  ( 1 )  \" \"    \" \"     \"*\"       \"*\"     \" \"     \" \"    \" \"       \n",
       "7  ( 1 )  \"*\"    \" \"     \"*\"       \"*\"     \" \"     \" \"    \" \"       \n",
       "8  ( 1 )  \"*\"    \" \"     \"*\"       \"*\"     \" \"     \" \"    \" \"       \n",
       "9  ( 1 )  \"*\"    \" \"     \"*\"       \"*\"     \" \"     \" \"    \" \"       \n",
       "10  ( 1 ) \"*\"    \" \"     \"*\"       \"*\"     \"*\"     \" \"    \" \"       \n",
       "11  ( 1 ) \"*\"    \"*\"     \"*\"       \"*\"     \"*\"     \" \"    \" \"       \n",
       "12  ( 1 ) \"*\"    \"*\"     \"*\"       \"*\"     \"*\"     \" \"    \" \"       \n",
       "13  ( 1 ) \"*\"    \"*\"     \"*\"       \"*\"     \"*\"     \"*\"    \" \"       \n",
       "14  ( 1 ) \"*\"    \"*\"     \"*\"       \"*\"     \"*\"     \"*\"    \" \"       \n",
       "15  ( 1 ) \"*\"    \"*\"     \"*\"       \"*\"     \"*\"     \"*\"    \" \"       \n",
       "16  ( 1 ) \"*\"    \"*\"     \"*\"       \"*\"     \"*\"     \"*\"    \" \"       \n",
       "17  ( 1 ) \"*\"    \"*\"     \"*\"       \"*\"     \"*\"     \"*\"    \"*\"       \n",
       "18  ( 1 ) \"*\"    \"*\"     \"*\"       \"*\"     \"*\"     \"*\"    \"*\"       \n",
       "19  ( 1 ) \"*\"    \"*\"     \"*\"       \"*\"     \"*\"     \"*\"    \"*\"       "
      ]
     },
     "metadata": {},
     "output_type": "display_data"
    }
   ],
   "source": [
    "regfit.fwd = regsubsets(Salary ~ ., data = Hitters, nvmax = 19, method = \"forward\")\n",
    "summary(regfit.fwd)"
   ]
  },
  {
   "cell_type": "markdown",
   "metadata": {},
   "source": [
    "With forward stepwise selection, we can see that the best one-variable model uses only `CRBI`, while the best two-variable model uses `CRBI` and `Hits`.\n",
    "\n",
    "Now that we have performed forward stepwise selection with `regsubsets`, we perform backward stepwise selection. Recall that backward stepwise subset selection follows the following algorithm.\n",
    "\n",
    "1. Let $\\mathcal{M}_p$ denote the *full model*, which contains all $p$ predictors.\n",
    "\n",
    "2. For $k = p, p - 1, \\dots, 1$:\n",
    "    1. Consider all $k$ models that contain all but one of the the predictors in $\\mathcal{M}_k$, for a total of $k - 1$ predictors.\n",
    "    2. Pick the best among these $k$ models, and call it $\\mathcal{M}_{k - 1}$. Here *best* is defined as having the smallest residual sum of squares (or equivalently the largest $R^2$ value).\n",
    "\n",
    "3. Select a single best model from among the models $\\mathcal{M}_0, \\dots, \\mathcal{M}_p$ by using cross-validated prediction error, $C_p$ (equivalently Akaike information criterion -- AIC), Bayesian information criterion (BIC), or adjusted $R^2$ value."
   ]
  },
  {
   "cell_type": "code",
   "execution_count": 22,
   "metadata": {},
   "outputs": [
    {
     "data": {
      "text/plain": [
       "Subset selection object\n",
       "Call: regsubsets.formula(Salary ~ ., data = Hitters, nvmax = 19, method = \"backward\")\n",
       "19 Variables  (and intercept)\n",
       "           Forced in Forced out\n",
       "AtBat          FALSE      FALSE\n",
       "Hits           FALSE      FALSE\n",
       "HmRun          FALSE      FALSE\n",
       "Runs           FALSE      FALSE\n",
       "RBI            FALSE      FALSE\n",
       "Walks          FALSE      FALSE\n",
       "Years          FALSE      FALSE\n",
       "CAtBat         FALSE      FALSE\n",
       "CHits          FALSE      FALSE\n",
       "CHmRun         FALSE      FALSE\n",
       "CRuns          FALSE      FALSE\n",
       "CRBI           FALSE      FALSE\n",
       "CWalks         FALSE      FALSE\n",
       "LeagueN        FALSE      FALSE\n",
       "DivisionW      FALSE      FALSE\n",
       "PutOuts        FALSE      FALSE\n",
       "Assists        FALSE      FALSE\n",
       "Errors         FALSE      FALSE\n",
       "NewLeagueN     FALSE      FALSE\n",
       "1 subsets of each size up to 19\n",
       "Selection Algorithm: backward\n",
       "          AtBat Hits HmRun Runs RBI Walks Years CAtBat CHits CHmRun CRuns CRBI\n",
       "1  ( 1 )  \" \"   \" \"  \" \"   \" \"  \" \" \" \"   \" \"   \" \"    \" \"   \" \"    \"*\"   \" \" \n",
       "2  ( 1 )  \" \"   \"*\"  \" \"   \" \"  \" \" \" \"   \" \"   \" \"    \" \"   \" \"    \"*\"   \" \" \n",
       "3  ( 1 )  \" \"   \"*\"  \" \"   \" \"  \" \" \" \"   \" \"   \" \"    \" \"   \" \"    \"*\"   \" \" \n",
       "4  ( 1 )  \"*\"   \"*\"  \" \"   \" \"  \" \" \" \"   \" \"   \" \"    \" \"   \" \"    \"*\"   \" \" \n",
       "5  ( 1 )  \"*\"   \"*\"  \" \"   \" \"  \" \" \"*\"   \" \"   \" \"    \" \"   \" \"    \"*\"   \" \" \n",
       "6  ( 1 )  \"*\"   \"*\"  \" \"   \" \"  \" \" \"*\"   \" \"   \" \"    \" \"   \" \"    \"*\"   \" \" \n",
       "7  ( 1 )  \"*\"   \"*\"  \" \"   \" \"  \" \" \"*\"   \" \"   \" \"    \" \"   \" \"    \"*\"   \" \" \n",
       "8  ( 1 )  \"*\"   \"*\"  \" \"   \" \"  \" \" \"*\"   \" \"   \" \"    \" \"   \" \"    \"*\"   \"*\" \n",
       "9  ( 1 )  \"*\"   \"*\"  \" \"   \" \"  \" \" \"*\"   \" \"   \"*\"    \" \"   \" \"    \"*\"   \"*\" \n",
       "10  ( 1 ) \"*\"   \"*\"  \" \"   \" \"  \" \" \"*\"   \" \"   \"*\"    \" \"   \" \"    \"*\"   \"*\" \n",
       "11  ( 1 ) \"*\"   \"*\"  \" \"   \" \"  \" \" \"*\"   \" \"   \"*\"    \" \"   \" \"    \"*\"   \"*\" \n",
       "12  ( 1 ) \"*\"   \"*\"  \" \"   \"*\"  \" \" \"*\"   \" \"   \"*\"    \" \"   \" \"    \"*\"   \"*\" \n",
       "13  ( 1 ) \"*\"   \"*\"  \" \"   \"*\"  \" \" \"*\"   \" \"   \"*\"    \" \"   \" \"    \"*\"   \"*\" \n",
       "14  ( 1 ) \"*\"   \"*\"  \"*\"   \"*\"  \" \" \"*\"   \" \"   \"*\"    \" \"   \" \"    \"*\"   \"*\" \n",
       "15  ( 1 ) \"*\"   \"*\"  \"*\"   \"*\"  \" \" \"*\"   \" \"   \"*\"    \"*\"   \" \"    \"*\"   \"*\" \n",
       "16  ( 1 ) \"*\"   \"*\"  \"*\"   \"*\"  \"*\" \"*\"   \" \"   \"*\"    \"*\"   \" \"    \"*\"   \"*\" \n",
       "17  ( 1 ) \"*\"   \"*\"  \"*\"   \"*\"  \"*\" \"*\"   \" \"   \"*\"    \"*\"   \" \"    \"*\"   \"*\" \n",
       "18  ( 1 ) \"*\"   \"*\"  \"*\"   \"*\"  \"*\" \"*\"   \"*\"   \"*\"    \"*\"   \" \"    \"*\"   \"*\" \n",
       "19  ( 1 ) \"*\"   \"*\"  \"*\"   \"*\"  \"*\" \"*\"   \"*\"   \"*\"    \"*\"   \"*\"    \"*\"   \"*\" \n",
       "          CWalks LeagueN DivisionW PutOuts Assists Errors NewLeagueN\n",
       "1  ( 1 )  \" \"    \" \"     \" \"       \" \"     \" \"     \" \"    \" \"       \n",
       "2  ( 1 )  \" \"    \" \"     \" \"       \" \"     \" \"     \" \"    \" \"       \n",
       "3  ( 1 )  \" \"    \" \"     \" \"       \"*\"     \" \"     \" \"    \" \"       \n",
       "4  ( 1 )  \" \"    \" \"     \" \"       \"*\"     \" \"     \" \"    \" \"       \n",
       "5  ( 1 )  \" \"    \" \"     \" \"       \"*\"     \" \"     \" \"    \" \"       \n",
       "6  ( 1 )  \" \"    \" \"     \"*\"       \"*\"     \" \"     \" \"    \" \"       \n",
       "7  ( 1 )  \"*\"    \" \"     \"*\"       \"*\"     \" \"     \" \"    \" \"       \n",
       "8  ( 1 )  \"*\"    \" \"     \"*\"       \"*\"     \" \"     \" \"    \" \"       \n",
       "9  ( 1 )  \"*\"    \" \"     \"*\"       \"*\"     \" \"     \" \"    \" \"       \n",
       "10  ( 1 ) \"*\"    \" \"     \"*\"       \"*\"     \"*\"     \" \"    \" \"       \n",
       "11  ( 1 ) \"*\"    \"*\"     \"*\"       \"*\"     \"*\"     \" \"    \" \"       \n",
       "12  ( 1 ) \"*\"    \"*\"     \"*\"       \"*\"     \"*\"     \" \"    \" \"       \n",
       "13  ( 1 ) \"*\"    \"*\"     \"*\"       \"*\"     \"*\"     \"*\"    \" \"       \n",
       "14  ( 1 ) \"*\"    \"*\"     \"*\"       \"*\"     \"*\"     \"*\"    \" \"       \n",
       "15  ( 1 ) \"*\"    \"*\"     \"*\"       \"*\"     \"*\"     \"*\"    \" \"       \n",
       "16  ( 1 ) \"*\"    \"*\"     \"*\"       \"*\"     \"*\"     \"*\"    \" \"       \n",
       "17  ( 1 ) \"*\"    \"*\"     \"*\"       \"*\"     \"*\"     \"*\"    \"*\"       \n",
       "18  ( 1 ) \"*\"    \"*\"     \"*\"       \"*\"     \"*\"     \"*\"    \"*\"       \n",
       "19  ( 1 ) \"*\"    \"*\"     \"*\"       \"*\"     \"*\"     \"*\"    \"*\"       "
      ]
     },
     "metadata": {},
     "output_type": "display_data"
    }
   ],
   "source": [
    "regfit.bwd = regsubsets(Salary ~ ., data = Hitters, nvmax = 19, method = \"backward\")\n",
    "summary(regfit.bwd)"
   ]
  },
  {
   "cell_type": "markdown",
   "metadata": {},
   "source": [
    "We can check that for this data the best one-variable through six-variable models are identical for best subset and forward stepwise selection. However, we can see that the three methods of variable selection differ for the best seven-variable model."
   ]
  },
  {
   "cell_type": "code",
   "execution_count": 23,
   "metadata": {},
   "outputs": [
    {
     "data": {
      "text/html": [
       "<dl class=dl-horizontal>\n",
       "\t<dt>(Intercept)</dt>\n",
       "\t\t<dd>79.4509472435319</dd>\n",
       "\t<dt>Hits</dt>\n",
       "\t\t<dd>1.28335125463328</dd>\n",
       "\t<dt>Walks</dt>\n",
       "\t\t<dd>3.22742638972714</dd>\n",
       "\t<dt>CAtBat</dt>\n",
       "\t\t<dd>-0.375235019565453</dd>\n",
       "\t<dt>CHits</dt>\n",
       "\t\t<dd>1.49570730989869</dd>\n",
       "\t<dt>CHmRun</dt>\n",
       "\t\t<dd>1.44205381889666</dd>\n",
       "\t<dt>DivisionW</dt>\n",
       "\t\t<dd>-129.986643165116</dd>\n",
       "\t<dt>PutOuts</dt>\n",
       "\t\t<dd>0.236681317525621</dd>\n",
       "</dl>\n"
      ],
      "text/latex": [
       "\\begin{description*}\n",
       "\\item[(Intercept)] 79.4509472435319\n",
       "\\item[Hits] 1.28335125463328\n",
       "\\item[Walks] 3.22742638972714\n",
       "\\item[CAtBat] -0.375235019565453\n",
       "\\item[CHits] 1.49570730989869\n",
       "\\item[CHmRun] 1.44205381889666\n",
       "\\item[DivisionW] -129.986643165116\n",
       "\\item[PutOuts] 0.236681317525621\n",
       "\\end{description*}\n"
      ],
      "text/markdown": [
       "(Intercept)\n",
       ":   79.4509472435319Hits\n",
       ":   1.28335125463328Walks\n",
       ":   3.22742638972714CAtBat\n",
       ":   -0.375235019565453CHits\n",
       ":   1.49570730989869CHmRun\n",
       ":   1.44205381889666DivisionW\n",
       ":   -129.986643165116PutOuts\n",
       ":   0.236681317525621\n",
       "\n"
      ],
      "text/plain": [
       " (Intercept)         Hits        Walks       CAtBat        CHits       CHmRun \n",
       "  79.4509472    1.2833513    3.2274264   -0.3752350    1.4957073    1.4420538 \n",
       "   DivisionW      PutOuts \n",
       "-129.9866432    0.2366813 "
      ]
     },
     "metadata": {},
     "output_type": "display_data"
    }
   ],
   "source": [
    "coef(regfit.full, 7)"
   ]
  },
  {
   "cell_type": "code",
   "execution_count": 24,
   "metadata": {},
   "outputs": [
    {
     "data": {
      "text/html": [
       "<dl class=dl-horizontal>\n",
       "\t<dt>(Intercept)</dt>\n",
       "\t\t<dd>109.787306240078</dd>\n",
       "\t<dt>AtBat</dt>\n",
       "\t\t<dd>-1.95888512315655</dd>\n",
       "\t<dt>Hits</dt>\n",
       "\t\t<dd>7.44987721841218</dd>\n",
       "\t<dt>Walks</dt>\n",
       "\t\t<dd>4.91314009272066</dd>\n",
       "\t<dt>CRBI</dt>\n",
       "\t\t<dd>0.853762209061578</dd>\n",
       "\t<dt>CWalks</dt>\n",
       "\t\t<dd>-0.305307000381738</dd>\n",
       "\t<dt>DivisionW</dt>\n",
       "\t\t<dd>-127.122392777488</dd>\n",
       "\t<dt>PutOuts</dt>\n",
       "\t\t<dd>0.253340431147386</dd>\n",
       "</dl>\n"
      ],
      "text/latex": [
       "\\begin{description*}\n",
       "\\item[(Intercept)] 109.787306240078\n",
       "\\item[AtBat] -1.95888512315655\n",
       "\\item[Hits] 7.44987721841218\n",
       "\\item[Walks] 4.91314009272066\n",
       "\\item[CRBI] 0.853762209061578\n",
       "\\item[CWalks] -0.305307000381738\n",
       "\\item[DivisionW] -127.122392777488\n",
       "\\item[PutOuts] 0.253340431147386\n",
       "\\end{description*}\n"
      ],
      "text/markdown": [
       "(Intercept)\n",
       ":   109.787306240078AtBat\n",
       ":   -1.95888512315655Hits\n",
       ":   7.44987721841218Walks\n",
       ":   4.91314009272066CRBI\n",
       ":   0.853762209061578CWalks\n",
       ":   -0.305307000381738DivisionW\n",
       ":   -127.122392777488PutOuts\n",
       ":   0.253340431147386\n",
       "\n"
      ],
      "text/plain": [
       " (Intercept)        AtBat         Hits        Walks         CRBI       CWalks \n",
       " 109.7873062   -1.9588851    7.4498772    4.9131401    0.8537622   -0.3053070 \n",
       "   DivisionW      PutOuts \n",
       "-127.1223928    0.2533404 "
      ]
     },
     "metadata": {},
     "output_type": "display_data"
    }
   ],
   "source": [
    "coef(regfit.fwd, 7)"
   ]
  },
  {
   "cell_type": "code",
   "execution_count": 25,
   "metadata": {},
   "outputs": [
    {
     "data": {
      "text/html": [
       "<dl class=dl-horizontal>\n",
       "\t<dt>(Intercept)</dt>\n",
       "\t\t<dd>105.648748778828</dd>\n",
       "\t<dt>AtBat</dt>\n",
       "\t\t<dd>-1.97628381026618</dd>\n",
       "\t<dt>Hits</dt>\n",
       "\t\t<dd>6.75749144281392</dd>\n",
       "\t<dt>Walks</dt>\n",
       "\t\t<dd>6.05586912154598</dd>\n",
       "\t<dt>CRuns</dt>\n",
       "\t\t<dd>1.12930946903271</dd>\n",
       "\t<dt>CWalks</dt>\n",
       "\t\t<dd>-0.71633458662198</dd>\n",
       "\t<dt>DivisionW</dt>\n",
       "\t\t<dd>-116.16921690431</dd>\n",
       "\t<dt>PutOuts</dt>\n",
       "\t\t<dd>0.302884743257576</dd>\n",
       "</dl>\n"
      ],
      "text/latex": [
       "\\begin{description*}\n",
       "\\item[(Intercept)] 105.648748778828\n",
       "\\item[AtBat] -1.97628381026618\n",
       "\\item[Hits] 6.75749144281392\n",
       "\\item[Walks] 6.05586912154598\n",
       "\\item[CRuns] 1.12930946903271\n",
       "\\item[CWalks] -0.71633458662198\n",
       "\\item[DivisionW] -116.16921690431\n",
       "\\item[PutOuts] 0.302884743257576\n",
       "\\end{description*}\n"
      ],
      "text/markdown": [
       "(Intercept)\n",
       ":   105.648748778828AtBat\n",
       ":   -1.97628381026618Hits\n",
       ":   6.75749144281392Walks\n",
       ":   6.05586912154598CRuns\n",
       ":   1.12930946903271CWalks\n",
       ":   -0.71633458662198DivisionW\n",
       ":   -116.16921690431PutOuts\n",
       ":   0.302884743257576\n",
       "\n"
      ],
      "text/plain": [
       " (Intercept)        AtBat         Hits        Walks        CRuns       CWalks \n",
       " 105.6487488   -1.9762838    6.7574914    6.0558691    1.1293095   -0.7163346 \n",
       "   DivisionW      PutOuts \n",
       "-116.1692169    0.3028847 "
      ]
     },
     "metadata": {},
     "output_type": "display_data"
    }
   ],
   "source": [
    "coef(regfit.bwd, 7)"
   ]
  },
  {
   "cell_type": "markdown",
   "metadata": {},
   "source": [
    "## Choosing Among Models Using the Validation Set Approach and Cross-Validation"
   ]
  },
  {
   "cell_type": "markdown",
   "metadata": {},
   "source": [
    "In the previous sections, we saw how to use $C_p$, BIC, and adjusted $R^2$ to choose among a set of models of different sizes. Now we will explore how to do this using a validation set and then using cross-validation.\n",
    "\n",
    "It is important to note that we must use *only the training observations* to perform all aspects of model fitting in order to obtain accurate estimates of the test error. This includes the step of variable selection. In other words, we use *only the training observations* to pick the best model for each size. If we use the full data set to perform the best subset selection step, then the validation set and cross-validation errors will not be accurate estimates of the test error.\n",
    "\n",
    "The first step in using the validation set approach is splitting the observations into a training set and a test set. In the previous lab we did this using the `sample()` function to create a vector that corresponds to the indices of the observations in the training set. This vector then was passed to the `subset` argument of our desired estimator function. In this lab we will instead create a boolean mask vector to apply to the `Hitters` data, since `regsubsets()` does not have a `subset` argument. The vector `train` will have a `TRUE` for the observations in the training set and `FALSE` otherwise. The `test` vector is the boolean inverse of the `train` vector -- it will have `TRUE` for observations in the test set and `FALSE` otherwise. To conveniently take the invert a vector of booleans, we can use the `!` command. Note that as usual, we set a random seed to ensure consistency for the training/test set split."
   ]
  },
  {
   "cell_type": "code",
   "execution_count": 26,
   "metadata": {},
   "outputs": [],
   "source": [
    "set.seed(1)\n",
    "train = sample(c(TRUE, FALSE), nrow(Hitters), rep = TRUE)\n",
    "test = (!train)"
   ]
  },
  {
   "cell_type": "markdown",
   "metadata": {},
   "source": [
    "Once we have created the mask vectors, we apply `regsubsets()` to the training set in order to perform best subset selection."
   ]
  },
  {
   "cell_type": "code",
   "execution_count": 27,
   "metadata": {},
   "outputs": [],
   "source": [
    "regfit.best = regsubsets(Salary ~ ., data = Hitters[train, ], nvmax = 19)"
   ]
  },
  {
   "cell_type": "markdown",
   "metadata": {},
   "source": [
    "Now we compute the validation set error for the best model of each size. Our first step is to make a model matrix (also known as a design matrix) from the test data. A model matrix is simply a matrix with each row corresponding to an observation and each column corresponding to a predictor or transformation of some number of predictors. This is done using the `model.matrix()` function, which conveniently expands categorical predictors to a set of dummy variables (depending on the encoding) and also expands interaction terms. The `model.matrix()` function supports the usual R formula syntax, so it is quite handy for building an $X$ matrix from data to then use in a regression package."
   ]
  },
  {
   "cell_type": "code",
   "execution_count": 28,
   "metadata": {},
   "outputs": [],
   "source": [
    "test.mat = model.matrix(Salary ~ ., data = Hitters[test, ])"
   ]
  },
  {
   "cell_type": "code",
   "execution_count": 29,
   "metadata": {
    "scrolled": true
   },
   "outputs": [
    {
     "data": {
      "text/html": [
       "<table>\n",
       "<thead><tr><th></th><th scope=col>(Intercept)</th><th scope=col>AtBat</th><th scope=col>Hits</th><th scope=col>HmRun</th><th scope=col>Runs</th><th scope=col>RBI</th><th scope=col>Walks</th><th scope=col>Years</th><th scope=col>CAtBat</th><th scope=col>CHits</th><th scope=col>CHmRun</th><th scope=col>CRuns</th><th scope=col>CRBI</th><th scope=col>CWalks</th><th scope=col>LeagueN</th><th scope=col>DivisionW</th><th scope=col>PutOuts</th><th scope=col>Assists</th><th scope=col>Errors</th><th scope=col>NewLeagueN</th></tr></thead>\n",
       "<tbody>\n",
       "\t<tr><th scope=row>-Alvin Davis</th><td>1   </td><td>479 </td><td>130 </td><td>18  </td><td> 66 </td><td>72  </td><td>76  </td><td> 3  </td><td>1624</td><td> 457</td><td> 63 </td><td>224 </td><td>266 </td><td>263 </td><td>0   </td><td>1   </td><td>880 </td><td> 82 </td><td>14  </td><td>0   </td></tr>\n",
       "\t<tr><th scope=row>-Alfredo Griffin</th><td>1   </td><td>594 </td><td>169 </td><td> 4  </td><td> 74 </td><td>51  </td><td>35  </td><td>11  </td><td>4408</td><td>1133</td><td> 19 </td><td>501 </td><td>336 </td><td>194 </td><td>0   </td><td>1   </td><td>282 </td><td>421 </td><td>25  </td><td>0   </td></tr>\n",
       "\t<tr><th scope=row>-Andre Thornton</th><td>1   </td><td>401 </td><td> 92 </td><td>17  </td><td> 49 </td><td>66  </td><td>65  </td><td>13  </td><td>5206</td><td>1332</td><td>253 </td><td>784 </td><td>890 </td><td>866 </td><td>0   </td><td>0   </td><td>  0 </td><td>  0 </td><td> 0  </td><td>0   </td></tr>\n",
       "\t<tr><th scope=row>-Alan Trammell</th><td>1   </td><td>574 </td><td>159 </td><td>21  </td><td>107 </td><td>75  </td><td>59  </td><td>10  </td><td>4631</td><td>1300</td><td> 90 </td><td>702 </td><td>504 </td><td>488 </td><td>0   </td><td>0   </td><td>238 </td><td>445 </td><td>22  </td><td>0   </td></tr>\n",
       "\t<tr><th scope=row>-Buddy Biancalana</th><td>1   </td><td>190 </td><td> 46 </td><td> 2  </td><td> 24 </td><td> 8  </td><td>15  </td><td> 5  </td><td> 479</td><td> 102</td><td>  5 </td><td> 65 </td><td> 23 </td><td> 39 </td><td>0   </td><td>1   </td><td>102 </td><td>177 </td><td>16  </td><td>0   </td></tr>\n",
       "\t<tr><th scope=row>-Bruce Bochy</th><td>1   </td><td>127 </td><td> 32 </td><td> 8  </td><td> 16 </td><td>22  </td><td>14  </td><td> 8  </td><td> 727</td><td> 180</td><td> 24 </td><td> 67 </td><td> 82 </td><td> 56 </td><td>1   </td><td>1   </td><td>202 </td><td> 22 </td><td> 2  </td><td>1   </td></tr>\n",
       "</tbody>\n",
       "</table>\n"
      ],
      "text/latex": [
       "\\begin{tabular}{r|llllllllllllllllllll}\n",
       "  & (Intercept) & AtBat & Hits & HmRun & Runs & RBI & Walks & Years & CAtBat & CHits & CHmRun & CRuns & CRBI & CWalks & LeagueN & DivisionW & PutOuts & Assists & Errors & NewLeagueN\\\\\n",
       "\\hline\n",
       "\t-Alvin Davis & 1    & 479  & 130  & 18   &  66  & 72   & 76   &  3   & 1624 &  457 &  63  & 224  & 266  & 263  & 0    & 1    & 880  &  82  & 14   & 0   \\\\\n",
       "\t-Alfredo Griffin & 1    & 594  & 169  &  4   &  74  & 51   & 35   & 11   & 4408 & 1133 &  19  & 501  & 336  & 194  & 0    & 1    & 282  & 421  & 25   & 0   \\\\\n",
       "\t-Andre Thornton & 1    & 401  &  92  & 17   &  49  & 66   & 65   & 13   & 5206 & 1332 & 253  & 784  & 890  & 866  & 0    & 0    &   0  &   0  &  0   & 0   \\\\\n",
       "\t-Alan Trammell & 1    & 574  & 159  & 21   & 107  & 75   & 59   & 10   & 4631 & 1300 &  90  & 702  & 504  & 488  & 0    & 0    & 238  & 445  & 22   & 0   \\\\\n",
       "\t-Buddy Biancalana & 1    & 190  &  46  &  2   &  24  &  8   & 15   &  5   &  479 &  102 &   5  &  65  &  23  &  39  & 0    & 1    & 102  & 177  & 16   & 0   \\\\\n",
       "\t-Bruce Bochy & 1    & 127  &  32  &  8   &  16  & 22   & 14   &  8   &  727 &  180 &  24  &  67  &  82  &  56  & 1    & 1    & 202  &  22  &  2   & 1   \\\\\n",
       "\\end{tabular}\n"
      ],
      "text/markdown": [
       "\n",
       "| <!--/--> | (Intercept) | AtBat | Hits | HmRun | Runs | RBI | Walks | Years | CAtBat | CHits | CHmRun | CRuns | CRBI | CWalks | LeagueN | DivisionW | PutOuts | Assists | Errors | NewLeagueN |\n",
       "|---|---|---|---|---|---|---|---|---|---|---|---|---|---|---|---|---|---|---|---|---|\n",
       "| -Alvin Davis | 1    | 479  | 130  | 18   |  66  | 72   | 76   |  3   | 1624 |  457 |  63  | 224  | 266  | 263  | 0    | 1    | 880  |  82  | 14   | 0    |\n",
       "| -Alfredo Griffin | 1    | 594  | 169  |  4   |  74  | 51   | 35   | 11   | 4408 | 1133 |  19  | 501  | 336  | 194  | 0    | 1    | 282  | 421  | 25   | 0    |\n",
       "| -Andre Thornton | 1    | 401  |  92  | 17   |  49  | 66   | 65   | 13   | 5206 | 1332 | 253  | 784  | 890  | 866  | 0    | 0    |   0  |   0  |  0   | 0    |\n",
       "| -Alan Trammell | 1    | 574  | 159  | 21   | 107  | 75   | 59   | 10   | 4631 | 1300 |  90  | 702  | 504  | 488  | 0    | 0    | 238  | 445  | 22   | 0    |\n",
       "| -Buddy Biancalana | 1    | 190  |  46  |  2   |  24  |  8   | 15   |  5   |  479 |  102 |   5  |  65  |  23  |  39  | 0    | 1    | 102  | 177  | 16   | 0    |\n",
       "| -Bruce Bochy | 1    | 127  |  32  |  8   |  16  | 22   | 14   |  8   |  727 |  180 |  24  |  67  |  82  |  56  | 1    | 1    | 202  |  22  |  2   | 1    |\n",
       "\n"
      ],
      "text/plain": [
       "                  (Intercept) AtBat Hits HmRun Runs RBI Walks Years CAtBat\n",
       "-Alvin Davis      1           479   130  18     66  72  76     3    1624  \n",
       "-Alfredo Griffin  1           594   169   4     74  51  35    11    4408  \n",
       "-Andre Thornton   1           401    92  17     49  66  65    13    5206  \n",
       "-Alan Trammell    1           574   159  21    107  75  59    10    4631  \n",
       "-Buddy Biancalana 1           190    46   2     24   8  15     5     479  \n",
       "-Bruce Bochy      1           127    32   8     16  22  14     8     727  \n",
       "                  CHits CHmRun CRuns CRBI CWalks LeagueN DivisionW PutOuts\n",
       "-Alvin Davis       457   63    224   266  263    0       1         880    \n",
       "-Alfredo Griffin  1133   19    501   336  194    0       1         282    \n",
       "-Andre Thornton   1332  253    784   890  866    0       0           0    \n",
       "-Alan Trammell    1300   90    702   504  488    0       0         238    \n",
       "-Buddy Biancalana  102    5     65    23   39    0       1         102    \n",
       "-Bruce Bochy       180   24     67    82   56    1       1         202    \n",
       "                  Assists Errors NewLeagueN\n",
       "-Alvin Davis       82     14     0         \n",
       "-Alfredo Griffin  421     25     0         \n",
       "-Andre Thornton     0      0     0         \n",
       "-Alan Trammell    445     22     0         \n",
       "-Buddy Biancalana 177     16     0         \n",
       "-Bruce Bochy       22      2     1         "
      ]
     },
     "metadata": {},
     "output_type": "display_data"
    }
   ],
   "source": [
    "head(test.mat)"
   ]
  },
  {
   "cell_type": "markdown",
   "metadata": {},
   "source": [
    "With our model matrix in hand, we loop through the models of each size `i`. In each iteration of the loop, we extract the coefficients from `regfit.best` for the best model of size `i`, multiply them against the appropriate columns of the model matrix of test observations to compute the predicted values, and then compute the test mean squared error. Note that in R we perform matrix multiplication using `A %*% B`. If `A` and `B` are matrices, then then this is standard matrix multiplication. If one of `A` or `B` is a vector, then it will be promoted to a row or column vector as necessary to allow for matrix multiplication. Lastly, if `A` and `B` are both vectors, then `A %*% B` is the inner product."
   ]
  },
  {
   "cell_type": "code",
   "execution_count": 30,
   "metadata": {},
   "outputs": [],
   "source": [
    "val.errors = rep(NA, 19)\n",
    "for(i in 1:19){\n",
    "    coefi = coef(regfit.best, id = i)\n",
    "    pred = test.mat[, names(coefi)] %*% coefi\n",
    "    val.errors[i] = mean((Hitters$Salary[test] - pred)^2)\n",
    "}"
   ]
  },
  {
   "cell_type": "code",
   "execution_count": 31,
   "metadata": {},
   "outputs": [
    {
     "data": {
      "text/html": [
       "<ol class=list-inline>\n",
       "\t<li>164377.260362341</li>\n",
       "\t<li>144405.470709589</li>\n",
       "\t<li>152175.69459474</li>\n",
       "\t<li>145198.381708901</li>\n",
       "\t<li>137902.113680192</li>\n",
       "\t<li>139175.74540071</li>\n",
       "\t<li>126848.963422889</li>\n",
       "\t<li>136191.381502395</li>\n",
       "\t<li>132889.632125506</li>\n",
       "\t<li>135434.897163883</li>\n",
       "\t<li>136963.294656889</li>\n",
       "\t<li>140694.931446905</li>\n",
       "\t<li>140690.940552605</li>\n",
       "\t<li>141951.168986255</li>\n",
       "\t<li>141508.153781646</li>\n",
       "\t<li>142164.368072385</li>\n",
       "\t<li>141767.40236927</li>\n",
       "\t<li>142339.552749068</li>\n",
       "\t<li>142238.156755267</li>\n",
       "</ol>\n"
      ],
      "text/latex": [
       "\\begin{enumerate*}\n",
       "\\item 164377.260362341\n",
       "\\item 144405.470709589\n",
       "\\item 152175.69459474\n",
       "\\item 145198.381708901\n",
       "\\item 137902.113680192\n",
       "\\item 139175.74540071\n",
       "\\item 126848.963422889\n",
       "\\item 136191.381502395\n",
       "\\item 132889.632125506\n",
       "\\item 135434.897163883\n",
       "\\item 136963.294656889\n",
       "\\item 140694.931446905\n",
       "\\item 140690.940552605\n",
       "\\item 141951.168986255\n",
       "\\item 141508.153781646\n",
       "\\item 142164.368072385\n",
       "\\item 141767.40236927\n",
       "\\item 142339.552749068\n",
       "\\item 142238.156755267\n",
       "\\end{enumerate*}\n"
      ],
      "text/markdown": [
       "1. 164377.260362341\n",
       "2. 144405.470709589\n",
       "3. 152175.69459474\n",
       "4. 145198.381708901\n",
       "5. 137902.113680192\n",
       "6. 139175.74540071\n",
       "7. 126848.963422889\n",
       "8. 136191.381502395\n",
       "9. 132889.632125506\n",
       "10. 135434.897163883\n",
       "11. 136963.294656889\n",
       "12. 140694.931446905\n",
       "13. 140690.940552605\n",
       "14. 141951.168986255\n",
       "15. 141508.153781646\n",
       "16. 142164.368072385\n",
       "17. 141767.40236927\n",
       "18. 142339.552749068\n",
       "19. 142238.156755267\n",
       "\n",
       "\n"
      ],
      "text/plain": [
       " [1] 164377.3 144405.5 152175.7 145198.4 137902.1 139175.7 126849.0 136191.4\n",
       " [9] 132889.6 135434.9 136963.3 140694.9 140690.9 141951.2 141508.2 142164.4\n",
       "[17] 141767.4 142339.6 142238.2"
      ]
     },
     "metadata": {},
     "output_type": "display_data"
    }
   ],
   "source": [
    "val.errors"
   ]
  },
  {
   "cell_type": "code",
   "execution_count": 32,
   "metadata": {},
   "outputs": [
    {
     "data": {
      "text/html": [
       "7"
      ],
      "text/latex": [
       "7"
      ],
      "text/markdown": [
       "7"
      ],
      "text/plain": [
       "[1] 7"
      ]
     },
     "metadata": {},
     "output_type": "display_data"
    }
   ],
   "source": [
    "which.min(val.errors)"
   ]
  },
  {
   "cell_type": "markdown",
   "metadata": {},
   "source": [
    "It turns out that with this train/test split the best model (the one with the lowest test set error) is the one that contains seven variables."
   ]
  },
  {
   "cell_type": "code",
   "execution_count": 33,
   "metadata": {},
   "outputs": [
    {
     "data": {
      "text/html": [
       "<dl class=dl-horizontal>\n",
       "\t<dt>(Intercept)</dt>\n",
       "\t\t<dd>67.1085369123294</dd>\n",
       "\t<dt>AtBat</dt>\n",
       "\t\t<dd>-2.14629867457481</dd>\n",
       "\t<dt>Hits</dt>\n",
       "\t\t<dd>7.01495467840133</dd>\n",
       "\t<dt>Walks</dt>\n",
       "\t\t<dd>8.07166403119075</dd>\n",
       "\t<dt>CRuns</dt>\n",
       "\t\t<dd>1.24251126334183</dd>\n",
       "\t<dt>CWalks</dt>\n",
       "\t\t<dd>-0.833784385185916</dd>\n",
       "\t<dt>DivisionW</dt>\n",
       "\t\t<dd>-118.436499846968</dd>\n",
       "\t<dt>PutOuts</dt>\n",
       "\t\t<dd>0.252692546543788</dd>\n",
       "</dl>\n"
      ],
      "text/latex": [
       "\\begin{description*}\n",
       "\\item[(Intercept)] 67.1085369123294\n",
       "\\item[AtBat] -2.14629867457481\n",
       "\\item[Hits] 7.01495467840133\n",
       "\\item[Walks] 8.07166403119075\n",
       "\\item[CRuns] 1.24251126334183\n",
       "\\item[CWalks] -0.833784385185916\n",
       "\\item[DivisionW] -118.436499846968\n",
       "\\item[PutOuts] 0.252692546543788\n",
       "\\end{description*}\n"
      ],
      "text/markdown": [
       "(Intercept)\n",
       ":   67.1085369123294AtBat\n",
       ":   -2.14629867457481Hits\n",
       ":   7.01495467840133Walks\n",
       ":   8.07166403119075CRuns\n",
       ":   1.24251126334183CWalks\n",
       ":   -0.833784385185916DivisionW\n",
       ":   -118.436499846968PutOuts\n",
       ":   0.252692546543788\n",
       "\n"
      ],
      "text/plain": [
       " (Intercept)        AtBat         Hits        Walks        CRuns       CWalks \n",
       "  67.1085369   -2.1462987    7.0149547    8.0716640    1.2425113   -0.8337844 \n",
       "   DivisionW      PutOuts \n",
       "-118.4364998    0.2526925 "
      ]
     },
     "metadata": {},
     "output_type": "display_data"
    }
   ],
   "source": [
    "coef(regfit.best, 7)"
   ]
  },
  {
   "cell_type": "markdown",
   "metadata": {},
   "source": [
    "Since we will want to go through this process again when performing cross-validation, we'll combine the above steps into a predict function. Since `regsubsets()` does not have a `predict()` method, this function will serve as that `predict()` method. It will take in three arguments:\n",
    "\n",
    "- `object`: the output of a call to `regsubsets()`\n",
    "- `newdata`: a matrix of data\n",
    "- `id`: an index, which in this case will ultimately correspond to a number of coefficients to use"
   ]
  },
  {
   "cell_type": "code",
   "execution_count": 34,
   "metadata": {},
   "outputs": [],
   "source": [
    "predict.regsubsets = function(object, newdata, id, ...){\n",
    "    form = as.formula(object$call[[2]])\n",
    "    mat = model.matrix(form, newdata)\n",
    "    coefi = coef(object, id = id)\n",
    "    xvars = names(coefi)\n",
    "    mat[, xvars]%*%coefi\n",
    "}"
   ]
  },
  {
   "cell_type": "markdown",
   "metadata": {},
   "source": [
    "Going through the function line by line, it performs the following steps, just as we did by hand earlier.\n",
    "\n",
    "1. Extract the formula that was used in the call to `regsubsets()`.\n",
    "2. Create a model matrix (design matrix) from the formula and the data in `newdata`.\n",
    "3. Extract the coefficients and names of the predictor variables from the model with `id` coefficients\n",
    "4. Compute the predicted values by multiplying the sub-matrix of the model matrix consisting of just the columns corresponding to the predictors for the model with `id` coefficients against the corresponding coefficients.\n",
    "\n",
    "Note that functions without a `return()` at the end will automatically return the value of the last evaluated expression. We'll see this function in action a little later when we perform cross-validation to choose between the models of different sizes. For now, we return to finishing up with using the validation set approach.\n",
    "\n",
    "We saw that with our train/test split the best model (i.e. the one with the lowest test set error) was the one that contained seven variables. Now that we know we want to use the seven-variable model, we perform best subset selection using the *full data set* and select the best seven-variable model. We should use the full data set in order to obtain more accurate coefficient estimates. Also, it is important to note that we do not simply use the seven variables from the model we obtained using the training data. This is because the best model of a given size on the full data may differ from the corresponding model on the training set."
   ]
  },
  {
   "cell_type": "code",
   "execution_count": 35,
   "metadata": {},
   "outputs": [
    {
     "data": {
      "text/html": [
       "<dl class=dl-horizontal>\n",
       "\t<dt>(Intercept)</dt>\n",
       "\t\t<dd>79.4509472435319</dd>\n",
       "\t<dt>Hits</dt>\n",
       "\t\t<dd>1.28335125463328</dd>\n",
       "\t<dt>Walks</dt>\n",
       "\t\t<dd>3.22742638972714</dd>\n",
       "\t<dt>CAtBat</dt>\n",
       "\t\t<dd>-0.375235019565453</dd>\n",
       "\t<dt>CHits</dt>\n",
       "\t\t<dd>1.49570730989869</dd>\n",
       "\t<dt>CHmRun</dt>\n",
       "\t\t<dd>1.44205381889666</dd>\n",
       "\t<dt>DivisionW</dt>\n",
       "\t\t<dd>-129.986643165116</dd>\n",
       "\t<dt>PutOuts</dt>\n",
       "\t\t<dd>0.236681317525621</dd>\n",
       "</dl>\n"
      ],
      "text/latex": [
       "\\begin{description*}\n",
       "\\item[(Intercept)] 79.4509472435319\n",
       "\\item[Hits] 1.28335125463328\n",
       "\\item[Walks] 3.22742638972714\n",
       "\\item[CAtBat] -0.375235019565453\n",
       "\\item[CHits] 1.49570730989869\n",
       "\\item[CHmRun] 1.44205381889666\n",
       "\\item[DivisionW] -129.986643165116\n",
       "\\item[PutOuts] 0.236681317525621\n",
       "\\end{description*}\n"
      ],
      "text/markdown": [
       "(Intercept)\n",
       ":   79.4509472435319Hits\n",
       ":   1.28335125463328Walks\n",
       ":   3.22742638972714CAtBat\n",
       ":   -0.375235019565453CHits\n",
       ":   1.49570730989869CHmRun\n",
       ":   1.44205381889666DivisionW\n",
       ":   -129.986643165116PutOuts\n",
       ":   0.236681317525621\n",
       "\n"
      ],
      "text/plain": [
       " (Intercept)         Hits        Walks       CAtBat        CHits       CHmRun \n",
       "  79.4509472    1.2833513    3.2274264   -0.3752350    1.4957073    1.4420538 \n",
       "   DivisionW      PutOuts \n",
       "-129.9866432    0.2366813 "
      ]
     },
     "metadata": {},
     "output_type": "display_data"
    }
   ],
   "source": [
    "regfit.best = regsubsets(Salary ~ ., data = Hitters, nvmax = 19)\n",
    "coef(regfit.best, 7)"
   ]
  },
  {
   "cell_type": "markdown",
   "metadata": {},
   "source": [
    "In fact, we can see that while the best seven-variable model on the training data used the variables `AtBat`, `CRuns`, and `CWalks`, the best seven-variable model on the full data set used the variables `CAtBat`, `CHits`, and `CHmRun` instead.\n",
    "\n",
    "To wrap up this part of the lab, we use cross-validation to choose between the models of different sizes. This will involve performing best subset selection *within each of the $k$ training sets*, which will require the use of R's clever subsetting syntax to make our lives easier. To start, we create a vector that allocates each observation to one of $k = 10$ folds, and then we create a matrix in which we will store the results. The $i$th row of the `cv.errors` matrix corresponds to the cross-validation errors on the $i$th fold for the best model of each size."
   ]
  },
  {
   "cell_type": "code",
   "execution_count": 36,
   "metadata": {},
   "outputs": [],
   "source": [
    "k = 10\n",
    "set.seed(1)\n",
    "folds = sample(1:k, nrow(Hitters), replace = TRUE)\n",
    "cv.errors = matrix(NA, k, 19, dimnames = list(NULL, paste(1:19)))"
   ]
  },
  {
   "cell_type": "markdown",
   "metadata": {},
   "source": [
    "The next step is to write a for loop that performs cross-validation. In the $i$th fold, the elements of `folds` equal to $i$ are in the test set, while the remainder are in the training set. We then use the `predict.regsubsets()` method we wrote earlier to make predictions for each model size $j$. For each prediction, we compute the test errors on the appropriate subset and store them as the appropriate entry in the `cv.errors` matrix. In other words, the $(i, j)$-entry of `cv.errors` is the test mean squared error on the $i$th cross-validation fold for the best $j$-variable model."
   ]
  },
  {
   "cell_type": "code",
   "execution_count": 37,
   "metadata": {},
   "outputs": [],
   "source": [
    "for(i in 1:k){\n",
    "    best.fit = regsubsets(Salary ~ ., data = Hitters[folds != i, ], nvmax = 19)\n",
    "    for(j in 1:19){\n",
    "        pred = predict.regsubsets(best.fit, Hitters[folds == i, ], id = j)\n",
    "        cv.errors[i, j] = mean((Hitters$Salary[folds == i] - pred)^2)\n",
    "    }\n",
    "}"
   ]
  },
  {
   "cell_type": "markdown",
   "metadata": {},
   "source": [
    "Now that we have our `cv.errors` matrix, we use the `apply()` function to average over the columns in order to obtain a vector for which the $j$th element is the cross-validation error for the $j$-variable model."
   ]
  },
  {
   "cell_type": "code",
   "execution_count": 38,
   "metadata": {},
   "outputs": [
    {
     "data": {
      "text/html": [
       "<dl class=dl-horizontal>\n",
       "\t<dt>1</dt>\n",
       "\t\t<dd>149821.091405766</dd>\n",
       "\t<dt>2</dt>\n",
       "\t\t<dd>130922.0379764</dd>\n",
       "\t<dt>3</dt>\n",
       "\t\t<dd>139126.99031373</dd>\n",
       "\t<dt>4</dt>\n",
       "\t\t<dd>131028.824879076</dd>\n",
       "\t<dt>5</dt>\n",
       "\t\t<dd>131050.227792617</dd>\n",
       "\t<dt>6</dt>\n",
       "\t\t<dd>119538.639321733</dd>\n",
       "\t<dt>7</dt>\n",
       "\t\t<dd>124286.069572618</dd>\n",
       "\t<dt>8</dt>\n",
       "\t\t<dd>113580.024720024</dd>\n",
       "\t<dt>9</dt>\n",
       "\t\t<dd>115556.482968124</dd>\n",
       "\t<dt>10</dt>\n",
       "\t\t<dd>112216.694692405</dd>\n",
       "\t<dt>11</dt>\n",
       "\t\t<dd>113251.206611335</dd>\n",
       "\t<dt>12</dt>\n",
       "\t\t<dd>115755.928654414</dd>\n",
       "\t<dt>13</dt>\n",
       "\t\t<dd>117820.765179339</dd>\n",
       "\t<dt>14</dt>\n",
       "\t\t<dd>119481.192743936</dd>\n",
       "\t<dt>15</dt>\n",
       "\t\t<dd>120121.611555325</dd>\n",
       "\t<dt>16</dt>\n",
       "\t\t<dd>120074.319791001</dd>\n",
       "\t<dt>17</dt>\n",
       "\t\t<dd>120084.806046921</dd>\n",
       "\t<dt>18</dt>\n",
       "\t\t<dd>120085.752471046</dd>\n",
       "\t<dt>19</dt>\n",
       "\t\t<dd>120403.519222888</dd>\n",
       "</dl>\n"
      ],
      "text/latex": [
       "\\begin{description*}\n",
       "\\item[1] 149821.091405766\n",
       "\\item[2] 130922.0379764\n",
       "\\item[3] 139126.99031373\n",
       "\\item[4] 131028.824879076\n",
       "\\item[5] 131050.227792617\n",
       "\\item[6] 119538.639321733\n",
       "\\item[7] 124286.069572618\n",
       "\\item[8] 113580.024720024\n",
       "\\item[9] 115556.482968124\n",
       "\\item[10] 112216.694692405\n",
       "\\item[11] 113251.206611335\n",
       "\\item[12] 115755.928654414\n",
       "\\item[13] 117820.765179339\n",
       "\\item[14] 119481.192743936\n",
       "\\item[15] 120121.611555325\n",
       "\\item[16] 120074.319791001\n",
       "\\item[17] 120084.806046921\n",
       "\\item[18] 120085.752471046\n",
       "\\item[19] 120403.519222888\n",
       "\\end{description*}\n"
      ],
      "text/markdown": [
       "1\n",
       ":   149821.0914057662\n",
       ":   130922.03797643\n",
       ":   139126.990313734\n",
       ":   131028.8248790765\n",
       ":   131050.2277926176\n",
       ":   119538.6393217337\n",
       ":   124286.0695726188\n",
       ":   113580.0247200249\n",
       ":   115556.48296812410\n",
       ":   112216.69469240511\n",
       ":   113251.20661133512\n",
       ":   115755.92865441413\n",
       ":   117820.76517933914\n",
       ":   119481.19274393615\n",
       ":   120121.61155532516\n",
       ":   120074.31979100117\n",
       ":   120084.80604692118\n",
       ":   120085.75247104619\n",
       ":   120403.519222888\n",
       "\n"
      ],
      "text/plain": [
       "       1        2        3        4        5        6        7        8 \n",
       "149821.1 130922.0 139127.0 131028.8 131050.2 119538.6 124286.1 113580.0 \n",
       "       9       10       11       12       13       14       15       16 \n",
       "115556.5 112216.7 113251.2 115755.9 117820.8 119481.2 120121.6 120074.3 \n",
       "      17       18       19 \n",
       "120084.8 120085.8 120403.5 "
      ]
     },
     "metadata": {},
     "output_type": "display_data"
    }
   ],
   "source": [
    "mean.cv.errors = apply(cv.errors, 2, mean)\n",
    "mean.cv.errors"
   ]
  },
  {
   "cell_type": "code",
   "execution_count": 39,
   "metadata": {},
   "outputs": [
    {
     "data": {
      "image/png": "[encoded data removed]",
      "text/plain": [
       "plot without title"
      ]
     },
     "metadata": {},
     "output_type": "display_data"
    }
   ],
   "source": [
    "par(mfrow = c(1, 1))\n",
    "plot(mean.cv.errors, type = \"b\")"
   ]
  },
  {
   "cell_type": "code",
   "execution_count": 40,
   "metadata": {},
   "outputs": [
    {
     "data": {
      "text/html": [
       "<strong>10:</strong> 10"
      ],
      "text/latex": [
       "\\textbf{10:} 10"
      ],
      "text/markdown": [
       "**10:** 10"
      ],
      "text/plain": [
       "10 \n",
       "10 "
      ]
     },
     "metadata": {},
     "output_type": "display_data"
    }
   ],
   "source": [
    "which.min(mean.cv.errors)"
   ]
  },
  {
   "cell_type": "markdown",
   "metadata": {},
   "source": [
    "As we can see in the graph (and also confirm using `which.min()`), a ten-variable model gave the lowest cross-validation error. To wrap up, we perform best subset selection on the full data set in order to obtain the ten-variable model."
   ]
  },
  {
   "cell_type": "code",
   "execution_count": 41,
   "metadata": {},
   "outputs": [
    {
     "data": {
      "text/html": [
       "<dl class=dl-horizontal>\n",
       "\t<dt>(Intercept)</dt>\n",
       "\t\t<dd>162.535442040545</dd>\n",
       "\t<dt>AtBat</dt>\n",
       "\t\t<dd>-2.16865005340437</dd>\n",
       "\t<dt>Hits</dt>\n",
       "\t\t<dd>6.91801749476659</dd>\n",
       "\t<dt>Walks</dt>\n",
       "\t\t<dd>5.7732246470264</dd>\n",
       "\t<dt>CAtBat</dt>\n",
       "\t\t<dd>-0.130079783913646</dd>\n",
       "\t<dt>CRuns</dt>\n",
       "\t\t<dd>1.40824900877044</dd>\n",
       "\t<dt>CRBI</dt>\n",
       "\t\t<dd>0.774312153250204</dd>\n",
       "\t<dt>CWalks</dt>\n",
       "\t\t<dd>-0.830826351501743</dd>\n",
       "\t<dt>DivisionW</dt>\n",
       "\t\t<dd>-112.380057493543</dd>\n",
       "\t<dt>PutOuts</dt>\n",
       "\t\t<dd>0.297372596603942</dd>\n",
       "\t<dt>Assists</dt>\n",
       "\t\t<dd>0.283168028635278</dd>\n",
       "</dl>\n"
      ],
      "text/latex": [
       "\\begin{description*}\n",
       "\\item[(Intercept)] 162.535442040545\n",
       "\\item[AtBat] -2.16865005340437\n",
       "\\item[Hits] 6.91801749476659\n",
       "\\item[Walks] 5.7732246470264\n",
       "\\item[CAtBat] -0.130079783913646\n",
       "\\item[CRuns] 1.40824900877044\n",
       "\\item[CRBI] 0.774312153250204\n",
       "\\item[CWalks] -0.830826351501743\n",
       "\\item[DivisionW] -112.380057493543\n",
       "\\item[PutOuts] 0.297372596603942\n",
       "\\item[Assists] 0.283168028635278\n",
       "\\end{description*}\n"
      ],
      "text/markdown": [
       "(Intercept)\n",
       ":   162.535442040545AtBat\n",
       ":   -2.16865005340437Hits\n",
       ":   6.91801749476659Walks\n",
       ":   5.7732246470264CAtBat\n",
       ":   -0.130079783913646CRuns\n",
       ":   1.40824900877044CRBI\n",
       ":   0.774312153250204CWalks\n",
       ":   -0.830826351501743DivisionW\n",
       ":   -112.380057493543PutOuts\n",
       ":   0.297372596603942Assists\n",
       ":   0.283168028635278\n",
       "\n"
      ],
      "text/plain": [
       " (Intercept)        AtBat         Hits        Walks       CAtBat        CRuns \n",
       " 162.5354420   -2.1686501    6.9180175    5.7732246   -0.1300798    1.4082490 \n",
       "        CRBI       CWalks    DivisionW      PutOuts      Assists \n",
       "   0.7743122   -0.8308264 -112.3800575    0.2973726    0.2831680 "
      ]
     },
     "metadata": {},
     "output_type": "display_data"
    }
   ],
   "source": [
    "reg.best = regsubsets(Salary ~ ., data = Hitters, nvmax = 19)\n",
    "coef(reg.best, 10)"
   ]
  },
  {
   "cell_type": "markdown",
   "metadata": {},
   "source": [
    "# Part 2: Ridge Regression and the Lasso"
   ]
  },
  {
   "cell_type": "markdown",
   "metadata": {},
   "source": [
    "In this part of the lab, we use the `glmnet` package in order to perform ridge regression and the lasso. The main function we will use from this package is the `glmnet()` function, which can be used to fit ridge regression models, lasso models, and more. More information about the `glmnet` package can be found at the [documentation website](https://glmnet.stanford.edu/). It is important to note that the `glmnet()` function does not support the usual formula syntax `y ~ x` that we have often used with other model-fitting functions. Instead we pass an `x` matrix and a `y` vector. We also note that `glmnet()` can only take numerical, quantitative inputs."
   ]
  },
  {
   "cell_type": "code",
   "execution_count": 42,
   "metadata": {
    "scrolled": true
   },
   "outputs": [
    {
     "name": "stderr",
     "output_type": "stream",
     "text": [
      "Loading required package: Matrix\n",
      "Loading required package: foreach\n",
      "Loaded glmnet 2.0-16\n",
      "\n"
     ]
    }
   ],
   "source": [
    "library(glmnet)"
   ]
  },
  {
   "cell_type": "markdown",
   "metadata": {},
   "source": [
    "After loading the `glmnet` library, we use the `model.matrix()` function to create our `x`. As discussed in Part 1, the `model. matrix()` function conveniently encodes any qualitative variables using dummy variables. Since we do not wish to pass the `(Intercept)` column that the function automatically creates when passing `x` to `glmnet()` we make sure to exclude it."
   ]
  },
  {
   "cell_type": "code",
   "execution_count": 43,
   "metadata": {},
   "outputs": [],
   "source": [
    "x = model.matrix(Salary ~ ., data = Hitters)[, -1]\n",
    "y = Hitters$Salary"
   ]
  },
  {
   "cell_type": "markdown",
   "metadata": {},
   "source": [
    "## Ridge Regression"
   ]
  },
  {
   "cell_type": "markdown",
   "metadata": {},
   "source": [
    "Before using `glmnet()` to perform ridge regression, we recall that the ridge regression coefficient estimates $\\hat{\\beta}^R$ are the values that minimize\n",
    "\n",
    "\\begin{equation}\n",
    "    \\sum_{i = 1}^n \\left( y_i - \\beta_0 - \\sum_{j = 1}^p \\beta_jx_{ij} \\right)^2 + \\lambda \\sum_{j = 1}^p \\beta_j^2\n",
    "    = \\text{RSS} + \\lambda \\sum_{j = 1}^p \\beta_j^2,\n",
    "\\end{equation}\n",
    "\n",
    "where $\\lambda \\geq 0$ is the tuning parameter that determines the size of the impact of the shrinkage penalty. \n",
    "\n",
    "To perform ridge regression using `glmnet()` we pass in the appropriate value to the `alpha` argument. Passing `alpha = 0` will tell `glmnet()` to perform ridge regression while passing `alpha = 1` will tell `glmnet()` to fit a lasso model."
   ]
  },
  {
   "cell_type": "code",
   "execution_count": 44,
   "metadata": {},
   "outputs": [],
   "source": [
    "grid = 10^seq(10, -2, length = 100)\n",
    "ridge.mod = glmnet(x, y, alpha = 0, lambda = grid)"
   ]
  },
  {
   "cell_type": "markdown",
   "metadata": {},
   "source": [
    "Before moving on to explore the model we fit, we make a few notes regarding the usage of `glmnet()`. First, by default `glmnet()` will peform ridge regression for an automatically selected range of $\\lambda$ values, but here we specified to use a grid of values ranging from $\\lambda = 10^{10}$ to $\\lambda = 10^{-2}$, which will essentially cover the full range of scenarios from the null model contaiing only the intercept to the least squares fit. Second, we will later compute model fits for particular $\\lambda$ values that are not part of the original `grid`. Lastly, we note that by default `glmnet()` standardizes the variables so that they are on the same scale (i.e. have a standard deviation of one). If we do not want `glmnet()` to standardize the variables for some reason, such as if the variable are already all in the same units, we pass the argument `standardize = FALSE`.\n",
    "\n",
    "For each value of $\\lambda$, there is a vector of ridge regression coefficients stored in a matrix that can be accessed using the `coef()` function. In our case, the coefficient matrix is a 20 $\\times$ 100 matrix with 20 rows (one for each predictor, plus an intercept) and 100 columns (one for each value of $\\lambda$)."
   ]
  },
  {
   "cell_type": "code",
   "execution_count": 45,
   "metadata": {},
   "outputs": [
    {
     "data": {
      "text/html": [
       "<ol class=list-inline>\n",
       "\t<li>20</li>\n",
       "\t<li>100</li>\n",
       "</ol>\n"
      ],
      "text/latex": [
       "\\begin{enumerate*}\n",
       "\\item 20\n",
       "\\item 100\n",
       "\\end{enumerate*}\n"
      ],
      "text/markdown": [
       "1. 20\n",
       "2. 100\n",
       "\n",
       "\n"
      ],
      "text/plain": [
       "[1]  20 100"
      ]
     },
     "metadata": {},
     "output_type": "display_data"
    }
   ],
   "source": [
    "dim(coef(ridge.mod))"
   ]
  },
  {
   "cell_type": "markdown",
   "metadata": {},
   "source": [
    "Since the shrinkage penalty in ridge regression is based on the $\\ell_2$ norm of the coefficient estimates, we expect that value to be inversely related to the size of $\\lambda$. For example, these are the coefficients and their $\\ell_2$ norm for $\\lambda = 11,498$."
   ]
  },
  {
   "cell_type": "code",
   "execution_count": 46,
   "metadata": {},
   "outputs": [
    {
     "data": {
      "text/html": [
       "11497.5699539774"
      ],
      "text/latex": [
       "11497.5699539774"
      ],
      "text/markdown": [
       "11497.5699539774"
      ],
      "text/plain": [
       "[1] 11497.57"
      ]
     },
     "metadata": {},
     "output_type": "display_data"
    }
   ],
   "source": [
    "ridge.mod$lambda[50]"
   ]
  },
  {
   "cell_type": "code",
   "execution_count": 47,
   "metadata": {},
   "outputs": [
    {
     "data": {
      "text/html": [
       "<dl class=dl-horizontal>\n",
       "\t<dt>(Intercept)</dt>\n",
       "\t\t<dd>407.356050200416</dd>\n",
       "\t<dt>AtBat</dt>\n",
       "\t\t<dd>0.0369571817501359</dd>\n",
       "\t<dt>Hits</dt>\n",
       "\t\t<dd>0.138180343807892</dd>\n",
       "\t<dt>HmRun</dt>\n",
       "\t\t<dd>0.524629975886911</dd>\n",
       "\t<dt>Runs</dt>\n",
       "\t\t<dd>0.230701522621179</dd>\n",
       "\t<dt>RBI</dt>\n",
       "\t\t<dd>0.239841458504058</dd>\n",
       "\t<dt>Walks</dt>\n",
       "\t\t<dd>0.289618741049884</dd>\n",
       "\t<dt>Years</dt>\n",
       "\t\t<dd>1.10770292908555</dd>\n",
       "\t<dt>CAtBat</dt>\n",
       "\t\t<dd>0.00313181522151328</dd>\n",
       "\t<dt>CHits</dt>\n",
       "\t\t<dd>0.0116536373557531</dd>\n",
       "\t<dt>CHmRun</dt>\n",
       "\t\t<dd>0.0875456697555949</dd>\n",
       "\t<dt>CRuns</dt>\n",
       "\t\t<dd>0.0233798823693758</dd>\n",
       "\t<dt>CRBI</dt>\n",
       "\t\t<dd>0.0241383203685686</dd>\n",
       "\t<dt>CWalks</dt>\n",
       "\t\t<dd>0.0250154205993732</dd>\n",
       "\t<dt>LeagueN</dt>\n",
       "\t\t<dd>0.0850281135625444</dd>\n",
       "\t<dt>DivisionW</dt>\n",
       "\t\t<dd>-6.21544097273146</dd>\n",
       "\t<dt>PutOuts</dt>\n",
       "\t\t<dd>0.0164825767604547</dd>\n",
       "\t<dt>Assists</dt>\n",
       "\t\t<dd>0.00261298804528183</dd>\n",
       "\t<dt>Errors</dt>\n",
       "\t\t<dd>-0.0205026903654579</dd>\n",
       "\t<dt>NewLeagueN</dt>\n",
       "\t\t<dd>0.301433531372699</dd>\n",
       "</dl>\n"
      ],
      "text/latex": [
       "\\begin{description*}\n",
       "\\item[(Intercept)] 407.356050200416\n",
       "\\item[AtBat] 0.0369571817501359\n",
       "\\item[Hits] 0.138180343807892\n",
       "\\item[HmRun] 0.524629975886911\n",
       "\\item[Runs] 0.230701522621179\n",
       "\\item[RBI] 0.239841458504058\n",
       "\\item[Walks] 0.289618741049884\n",
       "\\item[Years] 1.10770292908555\n",
       "\\item[CAtBat] 0.00313181522151328\n",
       "\\item[CHits] 0.0116536373557531\n",
       "\\item[CHmRun] 0.0875456697555949\n",
       "\\item[CRuns] 0.0233798823693758\n",
       "\\item[CRBI] 0.0241383203685686\n",
       "\\item[CWalks] 0.0250154205993732\n",
       "\\item[LeagueN] 0.0850281135625444\n",
       "\\item[DivisionW] -6.21544097273146\n",
       "\\item[PutOuts] 0.0164825767604547\n",
       "\\item[Assists] 0.00261298804528183\n",
       "\\item[Errors] -0.0205026903654579\n",
       "\\item[NewLeagueN] 0.301433531372699\n",
       "\\end{description*}\n"
      ],
      "text/markdown": [
       "(Intercept)\n",
       ":   407.356050200416AtBat\n",
       ":   0.0369571817501359Hits\n",
       ":   0.138180343807892HmRun\n",
       ":   0.524629975886911Runs\n",
       ":   0.230701522621179RBI\n",
       ":   0.239841458504058Walks\n",
       ":   0.289618741049884Years\n",
       ":   1.10770292908555CAtBat\n",
       ":   0.00313181522151328CHits\n",
       ":   0.0116536373557531CHmRun\n",
       ":   0.0875456697555949CRuns\n",
       ":   0.0233798823693758CRBI\n",
       ":   0.0241383203685686CWalks\n",
       ":   0.0250154205993732LeagueN\n",
       ":   0.0850281135625444DivisionW\n",
       ":   -6.21544097273146PutOuts\n",
       ":   0.0164825767604547Assists\n",
       ":   0.00261298804528183Errors\n",
       ":   -0.0205026903654579NewLeagueN\n",
       ":   0.301433531372699\n",
       "\n"
      ],
      "text/plain": [
       "  (Intercept)         AtBat          Hits         HmRun          Runs \n",
       "407.356050200   0.036957182   0.138180344   0.524629976   0.230701523 \n",
       "          RBI         Walks         Years        CAtBat         CHits \n",
       "  0.239841459   0.289618741   1.107702929   0.003131815   0.011653637 \n",
       "       CHmRun         CRuns          CRBI        CWalks       LeagueN \n",
       "  0.087545670   0.023379882   0.024138320   0.025015421   0.085028114 \n",
       "    DivisionW       PutOuts       Assists        Errors    NewLeagueN \n",
       " -6.215440973   0.016482577   0.002612988  -0.020502690   0.301433531 "
      ]
     },
     "metadata": {},
     "output_type": "display_data"
    }
   ],
   "source": [
    "coef(ridge.mod)[, 50]"
   ]
  },
  {
   "cell_type": "code",
   "execution_count": 48,
   "metadata": {},
   "outputs": [
    {
     "data": {
      "text/html": [
       "6.36061242142791"
      ],
      "text/latex": [
       "6.36061242142791"
      ],
      "text/markdown": [
       "6.36061242142791"
      ],
      "text/plain": [
       "[1] 6.360612"
      ]
     },
     "metadata": {},
     "output_type": "display_data"
    }
   ],
   "source": [
    "sqrt(sum(coef(ridge.mod)[-1, 50]^2))"
   ]
  },
  {
   "cell_type": "markdown",
   "metadata": {},
   "source": [
    "To compare, the coefficients for $\\lambda = 705$ have a much larger $\\ell_2$ norm."
   ]
  },
  {
   "cell_type": "code",
   "execution_count": 49,
   "metadata": {},
   "outputs": [
    {
     "data": {
      "text/html": [
       "705.480231071865"
      ],
      "text/latex": [
       "705.480231071865"
      ],
      "text/markdown": [
       "705.480231071865"
      ],
      "text/plain": [
       "[1] 705.4802"
      ]
     },
     "metadata": {},
     "output_type": "display_data"
    }
   ],
   "source": [
    "ridge.mod$lambda[60]"
   ]
  },
  {
   "cell_type": "code",
   "execution_count": 50,
   "metadata": {},
   "outputs": [
    {
     "data": {
      "text/html": [
       "<dl class=dl-horizontal>\n",
       "\t<dt>(Intercept)</dt>\n",
       "\t\t<dd>54.3251995018372</dd>\n",
       "\t<dt>AtBat</dt>\n",
       "\t\t<dd>0.112111145878249</dd>\n",
       "\t<dt>Hits</dt>\n",
       "\t\t<dd>0.656224085323628</dd>\n",
       "\t<dt>HmRun</dt>\n",
       "\t\t<dd>1.17980909638777</dd>\n",
       "\t<dt>Runs</dt>\n",
       "\t\t<dd>0.937697128927054</dd>\n",
       "\t<dt>RBI</dt>\n",
       "\t\t<dd>0.847185458771521</dd>\n",
       "\t<dt>Walks</dt>\n",
       "\t\t<dd>1.31987948048781</dd>\n",
       "\t<dt>Years</dt>\n",
       "\t\t<dd>2.59640424574253</dd>\n",
       "\t<dt>CAtBat</dt>\n",
       "\t\t<dd>0.0108341254432856</dd>\n",
       "\t<dt>CHits</dt>\n",
       "\t\t<dd>0.0467455700054452</dd>\n",
       "\t<dt>CHmRun</dt>\n",
       "\t\t<dd>0.337773183143353</dd>\n",
       "\t<dt>CRuns</dt>\n",
       "\t\t<dd>0.0935552830000676</dd>\n",
       "\t<dt>CRBI</dt>\n",
       "\t\t<dd>0.0978040232271687</dd>\n",
       "\t<dt>CWalks</dt>\n",
       "\t\t<dd>0.0718961166304866</dd>\n",
       "\t<dt>LeagueN</dt>\n",
       "\t\t<dd>13.6837019095343</dd>\n",
       "\t<dt>DivisionW</dt>\n",
       "\t\t<dd>-54.658777504592</dd>\n",
       "\t<dt>PutOuts</dt>\n",
       "\t\t<dd>0.118522894134745</dd>\n",
       "\t<dt>Assists</dt>\n",
       "\t\t<dd>0.01606037317599</dd>\n",
       "\t<dt>Errors</dt>\n",
       "\t\t<dd>-0.703586547290985</dd>\n",
       "\t<dt>NewLeagueN</dt>\n",
       "\t\t<dd>8.61181213448926</dd>\n",
       "</dl>\n"
      ],
      "text/latex": [
       "\\begin{description*}\n",
       "\\item[(Intercept)] 54.3251995018372\n",
       "\\item[AtBat] 0.112111145878249\n",
       "\\item[Hits] 0.656224085323628\n",
       "\\item[HmRun] 1.17980909638777\n",
       "\\item[Runs] 0.937697128927054\n",
       "\\item[RBI] 0.847185458771521\n",
       "\\item[Walks] 1.31987948048781\n",
       "\\item[Years] 2.59640424574253\n",
       "\\item[CAtBat] 0.0108341254432856\n",
       "\\item[CHits] 0.0467455700054452\n",
       "\\item[CHmRun] 0.337773183143353\n",
       "\\item[CRuns] 0.0935552830000676\n",
       "\\item[CRBI] 0.0978040232271687\n",
       "\\item[CWalks] 0.0718961166304866\n",
       "\\item[LeagueN] 13.6837019095343\n",
       "\\item[DivisionW] -54.658777504592\n",
       "\\item[PutOuts] 0.118522894134745\n",
       "\\item[Assists] 0.01606037317599\n",
       "\\item[Errors] -0.703586547290985\n",
       "\\item[NewLeagueN] 8.61181213448926\n",
       "\\end{description*}\n"
      ],
      "text/markdown": [
       "(Intercept)\n",
       ":   54.3251995018372AtBat\n",
       ":   0.112111145878249Hits\n",
       ":   0.656224085323628HmRun\n",
       ":   1.17980909638777Runs\n",
       ":   0.937697128927054RBI\n",
       ":   0.847185458771521Walks\n",
       ":   1.31987948048781Years\n",
       ":   2.59640424574253CAtBat\n",
       ":   0.0108341254432856CHits\n",
       ":   0.0467455700054452CHmRun\n",
       ":   0.337773183143353CRuns\n",
       ":   0.0935552830000676CRBI\n",
       ":   0.0978040232271687CWalks\n",
       ":   0.0718961166304866LeagueN\n",
       ":   13.6837019095343DivisionW\n",
       ":   -54.658777504592PutOuts\n",
       ":   0.118522894134745Assists\n",
       ":   0.01606037317599Errors\n",
       ":   -0.703586547290985NewLeagueN\n",
       ":   8.61181213448926\n",
       "\n"
      ],
      "text/plain": [
       " (Intercept)        AtBat         Hits        HmRun         Runs          RBI \n",
       " 54.32519950   0.11211115   0.65622409   1.17980910   0.93769713   0.84718546 \n",
       "       Walks        Years       CAtBat        CHits       CHmRun        CRuns \n",
       "  1.31987948   2.59640425   0.01083413   0.04674557   0.33777318   0.09355528 \n",
       "        CRBI       CWalks      LeagueN    DivisionW      PutOuts      Assists \n",
       "  0.09780402   0.07189612  13.68370191 -54.65877750   0.11852289   0.01606037 \n",
       "      Errors   NewLeagueN \n",
       " -0.70358655   8.61181213 "
      ]
     },
     "metadata": {},
     "output_type": "display_data"
    }
   ],
   "source": [
    "coef(ridge.mod)[, 60]"
   ]
  },
  {
   "cell_type": "code",
   "execution_count": 51,
   "metadata": {},
   "outputs": [
    {
     "data": {
      "text/html": [
       "57.110014262533"
      ],
      "text/latex": [
       "57.110014262533"
      ],
      "text/markdown": [
       "57.110014262533"
      ],
      "text/plain": [
       "[1] 57.11001"
      ]
     },
     "metadata": {},
     "output_type": "display_data"
    }
   ],
   "source": [
    "sqrt(sum(coef(ridge.mod)[-1, 60]^2))"
   ]
  },
  {
   "cell_type": "markdown",
   "metadata": {},
   "source": [
    "As mentioned previously, we can compute ridge regression coefficient estimates for $\\lambda$ values that were not in the original grid. To do so, we pass in our desired value, say $\\lambda = 50$, to the `s` argument of the `predict()` function and specify `type = \"coefficients\"`."
   ]
  },
  {
   "cell_type": "code",
   "execution_count": 52,
   "metadata": {},
   "outputs": [
    {
     "data": {
      "text/html": [
       "<dl class=dl-horizontal>\n",
       "\t<dt>(Intercept)</dt>\n",
       "\t\t<dd>48.7661032921608</dd>\n",
       "\t<dt>AtBat</dt>\n",
       "\t\t<dd>-0.358099859376738</dd>\n",
       "\t<dt>Hits</dt>\n",
       "\t\t<dd>1.96935928646357</dd>\n",
       "\t<dt>HmRun</dt>\n",
       "\t\t<dd>-1.27824798145678</dd>\n",
       "\t<dt>Runs</dt>\n",
       "\t\t<dd>1.14589163211962</dd>\n",
       "\t<dt>RBI</dt>\n",
       "\t\t<dd>0.803829228437672</dd>\n",
       "\t<dt>Walks</dt>\n",
       "\t\t<dd>2.71618579623371</dd>\n",
       "\t<dt>Years</dt>\n",
       "\t\t<dd>-6.21831921727865</dd>\n",
       "\t<dt>CAtBat</dt>\n",
       "\t\t<dd>0.00544783719814918</dd>\n",
       "\t<dt>CHits</dt>\n",
       "\t\t<dd>0.10648951402342</dd>\n",
       "\t<dt>CHmRun</dt>\n",
       "\t\t<dd>0.624485956082661</dd>\n",
       "\t<dt>CRuns</dt>\n",
       "\t\t<dd>0.221498463760022</dd>\n",
       "\t<dt>CRBI</dt>\n",
       "\t\t<dd>0.218691380321248</dd>\n",
       "\t<dt>CWalks</dt>\n",
       "\t\t<dd>-0.150024548516927</dd>\n",
       "\t<dt>LeagueN</dt>\n",
       "\t\t<dd>45.9258855144158</dd>\n",
       "\t<dt>DivisionW</dt>\n",
       "\t\t<dd>-118.201136816368</dd>\n",
       "\t<dt>PutOuts</dt>\n",
       "\t\t<dd>0.250232154092559</dd>\n",
       "\t<dt>Assists</dt>\n",
       "\t\t<dd>0.121566461346767</dd>\n",
       "\t<dt>Errors</dt>\n",
       "\t\t<dd>-3.27859954463555</dd>\n",
       "\t<dt>NewLeagueN</dt>\n",
       "\t\t<dd>-9.4966803100264</dd>\n",
       "</dl>\n"
      ],
      "text/latex": [
       "\\begin{description*}\n",
       "\\item[(Intercept)] 48.7661032921608\n",
       "\\item[AtBat] -0.358099859376738\n",
       "\\item[Hits] 1.96935928646357\n",
       "\\item[HmRun] -1.27824798145678\n",
       "\\item[Runs] 1.14589163211962\n",
       "\\item[RBI] 0.803829228437672\n",
       "\\item[Walks] 2.71618579623371\n",
       "\\item[Years] -6.21831921727865\n",
       "\\item[CAtBat] 0.00544783719814918\n",
       "\\item[CHits] 0.10648951402342\n",
       "\\item[CHmRun] 0.624485956082661\n",
       "\\item[CRuns] 0.221498463760022\n",
       "\\item[CRBI] 0.218691380321248\n",
       "\\item[CWalks] -0.150024548516927\n",
       "\\item[LeagueN] 45.9258855144158\n",
       "\\item[DivisionW] -118.201136816368\n",
       "\\item[PutOuts] 0.250232154092559\n",
       "\\item[Assists] 0.121566461346767\n",
       "\\item[Errors] -3.27859954463555\n",
       "\\item[NewLeagueN] -9.4966803100264\n",
       "\\end{description*}\n"
      ],
      "text/markdown": [
       "(Intercept)\n",
       ":   48.7661032921608AtBat\n",
       ":   -0.358099859376738Hits\n",
       ":   1.96935928646357HmRun\n",
       ":   -1.27824798145678Runs\n",
       ":   1.14589163211962RBI\n",
       ":   0.803829228437672Walks\n",
       ":   2.71618579623371Years\n",
       ":   -6.21831921727865CAtBat\n",
       ":   0.00544783719814918CHits\n",
       ":   0.10648951402342CHmRun\n",
       ":   0.624485956082661CRuns\n",
       ":   0.221498463760022CRBI\n",
       ":   0.218691380321248CWalks\n",
       ":   -0.150024548516927LeagueN\n",
       ":   45.9258855144158DivisionW\n",
       ":   -118.201136816368PutOuts\n",
       ":   0.250232154092559Assists\n",
       ":   0.121566461346767Errors\n",
       ":   -3.27859954463555NewLeagueN\n",
       ":   -9.4966803100264\n",
       "\n"
      ],
      "text/plain": [
       "  (Intercept)         AtBat          Hits         HmRun          Runs \n",
       " 4.876610e+01 -3.580999e-01  1.969359e+00 -1.278248e+00  1.145892e+00 \n",
       "          RBI         Walks         Years        CAtBat         CHits \n",
       " 8.038292e-01  2.716186e+00 -6.218319e+00  5.447837e-03  1.064895e-01 \n",
       "       CHmRun         CRuns          CRBI        CWalks       LeagueN \n",
       " 6.244860e-01  2.214985e-01  2.186914e-01 -1.500245e-01  4.592589e+01 \n",
       "    DivisionW       PutOuts       Assists        Errors    NewLeagueN \n",
       "-1.182011e+02  2.502322e-01  1.215665e-01 -3.278600e+00 -9.496680e+00 "
      ]
     },
     "metadata": {},
     "output_type": "display_data"
    }
   ],
   "source": [
    "predict(ridge.mod, s = 50, type = \"coefficients\")[1:20, ]"
   ]
  },
  {
   "cell_type": "markdown",
   "metadata": {},
   "source": [
    "Our next step is to split the observations into a training set and a test set in order to estimate the test error of ridge regression and the lasso. In the stepwise subset selection methods section of this lab, we produced a random vector of `TRUE`, `FALSE` elements to use as a boolean mask with `TRUE` corresponding to the training data. The other common approach to splitting the observations is to randomly choose a subset of numbers between 1 and $n$ to use as the indices for the training observations. In this portion of the lab, we'll use the second approach. As always, we set a random seed to ensure reproducibility of the results."
   ]
  },
  {
   "cell_type": "code",
   "execution_count": 53,
   "metadata": {},
   "outputs": [],
   "source": [
    "set.seed(1)\n",
    "train = sample(1:nrow(x), nrow(x)/2)\n",
    "test = (-train)\n",
    "y.test = y[test]"
   ]
  },
  {
   "cell_type": "markdown",
   "metadata": {},
   "source": [
    "With our data split, we first fit a ridge regression model using the training set before computing the mean squared error with the test set. We'll use the arbitrary value of $\\lambda = 4$. Note that this time when we use the `predict()` method, we use the `newx` argument to specify that we are computing the predicted values for the test observations."
   ]
  },
  {
   "cell_type": "code",
   "execution_count": 54,
   "metadata": {},
   "outputs": [
    {
     "data": {
      "text/html": [
       "142199.150722761"
      ],
      "text/latex": [
       "142199.150722761"
      ],
      "text/markdown": [
       "142199.150722761"
      ],
      "text/plain": [
       "[1] 142199.2"
      ]
     },
     "metadata": {},
     "output_type": "display_data"
    }
   ],
   "source": [
    "ridge.mod = glmnet(x[train, ], y[train], alpha = 0, lambda = grid, thresh = 1e-12)\n",
    "ridge.pred = predict(ridge.mod, s = 4, newx = x[test, ])\n",
    "mean((ridge.pred - y.test)^2)"
   ]
  },
  {
   "cell_type": "markdown",
   "metadata": {},
   "source": [
    "Here we obtained a test mean squared error of 142199. To compare, we can consider the case in which we simply fit a model with just an intercept. In that case, our predicted value for each test observation would simply be the mean value of the response for the training observations."
   ]
  },
  {
   "cell_type": "code",
   "execution_count": 55,
   "metadata": {},
   "outputs": [
    {
     "data": {
      "text/html": [
       "224669.906736192"
      ],
      "text/latex": [
       "224669.906736192"
      ],
      "text/markdown": [
       "224669.906736192"
      ],
      "text/plain": [
       "[1] 224669.9"
      ]
     },
     "metadata": {},
     "output_type": "display_data"
    }
   ],
   "source": [
    "mean((mean(y[train]) - y.test)^2)"
   ]
  },
  {
   "cell_type": "markdown",
   "metadata": {},
   "source": [
    "In terms of a ridge regression model, this is equivalent to using an extremely large value of $\\lambda$, such as $10^{10}$. Note that the two values are not exactly equal due to numerical approximations on the part of `glmnet()`."
   ]
  },
  {
   "cell_type": "code",
   "execution_count": 56,
   "metadata": {},
   "outputs": [
    {
     "data": {
      "text/html": [
       "224669.833069663"
      ],
      "text/latex": [
       "224669.833069663"
      ],
      "text/markdown": [
       "224669.833069663"
      ],
      "text/plain": [
       "[1] 224669.8"
      ]
     },
     "metadata": {},
     "output_type": "display_data"
    }
   ],
   "source": [
    "ridge.pred = predict(ridge.mod, s = 1e10, newx = x[test, ])\n",
    "mean((ridge.pred - y.test)^2)"
   ]
  },
  {
   "cell_type": "markdown",
   "metadata": {},
   "source": [
    "As we can see, using a ridge regression model with $\\lambda = 4$ provides a much lower test mean squared error compared to the model with just an intercept. We can also compare to the regular least squares model, which corresponds to $\\lambda = 0$. Note that for `glmnet()` to yield the exact least squares coefficients when $\\lambda = 0$, we need to use the argument `exact = TRUE` in the `predict()` function. Otherwise, the `predict()` function will interpolate over the grid of $\\lambda$ values that was used when fitting the `glmnet()` model, yielding approximate results. Also, the coefficients will still not exactly match the output of `lm()` due to numerical approximation on the back end of `glmnet()`. In general, if we wish to fit a standard (unpenalized) least squares model, we should use `lm()` to have access to outputs for things like standard errors and p-values for the coefficients.\n",
    "\n",
    "Also note that, as discussed in the [glmnet documentation for `predict()`](https://glmnet.stanford.edu/reference/predict.glmnet.html), when using the argument `exact = TRUE`, we must supply the original `x` and `y`  data using the named arguments `x = ` and `y = ` in order for the workhorse method `predict.glmnet()` to update the model."
   ]
  },
  {
   "cell_type": "code",
   "execution_count": 57,
   "metadata": {},
   "outputs": [
    {
     "data": {
      "text/html": [
       "168588.573185796"
      ],
      "text/latex": [
       "168588.573185796"
      ],
      "text/markdown": [
       "168588.573185796"
      ],
      "text/plain": [
       "[1] 168588.6"
      ]
     },
     "metadata": {},
     "output_type": "display_data"
    }
   ],
   "source": [
    "ridge.pred = predict(ridge.mod, s = 0, newx = x[test, ], exact = TRUE, x = x[train, ], y = y[train])\n",
    "mean((ridge.pred - y.test)^2)"
   ]
  },
  {
   "cell_type": "code",
   "execution_count": 58,
   "metadata": {},
   "outputs": [
    {
     "data": {
      "text/plain": [
       "\n",
       "Call:\n",
       "lm(formula = y ~ x, subset = train)\n",
       "\n",
       "Coefficients:\n",
       "(Intercept)       xAtBat        xHits       xHmRun        xRuns         xRBI  \n",
       "   274.0145      -0.3521      -1.6377       5.8145       1.5424       1.1243  \n",
       "     xWalks       xYears      xCAtBat       xCHits      xCHmRun       xCRuns  \n",
       "     3.7287     -16.3773      -0.6412       3.1632       3.4008      -0.9739  \n",
       "      xCRBI      xCWalks     xLeagueN   xDivisionW     xPutOuts     xAssists  \n",
       "    -0.6005       0.3379     119.1486    -144.0831       0.1976       0.6804  \n",
       "    xErrors  xNewLeagueN  \n",
       "    -4.7128     -71.0951  \n"
      ]
     },
     "metadata": {},
     "output_type": "display_data"
    }
   ],
   "source": [
    "lm(y ~ x, subset = train)"
   ]
  },
  {
   "cell_type": "code",
   "execution_count": 59,
   "metadata": {},
   "outputs": [
    {
     "data": {
      "text/html": [
       "<dl class=dl-horizontal>\n",
       "\t<dt>(Intercept)</dt>\n",
       "\t\t<dd>274.020099411171</dd>\n",
       "\t<dt>AtBat</dt>\n",
       "\t\t<dd>-0.352190040359066</dd>\n",
       "\t<dt>Hits</dt>\n",
       "\t\t<dd>-1.63713831624301</dd>\n",
       "\t<dt>HmRun</dt>\n",
       "\t\t<dd>5.81466916444922</dd>\n",
       "\t<dt>Runs</dt>\n",
       "\t\t<dd>1.54233614804163</dd>\n",
       "\t<dt>RBI</dt>\n",
       "\t\t<dd>1.12418373819324</dd>\n",
       "\t<dt>Walks</dt>\n",
       "\t\t<dd>3.72884063254251</dd>\n",
       "\t<dt>Years</dt>\n",
       "\t\t<dd>-16.3795195276059</dd>\n",
       "\t<dt>CAtBat</dt>\n",
       "\t\t<dd>-0.641123531289763</dd>\n",
       "\t<dt>CHits</dt>\n",
       "\t\t<dd>3.16294442513102</dd>\n",
       "\t<dt>CHmRun</dt>\n",
       "\t\t<dd>3.40052810127103</dd>\n",
       "\t<dt>CRuns</dt>\n",
       "\t\t<dd>-0.973940545112817</dd>\n",
       "\t<dt>CRBI</dt>\n",
       "\t\t<dd>-0.600397639660992</dd>\n",
       "\t<dt>CWalks</dt>\n",
       "\t\t<dd>0.337842206934086</dd>\n",
       "\t<dt>LeagueN</dt>\n",
       "\t\t<dd>119.143463714468</dd>\n",
       "\t<dt>DivisionW</dt>\n",
       "\t\t<dd>-144.085306139924</dd>\n",
       "\t<dt>PutOuts</dt>\n",
       "\t\t<dd>0.197630005419206</dd>\n",
       "\t<dt>Assists</dt>\n",
       "\t\t<dd>0.680420043718992</dd>\n",
       "\t<dt>Errors</dt>\n",
       "\t\t<dd>-4.71278790209915</dd>\n",
       "\t<dt>NewLeagueN</dt>\n",
       "\t\t<dd>-71.0898913709193</dd>\n",
       "</dl>\n"
      ],
      "text/latex": [
       "\\begin{description*}\n",
       "\\item[(Intercept)] 274.020099411171\n",
       "\\item[AtBat] -0.352190040359066\n",
       "\\item[Hits] -1.63713831624301\n",
       "\\item[HmRun] 5.81466916444922\n",
       "\\item[Runs] 1.54233614804163\n",
       "\\item[RBI] 1.12418373819324\n",
       "\\item[Walks] 3.72884063254251\n",
       "\\item[Years] -16.3795195276059\n",
       "\\item[CAtBat] -0.641123531289763\n",
       "\\item[CHits] 3.16294442513102\n",
       "\\item[CHmRun] 3.40052810127103\n",
       "\\item[CRuns] -0.973940545112817\n",
       "\\item[CRBI] -0.600397639660992\n",
       "\\item[CWalks] 0.337842206934086\n",
       "\\item[LeagueN] 119.143463714468\n",
       "\\item[DivisionW] -144.085306139924\n",
       "\\item[PutOuts] 0.197630005419206\n",
       "\\item[Assists] 0.680420043718992\n",
       "\\item[Errors] -4.71278790209915\n",
       "\\item[NewLeagueN] -71.0898913709193\n",
       "\\end{description*}\n"
      ],
      "text/markdown": [
       "(Intercept)\n",
       ":   274.020099411171AtBat\n",
       ":   -0.352190040359066Hits\n",
       ":   -1.63713831624301HmRun\n",
       ":   5.81466916444922Runs\n",
       ":   1.54233614804163RBI\n",
       ":   1.12418373819324Walks\n",
       ":   3.72884063254251Years\n",
       ":   -16.3795195276059CAtBat\n",
       ":   -0.641123531289763CHits\n",
       ":   3.16294442513102CHmRun\n",
       ":   3.40052810127103CRuns\n",
       ":   -0.973940545112817CRBI\n",
       ":   -0.600397639660992CWalks\n",
       ":   0.337842206934086LeagueN\n",
       ":   119.143463714468DivisionW\n",
       ":   -144.085306139924PutOuts\n",
       ":   0.197630005419206Assists\n",
       ":   0.680420043718992Errors\n",
       ":   -4.71278790209915NewLeagueN\n",
       ":   -71.0898913709193\n",
       "\n"
      ],
      "text/plain": [
       " (Intercept)        AtBat         Hits        HmRun         Runs          RBI \n",
       " 274.0200994   -0.3521900   -1.6371383    5.8146692    1.5423361    1.1241837 \n",
       "       Walks        Years       CAtBat        CHits       CHmRun        CRuns \n",
       "   3.7288406  -16.3795195   -0.6411235    3.1629444    3.4005281   -0.9739405 \n",
       "        CRBI       CWalks      LeagueN    DivisionW      PutOuts      Assists \n",
       "  -0.6003976    0.3378422  119.1434637 -144.0853061    0.1976300    0.6804200 \n",
       "      Errors   NewLeagueN \n",
       "  -4.7127879  -71.0898914 "
      ]
     },
     "metadata": {},
     "output_type": "display_data"
    }
   ],
   "source": [
    "predict(ridge.mod, s = 0, type = \"coefficients\", exact = TRUE, x = x[train, ], y = y[train])[1:20,]"
   ]
  },
  {
   "cell_type": "markdown",
   "metadata": {},
   "source": [
    "To wrap up our discussion of using `glmnet()` to fit ridge regression models, we use cross-validation to help us choose the tuning parameter $\\lambda$ instead of arbitrarily choosing a value such as $\\lambda = 4$. To do so, we'll use the built-in cross-validation function `cv.glmnet()`. While by default it performs ten-fold cross validation, we can change the number of folds using the `nfolds` argument. Since the choice of cross-validation folds is random, we once again set a random seed to ensure reproducibility of our results.\n",
    "\n",
    "Note that we are only using our training set in cross-validation to pick the value of $\\lambda$."
   ]
  },
  {
   "cell_type": "code",
   "execution_count": 60,
   "metadata": {},
   "outputs": [],
   "source": [
    "set.seed(1)\n",
    "cv.out = cv.glmnet(x[train, ], y[train], alpha = 0)"
   ]
  },
  {
   "cell_type": "code",
   "execution_count": 61,
   "metadata": {},
   "outputs": [
    {
     "data": {
      "image/png": "[encoded data removed]",
      "text/plain": [
       "plot without title"
      ]
     },
     "metadata": {},
     "output_type": "display_data"
    }
   ],
   "source": [
    "plot(cv.out)"
   ]
  },
  {
   "cell_type": "code",
   "execution_count": 62,
   "metadata": {},
   "outputs": [
    {
     "data": {
      "text/html": [
       "326.08278854596"
      ],
      "text/latex": [
       "326.08278854596"
      ],
      "text/markdown": [
       "326.08278854596"
      ],
      "text/plain": [
       "[1] 326.0828"
      ]
     },
     "metadata": {},
     "output_type": "display_data"
    }
   ],
   "source": [
    "bestlam = cv.out$lambda.min\n",
    "bestlam"
   ]
  },
  {
   "cell_type": "markdown",
   "metadata": {},
   "source": [
    "We see that the value of $\\lambda$ that results in the smallest cross-validation error for the training set is 326. Now we compute the test mean squared error associated with this value of $\\lambda$."
   ]
  },
  {
   "cell_type": "code",
   "execution_count": 63,
   "metadata": {},
   "outputs": [
    {
     "data": {
      "text/html": [
       "139856.643451371"
      ],
      "text/latex": [
       "139856.643451371"
      ],
      "text/markdown": [
       "139856.643451371"
      ],
      "text/plain": [
       "[1] 139856.6"
      ]
     },
     "metadata": {},
     "output_type": "display_data"
    }
   ],
   "source": [
    "ridge.pred = predict(ridge.mod, s = bestlam, newx = x[test, ])\n",
    "mean((ridge.pred - y.test)^2)"
   ]
  },
  {
   "cell_type": "markdown",
   "metadata": {},
   "source": [
    "This is an additional improvement over the test means squared error that we got using $\\lambda = 4$. To conclude, we refit our ridge regression model with the full data set, using the value of $\\lambda$ that we chose through cross-validation, and examine the coefficient estimates. Note that none of the coefficients are zero -- ridge regression does not perform variable selection!"
   ]
  },
  {
   "cell_type": "code",
   "execution_count": 64,
   "metadata": {},
   "outputs": [
    {
     "data": {
      "text/html": [
       "<dl class=dl-horizontal>\n",
       "\t<dt>(Intercept)</dt>\n",
       "\t\t<dd>15.4438313539103</dd>\n",
       "\t<dt>AtBat</dt>\n",
       "\t\t<dd>0.0771554748907925</dd>\n",
       "\t<dt>Hits</dt>\n",
       "\t\t<dd>0.859115814031969</dd>\n",
       "\t<dt>HmRun</dt>\n",
       "\t\t<dd>0.601031069746882</dd>\n",
       "\t<dt>Runs</dt>\n",
       "\t\t<dd>1.06369006654778</dd>\n",
       "\t<dt>RBI</dt>\n",
       "\t\t<dd>0.879361053365972</dd>\n",
       "\t<dt>Walks</dt>\n",
       "\t\t<dd>1.62444616279791</dd>\n",
       "\t<dt>Years</dt>\n",
       "\t\t<dd>1.35254779528422</dd>\n",
       "\t<dt>CAtBat</dt>\n",
       "\t\t<dd>0.0113499915102498</dd>\n",
       "\t<dt>CHits</dt>\n",
       "\t\t<dd>0.0574665439614789</dd>\n",
       "\t<dt>CHmRun</dt>\n",
       "\t\t<dd>0.406801566464205</dd>\n",
       "\t<dt>CRuns</dt>\n",
       "\t\t<dd>0.114562244309134</dd>\n",
       "\t<dt>CRBI</dt>\n",
       "\t\t<dd>0.121165037864304</dd>\n",
       "\t<dt>CWalks</dt>\n",
       "\t\t<dd>0.0529920199108252</dd>\n",
       "\t<dt>LeagueN</dt>\n",
       "\t\t<dd>22.0914318947081</dd>\n",
       "\t<dt>DivisionW</dt>\n",
       "\t\t<dd>-79.0403263679412</dd>\n",
       "\t<dt>PutOuts</dt>\n",
       "\t\t<dd>0.166199027482507</dd>\n",
       "\t<dt>Assists</dt>\n",
       "\t\t<dd>0.0294194957326422</dd>\n",
       "\t<dt>Errors</dt>\n",
       "\t\t<dd>-1.36092944882302</dd>\n",
       "\t<dt>NewLeagueN</dt>\n",
       "\t\t<dd>9.12487766980244</dd>\n",
       "</dl>\n"
      ],
      "text/latex": [
       "\\begin{description*}\n",
       "\\item[(Intercept)] 15.4438313539103\n",
       "\\item[AtBat] 0.0771554748907925\n",
       "\\item[Hits] 0.859115814031969\n",
       "\\item[HmRun] 0.601031069746882\n",
       "\\item[Runs] 1.06369006654778\n",
       "\\item[RBI] 0.879361053365972\n",
       "\\item[Walks] 1.62444616279791\n",
       "\\item[Years] 1.35254779528422\n",
       "\\item[CAtBat] 0.0113499915102498\n",
       "\\item[CHits] 0.0574665439614789\n",
       "\\item[CHmRun] 0.406801566464205\n",
       "\\item[CRuns] 0.114562244309134\n",
       "\\item[CRBI] 0.121165037864304\n",
       "\\item[CWalks] 0.0529920199108252\n",
       "\\item[LeagueN] 22.0914318947081\n",
       "\\item[DivisionW] -79.0403263679412\n",
       "\\item[PutOuts] 0.166199027482507\n",
       "\\item[Assists] 0.0294194957326422\n",
       "\\item[Errors] -1.36092944882302\n",
       "\\item[NewLeagueN] 9.12487766980244\n",
       "\\end{description*}\n"
      ],
      "text/markdown": [
       "(Intercept)\n",
       ":   15.4438313539103AtBat\n",
       ":   0.0771554748907925Hits\n",
       ":   0.859115814031969HmRun\n",
       ":   0.601031069746882Runs\n",
       ":   1.06369006654778RBI\n",
       ":   0.879361053365972Walks\n",
       ":   1.62444616279791Years\n",
       ":   1.35254779528422CAtBat\n",
       ":   0.0113499915102498CHits\n",
       ":   0.0574665439614789CHmRun\n",
       ":   0.406801566464205CRuns\n",
       ":   0.114562244309134CRBI\n",
       ":   0.121165037864304CWalks\n",
       ":   0.0529920199108252LeagueN\n",
       ":   22.0914318947081DivisionW\n",
       ":   -79.0403263679412PutOuts\n",
       ":   0.166199027482507Assists\n",
       ":   0.0294194957326422Errors\n",
       ":   -1.36092944882302NewLeagueN\n",
       ":   9.12487766980244\n",
       "\n"
      ],
      "text/plain": [
       " (Intercept)        AtBat         Hits        HmRun         Runs          RBI \n",
       " 15.44383135   0.07715547   0.85911581   0.60103107   1.06369007   0.87936105 \n",
       "       Walks        Years       CAtBat        CHits       CHmRun        CRuns \n",
       "  1.62444616   1.35254780   0.01134999   0.05746654   0.40680157   0.11456224 \n",
       "        CRBI       CWalks      LeagueN    DivisionW      PutOuts      Assists \n",
       "  0.12116504   0.05299202  22.09143189 -79.04032637   0.16619903   0.02941950 \n",
       "      Errors   NewLeagueN \n",
       " -1.36092945   9.12487767 "
      ]
     },
     "metadata": {},
     "output_type": "display_data"
    }
   ],
   "source": [
    "out = glmnet(x, y, alpha = 0)\n",
    "predict(out, type = \"coefficients\", s = bestlam)[1:20, ]"
   ]
  },
  {
   "cell_type": "markdown",
   "metadata": {},
   "source": [
    "## The Lasso"
   ]
  },
  {
   "cell_type": "markdown",
   "metadata": {},
   "source": [
    "In the previous subsection we saw how ridge regression with a good choice of $\\lambda$, which we determined through cross-validation, can perform both unpenalized least squares and the null model on the `Hitters` data set. Now we compare the ridge regression model with that obtained through the lasso and see if we can obtain either a more accurate or more interpetable model. \n",
    "\n",
    "Recall that the lasso coefficient estimates $\\hat{\\beta}^L$ are the values that minimize\n",
    "\n",
    "\\begin{equation}\n",
    "    \\sum_{i = 1}^n \\left( y_i - \\beta_0 - \\sum_{j = 1}^p \\beta_jx_{ij} \\right)^2 + \\lambda \\sum_{j = 1}^p \\lvert \\beta_j \\rvert\n",
    "    = \\text{RSS} + \\lambda \\sum_{j = 1}^p \\lvert \\beta_j \\rvert,\n",
    "\\end{equation}\n",
    "\n",
    "where $\\lambda \\geq 0$ is the tuning parameter that determines the size of the impact of the shrinkage penalty. The key difference between ridge regression and the lasso is that the former uses an $\\ell_2$ penalty while the latter uses an $\\ell_1$ penalty.\n",
    "\n",
    "Fitting a lasso model using `glmnet()` is just like fitting a ridge regression model -- the only difference is that we use the argument `alpha = 1`. We use the same train/test split that we made in the previous subsection."
   ]
  },
  {
   "cell_type": "code",
   "execution_count": 65,
   "metadata": {},
   "outputs": [
    {
     "name": "stderr",
     "output_type": "stream",
     "text": [
      "Warning message in regularize.values(x, y, ties, missing(ties)):\n",
      "\"collapsing to unique 'x' values\""
     ]
    },
    {
     "data": {
      "image/png": "[encoded data removed]",
      "text/plain": [
       "plot without title"
      ]
     },
     "metadata": {},
     "output_type": "display_data"
    }
   ],
   "source": [
    "lasso.mod = glmnet(x[train, ], y[train], alpha = 1, lambda = grid)\n",
    "plot(lasso.mod)"
   ]
  },
  {
   "cell_type": "markdown",
   "metadata": {},
   "source": [
    "From the coefficient plot, we can see that depending on the choice of tuning parameter, i.e. how large of an $\\ell_1$ norm we allow the vector of coefficients $\\hat{\\beta}$ to have, some of the coeffcients will be exactly equal to zero. Our next step is to perform cross-validation to choose the $\\lambda$ which minimizes the cross-validation error and then compute the associated test error."
   ]
  },
  {
   "cell_type": "code",
   "execution_count": 66,
   "metadata": {},
   "outputs": [
    {
     "data": {
      "image/png": "[encoded data removed]",
      "text/plain": [
       "plot without title"
      ]
     },
     "metadata": {},
     "output_type": "display_data"
    }
   ],
   "source": [
    "set.seed(1)\n",
    "cv.out = cv.glmnet(x[train, ], y[train], alpha = 1)\n",
    "plot(cv.out)"
   ]
  },
  {
   "cell_type": "code",
   "execution_count": 67,
   "metadata": {},
   "outputs": [
    {
     "data": {
      "text/html": [
       "9.28695474961673"
      ],
      "text/latex": [
       "9.28695474961673"
      ],
      "text/markdown": [
       "9.28695474961673"
      ],
      "text/plain": [
       "[1] 9.286955"
      ]
     },
     "metadata": {},
     "output_type": "display_data"
    }
   ],
   "source": [
    "bestlam = cv.out$lambda.min\n",
    "bestlam"
   ]
  },
  {
   "cell_type": "code",
   "execution_count": 68,
   "metadata": {},
   "outputs": [
    {
     "data": {
      "text/html": [
       "143673.618543046"
      ],
      "text/latex": [
       "143673.618543046"
      ],
      "text/markdown": [
       "143673.618543046"
      ],
      "text/plain": [
       "[1] 143673.6"
      ]
     },
     "metadata": {},
     "output_type": "display_data"
    }
   ],
   "source": [
    "lasso.pred = predict(lasso.mod, s = bestlam, newx = x[test, ])\n",
    "mean((lasso.pred - y.test)^2)"
   ]
  },
  {
   "cell_type": "markdown",
   "metadata": {},
   "source": [
    "We see that the value of $\\lambda$ that minimizes the cross-validation is lambda is $\\lambda = 9.287$. This value of $\\lambda$ gives a test mean squared error that of 143674, which is substantially smaller than that for the null model (224670) and unpenalized least squares (168589). It is also comparable to the test mean squared error for ridge regression with the $\\lambda$ we chose with cross-validation in the previous subsection (139857).\n",
    "\n",
    "However, an important advantage that the lasso has over ridge regression is the fact that the resulting coefficient estimates are sparse."
   ]
  },
  {
   "cell_type": "code",
   "execution_count": 69,
   "metadata": {},
   "outputs": [
    {
     "data": {
      "text/html": [
       "<dl class=dl-horizontal>\n",
       "\t<dt>(Intercept)</dt>\n",
       "\t\t<dd>-3.04787647701913</dd>\n",
       "\t<dt>AtBat</dt>\n",
       "\t\t<dd>0</dd>\n",
       "\t<dt>Hits</dt>\n",
       "\t\t<dd>2.02551571973406</dd>\n",
       "\t<dt>HmRun</dt>\n",
       "\t\t<dd>0</dd>\n",
       "\t<dt>Runs</dt>\n",
       "\t\t<dd>0</dd>\n",
       "\t<dt>RBI</dt>\n",
       "\t\t<dd>0</dd>\n",
       "\t<dt>Walks</dt>\n",
       "\t\t<dd>2.26853781116777</dd>\n",
       "\t<dt>Years</dt>\n",
       "\t\t<dd>0</dd>\n",
       "\t<dt>CAtBat</dt>\n",
       "\t\t<dd>0</dd>\n",
       "\t<dt>CHits</dt>\n",
       "\t\t<dd>0</dd>\n",
       "\t<dt>CHmRun</dt>\n",
       "\t\t<dd>0.0164710598514274</dd>\n",
       "\t<dt>CRuns</dt>\n",
       "\t\t<dd>0.211773899037458</dd>\n",
       "\t<dt>CRBI</dt>\n",
       "\t\t<dd>0.419446324067207</dd>\n",
       "\t<dt>CWalks</dt>\n",
       "\t\t<dd>0</dd>\n",
       "\t<dt>LeagueN</dt>\n",
       "\t\t<dd>20.4845654335123</dd>\n",
       "\t<dt>DivisionW</dt>\n",
       "\t\t<dd>-116.59062077737</dd>\n",
       "\t<dt>PutOuts</dt>\n",
       "\t\t<dd>0.237184593186267</dd>\n",
       "\t<dt>Assists</dt>\n",
       "\t\t<dd>0</dd>\n",
       "\t<dt>Errors</dt>\n",
       "\t\t<dd>-0.947399225337244</dd>\n",
       "\t<dt>NewLeagueN</dt>\n",
       "\t\t<dd>0</dd>\n",
       "</dl>\n"
      ],
      "text/latex": [
       "\\begin{description*}\n",
       "\\item[(Intercept)] -3.04787647701913\n",
       "\\item[AtBat] 0\n",
       "\\item[Hits] 2.02551571973406\n",
       "\\item[HmRun] 0\n",
       "\\item[Runs] 0\n",
       "\\item[RBI] 0\n",
       "\\item[Walks] 2.26853781116777\n",
       "\\item[Years] 0\n",
       "\\item[CAtBat] 0\n",
       "\\item[CHits] 0\n",
       "\\item[CHmRun] 0.0164710598514274\n",
       "\\item[CRuns] 0.211773899037458\n",
       "\\item[CRBI] 0.419446324067207\n",
       "\\item[CWalks] 0\n",
       "\\item[LeagueN] 20.4845654335123\n",
       "\\item[DivisionW] -116.59062077737\n",
       "\\item[PutOuts] 0.237184593186267\n",
       "\\item[Assists] 0\n",
       "\\item[Errors] -0.947399225337244\n",
       "\\item[NewLeagueN] 0\n",
       "\\end{description*}\n"
      ],
      "text/markdown": [
       "(Intercept)\n",
       ":   -3.04787647701913AtBat\n",
       ":   0Hits\n",
       ":   2.02551571973406HmRun\n",
       ":   0Runs\n",
       ":   0RBI\n",
       ":   0Walks\n",
       ":   2.26853781116777Years\n",
       ":   0CAtBat\n",
       ":   0CHits\n",
       ":   0CHmRun\n",
       ":   0.0164710598514274CRuns\n",
       ":   0.211773899037458CRBI\n",
       ":   0.419446324067207CWalks\n",
       ":   0LeagueN\n",
       ":   20.4845654335123DivisionW\n",
       ":   -116.59062077737PutOuts\n",
       ":   0.237184593186267Assists\n",
       ":   0Errors\n",
       ":   -0.947399225337244NewLeagueN\n",
       ":   0\n",
       "\n"
      ],
      "text/plain": [
       "  (Intercept)         AtBat          Hits         HmRun          Runs \n",
       "  -3.04787648    0.00000000    2.02551572    0.00000000    0.00000000 \n",
       "          RBI         Walks         Years        CAtBat         CHits \n",
       "   0.00000000    2.26853781    0.00000000    0.00000000    0.00000000 \n",
       "       CHmRun         CRuns          CRBI        CWalks       LeagueN \n",
       "   0.01647106    0.21177390    0.41944632    0.00000000   20.48456543 \n",
       "    DivisionW       PutOuts       Assists        Errors    NewLeagueN \n",
       "-116.59062078    0.23718459    0.00000000   -0.94739923    0.00000000 "
      ]
     },
     "metadata": {},
     "output_type": "display_data"
    }
   ],
   "source": [
    "out = glmnet(x, y, alpha = 1)\n",
    "predict(out, type = \"coefficients\", s = bestlam)[1:20, ]"
   ]
  },
  {
   "cell_type": "markdown",
   "metadata": {},
   "source": [
    "We see that 10 of the 19 coefficients are exactly zero, so the lasso model with $\\lambda$ chosen by cross-validation contains only 9 variables. This smaller model is a lot easier to interpret compared to the ridge regression model."
   ]
  },
  {
   "cell_type": "markdown",
   "metadata": {},
   "source": [
    "# Part 3: PCR and PLS Regression"
   ]
  },
  {
   "cell_type": "markdown",
   "metadata": {},
   "source": [
    "For the final part of this lab, we use the `pls` library ([CRAN page](https://cran.r-project.org/package=pls)) to perform princpal components regression and partial least squares regression, two dimension reduction methods that transform the predictors and then fit a least squares model using the transformed predictors."
   ]
  },
  {
   "cell_type": "code",
   "execution_count": 70,
   "metadata": {},
   "outputs": [
    {
     "name": "stderr",
     "output_type": "stream",
     "text": [
      "\n",
      "Attaching package: 'pls'\n",
      "\n",
      "The following object is masked from 'package:stats':\n",
      "\n",
      "    loadings\n",
      "\n"
     ]
    }
   ],
   "source": [
    "library(pls)"
   ]
  },
  {
   "cell_type": "markdown",
   "metadata": {},
   "source": [
    "Before we actually peform principal components regression and partial least squares regression with the `Hitters` data set, we recall the mathematical underpinnings of dimension reduction. Let our original predictors be $X_1, X_2, \\dots, X_p$. The goal of dimension reduction is to appropriately choose linear combinations of the $X_j$, $Z_1, Z_2, \\dots, Z_M$, for $M < p$. In other words, for $m = 1, \\dots, M$ we pick constants $\\phi_{1m}, \\phi_{2m}, \\dots, \\phi_{pm}$ and write\n",
    "\n",
    "\\begin{equation}\n",
    "    Z_m = \\sum_{j = 1}^p \\phi_{jm}X_j.\n",
    "\\end{equation}\n",
    "\n",
    "We then fit the linear regression model\n",
    "\n",
    "\\begin{equation}\n",
    "    y_i = \\theta_0 + \\sum_{m = 1}^M \\theta_m z_{im} + \\epsilon_i, \\quad i = 1, \\dots, n\n",
    "\\end{equation}\n",
    "\n",
    "using least squares. The *dimension reduction* aspect comes from the fact that this approach reduces the problem of estimating $p + 1$ coefficients $\\beta_0, \\beta_1, \\dots, \\beta_p$ to the simpler problem of estimating $M + 1$ coefficients $\\theta_0, \\theta_1, \\dots, \\theta_M$, where $M < p$. \n",
    "\n",
    "Note that we can think of linear regression with the linear combinations $Z_m$ as a special case of the original linear regression model $Y = \\beta_0 + \\beta_1X_1 + \\dots + \\beta_pX_p + \\epsilon$ by plugging the definition of the $Z_m$ into the linear regression formula.\n",
    "\\begin{equation}\n",
    "    \\sum_{m = 1}^M \\theta_m z_{im} = \n",
    "    \\sum_{m = 1}^M \\theta_m \\sum_{j = 1}^p \\phi_{jm} x_{ij} = \n",
    "    \\sum_{j = 1}^p \\sum_{m = 1}^M \\theta_m \\phi_{jm} x_{ij} = \n",
    "    \\sum_{j = 1}^p \\beta_j x_{ij}, \\quad \\text{where }\n",
    "    \\beta_j = \\sum_{m = 1}^M \\theta_m \\phi{jm}\n",
    "\\end{equation}\n",
    "\n",
    "From this perspective, dimension reduction serves as an additional constraint on the estimated $\\beta_j$ coefficients, as they must now take the form given above. While such a constraint may bias the coefficient estimates, in situations where the number of predictors $p$ is large relative to the number of observations $n$, selecting a value of $M \\ll p$ can greatly reduce the variance of the fitted coefficients. One last thing to note is that if $M = p$ and the $Z_m$ are all linearly independent, then there are no constraints on the form of $\\beta_j$ in the above formula and no dimension reduction occurs. Therefore performing least squares with the $Z_m$ is equivalent to performing least squares with the original $p$ predictors $X_j$.\n",
    "\n",
    "Dimension reduction methods all follow the above strategy, which can be broken down into two main steps. First, obtain the transformed predictors $Z_1, Z_2, \\dots, Z_m$, or equivalently the coefficients $\\phi_{jm}$ for $j = 1, \\dots, p$ and $m = 1, \\dots, M$. Second, use the $M$ transformed predictors to fit a model. The key difference between different dimension reduction methods, such as principal components regression and partial least squares regression, lies in the choice of $Z_1, \\dots, Z_m$, or equivalently the choice of $\\phi_{jm}$."
   ]
  },
  {
   "cell_type": "markdown",
   "metadata": {},
   "source": [
    "## Principal Components Regression"
   ]
  },
  {
   "cell_type": "markdown",
   "metadata": {},
   "source": [
    "In principal components regression, our key underlying assumption is that the directions in which $X_1, \\dots, X_p$ show the most variation are the directions that are associated with $Y$. In other words, to choose $Z_1$, we pick $\\phi_{j1}$ subject to the constraint $\\phi_{11}^2 + \\dots + \\phi_{p1}^2 = 1$ such that $Z_1 = \\phi_{11}X_1 + \\dots + \\phi_{p1}X_p$ has the largest variance. Note that we include the constraint to disallow the ability of arbitrarily increasing the $\\phi_{j1}$ to blow up the variance. We then choose $Z_m$ for $m = 2, \\dots, M$ such that $Z_m$ is the linear combination of the variables that is uncorrelated with $Z_1, \\dots, Z_{m - 1}$ with the largest variance. The constraint of being uncorrelated with the preceding components is equivalent to being orthogonal to each of the preceding components."
   ]
  },
  {
   "cell_type": "markdown",
   "metadata": {},
   "source": [
    "To perform principal components regression, we use the `pcr()` function from the `pls` library. The syntax for `pcr()` is similar to that for `lm()` with few additional options. Here we use the argument `scale = TRUE` to standardize each predictor according to the formula\n",
    "\n",
    "\\begin{equation}\n",
    "    \\tilde{x}_{ij} = \\frac{x_{ij}}{\\sqrt{\\frac{1}{n} \\sum_{i = 1}^n (x_{ij} - \\bar{x}_j)^2}}\n",
    "\\end{equation}\n",
    "\n",
    "to ensure that all predictors are on the same scale, with standard deviation of one, prior to generating the principal components. Note that we may not wish to do this if the predictors are already all measured using the same units. The argument `validation = \"CV\"` tells `pcr()` to compute the ten-fold cross-validation error for each possible value of $M$, the number of principal components used."
   ]
  },
  {
   "cell_type": "code",
   "execution_count": 71,
   "metadata": {},
   "outputs": [
    {
     "name": "stdout",
     "output_type": "stream",
     "text": [
      "Data: \tX dimension: 263 19 \n",
      "\tY dimension: 263 1\n",
      "Fit method: svdpc\n",
      "Number of components considered: 19\n",
      "\n",
      "VALIDATION: RMSEP\n",
      "Cross-validated using 10 random segments.\n",
      "       (Intercept)  1 comps  2 comps  3 comps  4 comps  5 comps  6 comps\n",
      "CV             452    351.9    353.2    355.0    352.8    348.4    343.6\n",
      "adjCV          452    351.6    352.7    354.4    352.1    347.6    342.7\n",
      "       7 comps  8 comps  9 comps  10 comps  11 comps  12 comps  13 comps\n",
      "CV       345.5    347.7    349.6     351.4     352.1     353.5     358.2\n",
      "adjCV    344.7    346.7    348.5     350.1     350.7     352.0     356.5\n",
      "       14 comps  15 comps  16 comps  17 comps  18 comps  19 comps\n",
      "CV        349.7     349.4     339.9     341.6     339.2     339.6\n",
      "adjCV     348.0     347.7     338.2     339.7     337.2     337.6\n",
      "\n",
      "TRAINING: % variance explained\n",
      "        1 comps  2 comps  3 comps  4 comps  5 comps  6 comps  7 comps  8 comps\n",
      "X         38.31    60.16    70.84    79.03    84.29    88.63    92.26    94.96\n",
      "Salary    40.63    41.58    42.17    43.22    44.90    46.48    46.69    46.75\n",
      "        9 comps  10 comps  11 comps  12 comps  13 comps  14 comps  15 comps\n",
      "X         96.28     97.26     97.98     98.65     99.15     99.47     99.75\n",
      "Salary    46.86     47.76     47.82     47.85     48.10     50.40     50.55\n",
      "        16 comps  17 comps  18 comps  19 comps\n",
      "X          99.89     99.97     99.99    100.00\n",
      "Salary     53.01     53.85     54.61     54.61\n"
     ]
    }
   ],
   "source": [
    "set.seed(2)\n",
    "pcr.fit = pcr(Salary ~ ., data = Hitters, scale = TRUE, validation = \"CV\")\n",
    "summary(pcr.fit)"
   ]
  },
  {
   "cell_type": "markdown",
   "metadata": {},
   "source": [
    "The first thing when note when looking at the summary output is that the cross-validation scores are reported using *root mean squared error*. In order to obtain the mean squared error that we are used to using, we simply square the value. For example, a root mean squared error of 351.9 for one component corresponds to a mean squared error of $351.9^2 = 123833$.\n",
    "\n",
    "We can also plot the cross-validation scores using the `validationplot()` function. Supplying the argument `val.type = \"MSEP\"` tells the function to plot the mean squared error."
   ]
  },
  {
   "cell_type": "code",
   "execution_count": 72,
   "metadata": {},
   "outputs": [
    {
     "data": {
      "image/png": "[encoded data removed]",
      "text/plain": [
       "Plot with title \"Salary\""
      ]
     },
     "metadata": {},
     "output_type": "display_data"
    }
   ],
   "source": [
    "validationplot(pcr.fit, val.type = \"MSEP\")"
   ]
  },
  {
   "cell_type": "markdown",
   "metadata": {},
   "source": [
    "Between the summary output and the plot of cross-validation scores, we see that the smallest cross-validation error occurs when $M = 16$ components are used. This isn't much smaller than $M = 19$, which is simply performing regular least squares regression. However, the summary output and plot indicate that $M = 6$ gives a cross-validation error that isn't much worse than $M = 16$, suggesting that a model with fewer components still might suffice.\n",
    "\n",
    "One other value that the summary output includes is the *percentage of variance explained* in the predictors and response for each number of components. We'll learn more about the concept in Chapter 10 when we discuss principal components analysis in depth, so for now we'll think of this number as the amount of information capture about the predictors or response that is captured using $M$ principal components. For example, $M = 1$ only captures 38.31% of all the variance, or information, in the predictors, while $M = 6$ increases that value to 88.63%. Unsurprisingly, if $M = p = 19$, 100% of the variance in the predictors is captured.\n",
    "\n",
    "Now that we have explored the basics of how to use `pcr()`, we perform principal components regression on the training data and evaluate its test set performance."
   ]
  },
  {
   "cell_type": "code",
   "execution_count": 73,
   "metadata": {},
   "outputs": [
    {
     "data": {
      "image/png": "[encoded data removed]",
      "text/plain": [
       "Plot with title \"Salary\""
      ]
     },
     "metadata": {},
     "output_type": "display_data"
    }
   ],
   "source": [
    "set.seed(1)\n",
    "pcr.fit = pcr(Salary ~ ., data = Hitters, subset = train, scale = TRUE, validation = \"CV\")\n",
    "validationplot(pcr.fit, val.type = \"MSEP\")"
   ]
  },
  {
   "cell_type": "code",
   "execution_count": 74,
   "metadata": {},
   "outputs": [
    {
     "name": "stdout",
     "output_type": "stream",
     "text": [
      "Data: \tX dimension: 131 19 \n",
      "\tY dimension: 131 1\n",
      "Fit method: svdpc\n",
      "Number of components considered: 19\n",
      "\n",
      "VALIDATION: RMSEP\n",
      "Cross-validated using 10 random segments.\n",
      "       (Intercept)  1 comps  2 comps  3 comps  4 comps  5 comps  6 comps\n",
      "CV           428.3    326.2    332.2    326.2    327.6    322.5    326.2\n",
      "adjCV        428.3    325.7    331.5    325.1    326.7    321.3    324.9\n",
      "       7 comps  8 comps  9 comps  10 comps  11 comps  12 comps  13 comps\n",
      "CV       331.9    328.3    331.1     332.1     334.5     338.9     337.7\n",
      "adjCV    330.3    326.6    328.6     329.9     332.2     336.4     335.1\n",
      "       14 comps  15 comps  16 comps  17 comps  18 comps  19 comps\n",
      "CV        338.7     341.7     340.1     344.2     353.3     345.0\n",
      "adjCV     336.1     338.9     337.0     340.9     349.3     341.1\n",
      "\n",
      "TRAINING: % variance explained\n",
      "        1 comps  2 comps  3 comps  4 comps  5 comps  6 comps  7 comps  8 comps\n",
      "X         39.32    61.57    71.96    80.83    85.95    89.99    93.25    95.34\n",
      "Salary    43.87    43.93    47.36    47.37    49.52    49.55    49.63    50.98\n",
      "        9 comps  10 comps  11 comps  12 comps  13 comps  14 comps  15 comps\n",
      "X         96.55     97.61     98.28     98.85     99.22     99.53     99.79\n",
      "Salary    53.00     53.00     53.02     53.05     53.80     53.85     54.03\n",
      "        16 comps  17 comps  18 comps  19 comps\n",
      "X          99.91     99.97     99.99    100.00\n",
      "Salary     55.85     55.89     56.21     58.62\n"
     ]
    }
   ],
   "source": [
    "summary(pcr.fit)"
   ]
  },
  {
   "cell_type": "markdown",
   "metadata": {},
   "source": [
    "With the training set, we see that the lowest cross-validation error occurs when $M = 5$. Now we compute the test mean squared error."
   ]
  },
  {
   "cell_type": "code",
   "execution_count": 75,
   "metadata": {},
   "outputs": [
    {
     "data": {
      "text/html": [
       "142811.810376319"
      ],
      "text/latex": [
       "142811.810376319"
      ],
      "text/markdown": [
       "142811.810376319"
      ],
      "text/plain": [
       "[1] 142811.8"
      ]
     },
     "metadata": {},
     "output_type": "display_data"
    }
   ],
   "source": [
    "pcr.pred = predict(pcr.fit, x[test, ], ncomp = 5)\n",
    "mean((pcr.pred - y[test])^2)"
   ]
  },
  {
   "cell_type": "markdown",
   "metadata": {},
   "source": [
    "We get a test mean squared error of 142812, which is comparable to that obtained with ridge regression (139857) and that obtained with the lasso (143674). However, because principal components regression involves producing linear combinations of the original predictors, the final model is more difficult to interpret. Even though we used only five principal components compared to the 19 orginal predictors, we did not perform any kind of variable selection, or even directly produce coefficient estimates. To conclude, we fit a principal components regression model on the full data set using $M = 5$, the number of components that we chose through cross-validation."
   ]
  },
  {
   "cell_type": "code",
   "execution_count": 76,
   "metadata": {},
   "outputs": [
    {
     "name": "stdout",
     "output_type": "stream",
     "text": [
      "Data: \tX dimension: 263 19 \n",
      "\tY dimension: 263 1\n",
      "Fit method: svdpc\n",
      "Number of components considered: 5\n",
      "TRAINING: % variance explained\n",
      "   1 comps  2 comps  3 comps  4 comps  5 comps\n",
      "X    38.31    60.16    70.84    79.03    84.29\n",
      "y    40.63    41.58    42.17    43.22    44.90\n"
     ]
    }
   ],
   "source": [
    "pcr.fit = pcr(y ~ x, scale = TRUE, ncomp = 5)\n",
    "summary(pcr.fit)"
   ]
  },
  {
   "cell_type": "markdown",
   "metadata": {},
   "source": [
    "## Partial Least Squares"
   ]
  },
  {
   "cell_type": "markdown",
   "metadata": {},
   "source": [
    "In contrast to principal components regression, which does not use the response $Y$ to help determine the principal component directions and is therefore an *unsupervised* method, partial least squares takes the response into account as a *supervised* method. Roughly speaking, partial least squares attempts to find directions that help explain both the response and the predictors. After standardizing the $p$ predictors $X_1, \\dots, X_p$, partial least squares computes the first direction $Z_1$ by setting $\\phi_{j1}$ in the formula\n",
    "\n",
    "\\begin{equation}\n",
    "    Z_m = \\sum_{j = 1}^p \\phi_{jm}X_j.\n",
    "\\end{equation}\n",
    "\n",
    "equal to the coefficient from the simple linear regression of $Y$ onto $X_j$. This coefficient is proportion to the correlation between $Y$ and $X_j$, so in computing $Z_1 = \\sum_{j = 1}^p \\phi_{j1} X_j$ partial least squares places the highest weight on the variables that are most strongly related to the response.\n",
    "\n",
    "To identify the second partial least squares direction, we first *adjust* each of the variables for $Z_1$, by regressing each variable on $Z_1$ and taking *residuals*, which can be interpreted as the remaining information that has not been explained by the first partial least squares direction. We then compute $Z_2$ using this *orthogonalized* data in the same fashion as $Z_1$ was computed with the original data. This iterative approach is then repeated to obtain partial least squares components $Z_1, \\dots, Z_M$. As with principal components regression, after we have obtained the components $Z_m$, we use least squares to fit a linear model to predict $Y$ using those components. It is important to note, though, that while the supervised dimension reduction of partial least squares can reduce bias, it also has the potential to increase variance. As well will see in the remainder of this lab, this often results in performance that is no better than ridge regression, the lasso, or principal components regression.\n",
    "\n",
    "To perform partial least squares regression, we use the `plsr()` function from the `pls` library. It uses identical syntax to the `pcr()` function we used in the previous part."
   ]
  },
  {
   "cell_type": "code",
   "execution_count": 78,
   "metadata": {},
   "outputs": [
    {
     "name": "stdout",
     "output_type": "stream",
     "text": [
      "Data: \tX dimension: 131 19 \n",
      "\tY dimension: 131 1\n",
      "Fit method: kernelpls\n",
      "Number of components considered: 19\n",
      "\n",
      "VALIDATION: RMSEP\n",
      "Cross-validated using 10 random segments.\n",
      "       (Intercept)  1 comps  2 comps  3 comps  4 comps  5 comps  6 comps\n",
      "CV           428.3    325.5    329.9    328.8    339.0    338.9    340.1\n",
      "adjCV        428.3    325.0    328.2    327.2    336.6    336.1    336.6\n",
      "       7 comps  8 comps  9 comps  10 comps  11 comps  12 comps  13 comps\n",
      "CV       339.0    347.1    346.4     343.4     341.5     345.4     356.4\n",
      "adjCV    336.2    343.4    342.8     340.2     338.3     341.8     351.1\n",
      "       14 comps  15 comps  16 comps  17 comps  18 comps  19 comps\n",
      "CV        348.4     349.1     350.0     344.2     344.5     345.0\n",
      "adjCV     344.2     345.0     345.9     340.4     340.6     341.1\n",
      "\n",
      "TRAINING: % variance explained\n",
      "        1 comps  2 comps  3 comps  4 comps  5 comps  6 comps  7 comps  8 comps\n",
      "X         39.13    48.80    60.09    75.07    78.58    81.12    88.21    90.71\n",
      "Salary    46.36    50.72    52.23    53.03    54.07    54.77    55.05    55.66\n",
      "        9 comps  10 comps  11 comps  12 comps  13 comps  14 comps  15 comps\n",
      "X         93.17     96.05     97.08     97.61     97.97     98.70     99.12\n",
      "Salary    55.95     56.12     56.47     56.68     57.37     57.76     58.08\n",
      "        16 comps  17 comps  18 comps  19 comps\n",
      "X          99.61     99.70     99.95    100.00\n",
      "Salary     58.17     58.49     58.56     58.62\n"
     ]
    }
   ],
   "source": [
    "set.seed(1)\n",
    "pls.fit = plsr(Salary ~ ., data = Hitters, subset = train, scale = TRUE, validation = \"CV\")\n",
    "summary(pls.fit)"
   ]
  },
  {
   "cell_type": "code",
   "execution_count": 79,
   "metadata": {},
   "outputs": [
    {
     "data": {
      "image/png": "[encoded data removed]",
      "text/plain": [
       "Plot with title \"Salary\""
      ]
     },
     "metadata": {},
     "output_type": "display_data"
    }
   ],
   "source": [
    "validationplot(pls.fit, val.type = \"MSEP\")"
   ]
  },
  {
   "cell_type": "markdown",
   "metadata": {},
   "source": [
    "The lowest cross-validation error occurs when only $M = 1$ partial least squares direction is used, though the errors for $M = 2$ and $M = 3$ are comparable. We now evaluate the test mean squared errors when using $M = 1, 2, 3$."
   ]
  },
  {
   "cell_type": "code",
   "execution_count": 86,
   "metadata": {},
   "outputs": [
    {
     "data": {
      "text/html": [
       "151995.259555806"
      ],
      "text/latex": [
       "151995.259555806"
      ],
      "text/markdown": [
       "151995.259555806"
      ],
      "text/plain": [
       "[1] 151995.3"
      ]
     },
     "metadata": {},
     "output_type": "display_data"
    }
   ],
   "source": [
    "pls.pred = predict(pls.fit, x[test, ], ncomp = 1)\n",
    "mean((pls.pred - y[test])^2)"
   ]
  },
  {
   "cell_type": "code",
   "execution_count": 87,
   "metadata": {},
   "outputs": [
    {
     "data": {
      "text/html": [
       "145367.722827519"
      ],
      "text/latex": [
       "145367.722827519"
      ],
      "text/markdown": [
       "145367.722827519"
      ],
      "text/plain": [
       "[1] 145367.7"
      ]
     },
     "metadata": {},
     "output_type": "display_data"
    }
   ],
   "source": [
    "pls.pred = predict(pls.fit, x[test, ], ncomp = 2)\n",
    "mean((pls.pred - y[test])^2)"
   ]
  },
  {
   "cell_type": "code",
   "execution_count": 88,
   "metadata": {},
   "outputs": [
    {
     "data": {
      "text/html": [
       "152994.621927149"
      ],
      "text/latex": [
       "152994.621927149"
      ],
      "text/markdown": [
       "152994.621927149"
      ],
      "text/plain": [
       "[1] 152994.6"
      ]
     },
     "metadata": {},
     "output_type": "display_data"
    }
   ],
   "source": [
    "pls.pred = predict(pls.fit, x[test, ], ncomp = 3)\n",
    "mean((pls.pred - y[test])^2)"
   ]
  },
  {
   "cell_type": "markdown",
   "metadata": {},
   "source": [
    "It appears thet $M = 2$ has the best test mean squared error, 145368. This is comparable to, but slightly higher than that obtained with ridge regression (139857), the lasso (143674), and principal components regression (142812).\n",
    "\n",
    "To conclude, we perform partial least squares using the full data set, with $M = 2$."
   ]
  },
  {
   "cell_type": "code",
   "execution_count": 89,
   "metadata": {},
   "outputs": [
    {
     "name": "stdout",
     "output_type": "stream",
     "text": [
      "Data: \tX dimension: 263 19 \n",
      "\tY dimension: 263 1\n",
      "Fit method: kernelpls\n",
      "Number of components considered: 2\n",
      "TRAINING: % variance explained\n",
      "        1 comps  2 comps\n",
      "X         38.08    51.03\n",
      "Salary    43.05    46.40\n"
     ]
    }
   ],
   "source": [
    "pls.fit = plsr(Salary ~ ., data = Hitters, scale = TRUE, ncomp = 2)\n",
    "summary(pls.fit)"
   ]
  },
  {
   "cell_type": "markdown",
   "metadata": {},
   "source": [
    "Note that the two-component partial least squares fit explains 46.40% of the variance in `Salary`. In comparison, the final five-component principal components regression fit we obtained explains 44.90% of the variance in in `Salary`. This is due to the difference in methods used to pick components between partial least squares and principal components regression: principal components regression only attempts to maximize the amount of variance explained in the predictors, while partial least squares searches for directions that explain variance in both the predictors and the response."
   ]
  }
 ],
 "metadata": {
  "kernelspec": {
   "display_name": "R",
   "language": "R",
   "name": "ir"
  },
  "language_info": {
   "codemirror_mode": "r",
   "file_extension": ".r",
   "mimetype": "text/x-r-source",
   "name": "R",
   "pygments_lexer": "r",
   "version": "3.6.1"
  }
 },
 "nbformat": 4,
 "nbformat_minor": 4
}
