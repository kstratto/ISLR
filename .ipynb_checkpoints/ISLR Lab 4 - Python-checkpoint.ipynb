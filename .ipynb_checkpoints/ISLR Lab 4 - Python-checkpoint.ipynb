{
 "cells": [
  {
   "cell_type": "markdown",
   "metadata": {},
   "source": [
    "# Lab: Cross-Validation and the Bootstrap"
   ]
  },
  {
   "cell_type": "markdown",
   "metadata": {},
   "source": [
    "In this lab, we'll explore the four resampling techniques discussed in Chapter 5 of ISLR: the validation set approach, leave-one-out cross-validation (LOOCV), $k$-fold cross-validation, and the bootstrap. Note that some of the commands in this lab may take a while to run. While in the previous labs we used both StatsModels and scikit-learn, in this lab we will focus our attention on just scikit-learn, since StatsModels does not come with built-in classes for performing cross-validation. The two main scikit-learn modules I will be using for this lab are the [model selection module](https://scikit-learn.org/stable/modules/classes.html#module-sklearn.model_selection) and the [metrics module](https://scikit-learn.org/stable/modules/classes.html#module-sklearn.metrics). A good starting point for reference is the [user guide section discussing cross validation in scikit-learn](https://scikit-learn.org/stable/modules/cross_validation.html) along with the [user guide section discussing model metrics and scoring](https://scikit-learn.org/stable/modules/model_evaluation.html)."
   ]
  },
  {
   "cell_type": "code",
   "execution_count": 1,
   "metadata": {},
   "outputs": [],
   "source": [
    "import numpy as np\n",
    "import pandas as pd\n",
    "import matplotlib.pyplot as plt\n",
    "import seaborn as sns\n",
    "sns.set()\n",
    "\n",
    "from sklearn.linear_model import LinearRegression\n",
    "from sklearn import metrics\n",
    "\n",
    "# Note that if we wish to use R-style formulas, then we use statsmodels.formula.api\n",
    "import statsmodels.api as sm\n",
    "import statsmodels.formula.api as smf"
   ]
  },
  {
   "cell_type": "markdown",
   "metadata": {},
   "source": [
    "## The Validation Set Approach"
   ]
  },
  {
   "cell_type": "markdown",
   "metadata": {},
   "source": [
    "First, we'll explore using the validation set approach to estimate the test error rates that result from fitting various linear models with the `Auto` data set."
   ]
  },
  {
   "cell_type": "code",
   "execution_count": 2,
   "metadata": {},
   "outputs": [],
   "source": [
    "auto_filepath = \"Auto.csv\"\n",
    "Auto = pd.read_csv(auto_filepath, na_values = [\"?\"]).dropna()"
   ]
  },
  {
   "cell_type": "markdown",
   "metadata": {},
   "source": [
    "Note that before starting, we use the function `np.random.seed()` in order to set a *seed* for NumPy's random number generator, which is then used in scikit-learn. This is generally a good idea to do when performing analyses that contain an element of randomness, such as cross-validation, in order to have reproducible results."
   ]
  },
  {
   "cell_type": "code",
   "execution_count": 3,
   "metadata": {},
   "outputs": [],
   "source": [
    "np.random.seed(1)"
   ]
  },
  {
   "cell_type": "markdown",
   "metadata": {},
   "source": [
    "To start with, we use the `train_test_split()` function from scikit-learn's `model_selection` module to split the set of observations into four sets: $X$ and $y$ training sets, and $X$ and $y$ test sets. As described in the [documentation page](https://scikit-learn.org/stable/modules/generated/sklearn.model_selection.train_test_split.html#sklearn.model_selection.train_test_split), we can adjust the amount of the data set aside for the test sets by specifying a value for the argument `test_size`."
   ]
  },
  {
   "cell_type": "code",
   "execution_count": 4,
   "metadata": {},
   "outputs": [],
   "source": [
    "from sklearn.model_selection import train_test_split"
   ]
  },
  {
   "cell_type": "code",
   "execution_count": 5,
   "metadata": {},
   "outputs": [],
   "source": [
    "X_train, X_test, y_train, y_test = train_test_split(Auto[\"horsepower\"], Auto[\"mpg\"], test_size = 0.5)"
   ]
  },
  {
   "cell_type": "markdown",
   "metadata": {},
   "source": [
    "Once we have created the vector to denote our training set, we then use `X_train` and `y_train` to fit a linear regression model using only the observations corresponding to those in the training set."
   ]
  },
  {
   "cell_type": "code",
   "execution_count": 6,
   "metadata": {},
   "outputs": [
    {
     "data": {
      "text/plain": [
       "LinearRegression(copy_X=True, fit_intercept=True, n_jobs=None, normalize=False)"
      ]
     },
     "execution_count": 6,
     "metadata": {},
     "output_type": "execute_result"
    }
   ],
   "source": [
    "reg = LinearRegression()\n",
    "reg.fit(X_train.values.reshape(-1, 1), y_train)"
   ]
  },
  {
   "cell_type": "markdown",
   "metadata": {},
   "source": [
    "After fitting the linear regression of `mpg` onto `horsepower` using the training set, we use the `predict()` function to estimate the response for all 392 observations. Then, we use the `mean_squared_error()` function from scikit-learn's `metrics` module to compute the mean squared error of the 196 observations in the validation set."
   ]
  },
  {
   "cell_type": "code",
   "execution_count": 7,
   "metadata": {},
   "outputs": [
    {
     "data": {
      "text/plain": [
       "24.80212062059356"
      ]
     },
     "execution_count": 7,
     "metadata": {},
     "output_type": "execute_result"
    }
   ],
   "source": [
    "metrics.mean_squared_error(y_test, reg.predict(X_test.values.reshape(-1, 1)))"
   ]
  },
  {
   "cell_type": "markdown",
   "metadata": {},
   "source": [
    "As we can see, the the estimated test mean squared error for the linear regression fit is 24.80. We can then use the `PolynomialFeatures` transformer to estimate the test error for the quadratic and cubic regressions. In order to efficiently apply the polynomial transformation and then fit the least squares regression model, we will combine the steps into a [pipeline](https://scikit-learn.org/stable/modules/compose.html) (for more information, look at the [api page](https://scikit-learn.org/stable/modules/generated/sklearn.pipeline.Pipeline.html#sklearn.pipeline.Pipeline)). Pipelines are useful for convenience and encapsulation, joint parameter selection, and safety. While one can construct `Pipeline` objects directly, we will use the `make_pipeline()` convenience function, which is described [here](https://scikit-learn.org/stable/modules/generated/sklearn.pipeline.make_pipeline.html#sklearn.pipeline.make_pipeline) to simplify things."
   ]
  },
  {
   "cell_type": "code",
   "execution_count": 8,
   "metadata": {},
   "outputs": [],
   "source": [
    "from sklearn.pipeline import make_pipeline\n",
    "from sklearn.preprocessing import PolynomialFeatures"
   ]
  },
  {
   "cell_type": "code",
   "execution_count": 9,
   "metadata": {},
   "outputs": [
    {
     "data": {
      "text/plain": [
       "18.84829260327537"
      ]
     },
     "execution_count": 9,
     "metadata": {},
     "output_type": "execute_result"
    }
   ],
   "source": [
    "quad_pipe = make_pipeline(PolynomialFeatures(degree = 2), LinearRegression())\n",
    "quad_pipe.fit(X_train.values.reshape(-1, 1), y_train)\n",
    "pred = quad_pipe.predict(X_test.values.reshape(-1, 1))\n",
    "metrics.mean_squared_error(y_test, pred)"
   ]
  },
  {
   "cell_type": "code",
   "execution_count": 10,
   "metadata": {},
   "outputs": [
    {
     "data": {
      "text/plain": [
       "18.80511135862554"
      ]
     },
     "execution_count": 10,
     "metadata": {},
     "output_type": "execute_result"
    }
   ],
   "source": [
    "cube_pipe = make_pipeline(PolynomialFeatures(degree = 3), LinearRegression())\n",
    "cube_pipe.fit(X_train.values.reshape(-1, 1), y_train)\n",
    "pred = cube_pipe.predict(X_test.values.reshape(-1, 1))\n",
    "metrics.mean_squared_error(y_test, pred)"
   ]
  },
  {
   "cell_type": "markdown",
   "metadata": {},
   "source": [
    "Here we see that the validation set mean squared error rates are 18.85 and 18.81 for the quadratic and cubic fits, respectively. Note that due to the element of randomness in choosing the training set, if we used a different seed (and therefore choose a possibly different training set), we will obtain somewhat different validation set error values."
   ]
  },
  {
   "cell_type": "code",
   "execution_count": 11,
   "metadata": {},
   "outputs": [],
   "source": [
    "np.random.seed(2)\n",
    "X_train, X_test, y_train, y_test = train_test_split(Auto[\"horsepower\"], Auto[\"mpg\"], test_size = 0.5)"
   ]
  },
  {
   "cell_type": "code",
   "execution_count": 12,
   "metadata": {},
   "outputs": [
    {
     "data": {
      "text/plain": [
       "23.44264396998574"
      ]
     },
     "execution_count": 12,
     "metadata": {},
     "output_type": "execute_result"
    }
   ],
   "source": [
    "pipe = make_pipeline(PolynomialFeatures(degree = 1), LinearRegression())\n",
    "pipe.fit(X_train.values.reshape(-1, 1), y_train)\n",
    "pred = pipe.predict(X_test.values.reshape(-1, 1))\n",
    "metrics.mean_squared_error(y_test, pred)"
   ]
  },
  {
   "cell_type": "code",
   "execution_count": 13,
   "metadata": {},
   "outputs": [
    {
     "data": {
      "text/plain": [
       "18.550198801910273"
      ]
     },
     "execution_count": 13,
     "metadata": {},
     "output_type": "execute_result"
    }
   ],
   "source": [
    "pipe = make_pipeline(PolynomialFeatures(degree = 2), LinearRegression())\n",
    "pipe.fit(X_train.values.reshape(-1, 1), y_train)\n",
    "pred = pipe.predict(X_test.values.reshape(-1, 1))\n",
    "metrics.mean_squared_error(y_test, pred)"
   ]
  },
  {
   "cell_type": "code",
   "execution_count": 14,
   "metadata": {},
   "outputs": [
    {
     "data": {
      "text/plain": [
       "18.595222294556724"
      ]
     },
     "execution_count": 14,
     "metadata": {},
     "output_type": "execute_result"
    }
   ],
   "source": [
    "pipe = make_pipeline(PolynomialFeatures(degree = 3), LinearRegression())\n",
    "pipe.fit(X_train.values.reshape(-1, 1), y_train)\n",
    "pred = pipe.predict(X_test.values.reshape(-1, 1))\n",
    "metrics.mean_squared_error(y_test, pred)"
   ]
  },
  {
   "cell_type": "markdown",
   "metadata": {},
   "source": [
    "Using this training set/validation set split, we get validation set mean squared error values of 23.44, 18.55, and 18.60 for the linear, quadratic, and cubic regression models, respectively. \n",
    "\n",
    "These results are consistent with our findings from the previous chapters that used an approach focused more on the statistics of the coefficient estimates: a quadratic model for predicting `mpg` using `horsepower` performs better than a linear model, and there isn't evidence to suggest that using a cubic model provides a meaningful improvement."
   ]
  },
  {
   "cell_type": "markdown",
   "metadata": {},
   "source": [
    "## Leave-One-Out Cross-Validation"
   ]
  },
  {
   "cell_type": "markdown",
   "metadata": {},
   "source": [
    "Before starting on leave-one-out cross-validation, we'll first go over the simplest way of computing cross-validated metrics: calling the `cross_val_score()` helper function on the estimator and the dataset. There are a few parameters for the `cross_val_score()` helper function to take note of in the context of this lab. These, and more parameters are also discussed on the [documentation page](https://scikit-learn.org/stable/modules/generated/sklearn.model_selection.cross_val_score.html#sklearn.model_selection.cross_val_score).\n",
    "\n",
    "- `estimator`: This is the object used to fit the data. For example it could be a single instance of an estimator class, such as `LinearRegression`, or it can be a pipeline of chained transformers and estimators.\n",
    "- `X`: The data to be used for fitting the estimator.\n",
    "- `y`: An optional array-like object to try and predict in the case of supervised learning. By default this is `None`.\n",
    "- `scoring`: An optional string or scorer callable object/function with the signature `scorer(estimator, X, y)`, which should only return a single value. If no value is provided, the estimator's default scorer (if available) will be used. Note that if we wish to use multiple metrics at once, as well as record fit/score times, then we should use `cross_validate()` instead, as discussed [here](https://scikit-learn.org/stable/modules/generated/sklearn.model_selection.cross_validate.html#sklearn.model_selection.cross_validate). [Here is a list of the predefined scoring metrics and the names used to call them.](https://scikit-learn.org/stable/modules/model_evaluation.html#the-scoring-parameter-defining-model-evaluation-rules).\n",
    "- `cv`: An optional integer, cross-validation generator, or iterable. The possible inputs for `cv` are:\n",
    "    - `None`, to use the default of 5-fold cross-validation\n",
    "    - an integer, to specify the number of folds for (stratified) $k$-fold cross-validation\n",
    "    - a [cross-validation splitter](https://scikit-learn.org/stable/modules/classes.html#splitter-classes)\n",
    "    - an iterable yielding (train, test) splits as arrays of indices\n",
    "    \n",
    "Note that since this lab focuses solely on $k$-fold cross-validation (as leave-one-out cross-validation is equivalent to $n$-fold cross-validation, where $n$ is the number of observations), we could simply provide appropriate integers to the `cv` parameter. For completeness, I will demonstrate how to use `LeaveOneOut` and `KFold` cross-validation splitters. To start out with, we'll import `cross_val_score`, `LeaveOneOut`, and `KFold`."
   ]
  },
  {
   "cell_type": "code",
   "execution_count": 15,
   "metadata": {},
   "outputs": [],
   "source": [
    "from sklearn.model_selection import cross_val_score, LeaveOneOut, KFold"
   ]
  },
  {
   "cell_type": "markdown",
   "metadata": {},
   "source": [
    "Now that we have made the appropriate imports, we'll perform leave-one-out cross-validation to estimate the test mean squared error. This time we will use the [cross-validation splitter class for LOOCV](https://scikit-learn.org/stable/modules/generated/sklearn.model_selection.LeaveOneOut.html#sklearn.model_selection.LeaveOneOut).\n",
    "\n",
    "Note that scorer objects follow the convention that *higher return values are better than lower return values*. In other words, two given two scores $s_1 < s_2$, then $s_2$ is considered to be the better score. Thus, metrics which measure the distance between the model and the data, such as `metrics.mean_squared_error` are called in `cross_val_score()` by the name `neg_mean_squared_error`, to return the negated value of the metric and follow this convention."
   ]
  },
  {
   "cell_type": "code",
   "execution_count": 16,
   "metadata": {},
   "outputs": [
    {
     "data": {
      "text/plain": [
       "-24.231513517929226"
      ]
     },
     "execution_count": 16,
     "metadata": {},
     "output_type": "execute_result"
    }
   ],
   "source": [
    "# Using LeaveOneOut cross-validation splitter explicitly\n",
    "X = Auto[\"horsepower\"].values.reshape(-1, 1)\n",
    "y = Auto[\"mpg\"]\n",
    "reg = LinearRegression()\n",
    "loo = LeaveOneOut()\n",
    "cv_scores = cross_val_score(reg, X, y, scoring = \"neg_mean_squared_error\", cv = loo)\n",
    "# Since cv_scores is an array of scores, need to compute the mean afterward\n",
    "cv_scores.mean()"
   ]
  },
  {
   "cell_type": "markdown",
   "metadata": {},
   "source": [
    "Recall that the $k$-fold cross validation estimate for the test mean squared error with $k$ folds is given by\n",
    "\n",
    "\\begin{equation}\n",
    "    \\text{CV}_{(k)} = \\frac{1}{k} \\sum_{i = 1}^k \\text{MSE}_i,\n",
    "\\end{equation}\n",
    "\n",
    "where $\\text{MSE}_i$ is the mean squared error computed on the $i$th held out fold after fitting the model on the remaining $k - 1$ folds. In the case of leave-one-out cross-validation, $k = n$, the number of obserations in the data, and $\\text{MSE}_i$ is the mean squared error $(y_i - \\hat{y}_i)^2$ obtained after fitting the statistical learning method on all observations except for $y_i$.\n",
    "\n",
    "Before moving on, note that we could use a different scoring method, such as mean absolute error."
   ]
  },
  {
   "cell_type": "code",
   "execution_count": 17,
   "metadata": {},
   "outputs": [
    {
     "data": {
      "text/plain": [
       "-3.8487483321548384"
      ]
     },
     "execution_count": 17,
     "metadata": {},
     "output_type": "execute_result"
    }
   ],
   "source": [
    "# Performing leave-one-out cross-validation by passing on the number of observations\n",
    "# as the argument cv\n",
    "cv_scores = cross_val_score(reg, X, y, scoring = \"neg_mean_absolute_error\", cv = X.shape[0])\n",
    "cv_scores.mean()"
   ]
  },
  {
   "cell_type": "markdown",
   "metadata": {},
   "source": [
    "We can make use of a `for` loop to iteratively repeat the procedure of leave-one-out cross-validation for increasingly complex polynomial fits. We will iteratively fit polynomial regressions for polynomials of order $i = 1, \\dots, 10$, compute the associated LOOCV error, and store it in the $i$th element of the list `cv_error`. This sort of situation is where using a pipeline to encapsulate both the feature transformer and model class into a single estimator really comes in handy."
   ]
  },
  {
   "cell_type": "code",
   "execution_count": 18,
   "metadata": {},
   "outputs": [
    {
     "data": {
      "text/plain": [
       "[24.231513517929226,\n",
       " 19.24821312448941,\n",
       " 19.33498406411397,\n",
       " 19.424430309411886,\n",
       " 19.033211842978396,\n",
       " 18.973012737758705,\n",
       " 19.125639655104838,\n",
       " 19.22423029373206,\n",
       " 19.133856501117357,\n",
       " 18.945837436861932]"
      ]
     },
     "execution_count": 18,
     "metadata": {},
     "output_type": "execute_result"
    }
   ],
   "source": [
    "X = Auto[\"horsepower\"].values.reshape(-1, 1)\n",
    "y = Auto[\"mpg\"]\n",
    "loo = LeaveOneOut()\n",
    "cv_error = []\n",
    "for i in range(1, 11):\n",
    "    pipe = make_pipeline(PolynomialFeatures(degree = i), LinearRegression())\n",
    "    cv_scores = cross_val_score(pipe, X, y, scoring = \"neg_mean_squared_error\", cv = loo)\n",
    "    cv_error.append(abs(cv_scores.mean()))\n",
    "cv_error"
   ]
  },
  {
   "cell_type": "markdown",
   "metadata": {},
   "source": [
    "As we can see, there is a sharp drop in the estimated test mean squared error between the linear and quadratic fits, but then no clear improvement from using higher-order polynomials. This agrees with Figure 5.4 in ISLR."
   ]
  },
  {
   "cell_type": "markdown",
   "metadata": {},
   "source": [
    "## $k$-Fold Cross-Validation"
   ]
  },
  {
   "cell_type": "markdown",
   "metadata": {},
   "source": [
    "We can also use the `cross_val_score()` function to perform $k$-fold cross validation by supplying a value `K` to the function call. We'll use $k = 10$, a common choice for $k$, on the `Auto` data set and again use a `for` loop to iteratively compute the $k$-fold cross validation errors corresponding to polynomial fits of order $i = 1, \\dots, 10$. Note that while $k$-fold cross validation involves random sampling, it will return consistent results for a given integer value of `cv`, since passing an integer `k` for `cv` tells `cross_val_score()` to use `KFold(n_splits = k)` as the cross-validation splitter. As discussed in [the documentation for the $k$-folds splitter](https://scikit-learn.org/stable/modules/generated/sklearn.model_selection.KFold.html#sklearn.model_selection.KFold), the constructor for `KFold` can take an optional argument `shuffle`, which is `False` by default, to specify whether or not the data should be shuffled before computing the folds. If the data is not shuffled, then `KFold` will split it into consistent folds every time. \n",
    "\n",
    "*(I need to look more into the source code to check whether or not I am correct in this assessment.)*"
   ]
  },
  {
   "cell_type": "code",
   "execution_count": 19,
   "metadata": {},
   "outputs": [
    {
     "data": {
      "text/plain": [
       "[27.439933652339857,\n",
       " 21.235840055802118,\n",
       " 21.336606183328527,\n",
       " 21.353886994209773,\n",
       " 20.905646119059934,\n",
       " 20.82189095906726,\n",
       " 20.95328706780984,\n",
       " 21.077131510426256,\n",
       " 21.03675183384266,\n",
       " 20.981013741561554]"
      ]
     },
     "execution_count": 19,
     "metadata": {},
     "output_type": "execute_result"
    }
   ],
   "source": [
    "# Using 10-fold cross-validation by passing the argument cv = 10 to cross_val_score()\n",
    "X = Auto[\"horsepower\"].values.reshape(-1, 1)\n",
    "y = Auto[\"mpg\"]\n",
    "cv_error = []\n",
    "for i in range(1, 11):\n",
    "    pipe = make_pipeline(PolynomialFeatures(degree = i), LinearRegression())\n",
    "    cv_scores = cross_val_score(pipe, X, y, scoring = \"neg_mean_squared_error\", cv = 10)\n",
    "    cv_error.append(abs(cv_scores.mean()))\n",
    "cv_error"
   ]
  },
  {
   "cell_type": "markdown",
   "metadata": {},
   "source": [
    "If we do choose to have `KFold` shuffle the data before splitting it into batches, then we should set a random seed to ensure consistent and reproducible results. The two main ways of doing this are using `np.random.seed()` or passing a value to the `random_state` argument in the constructor. "
   ]
  },
  {
   "cell_type": "code",
   "execution_count": 20,
   "metadata": {},
   "outputs": [
    {
     "data": {
      "text/plain": [
       "[24.097675731883065,\n",
       " 19.178889864889733,\n",
       " 19.213859523719435,\n",
       " 19.212807016847393,\n",
       " 18.75798588326042,\n",
       " 18.641065858861953,\n",
       " 18.820940866960004,\n",
       " 18.975736690279508,\n",
       " 18.937579150541712,\n",
       " 18.793495362139453]"
      ]
     },
     "execution_count": 20,
     "metadata": {},
     "output_type": "execute_result"
    }
   ],
   "source": [
    "# Using 10-fold cross-validation by passing an instance of KFold with shuffle = True\n",
    "# In this situation the value of random_state matters\n",
    "X = Auto[\"horsepower\"].values.reshape(-1, 1)\n",
    "y = Auto[\"mpg\"]\n",
    "kfolds = KFold(n_splits = 10, shuffle = True, random_state = 1)\n",
    "cv_error = []\n",
    "for i in range(1, 11):\n",
    "    pipe = make_pipeline(PolynomialFeatures(degree = i), LinearRegression())\n",
    "    cv_scores = cross_val_score(pipe, X, y, scoring = \"neg_mean_squared_error\", cv = kfolds)\n",
    "    cv_error.append(abs(cv_scores.mean()))\n",
    "cv_error"
   ]
  },
  {
   "cell_type": "markdown",
   "metadata": {},
   "source": [
    "Note that the computation time is much shorter than that of LOOCV; the computation was near instantaneous as opposed to taking about 30-45 seconds. While the formula\n",
    "\n",
    "\\begin{equation}\n",
    "    \\text{CV}_{(n)} = \\frac{1}{n} \\sum_{i = 1}^n \\left( \\frac{y_i - \\hat{y}_i}{1 - h_i} \\right)^2,\n",
    "\\end{equation}\n",
    "\n",
    "where $\\hat{y}_i$ is the $i$th fitted value from the original least squares fit, and $h_i$ is the leverage value of the $i$th observation, could be used, in princlple, to greatly speed up the computation of LOOCV in the case of estimating the mean squared error for least squares or polynomial regression, `cross_val_score()` does not make use of it to provide flexibilty in the estimators and scoring functions that can be used with it.\n",
    "\n",
    "As with before, there is still little evidence that using cubic or higher-order polynomial terms leads to lower test error than simply using a quadratic fit."
   ]
  },
  {
   "cell_type": "markdown",
   "metadata": {},
   "source": [
    "## The Bootstrap"
   ]
  },
  {
   "cell_type": "markdown",
   "metadata": {},
   "source": [
    "To illustrate the use of the bootstrap, first we continue with the example shown in Section 5.2 of ISLR using the simulated `Portfolio` data set before moving on to an example involving estimating the accuracy of the linear regression model on the `Auto` data set."
   ]
  },
  {
   "cell_type": "code",
   "execution_count": 21,
   "metadata": {},
   "outputs": [],
   "source": [
    "portfolio_filepath = \"Portfolio.csv\"\n",
    "Portfolio = pd.read_csv(portfolio_filepath)"
   ]
  },
  {
   "cell_type": "markdown",
   "metadata": {},
   "source": [
    "One of the strengths of the bootstrap approach is that it is very widely applicable and does not require complicated mathematical complications; in Python, we only need to take two main steps to perform a bootstrap analysis. The first is creating a function that computes the statistic of interest. Second, we use the `resample()` function from the `sklearn.utils` module to repeatedly sample observations from the data with replacement and compute the bootstrapped statistics of interest. We start by importing the `resample()` function."
   ]
  },
  {
   "cell_type": "code",
   "execution_count": 22,
   "metadata": {},
   "outputs": [],
   "source": [
    "from sklearn.utils import resample"
   ]
  },
  {
   "cell_type": "markdown",
   "metadata": {},
   "source": [
    "### Estimating the Accuracy of a Statistic of Interest"
   ]
  },
  {
   "cell_type": "markdown",
   "metadata": {},
   "source": [
    "As already noted, we start by working the the `Portfolio` data set from the `ISLR` package, which described in Section 5.2 of ISLR. It consists of 100 simulated pairs of returns for the investments $X$ and $Y$. We are trying to choose the the fraction of our money $\\alpha$ to invest in $X$ (investing the remaining $1 - \\alpha$ in $Y$) that minimizes the variance of our investment. In other words, we want to minimize $\\text{Var}(\\alpha X + (1 - \\alpha)Y)$. It can be shown that the value of $\\alpha$ which minimizes the risk is given by\n",
    "\n",
    "\\begin{equation}\n",
    "    \\alpha = \\frac{\\sigma_Y^2 - \\sigma_{XY}}{\\sigma_X^2 + \\sigma_Y^2 - 2\\sigma_{XY}},\n",
    "\\end{equation}\n",
    "\n",
    "where $\\sigma_X^2 = \\text{Var}(X)$, $\\sigma_Y^2 = \\text{Var}(Y)$, and $\\sigma_{XY} = \\text{Cov}(X, Y)$. Since the `Portfolio` data set consists of simulated data, we know that the true values of the parameters were set to $\\sigma_X^2 = 1$, $\\sigma_Y^2 = 1.25$, and $\\sigma_{XY} = 0.5$.\n",
    "\n",
    "To illustrate our use of the bootstrap on this data, we first create a function, `alpha()`, which takes the argument `data`, which is the subset of the $(X, Y)$ data used to compute the estimated value of $\\alpha$. The function then outputs the estimate for $\\alpha$ based on the selected observations."
   ]
  },
  {
   "cell_type": "code",
   "execution_count": 23,
   "metadata": {},
   "outputs": [],
   "source": [
    "def alpha(data):\n",
    "    X = data.X\n",
    "    Y = data.Y\n",
    "    return ((Y.var() - np.cov(X, Y)[0, 1])/(X.var() + Y.var() - 2*np.cov(X, Y)[0, 1]))"
   ]
  },
  {
   "cell_type": "markdown",
   "metadata": {},
   "source": [
    "The function returns an estimate for $\\alpha$ by plugging in the estimates for $\\sigma_X^2 = \\text{Var}(X)$, $\\sigma_Y^2 = \\text{Var}(Y)$, and $\\sigma_{XY} = \\text{Cov}(X, Y)$ into the above formula for $\\alpha$. For example, we can use the function to estimate $\\alpha$ using all 100 observations in the `Portfolio` data set."
   ]
  },
  {
   "cell_type": "code",
   "execution_count": 24,
   "metadata": {},
   "outputs": [
    {
     "data": {
      "text/plain": [
       "0.5758320745928298"
      ]
     },
     "execution_count": 24,
     "metadata": {},
     "output_type": "execute_result"
    }
   ],
   "source": [
    "alpha(Portfolio)"
   ]
  },
  {
   "cell_type": "markdown",
   "metadata": {},
   "source": [
    "Next, we can use the `resample()` function to randomly select 100 observations, with replacement. This is equivalent to constructing a new bootstrap data set and recomputing $\\hat{\\alpha}$ with it."
   ]
  },
  {
   "cell_type": "code",
   "execution_count": 25,
   "metadata": {},
   "outputs": [
    {
     "data": {
      "text/plain": [
       "0.45083621890830383"
      ]
     },
     "execution_count": 25,
     "metadata": {},
     "output_type": "execute_result"
    }
   ],
   "source": [
    "sample = resample(Portfolio, n_samples = 100, random_state = 1)\n",
    "alpha(sample)"
   ]
  },
  {
   "cell_type": "markdown",
   "metadata": {},
   "source": [
    "While we could perform bootstrap analysis by performing this command many times, recording all of the corresponding estimates $\\hat{\\alpha}$, and computing the resulting standard deviation, it is much more convenient to write a `for` loop to automate the process. Beow we produce 1000 bootstrap estimates for $\\alpha$ and then compute the average and standard error."
   ]
  },
  {
   "cell_type": "code",
   "execution_count": 26,
   "metadata": {},
   "outputs": [
    {
     "name": "stdout",
     "output_type": "stream",
     "text": [
      "Bootstrap estimated alpha: 0.5784905227103104 \n",
      "Bootstrap estimated std. err.: 0.09291492468991301\n"
     ]
    }
   ],
   "source": [
    "np.random.seed(1)\n",
    "boot_estimates = np.empty(1000)\n",
    "for i in range(1000):\n",
    "    sample = resample(Portfolio)\n",
    "    boot_estimates[i] = alpha(sample)\n",
    "print(\"Bootstrap estimated alpha:\", boot_estimates.mean(), \n",
    "      \"\\nBootstrap estimated std. err.:\", boot_estimates.std())"
   ]
  },
  {
   "cell_type": "markdown",
   "metadata": {},
   "source": [
    "The final output shows that when bootstrapping with the `Portfolio` data, $\\hat{\\alpha} = 0.5785$ and that the bootstrap estimate for $\\text{SE}(\\hat{\\alpha})$ is $0.0929$. This is fairly close to the true value $\\alpha = 0.6$."
   ]
  },
  {
   "cell_type": "markdown",
   "metadata": {},
   "source": [
    "### Estimating the Accuracy of a Linear Regression Model"
   ]
  },
  {
   "cell_type": "markdown",
   "metadata": {},
   "source": [
    "Next, we'll apply the bootstrap to assess the variability of the coefficient estimates and predictions from a statistical learning method. We'll demonstrate that by using the bootstrap to assess the variability of the estimates of $\\beta_0$ and $\\beta_1$, the intercept and slope terms for the linear regression model that uses `horsepower` to predict `mpg` in the `Auto` data set. We'll then compare the bootstrap estimates with the ones obtained using the formulas for $\\text{SE}(\\hat{\\beta}_i)$ described in Section 3.1.2 of ISLR.\n",
    "\n",
    "\\begin{equation}\n",
    "    \\text{SE}(\\hat{\\beta}_0)^2 = \\sigma^2 \\left[ \\frac{1}{n} + \\frac{\\bar{x}^2}{\\sum_{i = 1}^n (x_i - \\bar{x})^2} \\right], \\,\n",
    "    \\text{SE}(\\hat{\\beta}_1)^2 = \\frac{\\sigma^2}{\\sum_{i = 1}^n (x_i - \\bar{x})^2}\n",
    "\\end{equation}\n",
    "\n",
    "Recall that $\\sigma$ is estimated by using the residual standard error (RSE) $\\hat{\\sigma}^2$ for the model, which is computed using the formula\n",
    "\n",
    "\\begin{equation}\n",
    "    \\text{RSE} = \\hat{\\sigma} = \\sqrt{\\frac{1}{n - 2} \\sum_{i = 1}^n (y_i - \\hat{y}_i)^2}.\n",
    "\\end{equation}\n",
    "\n",
    "To start, we create the function `fit_coefs()` which takes in an array of training $X$ values, an array of training $y$ values, and a scikit-learn estimator class object (e.g. a LinearRegression object for this lab). It then returns a NumPy array consisting of the regression coefficients, with the regression intercept as the last entry."
   ]
  },
  {
   "cell_type": "code",
   "execution_count": 27,
   "metadata": {},
   "outputs": [],
   "source": [
    "def fit_coefs(X, y, estimator):\n",
    "    reg = estimator.fit(X, y)\n",
    "    coefs = reg.coef_\n",
    "    intercept = reg.intercept_\n",
    "    return np.append(coefs, intercept)"
   ]
  },
  {
   "cell_type": "markdown",
   "metadata": {},
   "source": [
    "First, we'll demonstrate applying this function to the full set of 392 observations in order to compute the estimates of $\\beta_0$ and $\\beta_1$ on the entire data set using the usual linear regression coefficient estimate formulas from Chapter 3 of ISLR."
   ]
  },
  {
   "cell_type": "code",
   "execution_count": 28,
   "metadata": {},
   "outputs": [
    {
     "data": {
      "text/plain": [
       "horsepower    -0.157845\n",
       "intercept     39.935861\n",
       "dtype: float64"
      ]
     },
     "execution_count": 28,
     "metadata": {},
     "output_type": "execute_result"
    }
   ],
   "source": [
    "X = Auto[\"horsepower\"].values.reshape(-1, 1)\n",
    "y = Auto[\"mpg\"]\n",
    "reg = LinearRegression()\n",
    "pd.Series(fit_coefs(X, y, reg), index = [\"horsepower\", \"intercept\"])"
   ]
  },
  {
   "cell_type": "markdown",
   "metadata": {},
   "source": [
    "Just like we did with `alpha()`, we'll use `fit_coefs()` to create bootstrap estimates for the intercept and slope terms by randomly sampling from among the observations with replacement. Here are two examples before actually peforming the full bootstrap."
   ]
  },
  {
   "cell_type": "code",
   "execution_count": 29,
   "metadata": {},
   "outputs": [
    {
     "data": {
      "text/plain": [
       "horsepower    -0.155898\n",
       "intercept     39.658479\n",
       "dtype: float64"
      ]
     },
     "execution_count": 29,
     "metadata": {},
     "output_type": "execute_result"
    }
   ],
   "source": [
    "np.random.seed(1)\n",
    "sample = resample(Auto)\n",
    "X = sample[\"horsepower\"].values.reshape(-1, 1)\n",
    "y = sample[\"mpg\"]\n",
    "reg = LinearRegression()\n",
    "pd.Series(fit_coefs(X, y, reg), index = [\"horsepower\", \"intercept\"])"
   ]
  },
  {
   "cell_type": "code",
   "execution_count": 30,
   "metadata": {},
   "outputs": [
    {
     "data": {
      "text/plain": [
       "horsepower    -0.163901\n",
       "intercept     40.733271\n",
       "dtype: float64"
      ]
     },
     "execution_count": 30,
     "metadata": {},
     "output_type": "execute_result"
    }
   ],
   "source": [
    "sample = resample(Auto)\n",
    "X = sample[\"horsepower\"].values.reshape(-1, 1)\n",
    "y = sample[\"mpg\"]\n",
    "reg = LinearRegression()\n",
    "pd.Series(fit_coefs(X, y, reg), index = [\"horsepower\", \"intercept\"])"
   ]
  },
  {
   "cell_type": "markdown",
   "metadata": {},
   "source": [
    "Now we use a for loop to compute the standard errors of 1,000 bootstrap estimates for the intercept and slope terms."
   ]
  },
  {
   "cell_type": "code",
   "execution_count": 31,
   "metadata": {},
   "outputs": [
    {
     "data": {
      "text/html": [
       "<div>\n",
       "<style scoped>\n",
       "    .dataframe tbody tr th:only-of-type {\n",
       "        vertical-align: middle;\n",
       "    }\n",
       "\n",
       "    .dataframe tbody tr th {\n",
       "        vertical-align: top;\n",
       "    }\n",
       "\n",
       "    .dataframe thead th {\n",
       "        text-align: right;\n",
       "    }\n",
       "</style>\n",
       "<table border=\"1\" class=\"dataframe\">\n",
       "  <thead>\n",
       "    <tr style=\"text-align: right;\">\n",
       "      <th></th>\n",
       "      <th>original</th>\n",
       "      <th>std. error</th>\n",
       "    </tr>\n",
       "  </thead>\n",
       "  <tbody>\n",
       "    <tr>\n",
       "      <td>horsepower</td>\n",
       "      <td>-0.158189</td>\n",
       "      <td>0.007337</td>\n",
       "    </tr>\n",
       "    <tr>\n",
       "      <td>intercept</td>\n",
       "      <td>39.957846</td>\n",
       "      <td>0.854493</td>\n",
       "    </tr>\n",
       "  </tbody>\n",
       "</table>\n",
       "</div>"
      ],
      "text/plain": [
       "             original  std. error\n",
       "horsepower  -0.158189    0.007337\n",
       "intercept   39.957846    0.854493"
      ]
     },
     "execution_count": 31,
     "metadata": {},
     "output_type": "execute_result"
    }
   ],
   "source": [
    "np.random.seed(17)\n",
    "reg = LinearRegression()\n",
    "bootstrap_estimates = pd.DataFrame()\n",
    "for i in range(1000):\n",
    "    sample = resample(Auto)\n",
    "    X = sample[\"horsepower\"].values.reshape(-1, 1)\n",
    "    y = sample[\"mpg\"]\n",
    "    coefs = pd.Series(fit_coefs(X, y, reg), index = [\"horsepower\", \"intercept\"], name = i)\n",
    "    bootstrap_estimates = bootstrap_estimates.join(coefs, how = \"right\")\n",
    "pd.DataFrame({\"original\": bootstrap_estimates.mean(axis = 1), \"std. error\": bootstrap_estimates.std(axis = 1)})"
   ]
  },
  {
   "cell_type": "markdown",
   "metadata": {},
   "source": [
    "We got bootstrap estimates of 0.85 for $\\text{SE}(\\hat{\\beta}_0)$ and 0.0073 for $\\text{SE}(\\hat{\\beta}_1)$. Now we'll compare them with the estimates computed using the above formulas, which can be obtained using the `summary()` or `bse()` functions in StatsModels."
   ]
  },
  {
   "cell_type": "code",
   "execution_count": 32,
   "metadata": {},
   "outputs": [
    {
     "name": "stdout",
     "output_type": "stream",
     "text": [
      "                            OLS Regression Results                            \n",
      "==============================================================================\n",
      "Dep. Variable:                    mpg   R-squared:                       0.606\n",
      "Model:                            OLS   Adj. R-squared:                  0.605\n",
      "Method:                 Least Squares   F-statistic:                     599.7\n",
      "Date:                Tue, 24 Dec 2019   Prob (F-statistic):           7.03e-81\n",
      "Time:                        16:44:51   Log-Likelihood:                -1178.7\n",
      "No. Observations:                 392   AIC:                             2361.\n",
      "Df Residuals:                     390   BIC:                             2369.\n",
      "Df Model:                           1                                         \n",
      "Covariance Type:            nonrobust                                         \n",
      "==============================================================================\n",
      "                 coef    std err          t      P>|t|      [0.025      0.975]\n",
      "------------------------------------------------------------------------------\n",
      "const         39.9359      0.717     55.660      0.000      38.525      41.347\n",
      "horsepower    -0.1578      0.006    -24.489      0.000      -0.171      -0.145\n",
      "==============================================================================\n",
      "Omnibus:                       16.432   Durbin-Watson:                   0.920\n",
      "Prob(Omnibus):                  0.000   Jarque-Bera (JB):               17.305\n",
      "Skew:                           0.492   Prob(JB):                     0.000175\n",
      "Kurtosis:                       3.299   Cond. No.                         322.\n",
      "==============================================================================\n",
      "\n",
      "Warnings:\n",
      "[1] Standard Errors assume that the covariance matrix of the errors is correctly specified.\n"
     ]
    },
    {
     "name": "stderr",
     "output_type": "stream",
     "text": [
      "C:\\Users\\Kyle\\Anaconda3\\envs\\islr\\lib\\site-packages\\numpy\\core\\fromnumeric.py:2389: FutureWarning: Method .ptp is deprecated and will be removed in a future version. Use numpy.ptp instead.\n",
      "  return ptp(axis=axis, out=out, **kwargs)\n"
     ]
    }
   ],
   "source": [
    "exog = sm.add_constant(Auto[\"horsepower\"])\n",
    "endog = Auto[\"mpg\"]\n",
    "mod = sm.OLS(endog, exog)\n",
    "res = mod.fit()\n",
    "print(res.summary())"
   ]
  },
  {
   "cell_type": "code",
   "execution_count": 33,
   "metadata": {},
   "outputs": [
    {
     "data": {
      "text/plain": [
       "const         0.717499\n",
       "horsepower    0.006446\n",
       "dtype: float64"
      ]
     },
     "execution_count": 33,
     "metadata": {},
     "output_type": "execute_result"
    }
   ],
   "source": [
    "res.bse"
   ]
  },
  {
   "cell_type": "markdown",
   "metadata": {},
   "source": [
    "Using the formulas from Section 3.1.2, the standard error estimates are 0.717 for the intercept and 0.0064 for the slope, which are somewhat different from the bootstrap estimates. This is due to the assumptions underlying those formulas used for the estimation. \n",
    "\n",
    "- First, those formulas depend on the unknown parameter $\\sigma^2$, the noise variance, which we estimated using the residual sum of squares. While the formulas for the standard errors of the coefficients don't rely on the correctness of the model, our estimate for $\\sigma^2$ does. We saw previously that there is a non-linear relationship `mpg` and `horsepower`, which results in inflated residuals from a linear fit. In turn, this will affect our estimate of $\\sigma^2$.\n",
    "- In addition, the standard formulas make the (somewhat unrealistic) assumption that the $x_i$ are fixed, and that all of the variability comes from the variation in the errors $\\epsilon_i$.\n",
    "\n",
    "The bootstrap approach doesn't rely on any of these assumptions, so it is likely that the bootstrap estimates are more accurate estimates of the standard errors of $\\hat{\\beta}_0$ and $\\hat{\\beta}_1$ than those from the `summary()` or `bse()` functions in StatsModels.\n",
    "\n",
    "To conclude, we use the bootstrap to compute standard error estimates for a quadratic model and compare them with the standard linear regression estimates. Since a quadratic model provides a good fit to the data, there is now a better correpondence between the bootstrap estimates and the standard estimates of $\\text{SE}(\\hat{\\beta}_i)$ for $i = 0, 1, 2$."
   ]
  },
  {
   "cell_type": "code",
   "execution_count": 34,
   "metadata": {},
   "outputs": [
    {
     "data": {
      "text/html": [
       "<div>\n",
       "<style scoped>\n",
       "    .dataframe tbody tr th:only-of-type {\n",
       "        vertical-align: middle;\n",
       "    }\n",
       "\n",
       "    .dataframe tbody tr th {\n",
       "        vertical-align: top;\n",
       "    }\n",
       "\n",
       "    .dataframe thead th {\n",
       "        text-align: right;\n",
       "    }\n",
       "</style>\n",
       "<table border=\"1\" class=\"dataframe\">\n",
       "  <thead>\n",
       "    <tr style=\"text-align: right;\">\n",
       "      <th></th>\n",
       "      <th>original</th>\n",
       "      <th>std. error</th>\n",
       "    </tr>\n",
       "  </thead>\n",
       "  <tbody>\n",
       "    <tr>\n",
       "      <td>horsepower</td>\n",
       "      <td>-0.466927</td>\n",
       "      <td>0.033330</td>\n",
       "    </tr>\n",
       "    <tr>\n",
       "      <td>horsepower^2</td>\n",
       "      <td>0.001234</td>\n",
       "      <td>0.000121</td>\n",
       "    </tr>\n",
       "    <tr>\n",
       "      <td>intercept</td>\n",
       "      <td>56.930274</td>\n",
       "      <td>2.079652</td>\n",
       "    </tr>\n",
       "  </tbody>\n",
       "</table>\n",
       "</div>"
      ],
      "text/plain": [
       "               original  std. error\n",
       "horsepower    -0.466927    0.033330\n",
       "horsepower^2   0.001234    0.000121\n",
       "intercept     56.930274    2.079652"
      ]
     },
     "execution_count": 34,
     "metadata": {},
     "output_type": "execute_result"
    }
   ],
   "source": [
    "np.random.seed(17)\n",
    "poly = PolynomialFeatures(degree = 2, include_bias = False)\n",
    "reg = LinearRegression()\n",
    "bootstrap_estimates = pd.DataFrame()\n",
    "for i in range(1000):\n",
    "    sample = resample(Auto)\n",
    "    X = poly.fit_transform(sample[\"horsepower\"].values.reshape(-1, 1))\n",
    "    y = sample[\"mpg\"]\n",
    "    coefs = pd.Series(fit_coefs(X, y, reg), index = [\"horsepower\", \"horsepower^2\", \"intercept\"], name = i)\n",
    "    bootstrap_estimates = bootstrap_estimates.join(coefs, how = \"right\")\n",
    "pd.DataFrame({\"original\": bootstrap_estimates.mean(axis = 1), \"std. error\": bootstrap_estimates.std(axis = 1)})"
   ]
  },
  {
   "cell_type": "code",
   "execution_count": 35,
   "metadata": {},
   "outputs": [
    {
     "name": "stdout",
     "output_type": "stream",
     "text": [
      "                            OLS Regression Results                            \n",
      "==============================================================================\n",
      "Dep. Variable:                    mpg   R-squared:                       0.688\n",
      "Model:                            OLS   Adj. R-squared:                  0.686\n",
      "Method:                 Least Squares   F-statistic:                     428.0\n",
      "Date:                Tue, 24 Dec 2019   Prob (F-statistic):           5.40e-99\n",
      "Time:                        16:45:13   Log-Likelihood:                -1133.2\n",
      "No. Observations:                 392   AIC:                             2272.\n",
      "Df Residuals:                     389   BIC:                             2284.\n",
      "Df Model:                           2                                         \n",
      "Covariance Type:            nonrobust                                         \n",
      "==============================================================================\n",
      "                 coef    std err          t      P>|t|      [0.025      0.975]\n",
      "------------------------------------------------------------------------------\n",
      "const         56.9001      1.800     31.604      0.000      53.360      60.440\n",
      "x1            -0.4662      0.031    -14.978      0.000      -0.527      -0.405\n",
      "x2             0.0012      0.000     10.080      0.000       0.001       0.001\n",
      "==============================================================================\n",
      "Omnibus:                       16.158   Durbin-Watson:                   1.078\n",
      "Prob(Omnibus):                  0.000   Jarque-Bera (JB):               30.662\n",
      "Skew:                           0.218   Prob(JB):                     2.20e-07\n",
      "Kurtosis:                       4.299   Cond. No.                     1.29e+05\n",
      "==============================================================================\n",
      "\n",
      "Warnings:\n",
      "[1] Standard Errors assume that the covariance matrix of the errors is correctly specified.\n",
      "[2] The condition number is large, 1.29e+05. This might indicate that there are\n",
      "strong multicollinearity or other numerical problems.\n"
     ]
    }
   ],
   "source": [
    "poly = PolynomialFeatures(degree = 2)\n",
    "exog = poly.fit_transform(Auto[\"horsepower\"].values.reshape(-1, 1))\n",
    "endog = Auto[\"mpg\"]\n",
    "mod = sm.OLS(endog, exog)\n",
    "res = mod.fit()\n",
    "print(res.summary())"
   ]
  },
  {
   "cell_type": "code",
   "execution_count": 36,
   "metadata": {},
   "outputs": [
    {
     "data": {
      "text/plain": [
       "const    1.800427\n",
       "x1       0.031125\n",
       "x2       0.000122\n",
       "dtype: float64"
      ]
     },
     "execution_count": 36,
     "metadata": {},
     "output_type": "execute_result"
    }
   ],
   "source": [
    "res.bse"
   ]
  }
 ],
 "metadata": {
  "kernelspec": {
   "display_name": "Python 3",
   "language": "python",
   "name": "python3"
  },
  "language_info": {
   "codemirror_mode": {
    "name": "ipython",
    "version": 3
   },
   "file_extension": ".py",
   "mimetype": "text/x-python",
   "name": "python",
   "nbconvert_exporter": "python",
   "pygments_lexer": "ipython3",
   "version": "3.8.2"
  }
 },
 "nbformat": 4,
 "nbformat_minor": 2
}
