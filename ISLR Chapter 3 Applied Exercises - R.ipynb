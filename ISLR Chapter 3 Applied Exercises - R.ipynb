{
 "cells": [
  {
   "cell_type": "markdown",
   "metadata": {},
   "source": [
    "# Applied Exercise 1\n",
    "\n",
    "**This question involves the use of simple linear regression on the `Auto` data set.**"
   ]
  },
  {
   "cell_type": "code",
   "execution_count": 1,
   "metadata": {},
   "outputs": [],
   "source": [
    "Auto = read.csv(\"Auto.csv\", header = TRUE, na.strings = \"?\")\n",
    "Auto = na.omit(Auto)"
   ]
  },
  {
   "cell_type": "markdown",
   "metadata": {},
   "source": [
    "## Part 1\n",
    "**Use the `lm()` function to perform a simple linear regression with `mpg` as the response and `horsepower` as the predictor. Use the `summary()` function to print the results. Comment on the output. For example:**\n",
    "\n",
    "1. **Is there a relationship between the predictor and the response.**\n",
    "2. **How strong is the relationship between the predictor and the response?**\n",
    "3. **Is the relationship between the predictor and the response positive or negative.**\n",
    "4. **What is the predicted `mpg` associated with a `horsepower` of 98? What are the associated 95% confidence and prediction intervals?**"
   ]
  },
  {
   "cell_type": "code",
   "execution_count": 2,
   "metadata": {},
   "outputs": [
    {
     "data": {
      "text/plain": [
       "\n",
       "Call:\n",
       "lm(formula = mpg ~ horsepower, data = Auto)\n",
       "\n",
       "Residuals:\n",
       "     Min       1Q   Median       3Q      Max \n",
       "-13.5710  -3.2592  -0.3435   2.7630  16.9240 \n",
       "\n",
       "Coefficients:\n",
       "             Estimate Std. Error t value Pr(>|t|)    \n",
       "(Intercept) 39.935861   0.717499   55.66   <2e-16 ***\n",
       "horsepower  -0.157845   0.006446  -24.49   <2e-16 ***\n",
       "---\n",
       "Signif. codes:  0 '***' 0.001 '**' 0.01 '*' 0.05 '.' 0.1 ' ' 1\n",
       "\n",
       "Residual standard error: 4.906 on 390 degrees of freedom\n",
       "Multiple R-squared:  0.6059,\tAdjusted R-squared:  0.6049 \n",
       "F-statistic: 599.7 on 1 and 390 DF,  p-value: < 2.2e-16\n"
      ]
     },
     "metadata": {},
     "output_type": "display_data"
    }
   ],
   "source": [
    "auto.lin.fit = lm(mpg ~ horsepower, data = Auto)\n",
    "summary(auto.lin.fit)"
   ]
  },
  {
   "cell_type": "markdown",
   "metadata": {},
   "source": [
    "Simple linear regression gives a model $\\hat{Y} = 39.935861 - 0.157845X_1$ between the predictor `horsepower` and the response `mpg`. A p-value of essentially zero for $\\hat{\\beta}_1 = -0.157845$ gives very strong evidence that there is a relationship between `mpg` and `horsepower`Since $R^2 = 0.6059$, approximately 60.6% of the variability in `mpg` is explained by a linear regression onto `horsepower`. This is a modest relationship between the predictor and the response, since as discussed in the chapter we can improve  our $R^2$ value to 0.688 by including a quadratic term. The value of $\\hat{\\beta}_1$ itself indicates that in the model each increase of 1 horsepower results on average in a decrease of 0.157845 miles per gallon. In other words, in this model there is a negative relationship between the predictor and the response. "
   ]
  },
  {
   "cell_type": "code",
   "execution_count": 4,
   "metadata": {},
   "outputs": [
    {
     "data": {
      "text/html": [
       "<table>\n",
       "<thead><tr><th scope=col>fit</th><th scope=col>lwr</th><th scope=col>upr</th></tr></thead>\n",
       "<tbody>\n",
       "\t<tr><td>24.46708</td><td>23.97308</td><td>24.96108</td></tr>\n",
       "</tbody>\n",
       "</table>\n"
      ],
      "text/latex": [
       "\\begin{tabular}{r|lll}\n",
       " fit & lwr & upr\\\\\n",
       "\\hline\n",
       "\t 24.46708 & 23.97308 & 24.96108\\\\\n",
       "\\end{tabular}\n"
      ],
      "text/markdown": [
       "\n",
       "| fit | lwr | upr |\n",
       "|---|---|---|\n",
       "| 24.46708 | 23.97308 | 24.96108 |\n",
       "\n"
      ],
      "text/plain": [
       "  fit      lwr      upr     \n",
       "1 24.46708 23.97308 24.96108"
      ]
     },
     "metadata": {},
     "output_type": "display_data"
    }
   ],
   "source": [
    "predict(auto.lin.fit, data.frame(horsepower = 98), interval = \"confidence\")"
   ]
  },
  {
   "cell_type": "code",
   "execution_count": 5,
   "metadata": {},
   "outputs": [
    {
     "data": {
      "text/html": [
       "<table>\n",
       "<thead><tr><th scope=col>fit</th><th scope=col>lwr</th><th scope=col>upr</th></tr></thead>\n",
       "<tbody>\n",
       "\t<tr><td>24.46708</td><td>14.8094 </td><td>34.12476</td></tr>\n",
       "</tbody>\n",
       "</table>\n"
      ],
      "text/latex": [
       "\\begin{tabular}{r|lll}\n",
       " fit & lwr & upr\\\\\n",
       "\\hline\n",
       "\t 24.46708 & 14.8094  & 34.12476\\\\\n",
       "\\end{tabular}\n"
      ],
      "text/markdown": [
       "\n",
       "| fit | lwr | upr |\n",
       "|---|---|---|\n",
       "| 24.46708 | 14.8094  | 34.12476 |\n",
       "\n"
      ],
      "text/plain": [
       "  fit      lwr     upr     \n",
       "1 24.46708 14.8094 34.12476"
      ]
     },
     "metadata": {},
     "output_type": "display_data"
    }
   ],
   "source": [
    "predict(auto.lin.fit, data.frame(horsepower = 98), interval = \"prediction\")"
   ]
  },
  {
   "cell_type": "markdown",
   "metadata": {},
   "source": [
    "Plugging in a `horsepower` value of 98 gives a predicted `mpg` of 24.46708. The 95% confidence interval for this prediction is (23.97308, 24.96108) and the 95% prediction interval is (14.8094, 34.12467)"
   ]
  },
  {
   "cell_type": "markdown",
   "metadata": {},
   "source": [
    "## Part 2\n",
    "**Plot the response and the predictor. Use the `abline()` function to display the least squares regression line.**"
   ]
  },
  {
   "cell_type": "code",
   "execution_count": 6,
   "metadata": {},
   "outputs": [
    {
     "data": {
      "image/png": "[encoded data removed]",
      "text/plain": [
       "plot without title"
      ]
     },
     "metadata": {},
     "output_type": "display_data"
    }
   ],
   "source": [
    "plot(Auto$horsepower, Auto$mpg, xlab = \"Horsepower\", ylab = \"Miles per gallon\")\n",
    "abline(auto.lin.fit, lwd = 3, col = \"red\")"
   ]
  },
  {
   "cell_type": "markdown",
   "metadata": {},
   "source": [
    "## Part 3\n",
    "**Use the `plot()` function to produce diagnostic plots of the least squares regression fit. Comment on any problems you see with the fit.**"
   ]
  },
  {
   "cell_type": "code",
   "execution_count": 8,
   "metadata": {},
   "outputs": [
    {
     "data": {
      "image/png": "[encoded data removed]",
      "text/plain": [
       "Plot with title \"\""
      ]
     },
     "metadata": {},
     "output_type": "display_data"
    }
   ],
   "source": [
    "par(mfrow = c(2, 2))\n",
    "plot(auto.lin.fit)"
   ]
  },
  {
   "cell_type": "markdown",
   "metadata": {},
   "source": [
    "Looking at the Residuals vs. Fitted plot, there is a clear U-shape to the residuals, which is a strong indicator of non-linearity in the data. This, when combined with an inspection of the plot in Part 2, tells us that the simple linear regression model is not a good fit. In addition, when looking at the Residuals vs. Leverage plot, there are some high leverage points (remember that after dropping the rows with null values, there are 392 observations in the data set, giving an average leverage value of $2/392 \\approx 0.0051$) which also have high standardized residual values (greater than 2), which is also of concern for the simple linear regression model. There are also a number of observations with a standardized residual value of 3 or more, which is evidence to suggest that they would be possibile outliers if we didn't already have the suspicion that the data is non-linear."
   ]
  },
  {
   "cell_type": "markdown",
   "metadata": {},
   "source": [
    "# Applied Exercise 2\n",
    "\n",
    "**This question involves the use of multiple linear regression on the `Auto` data set.**"
   ]
  },
  {
   "cell_type": "code",
   "execution_count": 1,
   "metadata": {},
   "outputs": [
    {
     "data": {
      "text/html": [
       "<table>\n",
       "<thead><tr><th scope=col>mpg</th><th scope=col>cylinders</th><th scope=col>displacement</th><th scope=col>horsepower</th><th scope=col>weight</th><th scope=col>acceleration</th><th scope=col>year</th><th scope=col>origin</th><th scope=col>name</th></tr></thead>\n",
       "<tbody>\n",
       "\t<tr><td>18                       </td><td>8                        </td><td>307                      </td><td>130                      </td><td>3504                     </td><td>12.0                     </td><td>70                       </td><td>1                        </td><td>chevrolet chevelle malibu</td></tr>\n",
       "\t<tr><td>15                       </td><td>8                        </td><td>350                      </td><td>165                      </td><td>3693                     </td><td>11.5                     </td><td>70                       </td><td>1                        </td><td>buick skylark 320        </td></tr>\n",
       "\t<tr><td>18                       </td><td>8                        </td><td>318                      </td><td>150                      </td><td>3436                     </td><td>11.0                     </td><td>70                       </td><td>1                        </td><td>plymouth satellite       </td></tr>\n",
       "\t<tr><td>16                       </td><td>8                        </td><td>304                      </td><td>150                      </td><td>3433                     </td><td>12.0                     </td><td>70                       </td><td>1                        </td><td>amc rebel sst            </td></tr>\n",
       "\t<tr><td>17                       </td><td>8                        </td><td>302                      </td><td>140                      </td><td>3449                     </td><td>10.5                     </td><td>70                       </td><td>1                        </td><td>ford torino              </td></tr>\n",
       "\t<tr><td>15                       </td><td>8                        </td><td>429                      </td><td>198                      </td><td>4341                     </td><td>10.0                     </td><td>70                       </td><td>1                        </td><td>ford galaxie 500         </td></tr>\n",
       "</tbody>\n",
       "</table>\n"
      ],
      "text/latex": [
       "\\begin{tabular}{r|lllllllll}\n",
       " mpg & cylinders & displacement & horsepower & weight & acceleration & year & origin & name\\\\\n",
       "\\hline\n",
       "\t 18                        & 8                         & 307                       & 130                       & 3504                      & 12.0                      & 70                        & 1                         & chevrolet chevelle malibu\\\\\n",
       "\t 15                        & 8                         & 350                       & 165                       & 3693                      & 11.5                      & 70                        & 1                         & buick skylark 320        \\\\\n",
       "\t 18                        & 8                         & 318                       & 150                       & 3436                      & 11.0                      & 70                        & 1                         & plymouth satellite       \\\\\n",
       "\t 16                        & 8                         & 304                       & 150                       & 3433                      & 12.0                      & 70                        & 1                         & amc rebel sst            \\\\\n",
       "\t 17                        & 8                         & 302                       & 140                       & 3449                      & 10.5                      & 70                        & 1                         & ford torino              \\\\\n",
       "\t 15                        & 8                         & 429                       & 198                       & 4341                      & 10.0                      & 70                        & 1                         & ford galaxie 500         \\\\\n",
       "\\end{tabular}\n"
      ],
      "text/markdown": [
       "\n",
       "| mpg | cylinders | displacement | horsepower | weight | acceleration | year | origin | name |\n",
       "|---|---|---|---|---|---|---|---|---|\n",
       "| 18                        | 8                         | 307                       | 130                       | 3504                      | 12.0                      | 70                        | 1                         | chevrolet chevelle malibu |\n",
       "| 15                        | 8                         | 350                       | 165                       | 3693                      | 11.5                      | 70                        | 1                         | buick skylark 320         |\n",
       "| 18                        | 8                         | 318                       | 150                       | 3436                      | 11.0                      | 70                        | 1                         | plymouth satellite        |\n",
       "| 16                        | 8                         | 304                       | 150                       | 3433                      | 12.0                      | 70                        | 1                         | amc rebel sst             |\n",
       "| 17                        | 8                         | 302                       | 140                       | 3449                      | 10.5                      | 70                        | 1                         | ford torino               |\n",
       "| 15                        | 8                         | 429                       | 198                       | 4341                      | 10.0                      | 70                        | 1                         | ford galaxie 500          |\n",
       "\n"
      ],
      "text/plain": [
       "  mpg cylinders displacement horsepower weight acceleration year origin\n",
       "1 18  8         307          130        3504   12.0         70   1     \n",
       "2 15  8         350          165        3693   11.5         70   1     \n",
       "3 18  8         318          150        3436   11.0         70   1     \n",
       "4 16  8         304          150        3433   12.0         70   1     \n",
       "5 17  8         302          140        3449   10.5         70   1     \n",
       "6 15  8         429          198        4341   10.0         70   1     \n",
       "  name                     \n",
       "1 chevrolet chevelle malibu\n",
       "2 buick skylark 320        \n",
       "3 plymouth satellite       \n",
       "4 amc rebel sst            \n",
       "5 ford torino              \n",
       "6 ford galaxie 500         "
      ]
     },
     "metadata": {},
     "output_type": "display_data"
    }
   ],
   "source": [
    "Auto = read.csv(\"Auto.csv\", header = TRUE, na.strings = \"?\")\n",
    "Auto = na.omit(Auto)\n",
    "head(Auto)"
   ]
  },
  {
   "cell_type": "markdown",
   "metadata": {},
   "source": [
    "Note that the `origin` column actually contains categorical data, even though it is coded using integers. In order to make my life a little easier for performing regression, I'm going replace the values in that column with their meanings and convert it to a factor column. There are also [other options for coding categorical variables](https://stats.idre.ucla.edu/r/modules/coding-for-categorical-variables-in-regression-models/), such as using the `factor()` function directly within `lm()`, or using the `C()` function to have more control over the contrast coding."
   ]
  },
  {
   "cell_type": "code",
   "execution_count": 2,
   "metadata": {},
   "outputs": [
    {
     "data": {
      "text/html": [
       "<table>\n",
       "<thead><tr><th scope=col>mpg</th><th scope=col>cylinders</th><th scope=col>displacement</th><th scope=col>horsepower</th><th scope=col>weight</th><th scope=col>acceleration</th><th scope=col>year</th><th scope=col>origin</th><th scope=col>name</th></tr></thead>\n",
       "<tbody>\n",
       "\t<tr><td>18                       </td><td>8                        </td><td>307                      </td><td>130                      </td><td>3504                     </td><td>12.0                     </td><td>70                       </td><td>American                 </td><td>chevrolet chevelle malibu</td></tr>\n",
       "\t<tr><td>15                       </td><td>8                        </td><td>350                      </td><td>165                      </td><td>3693                     </td><td>11.5                     </td><td>70                       </td><td>American                 </td><td>buick skylark 320        </td></tr>\n",
       "\t<tr><td>18                       </td><td>8                        </td><td>318                      </td><td>150                      </td><td>3436                     </td><td>11.0                     </td><td>70                       </td><td>American                 </td><td>plymouth satellite       </td></tr>\n",
       "\t<tr><td>16                       </td><td>8                        </td><td>304                      </td><td>150                      </td><td>3433                     </td><td>12.0                     </td><td>70                       </td><td>American                 </td><td>amc rebel sst            </td></tr>\n",
       "\t<tr><td>17                       </td><td>8                        </td><td>302                      </td><td>140                      </td><td>3449                     </td><td>10.5                     </td><td>70                       </td><td>American                 </td><td>ford torino              </td></tr>\n",
       "\t<tr><td>15                       </td><td>8                        </td><td>429                      </td><td>198                      </td><td>4341                     </td><td>10.0                     </td><td>70                       </td><td>American                 </td><td>ford galaxie 500         </td></tr>\n",
       "</tbody>\n",
       "</table>\n"
      ],
      "text/latex": [
       "\\begin{tabular}{r|lllllllll}\n",
       " mpg & cylinders & displacement & horsepower & weight & acceleration & year & origin & name\\\\\n",
       "\\hline\n",
       "\t 18                        & 8                         & 307                       & 130                       & 3504                      & 12.0                      & 70                        & American                  & chevrolet chevelle malibu\\\\\n",
       "\t 15                        & 8                         & 350                       & 165                       & 3693                      & 11.5                      & 70                        & American                  & buick skylark 320        \\\\\n",
       "\t 18                        & 8                         & 318                       & 150                       & 3436                      & 11.0                      & 70                        & American                  & plymouth satellite       \\\\\n",
       "\t 16                        & 8                         & 304                       & 150                       & 3433                      & 12.0                      & 70                        & American                  & amc rebel sst            \\\\\n",
       "\t 17                        & 8                         & 302                       & 140                       & 3449                      & 10.5                      & 70                        & American                  & ford torino              \\\\\n",
       "\t 15                        & 8                         & 429                       & 198                       & 4341                      & 10.0                      & 70                        & American                  & ford galaxie 500         \\\\\n",
       "\\end{tabular}\n"
      ],
      "text/markdown": [
       "\n",
       "| mpg | cylinders | displacement | horsepower | weight | acceleration | year | origin | name |\n",
       "|---|---|---|---|---|---|---|---|---|\n",
       "| 18                        | 8                         | 307                       | 130                       | 3504                      | 12.0                      | 70                        | American                  | chevrolet chevelle malibu |\n",
       "| 15                        | 8                         | 350                       | 165                       | 3693                      | 11.5                      | 70                        | American                  | buick skylark 320         |\n",
       "| 18                        | 8                         | 318                       | 150                       | 3436                      | 11.0                      | 70                        | American                  | plymouth satellite        |\n",
       "| 16                        | 8                         | 304                       | 150                       | 3433                      | 12.0                      | 70                        | American                  | amc rebel sst             |\n",
       "| 17                        | 8                         | 302                       | 140                       | 3449                      | 10.5                      | 70                        | American                  | ford torino               |\n",
       "| 15                        | 8                         | 429                       | 198                       | 4341                      | 10.0                      | 70                        | American                  | ford galaxie 500          |\n",
       "\n"
      ],
      "text/plain": [
       "  mpg cylinders displacement horsepower weight acceleration year origin  \n",
       "1 18  8         307          130        3504   12.0         70   American\n",
       "2 15  8         350          165        3693   11.5         70   American\n",
       "3 18  8         318          150        3436   11.0         70   American\n",
       "4 16  8         304          150        3433   12.0         70   American\n",
       "5 17  8         302          140        3449   10.5         70   American\n",
       "6 15  8         429          198        4341   10.0         70   American\n",
       "  name                     \n",
       "1 chevrolet chevelle malibu\n",
       "2 buick skylark 320        \n",
       "3 plymouth satellite       \n",
       "4 amc rebel sst            \n",
       "5 ford torino              \n",
       "6 ford galaxie 500         "
      ]
     },
     "metadata": {},
     "output_type": "display_data"
    }
   ],
   "source": [
    "Auto$origin[Auto$origin == 1] = \"American\"\n",
    "Auto$origin[Auto$origin == 2] = \"European\"\n",
    "Auto$origin[Auto$origin == 3] = \"Japanese\"\n",
    "Auto$origin = as.factor(Auto$origin)\n",
    "head(Auto)"
   ]
  },
  {
   "cell_type": "markdown",
   "metadata": {},
   "source": [
    "## Part 1\n",
    "**Produce a scatterplot matrix which includes all of the variables in the data set.**"
   ]
  },
  {
   "cell_type": "code",
   "execution_count": 4,
   "metadata": {},
   "outputs": [
    {
     "data": {
      "image/png": "[encoded data removed]",
      "text/plain": [
       "plot without title"
      ]
     },
     "metadata": {},
     "output_type": "display_data"
    }
   ],
   "source": [
    "pairs(~mpg + cylinders + displacement + horsepower + weight + acceleration + year, Auto)"
   ]
  },
  {
   "cell_type": "markdown",
   "metadata": {},
   "source": [
    "Since `origin` and `name` are categorical columns, I'm excluding them from the scatterplot matrix."
   ]
  },
  {
   "cell_type": "markdown",
   "metadata": {},
   "source": [
    "## Part 2\n",
    "\n",
    "**Compute the matrix of correlations between the variables using the function `cor()`. You will need to exclude the `name` variable, which is qualitative.**"
   ]
  },
  {
   "cell_type": "code",
   "execution_count": 10,
   "metadata": {},
   "outputs": [
    {
     "data": {
      "text/html": [
       "<table>\n",
       "<thead><tr><th></th><th scope=col>mpg</th><th scope=col>cylinders</th><th scope=col>displacement</th><th scope=col>horsepower</th><th scope=col>weight</th><th scope=col>acceleration</th><th scope=col>year</th></tr></thead>\n",
       "<tbody>\n",
       "\t<tr><th scope=row>mpg</th><td> 1.0000000</td><td>-0.7776175</td><td>-0.8051269</td><td>-0.7784268</td><td>-0.8322442</td><td> 0.4233285</td><td> 0.5805410</td></tr>\n",
       "\t<tr><th scope=row>cylinders</th><td>-0.7776175</td><td> 1.0000000</td><td> 0.9508233</td><td> 0.8429834</td><td> 0.8975273</td><td>-0.5046834</td><td>-0.3456474</td></tr>\n",
       "\t<tr><th scope=row>displacement</th><td>-0.8051269</td><td> 0.9508233</td><td> 1.0000000</td><td> 0.8972570</td><td> 0.9329944</td><td>-0.5438005</td><td>-0.3698552</td></tr>\n",
       "\t<tr><th scope=row>horsepower</th><td>-0.7784268</td><td> 0.8429834</td><td> 0.8972570</td><td> 1.0000000</td><td> 0.8645377</td><td>-0.6891955</td><td>-0.4163615</td></tr>\n",
       "\t<tr><th scope=row>weight</th><td>-0.8322442</td><td> 0.8975273</td><td> 0.9329944</td><td> 0.8645377</td><td> 1.0000000</td><td>-0.4168392</td><td>-0.3091199</td></tr>\n",
       "\t<tr><th scope=row>acceleration</th><td> 0.4233285</td><td>-0.5046834</td><td>-0.5438005</td><td>-0.6891955</td><td>-0.4168392</td><td> 1.0000000</td><td> 0.2903161</td></tr>\n",
       "\t<tr><th scope=row>year</th><td> 0.5805410</td><td>-0.3456474</td><td>-0.3698552</td><td>-0.4163615</td><td>-0.3091199</td><td> 0.2903161</td><td> 1.0000000</td></tr>\n",
       "</tbody>\n",
       "</table>\n"
      ],
      "text/latex": [
       "\\begin{tabular}{r|lllllll}\n",
       "  & mpg & cylinders & displacement & horsepower & weight & acceleration & year\\\\\n",
       "\\hline\n",
       "\tmpg &  1.0000000 & -0.7776175 & -0.8051269 & -0.7784268 & -0.8322442 &  0.4233285 &  0.5805410\\\\\n",
       "\tcylinders & -0.7776175 &  1.0000000 &  0.9508233 &  0.8429834 &  0.8975273 & -0.5046834 & -0.3456474\\\\\n",
       "\tdisplacement & -0.8051269 &  0.9508233 &  1.0000000 &  0.8972570 &  0.9329944 & -0.5438005 & -0.3698552\\\\\n",
       "\thorsepower & -0.7784268 &  0.8429834 &  0.8972570 &  1.0000000 &  0.8645377 & -0.6891955 & -0.4163615\\\\\n",
       "\tweight & -0.8322442 &  0.8975273 &  0.9329944 &  0.8645377 &  1.0000000 & -0.4168392 & -0.3091199\\\\\n",
       "\tacceleration &  0.4233285 & -0.5046834 & -0.5438005 & -0.6891955 & -0.4168392 &  1.0000000 &  0.2903161\\\\\n",
       "\tyear &  0.5805410 & -0.3456474 & -0.3698552 & -0.4163615 & -0.3091199 &  0.2903161 &  1.0000000\\\\\n",
       "\\end{tabular}\n"
      ],
      "text/markdown": [
       "\n",
       "| <!--/--> | mpg | cylinders | displacement | horsepower | weight | acceleration | year |\n",
       "|---|---|---|---|---|---|---|---|\n",
       "| mpg |  1.0000000 | -0.7776175 | -0.8051269 | -0.7784268 | -0.8322442 |  0.4233285 |  0.5805410 |\n",
       "| cylinders | -0.7776175 |  1.0000000 |  0.9508233 |  0.8429834 |  0.8975273 | -0.5046834 | -0.3456474 |\n",
       "| displacement | -0.8051269 |  0.9508233 |  1.0000000 |  0.8972570 |  0.9329944 | -0.5438005 | -0.3698552 |\n",
       "| horsepower | -0.7784268 |  0.8429834 |  0.8972570 |  1.0000000 |  0.8645377 | -0.6891955 | -0.4163615 |\n",
       "| weight | -0.8322442 |  0.8975273 |  0.9329944 |  0.8645377 |  1.0000000 | -0.4168392 | -0.3091199 |\n",
       "| acceleration |  0.4233285 | -0.5046834 | -0.5438005 | -0.6891955 | -0.4168392 |  1.0000000 |  0.2903161 |\n",
       "| year |  0.5805410 | -0.3456474 | -0.3698552 | -0.4163615 | -0.3091199 |  0.2903161 |  1.0000000 |\n",
       "\n"
      ],
      "text/plain": [
       "             mpg        cylinders  displacement horsepower weight    \n",
       "mpg           1.0000000 -0.7776175 -0.8051269   -0.7784268 -0.8322442\n",
       "cylinders    -0.7776175  1.0000000  0.9508233    0.8429834  0.8975273\n",
       "displacement -0.8051269  0.9508233  1.0000000    0.8972570  0.9329944\n",
       "horsepower   -0.7784268  0.8429834  0.8972570    1.0000000  0.8645377\n",
       "weight       -0.8322442  0.8975273  0.9329944    0.8645377  1.0000000\n",
       "acceleration  0.4233285 -0.5046834 -0.5438005   -0.6891955 -0.4168392\n",
       "year          0.5805410 -0.3456474 -0.3698552   -0.4163615 -0.3091199\n",
       "             acceleration year      \n",
       "mpg           0.4233285    0.5805410\n",
       "cylinders    -0.5046834   -0.3456474\n",
       "displacement -0.5438005   -0.3698552\n",
       "horsepower   -0.6891955   -0.4163615\n",
       "weight       -0.4168392   -0.3091199\n",
       "acceleration  1.0000000    0.2903161\n",
       "year          0.2903161    1.0000000"
      ]
     },
     "metadata": {},
     "output_type": "display_data"
    }
   ],
   "source": [
    "cor(Auto[,-c(8, 9)])"
   ]
  },
  {
   "cell_type": "markdown",
   "metadata": {},
   "source": [
    "Since the `origin` column is also qualitative, I excluded it along with the `name` column when computing the matrix of correlations."
   ]
  },
  {
   "cell_type": "markdown",
   "metadata": {},
   "source": [
    "## Part 3\n",
    "**Use the `lm()` function to perform a multiple linear regression with `mpg` as the response and all other variables except `name` as the predictors. Use the `summary()` function to print the results. Comment on the output. For instance:**\n",
    "1. **Is there a relationship between the predictors and the response?**\n",
    "2. **Which predictors appear to have a statistically significant relationship to the response?**\n",
    "3. **What does the coefficient for the `year` variable suggest?**"
   ]
  },
  {
   "cell_type": "code",
   "execution_count": 11,
   "metadata": {},
   "outputs": [
    {
     "data": {
      "text/plain": [
       "\n",
       "Call:\n",
       "lm(formula = mpg ~ . - name, data = Auto)\n",
       "\n",
       "Residuals:\n",
       "    Min      1Q  Median      3Q     Max \n",
       "-9.0095 -2.0785 -0.0982  1.9856 13.3608 \n",
       "\n",
       "Coefficients:\n",
       "                 Estimate Std. Error t value Pr(>|t|)    \n",
       "(Intercept)    -1.795e+01  4.677e+00  -3.839 0.000145 ***\n",
       "cylinders      -4.897e-01  3.212e-01  -1.524 0.128215    \n",
       "displacement    2.398e-02  7.653e-03   3.133 0.001863 ** \n",
       "horsepower     -1.818e-02  1.371e-02  -1.326 0.185488    \n",
       "weight         -6.710e-03  6.551e-04 -10.243  < 2e-16 ***\n",
       "acceleration    7.910e-02  9.822e-02   0.805 0.421101    \n",
       "year            7.770e-01  5.178e-02  15.005  < 2e-16 ***\n",
       "originEuropean  2.630e+00  5.664e-01   4.643 4.72e-06 ***\n",
       "originJapanese  2.853e+00  5.527e-01   5.162 3.93e-07 ***\n",
       "---\n",
       "Signif. codes:  0 '***' 0.001 '**' 0.01 '*' 0.05 '.' 0.1 ' ' 1\n",
       "\n",
       "Residual standard error: 3.307 on 383 degrees of freedom\n",
       "Multiple R-squared:  0.8242,\tAdjusted R-squared:  0.8205 \n",
       "F-statistic: 224.5 on 8 and 383 DF,  p-value: < 2.2e-16\n"
      ]
     },
     "metadata": {},
     "output_type": "display_data"
    }
   ],
   "source": [
    "mpg.fit = lm(mpg ~ . - name, data = Auto)\n",
    "summary(mpg.fit)"
   ]
  },
  {
   "cell_type": "code",
   "execution_count": 12,
   "metadata": {},
   "outputs": [
    {
     "data": {
      "text/html": [
       "<table>\n",
       "<thead><tr><th></th><th scope=col>European</th><th scope=col>Japanese</th></tr></thead>\n",
       "<tbody>\n",
       "\t<tr><th scope=row>American</th><td>0</td><td>0</td></tr>\n",
       "\t<tr><th scope=row>European</th><td>1</td><td>0</td></tr>\n",
       "\t<tr><th scope=row>Japanese</th><td>0</td><td>1</td></tr>\n",
       "</tbody>\n",
       "</table>\n"
      ],
      "text/latex": [
       "\\begin{tabular}{r|ll}\n",
       "  & European & Japanese\\\\\n",
       "\\hline\n",
       "\tAmerican & 0 & 0\\\\\n",
       "\tEuropean & 1 & 0\\\\\n",
       "\tJapanese & 0 & 1\\\\\n",
       "\\end{tabular}\n"
      ],
      "text/markdown": [
       "\n",
       "| <!--/--> | European | Japanese |\n",
       "|---|---|---|\n",
       "| American | 0 | 0 |\n",
       "| European | 1 | 0 |\n",
       "| Japanese | 0 | 1 |\n",
       "\n"
      ],
      "text/plain": [
       "         European Japanese\n",
       "American 0        0       \n",
       "European 1        0       \n",
       "Japanese 0        1       "
      ]
     },
     "metadata": {},
     "output_type": "display_data"
    }
   ],
   "source": [
    "contrasts(Auto$origin)"
   ]
  },
  {
   "cell_type": "markdown",
   "metadata": {},
   "source": [
    "Since the F-statistic is 224.5, giving a p-value of essentially zero for the null hypothesis $H_0: \\beta_j = 0 \\text{ for all } j$, there is strong evidence to believe that there is a relationship between the predictors and the response. The predictors that appear to have a statistically significant relationship to the response `mpg` are `displacement` with a p-value of 0.001863, and `weight`, `year`, `originEuropean`, and `originJapanese` with p-values of essentially zero. The coefficients for `cylinders`, `horsepower`, and `acceleration` have p-values which are not small enough to provide evidence of a statistically significant relationship to the response `mpg`. The coefficient of 0.777 for the `year` variable suggests that when we fix the number of engine cylinders, engine displacement, horsepower, weight, acceleration, and country of origin, fuel efficiency increases on average by about 0.777 miles per gallon each year. In other words, the model suggests that we would expect cars from 1971 to be more fuel efficient by 0.777 miles per gallon on average compared to equivalent cars from 1970. Also of interest are the coefficients for `originEuropean` and `originJapanese`, which suggest that compared to equivalent cars from the United States, we would expect European cars to be more fuel efficient by 2.630 miles per gallon on average, and Japanese cars to be more fuel efficient by 2.853 miles per gallon on average. Lastly, the $R^2$ value of 0.8242 indicates that about 82% of the variation in `mpg` is explained by this least squares regression model."
   ]
  },
  {
   "cell_type": "markdown",
   "metadata": {},
   "source": [
    "Before moving on to Part 4, let's also explore collinearity in this fit, since matrix of correlations in Part 2 revealed that a number of variables were highly correlated with each other. We'll focus on just the quantitative variables."
   ]
  },
  {
   "cell_type": "code",
   "execution_count": 45,
   "metadata": {},
   "outputs": [
    {
     "name": "stderr",
     "output_type": "stream",
     "text": [
      "Loading required package: carData\n"
     ]
    }
   ],
   "source": [
    "library(car)"
   ]
  },
  {
   "cell_type": "code",
   "execution_count": 50,
   "metadata": {},
   "outputs": [
    {
     "data": {
      "text/html": [
       "<dl class=dl-horizontal>\n",
       "\t<dt>cylinders</dt>\n",
       "\t\t<dd>10.6330493129093</dd>\n",
       "\t<dt>displacement</dt>\n",
       "\t\t<dd>19.6416827638437</dd>\n",
       "\t<dt>horsepower</dt>\n",
       "\t\t<dd>9.39804279535971</dd>\n",
       "\t<dt>weight</dt>\n",
       "\t\t<dd>10.7316805058049</dd>\n",
       "\t<dt>acceleration</dt>\n",
       "\t\t<dd>2.62558065230689</dd>\n",
       "\t<dt>year</dt>\n",
       "\t\t<dd>1.24482934697505</dd>\n",
       "</dl>\n"
      ],
      "text/latex": [
       "\\begin{description*}\n",
       "\\item[cylinders] 10.6330493129093\n",
       "\\item[displacement] 19.6416827638437\n",
       "\\item[horsepower] 9.39804279535971\n",
       "\\item[weight] 10.7316805058049\n",
       "\\item[acceleration] 2.62558065230689\n",
       "\\item[year] 1.24482934697505\n",
       "\\end{description*}\n"
      ],
      "text/markdown": [
       "cylinders\n",
       ":   10.6330493129093displacement\n",
       ":   19.6416827638437horsepower\n",
       ":   9.39804279535971weight\n",
       ":   10.7316805058049acceleration\n",
       ":   2.62558065230689year\n",
       ":   1.24482934697505\n",
       "\n"
      ],
      "text/plain": [
       "   cylinders displacement   horsepower       weight acceleration         year \n",
       "   10.633049    19.641683     9.398043    10.731681     2.625581     1.244829 "
      ]
     },
     "metadata": {},
     "output_type": "display_data"
    }
   ],
   "source": [
    "vif(lm(mpg ~ . - origin - name, data = Auto))"
   ]
  },
  {
   "cell_type": "markdown",
   "metadata": {},
   "source": [
    "As we can see, `cylinders`, `horsepower`, and `weight` each have variance inflation factors of approximately 10, while `displacement` has a variance inflation factor of almost 20. This, combined with the large in absolute value correlation values between those variables, provides strong evidence that there is a fair amount of multicollinearity between those four predictors. This makes sense when considering that the number of cylinders, engine displacement, and horsepower are closely related as characteristics of the car's engine, which also contributes a fair proportion of a car's weight."
   ]
  },
  {
   "cell_type": "markdown",
   "metadata": {},
   "source": [
    "## Part 4\n",
    "\n",
    "**Use the `plot()` function to produce diagnostic plots of the linear regression fit. Comment on any problems you see with the fit. Do the residual plots suggest any unusually large outliers? Does the leverage plot identify any observations with unusually high leverage?**"
   ]
  },
  {
   "cell_type": "code",
   "execution_count": 13,
   "metadata": {},
   "outputs": [
    {
     "data": {
      "image/png": "[encoded data removed]",
      "text/plain": [
       "Plot with title \"\""
      ]
     },
     "metadata": {},
     "output_type": "display_data"
    }
   ],
   "source": [
    "par(mfrow = c(2, 2))\n",
    "plot(mpg.fit)"
   ]
  },
  {
   "cell_type": "markdown",
   "metadata": {},
   "source": [
    "Looking at the Residuals vs. Fitted plot, there appears to be moderate U-shape, which indicates that there might be non-linearity in the data. In addition, when looking at the Residuals vs. Leverage plot we can observe a few things. First, there are a number of observations with standardized residual values with absolute value greater than or equal to 3. Those are likely outliers. This is confirmed by looking at the Scale-Location plot, which has $\\sqrt{|\\text{Standardized residual}|}$ as the $y$-axis. Points with $\\sqrt{|\\text{Standardized residual}|} \\geq 1.732$ have $| \\text{Standardized residual} | \\geq 3$, which again means that they are likely outliers. Going back the the Residuals vs. Leverage plot, we also see that there are a couple points with unusually high leverage. Again remember that after dropping the rows with null values, there are 392 observations in the data set, giving an average leverage value of $9/392 \\approx 0.023$. There is one point with a leverage value of about 0.10, which is almost 5 times greater than the average. There is another point with a leverage of about 0.20, which is almost 10 times greater than the average."
   ]
  },
  {
   "cell_type": "markdown",
   "metadata": {},
   "source": [
    "## Part 5\n",
    "\n",
    "**Use the `*` and `:` symbols to fit linear regression models with interaction effects. Do any interactions appear to be statistically significant?**"
   ]
  },
  {
   "cell_type": "markdown",
   "metadata": {},
   "source": [
    "First, I will use `^2` to fit a linear regression model using all possible second order interaction effects."
   ]
  },
  {
   "cell_type": "code",
   "execution_count": 15,
   "metadata": {},
   "outputs": [
    {
     "data": {
      "text/plain": [
       "\n",
       "Call:\n",
       "lm(formula = mpg ~ (. - name)^2, data = Auto)\n",
       "\n",
       "Residuals:\n",
       "    Min      1Q  Median      3Q     Max \n",
       "-7.6008 -1.2863  0.0813  1.2082 12.0382 \n",
       "\n",
       "Coefficients:\n",
       "                              Estimate Std. Error t value Pr(>|t|)    \n",
       "(Intercept)                  4.401e+01  5.147e+01   0.855 0.393048    \n",
       "cylinders                    3.302e+00  8.187e+00   0.403 0.686976    \n",
       "displacement                -3.529e-01  1.974e-01  -1.788 0.074638 .  \n",
       "horsepower                   5.312e-01  3.390e-01   1.567 0.117970    \n",
       "weight                      -3.259e-03  1.820e-02  -0.179 0.857980    \n",
       "acceleration                -6.048e+00  2.147e+00  -2.818 0.005109 ** \n",
       "year                         4.833e-01  5.923e-01   0.816 0.415119    \n",
       "originEuropean              -3.517e+01  1.260e+01  -2.790 0.005547 ** \n",
       "originJapanese              -3.765e+01  1.426e+01  -2.640 0.008661 ** \n",
       "cylinders:displacement      -6.316e-03  7.106e-03  -0.889 0.374707    \n",
       "cylinders:horsepower         1.452e-02  2.457e-02   0.591 0.555109    \n",
       "cylinders:weight             5.703e-04  9.044e-04   0.631 0.528709    \n",
       "cylinders:acceleration       3.658e-01  1.671e-01   2.189 0.029261 *  \n",
       "cylinders:year              -1.447e-01  9.652e-02  -1.499 0.134846    \n",
       "cylinders:originEuropean    -7.210e-01  1.088e+00  -0.662 0.508100    \n",
       "cylinders:originJapanese     1.226e+00  1.007e+00   1.217 0.224379    \n",
       "displacement:horsepower     -5.407e-05  2.861e-04  -0.189 0.850212    \n",
       "displacement:weight          2.659e-05  1.455e-05   1.828 0.068435 .  \n",
       "displacement:acceleration   -2.547e-03  3.356e-03  -0.759 0.448415    \n",
       "displacement:year            4.547e-03  2.446e-03   1.859 0.063842 .  \n",
       "displacement:originEuropean -3.364e-02  4.220e-02  -0.797 0.425902    \n",
       "displacement:originJapanese  5.375e-02  4.145e-02   1.297 0.195527    \n",
       "horsepower:weight           -3.407e-05  2.955e-05  -1.153 0.249743    \n",
       "horsepower:acceleration     -3.445e-03  3.937e-03  -0.875 0.382122    \n",
       "horsepower:year             -6.427e-03  3.891e-03  -1.652 0.099487 .  \n",
       "horsepower:originEuropean   -4.869e-03  5.061e-02  -0.096 0.923408    \n",
       "horsepower:originJapanese    2.289e-02  6.252e-02   0.366 0.714533    \n",
       "weight:acceleration         -6.851e-05  2.385e-04  -0.287 0.774061    \n",
       "weight:year                 -8.065e-05  2.184e-04  -0.369 0.712223    \n",
       "weight:originEuropean        2.277e-03  2.685e-03   0.848 0.397037    \n",
       "weight:originJapanese       -4.498e-03  3.481e-03  -1.292 0.197101    \n",
       "acceleration:year            6.141e-02  2.547e-02   2.412 0.016390 *  \n",
       "acceleration:originEuropean  9.234e-01  2.641e-01   3.496 0.000531 ***\n",
       "acceleration:originJapanese  7.159e-01  3.258e-01   2.198 0.028614 *  \n",
       "year:originEuropean          2.932e-01  1.444e-01   2.031 0.043005 *  \n",
       "year:originJapanese          3.139e-01  1.483e-01   2.116 0.035034 *  \n",
       "---\n",
       "Signif. codes:  0 '***' 0.001 '**' 0.01 '*' 0.05 '.' 0.1 ' ' 1\n",
       "\n",
       "Residual standard error: 2.628 on 356 degrees of freedom\n",
       "Multiple R-squared:  0.8967,\tAdjusted R-squared:  0.8866 \n",
       "F-statistic: 88.34 on 35 and 356 DF,  p-value: < 2.2e-16\n"
      ]
     },
     "metadata": {},
     "output_type": "display_data"
    }
   ],
   "source": [
    "mpg.fit.all.interactions = lm(mpg ~ (. - name)^2, data = Auto)\n",
    "summary(mpg.fit.all.interactions)"
   ]
  },
  {
   "cell_type": "markdown",
   "metadata": {},
   "source": [
    "Here, the interaction term between `horsepower` and `originEuropean` has the highest p-value, so we remove the interaction between `horsepower` and `origin` from the model to proceed with backward selection. We're going to do this until the adjusted $R^2$ value no longer increases when we remove predictors. The adjusted $R^2$ value is an adjustment of the regular $R^2$ value to take into account the number of predictors and is a way to compare the fit of models with different numbers of predictors, as the regular $R^2$ always increases with the inclusion of more predictors."
   ]
  },
  {
   "cell_type": "code",
   "execution_count": 18,
   "metadata": {},
   "outputs": [
    {
     "data": {
      "text/plain": [
       "\n",
       "Call:\n",
       "lm(formula = mpg ~ cylinders + displacement + horsepower + weight + \n",
       "    acceleration + year + origin + cylinders:displacement + cylinders:horsepower + \n",
       "    cylinders:weight + cylinders:acceleration + cylinders:year + \n",
       "    cylinders:origin + displacement:horsepower + displacement:weight + \n",
       "    displacement:acceleration + displacement:year + displacement:origin + \n",
       "    horsepower:weight + horsepower:acceleration + horsepower:year + \n",
       "    weight:acceleration + weight:year + weight:origin + acceleration:year + \n",
       "    acceleration:origin + year:origin, data = Auto)\n",
       "\n",
       "Residuals:\n",
       "    Min      1Q  Median      3Q     Max \n",
       "-7.5134 -1.2836  0.0627  1.2001 11.9847 \n",
       "\n",
       "Coefficients:\n",
       "                              Estimate Std. Error t value Pr(>|t|)    \n",
       "(Intercept)                  4.234e+01  4.958e+01   0.854  0.39363    \n",
       "cylinders                    3.239e+00  8.164e+00   0.397  0.69178    \n",
       "displacement                -3.496e-01  1.967e-01  -1.777  0.07643 .  \n",
       "horsepower                   5.406e-01  3.245e-01   1.666  0.09653 .  \n",
       "weight                      -3.592e-03  1.814e-02  -0.198  0.84312    \n",
       "acceleration                -5.955e+00  2.082e+00  -2.860  0.00448 ** \n",
       "year                         5.022e-01  5.781e-01   0.869  0.38564    \n",
       "originEuropean              -3.606e+01  1.108e+01  -3.254  0.00124 ** \n",
       "originJapanese              -3.486e+01  1.227e+01  -2.842  0.00474 ** \n",
       "cylinders:displacement      -6.410e-03  7.019e-03  -0.913  0.36171    \n",
       "cylinders:horsepower         1.503e-02  2.386e-02   0.630  0.52911    \n",
       "cylinders:weight             5.580e-04  8.993e-04   0.620  0.53535    \n",
       "cylinders:acceleration       3.702e-01  1.663e-01   2.226  0.02665 *  \n",
       "cylinders:year              -1.447e-01  9.618e-02  -1.505  0.13332    \n",
       "cylinders:originEuropean    -7.240e-01  1.077e+00  -0.672  0.50197    \n",
       "cylinders:originJapanese     1.282e+00  9.826e-01   1.305  0.19278    \n",
       "displacement:horsepower     -6.732e-05  2.816e-04  -0.239  0.81119    \n",
       "displacement:weight          2.757e-05  1.434e-05   1.923  0.05523 .  \n",
       "displacement:acceleration   -2.610e-03  3.343e-03  -0.781  0.43543    \n",
       "displacement:year            4.500e-03  2.437e-03   1.847  0.06562 .  \n",
       "displacement:originEuropean -3.431e-02  4.201e-02  -0.817  0.41467    \n",
       "displacement:originJapanese  5.260e-02  4.121e-02   1.277  0.20259    \n",
       "horsepower:weight           -3.555e-05  2.928e-05  -1.214  0.22537    \n",
       "horsepower:acceleration     -3.585e-03  3.860e-03  -0.929  0.35361    \n",
       "horsepower:year             -6.439e-03  3.857e-03  -1.670  0.09588 .  \n",
       "weight:acceleration         -6.614e-05  2.373e-04  -0.279  0.78058    \n",
       "weight:year                 -7.693e-05  2.176e-04  -0.354  0.72388    \n",
       "weight:originEuropean        2.145e-03  2.403e-03   0.893  0.37270    \n",
       "weight:originJapanese       -3.646e-03  2.785e-03  -1.309  0.19124    \n",
       "acceleration:year            6.019e-02  2.494e-02   2.413  0.01631 *  \n",
       "acceleration:originEuropean  9.478e-01  1.980e-01   4.788 2.48e-06 ***\n",
       "acceleration:originJapanese  6.484e-01  2.742e-01   2.365  0.01859 *  \n",
       "year:originEuropean          2.998e-01  1.396e-01   2.147  0.03244 *  \n",
       "year:originJapanese          2.895e-01  1.349e-01   2.146  0.03255 *  \n",
       "---\n",
       "Signif. codes:  0 '***' 0.001 '**' 0.01 '*' 0.05 '.' 0.1 ' ' 1\n",
       "\n",
       "Residual standard error: 2.622 on 358 degrees of freedom\n",
       "Multiple R-squared:  0.8967,\tAdjusted R-squared:  0.8872 \n",
       "F-statistic: 94.16 on 33 and 358 DF,  p-value: < 2.2e-16\n"
      ]
     },
     "metadata": {},
     "output_type": "display_data"
    }
   ],
   "source": [
    "mpg.fit.reduced.interactions = update(mpg.fit.all.interactions, ~ . - horsepower:origin)\n",
    "summary(mpg.fit.reduced.interactions)"
   ]
  },
  {
   "cell_type": "markdown",
   "metadata": {},
   "source": [
    "Our adjusted $R^2$ value has increased a little bit to 0.8872, which suggests that removing the interaction between `horsepower` and `origin` improved the model. The interaction term with the next-highest p-value is the one between `displacement` and `horsepower`, so let's remove that one."
   ]
  },
  {
   "cell_type": "code",
   "execution_count": 19,
   "metadata": {},
   "outputs": [
    {
     "data": {
      "text/plain": [
       "\n",
       "Call:\n",
       "lm(formula = mpg ~ cylinders + displacement + horsepower + weight + \n",
       "    acceleration + year + origin + cylinders:displacement + cylinders:horsepower + \n",
       "    cylinders:weight + cylinders:acceleration + cylinders:year + \n",
       "    cylinders:origin + displacement:weight + displacement:acceleration + \n",
       "    displacement:year + displacement:origin + horsepower:weight + \n",
       "    horsepower:acceleration + horsepower:year + weight:acceleration + \n",
       "    weight:year + weight:origin + acceleration:year + acceleration:origin + \n",
       "    year:origin, data = Auto)\n",
       "\n",
       "Residuals:\n",
       "    Min      1Q  Median      3Q     Max \n",
       "-7.5056 -1.2908  0.0537  1.1985 11.9796 \n",
       "\n",
       "Coefficients:\n",
       "                              Estimate Std. Error t value Pr(>|t|)    \n",
       "(Intercept)                  4.011e+01  4.862e+01   0.825  0.41000    \n",
       "cylinders                    4.150e+00  7.211e+00   0.575  0.56533    \n",
       "displacement                -3.717e-01  1.734e-01  -2.144  0.03269 *  \n",
       "horsepower                   5.362e-01  3.235e-01   1.657  0.09830 .  \n",
       "weight                      -2.406e-03  1.742e-02  -0.138  0.89025    \n",
       "acceleration                -5.974e+00  2.078e+00  -2.875  0.00428 ** \n",
       "year                         5.175e-01  5.738e-01   0.902  0.36769    \n",
       "originEuropean              -3.623e+01  1.105e+01  -3.280  0.00114 ** \n",
       "originJapanese              -3.489e+01  1.225e+01  -2.849  0.00464 ** \n",
       "cylinders:displacement      -6.500e-03  7.000e-03  -0.929  0.35373    \n",
       "cylinders:horsepower         1.130e-02  1.804e-02   0.627  0.53127    \n",
       "cylinders:weight             6.754e-04  7.524e-04   0.898  0.36997    \n",
       "cylinders:acceleration       3.470e-01  1.349e-01   2.572  0.01052 *  \n",
       "cylinders:year              -1.511e-01  9.224e-02  -1.638  0.10220    \n",
       "cylinders:originEuropean    -7.190e-01  1.076e+00  -0.668  0.50425    \n",
       "cylinders:originJapanese     1.297e+00  9.794e-01   1.324  0.18625    \n",
       "displacement:weight          2.570e-05  1.199e-05   2.143  0.03276 *  \n",
       "displacement:acceleration   -2.197e-03  2.858e-03  -0.769  0.44252    \n",
       "displacement:year            4.693e-03  2.296e-03   2.044  0.04169 *  \n",
       "displacement:originEuropean -3.324e-02  4.172e-02  -0.797  0.42605    \n",
       "displacement:originJapanese  5.187e-02  4.104e-02   1.264  0.20707    \n",
       "horsepower:weight           -3.610e-05  2.915e-05  -1.238  0.21638    \n",
       "horsepower:acceleration     -3.400e-03  3.776e-03  -0.900  0.36854    \n",
       "horsepower:year             -6.305e-03  3.811e-03  -1.655  0.09889 .  \n",
       "weight:acceleration         -7.592e-05  2.334e-04  -0.325  0.74515    \n",
       "weight:year                 -9.334e-05  2.062e-04  -0.453  0.65111    \n",
       "weight:originEuropean        2.115e-03  2.397e-03   0.882  0.37821    \n",
       "weight:originJapanese       -3.599e-03  2.774e-03  -1.297  0.19534    \n",
       "acceleration:year            6.119e-02  2.456e-02   2.491  0.01319 *  \n",
       "acceleration:originEuropean  9.524e-01  1.968e-01   4.840 1.93e-06 ***\n",
       "acceleration:originJapanese  6.482e-01  2.739e-01   2.367  0.01848 *  \n",
       "year:originEuropean          3.002e-01  1.394e-01   2.153  0.03199 *  \n",
       "year:originJapanese          2.889e-01  1.347e-01   2.145  0.03266 *  \n",
       "---\n",
       "Signif. codes:  0 '***' 0.001 '**' 0.01 '*' 0.05 '.' 0.1 ' ' 1\n",
       "\n",
       "Residual standard error: 2.618 on 359 degrees of freedom\n",
       "Multiple R-squared:  0.8967,\tAdjusted R-squared:  0.8875 \n",
       "F-statistic: 97.36 on 32 and 359 DF,  p-value: < 2.2e-16\n"
      ]
     },
     "metadata": {},
     "output_type": "display_data"
    }
   ],
   "source": [
    "mpg.fit.reduced.interactions = update(mpg.fit.reduced.interactions, ~ . - displacement:horsepower)\n",
    "summary(mpg.fit.reduced.interactions)"
   ]
  },
  {
   "cell_type": "markdown",
   "metadata": {},
   "source": [
    "Now our adjusted $R^2$ value has increased a little bit to 0.8875, which suggests that removing the interaction between `displacement` and `horsepower` improved the model a little further. The interaction term with the next-highest p-value is the one between `weight` and `acceleration`, so let's remove that one."
   ]
  },
  {
   "cell_type": "code",
   "execution_count": 20,
   "metadata": {},
   "outputs": [
    {
     "data": {
      "text/plain": [
       "\n",
       "Call:\n",
       "lm(formula = mpg ~ cylinders + displacement + horsepower + weight + \n",
       "    acceleration + year + origin + cylinders:displacement + cylinders:horsepower + \n",
       "    cylinders:weight + cylinders:acceleration + cylinders:year + \n",
       "    cylinders:origin + displacement:weight + displacement:acceleration + \n",
       "    displacement:year + displacement:origin + horsepower:weight + \n",
       "    horsepower:acceleration + horsepower:year + weight:year + \n",
       "    weight:origin + acceleration:year + acceleration:origin + \n",
       "    year:origin, data = Auto)\n",
       "\n",
       "Residuals:\n",
       "   Min     1Q Median     3Q    Max \n",
       "-7.510 -1.275  0.058  1.208 11.981 \n",
       "\n",
       "Coefficients:\n",
       "                              Estimate Std. Error t value Pr(>|t|)    \n",
       "(Intercept)                  4.061e+01  4.854e+01   0.837  0.40335    \n",
       "cylinders                    4.540e+00  7.101e+00   0.639  0.52301    \n",
       "displacement                -3.747e-01  1.729e-01  -2.168  0.03085 *  \n",
       "horsepower                   5.338e-01  3.230e-01   1.653  0.09928 .  \n",
       "weight                      -3.211e-03  1.722e-02  -0.186  0.85220    \n",
       "acceleration                -6.025e+00  2.069e+00  -2.912  0.00382 ** \n",
       "year                         5.309e-01  5.716e-01   0.929  0.35356    \n",
       "originEuropean              -3.619e+01  1.103e+01  -3.280  0.00114 ** \n",
       "originJapanese              -3.544e+01  1.212e+01  -2.924  0.00367 ** \n",
       "cylinders:displacement      -6.255e-03  6.951e-03  -0.900  0.36876    \n",
       "cylinders:horsepower         8.539e-03  1.589e-02   0.537  0.59133    \n",
       "cylinders:weight             7.455e-04  7.200e-04   1.035  0.30122    \n",
       "cylinders:acceleration       3.354e-01  1.299e-01   2.581  0.01024 *  \n",
       "cylinders:year              -1.537e-01  9.179e-02  -1.674  0.09492 .  \n",
       "cylinders:originEuropean    -6.621e-01  1.060e+00  -0.625  0.53260    \n",
       "cylinders:originJapanese     1.332e+00  9.723e-01   1.370  0.17168    \n",
       "displacement:weight          2.458e-05  1.147e-05   2.143  0.03278 *  \n",
       "displacement:acceleration   -2.519e-03  2.678e-03  -0.941  0.34758    \n",
       "displacement:year            4.828e-03  2.255e-03   2.141  0.03294 *  \n",
       "displacement:originEuropean -3.379e-02  4.163e-02  -0.812  0.41760    \n",
       "displacement:originJapanese  5.098e-02  4.090e-02   1.247  0.21336    \n",
       "horsepower:weight           -3.187e-05  2.606e-05  -1.223  0.22215    \n",
       "horsepower:acceleration     -3.813e-03  3.553e-03  -1.073  0.28390    \n",
       "horsepower:year             -6.159e-03  3.780e-03  -1.630  0.10407    \n",
       "weight:year                 -1.064e-04  2.020e-04  -0.527  0.59875    \n",
       "weight:originEuropean        2.064e-03  2.389e-03   0.864  0.38811    \n",
       "weight:originJapanese       -3.513e-03  2.758e-03  -1.274  0.20356    \n",
       "acceleration:year            6.105e-02  2.453e-02   2.489  0.01326 *  \n",
       "acceleration:originEuropean  9.458e-01  1.955e-01   4.838 1.95e-06 ***\n",
       "acceleration:originJapanese  6.580e-01  2.719e-01   2.420  0.01601 *  \n",
       "year:originEuropean          3.000e-01  1.393e-01   2.154  0.03191 *  \n",
       "year:originJapanese          2.908e-01  1.344e-01   2.163  0.03116 *  \n",
       "---\n",
       "Signif. codes:  0 '***' 0.001 '**' 0.01 '*' 0.05 '.' 0.1 ' ' 1\n",
       "\n",
       "Residual standard error: 2.615 on 360 degrees of freedom\n",
       "Multiple R-squared:  0.8966,\tAdjusted R-squared:  0.8877 \n",
       "F-statistic: 100.7 on 31 and 360 DF,  p-value: < 2.2e-16\n"
      ]
     },
     "metadata": {},
     "output_type": "display_data"
    }
   ],
   "source": [
    "mpg.fit.reduced.interactions = update(mpg.fit.reduced.interactions, ~ . - weight:acceleration)\n",
    "summary(mpg.fit.reduced.interactions)"
   ]
  },
  {
   "cell_type": "markdown",
   "metadata": {},
   "source": [
    "Our adjusted $R^2$ value has continued to increase a little bit, this time increasing to 0.8877, which suggests that removing the interaction between `weight` and `acceleration` improved the model a little further. The interaction term with the next-highest p-value is the one between `weight` and `year`, so let's remove that one."
   ]
  },
  {
   "cell_type": "code",
   "execution_count": 21,
   "metadata": {},
   "outputs": [
    {
     "data": {
      "text/plain": [
       "\n",
       "Call:\n",
       "lm(formula = mpg ~ cylinders + displacement + horsepower + weight + \n",
       "    acceleration + year + origin + cylinders:displacement + cylinders:horsepower + \n",
       "    cylinders:weight + cylinders:acceleration + cylinders:year + \n",
       "    cylinders:origin + displacement:weight + displacement:acceleration + \n",
       "    displacement:year + displacement:origin + horsepower:weight + \n",
       "    horsepower:acceleration + horsepower:year + weight:origin + \n",
       "    acceleration:year + acceleration:origin + year:origin, data = Auto)\n",
       "\n",
       "Residuals:\n",
       "    Min      1Q  Median      3Q     Max \n",
       "-7.4488 -1.3198  0.0458  1.1907 11.9918 \n",
       "\n",
       "Coefficients:\n",
       "                              Estimate Std. Error t value Pr(>|t|)    \n",
       "(Intercept)                  4.291e+01  4.829e+01   0.889  0.37484    \n",
       "cylinders                    4.823e+00  7.074e+00   0.682  0.49583    \n",
       "displacement                -3.325e-01  1.530e-01  -2.173  0.03044 *  \n",
       "horsepower                   6.077e-01  2.906e-01   2.091  0.03722 *  \n",
       "weight                      -1.203e-02  4.003e-03  -3.006  0.00283 ** \n",
       "acceleration                -5.616e+00  1.916e+00  -2.931  0.00359 ** \n",
       "year                         4.965e-01  5.673e-01   0.875  0.38200    \n",
       "originEuropean              -3.587e+01  1.100e+01  -3.260  0.00122 ** \n",
       "originJapanese              -3.589e+01  1.208e+01  -2.972  0.00316 ** \n",
       "cylinders:displacement      -6.238e-03  6.944e-03  -0.898  0.36959    \n",
       "cylinders:horsepower         5.504e-03  1.479e-02   0.372  0.71006    \n",
       "cylinders:weight             8.224e-04  7.043e-04   1.168  0.24374    \n",
       "cylinders:acceleration       3.103e-01  1.208e-01   2.569  0.01059 *  \n",
       "cylinders:year              -1.511e-01  9.157e-02  -1.650  0.09976 .  \n",
       "cylinders:originEuropean    -7.218e-01  1.053e+00  -0.686  0.49340    \n",
       "cylinders:originJapanese     1.293e+00  9.686e-01   1.335  0.18281    \n",
       "displacement:weight          2.401e-05  1.141e-05   2.105  0.03597 *  \n",
       "displacement:acceleration   -2.093e-03  2.550e-03  -0.821  0.41243    \n",
       "displacement:year            4.207e-03  1.919e-03   2.192  0.02904 *  \n",
       "displacement:originEuropean -3.786e-02  4.087e-02  -0.926  0.35482    \n",
       "displacement:originJapanese  5.175e-02  4.083e-02   1.268  0.20577    \n",
       "horsepower:weight           -2.760e-05  2.474e-05  -1.116  0.26535    \n",
       "horsepower:acceleration     -3.830e-03  3.549e-03  -1.079  0.28126    \n",
       "horsepower:year             -7.081e-03  3.346e-03  -2.116  0.03500 *  \n",
       "weight:originEuropean        2.268e-03  2.355e-03   0.963  0.33599    \n",
       "weight:originJapanese       -3.511e-03  2.755e-03  -1.274  0.20340    \n",
       "acceleration:year            5.633e-02  2.281e-02   2.470  0.01398 *  \n",
       "acceleration:originEuropean  9.477e-01  1.953e-01   4.854 1.81e-06 ***\n",
       "acceleration:originJapanese  6.720e-01  2.703e-01   2.486  0.01336 *  \n",
       "year:originEuropean          2.983e-01  1.391e-01   2.144  0.03266 *  \n",
       "year:originJapanese          2.948e-01  1.341e-01   2.199  0.02851 *  \n",
       "---\n",
       "Signif. codes:  0 '***' 0.001 '**' 0.01 '*' 0.05 '.' 0.1 ' ' 1\n",
       "\n",
       "Residual standard error: 2.612 on 361 degrees of freedom\n",
       "Multiple R-squared:  0.8966,\tAdjusted R-squared:  0.888 \n",
       "F-statistic: 104.3 on 30 and 361 DF,  p-value: < 2.2e-16\n"
      ]
     },
     "metadata": {},
     "output_type": "display_data"
    }
   ],
   "source": [
    "mpg.fit.reduced.interactions = update(mpg.fit.reduced.interactions, ~ . - weight:year)\n",
    "summary(mpg.fit.reduced.interactions)"
   ]
  },
  {
   "cell_type": "markdown",
   "metadata": {},
   "source": [
    "Now our adjusted $R^2$ value has increased a little bit further, this time increasing to 0.888, which suggests that removing the interaction between `weight` and `year` improved the model a little further. The interaction term with the next-highest p-value is the one between `cylinders` and `horsepower`, so let's remove that one."
   ]
  },
  {
   "cell_type": "code",
   "execution_count": 22,
   "metadata": {},
   "outputs": [
    {
     "data": {
      "text/plain": [
       "\n",
       "Call:\n",
       "lm(formula = mpg ~ cylinders + displacement + horsepower + weight + \n",
       "    acceleration + year + origin + cylinders:displacement + cylinders:weight + \n",
       "    cylinders:acceleration + cylinders:year + cylinders:origin + \n",
       "    displacement:weight + displacement:acceleration + displacement:year + \n",
       "    displacement:origin + horsepower:weight + horsepower:acceleration + \n",
       "    horsepower:year + weight:origin + acceleration:year + acceleration:origin + \n",
       "    year:origin, data = Auto)\n",
       "\n",
       "Residuals:\n",
       "    Min      1Q  Median      3Q     Max \n",
       "-7.3912 -1.3632  0.0504  1.2104 12.0265 \n",
       "\n",
       "Coefficients:\n",
       "                              Estimate Std. Error t value Pr(>|t|)    \n",
       "(Intercept)                  3.726e+01  4.579e+01   0.814 0.416318    \n",
       "cylinders                    5.037e+00  7.042e+00   0.715 0.474935    \n",
       "displacement                -3.384e-01  1.520e-01  -2.226 0.026638 *  \n",
       "horsepower                   6.511e-01  2.659e-01   2.449 0.014800 *  \n",
       "weight                      -1.226e-02  3.950e-03  -3.104 0.002057 ** \n",
       "acceleration                -5.379e+00  1.805e+00  -2.980 0.003076 ** \n",
       "year                         5.503e-01  5.479e-01   1.004 0.315871    \n",
       "originEuropean              -3.665e+01  1.079e+01  -3.397 0.000758 ***\n",
       "originJapanese              -3.641e+01  1.198e+01  -3.038 0.002551 ** \n",
       "cylinders:displacement      -4.576e-03  5.310e-03  -0.862 0.389377    \n",
       "cylinders:weight             8.309e-04  7.031e-04   1.182 0.238097    \n",
       "cylinders:acceleration       2.945e-01  1.130e-01   2.607 0.009499 ** \n",
       "cylinders:year              -1.482e-01  9.111e-02  -1.626 0.104813    \n",
       "cylinders:originEuropean    -6.380e-01  1.027e+00  -0.621 0.534914    \n",
       "cylinders:originJapanese     1.368e+00  9.458e-01   1.447 0.148814    \n",
       "displacement:weight          2.146e-05  9.114e-06   2.355 0.019053 *  \n",
       "displacement:acceleration   -1.850e-03  2.462e-03  -0.751 0.453013    \n",
       "displacement:year            4.212e-03  1.917e-03   2.197 0.028646 *  \n",
       "displacement:originEuropean -3.623e-02  4.058e-02  -0.893 0.372586    \n",
       "displacement:originJapanese  5.515e-02  3.975e-02   1.388 0.166131    \n",
       "horsepower:weight           -2.059e-05  1.601e-05  -1.286 0.199180    \n",
       "horsepower:acceleration     -4.153e-03  3.437e-03  -1.208 0.227683    \n",
       "horsepower:year             -7.456e-03  3.187e-03  -2.339 0.019866 *  \n",
       "weight:originEuropean        2.042e-03  2.272e-03   0.899 0.369335    \n",
       "weight:originJapanese       -3.836e-03  2.609e-03  -1.470 0.142407    \n",
       "acceleration:year            5.407e-02  2.196e-02   2.462 0.014273 *  \n",
       "acceleration:originEuropean  9.623e-01  1.911e-01   5.037 7.49e-07 ***\n",
       "acceleration:originJapanese  6.937e-01  2.636e-01   2.632 0.008857 ** \n",
       "year:originEuropean          3.053e-01  1.377e-01   2.218 0.027205 *  \n",
       "year:originJapanese          2.975e-01  1.337e-01   2.226 0.026655 *  \n",
       "---\n",
       "Signif. codes:  0 '***' 0.001 '**' 0.01 '*' 0.05 '.' 0.1 ' ' 1\n",
       "\n",
       "Residual standard error: 2.609 on 362 degrees of freedom\n",
       "Multiple R-squared:  0.8965,\tAdjusted R-squared:  0.8882 \n",
       "F-statistic: 108.2 on 29 and 362 DF,  p-value: < 2.2e-16\n"
      ]
     },
     "metadata": {},
     "output_type": "display_data"
    }
   ],
   "source": [
    "mpg.fit.reduced.interactions = update(mpg.fit.reduced.interactions, ~ . - cylinders:horsepower)\n",
    "summary(mpg.fit.reduced.interactions)"
   ]
  },
  {
   "cell_type": "markdown",
   "metadata": {},
   "source": [
    "Our adjusted $R^2$ value is continuing to steadily increase bit by bit, this time increasing to 0.8882, which suggests that removing the interaction between `cylinders` and `horsepower` improved the model a little further. The interaction term with the next-highest p-value is the one between `cylinders` and `originEuropean`, so let's remove that one."
   ]
  },
  {
   "cell_type": "code",
   "execution_count": 23,
   "metadata": {},
   "outputs": [
    {
     "data": {
      "text/plain": [
       "\n",
       "Call:\n",
       "lm(formula = mpg ~ cylinders + displacement + horsepower + weight + \n",
       "    acceleration + year + origin + cylinders:displacement + cylinders:weight + \n",
       "    cylinders:acceleration + cylinders:year + displacement:weight + \n",
       "    displacement:acceleration + displacement:year + displacement:origin + \n",
       "    horsepower:weight + horsepower:acceleration + horsepower:year + \n",
       "    weight:origin + acceleration:year + acceleration:origin + \n",
       "    year:origin, data = Auto)\n",
       "\n",
       "Residuals:\n",
       "    Min      1Q  Median      3Q     Max \n",
       "-7.4666 -1.3182 -0.0146  1.2266 12.2626 \n",
       "\n",
       "Coefficients:\n",
       "                              Estimate Std. Error t value Pr(>|t|)    \n",
       "(Intercept)                  2.942e+01  4.563e+01   0.645 0.519461    \n",
       "cylinders                    5.454e+00  7.042e+00   0.774 0.439150    \n",
       "displacement                -3.463e-01  1.495e-01  -2.316 0.021134 *  \n",
       "horsepower                   6.816e-01  2.643e-01   2.579 0.010293 *  \n",
       "weight                      -1.148e-02  3.870e-03  -2.966 0.003221 ** \n",
       "acceleration                -5.035e+00  1.796e+00  -2.803 0.005326 ** \n",
       "year                         5.943e-01  5.480e-01   1.084 0.278871    \n",
       "originEuropean              -3.636e+01  1.052e+01  -3.456 0.000614 ***\n",
       "originJapanese              -3.268e+01  1.152e+01  -2.835 0.004834 ** \n",
       "cylinders:displacement      -4.304e-03  5.136e-03  -0.838 0.402598    \n",
       "cylinders:weight             5.950e-04  6.897e-04   0.863 0.388896    \n",
       "cylinders:acceleration       2.477e-01  1.085e-01   2.282 0.023039 *  \n",
       "cylinders:year              -1.333e-01  9.069e-02  -1.470 0.142370    \n",
       "displacement:weight          2.505e-05  8.823e-06   2.839 0.004783 ** \n",
       "displacement:acceleration   -9.480e-04  2.349e-03  -0.404 0.686804    \n",
       "displacement:year            3.922e-03  1.899e-03   2.066 0.039564 *  \n",
       "displacement:originEuropean -4.379e-02  3.885e-02  -1.127 0.260448    \n",
       "displacement:originJapanese  9.168e-02  3.314e-02   2.766 0.005960 ** \n",
       "horsepower:weight           -2.189e-05  1.600e-05  -1.368 0.172220    \n",
       "horsepower:acceleration     -4.626e-03  3.426e-03  -1.350 0.177735    \n",
       "horsepower:year             -7.692e-03  3.174e-03  -2.424 0.015854 *  \n",
       "weight:originEuropean        1.947e-03  2.253e-03   0.864 0.388020    \n",
       "weight:originJapanese       -4.632e-03  2.558e-03  -1.811 0.070944 .  \n",
       "acceleration:year            5.135e-02  2.193e-02   2.341 0.019751 *  \n",
       "acceleration:originEuropean  9.586e-01  1.894e-01   5.062 6.61e-07 ***\n",
       "acceleration:originJapanese  7.634e-01  2.597e-01   2.940 0.003494 ** \n",
       "year:originEuropean          2.803e-01  1.371e-01   2.045 0.041586 *  \n",
       "year:originJapanese          2.807e-01  1.324e-01   2.119 0.034747 *  \n",
       "---\n",
       "Signif. codes:  0 '***' 0.001 '**' 0.01 '*' 0.05 '.' 0.1 ' ' 1\n",
       "\n",
       "Residual standard error: 2.613 on 364 degrees of freedom\n",
       "Multiple R-squared:  0.8957,\tAdjusted R-squared:  0.8879 \n",
       "F-statistic: 115.7 on 27 and 364 DF,  p-value: < 2.2e-16\n"
      ]
     },
     "metadata": {},
     "output_type": "display_data"
    }
   ],
   "source": [
    "mpg.fit.reduced.interactions = update(mpg.fit.reduced.interactions, ~ . - cylinders:origin)\n",
    "summary(mpg.fit.reduced.interactions)"
   ]
  },
  {
   "cell_type": "markdown",
   "metadata": {},
   "source": [
    "This time our adjusted $R^2$ value decreased slightly down to 0.8879, which suggests that removing the interaction between `cylinders` and `origin` did not improve the model the model. Let's undo that step and instead remove the interaction term with the next-highest p-value, which is the one between `displacement` and `acceleration`, so let's remove that one."
   ]
  },
  {
   "cell_type": "code",
   "execution_count": 24,
   "metadata": {},
   "outputs": [
    {
     "data": {
      "text/plain": [
       "\n",
       "Call:\n",
       "lm(formula = mpg ~ cylinders + displacement + horsepower + weight + \n",
       "    acceleration + year + origin + cylinders:displacement + cylinders:weight + \n",
       "    cylinders:acceleration + cylinders:year + displacement:weight + \n",
       "    displacement:year + displacement:origin + horsepower:weight + \n",
       "    horsepower:acceleration + horsepower:year + weight:origin + \n",
       "    acceleration:year + acceleration:origin + year:origin + cylinders:origin, \n",
       "    data = Auto)\n",
       "\n",
       "Residuals:\n",
       "    Min      1Q  Median      3Q     Max \n",
       "-7.4388 -1.3040  0.0183  1.2376 12.0359 \n",
       "\n",
       "Coefficients:\n",
       "                              Estimate Std. Error t value Pr(>|t|)    \n",
       "(Intercept)                  4.008e+01  4.561e+01   0.879 0.380052    \n",
       "cylinders                    4.540e+00  7.007e+00   0.648 0.517461    \n",
       "displacement                -3.337e-01  1.518e-01  -2.198 0.028594 *  \n",
       "horsepower                   6.460e-01  2.656e-01   2.432 0.015509 *  \n",
       "weight                      -1.217e-02  3.946e-03  -3.085 0.002195 ** \n",
       "acceleration                -5.334e+00  1.803e+00  -2.958 0.003294 ** \n",
       "year                         4.957e-01  5.427e-01   0.913 0.361629    \n",
       "originEuropean              -3.644e+01  1.078e+01  -3.380 0.000803 ***\n",
       "originJapanese              -3.627e+01  1.197e+01  -3.029 0.002626 ** \n",
       "cylinders:displacement      -3.844e-03  5.217e-03  -0.737 0.461621    \n",
       "cylinders:weight             7.787e-04  6.993e-04   1.114 0.266215    \n",
       "cylinders:acceleration       2.311e-01  7.498e-02   3.082 0.002212 ** \n",
       "cylinders:year              -1.291e-01  8.747e-02  -1.476 0.140728    \n",
       "displacement:weight          2.184e-05  9.095e-06   2.401 0.016851 *  \n",
       "displacement:year            3.711e-03  1.796e-03   2.066 0.039539 *  \n",
       "displacement:originEuropean -4.218e-02  3.978e-02  -1.060 0.289695    \n",
       "displacement:originJapanese  5.913e-02  3.937e-02   1.502 0.134036    \n",
       "horsepower:weight           -1.973e-05  1.596e-05  -1.236 0.217147    \n",
       "horsepower:acceleration     -5.464e-03  2.959e-03  -1.847 0.065569 .  \n",
       "horsepower:year             -7.144e-03  3.158e-03  -2.262 0.024285 *  \n",
       "weight:originEuropean        2.181e-03  2.263e-03   0.964 0.335844    \n",
       "weight:originJapanese       -3.968e-03  2.602e-03  -1.525 0.128108    \n",
       "acceleration:year            5.504e-02  2.191e-02   2.512 0.012425 *  \n",
       "acceleration:originEuropean  9.853e-01  1.885e-01   5.227 2.91e-07 ***\n",
       "acceleration:originJapanese  7.658e-01  2.454e-01   3.121 0.001946 ** \n",
       "year:originEuropean          2.896e-01  1.360e-01   2.130 0.033867 *  \n",
       "year:originJapanese          2.812e-01  1.318e-01   2.133 0.033580 *  \n",
       "cylinders:originEuropean    -4.229e-01  9.859e-01  -0.429 0.668210    \n",
       "cylinders:originJapanese     1.327e+00  9.437e-01   1.406 0.160494    \n",
       "---\n",
       "Signif. codes:  0 '***' 0.001 '**' 0.01 '*' 0.05 '.' 0.1 ' ' 1\n",
       "\n",
       "Residual standard error: 2.608 on 363 degrees of freedom\n",
       "Multiple R-squared:  0.8964,\tAdjusted R-squared:  0.8884 \n",
       "F-statistic: 112.1 on 28 and 363 DF,  p-value: < 2.2e-16\n"
      ]
     },
     "metadata": {},
     "output_type": "display_data"
    }
   ],
   "source": [
    "mpg.fit.reduced.interactions = update(mpg.fit.reduced.interactions, ~ . + cylinders:origin - displacement:acceleration)\n",
    "summary(mpg.fit.reduced.interactions)"
   ]
  },
  {
   "cell_type": "markdown",
   "metadata": {},
   "source": [
    "With that change, our adjusted $R^2$ value has increased again, this time increasing to 0.8884, which suggests that removing the interaction between `displacement` and `acceleration` and re-including the interaction between `cylinders` and `origin` improved the model a little further. The interaction term with the next-highest p-value is still the one between `cylinders` and `originEuropean`, so let's remove it again just to double-check."
   ]
  },
  {
   "cell_type": "code",
   "execution_count": 25,
   "metadata": {},
   "outputs": [
    {
     "data": {
      "text/plain": [
       "\n",
       "Call:\n",
       "lm(formula = mpg ~ cylinders + displacement + horsepower + weight + \n",
       "    acceleration + year + origin + cylinders:displacement + cylinders:weight + \n",
       "    cylinders:acceleration + cylinders:year + displacement:weight + \n",
       "    displacement:year + displacement:origin + horsepower:weight + \n",
       "    horsepower:acceleration + horsepower:year + weight:origin + \n",
       "    acceleration:year + acceleration:origin + year:origin, data = Auto)\n",
       "\n",
       "Residuals:\n",
       "    Min      1Q  Median      3Q     Max \n",
       "-7.4885 -1.2802  0.0186  1.2372 12.2599 \n",
       "\n",
       "Coefficients:\n",
       "                              Estimate Std. Error t value Pr(>|t|)    \n",
       "(Intercept)                  3.139e+01  4.531e+01   0.693 0.488970    \n",
       "cylinders                    5.125e+00  6.986e+00   0.734 0.463707    \n",
       "displacement                -3.406e-01  1.487e-01  -2.290 0.022568 *  \n",
       "horsepower                   6.745e-01  2.634e-01   2.561 0.010834 *  \n",
       "weight                      -1.153e-02  3.864e-03  -2.984 0.003037 ** \n",
       "acceleration                -5.024e+00  1.794e+00  -2.801 0.005366 ** \n",
       "year                         5.613e-01  5.413e-01   1.037 0.300417    \n",
       "originEuropean              -3.603e+01  1.048e+01  -3.439 0.000652 ***\n",
       "originJapanese              -3.256e+01  1.151e+01  -2.829 0.004922 ** \n",
       "cylinders:displacement      -4.031e-03  5.085e-03  -0.793 0.428518    \n",
       "cylinders:weight             5.812e-04  6.881e-04   0.845 0.398851    \n",
       "cylinders:acceleration       2.159e-01  7.444e-02   2.900 0.003953 ** \n",
       "cylinders:year              -1.229e-01  8.683e-02  -1.415 0.157786    \n",
       "displacement:weight          2.517e-05  8.807e-06   2.858 0.004510 ** \n",
       "displacement:year            3.634e-03  1.757e-03   2.068 0.039332 *  \n",
       "displacement:originEuropean -4.574e-02  3.851e-02  -1.188 0.235705    \n",
       "displacement:originJapanese  9.259e-02  3.303e-02   2.804 0.005323 ** \n",
       "horsepower:weight           -2.127e-05  1.591e-05  -1.337 0.181998    \n",
       "horsepower:acceleration     -5.325e-03  2.952e-03  -1.804 0.072122 .  \n",
       "horsepower:year             -7.475e-03  3.124e-03  -2.393 0.017238 *  \n",
       "weight:originEuropean        2.059e-03  2.234e-03   0.922 0.357206    \n",
       "weight:originJapanese       -4.640e-03  2.555e-03  -1.817 0.070109 .  \n",
       "acceleration:year            5.200e-02  2.184e-02   2.381 0.017799 *  \n",
       "acceleration:originEuropean  9.692e-01  1.873e-01   5.174 3.78e-07 ***\n",
       "acceleration:originJapanese  7.982e-01  2.447e-01   3.262 0.001209 ** \n",
       "year:originEuropean          2.729e-01  1.357e-01   2.011 0.045049 *  \n",
       "year:originJapanese          2.708e-01  1.300e-01   2.083 0.037957 *  \n",
       "---\n",
       "Signif. codes:  0 '***' 0.001 '**' 0.01 '*' 0.05 '.' 0.1 ' ' 1\n",
       "\n",
       "Residual standard error: 2.61 on 365 degrees of freedom\n",
       "Multiple R-squared:  0.8956,\tAdjusted R-squared:  0.8882 \n",
       "F-statistic: 120.5 on 26 and 365 DF,  p-value: < 2.2e-16\n"
      ]
     },
     "metadata": {},
     "output_type": "display_data"
    }
   ],
   "source": [
    "mpg.fit.reduced.interactions = update(mpg.fit.reduced.interactions, ~ . - cylinders:origin)\n",
    "summary(mpg.fit.reduced.interactions)"
   ]
  },
  {
   "cell_type": "markdown",
   "metadata": {},
   "source": [
    "With that change, our adjusted $R^2$ value has slightly decreased again, down to 0.8882, but I'm going to continue with removing more interaction terms to see if our model fit improves again. The interaction term with the next-highest p-value is still the one between `cylinders` and `displacement`, so let's remove it for the next step."
   ]
  },
  {
   "cell_type": "code",
   "execution_count": 26,
   "metadata": {},
   "outputs": [
    {
     "data": {
      "text/plain": [
       "\n",
       "Call:\n",
       "lm(formula = mpg ~ cylinders + displacement + horsepower + weight + \n",
       "    acceleration + year + origin + cylinders:weight + cylinders:acceleration + \n",
       "    cylinders:year + displacement:weight + displacement:year + \n",
       "    displacement:origin + horsepower:weight + horsepower:acceleration + \n",
       "    horsepower:year + weight:origin + acceleration:year + acceleration:origin + \n",
       "    year:origin, data = Auto)\n",
       "\n",
       "Residuals:\n",
       "    Min      1Q  Median      3Q     Max \n",
       "-7.4634 -1.2948  0.0543  1.2434 12.2909 \n",
       "\n",
       "Coefficients:\n",
       "                              Estimate Std. Error t value Pr(>|t|)    \n",
       "(Intercept)                  3.305e+01  4.524e+01   0.730 0.465589    \n",
       "cylinders                    4.861e+00  6.975e+00   0.697 0.486268    \n",
       "displacement                -3.579e-01  1.470e-01  -2.435 0.015377 *  \n",
       "horsepower                   6.370e-01  2.590e-01   2.460 0.014357 *  \n",
       "weight                      -8.976e-03  2.132e-03  -4.211 3.21e-05 ***\n",
       "acceleration                -5.016e+00  1.793e+00  -2.798 0.005418 ** \n",
       "year                         5.400e-01  5.403e-01   0.999 0.318221    \n",
       "originEuropean              -3.769e+01  1.026e+01  -3.672 0.000276 ***\n",
       "originJapanese              -3.361e+01  1.143e+01  -2.941 0.003476 ** \n",
       "cylinders:weight             1.791e-04  4.646e-04   0.385 0.700102    \n",
       "cylinders:acceleration       2.358e-01  7.006e-02   3.365 0.000846 ***\n",
       "cylinders:year              -1.169e-01  8.646e-02  -1.353 0.177038    \n",
       "displacement:weight          2.429e-05  8.732e-06   2.781 0.005693 ** \n",
       "displacement:year            3.522e-03  1.751e-03   2.012 0.044972 *  \n",
       "displacement:originEuropean -3.120e-02  3.384e-02  -0.922 0.357166    \n",
       "displacement:originJapanese  1.080e-01  2.666e-02   4.052 6.21e-05 ***\n",
       "horsepower:weight           -1.720e-05  1.505e-05  -1.143 0.253759    \n",
       "horsepower:acceleration     -5.082e-03  2.935e-03  -1.732 0.084202 .  \n",
       "horsepower:year             -7.235e-03  3.108e-03  -2.328 0.020464 *  \n",
       "weight:originEuropean        1.052e-03  1.836e-03   0.573 0.567033    \n",
       "weight:originJapanese       -5.735e-03  2.148e-03  -2.670 0.007912 ** \n",
       "acceleration:year            4.996e-02  2.168e-02   2.304 0.021766 *  \n",
       "acceleration:originEuropean  9.986e-01  1.835e-01   5.442 9.67e-08 ***\n",
       "acceleration:originJapanese  8.459e-01  2.370e-01   3.568 0.000407 ***\n",
       "year:originEuropean          2.966e-01  1.323e-01   2.243 0.025511 *  \n",
       "year:originJapanese          2.843e-01  1.288e-01   2.207 0.027942 *  \n",
       "---\n",
       "Signif. codes:  0 '***' 0.001 '**' 0.01 '*' 0.05 '.' 0.1 ' ' 1\n",
       "\n",
       "Residual standard error: 2.609 on 366 degrees of freedom\n",
       "Multiple R-squared:  0.8954,\tAdjusted R-squared:  0.8883 \n",
       "F-statistic: 125.4 on 25 and 366 DF,  p-value: < 2.2e-16\n"
      ]
     },
     "metadata": {},
     "output_type": "display_data"
    }
   ],
   "source": [
    "mpg.fit.reduced.interactions = update(mpg.fit.reduced.interactions, ~ . - cylinders:displacement)\n",
    "summary(mpg.fit.reduced.interactions)"
   ]
  },
  {
   "cell_type": "markdown",
   "metadata": {},
   "source": [
    "With that change, our adjusted $R^2$ value has increased again, this time increasing to 0.8883, which suggests that removing the interaction between `cylinders` and `displacement` improved the model a little further. The interaction term with the next-highest p-value is still the one between `cylinders` and `weight`, so let's remove it for the next step."
   ]
  },
  {
   "cell_type": "code",
   "execution_count": 28,
   "metadata": {},
   "outputs": [
    {
     "data": {
      "text/plain": [
       "\n",
       "Call:\n",
       "lm(formula = mpg ~ cylinders + displacement + horsepower + weight + \n",
       "    acceleration + year + origin + cylinders:acceleration + cylinders:year + \n",
       "    displacement:weight + displacement:year + displacement:origin + \n",
       "    horsepower:weight + horsepower:acceleration + horsepower:year + \n",
       "    weight:origin + acceleration:year + acceleration:origin + \n",
       "    year:origin, data = Auto)\n",
       "\n",
       "Residuals:\n",
       "    Min      1Q  Median      3Q     Max \n",
       "-7.3973 -1.2863  0.0486  1.2531 12.2727 \n",
       "\n",
       "Coefficients:\n",
       "                              Estimate Std. Error t value Pr(>|t|)    \n",
       "(Intercept)                  2.824e+01  4.344e+01   0.650 0.516024    \n",
       "cylinders                    6.103e+00  6.179e+00   0.988 0.323955    \n",
       "displacement                -3.829e-01  1.318e-01  -2.905 0.003900 ** \n",
       "horsepower                   6.570e-01  2.534e-01   2.593 0.009897 ** \n",
       "weight                      -8.357e-03  1.400e-03  -5.971 5.58e-09 ***\n",
       "acceleration                -4.970e+00  1.787e+00  -2.781 0.005691 ** \n",
       "year                         5.794e-01  5.300e-01   1.093 0.275042    \n",
       "originEuropean              -3.781e+01  1.025e+01  -3.690 0.000258 ***\n",
       "originJapanese              -3.390e+01  1.139e+01  -2.977 0.003108 ** \n",
       "cylinders:acceleration       2.326e-01  6.948e-02   3.347 0.000902 ***\n",
       "cylinders:year              -1.249e-01  8.388e-02  -1.489 0.137416    \n",
       "displacement:weight          2.680e-05  5.799e-06   4.622 5.28e-06 ***\n",
       "displacement:year            3.733e-03  1.660e-03   2.249 0.025121 *  \n",
       "displacement:originEuropean -2.874e-02  3.320e-02  -0.866 0.387182    \n",
       "displacement:originJapanese  1.069e-01  2.648e-02   4.038 6.56e-05 ***\n",
       "horsepower:weight           -1.790e-05  1.492e-05  -1.200 0.231071    \n",
       "horsepower:acceleration     -4.867e-03  2.878e-03  -1.691 0.091685 .  \n",
       "horsepower:year             -7.505e-03  3.025e-03  -2.481 0.013550 *  \n",
       "weight:originEuropean        8.761e-04  1.776e-03   0.493 0.622171    \n",
       "weight:originJapanese       -5.746e-03  2.145e-03  -2.679 0.007725 ** \n",
       "acceleration:year            4.927e-02  2.158e-02   2.283 0.023002 *  \n",
       "acceleration:originEuropean  1.006e+00  1.822e-01   5.525 6.26e-08 ***\n",
       "acceleration:originJapanese  8.400e-01  2.363e-01   3.555 0.000427 ***\n",
       "year:originEuropean          2.983e-01  1.320e-01   2.260 0.024428 *  \n",
       "year:originJapanese          2.909e-01  1.275e-01   2.281 0.023141 *  \n",
       "---\n",
       "Signif. codes:  0 '***' 0.001 '**' 0.01 '*' 0.05 '.' 0.1 ' ' 1\n",
       "\n",
       "Residual standard error: 2.606 on 367 degrees of freedom\n",
       "Multiple R-squared:  0.8954,\tAdjusted R-squared:  0.8886 \n",
       "F-statistic: 130.9 on 24 and 367 DF,  p-value: < 2.2e-16\n"
      ]
     },
     "metadata": {},
     "output_type": "display_data"
    }
   ],
   "source": [
    "mpg.fit.reduced.interactions = update(mpg.fit.reduced.interactions, ~ . - cylinders:weight)\n",
    "summary(mpg.fit.reduced.interactions)"
   ]
  },
  {
   "cell_type": "markdown",
   "metadata": {},
   "source": [
    "Now our adjusted $R^2$ value has increased a little further to 0.8886, which suggests that removing the interaction between `cylinders` and `weight` improved the model a little further. In total, using backward selection allowed us to increase our adjusted $R^2$ by 0.002 from the original value of 0.8866, which is a small, but still meaningful increase. Exploring a little bit, it seems as if removing further interaction terms doesn't improve the adjusted $R^2$ value. What we are left with are the following interactions, grouped by level of statistical significance. \n",
    "\n",
    "- p-value less than 0.001: `cylinders:acceleration`, `displacement:originJapanese`, `acceleration:originEuropean`, `acceleration:originJapanese`\n",
    "- p-value between 0.001 and 0.01: `weight:originJapanese`\n",
    "- p-value between 0.01 and 0.05: `displacement:year`, `horsepower:year`, `acceleration:year`, `year:originEuropean`, `year:originJapanese`\n",
    "- p-value between 0.05 and 0.1: `horsepower:acceleration`\n",
    "- p-value greater than 0.1: `cylinders:year`, `displacement:originEuropean`, `horsepower:weight`, `weight:originEuropean`"
   ]
  },
  {
   "cell_type": "markdown",
   "metadata": {},
   "source": [
    "An alternative, and generally better, approach to picking interaction terms to potentially include is to use our domain knowledge to think about which of the predictors might be related to each other. For example, it is reasonable to hypothesize that there might be an interaction effect between the number of engine cylinders and engine displacement, since spreading out the displacement among more cylinders might influence fuel economy."
   ]
  },
  {
   "cell_type": "code",
   "execution_count": 63,
   "metadata": {},
   "outputs": [
    {
     "data": {
      "text/plain": [
       "\n",
       "Call:\n",
       "lm(formula = mpg ~ . + cylinders:displacement - name, data = Auto)\n",
       "\n",
       "Residuals:\n",
       "     Min       1Q   Median       3Q      Max \n",
       "-11.2543  -1.7939   0.0023   1.6137  12.4378 \n",
       "\n",
       "Coefficients:\n",
       "                         Estimate Std. Error t value Pr(>|t|)    \n",
       "(Intercept)            -3.4935841  4.7634096  -0.733  0.46375    \n",
       "cylinders              -2.6328363  0.4119152  -6.392 4.78e-10 ***\n",
       "displacement           -0.0726697  0.0146033  -4.976 9.82e-07 ***\n",
       "horsepower             -0.0473782  0.0133619  -3.546  0.00044 ***\n",
       "weight                 -0.0053896  0.0006358  -8.477 5.10e-16 ***\n",
       "acceleration            0.0596253  0.0917157   0.650  0.51601    \n",
       "year                    0.7726565  0.0483401  15.984  < 2e-16 ***\n",
       "originEuropean          1.3454473  0.5551467   2.424  0.01583 *  \n",
       "originJapanese          1.4580211  0.5477223   2.662  0.00810 ** \n",
       "cylinders:displacement  0.0132282  0.0017433   7.588 2.50e-13 ***\n",
       "---\n",
       "Signif. codes:  0 '***' 0.001 '**' 0.01 '*' 0.05 '.' 0.1 ' ' 1\n",
       "\n",
       "Residual standard error: 3.086 on 382 degrees of freedom\n",
       "Multiple R-squared:  0.8472,\tAdjusted R-squared:  0.8436 \n",
       "F-statistic: 235.4 on 9 and 382 DF,  p-value: < 2.2e-16\n"
      ]
     },
     "metadata": {},
     "output_type": "display_data"
    }
   ],
   "source": [
    "summary(lm(mpg ~ . + cylinders:displacement - name, data = Auto))"
   ]
  },
  {
   "cell_type": "markdown",
   "metadata": {},
   "source": [
    "In this expanded model, the `cylinders:displacement` term has a p-value of essentially zero, which provides evidence to suggest that it is a statistically significant interaction. Moreover, its inclusion has resulted in the adjusted $R^2$ value to increase from 0.8205 in the original model using all predictors to 0.8436."
   ]
  },
  {
   "cell_type": "markdown",
   "metadata": {},
   "source": [
    "## Part 6\n",
    "**Try a few different transformations of the variables, such as $\\log(X), \\sqrt{X}, X^2$. Comment on your findings.**"
   ]
  },
  {
   "cell_type": "markdown",
   "metadata": {},
   "source": [
    "To get a sense of which transformations I want to try out for each quantitative variable, focusing on `displacement`, `horsepower` and `weight`, I'll look at the scatterplots of each one versus `mpg`."
   ]
  },
  {
   "cell_type": "code",
   "execution_count": 64,
   "metadata": {},
   "outputs": [
    {
     "data": {
      "image/png": "[encoded data removed]",
      "text/plain": [
       "plot without title"
      ]
     },
     "metadata": {},
     "output_type": "display_data"
    }
   ],
   "source": [
    "par(mfrow = c(2, 2))\n",
    "plot(Auto$displacement, Auto$mpg)\n",
    "plot(Auto$horsepower, Auto$mpg)\n",
    "plot(Auto$weight, Auto$mpg)\n",
    "plot(Auto$acceleration, Auto$mpg)"
   ]
  },
  {
   "cell_type": "markdown",
   "metadata": {},
   "source": [
    "The book already explored nonlinear transformations of `horsepower` to predict `mpg`, so I will first look at transforms of `acceleration`."
   ]
  },
  {
   "cell_type": "code",
   "execution_count": 65,
   "metadata": {},
   "outputs": [
    {
     "data": {
      "text/plain": [
       "\n",
       "Call:\n",
       "lm(formula = mpg ~ acceleration, data = Auto)\n",
       "\n",
       "Residuals:\n",
       "    Min      1Q  Median      3Q     Max \n",
       "-17.989  -5.616  -1.199   4.801  23.239 \n",
       "\n",
       "Coefficients:\n",
       "             Estimate Std. Error t value Pr(>|t|)    \n",
       "(Intercept)    4.8332     2.0485   2.359   0.0188 *  \n",
       "acceleration   1.1976     0.1298   9.228   <2e-16 ***\n",
       "---\n",
       "Signif. codes:  0 '***' 0.001 '**' 0.01 '*' 0.05 '.' 0.1 ' ' 1\n",
       "\n",
       "Residual standard error: 7.08 on 390 degrees of freedom\n",
       "Multiple R-squared:  0.1792,\tAdjusted R-squared:  0.1771 \n",
       "F-statistic: 85.15 on 1 and 390 DF,  p-value: < 2.2e-16\n"
      ]
     },
     "metadata": {},
     "output_type": "display_data"
    }
   ],
   "source": [
    "summary(lm(mpg ~ acceleration, data = Auto))"
   ]
  },
  {
   "cell_type": "code",
   "execution_count": 66,
   "metadata": {},
   "outputs": [
    {
     "data": {
      "image/png": "[encoded data removed]",
      "text/plain": [
       "Plot with title \"\""
      ]
     },
     "metadata": {},
     "output_type": "display_data"
    }
   ],
   "source": [
    "par(mfrow = c(2, 2))\n",
    "plot(lm(mpg ~ acceleration, data = Auto))"
   ]
  },
  {
   "cell_type": "markdown",
   "metadata": {},
   "source": [
    "It appears that there might be heteroscedasticity, or non-constant variances in the error terms, so let's first see how applying a logarithmic transportation affects the model."
   ]
  },
  {
   "cell_type": "code",
   "execution_count": 72,
   "metadata": {},
   "outputs": [
    {
     "data": {
      "text/plain": [
       "\n",
       "Call:\n",
       "lm(formula = mpg ~ log(acceleration), data = Auto)\n",
       "\n",
       "Residuals:\n",
       "     Min       1Q   Median       3Q      Max \n",
       "-18.0234  -5.6231  -0.9787   4.5943  23.0872 \n",
       "\n",
       "Coefficients:\n",
       "                  Estimate Std. Error t value Pr(>|t|)    \n",
       "(Intercept)        -27.834      5.373  -5.180 3.56e-07 ***\n",
       "log(acceleration)   18.801      1.966   9.565  < 2e-16 ***\n",
       "---\n",
       "Signif. codes:  0 '***' 0.001 '**' 0.01 '*' 0.05 '.' 0.1 ' ' 1\n",
       "\n",
       "Residual standard error: 7.033 on 390 degrees of freedom\n",
       "Multiple R-squared:   0.19,\tAdjusted R-squared:  0.1879 \n",
       "F-statistic: 91.49 on 1 and 390 DF,  p-value: < 2.2e-16\n"
      ]
     },
     "metadata": {},
     "output_type": "display_data"
    }
   ],
   "source": [
    "summary(lm(mpg ~ log(acceleration), data = Auto))"
   ]
  },
  {
   "cell_type": "code",
   "execution_count": 71,
   "metadata": {},
   "outputs": [
    {
     "data": {
      "image/png": "[encoded data removed]",
      "text/plain": [
       "Plot with title \"\""
      ]
     },
     "metadata": {},
     "output_type": "display_data"
    }
   ],
   "source": [
    "par(mfrow = c(2, 2))\n",
    "plot(lm(mpg ~ log(acceleration), data = Auto))"
   ]
  },
  {
   "cell_type": "markdown",
   "metadata": {},
   "source": [
    "While the transformation did bump up the $R^2$ value very slightly, it didn't really do anything to help with the residuals. This is probably due to the fact that two cars with the same 0 to 60 mile per hour time could be quite different in other ways that would affect fuel economy, such has differences in engine efficiency. For the remainder of the problem, let's turn our attention the the relationship between engine displacement and fuel efficiency. From the scatterplot, it is pretty clear that there is a nonlinear relationship between the two quantities. Let's start off by comparing a linear model to one that also includes the quadratic term."
   ]
  },
  {
   "cell_type": "code",
   "execution_count": 86,
   "metadata": {},
   "outputs": [
    {
     "data": {
      "text/plain": [
       "\n",
       "Call:\n",
       "lm(formula = mpg ~ displacement, data = Auto)\n",
       "\n",
       "Residuals:\n",
       "     Min       1Q   Median       3Q      Max \n",
       "-12.9170  -3.0243  -0.5021   2.3512  18.6128 \n",
       "\n",
       "Coefficients:\n",
       "             Estimate Std. Error t value Pr(>|t|)    \n",
       "(Intercept)  35.12064    0.49443   71.03   <2e-16 ***\n",
       "displacement -0.06005    0.00224  -26.81   <2e-16 ***\n",
       "---\n",
       "Signif. codes:  0 '***' 0.001 '**' 0.01 '*' 0.05 '.' 0.1 ' ' 1\n",
       "\n",
       "Residual standard error: 4.635 on 390 degrees of freedom\n",
       "Multiple R-squared:  0.6482,\tAdjusted R-squared:  0.6473 \n",
       "F-statistic: 718.7 on 1 and 390 DF,  p-value: < 2.2e-16\n"
      ]
     },
     "metadata": {},
     "output_type": "display_data"
    }
   ],
   "source": [
    "displacement.linear = lm(mpg ~ displacement, data = Auto)\n",
    "summary(displacement.linear)"
   ]
  },
  {
   "cell_type": "code",
   "execution_count": 88,
   "metadata": {},
   "outputs": [
    {
     "data": {
      "text/plain": [
       "\n",
       "Call:\n",
       "lm(formula = mpg ~ poly(displacement, 2), data = Auto)\n",
       "\n",
       "Residuals:\n",
       "     Min       1Q   Median       3Q      Max \n",
       "-15.2165  -2.2404  -0.2508   2.1094  20.5158 \n",
       "\n",
       "Coefficients:\n",
       "                        Estimate Std. Error t value Pr(>|t|)    \n",
       "(Intercept)              23.4459     0.2205 106.343  < 2e-16 ***\n",
       "poly(displacement, 2)1 -124.2585     4.3652 -28.466  < 2e-16 ***\n",
       "poly(displacement, 2)2   31.0895     4.3652   7.122 5.17e-12 ***\n",
       "---\n",
       "Signif. codes:  0 '***' 0.001 '**' 0.01 '*' 0.05 '.' 0.1 ' ' 1\n",
       "\n",
       "Residual standard error: 4.365 on 389 degrees of freedom\n",
       "Multiple R-squared:  0.6888,\tAdjusted R-squared:  0.6872 \n",
       "F-statistic: 430.5 on 2 and 389 DF,  p-value: < 2.2e-16\n"
      ]
     },
     "metadata": {},
     "output_type": "display_data"
    }
   ],
   "source": [
    "displacement.quadratic = lm(mpg ~ poly(displacement, 2), data = Auto)\n",
    "summary(displacement.quadratic)"
   ]
  },
  {
   "cell_type": "code",
   "execution_count": 89,
   "metadata": {},
   "outputs": [
    {
     "data": {
      "text/html": [
       "<table>\n",
       "<thead><tr><th scope=col>Res.Df</th><th scope=col>RSS</th><th scope=col>Df</th><th scope=col>Sum of Sq</th><th scope=col>F</th><th scope=col>Pr(&gt;F)</th></tr></thead>\n",
       "<tbody>\n",
       "\t<tr><td>390         </td><td>8378.822    </td><td>NA          </td><td>      NA    </td><td>      NA    </td><td>          NA</td></tr>\n",
       "\t<tr><td>389         </td><td>7412.263    </td><td> 1          </td><td>966.5589    </td><td>50.72559    </td><td>5.174575e-12</td></tr>\n",
       "</tbody>\n",
       "</table>\n"
      ],
      "text/latex": [
       "\\begin{tabular}{r|llllll}\n",
       " Res.Df & RSS & Df & Sum of Sq & F & Pr(>F)\\\\\n",
       "\\hline\n",
       "\t 390          & 8378.822     & NA           &       NA     &       NA     &           NA\\\\\n",
       "\t 389          & 7412.263     &  1           & 966.5589     & 50.72559     & 5.174575e-12\\\\\n",
       "\\end{tabular}\n"
      ],
      "text/markdown": [
       "\n",
       "| Res.Df | RSS | Df | Sum of Sq | F | Pr(>F) |\n",
       "|---|---|---|---|---|---|\n",
       "| 390          | 8378.822     | NA           |       NA     |       NA     |           NA |\n",
       "| 389          | 7412.263     |  1           | 966.5589     | 50.72559     | 5.174575e-12 |\n",
       "\n"
      ],
      "text/plain": [
       "  Res.Df RSS      Df Sum of Sq F        Pr(>F)      \n",
       "1 390    8378.822 NA       NA        NA           NA\n",
       "2 389    7412.263  1 966.5589  50.72559 5.174575e-12"
      ]
     },
     "metadata": {},
     "output_type": "display_data"
    }
   ],
   "source": [
    "anova(displacement.linear, displacement.quadratic)"
   ]
  },
  {
   "cell_type": "markdown",
   "metadata": {},
   "source": [
    "As we can see, the quadratic term has a p-value of essentially zero, which is quite statistically significant. Moreover, the inclusion of the quadratic term improves the $R^2$ value from 0.6482 in the linear model to 0.6888. This, along with the above results of using the `anova()` function to compare the two models, strongly suggests that the model which includes the quadtratic term is a better fit than the model which does not include it. To finish, lets now compare the quadratic model to a quintic one."
   ]
  },
  {
   "cell_type": "code",
   "execution_count": 98,
   "metadata": {},
   "outputs": [
    {
     "data": {
      "text/plain": [
       "\n",
       "Call:\n",
       "lm(formula = mpg ~ poly(displacement, 5), data = Auto)\n",
       "\n",
       "Residuals:\n",
       "     Min       1Q   Median       3Q      Max \n",
       "-15.3360  -2.3445  -0.2895   2.1635  20.3439 \n",
       "\n",
       "Coefficients:\n",
       "                        Estimate Std. Error t value Pr(>|t|)    \n",
       "(Intercept)              23.4459     0.2209 106.158  < 2e-16 ***\n",
       "poly(displacement, 5)1 -124.2585     4.3728 -28.416  < 2e-16 ***\n",
       "poly(displacement, 5)2   31.0895     4.3728   7.110 5.67e-12 ***\n",
       "poly(displacement, 5)3   -4.4655     4.3728  -1.021    0.308    \n",
       "poly(displacement, 5)4    0.7747     4.3728   0.177    0.859    \n",
       "poly(displacement, 5)5    3.2991     4.3728   0.754    0.451    \n",
       "---\n",
       "Signif. codes:  0 '***' 0.001 '**' 0.01 '*' 0.05 '.' 0.1 ' ' 1\n",
       "\n",
       "Residual standard error: 4.373 on 386 degrees of freedom\n",
       "Multiple R-squared:  0.6901,\tAdjusted R-squared:  0.6861 \n",
       "F-statistic: 171.9 on 5 and 386 DF,  p-value: < 2.2e-16\n"
      ]
     },
     "metadata": {},
     "output_type": "display_data"
    }
   ],
   "source": [
    "displacement.quintic = lm(mpg ~ poly(displacement, 5), data = Auto)\n",
    "summary(displacement.quintic)"
   ]
  },
  {
   "cell_type": "code",
   "execution_count": 99,
   "metadata": {},
   "outputs": [
    {
     "data": {
      "text/html": [
       "<table>\n",
       "<thead><tr><th scope=col>Res.Df</th><th scope=col>RSS</th><th scope=col>Df</th><th scope=col>Sum of Sq</th><th scope=col>F</th><th scope=col>Pr(&gt;F)</th></tr></thead>\n",
       "<tbody>\n",
       "\t<tr><td>389      </td><td>7412.263 </td><td>NA       </td><td>      NA </td><td>       NA</td><td>       NA</td></tr>\n",
       "\t<tr><td>386      </td><td>7380.838 </td><td> 3       </td><td>31.42511 </td><td>0.5478192</td><td>0.6498843</td></tr>\n",
       "</tbody>\n",
       "</table>\n"
      ],
      "text/latex": [
       "\\begin{tabular}{r|llllll}\n",
       " Res.Df & RSS & Df & Sum of Sq & F & Pr(>F)\\\\\n",
       "\\hline\n",
       "\t 389       & 7412.263  & NA        &       NA  &        NA &        NA\\\\\n",
       "\t 386       & 7380.838  &  3        & 31.42511  & 0.5478192 & 0.6498843\\\\\n",
       "\\end{tabular}\n"
      ],
      "text/markdown": [
       "\n",
       "| Res.Df | RSS | Df | Sum of Sq | F | Pr(>F) |\n",
       "|---|---|---|---|---|---|\n",
       "| 389       | 7412.263  | NA        |       NA  |        NA |        NA |\n",
       "| 386       | 7380.838  |  3        | 31.42511  | 0.5478192 | 0.6498843 |\n",
       "\n"
      ],
      "text/plain": [
       "  Res.Df RSS      Df Sum of Sq F         Pr(>F)   \n",
       "1 389    7412.263 NA       NA         NA        NA\n",
       "2 386    7380.838  3 31.42511  0.5478192 0.6498843"
      ]
     },
     "metadata": {},
     "output_type": "display_data"
    }
   ],
   "source": [
    "anova(displacement.quadratic, displacement.quintic)"
   ]
  },
  {
   "cell_type": "markdown",
   "metadata": {},
   "source": [
    "First, we notice that none of the terms above order 2 (i.e. the cubic, quartic, and quintic terms) have statistically significant p-values. In addition, the adjusted $R^2$ value has dropped slightly from 0.6872 in the quadratic model to 0.6861. Lastly, p-value from the `anova()` function is 0.65, which means that there is not sufficient evidence to reject the null hypothesis that the quintic model is a better fit than the quadratic one. These three pieces of evidence suggest that including terms beyond order 2 does not improve the model."
   ]
  },
  {
   "cell_type": "markdown",
   "metadata": {},
   "source": [
    "# Applied Exercise 3\n",
    "\n",
    "**This question should be answered using the `Carseats` data set.**"
   ]
  },
  {
   "cell_type": "code",
   "execution_count": 1,
   "metadata": {},
   "outputs": [
    {
     "data": {
      "text/html": [
       "<table>\n",
       "<thead><tr><th scope=col>Sales</th><th scope=col>CompPrice</th><th scope=col>Income</th><th scope=col>Advertising</th><th scope=col>Population</th><th scope=col>Price</th><th scope=col>ShelveLoc</th><th scope=col>Age</th><th scope=col>Education</th><th scope=col>Urban</th><th scope=col>US</th></tr></thead>\n",
       "<tbody>\n",
       "\t<tr><td> 9.50 </td><td>138   </td><td> 73   </td><td>11    </td><td>276   </td><td>120   </td><td>Bad   </td><td>42    </td><td>17    </td><td>Yes   </td><td>Yes   </td></tr>\n",
       "\t<tr><td>11.22 </td><td>111   </td><td> 48   </td><td>16    </td><td>260   </td><td> 83   </td><td>Good  </td><td>65    </td><td>10    </td><td>Yes   </td><td>Yes   </td></tr>\n",
       "\t<tr><td>10.06 </td><td>113   </td><td> 35   </td><td>10    </td><td>269   </td><td> 80   </td><td>Medium</td><td>59    </td><td>12    </td><td>Yes   </td><td>Yes   </td></tr>\n",
       "\t<tr><td> 7.40 </td><td>117   </td><td>100   </td><td> 4    </td><td>466   </td><td> 97   </td><td>Medium</td><td>55    </td><td>14    </td><td>Yes   </td><td>Yes   </td></tr>\n",
       "\t<tr><td> 4.15 </td><td>141   </td><td> 64   </td><td> 3    </td><td>340   </td><td>128   </td><td>Bad   </td><td>38    </td><td>13    </td><td>Yes   </td><td>No    </td></tr>\n",
       "\t<tr><td>10.81 </td><td>124   </td><td>113   </td><td>13    </td><td>501   </td><td> 72   </td><td>Bad   </td><td>78    </td><td>16    </td><td>No    </td><td>Yes   </td></tr>\n",
       "</tbody>\n",
       "</table>\n"
      ],
      "text/latex": [
       "\\begin{tabular}{r|lllllllllll}\n",
       " Sales & CompPrice & Income & Advertising & Population & Price & ShelveLoc & Age & Education & Urban & US\\\\\n",
       "\\hline\n",
       "\t  9.50  & 138    &  73    & 11     & 276    & 120    & Bad    & 42     & 17     & Yes    & Yes   \\\\\n",
       "\t 11.22  & 111    &  48    & 16     & 260    &  83    & Good   & 65     & 10     & Yes    & Yes   \\\\\n",
       "\t 10.06  & 113    &  35    & 10     & 269    &  80    & Medium & 59     & 12     & Yes    & Yes   \\\\\n",
       "\t  7.40  & 117    & 100    &  4     & 466    &  97    & Medium & 55     & 14     & Yes    & Yes   \\\\\n",
       "\t  4.15  & 141    &  64    &  3     & 340    & 128    & Bad    & 38     & 13     & Yes    & No    \\\\\n",
       "\t 10.81  & 124    & 113    & 13     & 501    &  72    & Bad    & 78     & 16     & No     & Yes   \\\\\n",
       "\\end{tabular}\n"
      ],
      "text/markdown": [
       "\n",
       "| Sales | CompPrice | Income | Advertising | Population | Price | ShelveLoc | Age | Education | Urban | US |\n",
       "|---|---|---|---|---|---|---|---|---|---|---|\n",
       "|  9.50  | 138    |  73    | 11     | 276    | 120    | Bad    | 42     | 17     | Yes    | Yes    |\n",
       "| 11.22  | 111    |  48    | 16     | 260    |  83    | Good   | 65     | 10     | Yes    | Yes    |\n",
       "| 10.06  | 113    |  35    | 10     | 269    |  80    | Medium | 59     | 12     | Yes    | Yes    |\n",
       "|  7.40  | 117    | 100    |  4     | 466    |  97    | Medium | 55     | 14     | Yes    | Yes    |\n",
       "|  4.15  | 141    |  64    |  3     | 340    | 128    | Bad    | 38     | 13     | Yes    | No     |\n",
       "| 10.81  | 124    | 113    | 13     | 501    |  72    | Bad    | 78     | 16     | No     | Yes    |\n",
       "\n"
      ],
      "text/plain": [
       "  Sales CompPrice Income Advertising Population Price ShelveLoc Age Education\n",
       "1  9.50 138        73    11          276        120   Bad       42  17       \n",
       "2 11.22 111        48    16          260         83   Good      65  10       \n",
       "3 10.06 113        35    10          269         80   Medium    59  12       \n",
       "4  7.40 117       100     4          466         97   Medium    55  14       \n",
       "5  4.15 141        64     3          340        128   Bad       38  13       \n",
       "6 10.81 124       113    13          501         72   Bad       78  16       \n",
       "  Urban US \n",
       "1 Yes   Yes\n",
       "2 Yes   Yes\n",
       "3 Yes   Yes\n",
       "4 Yes   Yes\n",
       "5 Yes   No \n",
       "6 No    Yes"
      ]
     },
     "metadata": {},
     "output_type": "display_data"
    }
   ],
   "source": [
    "library(ISLR)\n",
    "head(Carseats)"
   ]
  },
  {
   "cell_type": "markdown",
   "metadata": {},
   "source": [
    "## Part 1\n",
    "**Fit a multiple regression model to predict `Sales` using `Price`, `Urban`, and `US`.**"
   ]
  },
  {
   "cell_type": "code",
   "execution_count": 2,
   "metadata": {},
   "outputs": [
    {
     "data": {
      "text/plain": [
       "\n",
       "Call:\n",
       "lm(formula = Sales ~ Price + Urban + US, data = Carseats)\n",
       "\n",
       "Residuals:\n",
       "    Min      1Q  Median      3Q     Max \n",
       "-6.9206 -1.6220 -0.0564  1.5786  7.0581 \n",
       "\n",
       "Coefficients:\n",
       "             Estimate Std. Error t value Pr(>|t|)    \n",
       "(Intercept) 13.043469   0.651012  20.036  < 2e-16 ***\n",
       "Price       -0.054459   0.005242 -10.389  < 2e-16 ***\n",
       "UrbanYes    -0.021916   0.271650  -0.081    0.936    \n",
       "USYes        1.200573   0.259042   4.635 4.86e-06 ***\n",
       "---\n",
       "Signif. codes:  0 '***' 0.001 '**' 0.01 '*' 0.05 '.' 0.1 ' ' 1\n",
       "\n",
       "Residual standard error: 2.472 on 396 degrees of freedom\n",
       "Multiple R-squared:  0.2393,\tAdjusted R-squared:  0.2335 \n",
       "F-statistic: 41.52 on 3 and 396 DF,  p-value: < 2.2e-16\n"
      ]
     },
     "metadata": {},
     "output_type": "display_data"
    }
   ],
   "source": [
    "carseats.fit.1 = lm(Sales ~ Price + Urban + US, data = Carseats)\n",
    "summary(carseats.fit.1)"
   ]
  },
  {
   "cell_type": "code",
   "execution_count": 3,
   "metadata": {},
   "outputs": [
    {
     "data": {
      "text/html": [
       "<table>\n",
       "<thead><tr><th></th><th scope=col>Yes</th></tr></thead>\n",
       "<tbody>\n",
       "\t<tr><th scope=row>No</th><td>0</td></tr>\n",
       "\t<tr><th scope=row>Yes</th><td>1</td></tr>\n",
       "</tbody>\n",
       "</table>\n"
      ],
      "text/latex": [
       "\\begin{tabular}{r|l}\n",
       "  & Yes\\\\\n",
       "\\hline\n",
       "\tNo & 0\\\\\n",
       "\tYes & 1\\\\\n",
       "\\end{tabular}\n"
      ],
      "text/markdown": [
       "\n",
       "| <!--/--> | Yes |\n",
       "|---|---|\n",
       "| No | 0 |\n",
       "| Yes | 1 |\n",
       "\n"
      ],
      "text/plain": [
       "    Yes\n",
       "No  0  \n",
       "Yes 1  "
      ]
     },
     "metadata": {},
     "output_type": "display_data"
    }
   ],
   "source": [
    "contrasts(Carseats$Urban)"
   ]
  },
  {
   "cell_type": "code",
   "execution_count": 4,
   "metadata": {},
   "outputs": [
    {
     "data": {
      "text/html": [
       "<table>\n",
       "<thead><tr><th></th><th scope=col>Yes</th></tr></thead>\n",
       "<tbody>\n",
       "\t<tr><th scope=row>No</th><td>0</td></tr>\n",
       "\t<tr><th scope=row>Yes</th><td>1</td></tr>\n",
       "</tbody>\n",
       "</table>\n"
      ],
      "text/latex": [
       "\\begin{tabular}{r|l}\n",
       "  & Yes\\\\\n",
       "\\hline\n",
       "\tNo & 0\\\\\n",
       "\tYes & 1\\\\\n",
       "\\end{tabular}\n"
      ],
      "text/markdown": [
       "\n",
       "| <!--/--> | Yes |\n",
       "|---|---|\n",
       "| No | 0 |\n",
       "| Yes | 1 |\n",
       "\n"
      ],
      "text/plain": [
       "    Yes\n",
       "No  0  \n",
       "Yes 1  "
      ]
     },
     "metadata": {},
     "output_type": "display_data"
    }
   ],
   "source": [
    "contrasts(Carseats$US)"
   ]
  },
  {
   "cell_type": "markdown",
   "metadata": {},
   "source": [
    "## Part 2\n",
    "**Provide an interpretation of each coefficient in the model. Be careful -- some of the variables in the model are qualitative!**"
   ]
  },
  {
   "cell_type": "markdown",
   "metadata": {},
   "source": [
    "The coefficient of -0.054459 for `Price` means that, for a given location (i.e. fixed values of `Urban` and `US`), increasing the price of a car seat by \\\\$1 results in a decrease of sales by approximately 54.46 units, on average, in the model. The coefficient of -0.021916 for `UrbanYes` means that, for a given carseat price point and value of `US`, the model predicts urban areas to have approximately 22 fewer carseat sales on average compared to non-urban areas. The coefficient of 1.200573 for `USYes` means that, for a given carseat price point and value of `Urban`, the model predicts that stores in the United States have 1201 more carseat sales on average than stores outside the United States."
   ]
  },
  {
   "cell_type": "markdown",
   "metadata": {},
   "source": [
    "## Part 3\n",
    "**Write out the model in equation form, being careful to handle the qualitative variables properly.**"
   ]
  },
  {
   "cell_type": "markdown",
   "metadata": {},
   "source": [
    "The model has the following equation.\n",
    "\n",
    "\\begin{equation}\n",
    "    \\hat{Y} = 13.043 - 0.054X_1 - 0.022X_2 + 1.200X_3\n",
    "\\end{equation}\n",
    "\n",
    "Here, $\\hat{y}$ is the estimated carseat sales, in thousands of car seats; $x_{1j}$ is the price of the carseat at the jth store, in dollars; and $x_{2j}$ and $x_{3j}$ are dummy variables to represent whether or not the $j$th store at is located in an urban area and in the United States, respectively. More concretely, $x_{2j}$ and $x_{3j}$ use the following coding scheme.\n",
    "\n",
    "\\begin{align}\n",
    "    x_{2j} &= \n",
    "    \\begin{cases}\n",
    "        1, & \\text{if the $j$th store is in an urban location} \\\\\n",
    "        0, & \\text{if the $j$th store is not in an urban location}\n",
    "    \\end{cases}\\\\\n",
    "    x_{3j} &= \n",
    "    \\begin{cases}\n",
    "        1, & \\text{if the $j$th store is in the United States} \\\\\n",
    "        0, & \\text{if the $j$th store is not in the United States}\n",
    "    \\end{cases}\n",
    "\\end{align}"
   ]
  },
  {
   "cell_type": "markdown",
   "metadata": {},
   "source": [
    "## Part 4\n",
    "**For which of the predictors can you reject the null hypothesis $H_0 : \\beta_j = 0$?**"
   ]
  },
  {
   "cell_type": "markdown",
   "metadata": {},
   "source": [
    "The p-values for the intercept, `Price`, and `USYes` are all essentially zero, which provides strong evidence to reject the null hypothesis $H_0: \\beta_j = 0$ for those predictors. The p-value for `UrbanYes`, however, is 0.936, so there is no evidence to reject the null hypothesis that it has a non-zero coefficient in the true relationship between the predictors and `Sales`."
   ]
  },
  {
   "cell_type": "markdown",
   "metadata": {},
   "source": [
    "## Part 5\n",
    "**On the basis of your response to the previous question, fit a smaller model that only uses the predictors for which there is evidence of association with the outcome.**"
   ]
  },
  {
   "cell_type": "code",
   "execution_count": 5,
   "metadata": {},
   "outputs": [
    {
     "data": {
      "text/plain": [
       "\n",
       "Call:\n",
       "lm(formula = Sales ~ Price + US, data = Carseats)\n",
       "\n",
       "Residuals:\n",
       "    Min      1Q  Median      3Q     Max \n",
       "-6.9269 -1.6286 -0.0574  1.5766  7.0515 \n",
       "\n",
       "Coefficients:\n",
       "            Estimate Std. Error t value Pr(>|t|)    \n",
       "(Intercept) 13.03079    0.63098  20.652  < 2e-16 ***\n",
       "Price       -0.05448    0.00523 -10.416  < 2e-16 ***\n",
       "USYes        1.19964    0.25846   4.641 4.71e-06 ***\n",
       "---\n",
       "Signif. codes:  0 '***' 0.001 '**' 0.01 '*' 0.05 '.' 0.1 ' ' 1\n",
       "\n",
       "Residual standard error: 2.469 on 397 degrees of freedom\n",
       "Multiple R-squared:  0.2393,\tAdjusted R-squared:  0.2354 \n",
       "F-statistic: 62.43 on 2 and 397 DF,  p-value: < 2.2e-16\n"
      ]
     },
     "metadata": {},
     "output_type": "display_data"
    }
   ],
   "source": [
    "carseats.fit.2 = lm(Sales ~ Price + US, data = Carseats)\n",
    "summary(carseats.fit.2)"
   ]
  },
  {
   "cell_type": "markdown",
   "metadata": {},
   "source": [
    "## Part 6\n",
    "**How well do the models in Part 1 and Part 5 fit the data?**"
   ]
  },
  {
   "cell_type": "code",
   "execution_count": 7,
   "metadata": {},
   "outputs": [
    {
     "data": {
      "image/png": "[encoded data removed]",
      "text/plain": [
       "Plot with title \"\""
      ]
     },
     "metadata": {},
     "output_type": "display_data"
    }
   ],
   "source": [
    "par(mfrow = c(2, 2))\n",
    "plot(carseats.fit.1)"
   ]
  },
  {
   "cell_type": "code",
   "execution_count": 8,
   "metadata": {},
   "outputs": [
    {
     "data": {
      "image/png": "[encoded data removed]",
      "text/plain": [
       "Plot with title \"\""
      ]
     },
     "metadata": {},
     "output_type": "display_data"
    }
   ],
   "source": [
    "par(mfrow = c(2, 2))\n",
    "plot(carseats.fit.2)"
   ]
  },
  {
   "cell_type": "markdown",
   "metadata": {},
   "source": [
    "The models in Part 1 and Part 5 both fit the data about equally well, with identical $R^2$ values of 0.2393. In addition, when comparing the diagnostic plots between the two models, there isn't any discernable visual differences that would strongly indicate that one model is a better fit than the other."
   ]
  },
  {
   "cell_type": "markdown",
   "metadata": {},
   "source": [
    "## Part 7\n",
    "**Using the model from Part 5, obtain 95% confidence intervals for the coefficient(s).**"
   ]
  },
  {
   "cell_type": "code",
   "execution_count": 10,
   "metadata": {},
   "outputs": [
    {
     "data": {
      "text/html": [
       "<table>\n",
       "<thead><tr><th></th><th scope=col>2.5 %</th><th scope=col>97.5 %</th></tr></thead>\n",
       "<tbody>\n",
       "\t<tr><th scope=row>(Intercept)</th><td>11.79032020</td><td>14.27126531</td></tr>\n",
       "\t<tr><th scope=row>Price</th><td>-0.06475984</td><td>-0.04419543</td></tr>\n",
       "\t<tr><th scope=row>USYes</th><td> 0.69151957</td><td> 1.70776632</td></tr>\n",
       "</tbody>\n",
       "</table>\n"
      ],
      "text/latex": [
       "\\begin{tabular}{r|ll}\n",
       "  & 2.5 \\% & 97.5 \\%\\\\\n",
       "\\hline\n",
       "\t(Intercept) & 11.79032020 & 14.27126531\\\\\n",
       "\tPrice & -0.06475984 & -0.04419543\\\\\n",
       "\tUSYes &  0.69151957 &  1.70776632\\\\\n",
       "\\end{tabular}\n"
      ],
      "text/markdown": [
       "\n",
       "| <!--/--> | 2.5 % | 97.5 % |\n",
       "|---|---|---|\n",
       "| (Intercept) | 11.79032020 | 14.27126531 |\n",
       "| Price | -0.06475984 | -0.04419543 |\n",
       "| USYes |  0.69151957 |  1.70776632 |\n",
       "\n"
      ],
      "text/plain": [
       "            2.5 %       97.5 %     \n",
       "(Intercept) 11.79032020 14.27126531\n",
       "Price       -0.06475984 -0.04419543\n",
       "USYes        0.69151957  1.70776632"
      ]
     },
     "metadata": {},
     "output_type": "display_data"
    }
   ],
   "source": [
    "confint(carseats.fit.2)"
   ]
  },
  {
   "cell_type": "markdown",
   "metadata": {},
   "source": [
    "## Part 8\n",
    "**Is there evidence of outliers or high leverage observations in the model from Part 5?**"
   ]
  },
  {
   "cell_type": "markdown",
   "metadata": {},
   "source": [
    "When we look at the residuals vs. leverage plot for the model from Part 5 that I generated in Part 6, we see that there are a number of observations with standardized residuals close to 3 in absolute value. Those observations are possible outliers. We can also see in the same plot that there are number of high leverage points with leverage values greatly exceeding the average leverage of $3/400 = 0.0075$, though those high leverage observations are not likely outliers, as they have studentized residual values with absolute value less than 2."
   ]
  },
  {
   "cell_type": "markdown",
   "metadata": {},
   "source": [
    "# Applied Exercise 4\n",
    "**In this problem we will investigate the t-statistic for the null hypothesis $H_0: \\beta = 0$ in simple linear regression without an intercept. To begin, we generate a predictor `x` and a response `y` as follows.**\n",
    "\n",
    "```\n",
    "> set.seed(1)\n",
    "> x = rnorm(100)\n",
    "> y = 2*x + rnorm(100)\n",
    "```"
   ]
  },
  {
   "cell_type": "code",
   "execution_count": 1,
   "metadata": {},
   "outputs": [],
   "source": [
    "set.seed(1)\n",
    "x = rnorm(100)\n",
    "y = 2*x + rnorm(100)"
   ]
  },
  {
   "cell_type": "markdown",
   "metadata": {},
   "source": [
    "## Part 1\n",
    "**Perform a simple linear regresion of `y` onto `x` *without* an intercept. Report the coefficient estimate $\\hat{\\beta}$, the standard error of this coefficient estimate, and the t-statistic and p-value associated with the null hypothesis $H_0: \\beta = 0$. Comment on these results. (You can perform regression without an intercept using the command `lm(y~x+0)`.**"
   ]
  },
  {
   "cell_type": "code",
   "execution_count": 2,
   "metadata": {},
   "outputs": [
    {
     "data": {
      "text/plain": [
       "\n",
       "Call:\n",
       "lm(formula = y ~ x + 0)\n",
       "\n",
       "Residuals:\n",
       "    Min      1Q  Median      3Q     Max \n",
       "-1.9154 -0.6472 -0.1771  0.5056  2.3109 \n",
       "\n",
       "Coefficients:\n",
       "  Estimate Std. Error t value Pr(>|t|)    \n",
       "x   1.9939     0.1065   18.73   <2e-16 ***\n",
       "---\n",
       "Signif. codes:  0 '***' 0.001 '**' 0.01 '*' 0.05 '.' 0.1 ' ' 1\n",
       "\n",
       "Residual standard error: 0.9586 on 99 degrees of freedom\n",
       "Multiple R-squared:  0.7798,\tAdjusted R-squared:  0.7776 \n",
       "F-statistic: 350.7 on 1 and 99 DF,  p-value: < 2.2e-16\n"
      ]
     },
     "metadata": {},
     "output_type": "display_data"
    }
   ],
   "source": [
    "noint.y.onto.x = lm(y ~ x + 0)\n",
    "summary(noint.y.onto.x)"
   ]
  },
  {
   "cell_type": "code",
   "execution_count": 7,
   "metadata": {},
   "outputs": [
    {
     "data": {
      "image/png": "[encoded data removed]",
      "text/plain": [
       "plot without title"
      ]
     },
     "metadata": {},
     "output_type": "display_data"
    }
   ],
   "source": [
    "plot(x, y)\n",
    "abline(noint.y.onto.x, lwd = 3, col = \"red\")"
   ]
  },
  {
   "cell_type": "markdown",
   "metadata": {},
   "source": [
    "When performing a simple linear regression of `y` onto `x` without an intercept, we have $\\hat{\\beta} = 1.9939$ with a standard error of 0.1065 and p-value of essentially zero associated with the null hypothesis $H_0: \\beta = 0$. This is reasonable and expected given the fact that the true relationship between `y` and `x` is given by $Y = 2X + \\epsilon$. In addition, an $R^2$ value of 0.7798 indicates that about 78% of the variance in the data can be explained by the regression model."
   ]
  },
  {
   "cell_type": "markdown",
   "metadata": {},
   "source": [
    "## Part 2\n",
    "**Now perform a simple linear regression of `x` onto `y` without an intercept, and report on the coefficient estimate, its standard error, and the corresponding t-statistic and p-values associated with the null hypothesis $H_0 : \\beta = 0$. Comment on these results.**"
   ]
  },
  {
   "cell_type": "code",
   "execution_count": 3,
   "metadata": {},
   "outputs": [
    {
     "data": {
      "text/plain": [
       "\n",
       "Call:\n",
       "lm(formula = x ~ y + 0)\n",
       "\n",
       "Residuals:\n",
       "    Min      1Q  Median      3Q     Max \n",
       "-0.8699 -0.2368  0.1030  0.2858  0.8938 \n",
       "\n",
       "Coefficients:\n",
       "  Estimate Std. Error t value Pr(>|t|)    \n",
       "y  0.39111    0.02089   18.73   <2e-16 ***\n",
       "---\n",
       "Signif. codes:  0 '***' 0.001 '**' 0.01 '*' 0.05 '.' 0.1 ' ' 1\n",
       "\n",
       "Residual standard error: 0.4246 on 99 degrees of freedom\n",
       "Multiple R-squared:  0.7798,\tAdjusted R-squared:  0.7776 \n",
       "F-statistic: 350.7 on 1 and 99 DF,  p-value: < 2.2e-16\n"
      ]
     },
     "metadata": {},
     "output_type": "display_data"
    }
   ],
   "source": [
    "noint.x.onto.y = lm(x ~ y + 0)\n",
    "summary(noint.x.onto.y)"
   ]
  },
  {
   "cell_type": "code",
   "execution_count": 11,
   "metadata": {},
   "outputs": [
    {
     "data": {
      "image/png": "[encoded data removed]",
      "text/plain": [
       "plot without title"
      ]
     },
     "metadata": {},
     "output_type": "display_data"
    }
   ],
   "source": [
    "plot(y, x)\n",
    "abline(noint.x.onto.y, lwd = 3, col = \"red\")"
   ]
  },
  {
   "cell_type": "markdown",
   "metadata": {},
   "source": [
    "When performing a simple linear regression of `x` onto `y` without an intercept, we have $\\hat{\\beta} = 0.39111$ with a standard error of 0.02089 and p-value of essentially zero associated with the null hypothesis $H_0: \\beta = 0$. This is also reasonable, if slightly shallower slope compared to what I expected, given the fact that the true relationship between `y` and `x` is given by $Y = 2X + \\epsilon$. In other words, after solving for $x$ we get $X = \\frac{1}{2}(Y - \\epsilon) = \\frac{1}{2}Y + \\epsilon$ after absorbing the $1/2$ into a relabeled error term. After graphing the regression line on the scatterplot with y on the horizontal axis and x on the vertical axis, the slope does look reasonable. In addition, an $R^2$ value of 0.7798 indicates that about 78% of the variance in the data can be explained by the regression model."
   ]
  },
  {
   "cell_type": "markdown",
   "metadata": {},
   "source": [
    "## Part 3\n",
    "**What is the relationship between the results obtained in Part 1 and Part 2?**"
   ]
  },
  {
   "cell_type": "markdown",
   "metadata": {},
   "source": [
    "In Part 1, simple linear regression without an intercept gave a regression line of $\\hat{y} = 1.9939x$. In Part 2, simple linear regression without an intercept gave a regression line of $\\hat{x} = 0.3911y$. Both regression models have the same t-statistic for $\\beta$, 18.73, as well as the same $R^2$ and F-statistic values (0.7798 and 305.7, respectively). Also, as discussed above, there is the true relationship $Y = 2X + \\epsilon$ for the regression in Part 1, which can be rearranged to get the true relationship $X = \\frac{1}{2}(Y - \\epsilon)$ in Part 2."
   ]
  },
  {
   "cell_type": "markdown",
   "metadata": {},
   "source": [
    "## Part 4\n",
    "**For the regression of $Y$ onto $X$ without an intercept, the t-statistic for $H_0 : \\beta = 0$ takes the form $\\hat{\\beta}/\\text{SE}(\\hat{\\beta})$, where $\\hat{\\beta}$ and $\\text{SE}(\\hat{\\beta})$ are given by the following formulas.**\n",
    "\n",
    "\\begin{equation}\n",
    "    \\hat{\\beta} = \\frac{\\sum_{j = 1}^n x_jy_j}{\\sum_{j = i}^n x_j^2}\n",
    "    \\quad\n",
    "    \\text{SE}(\\hat{\\beta}) = \\sqrt{\\frac{\\sum_{j = 1}^n \\left( y_j - x_j\\hat{\\beta} \\right)^2}{(n - 1)\\sum_{j = 1}^n x_j^2}}\n",
    "\\end{equation}\n",
    "\n",
    "**(These formulas are slightly different from those given in Sections 3.1.1 and 3.1.2, since here we are performing regression without an intercept.) Show algebraically, and confirm numerically in `R`, that the t-statistic can be written as**\n",
    "\n",
    "\\begin{equation}\n",
    "    t = \\frac{\\left( \\sqrt{n-1} \\right) \\sum_{j = 1}^n x_jy_j}\n",
    "    {\\sqrt{\\left( \\sum_{j = 1}^n x_j^2 \\right) \\left( \\sum_{j = 1}^n y_j^2 \\right) - \\left( \\sum_{j = 1}^n x_jy_j \\right)^2}}.\n",
    "\\end{equation}"
   ]
  },
  {
   "cell_type": "markdown",
   "metadata": {},
   "source": [
    "First, we note that\n",
    "\n",
    "\\begin{equation}\n",
    "    \\frac{1}{\\text{SE}(\\hat{\\beta})} = \n",
    "    \\sqrt{\\frac{(n - 1)\\sum_{j = 1}^n x_j^2}{\\sum_{i = 1}^n \\left( y_i - x_i\\hat{\\beta} \\right)^2}} =\n",
    "    \\frac{\\sqrt{(n - 1)} \\sqrt{\\sum_{j = 1}^n x_j^2}}{\\sqrt{\\sum_{i = 1}^n \\left( y_i - x_i\\hat{\\beta} \\right)^2}}.\n",
    "\\end{equation}\n",
    "\n",
    "Thus, when we combine with $\\hat{\\beta}$ to compute the t-statistic, we get\n",
    "\n",
    "\\begin{equation}\n",
    "    t = \\frac{\\hat{\\beta}}{\\text{SE}(\\hat{\\beta})} = \n",
    "    \\frac{\\sqrt{\\sum_{j = 1}^n x_j^2} \\sqrt{(n - 1)} \\left( \\sum_{j = 1}^n x_jy_j \\right)}\n",
    "    {\\left( \\sum_{j = 1}^n x_j^2 \\right) \\sqrt{\\sum_{j = 1}^n \\left( y_j - x_j\\hat{\\beta} \\right)^2}}.\n",
    "\\end{equation}\n",
    "\n",
    "Note that we can do some cancelling with the $\\sum_{j = 1}^n x_j^2$ that shows up in both the numerator and the denominator.\n",
    "\n",
    "\\begin{equation}\n",
    "    t = \\frac{\\sqrt{(n - 1)} \\sum_{j = 1}^n x_jy_j}\n",
    "    {\\sqrt{\\sum_{j = 1}^n x_j^2} \\sqrt{\\sum_{j = 1}^n \\left( y_j - x_j\\hat{\\beta} \\right)^2}}\n",
    "\\end{equation}\n",
    "\n",
    "Next, we can combine the two square roots in the denominator and focus there. To start off, we we note that\n",
    "\n",
    "\\begin{equation}\n",
    "    \\sum_{j = 1}^n \\left( y_j - x_j\\hat{\\beta} \\right)^2 = \n",
    "    \\sum_{j = 1}^n \\left( y_j^2 - 2x_jy_j\\hat{\\beta} + x_j^2\\hat{\\beta}^2 \\right) = \n",
    "    \\sum_{j = 1}^n y_j^2 - 2\\hat{\\beta}\\sum_{j = 1}^n x_jy_j + \\hat{\\beta}^2\\sum_{j = 1}^n x_j^2.\n",
    "\\end{equation}\n",
    "\n",
    "Plugging in the formula for $\\hat{\\beta}$, this then becomes\n",
    "\n",
    "\\begin{equation}\n",
    "    \\sum_{j = 1}^n y_j^2 - 2\\frac{\\left( \\sum_{j = 1}^n x_jy_j \\right)^2}{\\sum_{j = 1}^n x_j^2}\n",
    "    + \\frac{\\left( \\sum_{j = 1}^n x_jy_j \\right)^2}{\\sum_{j = 1}^n x_j^2} = \n",
    "    \\sum_{j = 1}^n y_j^2 - \\frac{\\left( \\sum_{j = 1}^n x_jy_j \\right)^2}{\\sum_{j = 1}^n x_j^2}.\n",
    "\\end{equation}\n",
    "\n",
    "Multiplying this by $\\sum_{j = 1}^n x_j^2$ gives us\n",
    "\n",
    "\\begin{equation}\n",
    "    \\left( \\sum_{j = 1}^n x_j^2 \\right) \\left( \\sum_{j = 1}^n y_j^2 \\right) - \\left( \\sum_{j = 1}^n x_jy_j \\right)^2.\n",
    "\\end{equation}\n",
    "\n",
    "This completes the simplification of the denominator, giving us the desired formula for the t-statistic for $H_0: \\beta = 0$.\n",
    "\n",
    "\\begin{equation}\n",
    "    t = \\frac{\\left( \\sqrt{n-1} \\right) \\sum_{j = 1}^n x_jy_j}\n",
    "    {\\sqrt{\\left( \\sum_{j = 1}^n x_j^2 \\right) \\left( \\sum_{j = 1}^n y_j^2 \\right) - \\left( \\sum_{j = 1}^n x_jy_j \\right)^2}}\n",
    "\\end{equation}"
   ]
  },
  {
   "cell_type": "code",
   "execution_count": 18,
   "metadata": {},
   "outputs": [
    {
     "data": {
      "text/html": [
       "18.7259319374486"
      ],
      "text/latex": [
       "18.7259319374486"
      ],
      "text/markdown": [
       "18.7259319374486"
      ],
      "text/plain": [
       "[1] 18.72593"
      ]
     },
     "metadata": {},
     "output_type": "display_data"
    }
   ],
   "source": [
    "sum.xy = sum(x * y)\n",
    "sum.x2 = sum(x**2)\n",
    "sum.y2 = sum(y**2)\n",
    "(sqrt(100 - 1)*sum.xy)/sqrt(sum.x2*sum.y2 - sum.xy**2)"
   ]
  },
  {
   "cell_type": "code",
   "execution_count": 21,
   "metadata": {},
   "outputs": [
    {
     "data": {
      "text/html": [
       "18.7259319374486"
      ],
      "text/latex": [
       "18.7259319374486"
      ],
      "text/markdown": [
       "18.7259319374486"
      ],
      "text/plain": [
       "[1] 18.72593"
      ]
     },
     "metadata": {},
     "output_type": "display_data"
    }
   ],
   "source": [
    "summary(noint.y.onto.x)$coefficients[, \"t value\"]"
   ]
  },
  {
   "cell_type": "markdown",
   "metadata": {},
   "source": [
    "This value matches the value t-statistic that `R` automatically computed when generating the regression model in Part 1."
   ]
  },
  {
   "cell_type": "markdown",
   "metadata": {},
   "source": [
    "## Part 5\n",
    "**Using the results from Part 4, argue that the t-statistic for the regression of `y` onto `x` is the same as the t-statistic for the regression of `x` onto `y`.**"
   ]
  },
  {
   "cell_type": "markdown",
   "metadata": {},
   "source": [
    "Note that the formula for the t-statistic for the regression of $Y$ onto $X$ without an intercept obtained in Part 4 is symmetric in $X$ and $Y$. Thus, it will give the same value when performing regression of $Y$ onto $X$ as when performing regression of $X$ onto $Y$. This explains why we had the same t-statistic value for Part 1 and Part 2."
   ]
  },
  {
   "cell_type": "markdown",
   "metadata": {},
   "source": [
    "## Part 6\n",
    "**In `R`, show that when regression is performed *with* an intercept, the t-statistic for $H_0: \\beta_1 = 0$ is the same for regression of `y` onto `x` as it is for the regression of `x` onto `y`.**"
   ]
  },
  {
   "cell_type": "code",
   "execution_count": 22,
   "metadata": {},
   "outputs": [
    {
     "data": {
      "text/plain": [
       "\n",
       "Call:\n",
       "lm(formula = y ~ x)\n",
       "\n",
       "Residuals:\n",
       "    Min      1Q  Median      3Q     Max \n",
       "-1.8768 -0.6138 -0.1395  0.5394  2.3462 \n",
       "\n",
       "Coefficients:\n",
       "            Estimate Std. Error t value Pr(>|t|)    \n",
       "(Intercept) -0.03769    0.09699  -0.389    0.698    \n",
       "x            1.99894    0.10773  18.556   <2e-16 ***\n",
       "---\n",
       "Signif. codes:  0 '***' 0.001 '**' 0.01 '*' 0.05 '.' 0.1 ' ' 1\n",
       "\n",
       "Residual standard error: 0.9628 on 98 degrees of freedom\n",
       "Multiple R-squared:  0.7784,\tAdjusted R-squared:  0.7762 \n",
       "F-statistic: 344.3 on 1 and 98 DF,  p-value: < 2.2e-16\n"
      ]
     },
     "metadata": {},
     "output_type": "display_data"
    }
   ],
   "source": [
    "withint.y.onto.x = lm(y ~ x)\n",
    "summary(withint.y.onto.x)"
   ]
  },
  {
   "cell_type": "code",
   "execution_count": 23,
   "metadata": {},
   "outputs": [
    {
     "data": {
      "text/plain": [
       "\n",
       "Call:\n",
       "lm(formula = x ~ y)\n",
       "\n",
       "Residuals:\n",
       "     Min       1Q   Median       3Q      Max \n",
       "-0.90848 -0.28101  0.06274  0.24570  0.85736 \n",
       "\n",
       "Coefficients:\n",
       "            Estimate Std. Error t value Pr(>|t|)    \n",
       "(Intercept)  0.03880    0.04266    0.91    0.365    \n",
       "y            0.38942    0.02099   18.56   <2e-16 ***\n",
       "---\n",
       "Signif. codes:  0 '***' 0.001 '**' 0.01 '*' 0.05 '.' 0.1 ' ' 1\n",
       "\n",
       "Residual standard error: 0.4249 on 98 degrees of freedom\n",
       "Multiple R-squared:  0.7784,\tAdjusted R-squared:  0.7762 \n",
       "F-statistic: 344.3 on 1 and 98 DF,  p-value: < 2.2e-16\n"
      ]
     },
     "metadata": {},
     "output_type": "display_data"
    }
   ],
   "source": [
    "withint.x.onto.y = lm(x ~ y)\n",
    "summary(withint.x.onto.y)"
   ]
  },
  {
   "cell_type": "code",
   "execution_count": 25,
   "metadata": {},
   "outputs": [
    {
     "data": {
      "text/html": [
       "18.5555992606409"
      ],
      "text/latex": [
       "18.5555992606409"
      ],
      "text/markdown": [
       "18.5555992606409"
      ],
      "text/plain": [
       "[1] 18.5556"
      ]
     },
     "metadata": {},
     "output_type": "display_data"
    }
   ],
   "source": [
    "summary(withint.y.onto.x)$coefficients[2, \"t value\"]"
   ]
  },
  {
   "cell_type": "code",
   "execution_count": 26,
   "metadata": {},
   "outputs": [
    {
     "data": {
      "text/html": [
       "18.5555992606409"
      ],
      "text/latex": [
       "18.5555992606409"
      ],
      "text/markdown": [
       "18.5555992606409"
      ],
      "text/plain": [
       "[1] 18.5556"
      ]
     },
     "metadata": {},
     "output_type": "display_data"
    }
   ],
   "source": [
    "summary(withint.x.onto.y)$coefficients[2, \"t value\"]"
   ]
  },
  {
   "cell_type": "markdown",
   "metadata": {},
   "source": [
    "As we can see, when we perform linear regression *with* an intercept, the t-statistic for $H_0: \\beta_1 = 0$ is the same for regression of `y` onto `x` as it is for regression of `x` onto `y`. In both cases, it is equal to 18.556."
   ]
  },
  {
   "cell_type": "markdown",
   "metadata": {},
   "source": [
    "# Applied Exercise 5\n",
    "**This problem involves simple linear regression without an intercept.**"
   ]
  },
  {
   "cell_type": "markdown",
   "metadata": {},
   "source": [
    "## Part 1\n",
    "**Recall that the coefficient estimate $\\hat{\\beta}$ for the linear regression of $Y$ onto $X$ without an intercept is given by the following formula.**\n",
    "\n",
    "\\begin{equation}\n",
    "    \\hat{\\beta} = \\frac{\\sum_{j = 1}^n x_jy_j}{\\sum_{j = i}^n x_j^2}\n",
    "\\end{equation}\n",
    "\n",
    "**Under what circumstance is the coefficient estimate for the regression of $X$ onto $Y$ the same as the coefficient estimate for the regression of $Y$ onto $X$?**"
   ]
  },
  {
   "cell_type": "markdown",
   "metadata": {},
   "source": [
    "Since the numerator in the formula for $\\hat{\\beta}$ is symmetric in $X$ and $Y$, the coefficient estimate for the regression of $X$ onto $Y$ will be same as the coefficient estimate for the regression of $Y$ onto $X$ when \n",
    "\n",
    "\\begin{equation}\n",
    "    \\sum_{j = 1}^n x_j^2 = \\sum_{j = 1}^n y_j^2.\n",
    "\\end{equation}"
   ]
  },
  {
   "cell_type": "markdown",
   "metadata": {},
   "source": [
    "## Part 2\n",
    "**Generate an example in `R` with $n = 100$ observations in which the coefficient estimate for the regression of $X$ onto $Y$ is *different from* the coefficient estimate for the regression of $Y$ onto $X$.**"
   ]
  },
  {
   "cell_type": "markdown",
   "metadata": {},
   "source": [
    "The example from the above exercise (Applied Exercise 4) is one such example where the coefficient estimate for the regression of $X$ onto $Y$ is *different from* the coefficient estimate for the regression of $Y$ onto $X$. I will also give another example."
   ]
  },
  {
   "cell_type": "code",
   "execution_count": 27,
   "metadata": {},
   "outputs": [],
   "source": [
    "set.seed(1)\n",
    "x = rnorm(100)\n",
    "y = 3*x + rnorm(100)"
   ]
  },
  {
   "cell_type": "code",
   "execution_count": 28,
   "metadata": {},
   "outputs": [
    {
     "data": {
      "text/plain": [
       "\n",
       "Call:\n",
       "lm(formula = y ~ x + 0)\n",
       "\n",
       "Residuals:\n",
       "    Min      1Q  Median      3Q     Max \n",
       "-1.9154 -0.6472 -0.1771  0.5056  2.3109 \n",
       "\n",
       "Coefficients:\n",
       "  Estimate Std. Error t value Pr(>|t|)    \n",
       "x   2.9939     0.1065   28.12   <2e-16 ***\n",
       "---\n",
       "Signif. codes:  0 '***' 0.001 '**' 0.01 '*' 0.05 '.' 0.1 ' ' 1\n",
       "\n",
       "Residual standard error: 0.9586 on 99 degrees of freedom\n",
       "Multiple R-squared:  0.8887,\tAdjusted R-squared:  0.8876 \n",
       "F-statistic: 790.6 on 1 and 99 DF,  p-value: < 2.2e-16\n"
      ]
     },
     "metadata": {},
     "output_type": "display_data"
    }
   ],
   "source": [
    "y.onto.x = lm(y ~ x + 0)\n",
    "summary(y.onto.x)"
   ]
  },
  {
   "cell_type": "code",
   "execution_count": 29,
   "metadata": {},
   "outputs": [
    {
     "data": {
      "text/plain": [
       "\n",
       "Call:\n",
       "lm(formula = x ~ y + 0)\n",
       "\n",
       "Residuals:\n",
       "     Min       1Q   Median       3Q      Max \n",
       "-0.63420 -0.16066  0.07099  0.18507  0.59841 \n",
       "\n",
       "Coefficients:\n",
       "  Estimate Std. Error t value Pr(>|t|)    \n",
       "y  0.29684    0.01056   28.12   <2e-16 ***\n",
       "---\n",
       "Signif. codes:  0 '***' 0.001 '**' 0.01 '*' 0.05 '.' 0.1 ' ' 1\n",
       "\n",
       "Residual standard error: 0.3019 on 99 degrees of freedom\n",
       "Multiple R-squared:  0.8887,\tAdjusted R-squared:  0.8876 \n",
       "F-statistic: 790.6 on 1 and 99 DF,  p-value: < 2.2e-16\n"
      ]
     },
     "metadata": {},
     "output_type": "display_data"
    }
   ],
   "source": [
    "x.onto.y = lm(x ~ y + 0)\n",
    "summary(x.onto.y)"
   ]
  },
  {
   "cell_type": "markdown",
   "metadata": {},
   "source": [
    "As we can see, the two regression models have different coefficient estimates. In the first one, where we perform regression of $Y$ onto $X$, we have $\\hat{\\beta} = 2.9939$. In the second, where we perform regression of $X$ onto $Y$, we have $\\hat{\\beta} = 0.29684$."
   ]
  },
  {
   "cell_type": "markdown",
   "metadata": {},
   "source": [
    "## Part 3\n",
    "**Generate an example in `R` with $n = 100$ observations in which the coefficient estimate for the regression of $X$ onto $Y$ is *the same as* the coefficient estimate for the regression of $Y$ onto $X$.**"
   ]
  },
  {
   "cell_type": "markdown",
   "metadata": {},
   "source": [
    "A somewhat silly example that clearly works is when $X$ and $Y$ are equal vectors."
   ]
  },
  {
   "cell_type": "code",
   "execution_count": 31,
   "metadata": {},
   "outputs": [],
   "source": [
    "set.seed(1)\n",
    "x = rnorm(100)\n",
    "y = x"
   ]
  },
  {
   "cell_type": "code",
   "execution_count": 32,
   "metadata": {},
   "outputs": [
    {
     "name": "stderr",
     "output_type": "stream",
     "text": [
      "Warning message in summary.lm(y.onto.x):\n",
      "\"essentially perfect fit: summary may be unreliable\""
     ]
    },
    {
     "data": {
      "text/plain": [
       "\n",
       "Call:\n",
       "lm(formula = y ~ x + 0)\n",
       "\n",
       "Residuals:\n",
       "       Min         1Q     Median         3Q        Max \n",
       "-1.691e-16 -1.780e-17 -1.000e-19  3.780e-17  3.949e-15 \n",
       "\n",
       "Coefficients:\n",
       "   Estimate Std. Error  t value Pr(>|t|)    \n",
       "x 1.000e+00  4.444e-17 2.25e+16   <2e-16 ***\n",
       "---\n",
       "Signif. codes:  0 '***' 0.001 '**' 0.01 '*' 0.05 '.' 0.1 ' ' 1\n",
       "\n",
       "Residual standard error: 4.001e-16 on 99 degrees of freedom\n",
       "Multiple R-squared:      1,\tAdjusted R-squared:      1 \n",
       "F-statistic: 5.064e+32 on 1 and 99 DF,  p-value: < 2.2e-16\n"
      ]
     },
     "metadata": {},
     "output_type": "display_data"
    }
   ],
   "source": [
    "y.onto.x = lm(y ~ x + 0)\n",
    "summary(y.onto.x)"
   ]
  },
  {
   "cell_type": "code",
   "execution_count": 33,
   "metadata": {},
   "outputs": [
    {
     "name": "stderr",
     "output_type": "stream",
     "text": [
      "Warning message in summary.lm(x.onto.y):\n",
      "\"essentially perfect fit: summary may be unreliable\""
     ]
    },
    {
     "data": {
      "text/plain": [
       "\n",
       "Call:\n",
       "lm(formula = x ~ y + 0)\n",
       "\n",
       "Residuals:\n",
       "       Min         1Q     Median         3Q        Max \n",
       "-1.691e-16 -1.780e-17 -1.000e-19  3.780e-17  3.949e-15 \n",
       "\n",
       "Coefficients:\n",
       "   Estimate Std. Error  t value Pr(>|t|)    \n",
       "y 1.000e+00  4.444e-17 2.25e+16   <2e-16 ***\n",
       "---\n",
       "Signif. codes:  0 '***' 0.001 '**' 0.01 '*' 0.05 '.' 0.1 ' ' 1\n",
       "\n",
       "Residual standard error: 4.001e-16 on 99 degrees of freedom\n",
       "Multiple R-squared:      1,\tAdjusted R-squared:      1 \n",
       "F-statistic: 5.064e+32 on 1 and 99 DF,  p-value: < 2.2e-16\n"
      ]
     },
     "metadata": {},
     "output_type": "display_data"
    }
   ],
   "source": [
    "x.onto.y = lm(x ~ y + 0)\n",
    "summary(x.onto.y)"
   ]
  },
  {
   "cell_type": "markdown",
   "metadata": {},
   "source": [
    "A slightly less silly example is having $Y$ be a random permutation of $X$."
   ]
  },
  {
   "cell_type": "code",
   "execution_count": 35,
   "metadata": {},
   "outputs": [],
   "source": [
    "set.seed(1)\n",
    "x = rnorm(100)\n",
    "y = sample(x)"
   ]
  },
  {
   "cell_type": "code",
   "execution_count": 36,
   "metadata": {},
   "outputs": [
    {
     "data": {
      "text/plain": [
       "\n",
       "Call:\n",
       "lm(formula = y ~ x + 0)\n",
       "\n",
       "Residuals:\n",
       "    Min      1Q  Median      3Q     Max \n",
       "-2.1665 -0.4995  0.1140  0.6945  2.2833 \n",
       "\n",
       "Coefficients:\n",
       "  Estimate Std. Error t value Pr(>|t|)\n",
       "x -0.07768    0.10020  -0.775     0.44\n",
       "\n",
       "Residual standard error: 0.9021 on 99 degrees of freedom\n",
       "Multiple R-squared:  0.006034,\tAdjusted R-squared:  -0.004006 \n",
       "F-statistic: 0.601 on 1 and 99 DF,  p-value: 0.4401\n"
      ]
     },
     "metadata": {},
     "output_type": "display_data"
    }
   ],
   "source": [
    "y.onto.x = lm(y ~ x + 0)\n",
    "summary(y.onto.x)"
   ]
  },
  {
   "cell_type": "code",
   "execution_count": 37,
   "metadata": {},
   "outputs": [
    {
     "data": {
      "text/plain": [
       "\n",
       "Call:\n",
       "lm(formula = x ~ y + 0)\n",
       "\n",
       "Residuals:\n",
       "    Min      1Q  Median      3Q     Max \n",
       "-2.2182 -0.4969  0.1595  0.6782  2.4017 \n",
       "\n",
       "Coefficients:\n",
       "  Estimate Std. Error t value Pr(>|t|)\n",
       "y -0.07768    0.10020  -0.775     0.44\n",
       "\n",
       "Residual standard error: 0.9021 on 99 degrees of freedom\n",
       "Multiple R-squared:  0.006034,\tAdjusted R-squared:  -0.004006 \n",
       "F-statistic: 0.601 on 1 and 99 DF,  p-value: 0.4401\n"
      ]
     },
     "metadata": {},
     "output_type": "display_data"
    }
   ],
   "source": [
    "x.onto.y = lm(x ~ y + 0)\n",
    "summary(x.onto.y)"
   ]
  },
  {
   "cell_type": "markdown",
   "metadata": {},
   "source": [
    "As we can see, in both regression models we have $\\hat{\\beta} = -0.07768$. The condition that the two sums of squares be equal is pretty flexible, especially for larger values of $n$, since once $X$ is chosen, there are still $n - 1$ degrees of freedom with which we can choose the values for $Y$. Another way to think about the level of flexibility is to observe that just in the special case where $Y$ is a permutation of $X$, there are $n!$ such permutations, and all of these would result in the same coefficient estimate."
   ]
  },
  {
   "cell_type": "markdown",
   "metadata": {},
   "source": [
    "# Applied Exercise 6\n",
    "**In this exercise you will create some simulated data and will fit simple linear regression models to it. Make sure to use `set.seed(1)` prior to starting Part 1 to ensure consistent results.**"
   ]
  },
  {
   "cell_type": "code",
   "execution_count": 48,
   "metadata": {},
   "outputs": [],
   "source": [
    "set.seed(1)"
   ]
  },
  {
   "cell_type": "markdown",
   "metadata": {},
   "source": [
    "## Part 1\n",
    "**Using the `rnorm()` function, create a vector, `x`, containing 100 observations drawn from an $N(0, 1)$ distribution. This represents a feature, $X$.**"
   ]
  },
  {
   "cell_type": "code",
   "execution_count": 49,
   "metadata": {},
   "outputs": [],
   "source": [
    "x = rnorm(100, mean = 0, sd = 1)"
   ]
  },
  {
   "cell_type": "markdown",
   "metadata": {},
   "source": [
    "## Part 2\n",
    "**Using the `rnorm()` function, create a vector, `eps`, containing 100 observations drawn from an $N(0, 0.25)$ distribution, i.e. a normal distribution with mean zero and variance 0.25.**"
   ]
  },
  {
   "cell_type": "markdown",
   "metadata": {},
   "source": [
    "Note that the conventional notation for a normal distribution with mean $\\mu$ and standard deviation $\\sigma$ is $N(\\mu, \\sigma^2)$. In `R`, the `rnorm()` function takes the arguments `n`, `mean`, and `sd`, where `n` is the number of observations to be generated, `mean` is the mean $\\mu$ for the normal distribution, and `sd` is the standard deviation $\\sigma$ for the normal distribution. Thus, to generate 100 observations from an $N(\\mu = 0, \\sigma^2 = 0.25)$ distribution, we need to use the syntax `rnorm(100, mean = 0, sd = 0.5)`."
   ]
  },
  {
   "cell_type": "code",
   "execution_count": 50,
   "metadata": {},
   "outputs": [],
   "source": [
    "eps = rnorm(100, mean = 0, sd = 0.5)"
   ]
  },
  {
   "cell_type": "markdown",
   "metadata": {},
   "source": [
    "## Part 3\n",
    "**Using `x` and `eps`, generate a vector `y` according to the model**\n",
    "\n",
    "\\begin{equation}\n",
    "    Y = -1 + 0.5X + \\epsilon.\n",
    "\\end{equation}\n",
    "\n",
    "**What is the length of the vector `y`? What are the values of $\\beta_0$ and $\\beta_1$ in this linear model?**"
   ]
  },
  {
   "cell_type": "code",
   "execution_count": 51,
   "metadata": {},
   "outputs": [],
   "source": [
    "y = -1 + 0.5*x + eps"
   ]
  },
  {
   "cell_type": "code",
   "execution_count": 52,
   "metadata": {},
   "outputs": [
    {
     "data": {
      "text/html": [
       "100"
      ],
      "text/latex": [
       "100"
      ],
      "text/markdown": [
       "100"
      ],
      "text/plain": [
       "[1] 100"
      ]
     },
     "metadata": {},
     "output_type": "display_data"
    }
   ],
   "source": [
    "length(y)"
   ]
  },
  {
   "cell_type": "markdown",
   "metadata": {},
   "source": [
    "The vector `y` has a length of 100. In this model, $\\beta_0 = -1$ and $\\beta_1 = 0.5$."
   ]
  },
  {
   "cell_type": "markdown",
   "metadata": {},
   "source": [
    "## Part 4\n",
    "**Create a scatterplot displaying the relationship between `x` and `y`. Comment on what you observe.**"
   ]
  },
  {
   "cell_type": "code",
   "execution_count": 64,
   "metadata": {},
   "outputs": [
    {
     "data": {
      "image/png": "[encoded data removed]",
      "text/plain": [
       "Plot with title \"Plot for original data (variance = .25)\""
      ]
     },
     "metadata": {},
     "output_type": "display_data"
    }
   ],
   "source": [
    "plot(x, y, main = \"Plot for original data (variance = .25)\")"
   ]
  },
  {
   "cell_type": "markdown",
   "metadata": {},
   "source": [
    "While there is definitely a positive linear relationship between `x` and `y`, there is some noise from the introduction of the error term."
   ]
  },
  {
   "cell_type": "markdown",
   "metadata": {},
   "source": [
    "## Part 5\n",
    "**Fit a least squares linear model to predict `y` using `x`. Comment on the model obtained. How do $\\hat{\\beta}_0$ and $\\hat{\\beta}_1$ compare to $\\beta_0$ and $\\beta_1$?**"
   ]
  },
  {
   "cell_type": "code",
   "execution_count": 54,
   "metadata": {},
   "outputs": [
    {
     "data": {
      "text/plain": [
       "\n",
       "Call:\n",
       "lm(formula = y ~ x)\n",
       "\n",
       "Residuals:\n",
       "     Min       1Q   Median       3Q      Max \n",
       "-0.93842 -0.30688 -0.06975  0.26970  1.17309 \n",
       "\n",
       "Coefficients:\n",
       "            Estimate Std. Error t value Pr(>|t|)    \n",
       "(Intercept) -1.01885    0.04849 -21.010  < 2e-16 ***\n",
       "x            0.49947    0.05386   9.273 4.58e-15 ***\n",
       "---\n",
       "Signif. codes:  0 '***' 0.001 '**' 0.01 '*' 0.05 '.' 0.1 ' ' 1\n",
       "\n",
       "Residual standard error: 0.4814 on 98 degrees of freedom\n",
       "Multiple R-squared:  0.4674,\tAdjusted R-squared:  0.4619 \n",
       "F-statistic: 85.99 on 1 and 98 DF,  p-value: 4.583e-15\n"
      ]
     },
     "metadata": {},
     "output_type": "display_data"
    }
   ],
   "source": [
    "lm.fit.orig = lm(y ~ x)\n",
    "summary(lm.fit.orig)"
   ]
  },
  {
   "cell_type": "markdown",
   "metadata": {},
   "source": [
    "The least squares regression model to predict `y` using `x` has the form $\\hat{Y} = -1.01885 + 0.49947X$, which is quite close to the true relationship $Y = -1 + 0.5X + \\epsilon$. The p-values of essentially zero for $\\beta_0$ and $\\beta_1$ provide strong evidence to reject the null hypotheses $H_0: \\beta_j = 0$ for $j = 1, 2$. We also note, however, that $R^2 = 0.4674$, which means that the linear regression model explains less than half of the variation in $Y$ found in the data. Lastly, the residual standard error is 0.4814."
   ]
  },
  {
   "cell_type": "markdown",
   "metadata": {},
   "source": [
    "## Part 6\n",
    "**Display the least squares regression line on the scatterplot obtained in Part 4. Draw the population regression line on the plot, in a different color. Use the `legend()` command to create an appropriate legend.**"
   ]
  },
  {
   "cell_type": "code",
   "execution_count": 65,
   "metadata": {},
   "outputs": [
    {
     "data": {
      "image/png": "[encoded data removed]",
      "text/plain": [
       "Plot with title \"Plot for original data (variance = .25)\""
      ]
     },
     "metadata": {},
     "output_type": "display_data"
    }
   ],
   "source": [
    "plot(x, y, main = \"Plot for original data (variance = .25)\")\n",
    "abline(lm.fit.orig, lwd = 2, lty = 2, col = \"red\")\n",
    "abline(a = -1, b = 0.5, lwd = 2, lty = 4, col = \"blue\")\n",
    "legend(-2.25, 0.4, legend = c(\"Least squares regression\", \"Population regression\"), col = c(\"red\", \"blue\"), \n",
    "       lty = c(2, 4), lwd = 2, cex = 0.8)"
   ]
  },
  {
   "cell_type": "markdown",
   "metadata": {},
   "source": [
    "I referred to [this tutorial](http://www.sthda.com/english/wiki/add-legends-to-plots-in-r-software-the-easiest-way) for help with producing the legend."
   ]
  },
  {
   "cell_type": "markdown",
   "metadata": {},
   "source": [
    "## Part 7\n",
    "**Now fit a polynomial regression model that predicts `y` using `x` and `x^2`. Is there evidence that the quadratic term improves the model fit? Explain your answer.**"
   ]
  },
  {
   "cell_type": "code",
   "execution_count": 56,
   "metadata": {},
   "outputs": [
    {
     "data": {
      "text/plain": [
       "\n",
       "Call:\n",
       "lm(formula = y ~ x + I(x^2))\n",
       "\n",
       "Residuals:\n",
       "     Min       1Q   Median       3Q      Max \n",
       "-0.98252 -0.31270 -0.06441  0.29014  1.13500 \n",
       "\n",
       "Coefficients:\n",
       "            Estimate Std. Error t value Pr(>|t|)    \n",
       "(Intercept) -0.97164    0.05883 -16.517  < 2e-16 ***\n",
       "x            0.50858    0.05399   9.420  2.4e-15 ***\n",
       "I(x^2)      -0.05946    0.04238  -1.403    0.164    \n",
       "---\n",
       "Signif. codes:  0 '***' 0.001 '**' 0.01 '*' 0.05 '.' 0.1 ' ' 1\n",
       "\n",
       "Residual standard error: 0.479 on 97 degrees of freedom\n",
       "Multiple R-squared:  0.4779,\tAdjusted R-squared:  0.4672 \n",
       "F-statistic:  44.4 on 2 and 97 DF,  p-value: 2.038e-14\n"
      ]
     },
     "metadata": {},
     "output_type": "display_data"
    }
   ],
   "source": [
    "quad.fit = lm(y ~ x + I(x^2))\n",
    "summary(quad.fit)"
   ]
  },
  {
   "cell_type": "markdown",
   "metadata": {},
   "source": [
    "While the polynomial regression model that predicts $Y$ using $X$ and $X^2$ has a slightly lower residual standard error value (0.479 vs. 0.481) and slightly higher $R^2$ value (0.4779 vs. 0.4674) compared to the linear model using just $X$, the p-value for the coefficient of $X^2$ is 0.164. This means that even though the inclusion of the quadratic term slightly improved the model fit in this situation, there isn't sufficient evidence to reject the null hypothesis $H_0: \\beta_2 = 0$. Thus, the improved model fit is likely a result of fitting more closely to the noise in the data from the presence of $\\epsilon$ in the true relationship."
   ]
  },
  {
   "cell_type": "markdown",
   "metadata": {},
   "source": [
    "## Part 8\n",
    "**Repeat Part 1-7 after modifying the data generation process in such a way that there is *less* noise in the data. The model described in Part 3 should remain the same. You can do this by decreasing the variance of the normal distribution used to generate the error term $\\epsilon$ in Part 2. Describe your results.**"
   ]
  },
  {
   "cell_type": "code",
   "execution_count": 57,
   "metadata": {},
   "outputs": [],
   "source": [
    "eps.less.noise = rnorm(100, mean = 0, sd = 0.25)\n",
    "y.less.noise = -1 + 0.5*x + eps.less.noise"
   ]
  },
  {
   "cell_type": "code",
   "execution_count": 58,
   "metadata": {},
   "outputs": [
    {
     "data": {
      "image/png": "[encoded data removed]",
      "text/plain": [
       "Plot with title \"Plot for data with less noise (variance = .0625)\""
      ]
     },
     "metadata": {},
     "output_type": "display_data"
    }
   ],
   "source": [
    "plot(x, y.less.noise, main = \"Plot for data with less noise (variance = .0625)\")"
   ]
  },
  {
   "cell_type": "markdown",
   "metadata": {},
   "source": [
    "Compared to the plot from Part 3, there is clearly less noise in the data. This results in the points being more tightly clustered around the line $Y = -1 + 0.5X$."
   ]
  },
  {
   "cell_type": "code",
   "execution_count": 59,
   "metadata": {},
   "outputs": [
    {
     "data": {
      "text/plain": [
       "\n",
       "Call:\n",
       "lm(formula = y.less.noise ~ x)\n",
       "\n",
       "Residuals:\n",
       "     Min       1Q   Median       3Q      Max \n",
       "-0.72853 -0.12058 -0.01133  0.16231  0.66039 \n",
       "\n",
       "Coefficients:\n",
       "            Estimate Std. Error t value Pr(>|t|)    \n",
       "(Intercept) -0.99316    0.02618  -37.94   <2e-16 ***\n",
       "x            0.50529    0.02907   17.38   <2e-16 ***\n",
       "---\n",
       "Signif. codes:  0 '***' 0.001 '**' 0.01 '*' 0.05 '.' 0.1 ' ' 1\n",
       "\n",
       "Residual standard error: 0.2598 on 98 degrees of freedom\n",
       "Multiple R-squared:  0.755,\tAdjusted R-squared:  0.7525 \n",
       "F-statistic:   302 on 1 and 98 DF,  p-value: < 2.2e-16\n"
      ]
     },
     "metadata": {},
     "output_type": "display_data"
    }
   ],
   "source": [
    "lm.fit.less.noise = lm(y.less.noise ~ x)\n",
    "summary(lm.fit.less.noise)"
   ]
  },
  {
   "cell_type": "markdown",
   "metadata": {},
   "source": [
    "The least squares regression model to predict `y` using `x` has the form $\\hat{Y} = -0.99316 + 0.50529X$, which is again is quite close to the true relationship $Y = -1 + 0.5X + \\epsilon$. The p-values of essentially zero for $\\beta_0$ and $\\beta_1$ provide strong evidence to reject the null hypotheses $H_0: \\beta_j = 0$ for $j = 1, 2$. We also note, that now $R^2 = 0.755$, which means that the linear regression model explains about 75% of the variation in $Y$ found in the less noisy data. This is a big improvement from the $R^2$ value of 0.4674 when using the original, noisier $Y$. In addition, the residual standard error value of 0.2598 is also an improvement over the value of 0.4814 from the original data."
   ]
  },
  {
   "cell_type": "code",
   "execution_count": 60,
   "metadata": {},
   "outputs": [
    {
     "data": {
      "image/png": "[encoded data removed]",
      "text/plain": [
       "Plot with title \"Plot for data with less noise (variance = .0625)\""
      ]
     },
     "metadata": {},
     "output_type": "display_data"
    }
   ],
   "source": [
    "plot(x, y.less.noise, main = \"Plot for data with less noise (variance = .0625)\")\n",
    "abline(lm.fit.less.noise, lwd = 2, lty = 2, col = \"red\")\n",
    "abline(a = -1, b = 0.5, lwd = 2, lty = 4, col = \"blue\")\n",
    "legend(-2.25, 0.4, legend = c(\"Least squares regression\", \"Population regression\"), col = c(\"red\", \"blue\"), \n",
    "       lty = c(2, 4), lwd = 2, cex = 0.8)"
   ]
  },
  {
   "cell_type": "code",
   "execution_count": 61,
   "metadata": {},
   "outputs": [
    {
     "data": {
      "text/plain": [
       "\n",
       "Call:\n",
       "lm(formula = y.less.noise ~ x + I(x^2))\n",
       "\n",
       "Residuals:\n",
       "     Min       1Q   Median       3Q      Max \n",
       "-0.73186 -0.12381 -0.00896  0.16489  0.66135 \n",
       "\n",
       "Coefficients:\n",
       "             Estimate Std. Error t value Pr(>|t|)    \n",
       "(Intercept) -0.989717   0.032069 -30.862   <2e-16 ***\n",
       "x            0.505956   0.029432  17.190   <2e-16 ***\n",
       "I(x^2)      -0.004334   0.023104  -0.188    0.852    \n",
       "---\n",
       "Signif. codes:  0 '***' 0.001 '**' 0.01 '*' 0.05 '.' 0.1 ' ' 1\n",
       "\n",
       "Residual standard error: 0.2611 on 97 degrees of freedom\n",
       "Multiple R-squared:  0.7551,\tAdjusted R-squared:  0.7501 \n",
       "F-statistic: 149.5 on 2 and 97 DF,  p-value: < 2.2e-16\n"
      ]
     },
     "metadata": {},
     "output_type": "display_data"
    }
   ],
   "source": [
    "quad.fit.less.noise = lm(y.less.noise ~ x + I(x^2))\n",
    "summary(quad.fit.less.noise)"
   ]
  },
  {
   "cell_type": "markdown",
   "metadata": {},
   "source": [
    "With less noisy data the polynomial regression model that predicts $Y$ using $X$ and $X^2$ has a slightly higher residual standard error value (0.2611 vs. 0.2598) compared to the linear model using just $X$. The two models have basically the same $R^2$ value of 0.755. The p-value for the coefficient of $X^2$ is 0.852, which is much higher than the value of 0.164 for the polynomial regression with the original data. This means that there is no real evidence that the inclusion of $X^2$ improved the model fit. In addition there isn't sufficient evidence to reject the null hypothesis $H_0: \\beta_2 = 0$. This makes sense since with less noise the data lies closer to the true linear relationship."
   ]
  },
  {
   "cell_type": "markdown",
   "metadata": {},
   "source": [
    "## Part 9\n",
    "**Repeat Part 1-7 after modifying the data generation process in such a way that there is *more* noise in the data. The model described in Part 3 should remain the same. You can do this by increasing the variance of the normal distribution used to generate the error term $\\epsilon$ in Part 2. Describe your results.**"
   ]
  },
  {
   "cell_type": "code",
   "execution_count": 66,
   "metadata": {},
   "outputs": [],
   "source": [
    "eps.more.noise = rnorm(100, mean = 0, sd = 1)\n",
    "y.more.noise = -1 + 0.5*x + eps.more.noise"
   ]
  },
  {
   "cell_type": "code",
   "execution_count": 69,
   "metadata": {},
   "outputs": [
    {
     "data": {
      "image/png": "[encoded data removed]",
      "text/plain": [
       "Plot with title \"Plot for data with more noise (variance = 1)\""
      ]
     },
     "metadata": {},
     "output_type": "display_data"
    }
   ],
   "source": [
    "plot(x, y.more.noise, main = \"Plot for data with more noise (variance = 1)\")"
   ]
  },
  {
   "cell_type": "markdown",
   "metadata": {},
   "source": [
    "Compared to the plot from Part 3, there is clearly more noise in the data. This results in the points being very spread out from the line $Y = -1 + 0.5X$. While there is a positive association between `x` and `y`, it would be quite difficult to determine the true values of $\\beta_0$ and $\\beta_1$ if we didn't already know them."
   ]
  },
  {
   "cell_type": "code",
   "execution_count": 68,
   "metadata": {},
   "outputs": [
    {
     "data": {
      "text/plain": [
       "\n",
       "Call:\n",
       "lm(formula = y.more.noise ~ x)\n",
       "\n",
       "Residuals:\n",
       "     Min       1Q   Median       3Q      Max \n",
       "-2.51626 -0.54525 -0.03776  0.67289  1.87887 \n",
       "\n",
       "Coefficients:\n",
       "            Estimate Std. Error t value Pr(>|t|)    \n",
       "(Intercept)  -0.9423     0.1003  -9.397 2.47e-15 ***\n",
       "x             0.4443     0.1114   3.989 0.000128 ***\n",
       "---\n",
       "Signif. codes:  0 '***' 0.001 '**' 0.01 '*' 0.05 '.' 0.1 ' ' 1\n",
       "\n",
       "Residual standard error: 0.9955 on 98 degrees of freedom\n",
       "Multiple R-squared:  0.1397,\tAdjusted R-squared:  0.1309 \n",
       "F-statistic: 15.91 on 1 and 98 DF,  p-value: 0.000128\n"
      ]
     },
     "metadata": {},
     "output_type": "display_data"
    }
   ],
   "source": [
    "lm.fit.more.noise = lm(y.more.noise ~ x)\n",
    "summary(lm.fit.more.noise)"
   ]
  },
  {
   "cell_type": "markdown",
   "metadata": {},
   "source": [
    "The least squares regression model to predict `y` using `x` has the form $\\hat{Y} = -0.9423 + 0.4443X$, which is still is fairly close to the true relationship $Y = -1 + 0.5X + \\epsilon$. The p-values of essentially zero for $\\beta_0$ and $\\beta_1$ provide strong evidence to reject the null hypotheses $H_0: \\beta_j = 0$ for $j = 1, 2$. We also note, that now $R^2 = 0.1397$, which means that the linear regression model only explains about 14% of the variation in $Y$ found in the less noisy data. This is a sharp decrease from the $R^2$ value of 0.4674 when using the original $Y$, which is less noisy. In addition, the residual standard error value of 0.9955 is larger compared to the value of 0.4814 from the original data."
   ]
  },
  {
   "cell_type": "code",
   "execution_count": 70,
   "metadata": {},
   "outputs": [
    {
     "data": {
      "image/png": "[encoded data removed]",
      "text/plain": [
       "Plot with title \"Plot for data with more noise (variance = 1)\""
      ]
     },
     "metadata": {},
     "output_type": "display_data"
    }
   ],
   "source": [
    "plot(x, y.more.noise, main = \"Plot for data with more noise (variance = 1)\")\n",
    "abline(lm.fit.more.noise, lwd = 2, lty = 2, col = \"red\")\n",
    "abline(a = -1, b = 0.5, lwd = 2, lty = 4, col = \"blue\")\n",
    "legend(-2.25, 0.4, legend = c(\"Least squares regression\", \"Population regression\"), col = c(\"red\", \"blue\"), \n",
    "       lty = c(2, 4), lwd = 2, cex = 0.8)"
   ]
  },
  {
   "cell_type": "code",
   "execution_count": 71,
   "metadata": {},
   "outputs": [
    {
     "data": {
      "text/plain": [
       "\n",
       "Call:\n",
       "lm(formula = y.more.noise ~ x + I(x^2))\n",
       "\n",
       "Residuals:\n",
       "     Min       1Q   Median       3Q      Max \n",
       "-2.40143 -0.61013 -0.06042  0.69430  1.87328 \n",
       "\n",
       "Coefficients:\n",
       "            Estimate Std. Error t value Pr(>|t|)    \n",
       "(Intercept) -0.79197    0.11995  -6.603 2.16e-09 ***\n",
       "x            0.47334    0.11008   4.300 4.07e-05 ***\n",
       "I(x^2)      -0.18941    0.08642  -2.192   0.0308 *  \n",
       "---\n",
       "Signif. codes:  0 '***' 0.001 '**' 0.01 '*' 0.05 '.' 0.1 ' ' 1\n",
       "\n",
       "Residual standard error: 0.9767 on 97 degrees of freedom\n",
       "Multiple R-squared:  0.1803,\tAdjusted R-squared:  0.1634 \n",
       "F-statistic: 10.67 on 2 and 97 DF,  p-value: 6.497e-05\n"
      ]
     },
     "metadata": {},
     "output_type": "display_data"
    }
   ],
   "source": [
    "quad.fit.more.noise = lm(y.more.noise ~ x + I(x^2))\n",
    "summary(quad.fit.more.noise)"
   ]
  },
  {
   "cell_type": "markdown",
   "metadata": {},
   "source": [
    "With more noisy data the polynomial regression model that predicts $Y$ using $X$ and $X^2$ has a slightly lower residual standard error value (0.9767 vs. 0.9955) and a somewhat higher $R^2$ value (0.1803 vs. 0.1397) compared to the linear model using just $X$. This means that there is some evidence that the inclusion of $X^2$ improved the model fit. However, since we know that the true relationship is linear and just has a lot of noise, the improvements are coming from the fact that the improved flexibility with including $X^2$ allows the model to follow the noise more closely. The p-value for the coefficient of $X^2$ is 0.0308, which is much lower than the value of 0.164 for the polynomial regression with the original data. In fact, that value is sufficient evidence to reject the null hypothesis $H_0: \\beta_2 = 0$, at least at the 5% significance level."
   ]
  },
  {
   "cell_type": "markdown",
   "metadata": {},
   "source": [
    "## Part 10\n",
    "**What are the confidence intervals for $\\beta_0$ and $\\beta_1$ based on the original data set, the noisier data set, and the less noisy data set? Comment on your results.**"
   ]
  },
  {
   "cell_type": "code",
   "execution_count": 63,
   "metadata": {},
   "outputs": [
    {
     "data": {
      "text/html": [
       "<table>\n",
       "<thead><tr><th></th><th scope=col>2.5 %</th><th scope=col>97.5 %</th></tr></thead>\n",
       "<tbody>\n",
       "\t<tr><th scope=row>(Intercept)</th><td>-1.0451032</td><td>-0.9412124</td></tr>\n",
       "\t<tr><th scope=row>x</th><td> 0.4475942</td><td> 0.5629892</td></tr>\n",
       "</tbody>\n",
       "</table>\n"
      ],
      "text/latex": [
       "\\begin{tabular}{r|ll}\n",
       "  & 2.5 \\% & 97.5 \\%\\\\\n",
       "\\hline\n",
       "\t(Intercept) & -1.0451032 & -0.9412124\\\\\n",
       "\tx &  0.4475942 &  0.5629892\\\\\n",
       "\\end{tabular}\n"
      ],
      "text/markdown": [
       "\n",
       "| <!--/--> | 2.5 % | 97.5 % |\n",
       "|---|---|---|\n",
       "| (Intercept) | -1.0451032 | -0.9412124 |\n",
       "| x |  0.4475942 |  0.5629892 |\n",
       "\n"
      ],
      "text/plain": [
       "            2.5 %      97.5 %    \n",
       "(Intercept) -1.0451032 -0.9412124\n",
       "x            0.4475942  0.5629892"
      ]
     },
     "metadata": {},
     "output_type": "display_data"
    }
   ],
   "source": [
    "confint(lm.fit.less.noise)"
   ]
  },
  {
   "cell_type": "code",
   "execution_count": 62,
   "metadata": {},
   "outputs": [
    {
     "data": {
      "text/html": [
       "<table>\n",
       "<thead><tr><th></th><th scope=col>2.5 %</th><th scope=col>97.5 %</th></tr></thead>\n",
       "<tbody>\n",
       "\t<tr><th scope=row>(Intercept)</th><td>-1.1150804</td><td>-0.9226122</td></tr>\n",
       "\t<tr><th scope=row>x</th><td> 0.3925794</td><td> 0.6063602</td></tr>\n",
       "</tbody>\n",
       "</table>\n"
      ],
      "text/latex": [
       "\\begin{tabular}{r|ll}\n",
       "  & 2.5 \\% & 97.5 \\%\\\\\n",
       "\\hline\n",
       "\t(Intercept) & -1.1150804 & -0.9226122\\\\\n",
       "\tx &  0.3925794 &  0.6063602\\\\\n",
       "\\end{tabular}\n"
      ],
      "text/markdown": [
       "\n",
       "| <!--/--> | 2.5 % | 97.5 % |\n",
       "|---|---|---|\n",
       "| (Intercept) | -1.1150804 | -0.9226122 |\n",
       "| x |  0.3925794 |  0.6063602 |\n",
       "\n"
      ],
      "text/plain": [
       "            2.5 %      97.5 %    \n",
       "(Intercept) -1.1150804 -0.9226122\n",
       "x            0.3925794  0.6063602"
      ]
     },
     "metadata": {},
     "output_type": "display_data"
    }
   ],
   "source": [
    "confint(lm.fit.orig)"
   ]
  },
  {
   "cell_type": "code",
   "execution_count": 72,
   "metadata": {},
   "outputs": [
    {
     "data": {
      "text/html": [
       "<table>\n",
       "<thead><tr><th></th><th scope=col>2.5 %</th><th scope=col>97.5 %</th></tr></thead>\n",
       "<tbody>\n",
       "\t<tr><th scope=row>(Intercept)</th><td>-1.1413399</td><td>-0.7433293</td></tr>\n",
       "\t<tr><th scope=row>x</th><td> 0.2232721</td><td> 0.6653558</td></tr>\n",
       "</tbody>\n",
       "</table>\n"
      ],
      "text/latex": [
       "\\begin{tabular}{r|ll}\n",
       "  & 2.5 \\% & 97.5 \\%\\\\\n",
       "\\hline\n",
       "\t(Intercept) & -1.1413399 & -0.7433293\\\\\n",
       "\tx &  0.2232721 &  0.6653558\\\\\n",
       "\\end{tabular}\n"
      ],
      "text/markdown": [
       "\n",
       "| <!--/--> | 2.5 % | 97.5 % |\n",
       "|---|---|---|\n",
       "| (Intercept) | -1.1413399 | -0.7433293 |\n",
       "| x |  0.2232721 |  0.6653558 |\n",
       "\n"
      ],
      "text/plain": [
       "            2.5 %      97.5 %    \n",
       "(Intercept) -1.1413399 -0.7433293\n",
       "x            0.2232721  0.6653558"
      ]
     },
     "metadata": {},
     "output_type": "display_data"
    }
   ],
   "source": [
    "confint(lm.fit.more.noise)"
   ]
  },
  {
   "cell_type": "markdown",
   "metadata": {},
   "source": [
    "As we go from less noise from more noise, the confidence intervals for $\\beta_0$ and $\\beta_1$ become wider and wider."
   ]
  },
  {
   "cell_type": "markdown",
   "metadata": {},
   "source": [
    "# Applied Exercise 7\n",
    "**This problem focuses on the *collinearity* problem.**"
   ]
  },
  {
   "cell_type": "markdown",
   "metadata": {},
   "source": [
    "## Part 1\n",
    "**Perform the following commands in `R`:**\n",
    "\n",
    "```\n",
    "> set.seed(1)\n",
    "> x1 = runif(100)\n",
    "> x2 = 0.5*x1 + rnorm(100)/10\n",
    "> y = 2 + 2*x1 + 0.3*x2 + rnorm(100)\n",
    "```\n",
    "\n",
    "**The last line corresponds to creating a linear model in which `y` is a function of `x1` and `x2`. Write out the form of the linear model. What are the regression coefficients?**"
   ]
  },
  {
   "cell_type": "code",
   "execution_count": 1,
   "metadata": {},
   "outputs": [],
   "source": [
    "set.seed(1)\n",
    "x1 = runif(100)\n",
    "x2 = 0.5*x1 + rnorm(100)/10\n",
    "y = 2 + 2*x1 + 0.3*x2 + rnorm(100)"
   ]
  },
  {
   "cell_type": "markdown",
   "metadata": {},
   "source": [
    "The linear model has the form $Y = \\beta_0 + \\beta_1X_1 + \\beta_2X_2 + \\epsilon$, where the regression coefficients are $\\beta_0 = 2$, $\\beta_1 = 2$, and $\\beta_2 = 0.3$."
   ]
  },
  {
   "cell_type": "markdown",
   "metadata": {},
   "source": [
    "## Part 2\n",
    "**What is the correlation between `x1` and `x2`? Create a scatterplot displaying the relationship between the variables.**"
   ]
  },
  {
   "cell_type": "code",
   "execution_count": 2,
   "metadata": {},
   "outputs": [
    {
     "data": {
      "text/html": [
       "0.835121242463113"
      ],
      "text/latex": [
       "0.835121242463113"
      ],
      "text/markdown": [
       "0.835121242463113"
      ],
      "text/plain": [
       "[1] 0.8351212"
      ]
     },
     "metadata": {},
     "output_type": "display_data"
    }
   ],
   "source": [
    "cor(x1, x2)"
   ]
  },
  {
   "cell_type": "markdown",
   "metadata": {},
   "source": [
    "The correlation between `x1` and `x2` is approximately 0.835."
   ]
  },
  {
   "cell_type": "code",
   "execution_count": 3,
   "metadata": {},
   "outputs": [
    {
     "data": {
      "image/png": "[encoded data removed]",
      "text/plain": [
       "plot without title"
      ]
     },
     "metadata": {},
     "output_type": "display_data"
    }
   ],
   "source": [
    "plot(x1, x2)"
   ]
  },
  {
   "cell_type": "markdown",
   "metadata": {},
   "source": [
    "## Part 3\n",
    "**Using this data, fit a least squares regression to predict `y` using `x1` and `x2`. Describe the results obtained. What are $\\hat{\\beta}_0$, $\\hat{\\beta}_1$, and $\\hat{\\beta}_2$? How do these relate to the true $\\beta_0$, $\\beta_1$, and $\\beta_2$? Can you reject the null hypothesis $H_0: \\beta_1 = 0$? How about the null hypothesis $H_0: \\beta_2 = 0$?**"
   ]
  },
  {
   "cell_type": "code",
   "execution_count": 4,
   "metadata": {},
   "outputs": [
    {
     "data": {
      "text/plain": [
       "\n",
       "Call:\n",
       "lm(formula = y ~ x1 + x2)\n",
       "\n",
       "Residuals:\n",
       "    Min      1Q  Median      3Q     Max \n",
       "-2.8311 -0.7273 -0.0537  0.6338  2.3359 \n",
       "\n",
       "Coefficients:\n",
       "            Estimate Std. Error t value Pr(>|t|)    \n",
       "(Intercept)   2.1305     0.2319   9.188 7.61e-15 ***\n",
       "x1            1.4396     0.7212   1.996   0.0487 *  \n",
       "x2            1.0097     1.1337   0.891   0.3754    \n",
       "---\n",
       "Signif. codes:  0 '***' 0.001 '**' 0.01 '*' 0.05 '.' 0.1 ' ' 1\n",
       "\n",
       "Residual standard error: 1.056 on 97 degrees of freedom\n",
       "Multiple R-squared:  0.2088,\tAdjusted R-squared:  0.1925 \n",
       "F-statistic:  12.8 on 2 and 97 DF,  p-value: 1.164e-05\n"
      ]
     },
     "metadata": {},
     "output_type": "display_data"
    }
   ],
   "source": [
    "fit_exc_7_3 = lm(y~x1 + x2)\n",
    "summary(fit_exc_7_3)"
   ]
  },
  {
   "cell_type": "markdown",
   "metadata": {},
   "source": [
    "After fitting a least squares regression to predict `y` using `x1` and `x2`, we get a model of the form $\\hat{Y} = 2.1305 + 1.4396X_1 + 1.0097X_2$. In other words, $\\hat{\\beta}_0 = 2.1305$, $\\hat{\\beta}_1 = 1.4396$, and $\\hat{\\beta}_2 = 1.0097$. While $\\hat{\\beta}_0$ is a fairly reasonable estimate for the true value of $\\beta_0 = 2$, the estimates for the other coefficient values aren't as good. The value of $\\hat{\\beta}_1$ is within about 28% of the true value of $\\beta_1$, while the value of $\\hat{\\beta}_2$ is much further off, being more than triple the true value of $\\beta_2$. With a p-value of 0.0487 for $\\hat{\\beta}_1$, we can just barely reject the null hypothesis $H_0: \\beta_1 = 0$ at the 5% significance level. We cannot, however, reject the null hypothesis $H_0: \\beta_2 = 0$, as the p-value for $\\hat{\\beta}_2$ is 0.3754."
   ]
  },
  {
   "cell_type": "markdown",
   "metadata": {},
   "source": [
    "## Part 4\n",
    "**Now fit a least squares regression to predict `y` using only `x1`. Comment on your results. Can you reject the null hypothesis $H_0: \\beta_1 = 0$?**"
   ]
  },
  {
   "cell_type": "code",
   "execution_count": 5,
   "metadata": {},
   "outputs": [
    {
     "data": {
      "text/plain": [
       "\n",
       "Call:\n",
       "lm(formula = y ~ x1)\n",
       "\n",
       "Residuals:\n",
       "     Min       1Q   Median       3Q      Max \n",
       "-2.89495 -0.66874 -0.07785  0.59221  2.45560 \n",
       "\n",
       "Coefficients:\n",
       "            Estimate Std. Error t value Pr(>|t|)    \n",
       "(Intercept)   2.1124     0.2307   9.155 8.27e-15 ***\n",
       "x1            1.9759     0.3963   4.986 2.66e-06 ***\n",
       "---\n",
       "Signif. codes:  0 '***' 0.001 '**' 0.01 '*' 0.05 '.' 0.1 ' ' 1\n",
       "\n",
       "Residual standard error: 1.055 on 98 degrees of freedom\n",
       "Multiple R-squared:  0.2024,\tAdjusted R-squared:  0.1942 \n",
       "F-statistic: 24.86 on 1 and 98 DF,  p-value: 2.661e-06\n"
      ]
     },
     "metadata": {},
     "output_type": "display_data"
    }
   ],
   "source": [
    "fit_exc_7_4 = lm(y~x1)\n",
    "summary(fit_exc_7_4)"
   ]
  },
  {
   "cell_type": "markdown",
   "metadata": {},
   "source": [
    "When we fit a model predicting `y` using only `x1`, we get a model of the form $\\hat{Y} = 2.1124 + 1.9759X_1$. Here the values of $\\hat{\\beta}_0 = 2.1124$ and $\\hat{\\beta}_1 = 1.9759$ are much closer to the actual values of $\\beta_0$ and $\\beta_1$. Moreover, since the standard error for $\\hat{\\beta}_1$ has almost been cut in half, dropping from 0.7212 in Part 3 to 0.3963, the p-value has reduced dramatically to essentially zero. This provides much stronger evidence for rejecting the null hypothesis $H_0: \\beta_1 = 0$."
   ]
  },
  {
   "cell_type": "markdown",
   "metadata": {},
   "source": [
    "## Part 5\n",
    "**Now fit a least squares regression to predict `y` using only `x2`. Comment on your results. Can you reject the null hypothesis $H_0: \\beta_2 = 0$?**"
   ]
  },
  {
   "cell_type": "code",
   "execution_count": 6,
   "metadata": {},
   "outputs": [
    {
     "data": {
      "text/plain": [
       "\n",
       "Call:\n",
       "lm(formula = y ~ x2)\n",
       "\n",
       "Residuals:\n",
       "     Min       1Q   Median       3Q      Max \n",
       "-2.62687 -0.75156 -0.03598  0.72383  2.44890 \n",
       "\n",
       "Coefficients:\n",
       "            Estimate Std. Error t value Pr(>|t|)    \n",
       "(Intercept)   2.3899     0.1949   12.26  < 2e-16 ***\n",
       "x2            2.8996     0.6330    4.58 1.37e-05 ***\n",
       "---\n",
       "Signif. codes:  0 '***' 0.001 '**' 0.01 '*' 0.05 '.' 0.1 ' ' 1\n",
       "\n",
       "Residual standard error: 1.072 on 98 degrees of freedom\n",
       "Multiple R-squared:  0.1763,\tAdjusted R-squared:  0.1679 \n",
       "F-statistic: 20.98 on 1 and 98 DF,  p-value: 1.366e-05\n"
      ]
     },
     "metadata": {},
     "output_type": "display_data"
    }
   ],
   "source": [
    "fit_exc_7_5 = lm(y~x2)\n",
    "summary(fit_exc_7_5)"
   ]
  },
  {
   "cell_type": "markdown",
   "metadata": {},
   "source": [
    "When we fit a model predicting `y` using only `x2`, we get a model of the form $\\hat{Y} = 2.3899 + 2.8996X_2$. Here, while the value of $\\hat{\\beta}_0 = 2.3899$ isn't too far off from the actual value of $\\beta_0$, the value of $\\hat{\\beta}_2 = 2.8996$ is six times the true value of $\\beta_2$. However, since the standard error for $\\hat{\\beta}_2$ has almost been cut in half, dropping from 1.1337 in Part 3 to 0.6330, the p-value has reduced dramatically to essentially zero. This provides strong evidence for rejecting the null hypothesis $H_0: \\beta_2 = 0$."
   ]
  },
  {
   "cell_type": "markdown",
   "metadata": {},
   "source": [
    "## Part 6\n",
    "**Do the results obtained in Part 3-5 contradict each other? Explain your answer.**"
   ]
  },
  {
   "cell_type": "markdown",
   "metadata": {},
   "source": [
    "Even though in Part 3 we didn't have enough evidence to reject the null hypothesis $H_0: \\beta_2 = 0$, but had strong evidence to do so in Part 5, the results from Part 3-5 do not contradict each other. This is due to the strong collinearity between `x1` and `x2`, which increases the standard error for coeffiecient estimates in least squares regression to grow. This in turn reduces the *power* of the hypothesis test, which in this context is the probability of correctly detecting that the true values of $\\beta_1$ and $\\beta_2$ are non-zero. We recall that failing to reject the null hypothesis $H_0: \\beta_j = 0$ doesn't mean that the $\\beta_j = 0$ in the actual model. It simply means that there isn't enough evidence to confidently conclude $\\beta_j \\neq 0$ with the data we have available to us."
   ]
  },
  {
   "cell_type": "markdown",
   "metadata": {},
   "source": [
    "## Part 7\n",
    "**Now suppose we obtain one additional observation, which was unfortunately mismeasured.**\n",
    "\n",
    "```\n",
    "> x1 = c(x1, 0.1)\n",
    "> x2 = c(x2, 0.8)\n",
    "> y = c(y, 6)\n",
    "```\n",
    "\n",
    "**Re-fit the linear models from Part 3-5 using this new data. What effect does this new observation have on each of the models? In each model is this observation an outlier? A high-leverage point? Both? Explain your answers.**"
   ]
  },
  {
   "cell_type": "code",
   "execution_count": 7,
   "metadata": {},
   "outputs": [],
   "source": [
    "x1 = c(x1, 0.1)\n",
    "x2 = c(x2, 0.8)\n",
    "y = c(y, 6)"
   ]
  },
  {
   "cell_type": "code",
   "execution_count": 8,
   "metadata": {},
   "outputs": [
    {
     "data": {
      "text/html": [
       "0.739227891183341"
      ],
      "text/latex": [
       "0.739227891183341"
      ],
      "text/markdown": [
       "0.739227891183341"
      ],
      "text/plain": [
       "[1] 0.7392279"
      ]
     },
     "metadata": {},
     "output_type": "display_data"
    }
   ],
   "source": [
    "cor(x1, x2)"
   ]
  },
  {
   "cell_type": "code",
   "execution_count": 10,
   "metadata": {},
   "outputs": [
    {
     "data": {
      "text/plain": [
       "\n",
       "Call:\n",
       "lm(formula = y ~ x1 + x2)\n",
       "\n",
       "Residuals:\n",
       "     Min       1Q   Median       3Q      Max \n",
       "-2.73348 -0.69318 -0.05263  0.66385  2.30619 \n",
       "\n",
       "Coefficients:\n",
       "            Estimate Std. Error t value Pr(>|t|)    \n",
       "(Intercept)   2.2267     0.2314   9.624 7.91e-16 ***\n",
       "x1            0.5394     0.5922   0.911  0.36458    \n",
       "x2            2.5146     0.8977   2.801  0.00614 ** \n",
       "---\n",
       "Signif. codes:  0 '***' 0.001 '**' 0.01 '*' 0.05 '.' 0.1 ' ' 1\n",
       "\n",
       "Residual standard error: 1.075 on 98 degrees of freedom\n",
       "Multiple R-squared:  0.2188,\tAdjusted R-squared:  0.2029 \n",
       "F-statistic: 13.72 on 2 and 98 DF,  p-value: 5.564e-06\n"
      ]
     },
     "metadata": {},
     "output_type": "display_data"
    }
   ],
   "source": [
    "fit_exc_7_7_both = lm(y~x1 + x2)\n",
    "summary(fit_exc_7_7_both)"
   ]
  },
  {
   "cell_type": "code",
   "execution_count": 12,
   "metadata": {},
   "outputs": [
    {
     "data": {
      "text/html": [
       "<strong>101:</strong> 2.11347928285572"
      ],
      "text/latex": [
       "\\textbf{101:} 2.11347928285572"
      ],
      "text/markdown": [
       "**101:** 2.11347928285572"
      ],
      "text/plain": [
       "     101 \n",
       "2.113479 "
      ]
     },
     "metadata": {},
     "output_type": "display_data"
    }
   ],
   "source": [
    "rstudent(fit_exc_7_7_both)[101]"
   ]
  },
  {
   "cell_type": "code",
   "execution_count": 13,
   "metadata": {},
   "outputs": [
    {
     "data": {
      "text/html": [
       "<strong>101:</strong> 0.414728374851287"
      ],
      "text/latex": [
       "\\textbf{101:} 0.414728374851287"
      ],
      "text/markdown": [
       "**101:** 0.414728374851287"
      ],
      "text/plain": [
       "      101 \n",
       "0.4147284 "
      ]
     },
     "metadata": {},
     "output_type": "display_data"
    }
   ],
   "source": [
    "hatvalues(fit_exc_7_7_both)[101]"
   ]
  },
  {
   "cell_type": "markdown",
   "metadata": {},
   "source": [
    "For the model involving both `x1` and `x2`, adding the new observation, while not really affecting the value of $\\hat{\\beta}_0$, had a large effect on the values of $\\hat{\\beta}_1$ and $\\hat{\\beta}_2$. The original regression model from Part 3 was $\\hat{Y} = 2.1305 + 1.4396X_1 + 1.0097X_2$, with p-values of 0.0487 for $\\hat{\\beta}_1$ and 0.3754 for $\\hat{\\beta_2}$. After including the the new observation, the model is $\\hat{Y} = 2.2267 + 0.5394X_1 + 2.5146X_2$, with p-values of 0.36458 for $\\hat{\\beta}_1$ and 0.00614 for $\\hat{\\beta}_2$. On top of $\\hat{\\beta}_1$ being cut down to a third and $\\hat{\\beta}_2$ being multiplied by a factor of 2.5 of their values from Part 3, there is now no longer evidence to reject the null hypothesis $H_0: \\beta_1 = 0$ while there is fairly strong evidence to reject the null hypothesis $H_0: \\beta_2 = 0$ (enough to reject at the 1% level). In this model, the new observation has a studentized residual of 2.1135. This falls short of our threshold of 3 to strongly consider the value an outlier, but it is still large enough that I would consider it somewhat borderline. The leverage value of this new observation is 0.4147, which is quite high compared to the average value of $(p + 1)/n = 3/101 = 0.0297$. Thus, I would consider the new observation to be one with high leverage and also large studentized residual (though not large enough to be strongly considered an outlier)."
   ]
  },
  {
   "cell_type": "code",
   "execution_count": 14,
   "metadata": {},
   "outputs": [
    {
     "data": {
      "text/plain": [
       "\n",
       "Call:\n",
       "lm(formula = y ~ x1)\n",
       "\n",
       "Residuals:\n",
       "    Min      1Q  Median      3Q     Max \n",
       "-2.8897 -0.6556 -0.0909  0.5682  3.5665 \n",
       "\n",
       "Coefficients:\n",
       "            Estimate Std. Error t value Pr(>|t|)    \n",
       "(Intercept)   2.2569     0.2390   9.445 1.78e-15 ***\n",
       "x1            1.7657     0.4124   4.282 4.29e-05 ***\n",
       "---\n",
       "Signif. codes:  0 '***' 0.001 '**' 0.01 '*' 0.05 '.' 0.1 ' ' 1\n",
       "\n",
       "Residual standard error: 1.111 on 99 degrees of freedom\n",
       "Multiple R-squared:  0.1562,\tAdjusted R-squared:  0.1477 \n",
       "F-statistic: 18.33 on 1 and 99 DF,  p-value: 4.295e-05\n"
      ]
     },
     "metadata": {},
     "output_type": "display_data"
    }
   ],
   "source": [
    "fit_exc_7_7_x1 = lm(y~x1)\n",
    "summary(fit_exc_7_7_x1)"
   ]
  },
  {
   "cell_type": "code",
   "execution_count": 15,
   "metadata": {},
   "outputs": [
    {
     "data": {
      "text/html": [
       "<strong>101:</strong> 3.43840509929676"
      ],
      "text/latex": [
       "\\textbf{101:} 3.43840509929676"
      ],
      "text/markdown": [
       "**101:** 3.43840509929676"
      ],
      "text/plain": [
       "     101 \n",
       "3.438405 "
      ]
     },
     "metadata": {},
     "output_type": "display_data"
    }
   ],
   "source": [
    "rstudent(fit_exc_7_7_x1)[101]"
   ]
  },
  {
   "cell_type": "code",
   "execution_count": 16,
   "metadata": {},
   "outputs": [
    {
     "data": {
      "text/html": [
       "<strong>101:</strong> 0.0334715564184906"
      ],
      "text/latex": [
       "\\textbf{101:} 0.0334715564184906"
      ],
      "text/markdown": [
       "**101:** 0.0334715564184906"
      ],
      "text/plain": [
       "       101 \n",
       "0.03347156 "
      ]
     },
     "metadata": {},
     "output_type": "display_data"
    }
   ],
   "source": [
    "hatvalues(fit_exc_7_7_x1)[101]"
   ]
  },
  {
   "cell_type": "markdown",
   "metadata": {},
   "source": [
    "For the model involving only `x1`, adding the new observation, while changing the model from $\\hat{Y} = 2.1124 + 1.9759X_1$ to $\\hat{Y} = 2.2569 + 1.7657X_1$, didn't result in the same drastic change that we saw in the model involving both `x1` and `x2`. While the new observation, with a studentized residual of 3.4384 is a clear outlier, its leverage value of 0.03347 is right in line with the average leverage value of 0.0297 for all observations. That means the new observation is an outlier, but not a high leverage point."
   ]
  },
  {
   "cell_type": "code",
   "execution_count": 17,
   "metadata": {},
   "outputs": [
    {
     "data": {
      "text/plain": [
       "\n",
       "Call:\n",
       "lm(formula = y ~ x2)\n",
       "\n",
       "Residuals:\n",
       "     Min       1Q   Median       3Q      Max \n",
       "-2.64729 -0.71021 -0.06899  0.72699  2.38074 \n",
       "\n",
       "Coefficients:\n",
       "            Estimate Std. Error t value Pr(>|t|)    \n",
       "(Intercept)   2.3451     0.1912  12.264  < 2e-16 ***\n",
       "x2            3.1190     0.6040   5.164 1.25e-06 ***\n",
       "---\n",
       "Signif. codes:  0 '***' 0.001 '**' 0.01 '*' 0.05 '.' 0.1 ' ' 1\n",
       "\n",
       "Residual standard error: 1.074 on 99 degrees of freedom\n",
       "Multiple R-squared:  0.2122,\tAdjusted R-squared:  0.2042 \n",
       "F-statistic: 26.66 on 1 and 99 DF,  p-value: 1.253e-06\n"
      ]
     },
     "metadata": {},
     "output_type": "display_data"
    }
   ],
   "source": [
    "fit_exc_7_7_x2 = lm(y~x2)\n",
    "summary(fit_exc_7_7_x2)"
   ]
  },
  {
   "cell_type": "code",
   "execution_count": 18,
   "metadata": {},
   "outputs": [
    {
     "data": {
      "text/html": [
       "<strong>101:</strong> 1.1409642809689"
      ],
      "text/latex": [
       "\\textbf{101:} 1.1409642809689"
      ],
      "text/markdown": [
       "**101:** 1.1409642809689"
      ],
      "text/plain": [
       "     101 \n",
       "1.140964 "
      ]
     },
     "metadata": {},
     "output_type": "display_data"
    }
   ],
   "source": [
    "rstudent(fit_exc_7_7_x2)[101]"
   ]
  },
  {
   "cell_type": "code",
   "execution_count": 19,
   "metadata": {},
   "outputs": [
    {
     "data": {
      "text/html": [
       "<strong>101:</strong> 0.101310601994004"
      ],
      "text/latex": [
       "\\textbf{101:} 0.101310601994004"
      ],
      "text/markdown": [
       "**101:** 0.101310601994004"
      ],
      "text/plain": [
       "      101 \n",
       "0.1013106 "
      ]
     },
     "metadata": {},
     "output_type": "display_data"
    }
   ],
   "source": [
    "hatvalues(fit_exc_7_7_x2)[101]"
   ]
  },
  {
   "cell_type": "markdown",
   "metadata": {},
   "source": [
    "Similar to the model involving only `x1`, adding the new observation to the model involving `x2` didn't greatly change the coefficients from their values in Part 5. It only changed from $\\hat{Y} = 2.3899 + 2.8996X_2$ to $\\hat{Y} = 2.3451 + 3.1190X_2$, which again isn't the same drastic change that we saw in the model involving both `x1` and `x2`. While the new observation, with a studentized residual of 1.1410 is not an outlier, its leverage value of 0.1013 is more than triple the average leverage value of 0.0297 for all observations. That means the new observation not an outlier, but it is a high leverage point."
   ]
  },
  {
   "cell_type": "markdown",
   "metadata": {},
   "source": [
    "# Applied Exercise 8\n",
    "**This problem involves the `Boston` data set, which we saw in the lab for this chapter. We will now try to predict per capita crime rate using the other variables in this data set. In other words, per capita crime rate is the response, and the other variables are the predictors.**"
   ]
  },
  {
   "cell_type": "markdown",
   "metadata": {},
   "source": [
    "To have consistency with my results for when I do these exercises in Python, I'll use the corrected Boston housing data set instead of the one that is part of the `MASS` library."
   ]
  },
  {
   "cell_type": "code",
   "execution_count": 1,
   "metadata": {},
   "outputs": [
    {
     "data": {
      "text/html": [
       "<table>\n",
       "<thead><tr><th scope=col>CMEDV</th><th scope=col>CRIM</th><th scope=col>ZN</th><th scope=col>INDUS</th><th scope=col>CHAS</th><th scope=col>NOX</th><th scope=col>RM</th><th scope=col>AGE</th><th scope=col>DIS</th><th scope=col>RAD</th><th scope=col>TAX</th><th scope=col>PTRATIO</th><th scope=col>B</th><th scope=col>LSTAT</th></tr></thead>\n",
       "<tbody>\n",
       "\t<tr><td>24.0   </td><td>0.00632</td><td>18     </td><td>2.31   </td><td>0      </td><td>0.538  </td><td>6.575  </td><td>65.2   </td><td>4.0900 </td><td>1      </td><td>296    </td><td>15.3   </td><td>396.90 </td><td>4.98   </td></tr>\n",
       "\t<tr><td>21.6   </td><td>0.02731</td><td> 0     </td><td>7.07   </td><td>0      </td><td>0.469  </td><td>6.421  </td><td>78.9   </td><td>4.9671 </td><td>2      </td><td>242    </td><td>17.8   </td><td>396.90 </td><td>9.14   </td></tr>\n",
       "\t<tr><td>34.7   </td><td>0.02729</td><td> 0     </td><td>7.07   </td><td>0      </td><td>0.469  </td><td>7.185  </td><td>61.1   </td><td>4.9671 </td><td>2      </td><td>242    </td><td>17.8   </td><td>392.83 </td><td>4.03   </td></tr>\n",
       "\t<tr><td>33.4   </td><td>0.03237</td><td> 0     </td><td>2.18   </td><td>0      </td><td>0.458  </td><td>6.998  </td><td>45.8   </td><td>6.0622 </td><td>3      </td><td>222    </td><td>18.7   </td><td>394.63 </td><td>2.94   </td></tr>\n",
       "\t<tr><td>36.2   </td><td>0.06905</td><td> 0     </td><td>2.18   </td><td>0      </td><td>0.458  </td><td>7.147  </td><td>54.2   </td><td>6.0622 </td><td>3      </td><td>222    </td><td>18.7   </td><td>396.90 </td><td>5.33   </td></tr>\n",
       "\t<tr><td>28.7   </td><td>0.02985</td><td> 0     </td><td>2.18   </td><td>0      </td><td>0.458  </td><td>6.430  </td><td>58.7   </td><td>6.0622 </td><td>3      </td><td>222    </td><td>18.7   </td><td>394.12 </td><td>5.21   </td></tr>\n",
       "</tbody>\n",
       "</table>\n"
      ],
      "text/latex": [
       "\\begin{tabular}{r|llllllllllllll}\n",
       " CMEDV & CRIM & ZN & INDUS & CHAS & NOX & RM & AGE & DIS & RAD & TAX & PTRATIO & B & LSTAT\\\\\n",
       "\\hline\n",
       "\t 24.0    & 0.00632 & 18      & 2.31    & 0       & 0.538   & 6.575   & 65.2    & 4.0900  & 1       & 296     & 15.3    & 396.90  & 4.98   \\\\\n",
       "\t 21.6    & 0.02731 &  0      & 7.07    & 0       & 0.469   & 6.421   & 78.9    & 4.9671  & 2       & 242     & 17.8    & 396.90  & 9.14   \\\\\n",
       "\t 34.7    & 0.02729 &  0      & 7.07    & 0       & 0.469   & 7.185   & 61.1    & 4.9671  & 2       & 242     & 17.8    & 392.83  & 4.03   \\\\\n",
       "\t 33.4    & 0.03237 &  0      & 2.18    & 0       & 0.458   & 6.998   & 45.8    & 6.0622  & 3       & 222     & 18.7    & 394.63  & 2.94   \\\\\n",
       "\t 36.2    & 0.06905 &  0      & 2.18    & 0       & 0.458   & 7.147   & 54.2    & 6.0622  & 3       & 222     & 18.7    & 396.90  & 5.33   \\\\\n",
       "\t 28.7    & 0.02985 &  0      & 2.18    & 0       & 0.458   & 6.430   & 58.7    & 6.0622  & 3       & 222     & 18.7    & 394.12  & 5.21   \\\\\n",
       "\\end{tabular}\n"
      ],
      "text/markdown": [
       "\n",
       "| CMEDV | CRIM | ZN | INDUS | CHAS | NOX | RM | AGE | DIS | RAD | TAX | PTRATIO | B | LSTAT |\n",
       "|---|---|---|---|---|---|---|---|---|---|---|---|---|---|\n",
       "| 24.0    | 0.00632 | 18      | 2.31    | 0       | 0.538   | 6.575   | 65.2    | 4.0900  | 1       | 296     | 15.3    | 396.90  | 4.98    |\n",
       "| 21.6    | 0.02731 |  0      | 7.07    | 0       | 0.469   | 6.421   | 78.9    | 4.9671  | 2       | 242     | 17.8    | 396.90  | 9.14    |\n",
       "| 34.7    | 0.02729 |  0      | 7.07    | 0       | 0.469   | 7.185   | 61.1    | 4.9671  | 2       | 242     | 17.8    | 392.83  | 4.03    |\n",
       "| 33.4    | 0.03237 |  0      | 2.18    | 0       | 0.458   | 6.998   | 45.8    | 6.0622  | 3       | 222     | 18.7    | 394.63  | 2.94    |\n",
       "| 36.2    | 0.06905 |  0      | 2.18    | 0       | 0.458   | 7.147   | 54.2    | 6.0622  | 3       | 222     | 18.7    | 396.90  | 5.33    |\n",
       "| 28.7    | 0.02985 |  0      | 2.18    | 0       | 0.458   | 6.430   | 58.7    | 6.0622  | 3       | 222     | 18.7    | 394.12  | 5.21    |\n",
       "\n"
      ],
      "text/plain": [
       "  CMEDV CRIM    ZN INDUS CHAS NOX   RM    AGE  DIS    RAD TAX PTRATIO B     \n",
       "1 24.0  0.00632 18 2.31  0    0.538 6.575 65.2 4.0900 1   296 15.3    396.90\n",
       "2 21.6  0.02731  0 7.07  0    0.469 6.421 78.9 4.9671 2   242 17.8    396.90\n",
       "3 34.7  0.02729  0 7.07  0    0.469 7.185 61.1 4.9671 2   242 17.8    392.83\n",
       "4 33.4  0.03237  0 2.18  0    0.458 6.998 45.8 6.0622 3   222 18.7    394.63\n",
       "5 36.2  0.06905  0 2.18  0    0.458 7.147 54.2 6.0622 3   222 18.7    396.90\n",
       "6 28.7  0.02985  0 2.18  0    0.458 6.430 58.7 6.0622 3   222 18.7    394.12\n",
       "  LSTAT\n",
       "1 4.98 \n",
       "2 9.14 \n",
       "3 4.03 \n",
       "4 2.94 \n",
       "5 5.33 \n",
       "6 5.21 "
      ]
     },
     "metadata": {},
     "output_type": "display_data"
    }
   ],
   "source": [
    "boston = read.csv(\"boston_corrected.csv\", header = TRUE)\n",
    "boston = boston[, 7:20]\n",
    "head(boston)"
   ]
  },
  {
   "cell_type": "markdown",
   "metadata": {},
   "source": [
    "## Part 1\n",
    "**For each predictor, fit a simple linear regression model to predict the response. Describe your results. In which of the models is there a statistically significant association between the predictor and the response? Create some plots to back up your assertions.**"
   ]
  },
  {
   "cell_type": "code",
   "execution_count": 5,
   "metadata": {},
   "outputs": [
    {
     "data": {
      "text/plain": [
       "\n",
       "Call:\n",
       "lm(formula = CRIM ~ CMEDV, data = boston)\n",
       "\n",
       "Residuals:\n",
       "   Min     1Q Median     3Q    Max \n",
       "-9.097 -4.026 -2.342  1.251 80.936 \n",
       "\n",
       "Coefficients:\n",
       "            Estimate Std. Error t value Pr(>|t|)    \n",
       "(Intercept) 11.83537    0.93480  12.661   <2e-16 ***\n",
       "CMEDV       -0.36495    0.03843  -9.496   <2e-16 ***\n",
       "---\n",
       "Signif. codes:  0 '***' 0.001 '**' 0.01 '*' 0.05 '.' 0.1 ' ' 1\n",
       "\n",
       "Residual standard error: 7.93 on 504 degrees of freedom\n",
       "Multiple R-squared:  0.1518,\tAdjusted R-squared:  0.1501 \n",
       "F-statistic: 90.18 on 1 and 504 DF,  p-value: < 2.2e-16\n"
      ]
     },
     "metadata": {},
     "output_type": "display_data"
    }
   ],
   "source": [
    "cmedv.fit = lm(CRIM ~ CMEDV, data = boston)\n",
    "summary(cmedv.fit)"
   ]
  },
  {
   "cell_type": "markdown",
   "metadata": {},
   "source": [
    "In a simple linear regression of `CRIM` onto `CMEDV`, the p-value for the estimated coefficient of `CMEDV` is essentially zero. This means there is strong evidence of a statistically significant association between the predictor `CMEDV` and the response `CRIM`. In addition, the $R^2$ value of 0.1518 indicates that about 15% of the variation in `CRIM` is explained by this simple linear regression model."
   ]
  },
  {
   "cell_type": "code",
   "execution_count": 6,
   "metadata": {},
   "outputs": [
    {
     "data": {
      "text/plain": [
       "\n",
       "Call:\n",
       "lm(formula = CRIM ~ ZN, data = boston)\n",
       "\n",
       "Residuals:\n",
       "   Min     1Q Median     3Q    Max \n",
       "-4.429 -4.222 -2.620  1.250 84.523 \n",
       "\n",
       "Coefficients:\n",
       "            Estimate Std. Error t value Pr(>|t|)    \n",
       "(Intercept)  4.45369    0.41722  10.675  < 2e-16 ***\n",
       "ZN          -0.07393    0.01609  -4.594 5.51e-06 ***\n",
       "---\n",
       "Signif. codes:  0 '***' 0.001 '**' 0.01 '*' 0.05 '.' 0.1 ' ' 1\n",
       "\n",
       "Residual standard error: 8.435 on 504 degrees of freedom\n",
       "Multiple R-squared:  0.04019,\tAdjusted R-squared:  0.03828 \n",
       "F-statistic:  21.1 on 1 and 504 DF,  p-value: 5.506e-06\n"
      ]
     },
     "metadata": {},
     "output_type": "display_data"
    }
   ],
   "source": [
    "zn.fit = lm(CRIM ~ ZN, data = boston)\n",
    "summary(zn.fit)"
   ]
  },
  {
   "cell_type": "markdown",
   "metadata": {},
   "source": [
    "In a simple linear regression of `CRIM` onto `ZN`, the p-value for the estimated coefficient of `ZN` is essentially zero. This means there is strong evidence of a statistically significant association between the predictor `ZN` and the response `CRIM`. In addition, the $R^2$ value of 0.04019 indicates that about 4% of the variation in `CRIM` is explained by this simple linear regression model."
   ]
  },
  {
   "cell_type": "code",
   "execution_count": 7,
   "metadata": {},
   "outputs": [
    {
     "data": {
      "text/plain": [
       "\n",
       "Call:\n",
       "lm(formula = CRIM ~ INDUS, data = boston)\n",
       "\n",
       "Residuals:\n",
       "    Min      1Q  Median      3Q     Max \n",
       "-11.972  -2.698  -0.736   0.712  81.813 \n",
       "\n",
       "Coefficients:\n",
       "            Estimate Std. Error t value Pr(>|t|)    \n",
       "(Intercept) -2.06374    0.66723  -3.093  0.00209 ** \n",
       "INDUS        0.50978    0.05102   9.991  < 2e-16 ***\n",
       "---\n",
       "Signif. codes:  0 '***' 0.001 '**' 0.01 '*' 0.05 '.' 0.1 ' ' 1\n",
       "\n",
       "Residual standard error: 7.866 on 504 degrees of freedom\n",
       "Multiple R-squared:  0.1653,\tAdjusted R-squared:  0.1637 \n",
       "F-statistic: 99.82 on 1 and 504 DF,  p-value: < 2.2e-16\n"
      ]
     },
     "metadata": {},
     "output_type": "display_data"
    }
   ],
   "source": [
    "indus.fit = lm(CRIM ~ INDUS, data = boston)\n",
    "summary(indus.fit)"
   ]
  },
  {
   "cell_type": "markdown",
   "metadata": {},
   "source": [
    "In a simple linear regression of `CRIM` onto `INDUS`, the p-value for the estimated coefficient of `INDUS` is essentially zero. This means there is strong evidence of a statistically significant association between the predictor `INDUS` and the response `CRIM`. In addition, the $R^2$ value of 0.1653 indicates that about 16% of the variation in `CRIM` is explained by this simple linear regression model."
   ]
  },
  {
   "cell_type": "code",
   "execution_count": 8,
   "metadata": {},
   "outputs": [
    {
     "data": {
      "text/plain": [
       "\n",
       "Call:\n",
       "lm(formula = CRIM ~ CHAS, data = boston)\n",
       "\n",
       "Residuals:\n",
       "   Min     1Q Median     3Q    Max \n",
       "-3.738 -3.661 -3.435  0.018 85.232 \n",
       "\n",
       "Coefficients:\n",
       "            Estimate Std. Error t value Pr(>|t|)    \n",
       "(Intercept)   3.7444     0.3961   9.453   <2e-16 ***\n",
       "CHAS         -1.8928     1.5061  -1.257    0.209    \n",
       "---\n",
       "Signif. codes:  0 '***' 0.001 '**' 0.01 '*' 0.05 '.' 0.1 ' ' 1\n",
       "\n",
       "Residual standard error: 8.597 on 504 degrees of freedom\n",
       "Multiple R-squared:  0.003124,\tAdjusted R-squared:  0.001146 \n",
       "F-statistic: 1.579 on 1 and 504 DF,  p-value: 0.2094\n"
      ]
     },
     "metadata": {},
     "output_type": "display_data"
    }
   ],
   "source": [
    "chas.fit = lm(CRIM ~ CHAS, data = boston)\n",
    "summary(chas.fit)"
   ]
  },
  {
   "cell_type": "markdown",
   "metadata": {},
   "source": [
    "In a simple linear regression of `CRIM` onto `CHAS`, the p-value for the estimated coefficient of `CHAS` is 0.209. This means there isn't evidence of a statistically significant association between the predictor `CHAS` and the response `CRIM`. In addition, the $R^2$ value of 0.003124 indicates that about 0.31% of the variation in `CRIM` is explained by this simple linear regression model."
   ]
  },
  {
   "cell_type": "code",
   "execution_count": 9,
   "metadata": {},
   "outputs": [
    {
     "data": {
      "text/plain": [
       "\n",
       "Call:\n",
       "lm(formula = CRIM ~ NOX, data = boston)\n",
       "\n",
       "Residuals:\n",
       "    Min      1Q  Median      3Q     Max \n",
       "-12.371  -2.738  -0.974   0.559  81.728 \n",
       "\n",
       "Coefficients:\n",
       "            Estimate Std. Error t value Pr(>|t|)    \n",
       "(Intercept)  -13.720      1.699  -8.073 5.08e-15 ***\n",
       "NOX           31.249      2.999  10.419  < 2e-16 ***\n",
       "---\n",
       "Signif. codes:  0 '***' 0.001 '**' 0.01 '*' 0.05 '.' 0.1 ' ' 1\n",
       "\n",
       "Residual standard error: 7.81 on 504 degrees of freedom\n",
       "Multiple R-squared:  0.1772,\tAdjusted R-squared:  0.1756 \n",
       "F-statistic: 108.6 on 1 and 504 DF,  p-value: < 2.2e-16\n"
      ]
     },
     "metadata": {},
     "output_type": "display_data"
    }
   ],
   "source": [
    "nox.fit = lm(CRIM ~ NOX, data = boston)\n",
    "summary(nox.fit)"
   ]
  },
  {
   "cell_type": "markdown",
   "metadata": {},
   "source": [
    "In a simple linear regression of `CRIM` onto `NOX`, the p-value for the estimated coefficient of `NOX` is essentially zero. This means there is strong evidence of a statistically significant association between the predictor `CMEDV` and the response `NOX`. In addition, the $R^2$ value of 0.1772 indicates that about 18% of the variation in `CRIM` is explained by this simple linear regression model."
   ]
  },
  {
   "cell_type": "code",
   "execution_count": 10,
   "metadata": {},
   "outputs": [
    {
     "data": {
      "text/plain": [
       "\n",
       "Call:\n",
       "lm(formula = CRIM ~ RM, data = boston)\n",
       "\n",
       "Residuals:\n",
       "   Min     1Q Median     3Q    Max \n",
       "-6.604 -3.952 -2.654  0.989 87.197 \n",
       "\n",
       "Coefficients:\n",
       "            Estimate Std. Error t value Pr(>|t|)    \n",
       "(Intercept)   20.482      3.365   6.088 2.27e-09 ***\n",
       "RM            -2.684      0.532  -5.045 6.35e-07 ***\n",
       "---\n",
       "Signif. codes:  0 '***' 0.001 '**' 0.01 '*' 0.05 '.' 0.1 ' ' 1\n",
       "\n",
       "Residual standard error: 8.401 on 504 degrees of freedom\n",
       "Multiple R-squared:  0.04807,\tAdjusted R-squared:  0.04618 \n",
       "F-statistic: 25.45 on 1 and 504 DF,  p-value: 6.347e-07\n"
      ]
     },
     "metadata": {},
     "output_type": "display_data"
    }
   ],
   "source": [
    "rm.fit = lm(CRIM ~ RM, data = boston)\n",
    "summary(rm.fit)"
   ]
  },
  {
   "cell_type": "markdown",
   "metadata": {},
   "source": [
    "In a simple linear regression of `CRIM` onto `RM`, the p-value for the estimated coefficient of `RM` is essentially zero. This means there is strong evidence of a statistically significant association between the predictor `RM` and the response `CRIM`. In addition, the $R^2$ value of 0.04807 indicates that about 5% of the variation in `CRIM` is explained by this simple linear regression model."
   ]
  },
  {
   "cell_type": "code",
   "execution_count": 11,
   "metadata": {},
   "outputs": [
    {
     "data": {
      "text/plain": [
       "\n",
       "Call:\n",
       "lm(formula = CRIM ~ AGE, data = boston)\n",
       "\n",
       "Residuals:\n",
       "   Min     1Q Median     3Q    Max \n",
       "-6.789 -4.257 -1.230  1.527 82.849 \n",
       "\n",
       "Coefficients:\n",
       "            Estimate Std. Error t value Pr(>|t|)    \n",
       "(Intercept) -3.77791    0.94398  -4.002 7.22e-05 ***\n",
       "AGE          0.10779    0.01274   8.463 2.85e-16 ***\n",
       "---\n",
       "Signif. codes:  0 '***' 0.001 '**' 0.01 '*' 0.05 '.' 0.1 ' ' 1\n",
       "\n",
       "Residual standard error: 8.057 on 504 degrees of freedom\n",
       "Multiple R-squared:  0.1244,\tAdjusted R-squared:  0.1227 \n",
       "F-statistic: 71.62 on 1 and 504 DF,  p-value: 2.855e-16\n"
      ]
     },
     "metadata": {},
     "output_type": "display_data"
    }
   ],
   "source": [
    "age.fit = lm(CRIM ~ AGE, data = boston)\n",
    "summary(age.fit)"
   ]
  },
  {
   "cell_type": "markdown",
   "metadata": {},
   "source": [
    "In a simple linear regression of `CRIM` onto `AGE`, the p-value for the estimated coefficient of `AGE` is essentially zero. This means there is strong evidence of a statistically significant association between the predictor `AGE` and the response `CRIM`. In addition, the $R^2$ value of 0.1244 indicates that about 12% of the variation in `CRIM` is explained by this simple linear regression model."
   ]
  },
  {
   "cell_type": "code",
   "execution_count": 12,
   "metadata": {},
   "outputs": [
    {
     "data": {
      "text/plain": [
       "\n",
       "Call:\n",
       "lm(formula = CRIM ~ DIS, data = boston)\n",
       "\n",
       "Residuals:\n",
       "   Min     1Q Median     3Q    Max \n",
       "-6.708 -4.134 -1.527  1.516 81.674 \n",
       "\n",
       "Coefficients:\n",
       "            Estimate Std. Error t value Pr(>|t|)    \n",
       "(Intercept)   9.4993     0.7304  13.006   <2e-16 ***\n",
       "DIS          -1.5509     0.1683  -9.213   <2e-16 ***\n",
       "---\n",
       "Signif. codes:  0 '***' 0.001 '**' 0.01 '*' 0.05 '.' 0.1 ' ' 1\n",
       "\n",
       "Residual standard error: 7.965 on 504 degrees of freedom\n",
       "Multiple R-squared:  0.1441,\tAdjusted R-squared:  0.1425 \n",
       "F-statistic: 84.89 on 1 and 504 DF,  p-value: < 2.2e-16\n"
      ]
     },
     "metadata": {},
     "output_type": "display_data"
    }
   ],
   "source": [
    "dis.fit = lm(CRIM ~ DIS, data = boston)\n",
    "summary(dis.fit)"
   ]
  },
  {
   "cell_type": "markdown",
   "metadata": {},
   "source": [
    "In a simple linear regression of `CRIM` onto `DIS`, the p-value for the estimated coefficient of `DIS` is essentially zero. This means there is strong evidence of a statistically significant association between the predictor `DIS` and the response `CRIM`. In addition, the $R^2$ value of 0.1441 indicates that about 14% of the variation in `CRIM` is explained by this simple linear regression model."
   ]
  },
  {
   "cell_type": "code",
   "execution_count": 13,
   "metadata": {},
   "outputs": [
    {
     "data": {
      "text/plain": [
       "\n",
       "Call:\n",
       "lm(formula = CRIM ~ RAD, data = boston)\n",
       "\n",
       "Residuals:\n",
       "    Min      1Q  Median      3Q     Max \n",
       "-10.164  -1.381  -0.141   0.660  76.433 \n",
       "\n",
       "Coefficients:\n",
       "            Estimate Std. Error t value Pr(>|t|)    \n",
       "(Intercept) -2.28716    0.44348  -5.157 3.61e-07 ***\n",
       "RAD          0.61791    0.03433  17.998  < 2e-16 ***\n",
       "---\n",
       "Signif. codes:  0 '***' 0.001 '**' 0.01 '*' 0.05 '.' 0.1 ' ' 1\n",
       "\n",
       "Residual standard error: 6.718 on 504 degrees of freedom\n",
       "Multiple R-squared:  0.3913,\tAdjusted R-squared:   0.39 \n",
       "F-statistic: 323.9 on 1 and 504 DF,  p-value: < 2.2e-16\n"
      ]
     },
     "metadata": {},
     "output_type": "display_data"
    }
   ],
   "source": [
    "rad.fit = lm(CRIM ~ RAD, data = boston)\n",
    "summary(rad.fit)"
   ]
  },
  {
   "cell_type": "markdown",
   "metadata": {},
   "source": [
    "In a simple linear regression of `CRIM` onto `RAD`, the p-value for the estimated coefficient of `RAD` is essentially zero. This means there is strong evidence of a statistically significant association between the predictor `RAD` and the response `CRIM`. In addition, the $R^2$ value of 0.3913 indicates that about 39% of the variation in `CRIM` is explained by this simple linear regression model."
   ]
  },
  {
   "cell_type": "code",
   "execution_count": 14,
   "metadata": {},
   "outputs": [
    {
     "data": {
      "text/plain": [
       "\n",
       "Call:\n",
       "lm(formula = CRIM ~ TAX, data = boston)\n",
       "\n",
       "Residuals:\n",
       "    Min      1Q  Median      3Q     Max \n",
       "-12.513  -2.738  -0.194   1.065  77.696 \n",
       "\n",
       "Coefficients:\n",
       "             Estimate Std. Error t value Pr(>|t|)    \n",
       "(Intercept) -8.528369   0.815809  -10.45   <2e-16 ***\n",
       "TAX          0.029742   0.001847   16.10   <2e-16 ***\n",
       "---\n",
       "Signif. codes:  0 '***' 0.001 '**' 0.01 '*' 0.05 '.' 0.1 ' ' 1\n",
       "\n",
       "Residual standard error: 6.997 on 504 degrees of freedom\n",
       "Multiple R-squared:  0.3396,\tAdjusted R-squared:  0.3383 \n",
       "F-statistic: 259.2 on 1 and 504 DF,  p-value: < 2.2e-16\n"
      ]
     },
     "metadata": {},
     "output_type": "display_data"
    }
   ],
   "source": [
    "tax.fit = lm(CRIM ~ TAX, data = boston)\n",
    "summary(tax.fit)"
   ]
  },
  {
   "cell_type": "markdown",
   "metadata": {},
   "source": [
    "In a simple linear regression of `CRIM` onto `TAX`, the p-value for the estimated coefficient of `TAX` is essentially zero. This means there is strong evidence of a statistically significant association between the predictor `TAX` and the response `CRIM`. In addition, the $R^2$ value of 0.3396 indicates that about 34% of the variation in `CRIM` is explained by this simple linear regression model."
   ]
  },
  {
   "cell_type": "code",
   "execution_count": 15,
   "metadata": {},
   "outputs": [
    {
     "data": {
      "text/plain": [
       "\n",
       "Call:\n",
       "lm(formula = CRIM ~ PTRATIO, data = boston)\n",
       "\n",
       "Residuals:\n",
       "   Min     1Q Median     3Q    Max \n",
       "-7.654 -3.985 -1.912  1.825 83.353 \n",
       "\n",
       "Coefficients:\n",
       "            Estimate Std. Error t value Pr(>|t|)    \n",
       "(Intercept) -17.6469     3.1473  -5.607 3.40e-08 ***\n",
       "PTRATIO       1.1520     0.1694   6.801 2.94e-11 ***\n",
       "---\n",
       "Signif. codes:  0 '***' 0.001 '**' 0.01 '*' 0.05 '.' 0.1 ' ' 1\n",
       "\n",
       "Residual standard error: 8.24 on 504 degrees of freedom\n",
       "Multiple R-squared:  0.08407,\tAdjusted R-squared:  0.08225 \n",
       "F-statistic: 46.26 on 1 and 504 DF,  p-value: 2.943e-11\n"
      ]
     },
     "metadata": {},
     "output_type": "display_data"
    }
   ],
   "source": [
    "ptratio.fit = lm(CRIM ~ PTRATIO, data = boston)\n",
    "summary(ptratio.fit)"
   ]
  },
  {
   "cell_type": "markdown",
   "metadata": {},
   "source": [
    "In a simple linear regression of `CRIM` onto `PTRATIO`, the p-value for the estimated coefficient of `PTRATIO` is essentially zero. This means there is strong evidence of a statistically significant association between the predictor `PTRATIO` and the response `CRIM`. In addition, the $R^2$ value of 0.08407 indicates that about 8% of the variation in `CRIM` is explained by this simple linear regression model."
   ]
  },
  {
   "cell_type": "code",
   "execution_count": 17,
   "metadata": {},
   "outputs": [
    {
     "data": {
      "text/plain": [
       "\n",
       "Call:\n",
       "lm(formula = CRIM ~ B, data = boston)\n",
       "\n",
       "Residuals:\n",
       "    Min      1Q  Median      3Q     Max \n",
       "-13.756  -2.299  -2.095  -1.296  86.822 \n",
       "\n",
       "Coefficients:\n",
       "             Estimate Std. Error t value Pr(>|t|)    \n",
       "(Intercept) 16.553529   1.425903  11.609   <2e-16 ***\n",
       "B           -0.036280   0.003873  -9.367   <2e-16 ***\n",
       "---\n",
       "Signif. codes:  0 '***' 0.001 '**' 0.01 '*' 0.05 '.' 0.1 ' ' 1\n",
       "\n",
       "Residual standard error: 7.946 on 504 degrees of freedom\n",
       "Multiple R-squared:  0.1483,\tAdjusted R-squared:  0.1466 \n",
       "F-statistic: 87.74 on 1 and 504 DF,  p-value: < 2.2e-16\n"
      ]
     },
     "metadata": {},
     "output_type": "display_data"
    }
   ],
   "source": [
    "black.fit = lm(CRIM ~ B, data = boston)\n",
    "summary(black.fit)"
   ]
  },
  {
   "cell_type": "markdown",
   "metadata": {},
   "source": [
    "In a simple linear regression of `CRIM` onto `B`, the p-value for the estimated coefficient of `B` is essentially zero. This means there is strong evidence of a statistically significant association between the predictor `B` and the response `CRIM`. In addition, the $R^2$ value of 0.1483 indicates that about 15% of the variation in `CRIM` is explained by this simple linear regression model."
   ]
  },
  {
   "cell_type": "code",
   "execution_count": 19,
   "metadata": {},
   "outputs": [
    {
     "data": {
      "text/plain": [
       "\n",
       "Call:\n",
       "lm(formula = CRIM ~ LSTAT, data = boston)\n",
       "\n",
       "Residuals:\n",
       "    Min      1Q  Median      3Q     Max \n",
       "-13.925  -2.822  -0.664   1.079  82.862 \n",
       "\n",
       "Coefficients:\n",
       "            Estimate Std. Error t value Pr(>|t|)    \n",
       "(Intercept) -3.33054    0.69376  -4.801 2.09e-06 ***\n",
       "LSTAT        0.54880    0.04776  11.491  < 2e-16 ***\n",
       "---\n",
       "Signif. codes:  0 '***' 0.001 '**' 0.01 '*' 0.05 '.' 0.1 ' ' 1\n",
       "\n",
       "Residual standard error: 7.664 on 504 degrees of freedom\n",
       "Multiple R-squared:  0.2076,\tAdjusted R-squared:  0.206 \n",
       "F-statistic:   132 on 1 and 504 DF,  p-value: < 2.2e-16\n"
      ]
     },
     "metadata": {},
     "output_type": "display_data"
    }
   ],
   "source": [
    "lstat.fit = lm(CRIM ~ LSTAT, data = boston)\n",
    "summary(lstat.fit)"
   ]
  },
  {
   "cell_type": "markdown",
   "metadata": {},
   "source": [
    "In a simple linear regression of `CRIM` onto `LSTAT`, the p-value for the estimated coefficient of `LSTAT` is essentially zero. This means there is strong evidence of a statistically significant association between the predictor `LSTAT` and the response `CRIM`. In addition, the $R^2$ value of 0.2076 indicates that about 21% of the variation in `CRIM` is explained by this simple linear regression model."
   ]
  },
  {
   "cell_type": "markdown",
   "metadata": {},
   "source": [
    "In summary, when performing individual simple linear regressions of `CRIM` onto each predictor, there was strong statistical evidence of an association with the response `CRIM` for all of the variables execpt for `CHAS`. In addition, each individual simple linear regression model had an $R^2$ value of less than 0.5. The highest of these was the value for the regression onto `RAD`, the index of accessibility to radial highways, at 0.3913, and the lowest was the value for the regression onto `CHAS`, the dummy variable representing whether or not a town borders the Charles River, at 0.003124. "
   ]
  },
  {
   "cell_type": "markdown",
   "metadata": {},
   "source": [
    "## Part 2\n",
    "**Fit a multiple regression model to predict the response using all of the predictors. Describe your results. For which predictors can we reject the null hypothesis $H_0: \\beta_j = 0$?**"
   ]
  },
  {
   "cell_type": "code",
   "execution_count": 22,
   "metadata": {},
   "outputs": [
    {
     "data": {
      "text/plain": [
       "\n",
       "Call:\n",
       "lm(formula = CRIM ~ ., data = boston)\n",
       "\n",
       "Residuals:\n",
       "   Min     1Q Median     3Q    Max \n",
       "-9.918 -2.105 -0.372  1.008 75.057 \n",
       "\n",
       "Coefficients:\n",
       "              Estimate Std. Error t value Pr(>|t|)    \n",
       "(Intercept)  17.029577   7.240723   2.352 0.019070 *  \n",
       "CMEDV        -0.199175   0.061084  -3.261 0.001189 ** \n",
       "ZN            0.045140   0.018752   2.407 0.016443 *  \n",
       "INDUS        -0.063335   0.083425  -0.759 0.448104    \n",
       "CHAS         -0.747798   1.180599  -0.633 0.526763    \n",
       "NOX         -10.316158   5.278149  -1.955 0.051208 .  \n",
       "RM            0.427040   0.613260   0.696 0.486542    \n",
       "AGE           0.001429   0.017928   0.080 0.936506    \n",
       "DIS          -0.993058   0.282614  -3.514 0.000482 ***\n",
       "RAD           0.588018   0.088074   6.676 6.63e-11 ***\n",
       "TAX          -0.003858   0.005161  -0.748 0.455114    \n",
       "PTRATIO      -0.265639   0.186110  -1.427 0.154121    \n",
       "B            -0.007555   0.003674  -2.056 0.040281 *  \n",
       "LSTAT         0.124962   0.076022   1.644 0.100864    \n",
       "---\n",
       "Signif. codes:  0 '***' 0.001 '**' 0.01 '*' 0.05 '.' 0.1 ' ' 1\n",
       "\n",
       "Residual standard error: 6.44 on 492 degrees of freedom\n",
       "Multiple R-squared:  0.4538,\tAdjusted R-squared:  0.4394 \n",
       "F-statistic: 31.45 on 13 and 492 DF,  p-value: < 2.2e-16\n"
      ]
     },
     "metadata": {},
     "output_type": "display_data"
    }
   ],
   "source": [
    "all.fit = lm(CRIM ~ ., data = boston)\n",
    "summary(all.fit)"
   ]
  },
  {
   "cell_type": "markdown",
   "metadata": {},
   "source": [
    "When fitting a multiple regression model to predict `CRIM` using all of the predictors, the (adjusted) $R^2$ value is 0.4394. This is an increase from the largest $R^2$ value among all of the individual simple linear regression models, which was 0.3913. That means that the model using all of the predictors does a better job of explaining the variation in `CRIM` values compared to any of the simple linear regression models. In this model, there are fewer predictors for which we have sufficient evidence to reject the null hypothesis $H_0: \\beta_j = 0$, and this also depends on the significance level we wish to use. Only `RAD`, with a p-value of essentially zero, has very strong evidence to reject that null hypothesis. There is also strong evidence to do so for `DIS`, since its p-value is 0.000482. Next, we can reject the null hypothesis for `CMEDV` at the 1% level, but not at the 0.1% level, since its p-value is 0.001189. After that, we can fairly confidently reject the null hypothesis for `ZN` at the 5% level, with a p-value of 0.016443. We can also reject the null hypothesis for `B` at the 5% level, though it is a slightly borderline case with a p-value of 0.040281. `NOX` is also a borderline case with a p-value of 0.051208, which is only enough to reject the null hypothesis at the 10% level. However, that value is close enough to 0.05 that it would merit further investigation in order to more confidently make a decision in one direction or the other."
   ]
  },
  {
   "cell_type": "markdown",
   "metadata": {},
   "source": [
    "## Part 3\n",
    "**How do your results from Part 1 compare to your results from Part 2? Create a plot displaying the univariate regression coefficients from Part 1 on the $x$-axis, and the multiple regression coefficients from Part 2 on the $y$-axis. That is, each predictor is displayed as a single point on the plot. Its coefficient in a simple linear regression model is shown on the $x$-axis, and its coefficient estimate in the multiple linear regression model is shown on the $y$-axis.**"
   ]
  },
  {
   "cell_type": "markdown",
   "metadata": {},
   "source": [
    "Compared to Part 1, fewer predictors in Part 2 had p-values that were low enough to provide strong evidence to reject the null hypothesis $H_0: \\beta_j = 0$."
   ]
  },
  {
   "cell_type": "code",
   "execution_count": 31,
   "metadata": {},
   "outputs": [],
   "source": [
    "mult.reg.coeffs = all.fit$coefficients[-1]\n",
    "uni.reg.coeffs = c(cmedv.fit$coefficients[-1], zn.fit$coefficients[-1], indus.fit$coefficients[-1],\n",
    "                  chas.fit$coefficients[-1], nox.fit$coefficients[-1], rm.fit$coefficients[-1],\n",
    "                  age.fit$coefficients[-1], dis.fit$coefficients[-1], rad.fit$coefficients[-1],\n",
    "                  tax.fit$coefficients[-1], ptratio.fit$coefficients[-1], black.fit$coefficients[-1],\n",
    "                  lstat.fit$coefficients[-1])"
   ]
  },
  {
   "cell_type": "code",
   "execution_count": 36,
   "metadata": {},
   "outputs": [
    {
     "data": {
      "image/png": "[encoded data removed]",
      "text/plain": [
       "plot without title"
      ]
     },
     "metadata": {},
     "output_type": "display_data"
    }
   ],
   "source": [
    "plot(uni.reg.coeffs, mult.reg.coeffs)\n",
    "abline(a = 0, b = 1, lty = 2, col = \"blue\")"
   ]
  },
  {
   "cell_type": "markdown",
   "metadata": {},
   "source": [
    "As we can see on the plot, some the coefficient estimates increased between the univariate regressions and the multiple regression for some of the predictors, as indicated by the fact that they lie above and to the left of the dashed blue line $y = x$. The rest, however, decreased, and one of them decreased by a rather large margin from around 30 to around -10. We can compare the coefficient estimates between the univariate regressions and the multiple regression in the data frame below. The coefficients that increased were for `CMEDV`, `ZN`, `CHAS`, `RM`, `DIS`, and `B`. The rest of the coefficients decreased."
   ]
  },
  {
   "cell_type": "code",
   "execution_count": 44,
   "metadata": {},
   "outputs": [],
   "source": [
    "mult.reg.se = summary(all.fit)$coefficients[-1, \"Std. Error\"]\n",
    "uni.reg.se = c(summary(cmedv.fit)$coefficients[-1, \"Std. Error\"], summary(zn.fit)$coefficients[-1, \"Std. Error\"],\n",
    "              summary(indus.fit)$coefficients[-1, \"Std. Error\"], summary(chas.fit)$coefficients[-1, \"Std. Error\"],\n",
    "              summary(nox.fit)$coefficients[-1, \"Std. Error\"], summary(rm.fit)$coefficients[-1, \"Std. Error\"],\n",
    "              summary(age.fit)$coefficients[-1, \"Std. Error\"], summary(dis.fit)$coefficients[-1, \"Std. Error\"],\n",
    "              summary(rad.fit)$coefficients[-1, \"Std. Error\"], summary(tax.fit)$coefficients[-1, \"Std. Error\"],\n",
    "              summary(ptratio.fit)$coefficients[-1, \"Std. Error\"], summary(black.fit)$coefficients[-1, \"Std. Error\"],\n",
    "              summary(lstat.fit)$coefficients[-1, \"Std. Error\"])"
   ]
  },
  {
   "cell_type": "code",
   "execution_count": 46,
   "metadata": {},
   "outputs": [
    {
     "data": {
      "image/png": "[encoded data removed]",
      "text/plain": [
       "plot without title"
      ]
     },
     "metadata": {},
     "output_type": "display_data"
    }
   ],
   "source": [
    "plot(uni.reg.se, mult.reg.se)\n",
    "abline(a = 0, b = 1, lty = 2, col = \"blue\")"
   ]
  },
  {
   "cell_type": "code",
   "execution_count": 45,
   "metadata": {},
   "outputs": [
    {
     "data": {
      "text/html": [
       "<table>\n",
       "<thead><tr><th></th><th scope=col>uni.reg.coeffs</th><th scope=col>mult.reg.coeffs</th><th scope=col>uni.reg.se</th><th scope=col>mult.reg.se</th></tr></thead>\n",
       "<tbody>\n",
       "\t<tr><th scope=row>CMEDV</th><td>-0.36494737  </td><td> -0.199174862</td><td>0.038430078  </td><td>0.061084250  </td></tr>\n",
       "\t<tr><th scope=row>ZN</th><td>-0.07393498  </td><td>  0.045140154</td><td>0.016094596  </td><td>0.018752260  </td></tr>\n",
       "\t<tr><th scope=row>INDUS</th><td> 0.50977633  </td><td> -0.063335261</td><td>0.051024332  </td><td>0.083424977  </td></tr>\n",
       "\t<tr><th scope=row>CHAS</th><td>-1.89277655  </td><td> -0.747797621</td><td>1.506115484  </td><td>1.180598882  </td></tr>\n",
       "\t<tr><th scope=row>NOX</th><td>31.24853120  </td><td>-10.316158268</td><td>2.999190381  </td><td>5.278149394  </td></tr>\n",
       "\t<tr><th scope=row>RM</th><td>-2.68405122  </td><td>  0.427040326</td><td>0.532041083  </td><td>0.613260219  </td></tr>\n",
       "\t<tr><th scope=row>AGE</th><td> 0.10778623  </td><td>  0.001428921</td><td>0.012736436  </td><td>0.017928135  </td></tr>\n",
       "\t<tr><th scope=row>DIS</th><td>-1.55090168  </td><td> -0.993058287</td><td>0.168330031  </td><td>0.282613866  </td></tr>\n",
       "\t<tr><th scope=row>RAD</th><td> 0.61791093  </td><td>  0.588018491</td><td>0.034331820  </td><td>0.088074020  </td></tr>\n",
       "\t<tr><th scope=row>TAX</th><td> 0.02974225  </td><td> -0.003857717</td><td>0.001847415  </td><td>0.005160766  </td></tr>\n",
       "\t<tr><th scope=row>PTRATIO</th><td> 1.15198279  </td><td> -0.265639173</td><td>0.169373609  </td><td>0.186110169  </td></tr>\n",
       "\t<tr><th scope=row>B</th><td>-0.03627964  </td><td> -0.007554564</td><td>0.003873154  </td><td>0.003673877  </td></tr>\n",
       "\t<tr><th scope=row>LSTAT</th><td> 0.54880478  </td><td>  0.124962048</td><td>0.047760971  </td><td>0.076021889  </td></tr>\n",
       "</tbody>\n",
       "</table>\n"
      ],
      "text/latex": [
       "\\begin{tabular}{r|llll}\n",
       "  & uni.reg.coeffs & mult.reg.coeffs & uni.reg.se & mult.reg.se\\\\\n",
       "\\hline\n",
       "\tCMEDV & -0.36494737   &  -0.199174862 & 0.038430078   & 0.061084250  \\\\\n",
       "\tZN & -0.07393498   &   0.045140154 & 0.016094596   & 0.018752260  \\\\\n",
       "\tINDUS &  0.50977633   &  -0.063335261 & 0.051024332   & 0.083424977  \\\\\n",
       "\tCHAS & -1.89277655   &  -0.747797621 & 1.506115484   & 1.180598882  \\\\\n",
       "\tNOX & 31.24853120   & -10.316158268 & 2.999190381   & 5.278149394  \\\\\n",
       "\tRM & -2.68405122   &   0.427040326 & 0.532041083   & 0.613260219  \\\\\n",
       "\tAGE &  0.10778623   &   0.001428921 & 0.012736436   & 0.017928135  \\\\\n",
       "\tDIS & -1.55090168   &  -0.993058287 & 0.168330031   & 0.282613866  \\\\\n",
       "\tRAD &  0.61791093   &   0.588018491 & 0.034331820   & 0.088074020  \\\\\n",
       "\tTAX &  0.02974225   &  -0.003857717 & 0.001847415   & 0.005160766  \\\\\n",
       "\tPTRATIO &  1.15198279   &  -0.265639173 & 0.169373609   & 0.186110169  \\\\\n",
       "\tB & -0.03627964   &  -0.007554564 & 0.003873154   & 0.003673877  \\\\\n",
       "\tLSTAT &  0.54880478   &   0.124962048 & 0.047760971   & 0.076021889  \\\\\n",
       "\\end{tabular}\n"
      ],
      "text/markdown": [
       "\n",
       "| <!--/--> | uni.reg.coeffs | mult.reg.coeffs | uni.reg.se | mult.reg.se |\n",
       "|---|---|---|---|---|\n",
       "| CMEDV | -0.36494737   |  -0.199174862 | 0.038430078   | 0.061084250   |\n",
       "| ZN | -0.07393498   |   0.045140154 | 0.016094596   | 0.018752260   |\n",
       "| INDUS |  0.50977633   |  -0.063335261 | 0.051024332   | 0.083424977   |\n",
       "| CHAS | -1.89277655   |  -0.747797621 | 1.506115484   | 1.180598882   |\n",
       "| NOX | 31.24853120   | -10.316158268 | 2.999190381   | 5.278149394   |\n",
       "| RM | -2.68405122   |   0.427040326 | 0.532041083   | 0.613260219   |\n",
       "| AGE |  0.10778623   |   0.001428921 | 0.012736436   | 0.017928135   |\n",
       "| DIS | -1.55090168   |  -0.993058287 | 0.168330031   | 0.282613866   |\n",
       "| RAD |  0.61791093   |   0.588018491 | 0.034331820   | 0.088074020   |\n",
       "| TAX |  0.02974225   |  -0.003857717 | 0.001847415   | 0.005160766   |\n",
       "| PTRATIO |  1.15198279   |  -0.265639173 | 0.169373609   | 0.186110169   |\n",
       "| B | -0.03627964   |  -0.007554564 | 0.003873154   | 0.003673877   |\n",
       "| LSTAT |  0.54880478   |   0.124962048 | 0.047760971   | 0.076021889   |\n",
       "\n"
      ],
      "text/plain": [
       "        uni.reg.coeffs mult.reg.coeffs uni.reg.se  mult.reg.se\n",
       "CMEDV   -0.36494737     -0.199174862   0.038430078 0.061084250\n",
       "ZN      -0.07393498      0.045140154   0.016094596 0.018752260\n",
       "INDUS    0.50977633     -0.063335261   0.051024332 0.083424977\n",
       "CHAS    -1.89277655     -0.747797621   1.506115484 1.180598882\n",
       "NOX     31.24853120    -10.316158268   2.999190381 5.278149394\n",
       "RM      -2.68405122      0.427040326   0.532041083 0.613260219\n",
       "AGE      0.10778623      0.001428921   0.012736436 0.017928135\n",
       "DIS     -1.55090168     -0.993058287   0.168330031 0.282613866\n",
       "RAD      0.61791093      0.588018491   0.034331820 0.088074020\n",
       "TAX      0.02974225     -0.003857717   0.001847415 0.005160766\n",
       "PTRATIO  1.15198279     -0.265639173   0.169373609 0.186110169\n",
       "B       -0.03627964     -0.007554564   0.003873154 0.003673877\n",
       "LSTAT    0.54880478      0.124962048   0.047760971 0.076021889"
      ]
     },
     "metadata": {},
     "output_type": "display_data"
    }
   ],
   "source": [
    "data.frame(uni.reg.coeffs, mult.reg.coeffs, uni.reg.se, mult.reg.se)"
   ]
  },
  {
   "cell_type": "markdown",
   "metadata": {},
   "source": [
    "Since I was curious, I also explored how the standard error for the coefficient estimates changed between the univariate regressions and the multiple regressions. As we can see in the plot and above data frame, the standard error increased for all of the coefficients except for `CHAS` and `B` when going from univariate regression to multiple regression."
   ]
  },
  {
   "cell_type": "markdown",
   "metadata": {},
   "source": [
    "## Part 4\n",
    "**Is there evidence of a non-linear association between any of the predictors and the response? To answer this question, for each predictor $X$, fit a model of the form**\n",
    "\n",
    "\\begin{equation}\n",
    "    Y = \\beta_0 + \\beta_1X + \\beta_2X^2 + \\beta_3X^3 + \\epsilon.\n",
    "\\end{equation}"
   ]
  },
  {
   "cell_type": "markdown",
   "metadata": {},
   "source": [
    "First, we note that attempting to perform polynomial regression of `CRIM` onto `CHAS` does not provide any additional information due to the fact that `CHAS` has just two values: 1 if the town borders the Charles River, and 0 otherwise. Therefore, we will exclude that predictor from this part."
   ]
  },
  {
   "cell_type": "code",
   "execution_count": 50,
   "metadata": {},
   "outputs": [
    {
     "data": {
      "text/plain": [
       "\n",
       "Call:\n",
       "lm(formula = CRIM ~ poly(CMEDV, 3), data = boston)\n",
       "\n",
       "Residuals:\n",
       "    Min      1Q  Median      3Q     Max \n",
       "-24.533  -1.974  -0.437   0.437  73.594 \n",
       "\n",
       "Coefficients:\n",
       "                Estimate Std. Error t value Pr(>|t|)    \n",
       "(Intercept)       3.6135     0.2911  12.413  < 2e-16 ***\n",
       "poly(CMEDV, 3)1 -75.3046     6.5481 -11.500  < 2e-16 ***\n",
       "poly(CMEDV, 3)2  88.5325     6.5481  13.520  < 2e-16 ***\n",
       "poly(CMEDV, 3)3 -48.2671     6.5481  -7.371 7.02e-13 ***\n",
       "---\n",
       "Signif. codes:  0 '***' 0.001 '**' 0.01 '*' 0.05 '.' 0.1 ' ' 1\n",
       "\n",
       "Residual standard error: 6.548 on 502 degrees of freedom\n",
       "Multiple R-squared:  0.4239,\tAdjusted R-squared:  0.4205 \n",
       "F-statistic: 123.1 on 3 and 502 DF,  p-value: < 2.2e-16\n"
      ]
     },
     "metadata": {},
     "output_type": "display_data"
    }
   ],
   "source": [
    "cmedv.fit.cubic = lm(CRIM ~ poly(CMEDV, 3), data = boston)\n",
    "summary(cmedv.fit.cubic)"
   ]
  },
  {
   "cell_type": "markdown",
   "metadata": {},
   "source": [
    "For the predictor `CMEDV`, we see that the coefficient estimates of all powers have p-values of essentially zero. Moreover, the cubic model has an (adjusted) $R^2$ value of 0.4205, which is an increase from the value of 0.1518 in the linear model. These two aspects provide strong evidence to suggest a non-linear association between the predictor `CMEDV` and the response `CRIM`."
   ]
  },
  {
   "cell_type": "code",
   "execution_count": 52,
   "metadata": {},
   "outputs": [
    {
     "data": {
      "text/plain": [
       "\n",
       "Call:\n",
       "lm(formula = CRIM ~ poly(ZN, 3), data = boston)\n",
       "\n",
       "Residuals:\n",
       "   Min     1Q Median     3Q    Max \n",
       "-4.821 -4.614 -1.294  0.473 84.130 \n",
       "\n",
       "Coefficients:\n",
       "             Estimate Std. Error t value Pr(>|t|)    \n",
       "(Intercept)    3.6135     0.3722   9.709  < 2e-16 ***\n",
       "poly(ZN, 3)1 -38.7498     8.3722  -4.628  4.7e-06 ***\n",
       "poly(ZN, 3)2  23.9398     8.3722   2.859  0.00442 ** \n",
       "poly(ZN, 3)3 -10.0719     8.3722  -1.203  0.22954    \n",
       "---\n",
       "Signif. codes:  0 '***' 0.001 '**' 0.01 '*' 0.05 '.' 0.1 ' ' 1\n",
       "\n",
       "Residual standard error: 8.372 on 502 degrees of freedom\n",
       "Multiple R-squared:  0.05824,\tAdjusted R-squared:  0.05261 \n",
       "F-statistic: 10.35 on 3 and 502 DF,  p-value: 1.281e-06\n"
      ]
     },
     "metadata": {},
     "output_type": "display_data"
    }
   ],
   "source": [
    "zn.fit.cubic = lm(CRIM ~ poly(ZN, 3), data = boston)\n",
    "summary(zn.fit.cubic)"
   ]
  },
  {
   "cell_type": "markdown",
   "metadata": {},
   "source": [
    "For the predictor `ZN`, we see that the coefficient estimate for $X^2$ has a p-value of 0.00442, which is strong evidence to reject the null hypothesis $H_0: \\beta_2 = 0$ at the 1% significance level. However, the coefficient estimate for $X^3$ has a p-value of 0.22954, which isn't sufficient evidence to reject the null hypothesis $H_0: \\beta_3 = 0$. Moreover, the cubic model has an (adjusted) $R^2$ value of 0.05261, which is a slight increase from the value of 0.04019 in the linear model. These two aspects provide some evidence to suggest a non-linear association between the predictor `ZN` and the response `CRIM`, but it is not strong evidence."
   ]
  },
  {
   "cell_type": "code",
   "execution_count": 55,
   "metadata": {},
   "outputs": [
    {
     "data": {
      "text/plain": [
       "\n",
       "Call:\n",
       "lm(formula = CRIM ~ poly(INDUS, 3), data = boston)\n",
       "\n",
       "Residuals:\n",
       "   Min     1Q Median     3Q    Max \n",
       "-8.278 -2.514  0.054  0.764 79.713 \n",
       "\n",
       "Coefficients:\n",
       "                Estimate Std. Error t value Pr(>|t|)    \n",
       "(Intercept)        3.614      0.330  10.950  < 2e-16 ***\n",
       "poly(INDUS, 3)1   78.591      7.423  10.587  < 2e-16 ***\n",
       "poly(INDUS, 3)2  -24.395      7.423  -3.286  0.00109 ** \n",
       "poly(INDUS, 3)3  -54.130      7.423  -7.292  1.2e-12 ***\n",
       "---\n",
       "Signif. codes:  0 '***' 0.001 '**' 0.01 '*' 0.05 '.' 0.1 ' ' 1\n",
       "\n",
       "Residual standard error: 7.423 on 502 degrees of freedom\n",
       "Multiple R-squared:  0.2597,\tAdjusted R-squared:  0.2552 \n",
       "F-statistic: 58.69 on 3 and 502 DF,  p-value: < 2.2e-16\n"
      ]
     },
     "metadata": {},
     "output_type": "display_data"
    }
   ],
   "source": [
    "indus.fit.cubic = lm(CRIM ~ poly(INDUS, 3), data = boston)\n",
    "summary(indus.fit.cubic)"
   ]
  },
  {
   "cell_type": "markdown",
   "metadata": {},
   "source": [
    "For the predictor `INDUS`, we see that the coefficient estimates of all powers have p-values of close to zero, though the coefficient estimate for $X^2$ has a p-value, at 0.00109, isn't small enough to be essentially zero. Moreover, the cubic model has an (adjusted) $R^2$ value of 0.2552, which is an increase from the value of 0.1653 in the linear model. These two aspects provide strong evidence to suggest a non-linear association between the predictor `INDUS` and the response `CRIM`."
   ]
  },
  {
   "cell_type": "code",
   "execution_count": 56,
   "metadata": {},
   "outputs": [
    {
     "data": {
      "text/plain": [
       "\n",
       "Call:\n",
       "lm(formula = CRIM ~ poly(NOX, 3), data = boston)\n",
       "\n",
       "Residuals:\n",
       "   Min     1Q Median     3Q    Max \n",
       "-9.110 -2.068 -0.255  0.739 78.302 \n",
       "\n",
       "Coefficients:\n",
       "              Estimate Std. Error t value Pr(>|t|)    \n",
       "(Intercept)     3.6135     0.3216  11.237  < 2e-16 ***\n",
       "poly(NOX, 3)1  81.3720     7.2336  11.249  < 2e-16 ***\n",
       "poly(NOX, 3)2 -28.8286     7.2336  -3.985 7.74e-05 ***\n",
       "poly(NOX, 3)3 -60.3619     7.2336  -8.345 6.96e-16 ***\n",
       "---\n",
       "Signif. codes:  0 '***' 0.001 '**' 0.01 '*' 0.05 '.' 0.1 ' ' 1\n",
       "\n",
       "Residual standard error: 7.234 on 502 degrees of freedom\n",
       "Multiple R-squared:  0.297,\tAdjusted R-squared:  0.2928 \n",
       "F-statistic: 70.69 on 3 and 502 DF,  p-value: < 2.2e-16\n"
      ]
     },
     "metadata": {},
     "output_type": "display_data"
    }
   ],
   "source": [
    "nox.fit.cubic = lm(CRIM ~ poly(NOX, 3), data = boston)\n",
    "summary(nox.fit.cubic)"
   ]
  },
  {
   "cell_type": "markdown",
   "metadata": {},
   "source": [
    "For the predictor `NOX`, we see that the coefficient estimates of all powers have p-values of essentially zero. Moreover, the cubic model has an (adjusted) $R^2$ value of 0.2928, which is an increase from the value of 0.1772 in the linear model. These two aspects provide strong evidence to suggest a non-linear association between the predictor `NOX` and the response `CRIM`."
   ]
  },
  {
   "cell_type": "code",
   "execution_count": 57,
   "metadata": {},
   "outputs": [
    {
     "data": {
      "text/plain": [
       "\n",
       "Call:\n",
       "lm(formula = CRIM ~ poly(RM, 3), data = boston)\n",
       "\n",
       "Residuals:\n",
       "    Min      1Q  Median      3Q     Max \n",
       "-18.485  -3.468  -2.221  -0.015  87.219 \n",
       "\n",
       "Coefficients:\n",
       "             Estimate Std. Error t value Pr(>|t|)    \n",
       "(Intercept)    3.6135     0.3703   9.758  < 2e-16 ***\n",
       "poly(RM, 3)1 -42.3794     8.3297  -5.088 5.13e-07 ***\n",
       "poly(RM, 3)2  26.5768     8.3297   3.191  0.00151 ** \n",
       "poly(RM, 3)3  -5.5103     8.3297  -0.662  0.50858    \n",
       "---\n",
       "Signif. codes:  0 '***' 0.001 '**' 0.01 '*' 0.05 '.' 0.1 ' ' 1\n",
       "\n",
       "Residual standard error: 8.33 on 502 degrees of freedom\n",
       "Multiple R-squared:  0.06779,\tAdjusted R-squared:  0.06222 \n",
       "F-statistic: 12.17 on 3 and 502 DF,  p-value: 1.067e-07\n"
      ]
     },
     "metadata": {},
     "output_type": "display_data"
    }
   ],
   "source": [
    "rm.fit.cubic = lm(CRIM ~ poly(RM, 3), data = boston)\n",
    "summary(rm.fit.cubic)"
   ]
  },
  {
   "cell_type": "markdown",
   "metadata": {},
   "source": [
    "For the predictor `RM`, we see that the coefficient estimate for $X^2$ has a p-value of 0.00151, which is strong evidence to reject the null hypothesis $H_0: \\beta_2 = 0$ at the 1% significance level. However, the coefficient estimate for $X^3$ has a p-value of 0.50858, which isn't sufficient evidence to reject the null hypothesis $H_0: \\beta_3 = 0$. Moreover, the cubic model has an (adjusted) $R^2$ value of 0.06222, which is a slight increase from the value of 0.04807 in the linear model. These two aspects provide some evidence to suggest a non-linear association between the predictor `RM` and the response `CRIM`, but it is not strong evidence."
   ]
  },
  {
   "cell_type": "code",
   "execution_count": 58,
   "metadata": {},
   "outputs": [
    {
     "data": {
      "text/plain": [
       "\n",
       "Call:\n",
       "lm(formula = CRIM ~ poly(AGE, 3), data = boston)\n",
       "\n",
       "Residuals:\n",
       "   Min     1Q Median     3Q    Max \n",
       "-9.762 -2.673 -0.516  0.019 82.842 \n",
       "\n",
       "Coefficients:\n",
       "              Estimate Std. Error t value Pr(>|t|)    \n",
       "(Intercept)     3.6135     0.3485  10.368  < 2e-16 ***\n",
       "poly(AGE, 3)1  68.1820     7.8397   8.697  < 2e-16 ***\n",
       "poly(AGE, 3)2  37.4845     7.8397   4.781 2.29e-06 ***\n",
       "poly(AGE, 3)3  21.3532     7.8397   2.724  0.00668 ** \n",
       "---\n",
       "Signif. codes:  0 '***' 0.001 '**' 0.01 '*' 0.05 '.' 0.1 ' ' 1\n",
       "\n",
       "Residual standard error: 7.84 on 502 degrees of freedom\n",
       "Multiple R-squared:  0.1742,\tAdjusted R-squared:  0.1693 \n",
       "F-statistic: 35.31 on 3 and 502 DF,  p-value: < 2.2e-16\n"
      ]
     },
     "metadata": {},
     "output_type": "display_data"
    }
   ],
   "source": [
    "age.fit.cubic = lm(CRIM ~ poly(AGE, 3), data = boston)\n",
    "summary(age.fit.cubic)"
   ]
  },
  {
   "cell_type": "markdown",
   "metadata": {},
   "source": [
    "For the predictor `AGE`, we see that the coefficient estimate for $X^2$ has a p-value of essentially zero, which is strong evidence to reject the null hypothesis $H_0: \\beta_2 = 0$. In addition, the coefficient estimate for $X^3$ has a p-value of 0.00668, which is evidence to reject the null hypothesis $H_0: \\beta_3 = 0$ at the 1% level. Moreover, the cubic model has an (adjusted) $R^2$ value of 0.1693, which is a modest increase from the value of 0.1244 in the linear model. These two aspects provide some evidence to suggest a non-linear association between the predictor `AGE` and the response `CRIM`."
   ]
  },
  {
   "cell_type": "code",
   "execution_count": 59,
   "metadata": {},
   "outputs": [
    {
     "data": {
      "text/plain": [
       "\n",
       "Call:\n",
       "lm(formula = CRIM ~ poly(DIS, 3), data = boston)\n",
       "\n",
       "Residuals:\n",
       "    Min      1Q  Median      3Q     Max \n",
       "-10.757  -2.588   0.031   1.267  76.378 \n",
       "\n",
       "Coefficients:\n",
       "              Estimate Std. Error t value Pr(>|t|)    \n",
       "(Intercept)     3.6135     0.3259  11.087  < 2e-16 ***\n",
       "poly(DIS, 3)1 -73.3886     7.3315 -10.010  < 2e-16 ***\n",
       "poly(DIS, 3)2  56.3730     7.3315   7.689 7.87e-14 ***\n",
       "poly(DIS, 3)3 -42.6219     7.3315  -5.814 1.09e-08 ***\n",
       "---\n",
       "Signif. codes:  0 '***' 0.001 '**' 0.01 '*' 0.05 '.' 0.1 ' ' 1\n",
       "\n",
       "Residual standard error: 7.331 on 502 degrees of freedom\n",
       "Multiple R-squared:  0.2778,\tAdjusted R-squared:  0.2735 \n",
       "F-statistic: 64.37 on 3 and 502 DF,  p-value: < 2.2e-16\n"
      ]
     },
     "metadata": {},
     "output_type": "display_data"
    }
   ],
   "source": [
    "dis.fit.cubic = lm(CRIM ~ poly(DIS, 3), data = boston)\n",
    "summary(dis.fit.cubic)"
   ]
  },
  {
   "cell_type": "markdown",
   "metadata": {},
   "source": [
    "For the predictor `DIS`, we see that the coefficient estimates of all powers have p-values of essentially zero. Moreover, the cubic model has an (adjusted) $R^2$ value of 0.2735, which is an increase from the value of 0.1441 in the linear model. These two aspects provide strong evidence to suggest a non-linear association between the predictor `DIS` and the response `CRIM`."
   ]
  },
  {
   "cell_type": "code",
   "execution_count": 60,
   "metadata": {},
   "outputs": [
    {
     "data": {
      "text/plain": [
       "\n",
       "Call:\n",
       "lm(formula = CRIM ~ poly(RAD, 3), data = boston)\n",
       "\n",
       "Residuals:\n",
       "    Min      1Q  Median      3Q     Max \n",
       "-10.381  -0.412  -0.269   0.179  76.217 \n",
       "\n",
       "Coefficients:\n",
       "              Estimate Std. Error t value Pr(>|t|)    \n",
       "(Intercept)     3.6135     0.2971  12.164  < 2e-16 ***\n",
       "poly(RAD, 3)1 120.9074     6.6824  18.093  < 2e-16 ***\n",
       "poly(RAD, 3)2  17.4923     6.6824   2.618  0.00912 ** \n",
       "poly(RAD, 3)3   4.6985     6.6824   0.703  0.48231    \n",
       "---\n",
       "Signif. codes:  0 '***' 0.001 '**' 0.01 '*' 0.05 '.' 0.1 ' ' 1\n",
       "\n",
       "Residual standard error: 6.682 on 502 degrees of freedom\n",
       "Multiple R-squared:    0.4,\tAdjusted R-squared:  0.3965 \n",
       "F-statistic: 111.6 on 3 and 502 DF,  p-value: < 2.2e-16\n"
      ]
     },
     "metadata": {},
     "output_type": "display_data"
    }
   ],
   "source": [
    "rad.fit.cubic = lm(CRIM ~ poly(RAD, 3), data = boston)\n",
    "summary(rad.fit.cubic)"
   ]
  },
  {
   "cell_type": "markdown",
   "metadata": {},
   "source": [
    "For the predictor `RAD`, we see that the coefficient estimate for $X^2$ has a p-value of 0.00912, which is just barely enough evidence to reject the null hypothesis $H_0: \\beta_2 = 0$ at the 1% significance level. However, the coefficient estimate for $X^3$ has a p-value of 0.48231, which isn't sufficient evidence to reject the null hypothesis $H_0: \\beta_3 = 0$. Moreover, the cubic model has an (adjusted) $R^2$ value of 0.3965, which is only a slight increase from the value of 0.3913 in the linear model. These two aspects provide evidence to suggest that there isn't a non-linear association between the predictor `RAD` and the response `CRIM`. In other words, it appears that the linear model is a better representation of the association between `RAD` and `CRIM`."
   ]
  },
  {
   "cell_type": "code",
   "execution_count": 61,
   "metadata": {},
   "outputs": [
    {
     "data": {
      "text/plain": [
       "\n",
       "Call:\n",
       "lm(formula = CRIM ~ poly(TAX, 3), data = boston)\n",
       "\n",
       "Residuals:\n",
       "    Min      1Q  Median      3Q     Max \n",
       "-13.273  -1.389   0.046   0.536  76.950 \n",
       "\n",
       "Coefficients:\n",
       "              Estimate Std. Error t value Pr(>|t|)    \n",
       "(Intercept)     3.6135     0.3047  11.860  < 2e-16 ***\n",
       "poly(TAX, 3)1 112.6458     6.8537  16.436  < 2e-16 ***\n",
       "poly(TAX, 3)2  32.0873     6.8537   4.682 3.67e-06 ***\n",
       "poly(TAX, 3)3  -7.9968     6.8537  -1.167    0.244    \n",
       "---\n",
       "Signif. codes:  0 '***' 0.001 '**' 0.01 '*' 0.05 '.' 0.1 ' ' 1\n",
       "\n",
       "Residual standard error: 6.854 on 502 degrees of freedom\n",
       "Multiple R-squared:  0.3689,\tAdjusted R-squared:  0.3651 \n",
       "F-statistic:  97.8 on 3 and 502 DF,  p-value: < 2.2e-16\n"
      ]
     },
     "metadata": {},
     "output_type": "display_data"
    }
   ],
   "source": [
    "tax.fit.cubic = lm(CRIM ~ poly(TAX, 3), data = boston)\n",
    "summary(tax.fit.cubic)"
   ]
  },
  {
   "cell_type": "markdown",
   "metadata": {},
   "source": [
    "For the predictor `TAX`, we see that the coefficient estimate for $X^2$ has a p-value of essentially zero, which is strong evidence to reject the null hypothesis $H_0: \\beta_2 = 0$. However, the coefficient estimate for $X^3$ has a p-value of 0.244, which isn't sufficient evidence to reject the null hypothesis $H_0: \\beta_3 = 0$. Moreover, the cubic model has an (adjusted) $R^2$ value of 0.3651, which is a modest increase from the value of 0.3396 in the linear model. These two aspects provide some evidence to suggest a non-linear association between the predictor `TAX` and the response `CRIM`, but it is not strong evidence."
   ]
  },
  {
   "cell_type": "code",
   "execution_count": 2,
   "metadata": {},
   "outputs": [
    {
     "data": {
      "text/plain": [
       "\n",
       "Call:\n",
       "lm(formula = CRIM ~ poly(PTRATIO, 3), data = boston)\n",
       "\n",
       "Residuals:\n",
       "   Min     1Q Median     3Q    Max \n",
       "-6.833 -4.146 -1.655  1.408 82.697 \n",
       "\n",
       "Coefficients:\n",
       "                  Estimate Std. Error t value Pr(>|t|)    \n",
       "(Intercept)          3.614      0.361  10.008  < 2e-16 ***\n",
       "poly(PTRATIO, 3)1   56.045      8.122   6.901 1.57e-11 ***\n",
       "poly(PTRATIO, 3)2   24.775      8.122   3.050  0.00241 ** \n",
       "poly(PTRATIO, 3)3  -22.280      8.122  -2.743  0.00630 ** \n",
       "---\n",
       "Signif. codes:  0 '***' 0.001 '**' 0.01 '*' 0.05 '.' 0.1 ' ' 1\n",
       "\n",
       "Residual standard error: 8.122 on 502 degrees of freedom\n",
       "Multiple R-squared:  0.1138,\tAdjusted R-squared:  0.1085 \n",
       "F-statistic: 21.48 on 3 and 502 DF,  p-value: 4.171e-13\n"
      ]
     },
     "metadata": {},
     "output_type": "display_data"
    }
   ],
   "source": [
    "ptratio.fit.cubic = lm(CRIM ~ poly(PTRATIO, 3), data = boston)\n",
    "summary(ptratio.fit.cubic)"
   ]
  },
  {
   "cell_type": "markdown",
   "metadata": {},
   "source": [
    "For the predictor `PTRATIO`, we see that the coefficient estimate for $X^2$ has a p-value of 0.00241, which is strong evidence to reject the null hypothesis $H_0: \\beta_2 = 0$ at the 1% significance level. In addition, the coefficient estimate for $X^3$ has a p-value of 0.00630, which is evidence to reject the null hypothesis $H_0: \\beta_3 = 0$ at the 1% level as well. Moreover, the cubic model has an (adjusted) $R^2$ value of 0.1085, which is a modest increase from the value of 0.08407 in the linear model. These two aspects provide some evidence to suggest a non-linear association between the predictor `PTRATIO` and the response `CRIM`."
   ]
  },
  {
   "cell_type": "code",
   "execution_count": 63,
   "metadata": {},
   "outputs": [
    {
     "data": {
      "text/plain": [
       "\n",
       "Call:\n",
       "lm(formula = CRIM ~ poly(B, 3), data = boston)\n",
       "\n",
       "Residuals:\n",
       "    Min      1Q  Median      3Q     Max \n",
       "-13.096  -2.343  -2.128  -1.439  86.790 \n",
       "\n",
       "Coefficients:\n",
       "            Estimate Std. Error t value Pr(>|t|)    \n",
       "(Intercept)   3.6135     0.3536  10.218   <2e-16 ***\n",
       "poly(B, 3)1 -74.4312     7.9546  -9.357   <2e-16 ***\n",
       "poly(B, 3)2   5.9264     7.9546   0.745    0.457    \n",
       "poly(B, 3)3  -4.8346     7.9546  -0.608    0.544    \n",
       "---\n",
       "Signif. codes:  0 '***' 0.001 '**' 0.01 '*' 0.05 '.' 0.1 ' ' 1\n",
       "\n",
       "Residual standard error: 7.955 on 502 degrees of freedom\n",
       "Multiple R-squared:  0.1498,\tAdjusted R-squared:  0.1448 \n",
       "F-statistic: 29.49 on 3 and 502 DF,  p-value: < 2.2e-16\n"
      ]
     },
     "metadata": {},
     "output_type": "display_data"
    }
   ],
   "source": [
    "black.fit.cubic = lm(CRIM ~ poly(B, 3), data = boston)\n",
    "summary(black.fit.cubic)"
   ]
  },
  {
   "cell_type": "markdown",
   "metadata": {},
   "source": [
    "For the predictor `B`, we see that the coefficient estimates for $X^2$ and $X^3$ have p-values exceeding 0.45. This means there isn't any evidence to reject the null hypotheses $H_0: \\beta_2 = 0$ and $H_0: \\beta_3 = 0$. Moreover, the cubic model has an (adjusted) $R^2$ value of 0.1448, which is only a tiny increase from the value of 0.1483 in the linear model. These two aspects provide strong evidence to suggest that there isn't a non-linear association between the predictor `B` and the response `CRIM`. In other words, it appears that the linear model is a better representation of the association between `B` and `CRIM`."
   ]
  },
  {
   "cell_type": "code",
   "execution_count": 64,
   "metadata": {},
   "outputs": [
    {
     "data": {
      "text/plain": [
       "\n",
       "Call:\n",
       "lm(formula = CRIM ~ poly(LSTAT, 3), data = boston)\n",
       "\n",
       "Residuals:\n",
       "    Min      1Q  Median      3Q     Max \n",
       "-15.234  -2.151  -0.486   0.066  83.353 \n",
       "\n",
       "Coefficients:\n",
       "                Estimate Std. Error t value Pr(>|t|)    \n",
       "(Intercept)       3.6135     0.3392  10.654   <2e-16 ***\n",
       "poly(LSTAT, 3)1  88.0697     7.6294  11.543   <2e-16 ***\n",
       "poly(LSTAT, 3)2  15.8882     7.6294   2.082   0.0378 *  \n",
       "poly(LSTAT, 3)3 -11.5740     7.6294  -1.517   0.1299    \n",
       "---\n",
       "Signif. codes:  0 '***' 0.001 '**' 0.01 '*' 0.05 '.' 0.1 ' ' 1\n",
       "\n",
       "Residual standard error: 7.629 on 502 degrees of freedom\n",
       "Multiple R-squared:  0.2179,\tAdjusted R-squared:  0.2133 \n",
       "F-statistic: 46.63 on 3 and 502 DF,  p-value: < 2.2e-16\n"
      ]
     },
     "metadata": {},
     "output_type": "display_data"
    }
   ],
   "source": [
    "lstat.fit.cubic = lm(CRIM ~ poly(LSTAT, 3), data = boston)\n",
    "summary(lstat.fit.cubic)"
   ]
  },
  {
   "cell_type": "markdown",
   "metadata": {},
   "source": [
    "For the predictor `LSTAT`, we see that the coefficient estimate for $X^2$ has a p-value of 0.0378, which is just enough evidence to reject the null hypothesis $H_0: \\beta_2 = 0$ at the 5% significance level. However, the coefficient estimate for $X^3$ has a p-value of 0.1299, which isn't sufficient evidence to reject the null hypothesis $H_0: \\beta_3 = 0$. Moreover, the cubic model has an (adjusted) $R^2$ value of 0.2133, which is only a slight increase from the value of 0.2076 in the linear model. These two aspects provide evidence to suggest that there isn't a non-linear association between the predictor `LSTAT` and the response `CRIM`. In other words, it appears that the linear model is a better representation of the association between `LSTAT` and `CRIM`."
   ]
  },
  {
   "cell_type": "markdown",
   "metadata": {},
   "source": [
    "In summary, we can group the predictors into three categores: those for which there is strong evidence of a non-linear relationship (cubic in this case) with the response, those for which there is some evidence of a non-linear relationship (though not strong evidence), and those for which there is no evidence of a non-linear relationship. The predictors `CMEDV`, `INDUS`, `NOX`, and `DIS` fall into the first group; `ZN`, `RM`, `AGE`, `TAX`, and `PTRATIO` fall into the second group; `RAD`, `B` and `LSTAT` fall into the last group."
   ]
  }
 ],
 "metadata": {
  "kernelspec": {
   "display_name": "R",
   "language": "R",
   "name": "ir"
  },
  "language_info": {
   "codemirror_mode": "r",
   "file_extension": ".r",
   "mimetype": "text/x-r-source",
   "name": "R",
   "pygments_lexer": "r",
   "version": "3.6.1"
  }
 },
 "nbformat": 4,
 "nbformat_minor": 2
}
