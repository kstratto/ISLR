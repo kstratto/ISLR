{
 "cells": [
  {
   "cell_type": "markdown",
   "metadata": {},
   "source": [
    "# Applied Exercise 1\n",
    "\n",
    "**This question should be answered using the `Weekly` data set, which is part of the `ISLR` package. This data is similar in nature to the `Smarket` data from this chapter's lab, except that it contains 1,089 weekly returns for 21 years, from the beginning of 1990 to the end of 2010.**"
   ]
  },
  {
   "cell_type": "code",
   "execution_count": 1,
   "metadata": {},
   "outputs": [],
   "source": [
    "library(ISLR)"
   ]
  },
  {
   "cell_type": "code",
   "execution_count": 2,
   "metadata": {},
   "outputs": [
    {
     "data": {
      "text/html": [
       "<table>\n",
       "<thead><tr><th scope=col>Year</th><th scope=col>Lag1</th><th scope=col>Lag2</th><th scope=col>Lag3</th><th scope=col>Lag4</th><th scope=col>Lag5</th><th scope=col>Volume</th><th scope=col>Today</th><th scope=col>Direction</th></tr></thead>\n",
       "<tbody>\n",
       "\t<tr><td>1990     </td><td> 0.816   </td><td> 1.572   </td><td>-3.936   </td><td>-0.229   </td><td>-3.484   </td><td>0.1549760</td><td>-0.270   </td><td>Down     </td></tr>\n",
       "\t<tr><td>1990     </td><td>-0.270   </td><td> 0.816   </td><td> 1.572   </td><td>-3.936   </td><td>-0.229   </td><td>0.1485740</td><td>-2.576   </td><td>Down     </td></tr>\n",
       "\t<tr><td>1990     </td><td>-2.576   </td><td>-0.270   </td><td> 0.816   </td><td> 1.572   </td><td>-3.936   </td><td>0.1598375</td><td> 3.514   </td><td>Up       </td></tr>\n",
       "\t<tr><td>1990     </td><td> 3.514   </td><td>-2.576   </td><td>-0.270   </td><td> 0.816   </td><td> 1.572   </td><td>0.1616300</td><td> 0.712   </td><td>Up       </td></tr>\n",
       "\t<tr><td>1990     </td><td> 0.712   </td><td> 3.514   </td><td>-2.576   </td><td>-0.270   </td><td> 0.816   </td><td>0.1537280</td><td> 1.178   </td><td>Up       </td></tr>\n",
       "\t<tr><td>1990     </td><td> 1.178   </td><td> 0.712   </td><td> 3.514   </td><td>-2.576   </td><td>-0.270   </td><td>0.1544440</td><td>-1.372   </td><td>Down     </td></tr>\n",
       "</tbody>\n",
       "</table>\n"
      ],
      "text/latex": [
       "\\begin{tabular}{r|lllllllll}\n",
       " Year & Lag1 & Lag2 & Lag3 & Lag4 & Lag5 & Volume & Today & Direction\\\\\n",
       "\\hline\n",
       "\t 1990      &  0.816    &  1.572    & -3.936    & -0.229    & -3.484    & 0.1549760 & -0.270    & Down     \\\\\n",
       "\t 1990      & -0.270    &  0.816    &  1.572    & -3.936    & -0.229    & 0.1485740 & -2.576    & Down     \\\\\n",
       "\t 1990      & -2.576    & -0.270    &  0.816    &  1.572    & -3.936    & 0.1598375 &  3.514    & Up       \\\\\n",
       "\t 1990      &  3.514    & -2.576    & -0.270    &  0.816    &  1.572    & 0.1616300 &  0.712    & Up       \\\\\n",
       "\t 1990      &  0.712    &  3.514    & -2.576    & -0.270    &  0.816    & 0.1537280 &  1.178    & Up       \\\\\n",
       "\t 1990      &  1.178    &  0.712    &  3.514    & -2.576    & -0.270    & 0.1544440 & -1.372    & Down     \\\\\n",
       "\\end{tabular}\n"
      ],
      "text/markdown": [
       "\n",
       "| Year | Lag1 | Lag2 | Lag3 | Lag4 | Lag5 | Volume | Today | Direction |\n",
       "|---|---|---|---|---|---|---|---|---|\n",
       "| 1990      |  0.816    |  1.572    | -3.936    | -0.229    | -3.484    | 0.1549760 | -0.270    | Down      |\n",
       "| 1990      | -0.270    |  0.816    |  1.572    | -3.936    | -0.229    | 0.1485740 | -2.576    | Down      |\n",
       "| 1990      | -2.576    | -0.270    |  0.816    |  1.572    | -3.936    | 0.1598375 |  3.514    | Up        |\n",
       "| 1990      |  3.514    | -2.576    | -0.270    |  0.816    |  1.572    | 0.1616300 |  0.712    | Up        |\n",
       "| 1990      |  0.712    |  3.514    | -2.576    | -0.270    |  0.816    | 0.1537280 |  1.178    | Up        |\n",
       "| 1990      |  1.178    |  0.712    |  3.514    | -2.576    | -0.270    | 0.1544440 | -1.372    | Down      |\n",
       "\n"
      ],
      "text/plain": [
       "  Year Lag1   Lag2   Lag3   Lag4   Lag5   Volume    Today  Direction\n",
       "1 1990  0.816  1.572 -3.936 -0.229 -3.484 0.1549760 -0.270 Down     \n",
       "2 1990 -0.270  0.816  1.572 -3.936 -0.229 0.1485740 -2.576 Down     \n",
       "3 1990 -2.576 -0.270  0.816  1.572 -3.936 0.1598375  3.514 Up       \n",
       "4 1990  3.514 -2.576 -0.270  0.816  1.572 0.1616300  0.712 Up       \n",
       "5 1990  0.712  3.514 -2.576 -0.270  0.816 0.1537280  1.178 Up       \n",
       "6 1990  1.178  0.712  3.514 -2.576 -0.270 0.1544440 -1.372 Down     "
      ]
     },
     "metadata": {},
     "output_type": "display_data"
    }
   ],
   "source": [
    "head(Weekly)"
   ]
  },
  {
   "cell_type": "markdown",
   "metadata": {},
   "source": [
    "## Part 1\n",
    "**Produce some numerical and graphical summaries of the `Weekly` data. Do there appear to be any patterns?**"
   ]
  },
  {
   "cell_type": "code",
   "execution_count": 3,
   "metadata": {},
   "outputs": [
    {
     "data": {
      "text/plain": [
       "      Year           Lag1               Lag2               Lag3         \n",
       " Min.   :1990   Min.   :-18.1950   Min.   :-18.1950   Min.   :-18.1950  \n",
       " 1st Qu.:1995   1st Qu.: -1.1540   1st Qu.: -1.1540   1st Qu.: -1.1580  \n",
       " Median :2000   Median :  0.2410   Median :  0.2410   Median :  0.2410  \n",
       " Mean   :2000   Mean   :  0.1506   Mean   :  0.1511   Mean   :  0.1472  \n",
       " 3rd Qu.:2005   3rd Qu.:  1.4050   3rd Qu.:  1.4090   3rd Qu.:  1.4090  \n",
       " Max.   :2010   Max.   : 12.0260   Max.   : 12.0260   Max.   : 12.0260  \n",
       "      Lag4               Lag5              Volume            Today         \n",
       " Min.   :-18.1950   Min.   :-18.1950   Min.   :0.08747   Min.   :-18.1950  \n",
       " 1st Qu.: -1.1580   1st Qu.: -1.1660   1st Qu.:0.33202   1st Qu.: -1.1540  \n",
       " Median :  0.2380   Median :  0.2340   Median :1.00268   Median :  0.2410  \n",
       " Mean   :  0.1458   Mean   :  0.1399   Mean   :1.57462   Mean   :  0.1499  \n",
       " 3rd Qu.:  1.4090   3rd Qu.:  1.4050   3rd Qu.:2.05373   3rd Qu.:  1.4050  \n",
       " Max.   : 12.0260   Max.   : 12.0260   Max.   :9.32821   Max.   : 12.0260  \n",
       " Direction \n",
       " Down:484  \n",
       " Up  :605  \n",
       "           \n",
       "           \n",
       "           \n",
       "           "
      ]
     },
     "metadata": {},
     "output_type": "display_data"
    }
   ],
   "source": [
    "summary(Weekly)"
   ]
  },
  {
   "cell_type": "code",
   "execution_count": 4,
   "metadata": {},
   "outputs": [
    {
     "data": {
      "image/png": "[encoded data removed]",
      "text/plain": [
       "plot without title"
      ]
     },
     "metadata": {},
     "output_type": "display_data"
    }
   ],
   "source": [
    "pairs(Weekly)"
   ]
  },
  {
   "cell_type": "markdown",
   "metadata": {},
   "source": [
    "From the initial summary statistics and scatterplot matrix, there don't appear to be any obvious patterns aside from the fact the volume of shares traded each week has grown quite a lot from 1990 to 2010. Looking more closely at the scatterplot of just volume over time, we can see that the number of shares traded each week has grown exponentially over the 21 years covered by the data."
   ]
  },
  {
   "cell_type": "code",
   "execution_count": 5,
   "metadata": {},
   "outputs": [
    {
     "data": {
      "image/png": "[encoded data removed]",
      "text/plain": [
       "plot without title"
      ]
     },
     "metadata": {},
     "output_type": "display_data"
    }
   ],
   "source": [
    "plot(Weekly$Volume, ylab = \"Shares traded (in billions)\")"
   ]
  },
  {
   "cell_type": "code",
   "execution_count": 6,
   "metadata": {},
   "outputs": [
    {
     "data": {
      "text/html": [
       "<table>\n",
       "<thead><tr><th></th><th scope=col>Year</th><th scope=col>Lag1</th><th scope=col>Lag2</th><th scope=col>Lag3</th><th scope=col>Lag4</th><th scope=col>Lag5</th><th scope=col>Volume</th><th scope=col>Today</th></tr></thead>\n",
       "<tbody>\n",
       "\t<tr><th scope=row>Year</th><td> 1.00000000 </td><td>-0.032289274</td><td>-0.03339001 </td><td>-0.03000649 </td><td>-0.031127923</td><td>-0.030519101</td><td> 0.84194162 </td><td>-0.032459894</td></tr>\n",
       "\t<tr><th scope=row>Lag1</th><td>-0.03228927 </td><td> 1.000000000</td><td>-0.07485305 </td><td> 0.05863568 </td><td>-0.071273876</td><td>-0.008183096</td><td>-0.06495131 </td><td>-0.075031842</td></tr>\n",
       "\t<tr><th scope=row>Lag2</th><td>-0.03339001 </td><td>-0.074853051</td><td> 1.00000000 </td><td>-0.07572091 </td><td> 0.058381535</td><td>-0.072499482</td><td>-0.08551314 </td><td> 0.059166717</td></tr>\n",
       "\t<tr><th scope=row>Lag3</th><td>-0.03000649 </td><td> 0.058635682</td><td>-0.07572091 </td><td> 1.00000000 </td><td>-0.075395865</td><td> 0.060657175</td><td>-0.06928771 </td><td>-0.071243639</td></tr>\n",
       "\t<tr><th scope=row>Lag4</th><td>-0.03112792 </td><td>-0.071273876</td><td> 0.05838153 </td><td>-0.07539587 </td><td> 1.000000000</td><td>-0.075675027</td><td>-0.06107462 </td><td>-0.007825873</td></tr>\n",
       "\t<tr><th scope=row>Lag5</th><td>-0.03051910 </td><td>-0.008183096</td><td>-0.07249948 </td><td> 0.06065717 </td><td>-0.075675027</td><td> 1.000000000</td><td>-0.05851741 </td><td> 0.011012698</td></tr>\n",
       "\t<tr><th scope=row>Volume</th><td> 0.84194162 </td><td>-0.064951313</td><td>-0.08551314 </td><td>-0.06928771 </td><td>-0.061074617</td><td>-0.058517414</td><td> 1.00000000 </td><td>-0.033077783</td></tr>\n",
       "\t<tr><th scope=row>Today</th><td>-0.03245989 </td><td>-0.075031842</td><td> 0.05916672 </td><td>-0.07124364 </td><td>-0.007825873</td><td> 0.011012698</td><td>-0.03307778 </td><td> 1.000000000</td></tr>\n",
       "</tbody>\n",
       "</table>\n"
      ],
      "text/latex": [
       "\\begin{tabular}{r|llllllll}\n",
       "  & Year & Lag1 & Lag2 & Lag3 & Lag4 & Lag5 & Volume & Today\\\\\n",
       "\\hline\n",
       "\tYear &  1.00000000  & -0.032289274 & -0.03339001  & -0.03000649  & -0.031127923 & -0.030519101 &  0.84194162  & -0.032459894\\\\\n",
       "\tLag1 & -0.03228927  &  1.000000000 & -0.07485305  &  0.05863568  & -0.071273876 & -0.008183096 & -0.06495131  & -0.075031842\\\\\n",
       "\tLag2 & -0.03339001  & -0.074853051 &  1.00000000  & -0.07572091  &  0.058381535 & -0.072499482 & -0.08551314  &  0.059166717\\\\\n",
       "\tLag3 & -0.03000649  &  0.058635682 & -0.07572091  &  1.00000000  & -0.075395865 &  0.060657175 & -0.06928771  & -0.071243639\\\\\n",
       "\tLag4 & -0.03112792  & -0.071273876 &  0.05838153  & -0.07539587  &  1.000000000 & -0.075675027 & -0.06107462  & -0.007825873\\\\\n",
       "\tLag5 & -0.03051910  & -0.008183096 & -0.07249948  &  0.06065717  & -0.075675027 &  1.000000000 & -0.05851741  &  0.011012698\\\\\n",
       "\tVolume &  0.84194162  & -0.064951313 & -0.08551314  & -0.06928771  & -0.061074617 & -0.058517414 &  1.00000000  & -0.033077783\\\\\n",
       "\tToday & -0.03245989  & -0.075031842 &  0.05916672  & -0.07124364  & -0.007825873 &  0.011012698 & -0.03307778  &  1.000000000\\\\\n",
       "\\end{tabular}\n"
      ],
      "text/markdown": [
       "\n",
       "| <!--/--> | Year | Lag1 | Lag2 | Lag3 | Lag4 | Lag5 | Volume | Today |\n",
       "|---|---|---|---|---|---|---|---|---|\n",
       "| Year |  1.00000000  | -0.032289274 | -0.03339001  | -0.03000649  | -0.031127923 | -0.030519101 |  0.84194162  | -0.032459894 |\n",
       "| Lag1 | -0.03228927  |  1.000000000 | -0.07485305  |  0.05863568  | -0.071273876 | -0.008183096 | -0.06495131  | -0.075031842 |\n",
       "| Lag2 | -0.03339001  | -0.074853051 |  1.00000000  | -0.07572091  |  0.058381535 | -0.072499482 | -0.08551314  |  0.059166717 |\n",
       "| Lag3 | -0.03000649  |  0.058635682 | -0.07572091  |  1.00000000  | -0.075395865 |  0.060657175 | -0.06928771  | -0.071243639 |\n",
       "| Lag4 | -0.03112792  | -0.071273876 |  0.05838153  | -0.07539587  |  1.000000000 | -0.075675027 | -0.06107462  | -0.007825873 |\n",
       "| Lag5 | -0.03051910  | -0.008183096 | -0.07249948  |  0.06065717  | -0.075675027 |  1.000000000 | -0.05851741  |  0.011012698 |\n",
       "| Volume |  0.84194162  | -0.064951313 | -0.08551314  | -0.06928771  | -0.061074617 | -0.058517414 |  1.00000000  | -0.033077783 |\n",
       "| Today | -0.03245989  | -0.075031842 |  0.05916672  | -0.07124364  | -0.007825873 |  0.011012698 | -0.03307778  |  1.000000000 |\n",
       "\n"
      ],
      "text/plain": [
       "       Year        Lag1         Lag2        Lag3        Lag4        \n",
       "Year    1.00000000 -0.032289274 -0.03339001 -0.03000649 -0.031127923\n",
       "Lag1   -0.03228927  1.000000000 -0.07485305  0.05863568 -0.071273876\n",
       "Lag2   -0.03339001 -0.074853051  1.00000000 -0.07572091  0.058381535\n",
       "Lag3   -0.03000649  0.058635682 -0.07572091  1.00000000 -0.075395865\n",
       "Lag4   -0.03112792 -0.071273876  0.05838153 -0.07539587  1.000000000\n",
       "Lag5   -0.03051910 -0.008183096 -0.07249948  0.06065717 -0.075675027\n",
       "Volume  0.84194162 -0.064951313 -0.08551314 -0.06928771 -0.061074617\n",
       "Today  -0.03245989 -0.075031842  0.05916672 -0.07124364 -0.007825873\n",
       "       Lag5         Volume      Today       \n",
       "Year   -0.030519101  0.84194162 -0.032459894\n",
       "Lag1   -0.008183096 -0.06495131 -0.075031842\n",
       "Lag2   -0.072499482 -0.08551314  0.059166717\n",
       "Lag3    0.060657175 -0.06928771 -0.071243639\n",
       "Lag4   -0.075675027 -0.06107462 -0.007825873\n",
       "Lag5    1.000000000 -0.05851741  0.011012698\n",
       "Volume -0.058517414  1.00000000 -0.033077783\n",
       "Today   0.011012698 -0.03307778  1.000000000"
      ]
     },
     "metadata": {},
     "output_type": "display_data"
    }
   ],
   "source": [
    "cor(Weekly[-9])"
   ]
  },
  {
   "cell_type": "markdown",
   "metadata": {},
   "source": [
    "Lastly, we look at the matrix of correlations between the variables. Looking at the last row, we can see that each of the lag variables is only correlated very weakly with today's returns. The sole substantial value of 0.842, between `Volume` and `Year`, aligns with the strong correlation we saw in the above scatterplot."
   ]
  },
  {
   "cell_type": "markdown",
   "metadata": {},
   "source": [
    "## Part 2\n",
    "**Use the full data set to perform a logistic regression with `Direction` as the response and the five lag variables plus `Volume` as predictors. Use the summary function to print the results. Do any of the predictors appear to be statistically significant? If so, which ones?**"
   ]
  },
  {
   "cell_type": "code",
   "execution_count": 7,
   "metadata": {},
   "outputs": [
    {
     "data": {
      "text/plain": [
       "\n",
       "Call:\n",
       "glm(formula = Direction ~ . - Year - Today, family = \"binomial\", \n",
       "    data = Weekly)\n",
       "\n",
       "Deviance Residuals: \n",
       "    Min       1Q   Median       3Q      Max  \n",
       "-1.6949  -1.2565   0.9913   1.0849   1.4579  \n",
       "\n",
       "Coefficients:\n",
       "            Estimate Std. Error z value Pr(>|z|)   \n",
       "(Intercept)  0.26686    0.08593   3.106   0.0019 **\n",
       "Lag1        -0.04127    0.02641  -1.563   0.1181   \n",
       "Lag2         0.05844    0.02686   2.175   0.0296 * \n",
       "Lag3        -0.01606    0.02666  -0.602   0.5469   \n",
       "Lag4        -0.02779    0.02646  -1.050   0.2937   \n",
       "Lag5        -0.01447    0.02638  -0.549   0.5833   \n",
       "Volume      -0.02274    0.03690  -0.616   0.5377   \n",
       "---\n",
       "Signif. codes:  0 '***' 0.001 '**' 0.01 '*' 0.05 '.' 0.1 ' ' 1\n",
       "\n",
       "(Dispersion parameter for binomial family taken to be 1)\n",
       "\n",
       "    Null deviance: 1496.2  on 1088  degrees of freedom\n",
       "Residual deviance: 1486.4  on 1082  degrees of freedom\n",
       "AIC: 1500.4\n",
       "\n",
       "Number of Fisher Scoring iterations: 4\n"
      ]
     },
     "metadata": {},
     "output_type": "display_data"
    }
   ],
   "source": [
    "glm.full = glm(Direction ~ . - Year - Today, data = Weekly, family = \"binomial\")\n",
    "summary(glm.full)"
   ]
  },
  {
   "cell_type": "markdown",
   "metadata": {},
   "source": [
    "The only statistically significant predictor is `Lag2`, with a p-value of 0.0296 providing evidence at the 5% significance level to reject the null hypothesis that it is not related to the response `Direction`. None of the other predictors are statistically significant, though `Lag1` is somewhat near the border of being significant at the 10% level, with a p-value of 0.1181."
   ]
  },
  {
   "cell_type": "markdown",
   "metadata": {},
   "source": [
    "## Part 3\n",
    "**Compute the confusion matrix and overall fraction of correct predictions. Explain what the confusion matrix is telling you about the types of mistakes made by logistic regression.**"
   ]
  },
  {
   "cell_type": "code",
   "execution_count": 8,
   "metadata": {},
   "outputs": [
    {
     "data": {
      "text/plain": [
       "             \n",
       "glm.full.pred Down  Up\n",
       "         Down   54  48\n",
       "         Up    430 557"
      ]
     },
     "metadata": {},
     "output_type": "display_data"
    }
   ],
   "source": [
    "glm.full.probs = predict(glm.full, type = \"response\")\n",
    "glm.full.pred = rep(\"Down\", 1089)\n",
    "glm.full.pred[glm.full.probs > 0.5] = \"Up\"\n",
    "table(glm.full.pred, Weekly$Direction)"
   ]
  },
  {
   "cell_type": "code",
   "execution_count": 9,
   "metadata": {},
   "outputs": [
    {
     "data": {
      "text/html": [
       "0.561065197428834"
      ],
      "text/latex": [
       "0.561065197428834"
      ],
      "text/markdown": [
       "0.561065197428834"
      ],
      "text/plain": [
       "[1] 0.5610652"
      ]
     },
     "metadata": {},
     "output_type": "display_data"
    }
   ],
   "source": [
    "mean(glm.full.pred == Weekly$Direction)"
   ]
  },
  {
   "cell_type": "markdown",
   "metadata": {},
   "source": [
    "As we can see in the confusion matrix, the logistic regression model using the five lag variables along with `Volume` as the predictors, and a prediction threshold of 0.5, correctly predicted 54 down weeks out of a total of 484 actual down weeks and 557 up days out of a total of 605 actual up weeks. This means that the model correctly predicted the direction for 611 weeks out of the 1089 for an accuracy of 0.5612. While this seems to be better than random chance, it is important to note that the model was trained on the entire data set, so 0.5612 is the *training* accuracy. Moreover, a naive strategy of simply saying that every week will be an up week would have resulted in 605 correctly predicted weeks out of 1089, which is a very similar level of overall accuracy.\n",
    "\n",
    "To look a little closer at the confusion matrix, let's assume that our goal is to correctly predict when the market will go up. In this case, up weeks will be considered as positive ($+$) and down weeks as negative ($-$). Having set this convention, we can now consider four important quantities associated with the confusion matrix: true positive rate (i.e. *sensitivity* or *recall*), false positive rate, positive predictive value (i.e. *precision*), and negative predictive value. The true positive rate is the number of correctly predicted positives divided by the overall number of positives -- the number of correctly predicted up weeks (557) over the total number of up weeks (605) for a value of $557/605 \\approx 0.92$ for this model. While this is a pretty high value, which is good, the false positive rate -- the number of incorrectly predicted positives (weeks incorrectly predicted to be up weeks = 430 weeks) divided by the overall number of negatives (the total number of down weeks = 484 weeks) -- is comparably high at $430/484 \\approx 0.888$, which might be quite bad depending on our sensitivity to losing money on an incorrectly predicted down week. Next is the positive predictive value, which is the number of true positives divided by the total number of predicted positives; in our case this is $557/987 \\approx 0.564$. This is better than chance, but as already noted we would have a comparable positive predictive value if we just predicted that every week would be an up week. Lastly is the negative predictive value, which is the number of true negatives divided by the total number of predicted negatives; in our case this is $54/102 \\approx 0.529$. "
   ]
  },
  {
   "cell_type": "markdown",
   "metadata": {},
   "source": [
    "## Part 4\n",
    "**Now fit the logistic regression model using a training data period from 1990 to 2008, with `Lag2` as the only predictor. Compute the confusion matrix and the overall fraction of correct predictions for the held out data (that is, the data from 2009 and 2010).**"
   ]
  },
  {
   "cell_type": "code",
   "execution_count": 10,
   "metadata": {},
   "outputs": [],
   "source": [
    "train = (Weekly$Year < 2009)"
   ]
  },
  {
   "cell_type": "code",
   "execution_count": 11,
   "metadata": {},
   "outputs": [
    {
     "data": {
      "text/plain": [
       "\n",
       "Call:\n",
       "glm(formula = Direction ~ Lag2, family = \"binomial\", data = Weekly, \n",
       "    subset = train)\n",
       "\n",
       "Deviance Residuals: \n",
       "   Min      1Q  Median      3Q     Max  \n",
       "-1.536  -1.264   1.021   1.091   1.368  \n",
       "\n",
       "Coefficients:\n",
       "            Estimate Std. Error z value Pr(>|z|)   \n",
       "(Intercept)  0.20326    0.06428   3.162  0.00157 **\n",
       "Lag2         0.05810    0.02870   2.024  0.04298 * \n",
       "---\n",
       "Signif. codes:  0 '***' 0.001 '**' 0.01 '*' 0.05 '.' 0.1 ' ' 1\n",
       "\n",
       "(Dispersion parameter for binomial family taken to be 1)\n",
       "\n",
       "    Null deviance: 1354.7  on 984  degrees of freedom\n",
       "Residual deviance: 1350.5  on 983  degrees of freedom\n",
       "AIC: 1354.5\n",
       "\n",
       "Number of Fisher Scoring iterations: 4\n"
      ]
     },
     "metadata": {},
     "output_type": "display_data"
    }
   ],
   "source": [
    "glm.fit = glm(Direction ~ Lag2, data = Weekly, subset = train, family = \"binomial\")\n",
    "summary(glm.fit)"
   ]
  },
  {
   "cell_type": "code",
   "execution_count": 12,
   "metadata": {},
   "outputs": [
    {
     "data": {
      "text/plain": [
       "        \n",
       "glm.pred Down Up\n",
       "    Down    9  5\n",
       "    Up     34 56"
      ]
     },
     "metadata": {},
     "output_type": "display_data"
    }
   ],
   "source": [
    "glm.probs = predict(glm.fit, Weekly[!train, ], type = \"response\")\n",
    "glm.pred = rep(\"Down\", dim(Weekly[!train, ])[1])\n",
    "glm.pred[glm.probs > 0.5] = \"Up\"\n",
    "table(glm.pred, Weekly[!train, ]$Direction)"
   ]
  },
  {
   "cell_type": "code",
   "execution_count": 13,
   "metadata": {},
   "outputs": [
    {
     "data": {
      "text/html": [
       "0.625"
      ],
      "text/latex": [
       "0.625"
      ],
      "text/markdown": [
       "0.625"
      ],
      "text/plain": [
       "[1] 0.625"
      ]
     },
     "metadata": {},
     "output_type": "display_data"
    }
   ],
   "source": [
    "mean(glm.pred == Weekly[!train, ]$Direction)"
   ]
  },
  {
   "cell_type": "code",
   "execution_count": 14,
   "metadata": {},
   "outputs": [
    {
     "data": {
      "text/html": [
       "0.586538461538462"
      ],
      "text/latex": [
       "0.586538461538462"
      ],
      "text/markdown": [
       "0.586538461538462"
      ],
      "text/plain": [
       "[1] 0.5865385"
      ]
     },
     "metadata": {},
     "output_type": "display_data"
    }
   ],
   "source": [
    "mean(Weekly[!train, ]$Direction == \"Up\")"
   ]
  },
  {
   "cell_type": "markdown",
   "metadata": {},
   "source": [
    "After fitting a logistic regression model on the data from 1990 through 2008 using only `Lag2` as the predictor, the model correctly predicted the market direction for 62.5% of the weeks in the held-out data (the data from 2009 and 2010). While this is better than chance, it still is less than a 10% improvement over naively predicting that every week will be an up week. Continuing with the convention from Part 3 that an up week is a positive result, the true positive rate is $56/61 \\approx 0.918$, while the false positive rate is $34/43 \\approx 0.791$. In addition, the positive predictive value is $56/90 \\approx 0.622$ and the negative predictive value is $9/14 \\approx 0.643$."
   ]
  },
  {
   "cell_type": "markdown",
   "metadata": {},
   "source": [
    "## Part 5\n",
    "**Repeat Part 4 using LDA.**"
   ]
  },
  {
   "cell_type": "code",
   "execution_count": 15,
   "metadata": {},
   "outputs": [],
   "source": [
    "library(MASS)"
   ]
  },
  {
   "cell_type": "code",
   "execution_count": 16,
   "metadata": {},
   "outputs": [],
   "source": [
    "lda.fit = lda(Direction ~ Lag2, data = Weekly, subset = train)"
   ]
  },
  {
   "cell_type": "code",
   "execution_count": 17,
   "metadata": {},
   "outputs": [
    {
     "data": {
      "text/plain": [
       "Call:\n",
       "lda(Direction ~ Lag2, data = Weekly, subset = train)\n",
       "\n",
       "Prior probabilities of groups:\n",
       "     Down        Up \n",
       "0.4477157 0.5522843 \n",
       "\n",
       "Group means:\n",
       "            Lag2\n",
       "Down -0.03568254\n",
       "Up    0.26036581\n",
       "\n",
       "Coefficients of linear discriminants:\n",
       "           LD1\n",
       "Lag2 0.4414162"
      ]
     },
     "metadata": {},
     "output_type": "display_data"
    }
   ],
   "source": [
    "lda.fit"
   ]
  },
  {
   "cell_type": "code",
   "execution_count": 18,
   "metadata": {},
   "outputs": [
    {
     "data": {
      "text/plain": [
       "      \n",
       "       Down Up\n",
       "  Down    9  5\n",
       "  Up     34 56"
      ]
     },
     "metadata": {},
     "output_type": "display_data"
    }
   ],
   "source": [
    "lda.pred = predict(lda.fit, Weekly[!train, ])\n",
    "table(lda.pred$class, Weekly[!train, ]$Direction)"
   ]
  },
  {
   "cell_type": "code",
   "execution_count": 19,
   "metadata": {},
   "outputs": [
    {
     "data": {
      "text/html": [
       "0.625"
      ],
      "text/latex": [
       "0.625"
      ],
      "text/markdown": [
       "0.625"
      ],
      "text/plain": [
       "[1] 0.625"
      ]
     },
     "metadata": {},
     "output_type": "display_data"
    }
   ],
   "source": [
    "mean(lda.pred$class == Weekly[!train, ]$Direction)"
   ]
  },
  {
   "cell_type": "markdown",
   "metadata": {},
   "source": [
    "After performing linear discriminant analysis on the data from 1990 through 2008 using only `Lag2` as the predictor, we ended up with an identical confusion matrix to the one from Part 4 with the logistic regression model. As we saw in Part 4, the model correctly predicted the market direction for 62.5% of the weeks in the held-out data (the data from 2009 and 2010). While this is better than chance, it still is less than a 10% improvement over naively predicting that every week will be an up week. Continuing with the convention from Part 3 that an up week is a positive result, the true positive rate is $56/61 \\approx 0.918$, while the false positive rate is $34/43 \\approx 0.791$. In addition, the positive predictive value is $56/90 \\approx 0.622$ and the negative predictive value is $9/14 \\approx 0.643$."
   ]
  },
  {
   "cell_type": "markdown",
   "metadata": {},
   "source": [
    "## Part 6\n",
    "**Repeat Part 4 using QDA.**"
   ]
  },
  {
   "cell_type": "code",
   "execution_count": 20,
   "metadata": {},
   "outputs": [
    {
     "data": {
      "text/plain": [
       "Call:\n",
       "qda(Direction ~ Lag2, data = Weekly, subset = train)\n",
       "\n",
       "Prior probabilities of groups:\n",
       "     Down        Up \n",
       "0.4477157 0.5522843 \n",
       "\n",
       "Group means:\n",
       "            Lag2\n",
       "Down -0.03568254\n",
       "Up    0.26036581"
      ]
     },
     "metadata": {},
     "output_type": "display_data"
    }
   ],
   "source": [
    "qda.fit = qda(Direction ~ Lag2, data = Weekly, subset = train)\n",
    "qda.fit"
   ]
  },
  {
   "cell_type": "code",
   "execution_count": 21,
   "metadata": {},
   "outputs": [
    {
     "data": {
      "text/plain": [
       "      \n",
       "       Down Up\n",
       "  Down    0  0\n",
       "  Up     43 61"
      ]
     },
     "metadata": {},
     "output_type": "display_data"
    }
   ],
   "source": [
    "qda.pred = predict(qda.fit, Weekly[!train, ])\n",
    "table(qda.pred$class, Weekly[!train, ]$Direction)"
   ]
  },
  {
   "cell_type": "code",
   "execution_count": 22,
   "metadata": {},
   "outputs": [
    {
     "data": {
      "text/html": [
       "0.586538461538462"
      ],
      "text/latex": [
       "0.586538461538462"
      ],
      "text/markdown": [
       "0.586538461538462"
      ],
      "text/plain": [
       "[1] 0.5865385"
      ]
     },
     "metadata": {},
     "output_type": "display_data"
    }
   ],
   "source": [
    "mean(qda.pred$class == Weekly[!train, ]$Direction)"
   ]
  },
  {
   "cell_type": "markdown",
   "metadata": {},
   "source": [
    "After performing quadratic discriminant analysis on the data from 1990 through 2008 using only `Lag2` as the predictor, we ended up with a model that ended up predicting that every week in 2009 and 2010 would be an up week. The model correctly predicted the market direction for 58.7% of the weeks in the held-out data (the data from 2009 and 2010). While this is better than chance, it is the same result one would get from naively predicting that every week will be an up week, so to better compare the performance of this model to the logistic regression and linear discriminant analysis models testing on a larger test set would be necessary. Continuing with the convention from Part 3 that an up week is a positive result, the true positive rate is $61/61 = 1$, while the false positive rate is $43/43 \\approx 1$. In addition, the positive predictive value is $61/104 \\approx 0.587$ and since there were no negative predictions discussing the negative predictive value is meaningless."
   ]
  },
  {
   "cell_type": "markdown",
   "metadata": {},
   "source": [
    "## Part 7\n",
    "**Repeat Part 4 using KNN with $K = 1$.**"
   ]
  },
  {
   "cell_type": "code",
   "execution_count": 23,
   "metadata": {},
   "outputs": [],
   "source": [
    "library(class)"
   ]
  },
  {
   "cell_type": "code",
   "execution_count": 24,
   "metadata": {},
   "outputs": [],
   "source": [
    "train.X = data.frame(Weekly[train, ]$Lag2)\n",
    "test.X = data.frame(Weekly[!train, ]$Lag2)\n",
    "train.Direction = Weekly[train, ]$Direction"
   ]
  },
  {
   "cell_type": "code",
   "execution_count": 25,
   "metadata": {},
   "outputs": [
    {
     "data": {
      "text/plain": [
       "        \n",
       "knn.pred Down Up\n",
       "    Down   21 30\n",
       "    Up     22 31"
      ]
     },
     "metadata": {},
     "output_type": "display_data"
    }
   ],
   "source": [
    "set.seed(1)\n",
    "knn.pred = knn(train.X, test.X, train.Direction, k = 1)\n",
    "table(knn.pred, Weekly[!train, ]$Direction)"
   ]
  },
  {
   "cell_type": "code",
   "execution_count": 26,
   "metadata": {},
   "outputs": [
    {
     "data": {
      "text/html": [
       "0.5"
      ],
      "text/latex": [
       "0.5"
      ],
      "text/markdown": [
       "0.5"
      ],
      "text/plain": [
       "[1] 0.5"
      ]
     },
     "metadata": {},
     "output_type": "display_data"
    }
   ],
   "source": [
    "mean(knn.pred == Weekly[!train, ]$Direction)"
   ]
  },
  {
   "cell_type": "markdown",
   "metadata": {},
   "source": [
    "After performing $k$-nearest neighbors classification with $k = 1$ on the data from 1990 through 2008 using only `Lag2` as the predictor, the model correctly predicted the market direction for 50% of the weeks in the held-out data (the data from 2009 and 2010). While this only as good as picking the direction randomly, it had worse performance than naively predicting that every week will be an up week. Continuing with the convention from Part 3 that an up week is a positive result, the true positive rate is $31/61 \\approx 0.508$, while the false positive rate is $22/43 \\approx 0.512$. In addition, the positive predictive value is $31/53 \\approx 0.585$ and the negative predictive value is $21/51 \\approx 0.412$."
   ]
  },
  {
   "cell_type": "markdown",
   "metadata": {},
   "source": [
    "## Part 8\n",
    "**Which of these methods appears to provide the best results on this data?**"
   ]
  },
  {
   "cell_type": "markdown",
   "metadata": {},
   "source": [
    "If we are only considering overall prediction accuracy, it appears that logistic regression and linear discriminant analysis were equally good as the models that performed the best on this data. Quadratic discriminant analysis came in third place, and $k$-nearest neighbors with $k = 1$ a distant fourth. As noted above in Part 7, $k$-nearest neighbors didn't perform any better than randomly guessing, and in fact performed worse than naively predicting every week would be an up week. One thing that I would be cautious of, though, is the fact that aside from KNN, the other three models very strongly preferred to predict up weeks, and therefore had high false positive rates. This might be okay for an investor who is comfortable with taking more risks and has can afford losing money to down weeks that were incorrectly predicted to be up weeks, but a risk-averse investor would probably want to use a less aggressive model, or at least require a higher probability threshold than 50% before accepting a prediction of an up week."
   ]
  },
  {
   "cell_type": "markdown",
   "metadata": {},
   "source": [
    "## Part 9\n",
    "**Experiment with different combinations of predictors, including possible transformations and interactions, for each of the methods. Report the variables, method, and associated confusion matrix that appears to provide the best results on the held out data. Note that you should also experiment with values for $K$ in the KNN classifier.**"
   ]
  },
  {
   "cell_type": "markdown",
   "metadata": {},
   "source": [
    "The combination of predictors I will try out is a weighted average of the lag variables where the recent lag values are weighted more heavily than the ones further in the past. More specifically, I will try out giving `Lag1` a weight of 40%, `Lag2` a weight of 35%, `Lag3` a weight of 15%, and `Lag4` and `Lag5` each weights of 5%. Note that I don't have a strong reason for these particular values of the weights aside from the intuitive assumption that recent weeks might be more-related to the direction of the current week than weeks that are further in the past."
   ]
  },
  {
   "cell_type": "code",
   "execution_count": 27,
   "metadata": {},
   "outputs": [
    {
     "data": {
      "text/html": [
       "<table>\n",
       "<thead><tr><th scope=col>Year</th><th scope=col>Lag1</th><th scope=col>Lag2</th><th scope=col>Lag3</th><th scope=col>Lag4</th><th scope=col>Lag5</th><th scope=col>Volume</th><th scope=col>Today</th><th scope=col>Direction</th><th scope=col>weighted.lag.avg</th></tr></thead>\n",
       "<tbody>\n",
       "\t<tr><td>1990     </td><td> 0.816   </td><td> 1.572   </td><td>-3.936   </td><td>-0.229   </td><td>-3.484   </td><td>0.1549760</td><td>-0.270   </td><td>Down     </td><td> 0.10055 </td></tr>\n",
       "\t<tr><td>1990     </td><td>-0.270   </td><td> 0.816   </td><td> 1.572   </td><td>-3.936   </td><td>-0.229   </td><td>0.1485740</td><td>-2.576   </td><td>Down     </td><td> 0.20515 </td></tr>\n",
       "\t<tr><td>1990     </td><td>-2.576   </td><td>-0.270   </td><td> 0.816   </td><td> 1.572   </td><td>-3.936   </td><td>0.1598375</td><td> 3.514   </td><td>Up       </td><td>-1.12070 </td></tr>\n",
       "\t<tr><td>1990     </td><td> 3.514   </td><td>-2.576   </td><td>-0.270   </td><td> 0.816   </td><td> 1.572   </td><td>0.1616300</td><td> 0.712   </td><td>Up       </td><td> 0.58290 </td></tr>\n",
       "\t<tr><td>1990     </td><td> 0.712   </td><td> 3.514   </td><td>-2.576   </td><td>-0.270   </td><td> 0.816   </td><td>0.1537280</td><td> 1.178   </td><td>Up       </td><td> 1.15560 </td></tr>\n",
       "\t<tr><td>1990     </td><td> 1.178   </td><td> 0.712   </td><td> 3.514   </td><td>-2.576   </td><td>-0.270   </td><td>0.1544440</td><td>-1.372   </td><td>Down     </td><td> 1.10520 </td></tr>\n",
       "</tbody>\n",
       "</table>\n"
      ],
      "text/latex": [
       "\\begin{tabular}{r|llllllllll}\n",
       " Year & Lag1 & Lag2 & Lag3 & Lag4 & Lag5 & Volume & Today & Direction & weighted.lag.avg\\\\\n",
       "\\hline\n",
       "\t 1990      &  0.816    &  1.572    & -3.936    & -0.229    & -3.484    & 0.1549760 & -0.270    & Down      &  0.10055 \\\\\n",
       "\t 1990      & -0.270    &  0.816    &  1.572    & -3.936    & -0.229    & 0.1485740 & -2.576    & Down      &  0.20515 \\\\\n",
       "\t 1990      & -2.576    & -0.270    &  0.816    &  1.572    & -3.936    & 0.1598375 &  3.514    & Up        & -1.12070 \\\\\n",
       "\t 1990      &  3.514    & -2.576    & -0.270    &  0.816    &  1.572    & 0.1616300 &  0.712    & Up        &  0.58290 \\\\\n",
       "\t 1990      &  0.712    &  3.514    & -2.576    & -0.270    &  0.816    & 0.1537280 &  1.178    & Up        &  1.15560 \\\\\n",
       "\t 1990      &  1.178    &  0.712    &  3.514    & -2.576    & -0.270    & 0.1544440 & -1.372    & Down      &  1.10520 \\\\\n",
       "\\end{tabular}\n"
      ],
      "text/markdown": [
       "\n",
       "| Year | Lag1 | Lag2 | Lag3 | Lag4 | Lag5 | Volume | Today | Direction | weighted.lag.avg |\n",
       "|---|---|---|---|---|---|---|---|---|---|\n",
       "| 1990      |  0.816    |  1.572    | -3.936    | -0.229    | -3.484    | 0.1549760 | -0.270    | Down      |  0.10055  |\n",
       "| 1990      | -0.270    |  0.816    |  1.572    | -3.936    | -0.229    | 0.1485740 | -2.576    | Down      |  0.20515  |\n",
       "| 1990      | -2.576    | -0.270    |  0.816    |  1.572    | -3.936    | 0.1598375 |  3.514    | Up        | -1.12070  |\n",
       "| 1990      |  3.514    | -2.576    | -0.270    |  0.816    |  1.572    | 0.1616300 |  0.712    | Up        |  0.58290  |\n",
       "| 1990      |  0.712    |  3.514    | -2.576    | -0.270    |  0.816    | 0.1537280 |  1.178    | Up        |  1.15560  |\n",
       "| 1990      |  1.178    |  0.712    |  3.514    | -2.576    | -0.270    | 0.1544440 | -1.372    | Down      |  1.10520  |\n",
       "\n"
      ],
      "text/plain": [
       "  Year Lag1   Lag2   Lag3   Lag4   Lag5   Volume    Today  Direction\n",
       "1 1990  0.816  1.572 -3.936 -0.229 -3.484 0.1549760 -0.270 Down     \n",
       "2 1990 -0.270  0.816  1.572 -3.936 -0.229 0.1485740 -2.576 Down     \n",
       "3 1990 -2.576 -0.270  0.816  1.572 -3.936 0.1598375  3.514 Up       \n",
       "4 1990  3.514 -2.576 -0.270  0.816  1.572 0.1616300  0.712 Up       \n",
       "5 1990  0.712  3.514 -2.576 -0.270  0.816 0.1537280  1.178 Up       \n",
       "6 1990  1.178  0.712  3.514 -2.576 -0.270 0.1544440 -1.372 Down     \n",
       "  weighted.lag.avg\n",
       "1  0.10055        \n",
       "2  0.20515        \n",
       "3 -1.12070        \n",
       "4  0.58290        \n",
       "5  1.15560        \n",
       "6  1.10520        "
      ]
     },
     "metadata": {},
     "output_type": "display_data"
    }
   ],
   "source": [
    "weighted.lag.avg = 0.4*Weekly$Lag1 + 0.35*Weekly$Lag2 + 0.15*Weekly$Lag3 + 0.05*Weekly$Lag4 + 0.05*Weekly$Lag5\n",
    "Weekly = data.frame(Weekly, weighted.lag.avg)\n",
    "head(Weekly)"
   ]
  },
  {
   "cell_type": "code",
   "execution_count": 28,
   "metadata": {},
   "outputs": [
    {
     "data": {
      "text/html": [
       "-0.0372414071307195"
      ],
      "text/latex": [
       "-0.0372414071307195"
      ],
      "text/markdown": [
       "-0.0372414071307195"
      ],
      "text/plain": [
       "[1] -0.03724141"
      ]
     },
     "metadata": {},
     "output_type": "display_data"
    }
   ],
   "source": [
    "cor(Weekly$Today, Weekly$weighted.lag.avg)"
   ]
  },
  {
   "cell_type": "markdown",
   "metadata": {},
   "source": [
    "Computing the correlation between this weighted average and the value of the current week's return, we see that there only a very weak correlation between the two quantities. It is smaller in magnitude than the correlations between `Today` and the first the lag variables individually. That seems to suggest that this weighting might not be too useful, but I will still try out each of the classification methods using this transformation of the predictors. I will start out with logistic regression."
   ]
  },
  {
   "cell_type": "code",
   "execution_count": 29,
   "metadata": {},
   "outputs": [
    {
     "data": {
      "text/plain": [
       "\n",
       "Call:\n",
       "glm(formula = Direction ~ weighted.lag.avg, family = \"binomial\", \n",
       "    data = Weekly, subset = train)\n",
       "\n",
       "Deviance Residuals: \n",
       "   Min      1Q  Median      3Q     Max  \n",
       "-1.345  -1.264   1.074   1.092   1.127  \n",
       "\n",
       "Coefficients:\n",
       "                 Estimate Std. Error z value Pr(>|z|)    \n",
       "(Intercept)       0.21349    0.06446   3.312 0.000926 ***\n",
       "weighted.lag.avg -0.02816    0.05347  -0.527 0.598508    \n",
       "---\n",
       "Signif. codes:  0 '***' 0.001 '**' 0.01 '*' 0.05 '.' 0.1 ' ' 1\n",
       "\n",
       "(Dispersion parameter for binomial family taken to be 1)\n",
       "\n",
       "    Null deviance: 1354.7  on 984  degrees of freedom\n",
       "Residual deviance: 1354.4  on 983  degrees of freedom\n",
       "AIC: 1358.4\n",
       "\n",
       "Number of Fisher Scoring iterations: 3\n"
      ]
     },
     "metadata": {},
     "output_type": "display_data"
    }
   ],
   "source": [
    "glm.fit = glm(Direction ~ weighted.lag.avg, data = Weekly, subset = train, family = \"binomial\")\n",
    "summary(glm.fit)"
   ]
  },
  {
   "cell_type": "code",
   "execution_count": 30,
   "metadata": {},
   "outputs": [
    {
     "data": {
      "text/plain": [
       "        \n",
       "glm.pred Down Up\n",
       "      Up   43 61"
      ]
     },
     "metadata": {},
     "output_type": "display_data"
    }
   ],
   "source": [
    "glm.probs = predict(glm.fit, Weekly[!train, ], type = \"response\")\n",
    "glm.pred = rep(\"Down\", dim(Weekly[!train, ])[1])\n",
    "glm.pred[glm.probs > 0.5] = \"Up\"\n",
    "table(glm.pred, Weekly[!train, ]$Direction)"
   ]
  },
  {
   "cell_type": "code",
   "execution_count": 31,
   "metadata": {},
   "outputs": [
    {
     "data": {
      "text/html": [
       "0.586538461538462"
      ],
      "text/latex": [
       "0.586538461538462"
      ],
      "text/markdown": [
       "0.586538461538462"
      ],
      "text/plain": [
       "[1] 0.5865385"
      ]
     },
     "metadata": {},
     "output_type": "display_data"
    }
   ],
   "source": [
    "mean(glm.pred == Weekly[!train, ]$Direction)"
   ]
  },
  {
   "cell_type": "markdown",
   "metadata": {},
   "source": [
    "As we can see, the results with logistic regression aren't particularly encouraing, as with a prediction threshold of 50% this method was equivalent to always predicting that the market would go up when evaluated on the test set. In addition, the p-value for the coefficient of `weighted.lag.avg` is 0.598, which means that there isn't evidence to say that it is statistically significant. Thinking a little more about the idea of using a weighted average, it makes sense that the performance with logistic regression won't provide an improvement over what we did in Part 4, since the weighted average is still a linear combination of the variables. We already saw that in a logistic regression model, `Lag2` was the only statistically significant coefficient, and even then it is borderline at the 5% significance level, so the weighted average includes variables which we already had reason to believe weren't particularly helpful in making a strong model. I'll still try out the remaining methods with `weighted.lag.avg` before trying out one other combination of the predictors. Next up is linear discriminant analysis."
   ]
  },
  {
   "cell_type": "code",
   "execution_count": 32,
   "metadata": {},
   "outputs": [],
   "source": [
    "lda.fit = lda(Direction ~ weighted.lag.avg, data = Weekly, subset = train)"
   ]
  },
  {
   "cell_type": "code",
   "execution_count": 33,
   "metadata": {},
   "outputs": [
    {
     "data": {
      "text/plain": [
       "      \n",
       "       Down Up\n",
       "  Down    0  0\n",
       "  Up     43 61"
      ]
     },
     "metadata": {},
     "output_type": "display_data"
    }
   ],
   "source": [
    "lda.pred = predict(lda.fit, Weekly[!train, ])\n",
    "table(lda.pred$class, Weekly[!train, ]$Direction)"
   ]
  },
  {
   "cell_type": "code",
   "execution_count": 34,
   "metadata": {},
   "outputs": [
    {
     "data": {
      "text/html": [
       "0.586538461538462"
      ],
      "text/latex": [
       "0.586538461538462"
      ],
      "text/markdown": [
       "0.586538461538462"
      ],
      "text/plain": [
       "[1] 0.5865385"
      ]
     },
     "metadata": {},
     "output_type": "display_data"
    }
   ],
   "source": [
    "mean(lda.pred$class == Weekly[!train, ]$Direction)"
   ]
  },
  {
   "cell_type": "markdown",
   "metadata": {},
   "source": [
    "Linear discriminant analysis has the same performance as logistic regression. This is reasonable since the two methods often perform similarly. Now we'll consider quadratic discriminant analysis."
   ]
  },
  {
   "cell_type": "code",
   "execution_count": 35,
   "metadata": {},
   "outputs": [],
   "source": [
    "qda.fit = qda(Direction ~ weighted.lag.avg, data = Weekly, subset = train)"
   ]
  },
  {
   "cell_type": "code",
   "execution_count": 36,
   "metadata": {},
   "outputs": [
    {
     "data": {
      "text/plain": [
       "      \n",
       "       Down Up\n",
       "  Down    0  0\n",
       "  Up     43 61"
      ]
     },
     "metadata": {},
     "output_type": "display_data"
    }
   ],
   "source": [
    "qda.pred = predict(qda.fit, Weekly[!train, ])\n",
    "table(qda.pred$class, Weekly[!train, ]$Direction)"
   ]
  },
  {
   "cell_type": "code",
   "execution_count": 37,
   "metadata": {},
   "outputs": [
    {
     "data": {
      "text/html": [
       "0.586538461538462"
      ],
      "text/latex": [
       "0.586538461538462"
      ],
      "text/markdown": [
       "0.586538461538462"
      ],
      "text/plain": [
       "[1] 0.5865385"
      ]
     },
     "metadata": {},
     "output_type": "display_data"
    }
   ],
   "source": [
    "mean(qda.pred$class == Weekly[!train, ]$Direction)"
   ]
  },
  {
   "cell_type": "code",
   "execution_count": 38,
   "metadata": {},
   "outputs": [
    {
     "data": {
      "text/html": [
       "0.943525706180473"
      ],
      "text/latex": [
       "0.943525706180473"
      ],
      "text/markdown": [
       "0.943525706180473"
      ],
      "text/plain": [
       "[1] 0.9435257"
      ]
     },
     "metadata": {},
     "output_type": "display_data"
    }
   ],
   "source": [
    "max(qda.pred$posterior)"
   ]
  },
  {
   "cell_type": "markdown",
   "metadata": {},
   "source": [
    "Quadratic discriminant analysis also performed the same, but when checking the maximum value in the dataframe of posterior probabilities, I noticed that the maximum probability from QDA is 0.943. This means that it could be meaningful to try out a stricter threshold for predicting an up week. I will try out a threshold of 60%."
   ]
  },
  {
   "cell_type": "code",
   "execution_count": 39,
   "metadata": {},
   "outputs": [
    {
     "data": {
      "text/plain": [
       "          \n",
       "qda.pred60 Down Up\n",
       "      Down   37 48\n",
       "      Up      6 13"
      ]
     },
     "metadata": {},
     "output_type": "display_data"
    }
   ],
   "source": [
    "qda.pred60 = rep(\"Down\", dim(Weekly[!train, ])[1])\n",
    "qda.pred60[qda.pred$posterior[, \"Up\"] > 0.6] = \"Up\"\n",
    "table(qda.pred60, Weekly[!train, ]$Direction)"
   ]
  },
  {
   "cell_type": "code",
   "execution_count": 40,
   "metadata": {},
   "outputs": [
    {
     "data": {
      "text/html": [
       "0.480769230769231"
      ],
      "text/latex": [
       "0.480769230769231"
      ],
      "text/markdown": [
       "0.480769230769231"
      ],
      "text/plain": [
       "[1] 0.4807692"
      ]
     },
     "metadata": {},
     "output_type": "display_data"
    }
   ],
   "source": [
    "mean(qda.pred60 == Weekly[!train, ]$Direction)"
   ]
  },
  {
   "cell_type": "markdown",
   "metadata": {},
   "source": [
    "With a somewhat stricter probability threshold of 60% for predicting an up week, we see that our overall prediction accuracy goes down to 48.1%. However, our false positive rate is now $6/43 \\approx 0.14$, which is a big improvement over the false positive rate of 1 from Part 6. In addition, our positive predictive value is $13/19 \\approx 0.684$, which is also an improvement over the value of 0.587 from Part 6. This suggests that if we are risk-averse investors who only want to invest our money when there is a pretty good chance of the market going up, then QDA with our weighted average of the lag variables and a stricter probability threshold could be promising.  Last up is $k$-nearest neighbors."
   ]
  },
  {
   "cell_type": "code",
   "execution_count": 41,
   "metadata": {},
   "outputs": [],
   "source": [
    "train.X = data.frame(Weekly[train, \"weighted.lag.avg\"])\n",
    "test.X = data.frame(Weekly[!train, \"weighted.lag.avg\"])\n",
    "train.Direction = Weekly[train, \"Direction\"]"
   ]
  },
  {
   "cell_type": "code",
   "execution_count": 42,
   "metadata": {},
   "outputs": [
    {
     "data": {
      "text/plain": [
       "        \n",
       "knn.pred Down Up\n",
       "    Down   14 28\n",
       "    Up     29 33"
      ]
     },
     "metadata": {},
     "output_type": "display_data"
    }
   ],
   "source": [
    "set.seed(1)\n",
    "knn.pred = knn(train.X, test.X, train.Direction, k = 1)\n",
    "table(knn.pred, Weekly[!train, ]$Direction)"
   ]
  },
  {
   "cell_type": "code",
   "execution_count": 43,
   "metadata": {},
   "outputs": [
    {
     "data": {
      "text/html": [
       "0.451923076923077"
      ],
      "text/latex": [
       "0.451923076923077"
      ],
      "text/markdown": [
       "0.451923076923077"
      ],
      "text/plain": [
       "[1] 0.4519231"
      ]
     },
     "metadata": {},
     "output_type": "display_data"
    }
   ],
   "source": [
    "mean(knn.pred == Weekly[!train, ]$Direction)"
   ]
  },
  {
   "cell_type": "markdown",
   "metadata": {},
   "source": [
    "With $k = 1$, KNN performs even worse than random guessing when it comes to overall prediction accuracy, and the true positive rate (0.541), false positive rate (0.674), and positive predictive rate (0.532) aren't encouraging when compared to the result from Part 8. Before moving on, let's try out two more values for $k$: $k = 3$ and $k = 5$."
   ]
  },
  {
   "cell_type": "code",
   "execution_count": 44,
   "metadata": {},
   "outputs": [
    {
     "data": {
      "text/plain": [
       "        \n",
       "knn.pred Down Up\n",
       "    Down   15 28\n",
       "    Up     28 33"
      ]
     },
     "metadata": {},
     "output_type": "display_data"
    }
   ],
   "source": [
    "set.seed(1)\n",
    "knn.pred = knn(train.X, test.X, train.Direction, k = 3)\n",
    "table(knn.pred, Weekly[!train, ]$Direction)"
   ]
  },
  {
   "cell_type": "code",
   "execution_count": 45,
   "metadata": {},
   "outputs": [
    {
     "data": {
      "text/html": [
       "0.461538461538462"
      ],
      "text/latex": [
       "0.461538461538462"
      ],
      "text/markdown": [
       "0.461538461538462"
      ],
      "text/plain": [
       "[1] 0.4615385"
      ]
     },
     "metadata": {},
     "output_type": "display_data"
    }
   ],
   "source": [
    "mean(knn.pred == Weekly[!train, ]$Direction)"
   ]
  },
  {
   "cell_type": "code",
   "execution_count": 46,
   "metadata": {},
   "outputs": [
    {
     "data": {
      "text/plain": [
       "        \n",
       "knn.pred Down Up\n",
       "    Down   13 26\n",
       "    Up     30 35"
      ]
     },
     "metadata": {},
     "output_type": "display_data"
    }
   ],
   "source": [
    "set.seed(1)\n",
    "knn.pred = knn(train.X, test.X, train.Direction, k = 5)\n",
    "table(knn.pred, Weekly[!train, ]$Direction)"
   ]
  },
  {
   "cell_type": "code",
   "execution_count": 47,
   "metadata": {},
   "outputs": [
    {
     "data": {
      "text/html": [
       "0.461538461538462"
      ],
      "text/latex": [
       "0.461538461538462"
      ],
      "text/markdown": [
       "0.461538461538462"
      ],
      "text/plain": [
       "[1] 0.4615385"
      ]
     },
     "metadata": {},
     "output_type": "display_data"
    }
   ],
   "source": [
    "mean(knn.pred == Weekly[!train, ]$Direction)"
   ]
  },
  {
   "cell_type": "markdown",
   "metadata": {},
   "source": [
    "Even when we increase the value of $k$, the results are largely the same. While it would be best to compare these different models using additional tools, such as computing ROC curves and AUC scores for each model, I'll save that for Chapter 9 when we discuss how to produce them in R more in depth. For now, it looks like as far as using `weighted.lag.avg` to make predictions goes, the most-promising model is QDA with a prediction threshold of 60%. \n",
    "\n",
    "If I have time to revisit this exercise in the future, I think it would be intersting to try out a different weighting strategy, where each lag variable is weighted based on the number of shares during the corresponding week of trading."
   ]
  },
  {
   "cell_type": "markdown",
   "metadata": {},
   "source": [
    "# Applied Exercise 2\n",
    "\n",
    "**In this problem, you will develop a model to predict whether a given car gets high or low gas mileage based on the `Auto` data set.**"
   ]
  },
  {
   "cell_type": "code",
   "execution_count": 48,
   "metadata": {},
   "outputs": [],
   "source": [
    "library(MASS)"
   ]
  },
  {
   "cell_type": "code",
   "execution_count": 49,
   "metadata": {},
   "outputs": [],
   "source": [
    "library(class)"
   ]
  },
  {
   "cell_type": "code",
   "execution_count": 50,
   "metadata": {},
   "outputs": [
    {
     "data": {
      "text/html": [
       "<table>\n",
       "<thead><tr><th scope=col>mpg</th><th scope=col>cylinders</th><th scope=col>displacement</th><th scope=col>horsepower</th><th scope=col>weight</th><th scope=col>acceleration</th><th scope=col>year</th><th scope=col>origin</th><th scope=col>name</th></tr></thead>\n",
       "<tbody>\n",
       "\t<tr><td>18                       </td><td>8                        </td><td>307                      </td><td>130                      </td><td>3504                     </td><td>12.0                     </td><td>70                       </td><td>1                        </td><td>chevrolet chevelle malibu</td></tr>\n",
       "\t<tr><td>15                       </td><td>8                        </td><td>350                      </td><td>165                      </td><td>3693                     </td><td>11.5                     </td><td>70                       </td><td>1                        </td><td>buick skylark 320        </td></tr>\n",
       "\t<tr><td>18                       </td><td>8                        </td><td>318                      </td><td>150                      </td><td>3436                     </td><td>11.0                     </td><td>70                       </td><td>1                        </td><td>plymouth satellite       </td></tr>\n",
       "\t<tr><td>16                       </td><td>8                        </td><td>304                      </td><td>150                      </td><td>3433                     </td><td>12.0                     </td><td>70                       </td><td>1                        </td><td>amc rebel sst            </td></tr>\n",
       "\t<tr><td>17                       </td><td>8                        </td><td>302                      </td><td>140                      </td><td>3449                     </td><td>10.5                     </td><td>70                       </td><td>1                        </td><td>ford torino              </td></tr>\n",
       "\t<tr><td>15                       </td><td>8                        </td><td>429                      </td><td>198                      </td><td>4341                     </td><td>10.0                     </td><td>70                       </td><td>1                        </td><td>ford galaxie 500         </td></tr>\n",
       "</tbody>\n",
       "</table>\n"
      ],
      "text/latex": [
       "\\begin{tabular}{r|lllllllll}\n",
       " mpg & cylinders & displacement & horsepower & weight & acceleration & year & origin & name\\\\\n",
       "\\hline\n",
       "\t 18                        & 8                         & 307                       & 130                       & 3504                      & 12.0                      & 70                        & 1                         & chevrolet chevelle malibu\\\\\n",
       "\t 15                        & 8                         & 350                       & 165                       & 3693                      & 11.5                      & 70                        & 1                         & buick skylark 320        \\\\\n",
       "\t 18                        & 8                         & 318                       & 150                       & 3436                      & 11.0                      & 70                        & 1                         & plymouth satellite       \\\\\n",
       "\t 16                        & 8                         & 304                       & 150                       & 3433                      & 12.0                      & 70                        & 1                         & amc rebel sst            \\\\\n",
       "\t 17                        & 8                         & 302                       & 140                       & 3449                      & 10.5                      & 70                        & 1                         & ford torino              \\\\\n",
       "\t 15                        & 8                         & 429                       & 198                       & 4341                      & 10.0                      & 70                        & 1                         & ford galaxie 500         \\\\\n",
       "\\end{tabular}\n"
      ],
      "text/markdown": [
       "\n",
       "| mpg | cylinders | displacement | horsepower | weight | acceleration | year | origin | name |\n",
       "|---|---|---|---|---|---|---|---|---|\n",
       "| 18                        | 8                         | 307                       | 130                       | 3504                      | 12.0                      | 70                        | 1                         | chevrolet chevelle malibu |\n",
       "| 15                        | 8                         | 350                       | 165                       | 3693                      | 11.5                      | 70                        | 1                         | buick skylark 320         |\n",
       "| 18                        | 8                         | 318                       | 150                       | 3436                      | 11.0                      | 70                        | 1                         | plymouth satellite        |\n",
       "| 16                        | 8                         | 304                       | 150                       | 3433                      | 12.0                      | 70                        | 1                         | amc rebel sst             |\n",
       "| 17                        | 8                         | 302                       | 140                       | 3449                      | 10.5                      | 70                        | 1                         | ford torino               |\n",
       "| 15                        | 8                         | 429                       | 198                       | 4341                      | 10.0                      | 70                        | 1                         | ford galaxie 500          |\n",
       "\n"
      ],
      "text/plain": [
       "  mpg cylinders displacement horsepower weight acceleration year origin\n",
       "1 18  8         307          130        3504   12.0         70   1     \n",
       "2 15  8         350          165        3693   11.5         70   1     \n",
       "3 18  8         318          150        3436   11.0         70   1     \n",
       "4 16  8         304          150        3433   12.0         70   1     \n",
       "5 17  8         302          140        3449   10.5         70   1     \n",
       "6 15  8         429          198        4341   10.0         70   1     \n",
       "  name                     \n",
       "1 chevrolet chevelle malibu\n",
       "2 buick skylark 320        \n",
       "3 plymouth satellite       \n",
       "4 amc rebel sst            \n",
       "5 ford torino              \n",
       "6 ford galaxie 500         "
      ]
     },
     "metadata": {},
     "output_type": "display_data"
    }
   ],
   "source": [
    "Auto = read.csv(\"Auto.csv\", header = TRUE, na.strings = \"?\")\n",
    "Auto = na.omit(Auto)\n",
    "head(Auto)"
   ]
  },
  {
   "cell_type": "markdown",
   "metadata": {},
   "source": [
    "Note that the `origin` column actually contains categorical data, even though it is coded using integers. In order to make my life a little easier for performing regression, I'm going replace the values in that column with their meanings and convert it to a factor column. There are also [other options for coding categorical variables](https://stats.idre.ucla.edu/r/modules/coding-for-categorical-variables-in-regression-models/), such as using the `factor()` function directly within `lm()`, or using the `C()` function to have more control over the contrast coding."
   ]
  },
  {
   "cell_type": "code",
   "execution_count": 51,
   "metadata": {},
   "outputs": [
    {
     "data": {
      "text/html": [
       "<table>\n",
       "<thead><tr><th scope=col>mpg</th><th scope=col>cylinders</th><th scope=col>displacement</th><th scope=col>horsepower</th><th scope=col>weight</th><th scope=col>acceleration</th><th scope=col>year</th><th scope=col>origin</th><th scope=col>name</th></tr></thead>\n",
       "<tbody>\n",
       "\t<tr><td>18                       </td><td>8                        </td><td>307                      </td><td>130                      </td><td>3504                     </td><td>12.0                     </td><td>70                       </td><td>American                 </td><td>chevrolet chevelle malibu</td></tr>\n",
       "\t<tr><td>15                       </td><td>8                        </td><td>350                      </td><td>165                      </td><td>3693                     </td><td>11.5                     </td><td>70                       </td><td>American                 </td><td>buick skylark 320        </td></tr>\n",
       "\t<tr><td>18                       </td><td>8                        </td><td>318                      </td><td>150                      </td><td>3436                     </td><td>11.0                     </td><td>70                       </td><td>American                 </td><td>plymouth satellite       </td></tr>\n",
       "\t<tr><td>16                       </td><td>8                        </td><td>304                      </td><td>150                      </td><td>3433                     </td><td>12.0                     </td><td>70                       </td><td>American                 </td><td>amc rebel sst            </td></tr>\n",
       "\t<tr><td>17                       </td><td>8                        </td><td>302                      </td><td>140                      </td><td>3449                     </td><td>10.5                     </td><td>70                       </td><td>American                 </td><td>ford torino              </td></tr>\n",
       "\t<tr><td>15                       </td><td>8                        </td><td>429                      </td><td>198                      </td><td>4341                     </td><td>10.0                     </td><td>70                       </td><td>American                 </td><td>ford galaxie 500         </td></tr>\n",
       "</tbody>\n",
       "</table>\n"
      ],
      "text/latex": [
       "\\begin{tabular}{r|lllllllll}\n",
       " mpg & cylinders & displacement & horsepower & weight & acceleration & year & origin & name\\\\\n",
       "\\hline\n",
       "\t 18                        & 8                         & 307                       & 130                       & 3504                      & 12.0                      & 70                        & American                  & chevrolet chevelle malibu\\\\\n",
       "\t 15                        & 8                         & 350                       & 165                       & 3693                      & 11.5                      & 70                        & American                  & buick skylark 320        \\\\\n",
       "\t 18                        & 8                         & 318                       & 150                       & 3436                      & 11.0                      & 70                        & American                  & plymouth satellite       \\\\\n",
       "\t 16                        & 8                         & 304                       & 150                       & 3433                      & 12.0                      & 70                        & American                  & amc rebel sst            \\\\\n",
       "\t 17                        & 8                         & 302                       & 140                       & 3449                      & 10.5                      & 70                        & American                  & ford torino              \\\\\n",
       "\t 15                        & 8                         & 429                       & 198                       & 4341                      & 10.0                      & 70                        & American                  & ford galaxie 500         \\\\\n",
       "\\end{tabular}\n"
      ],
      "text/markdown": [
       "\n",
       "| mpg | cylinders | displacement | horsepower | weight | acceleration | year | origin | name |\n",
       "|---|---|---|---|---|---|---|---|---|\n",
       "| 18                        | 8                         | 307                       | 130                       | 3504                      | 12.0                      | 70                        | American                  | chevrolet chevelle malibu |\n",
       "| 15                        | 8                         | 350                       | 165                       | 3693                      | 11.5                      | 70                        | American                  | buick skylark 320         |\n",
       "| 18                        | 8                         | 318                       | 150                       | 3436                      | 11.0                      | 70                        | American                  | plymouth satellite        |\n",
       "| 16                        | 8                         | 304                       | 150                       | 3433                      | 12.0                      | 70                        | American                  | amc rebel sst             |\n",
       "| 17                        | 8                         | 302                       | 140                       | 3449                      | 10.5                      | 70                        | American                  | ford torino               |\n",
       "| 15                        | 8                         | 429                       | 198                       | 4341                      | 10.0                      | 70                        | American                  | ford galaxie 500          |\n",
       "\n"
      ],
      "text/plain": [
       "  mpg cylinders displacement horsepower weight acceleration year origin  \n",
       "1 18  8         307          130        3504   12.0         70   American\n",
       "2 15  8         350          165        3693   11.5         70   American\n",
       "3 18  8         318          150        3436   11.0         70   American\n",
       "4 16  8         304          150        3433   12.0         70   American\n",
       "5 17  8         302          140        3449   10.5         70   American\n",
       "6 15  8         429          198        4341   10.0         70   American\n",
       "  name                     \n",
       "1 chevrolet chevelle malibu\n",
       "2 buick skylark 320        \n",
       "3 plymouth satellite       \n",
       "4 amc rebel sst            \n",
       "5 ford torino              \n",
       "6 ford galaxie 500         "
      ]
     },
     "metadata": {},
     "output_type": "display_data"
    }
   ],
   "source": [
    "Auto$origin[Auto$origin == 1] = \"American\"\n",
    "Auto$origin[Auto$origin == 2] = \"European\"\n",
    "Auto$origin[Auto$origin == 3] = \"Japanese\"\n",
    "Auto$origin = as.factor(Auto$origin)\n",
    "head(Auto)"
   ]
  },
  {
   "cell_type": "markdown",
   "metadata": {},
   "source": [
    "## Part 1\n",
    "**Create a binary variable, `mpg01`, that contains a 1 if `mpg` contains a value above its median, and a 0 if `mpg` contains a value below its median. You can compute the median using the `median()` function. Note you may find it helpful to use the `data.frame()` function to create a single data set containing both `mpg01` and the other `Auto` variables.**"
   ]
  },
  {
   "cell_type": "code",
   "execution_count": 52,
   "metadata": {},
   "outputs": [
    {
     "data": {
      "text/html": [
       "<table>\n",
       "<thead><tr><th scope=col>mpg</th><th scope=col>cylinders</th><th scope=col>displacement</th><th scope=col>horsepower</th><th scope=col>weight</th><th scope=col>acceleration</th><th scope=col>year</th><th scope=col>origin</th><th scope=col>name</th><th scope=col>mpg01</th></tr></thead>\n",
       "<tbody>\n",
       "\t<tr><td>18                       </td><td>8                        </td><td>307                      </td><td>130                      </td><td>3504                     </td><td>12.0                     </td><td>70                       </td><td>American                 </td><td>chevrolet chevelle malibu</td><td>0                        </td></tr>\n",
       "\t<tr><td>15                       </td><td>8                        </td><td>350                      </td><td>165                      </td><td>3693                     </td><td>11.5                     </td><td>70                       </td><td>American                 </td><td>buick skylark 320        </td><td>0                        </td></tr>\n",
       "\t<tr><td>18                       </td><td>8                        </td><td>318                      </td><td>150                      </td><td>3436                     </td><td>11.0                     </td><td>70                       </td><td>American                 </td><td>plymouth satellite       </td><td>0                        </td></tr>\n",
       "\t<tr><td>16                       </td><td>8                        </td><td>304                      </td><td>150                      </td><td>3433                     </td><td>12.0                     </td><td>70                       </td><td>American                 </td><td>amc rebel sst            </td><td>0                        </td></tr>\n",
       "\t<tr><td>17                       </td><td>8                        </td><td>302                      </td><td>140                      </td><td>3449                     </td><td>10.5                     </td><td>70                       </td><td>American                 </td><td>ford torino              </td><td>0                        </td></tr>\n",
       "\t<tr><td>15                       </td><td>8                        </td><td>429                      </td><td>198                      </td><td>4341                     </td><td>10.0                     </td><td>70                       </td><td>American                 </td><td>ford galaxie 500         </td><td>0                        </td></tr>\n",
       "</tbody>\n",
       "</table>\n"
      ],
      "text/latex": [
       "\\begin{tabular}{r|llllllllll}\n",
       " mpg & cylinders & displacement & horsepower & weight & acceleration & year & origin & name & mpg01\\\\\n",
       "\\hline\n",
       "\t 18                        & 8                         & 307                       & 130                       & 3504                      & 12.0                      & 70                        & American                  & chevrolet chevelle malibu & 0                        \\\\\n",
       "\t 15                        & 8                         & 350                       & 165                       & 3693                      & 11.5                      & 70                        & American                  & buick skylark 320         & 0                        \\\\\n",
       "\t 18                        & 8                         & 318                       & 150                       & 3436                      & 11.0                      & 70                        & American                  & plymouth satellite        & 0                        \\\\\n",
       "\t 16                        & 8                         & 304                       & 150                       & 3433                      & 12.0                      & 70                        & American                  & amc rebel sst             & 0                        \\\\\n",
       "\t 17                        & 8                         & 302                       & 140                       & 3449                      & 10.5                      & 70                        & American                  & ford torino               & 0                        \\\\\n",
       "\t 15                        & 8                         & 429                       & 198                       & 4341                      & 10.0                      & 70                        & American                  & ford galaxie 500          & 0                        \\\\\n",
       "\\end{tabular}\n"
      ],
      "text/markdown": [
       "\n",
       "| mpg | cylinders | displacement | horsepower | weight | acceleration | year | origin | name | mpg01 |\n",
       "|---|---|---|---|---|---|---|---|---|---|\n",
       "| 18                        | 8                         | 307                       | 130                       | 3504                      | 12.0                      | 70                        | American                  | chevrolet chevelle malibu | 0                         |\n",
       "| 15                        | 8                         | 350                       | 165                       | 3693                      | 11.5                      | 70                        | American                  | buick skylark 320         | 0                         |\n",
       "| 18                        | 8                         | 318                       | 150                       | 3436                      | 11.0                      | 70                        | American                  | plymouth satellite        | 0                         |\n",
       "| 16                        | 8                         | 304                       | 150                       | 3433                      | 12.0                      | 70                        | American                  | amc rebel sst             | 0                         |\n",
       "| 17                        | 8                         | 302                       | 140                       | 3449                      | 10.5                      | 70                        | American                  | ford torino               | 0                         |\n",
       "| 15                        | 8                         | 429                       | 198                       | 4341                      | 10.0                      | 70                        | American                  | ford galaxie 500          | 0                         |\n",
       "\n"
      ],
      "text/plain": [
       "  mpg cylinders displacement horsepower weight acceleration year origin  \n",
       "1 18  8         307          130        3504   12.0         70   American\n",
       "2 15  8         350          165        3693   11.5         70   American\n",
       "3 18  8         318          150        3436   11.0         70   American\n",
       "4 16  8         304          150        3433   12.0         70   American\n",
       "5 17  8         302          140        3449   10.5         70   American\n",
       "6 15  8         429          198        4341   10.0         70   American\n",
       "  name                      mpg01\n",
       "1 chevrolet chevelle malibu 0    \n",
       "2 buick skylark 320         0    \n",
       "3 plymouth satellite        0    \n",
       "4 amc rebel sst             0    \n",
       "5 ford torino               0    \n",
       "6 ford galaxie 500          0    "
      ]
     },
     "metadata": {},
     "output_type": "display_data"
    }
   ],
   "source": [
    "mpg01 = rep(0, dim(Auto)[1])\n",
    "mpg01[Auto$mpg > median(Auto$mpg)] = 1\n",
    "Auto = data.frame(Auto, mpg01)\n",
    "head(Auto)"
   ]
  },
  {
   "cell_type": "markdown",
   "metadata": {},
   "source": [
    "## Part 2\n",
    "\n",
    "**Explore the data graphically in order to investigate the association between `mpg01` and the other features. Which of the other features seem most likely to be useful in predicting `mpg01`? Scatterplots and boxplots may be useful tools to answer this question. Describe your findings.**"
   ]
  },
  {
   "cell_type": "code",
   "execution_count": 53,
   "metadata": {},
   "outputs": [
    {
     "data": {
      "image/png": "[encoded data removed]",
      "text/plain": [
       "plot without title"
      ]
     },
     "metadata": {},
     "output_type": "display_data"
    }
   ],
   "source": [
    "par(mfrow = c(2, 3))\n",
    "plot(factor(Auto$mpg01), Auto$cylinders, ylab = \"Number of engine cylinders\")\n",
    "plot(factor(Auto$mpg01), Auto$displacement, ylab = \"Engine displacement (cubic inches)\")\n",
    "plot(factor(Auto$mpg01), Auto$horsepower, ylab = \"Horsepower\")\n",
    "plot(factor(Auto$mpg01), Auto$weight, ylab = \"Weight (pounds)\")\n",
    "plot(factor(Auto$mpg01), Auto$acceleration, ylab = \"Time to reach 60mpg (seconds)\")\n",
    "plot(factor(Auto$mpg01), Auto$year, ylab = \"Manufacture year\")\n",
    "mtext(\"Boxplots for cars with above(1) and below(0) median mpg\", outer = TRUE, line = -3)"
   ]
  },
  {
   "cell_type": "markdown",
   "metadata": {},
   "source": [
    "First, I made boxplots to compare the overall distributions for each of the quantitative variables between cars with above-median mpg and those with below median-mpg. Starting in the upper-left corner, we see that aside from some outliers, the the majority of cars with above-median mpg have four-cylinder engines. Moving to the upper-middle pair of boxplots, at least 75% of the cars with above-median mpg have smaller engines than 75% of the cars with below-median mpg. This is also true for horsepower (upper-right pair of boxplots) and weight (lower-left pair of boxplots). We also see in the final two pairs of boxplots, for acceleration and manufacture year, that while there are definitely differences between cars with above-median mpg and those with below-median mpg, the differences aren't as strong compared to the first four predictors. In particular, there is a lot more overlap in both time to reach 60mpg and manufacture year between the two categories of cars, whereas for the other predictors there is almost no overlap for the boxplots between the two categories. This suggests that `cylinders`, `displacement`, `horsepower`, and `weight` will be the most useful in predicting `mpg01`."
   ]
  },
  {
   "cell_type": "code",
   "execution_count": 54,
   "metadata": {},
   "outputs": [
    {
     "data": {
      "image/png": "[encoded data removed]",
      "text/plain": [
       "plot without title"
      ]
     },
     "metadata": {},
     "output_type": "display_data"
    }
   ],
   "source": [
    "par(mfrow = c(3, 2))\n",
    "plot(Auto$cylinders, Auto$mpg01, xlab = \"Number of engine cylinders\")\n",
    "plot(Auto$displacement, Auto$mpg01, xlab = \"Engine displacement (cubic inches)\")\n",
    "plot(Auto$horsepower, Auto$mpg01, xlab = \"Horsepower\")\n",
    "plot(Auto$weight, Auto$mpg01, xlab = \"Weight (pounds)\")\n",
    "plot(Auto$acceleration, Auto$mpg01, xlab = \"Time to reach 60mpg (seconds)\")\n",
    "plot(Auto$year, Auto$mpg01, xlab = \"Manufacture year\")\n",
    "mtext(\"Scatterplots for cars with above(1) and below(0) median mpg\", outer = TRUE, line = -3)"
   ]
  },
  {
   "cell_type": "markdown",
   "metadata": {},
   "source": [
    "Looking at scatterplots with `mpg01` on the y-axis and the various quantitative variables on the x-axes provides further evidence to suggest that `horsepower` and `weight` will be useful in predicting `mpg01`, with decently clear clusterings of above-median mpgs at the low ends and clusterings of below-median mpgs at the high ends of the ranges of each variable. The scatterplots involving `cylinders` and `discplacement` seem to indicate that those variables wouldn't be as helpful on their own, at least for logistic regression. The small number of possibilities for the number of engine cylinders (3, 4, 5, 6, or 8) results in overlap in the scatterplot, because each engine cylinder configuration has at least one car in each category. For engine displacement, the overlap mainly comes from a decent number of cars with below-median mpg and engine displacements in the bottom 25%. For now I'll still include them with the other variables in the following parts."
   ]
  },
  {
   "cell_type": "code",
   "execution_count": 55,
   "metadata": {},
   "outputs": [
    {
     "data": {
      "image/png": "[encoded data removed]",
      "text/plain": [
       "plot without title"
      ]
     },
     "metadata": {},
     "output_type": "display_data"
    }
   ],
   "source": [
    "plot(Auto$year, Auto$mpg)\n",
    "abline(h = median(Auto$mpg), lwd = 2, col = \"red\")"
   ]
  },
  {
   "cell_type": "markdown",
   "metadata": {},
   "source": [
    "Next, the above scatterplot of `mpg` vs `year` also shows that the newer cars in the data set tend to be more fuel efficient. Therefore, while manufacture year might not be as useful as the other four quantitative variables, that stood out (`cylinders`, `displacement`, `horsepower` and `weight`), it still seems worth including."
   ]
  },
  {
   "cell_type": "code",
   "execution_count": 56,
   "metadata": {},
   "outputs": [
    {
     "data": {
      "image/png": "[encoded data removed]",
      "text/plain": [
       "plot without title"
      ]
     },
     "metadata": {},
     "output_type": "display_data"
    }
   ],
   "source": [
    "plot(Auto$origin, Auto$mpg, xlab = \"Origin\", ylab = \"MPG\")\n",
    "abline(h = median(Auto$mpg), lwd = 2, col = \"red\")"
   ]
  },
  {
   "cell_type": "markdown",
   "metadata": {},
   "source": [
    "Lastly, when looking at a boxplot that compares the mpg values for each car, categorized by country of origin, we see that there is a clear difference between American cars, which tend to have below-median fuel efficiency, and European and Japanese cars, which tend to have above-median fuel efficiency. Thus, it seems that `origin` will also be useful in predicting `mpg01`. \n",
    "\n",
    "In conclusion, for the remaining parts I will use all of the predictors except for `acceleration` and `name` to in my models for trying to predict `mpg01`. Also, I will exclude `mpg` because that was directly used to create the classification label."
   ]
  },
  {
   "cell_type": "markdown",
   "metadata": {},
   "source": [
    "## Part 3\n",
    "**Split the data into a training set and a test set.**"
   ]
  },
  {
   "cell_type": "markdown",
   "metadata": {},
   "source": [
    "To split my data into a training set and a test set, I will use the `sample()` function to do a 75%-25% split. In other words, I will use 75% of the data (294 observations) for the training set and the remaining 25% (98 observations) for the test set."
   ]
  },
  {
   "cell_type": "code",
   "execution_count": 57,
   "metadata": {},
   "outputs": [],
   "source": [
    "set.seed(1)\n",
    "train = sample(dim(Auto)[1], size = 0.75*dim(Auto)[1])"
   ]
  },
  {
   "cell_type": "markdown",
   "metadata": {},
   "source": [
    "## Part 4\n",
    "\n",
    "**Perform LDA on the training data in order to predict `mpg01` using the variables that seemed most associated with `mpg01` in Part 2. What is the test error of the model obtained?**"
   ]
  },
  {
   "cell_type": "code",
   "execution_count": 58,
   "metadata": {},
   "outputs": [],
   "source": [
    "lda.fit = lda(mpg01 ~ cylinders + displacement + horsepower + weight + year + origin, data = Auto, subset = train)"
   ]
  },
  {
   "cell_type": "code",
   "execution_count": 59,
   "metadata": {},
   "outputs": [
    {
     "data": {
      "text/plain": [
       "         Actual\n",
       "Predicted  0  1\n",
       "        0 41  0\n",
       "        1 12 45"
      ]
     },
     "metadata": {},
     "output_type": "display_data"
    }
   ],
   "source": [
    "lda.pred = predict(lda.fit, Auto[-train, ])\n",
    "table(lda.pred$class, Auto[-train, \"mpg01\"], dnn = c(\"Predicted\", \"Actual\"))"
   ]
  },
  {
   "cell_type": "code",
   "execution_count": 60,
   "metadata": {},
   "outputs": [
    {
     "data": {
      "text/html": [
       "0.122448979591837"
      ],
      "text/latex": [
       "0.122448979591837"
      ],
      "text/markdown": [
       "0.122448979591837"
      ],
      "text/plain": [
       "[1] 0.122449"
      ]
     },
     "metadata": {},
     "output_type": "display_data"
    }
   ],
   "source": [
    "1 - mean(lda.pred$class == Auto[-train, \"mpg01\"])"
   ]
  },
  {
   "cell_type": "markdown",
   "metadata": {},
   "source": [
    "When using linear discriminant analysis to predict `mpg01` using `cylinders`, `displacement`, `horsepower`, `weight`, `year`, and `origin`, we had an overall test error of 12.24%. One thing of note is that this method didn't mis-classify any of the cars that actually had above-median fuel economy."
   ]
  },
  {
   "cell_type": "code",
   "execution_count": 61,
   "metadata": {},
   "outputs": [],
   "source": [
    "lda.fit = lda(mpg01 ~ cylinders + displacement + horsepower + weight, data = Auto, subset = train)"
   ]
  },
  {
   "cell_type": "code",
   "execution_count": 62,
   "metadata": {},
   "outputs": [
    {
     "data": {
      "text/plain": [
       "         Actual\n",
       "Predicted  0  1\n",
       "        0 42  2\n",
       "        1 11 43"
      ]
     },
     "metadata": {},
     "output_type": "display_data"
    }
   ],
   "source": [
    "lda.pred = predict(lda.fit, Auto[-train, ])\n",
    "table(lda.pred$class, Auto[-train, \"mpg01\"], dnn = c(\"Predicted\", \"Actual\"))"
   ]
  },
  {
   "cell_type": "code",
   "execution_count": 63,
   "metadata": {},
   "outputs": [
    {
     "data": {
      "text/html": [
       "0.13265306122449"
      ],
      "text/latex": [
       "0.13265306122449"
      ],
      "text/markdown": [
       "0.13265306122449"
      ],
      "text/plain": [
       "[1] 0.1326531"
      ]
     },
     "metadata": {},
     "output_type": "display_data"
    }
   ],
   "source": [
    "1 - mean(lda.pred$class == Auto[-train, \"mpg01\"])"
   ]
  },
  {
   "cell_type": "markdown",
   "metadata": {},
   "source": [
    "If we exclude the `origin` and `year` variables, our overall test error increases very slightly to 13.27%."
   ]
  },
  {
   "cell_type": "markdown",
   "metadata": {},
   "source": [
    "## Part 5\n",
    "\n",
    "**Perform QDA on the training data in order to predict `mpg01` using the variables that seemed most associated with `mpg01` in Part 2. What is the test error of the model obtained?**"
   ]
  },
  {
   "cell_type": "code",
   "execution_count": 64,
   "metadata": {},
   "outputs": [],
   "source": [
    "qda.fit = qda(mpg01 ~ cylinders + displacement + horsepower + weight + year + origin, data = Auto, subset = train)"
   ]
  },
  {
   "cell_type": "code",
   "execution_count": 65,
   "metadata": {},
   "outputs": [
    {
     "data": {
      "text/plain": [
       "         Actual\n",
       "Predicted  0  1\n",
       "        0 42  2\n",
       "        1 11 43"
      ]
     },
     "metadata": {},
     "output_type": "display_data"
    }
   ],
   "source": [
    "qda.pred = predict(qda.fit, Auto[-train, ])\n",
    "table(qda.pred$class, Auto[-train, \"mpg01\"], dnn = c(\"Predicted\", \"Actual\"))"
   ]
  },
  {
   "cell_type": "code",
   "execution_count": 66,
   "metadata": {},
   "outputs": [
    {
     "data": {
      "text/html": [
       "0.13265306122449"
      ],
      "text/latex": [
       "0.13265306122449"
      ],
      "text/markdown": [
       "0.13265306122449"
      ],
      "text/plain": [
       "[1] 0.1326531"
      ]
     },
     "metadata": {},
     "output_type": "display_data"
    }
   ],
   "source": [
    "1 - mean(qda.pred$class == Auto[-train, \"mpg01\"])"
   ]
  },
  {
   "cell_type": "markdown",
   "metadata": {},
   "source": [
    "When using quadratic discriminant analysis to predict `mpg01` using `cylinders`, `displacement`, `horsepower`, `weight`, `year`, and `origin`, we had an overall test error of 13.27%, which is the same performance as linear discriminant analysis using all of those predictors aside from `year` and `origin`."
   ]
  },
  {
   "cell_type": "code",
   "execution_count": 67,
   "metadata": {},
   "outputs": [],
   "source": [
    "qda.fit = qda(mpg01 ~ cylinders + displacement + horsepower + weight, data = Auto, subset = train)"
   ]
  },
  {
   "cell_type": "code",
   "execution_count": 68,
   "metadata": {},
   "outputs": [
    {
     "data": {
      "text/plain": [
       "         Actual\n",
       "Predicted  0  1\n",
       "        0 45  4\n",
       "        1  8 41"
      ]
     },
     "metadata": {},
     "output_type": "display_data"
    }
   ],
   "source": [
    "qda.pred = predict(qda.fit, Auto[-train, ])\n",
    "table(qda.pred$class, Auto[-train, \"mpg01\"], dnn = c(\"Predicted\", \"Actual\"))"
   ]
  },
  {
   "cell_type": "code",
   "execution_count": 69,
   "metadata": {
    "scrolled": true
   },
   "outputs": [
    {
     "data": {
      "text/html": [
       "0.122448979591837"
      ],
      "text/latex": [
       "0.122448979591837"
      ],
      "text/markdown": [
       "0.122448979591837"
      ],
      "text/plain": [
       "[1] 0.122449"
      ]
     },
     "metadata": {},
     "output_type": "display_data"
    }
   ],
   "source": [
    "1 - mean(qda.pred$class == Auto[-train, \"mpg01\"])"
   ]
  },
  {
   "cell_type": "markdown",
   "metadata": {},
   "source": [
    "If we exclude the `origin` and `year` variables, our overall test error decreases down to 12.24%. This is the same performance as linear discriminant analysis using all of the original predictors, though this model has a different confusion matrix. In particular, using the convention that above-median mpg is the positive class label, this model has a lower false positive rate ($8/53 \\approx 0.151$ versus $12/53 \\approx 0.226$), a lower true positive rate ($41/45 \\approx 0.911$ versus $45/45 = 1$), a higher positive predictive value ($41/49 \\approx 0.837$ versus $45/57 \\approx 0.789$), and a lower negative predictive value ($45/49 \\approx 0.918$ versus $41/41 = 1$)."
   ]
  },
  {
   "cell_type": "markdown",
   "metadata": {},
   "source": [
    "## Part 6\n",
    "**Perform logistic regression on the training data in order to predict `mpg01` using the variables that seemed most associated with `mpg01` in Part 2. What is the test error of the model obtained?**"
   ]
  },
  {
   "cell_type": "code",
   "execution_count": 70,
   "metadata": {},
   "outputs": [
    {
     "data": {
      "text/plain": [
       "\n",
       "Call:\n",
       "glm(formula = mpg01 ~ cylinders + displacement + horsepower + \n",
       "    weight + year + origin, family = \"binomial\", data = Auto, \n",
       "    subset = train)\n",
       "\n",
       "Deviance Residuals: \n",
       "     Min        1Q    Median        3Q       Max  \n",
       "-2.41776  -0.08516   0.01173   0.19819   2.84514  \n",
       "\n",
       "Coefficients:\n",
       "                 Estimate Std. Error z value Pr(>|z|)    \n",
       "(Intercept)    -20.936182   6.060143  -3.455 0.000551 ***\n",
       "cylinders       -0.059473   0.492704  -0.121 0.903923    \n",
       "displacement     0.016274   0.014742   1.104 0.269631    \n",
       "horsepower      -0.041375   0.021078  -1.963 0.049645 *  \n",
       "weight          -0.006170   0.001471  -4.193 2.75e-05 ***\n",
       "year             0.517975   0.103270   5.016 5.28e-07 ***\n",
       "originEuropean   2.627520   0.962636   2.730 0.006343 ** \n",
       "originJapanese   0.906254   0.781956   1.159 0.246473    \n",
       "---\n",
       "Signif. codes:  0 '***' 0.001 '**' 0.01 '*' 0.05 '.' 0.1 ' ' 1\n",
       "\n",
       "(Dispersion parameter for binomial family taken to be 1)\n",
       "\n",
       "    Null deviance: 407.35  on 293  degrees of freedom\n",
       "Residual deviance: 116.63  on 286  degrees of freedom\n",
       "AIC: 132.63\n",
       "\n",
       "Number of Fisher Scoring iterations: 8\n"
      ]
     },
     "metadata": {},
     "output_type": "display_data"
    }
   ],
   "source": [
    "glm.fit = glm(mpg01 ~ cylinders + displacement + horsepower + weight + year + origin, data = Auto, subset = train,\n",
    "             family = \"binomial\")\n",
    "summary(glm.fit)"
   ]
  },
  {
   "cell_type": "code",
   "execution_count": 71,
   "metadata": {},
   "outputs": [
    {
     "data": {
      "text/plain": [
       "         Actual\n",
       "Predicted  0  1\n",
       "        0 45  1\n",
       "        1  8 44"
      ]
     },
     "metadata": {},
     "output_type": "display_data"
    }
   ],
   "source": [
    "glm.probs = predict(glm.fit, Auto[-train, ], type = \"response\")\n",
    "glm.pred = rep(0, dim(Auto[-train, ])[1])\n",
    "glm.pred[glm.probs > 0.5] = 1\n",
    "table(glm.pred, Auto[-train, \"mpg01\"], dnn = c(\"Predicted\", \"Actual\"))"
   ]
  },
  {
   "cell_type": "code",
   "execution_count": 72,
   "metadata": {},
   "outputs": [
    {
     "data": {
      "text/html": [
       "0.0918367346938775"
      ],
      "text/latex": [
       "0.0918367346938775"
      ],
      "text/markdown": [
       "0.0918367346938775"
      ],
      "text/plain": [
       "[1] 0.09183673"
      ]
     },
     "metadata": {},
     "output_type": "display_data"
    }
   ],
   "source": [
    "1 - mean(glm.pred == Auto[-train, \"mpg01\"])"
   ]
  },
  {
   "cell_type": "markdown",
   "metadata": {},
   "source": [
    "When using logistic regression to predict `mpg01` using `cylinders`, `displacement`, `horsepower`, `weight`, `year`, and `origin`, we had an overall test error of 9.18%, the best test error out of the methods we've explored so far in this exercise."
   ]
  },
  {
   "cell_type": "code",
   "execution_count": 73,
   "metadata": {},
   "outputs": [
    {
     "data": {
      "text/plain": [
       "\n",
       "Call:\n",
       "glm(formula = mpg01 ~ cylinders + displacement + horsepower + \n",
       "    weight, family = \"binomial\", data = Auto, subset = train)\n",
       "\n",
       "Deviance Residuals: \n",
       "    Min       1Q   Median       3Q      Max  \n",
       "-2.4446  -0.1835   0.1355   0.4263   3.2094  \n",
       "\n",
       "Coefficients:\n",
       "               Estimate Std. Error z value Pr(>|z|)    \n",
       "(Intercept)  11.1147950  1.9486579   5.704 1.17e-08 ***\n",
       "cylinders     0.0188859  0.4031908   0.047   0.9626    \n",
       "displacement -0.0123198  0.0094472  -1.304   0.1922    \n",
       "horsepower   -0.0357577  0.0162188  -2.205   0.0275 *  \n",
       "weight       -0.0019561  0.0007808  -2.505   0.0122 *  \n",
       "---\n",
       "Signif. codes:  0 '***' 0.001 '**' 0.01 '*' 0.05 '.' 0.1 ' ' 1\n",
       "\n",
       "(Dispersion parameter for binomial family taken to be 1)\n",
       "\n",
       "    Null deviance: 407.35  on 293  degrees of freedom\n",
       "Residual deviance: 161.44  on 289  degrees of freedom\n",
       "AIC: 171.44\n",
       "\n",
       "Number of Fisher Scoring iterations: 7\n"
      ]
     },
     "metadata": {},
     "output_type": "display_data"
    }
   ],
   "source": [
    "glm.fit = glm(mpg01 ~ cylinders + displacement + horsepower + weight, data = Auto, subset = train,\n",
    "             family = \"binomial\")\n",
    "summary(glm.fit)"
   ]
  },
  {
   "cell_type": "code",
   "execution_count": 74,
   "metadata": {},
   "outputs": [
    {
     "data": {
      "text/plain": [
       "         Actual\n",
       "Predicted  0  1\n",
       "        0 45  2\n",
       "        1  8 43"
      ]
     },
     "metadata": {},
     "output_type": "display_data"
    }
   ],
   "source": [
    "glm.probs = predict(glm.fit, Auto[-train, ], type = \"response\")\n",
    "glm.pred = rep(0, dim(Auto[-train, ])[1])\n",
    "glm.pred[glm.probs > 0.5] = 1\n",
    "table(glm.pred, Auto[-train, \"mpg01\"], dnn = c(\"Predicted\", \"Actual\"))"
   ]
  },
  {
   "cell_type": "code",
   "execution_count": 75,
   "metadata": {},
   "outputs": [
    {
     "data": {
      "text/html": [
       "0.102040816326531"
      ],
      "text/latex": [
       "0.102040816326531"
      ],
      "text/markdown": [
       "0.102040816326531"
      ],
      "text/plain": [
       "[1] 0.1020408"
      ]
     },
     "metadata": {},
     "output_type": "display_data"
    }
   ],
   "source": [
    "1 - mean(glm.pred == Auto[-train, \"mpg01\"])"
   ]
  },
  {
   "cell_type": "markdown",
   "metadata": {},
   "source": [
    "If we exclude the `origin` and `year` variables, our overall test error increases very slightly, with one additional mis-classified prediction, to 10.2%."
   ]
  },
  {
   "cell_type": "markdown",
   "metadata": {},
   "source": [
    "## Part 7\n",
    "**Perform KNN on the training data, with several values of $K$, in order to predict `mpg01`. Use only the variables that seemed most associated with `mpg01` in Part 2. What test errors did you obtain? Which value of $K$ seems to perform the best on this data set?**"
   ]
  },
  {
   "cell_type": "markdown",
   "metadata": {},
   "source": [
    "I will try out $k = 1, 3, 5, \\dots, 19$ when using $k$-nearest neighbors. As I did in the previous parts, I will first use `cylinders`, `displacement`, `horsepower`, `weight`, and `year` as the predictors. I will, however, exclude `origin` as it is a qualitative variable. I could convert it back to a numerical encoding, but then I would need to be careful to make sure each value is equidistant from the others. I also need to be careful of the different scales used to measure the various predictors, since variables such as `weights` are on the order of thousands of pounds while `displacement` is on the order of tens or hundreds of cubic inches. In order to put all of the quantitative variables on a comparable scale, I will standardize them so that all of them have mean zero and standard deviation one."
   ]
  },
  {
   "cell_type": "code",
   "execution_count": 76,
   "metadata": {},
   "outputs": [
    {
     "data": {
      "text/html": [
       "<table>\n",
       "<thead><tr><th scope=col>mpg</th><th scope=col>cylinders</th><th scope=col>displacement</th><th scope=col>horsepower</th><th scope=col>weight</th><th scope=col>acceleration</th><th scope=col>year</th></tr></thead>\n",
       "<tbody>\n",
       "\t<tr><td>-0.6977467</td><td>1.482053  </td><td>1.075915  </td><td>0.6632851 </td><td>0.6197483 </td><td>-1.283618 </td><td>-1.623241 </td></tr>\n",
       "\t<tr><td>-1.0821153</td><td>1.482053  </td><td>1.486832  </td><td>1.5725848 </td><td>0.8422577 </td><td>-1.464852 </td><td>-1.623241 </td></tr>\n",
       "\t<tr><td>-0.6977467</td><td>1.482053  </td><td>1.181033  </td><td>1.1828849 </td><td>0.5396921 </td><td>-1.646086 </td><td>-1.623241 </td></tr>\n",
       "\t<tr><td>-0.9539925</td><td>1.482053  </td><td>1.047246  </td><td>1.1828849 </td><td>0.5361602 </td><td>-1.283618 </td><td>-1.623241 </td></tr>\n",
       "\t<tr><td>-0.8258696</td><td>1.482053  </td><td>1.028134  </td><td>0.9230850 </td><td>0.5549969 </td><td>-1.827320 </td><td>-1.623241 </td></tr>\n",
       "\t<tr><td>-1.0821153</td><td>1.482053  </td><td>2.241772  </td><td>2.4299245 </td><td>1.6051468 </td><td>-2.008554 </td><td>-1.623241 </td></tr>\n",
       "</tbody>\n",
       "</table>\n"
      ],
      "text/latex": [
       "\\begin{tabular}{r|lllllll}\n",
       " mpg & cylinders & displacement & horsepower & weight & acceleration & year\\\\\n",
       "\\hline\n",
       "\t -0.6977467 & 1.482053   & 1.075915   & 0.6632851  & 0.6197483  & -1.283618  & -1.623241 \\\\\n",
       "\t -1.0821153 & 1.482053   & 1.486832   & 1.5725848  & 0.8422577  & -1.464852  & -1.623241 \\\\\n",
       "\t -0.6977467 & 1.482053   & 1.181033   & 1.1828849  & 0.5396921  & -1.646086  & -1.623241 \\\\\n",
       "\t -0.9539925 & 1.482053   & 1.047246   & 1.1828849  & 0.5361602  & -1.283618  & -1.623241 \\\\\n",
       "\t -0.8258696 & 1.482053   & 1.028134   & 0.9230850  & 0.5549969  & -1.827320  & -1.623241 \\\\\n",
       "\t -1.0821153 & 1.482053   & 2.241772   & 2.4299245  & 1.6051468  & -2.008554  & -1.623241 \\\\\n",
       "\\end{tabular}\n"
      ],
      "text/markdown": [
       "\n",
       "| mpg | cylinders | displacement | horsepower | weight | acceleration | year |\n",
       "|---|---|---|---|---|---|---|\n",
       "| -0.6977467 | 1.482053   | 1.075915   | 0.6632851  | 0.6197483  | -1.283618  | -1.623241  |\n",
       "| -1.0821153 | 1.482053   | 1.486832   | 1.5725848  | 0.8422577  | -1.464852  | -1.623241  |\n",
       "| -0.6977467 | 1.482053   | 1.181033   | 1.1828849  | 0.5396921  | -1.646086  | -1.623241  |\n",
       "| -0.9539925 | 1.482053   | 1.047246   | 1.1828849  | 0.5361602  | -1.283618  | -1.623241  |\n",
       "| -0.8258696 | 1.482053   | 1.028134   | 0.9230850  | 0.5549969  | -1.827320  | -1.623241  |\n",
       "| -1.0821153 | 1.482053   | 2.241772   | 2.4299245  | 1.6051468  | -2.008554  | -1.623241  |\n",
       "\n"
      ],
      "text/plain": [
       "  mpg        cylinders displacement horsepower weight    acceleration year     \n",
       "1 -0.6977467 1.482053  1.075915     0.6632851  0.6197483 -1.283618    -1.623241\n",
       "2 -1.0821153 1.482053  1.486832     1.5725848  0.8422577 -1.464852    -1.623241\n",
       "3 -0.6977467 1.482053  1.181033     1.1828849  0.5396921 -1.646086    -1.623241\n",
       "4 -0.9539925 1.482053  1.047246     1.1828849  0.5361602 -1.283618    -1.623241\n",
       "5 -0.8258696 1.482053  1.028134     0.9230850  0.5549969 -1.827320    -1.623241\n",
       "6 -1.0821153 1.482053  2.241772     2.4299245  1.6051468 -2.008554    -1.623241"
      ]
     },
     "metadata": {},
     "output_type": "display_data"
    }
   ],
   "source": [
    "scaled.auto = scale(Auto[, -c(8, 9, 10)])\n",
    "head(scaled.auto)"
   ]
  },
  {
   "cell_type": "code",
   "execution_count": 77,
   "metadata": {},
   "outputs": [],
   "source": [
    "cols = c(\"cylinders\", \"displacement\", \"horsepower\", \"weight\", \"year\")\n",
    "train.X = scaled.auto[train, cols]\n",
    "test.X = scaled.auto[-train, cols]\n",
    "train.mpg01 = Auto[train, \"mpg01\"]"
   ]
  },
  {
   "cell_type": "code",
   "execution_count": 78,
   "metadata": {},
   "outputs": [
    {
     "data": {
      "text/html": [
       "<table>\n",
       "<thead><tr><th scope=col>k.vals</th><th scope=col>knn.error</th></tr></thead>\n",
       "<tbody>\n",
       "\t<tr><td> 1        </td><td>0.05102041</td></tr>\n",
       "\t<tr><td> 3        </td><td>0.07142857</td></tr>\n",
       "\t<tr><td> 5        </td><td>0.07142857</td></tr>\n",
       "\t<tr><td> 7        </td><td>0.08163265</td></tr>\n",
       "\t<tr><td> 9        </td><td>0.08163265</td></tr>\n",
       "\t<tr><td>11        </td><td>0.10204082</td></tr>\n",
       "\t<tr><td>13        </td><td>0.11224490</td></tr>\n",
       "\t<tr><td>15        </td><td>0.11224490</td></tr>\n",
       "\t<tr><td>17        </td><td>0.10204082</td></tr>\n",
       "\t<tr><td>19        </td><td>0.10204082</td></tr>\n",
       "</tbody>\n",
       "</table>\n"
      ],
      "text/latex": [
       "\\begin{tabular}{ll}\n",
       " k.vals & knn.error\\\\\n",
       "\\hline\n",
       "\t  1         & 0.05102041\\\\\n",
       "\t  3         & 0.07142857\\\\\n",
       "\t  5         & 0.07142857\\\\\n",
       "\t  7         & 0.08163265\\\\\n",
       "\t  9         & 0.08163265\\\\\n",
       "\t 11         & 0.10204082\\\\\n",
       "\t 13         & 0.11224490\\\\\n",
       "\t 15         & 0.11224490\\\\\n",
       "\t 17         & 0.10204082\\\\\n",
       "\t 19         & 0.10204082\\\\\n",
       "\\end{tabular}\n"
      ],
      "text/markdown": [
       "\n",
       "| k.vals | knn.error |\n",
       "|---|---|\n",
       "|  1         | 0.05102041 |\n",
       "|  3         | 0.07142857 |\n",
       "|  5         | 0.07142857 |\n",
       "|  7         | 0.08163265 |\n",
       "|  9         | 0.08163265 |\n",
       "| 11         | 0.10204082 |\n",
       "| 13         | 0.11224490 |\n",
       "| 15         | 0.11224490 |\n",
       "| 17         | 0.10204082 |\n",
       "| 19         | 0.10204082 |\n",
       "\n"
      ],
      "text/plain": [
       "      k.vals knn.error \n",
       " [1,]  1     0.05102041\n",
       " [2,]  3     0.07142857\n",
       " [3,]  5     0.07142857\n",
       " [4,]  7     0.08163265\n",
       " [5,]  9     0.08163265\n",
       " [6,] 11     0.10204082\n",
       " [7,] 13     0.11224490\n",
       " [8,] 15     0.11224490\n",
       " [9,] 17     0.10204082\n",
       "[10,] 19     0.10204082"
      ]
     },
     "metadata": {},
     "output_type": "display_data"
    }
   ],
   "source": [
    "set.seed(1)\n",
    "k.vals = (1:10)*2 - 1\n",
    "knn.error = rep(0, 10)\n",
    "knn.tables = list()\n",
    "for (i in 1:10){\n",
    "    knn.pred = knn(train.X, test.X, train.mpg01, k = 2*i - 1)\n",
    "    knn.tables[[k.vals[i]]] = table(knn.pred, Auto[-train, \"mpg01\"], dnn = c(\"Predicted\", \"Actual\"))\n",
    "    knn.error[i] = 1 - mean(knn.pred == Auto[-train, \"mpg01\"])\n",
    "}\n",
    "cbind(k.vals, knn.error)"
   ]
  },
  {
   "cell_type": "code",
   "execution_count": 79,
   "metadata": {},
   "outputs": [
    {
     "data": {
      "text/plain": [
       "         Actual\n",
       "Predicted  0  1\n",
       "        0 48  0\n",
       "        1  5 45"
      ]
     },
     "metadata": {},
     "output_type": "display_data"
    }
   ],
   "source": [
    "knn.tables[[1]]"
   ]
  },
  {
   "cell_type": "markdown",
   "metadata": {},
   "source": [
    "Here we see that $k = 1$ has the lowest test error, with a value of 5.1%. Inspecting the confusion matrix for $k = 1$, which I stored in the list `knn.tables`, we also observe that all of the errors were false positives -- that is cars the model classified as having above-median fuel efficiency which actually were in the below-median group.\n",
    "\n",
    "Next, I will exclude the `year` variable as I did in the previous parts to see how the test errors change."
   ]
  },
  {
   "cell_type": "code",
   "execution_count": 80,
   "metadata": {},
   "outputs": [],
   "source": [
    "cols = c(\"cylinders\", \"displacement\", \"horsepower\", \"weight\")\n",
    "train.X = scaled.auto[train, cols]\n",
    "test.X = scaled.auto[-train, cols]\n",
    "train.mpg01 = Auto[train, \"mpg01\"]"
   ]
  },
  {
   "cell_type": "code",
   "execution_count": 81,
   "metadata": {},
   "outputs": [
    {
     "data": {
      "text/html": [
       "<table>\n",
       "<thead><tr><th scope=col>k.vals</th><th scope=col>knn.error</th></tr></thead>\n",
       "<tbody>\n",
       "\t<tr><td> 1       </td><td>0.1020408</td></tr>\n",
       "\t<tr><td> 3       </td><td>0.1326531</td></tr>\n",
       "\t<tr><td> 5       </td><td>0.1428571</td></tr>\n",
       "\t<tr><td> 7       </td><td>0.1326531</td></tr>\n",
       "\t<tr><td> 9       </td><td>0.1428571</td></tr>\n",
       "\t<tr><td>11       </td><td>0.1122449</td></tr>\n",
       "\t<tr><td>13       </td><td>0.1122449</td></tr>\n",
       "\t<tr><td>15       </td><td>0.1122449</td></tr>\n",
       "\t<tr><td>17       </td><td>0.1122449</td></tr>\n",
       "\t<tr><td>19       </td><td>0.1122449</td></tr>\n",
       "</tbody>\n",
       "</table>\n"
      ],
      "text/latex": [
       "\\begin{tabular}{ll}\n",
       " k.vals & knn.error\\\\\n",
       "\\hline\n",
       "\t  1        & 0.1020408\\\\\n",
       "\t  3        & 0.1326531\\\\\n",
       "\t  5        & 0.1428571\\\\\n",
       "\t  7        & 0.1326531\\\\\n",
       "\t  9        & 0.1428571\\\\\n",
       "\t 11        & 0.1122449\\\\\n",
       "\t 13        & 0.1122449\\\\\n",
       "\t 15        & 0.1122449\\\\\n",
       "\t 17        & 0.1122449\\\\\n",
       "\t 19        & 0.1122449\\\\\n",
       "\\end{tabular}\n"
      ],
      "text/markdown": [
       "\n",
       "| k.vals | knn.error |\n",
       "|---|---|\n",
       "|  1        | 0.1020408 |\n",
       "|  3        | 0.1326531 |\n",
       "|  5        | 0.1428571 |\n",
       "|  7        | 0.1326531 |\n",
       "|  9        | 0.1428571 |\n",
       "| 11        | 0.1122449 |\n",
       "| 13        | 0.1122449 |\n",
       "| 15        | 0.1122449 |\n",
       "| 17        | 0.1122449 |\n",
       "| 19        | 0.1122449 |\n",
       "\n"
      ],
      "text/plain": [
       "      k.vals knn.error\n",
       " [1,]  1     0.1020408\n",
       " [2,]  3     0.1326531\n",
       " [3,]  5     0.1428571\n",
       " [4,]  7     0.1326531\n",
       " [5,]  9     0.1428571\n",
       " [6,] 11     0.1122449\n",
       " [7,] 13     0.1122449\n",
       " [8,] 15     0.1122449\n",
       " [9,] 17     0.1122449\n",
       "[10,] 19     0.1122449"
      ]
     },
     "metadata": {},
     "output_type": "display_data"
    }
   ],
   "source": [
    "set.seed(1)\n",
    "k.vals = (1:10)*2 - 1\n",
    "knn.error = rep(0, 10)\n",
    "knn.tables = list()\n",
    "for (i in 1:10){\n",
    "    knn.pred = knn(train.X, test.X, train.mpg01, k = 2*i - 1)\n",
    "    knn.tables[[k.vals[i]]] = table(knn.pred, Auto[-train, \"mpg01\"], dnn = c(\"Predicted\", \"Actual\"))\n",
    "    knn.error[i] = 1 - mean(knn.pred == Auto[-train, \"mpg01\"])\n",
    "}\n",
    "cbind(k.vals, knn.error)"
   ]
  },
  {
   "cell_type": "code",
   "execution_count": 82,
   "metadata": {},
   "outputs": [
    {
     "data": {
      "text/plain": [
       "         Actual\n",
       "Predicted  0  1\n",
       "        0 47  4\n",
       "        1  6 41"
      ]
     },
     "metadata": {},
     "output_type": "display_data"
    }
   ],
   "source": [
    "knn.tables[[1]]"
   ]
  },
  {
   "cell_type": "markdown",
   "metadata": {},
   "source": [
    "When I excluded the `year` variable, the model generally performed worse, especially for lower values of $k$. In this case, the lowest test error was still with $k = 1$, but it has doubled to 10.2%. Looking at the confusion matrix, we can see that most of the additional errors came from mis-classifying cars that actually had above-median fuel efficiency and placing them in the below-median group.\n",
    "\n",
    "In conclusion, using $k$-nearest neighbors with $k = 1$ and `cylinders`, `displacement`, `horsepower`, `weight`, and `year` as the predictors provided the lowest overall error on our held-out test set. We should be careful and gather more evidence by using cross-validation in order to better evaluate this model's accuracy."
   ]
  },
  {
   "cell_type": "markdown",
   "metadata": {},
   "source": [
    "# Applied Exercise 3\n",
    "\n",
    "**This problem involves writing functions.**"
   ]
  },
  {
   "cell_type": "markdown",
   "metadata": {},
   "source": [
    "## Part 1\n",
    "**Write a function, `Power()`, that prints out the result of raising 2 to the 3rd power. In other words, your function should compute $2^3$ and print out the results.**\n",
    "\n",
    "***Hint: Recall that `x^a` raises `x` to the power `a`. Use the `print()` function to output the result.***"
   ]
  },
  {
   "cell_type": "code",
   "execution_count": 83,
   "metadata": {},
   "outputs": [],
   "source": [
    "Power = function(){\n",
    "    print(2^3)\n",
    "}"
   ]
  },
  {
   "cell_type": "code",
   "execution_count": 84,
   "metadata": {},
   "outputs": [
    {
     "name": "stdout",
     "output_type": "stream",
     "text": [
      "[1] 8\n"
     ]
    }
   ],
   "source": [
    "Power()"
   ]
  },
  {
   "cell_type": "markdown",
   "metadata": {},
   "source": [
    "## Part 2\n",
    "**Create a new function, `Power2()` that allows you to pass *any* two numbers, `x` and `a`, and prints out the value of `x^a`. You can do this by beginning your function with the line**\n",
    "\n",
    "```\n",
    "> Power2 = function(x, a){\n",
    "```\n",
    "\n",
    "**You should be able to call your function by entering, for instance,**\n",
    "\n",
    "```\n",
    "> Power2(3, 8)\n",
    "```\n",
    "\n",
    "**in a notebook cell. This should output the value $3^8$, namely 6,561.**"
   ]
  },
  {
   "cell_type": "code",
   "execution_count": 85,
   "metadata": {},
   "outputs": [],
   "source": [
    "Power2 = function(x, a){\n",
    "    print(x^a)\n",
    "}"
   ]
  },
  {
   "cell_type": "code",
   "execution_count": 86,
   "metadata": {},
   "outputs": [
    {
     "name": "stdout",
     "output_type": "stream",
     "text": [
      "[1] 6561\n"
     ]
    }
   ],
   "source": [
    "Power2(3, 8)"
   ]
  },
  {
   "cell_type": "markdown",
   "metadata": {},
   "source": [
    "## Part 3\n",
    "**Using the `Power2()` function that you just wrote, compute $10^3$, $8^{17}$, and $131^3$.**"
   ]
  },
  {
   "cell_type": "code",
   "execution_count": 87,
   "metadata": {},
   "outputs": [
    {
     "name": "stdout",
     "output_type": "stream",
     "text": [
      "[1] 1000\n"
     ]
    }
   ],
   "source": [
    "Power2(10, 3)"
   ]
  },
  {
   "cell_type": "code",
   "execution_count": 88,
   "metadata": {},
   "outputs": [
    {
     "name": "stdout",
     "output_type": "stream",
     "text": [
      "[1] 2.2518e+15\n"
     ]
    }
   ],
   "source": [
    "Power2(8, 17)"
   ]
  },
  {
   "cell_type": "code",
   "execution_count": 89,
   "metadata": {},
   "outputs": [
    {
     "name": "stdout",
     "output_type": "stream",
     "text": [
      "[1] 2248091\n"
     ]
    }
   ],
   "source": [
    "Power2(131, 3)"
   ]
  },
  {
   "cell_type": "markdown",
   "metadata": {},
   "source": [
    "## Part 4\n",
    "**Now create a new function, `Power3()`, that actually *returns* the result `x^a` as an `R` object, rather than simply printing it to the screen. That is, if you store the value `x^a` in an object called `result` within your function, then you can simply `return()` this result using the following line:**\n",
    "\n",
    "```\n",
    "return(result)\n",
    "```\n",
    "\n",
    "**The line above should be the last line in your function, before the `}` symbol.**"
   ]
  },
  {
   "cell_type": "code",
   "execution_count": 90,
   "metadata": {},
   "outputs": [],
   "source": [
    "Power3 = function(x, a){\n",
    "    return(x^a)\n",
    "}"
   ]
  },
  {
   "cell_type": "code",
   "execution_count": 91,
   "metadata": {},
   "outputs": [],
   "source": [
    "result = Power3(5, 3)"
   ]
  },
  {
   "cell_type": "code",
   "execution_count": 92,
   "metadata": {},
   "outputs": [
    {
     "data": {
      "text/html": [
       "125"
      ],
      "text/latex": [
       "125"
      ],
      "text/markdown": [
       "125"
      ],
      "text/plain": [
       "[1] 125"
      ]
     },
     "metadata": {},
     "output_type": "display_data"
    }
   ],
   "source": [
    "result"
   ]
  },
  {
   "cell_type": "markdown",
   "metadata": {},
   "source": [
    "## Part 5\n",
    "**Now using the `Power3()` function, create a plot of $f(x) = x^2$. The $x$-axis should display a range of integers from 1 to 10, and the $y$-axis should display $x^2$. Label the axes appropriately, and use an appropriate title for the figure. Consider displaying either the $x$-axis, the $y$-axis, or both axes on the log-scale. You can do this by using `log = \"x\"`, `log = \"y\"`, or `log = \"xy\"` as arguments to the `plot()` function.**"
   ]
  },
  {
   "cell_type": "code",
   "execution_count": 93,
   "metadata": {},
   "outputs": [
    {
     "data": {
      "image/png": "[encoded data removed]",
      "text/plain": [
       "Plot with title \"Plot of x vs x^2\""
      ]
     },
     "metadata": {},
     "output_type": "display_data"
    }
   ],
   "source": [
    "plot(1:10, Power3(1:10, 2), xlab = \"x\", ylab = \"f(x)\", main = \"Plot of x vs x^2\")"
   ]
  },
  {
   "cell_type": "code",
   "execution_count": 94,
   "metadata": {},
   "outputs": [
    {
     "data": {
      "image/png": "[encoded data removed]",
      "text/plain": [
       "Plot with title \"Log-scale plot of x vs x^2\""
      ]
     },
     "metadata": {},
     "output_type": "display_data"
    }
   ],
   "source": [
    "plot(1:10, Power3(1:10, 2), xlab = \"x\", ylab = \"f(x)\", main = \"Log-scale plot of x vs x^2\", log = \"y\")"
   ]
  },
  {
   "cell_type": "markdown",
   "metadata": {},
   "source": [
    "## Part 6\n",
    "**Create a function, `PlotPower()` that allows you to create a plot of `x` against `x^a` for a fixed `a` and for a range of values of `x`. For instance, if you call**\n",
    "\n",
    "```\n",
    "> PlotPower(1:10, 3)\n",
    "```\n",
    "\n",
    "**then a plot should be created with an $x$-axis taking on values $1, 2, \\dots, 10$, and a $y$-axis taking on values $1^3, 2^3, \\dots, 10^3$.**"
   ]
  },
  {
   "cell_type": "code",
   "execution_count": 95,
   "metadata": {},
   "outputs": [],
   "source": [
    "PlotPower = function(x, a, log = \"\"){\n",
    "    plot(x, x^a, xlab = \"x\", ylab = paste(\"x^\", a, sep = \"\"), log = log)\n",
    "}"
   ]
  },
  {
   "cell_type": "code",
   "execution_count": 96,
   "metadata": {},
   "outputs": [
    {
     "data": {
      "image/png": "[encoded data removed]",
      "text/plain": [
       "plot without title"
      ]
     },
     "metadata": {},
     "output_type": "display_data"
    }
   ],
   "source": [
    "PlotPower(1:10, 3)"
   ]
  },
  {
   "cell_type": "markdown",
   "metadata": {},
   "source": [
    "I added the `log` argument so the user can specify if they want to use a logarithmically scaled on either or both axes."
   ]
  },
  {
   "cell_type": "code",
   "execution_count": 97,
   "metadata": {},
   "outputs": [
    {
     "data": {
      "image/png": "[encoded data removed]",
      "text/plain": [
       "plot without title"
      ]
     },
     "metadata": {},
     "output_type": "display_data"
    }
   ],
   "source": [
    "PlotPower(1:10, 3, log = \"xy\")"
   ]
  },
  {
   "cell_type": "markdown",
   "metadata": {},
   "source": [
    "# Applied Exercise 4\n",
    "**Using the `Boston` data set, fit classification models in order to predict whether a given suburb has a crime rate above or below the median. Explore logistic regression, LDA, and KNN models using various subsets of the predictors. Describe your findings.**"
   ]
  },
  {
   "cell_type": "markdown",
   "metadata": {},
   "source": [
    "To have consistency with my results for when I do these exercises in Python, I'll use the corrected Boston housing data set instead of the one that is part of the `MASS` library."
   ]
  },
  {
   "cell_type": "code",
   "execution_count": 98,
   "metadata": {},
   "outputs": [
    {
     "data": {
      "text/html": [
       "<table>\n",
       "<thead><tr><th scope=col>CMEDV</th><th scope=col>CRIM</th><th scope=col>ZN</th><th scope=col>INDUS</th><th scope=col>CHAS</th><th scope=col>NOX</th><th scope=col>RM</th><th scope=col>AGE</th><th scope=col>DIS</th><th scope=col>RAD</th><th scope=col>TAX</th><th scope=col>PTRATIO</th><th scope=col>B</th><th scope=col>LSTAT</th></tr></thead>\n",
       "<tbody>\n",
       "\t<tr><td>24.0   </td><td>0.00632</td><td>18     </td><td>2.31   </td><td>0      </td><td>0.538  </td><td>6.575  </td><td>65.2   </td><td>4.0900 </td><td>1      </td><td>296    </td><td>15.3   </td><td>396.90 </td><td>4.98   </td></tr>\n",
       "\t<tr><td>21.6   </td><td>0.02731</td><td> 0     </td><td>7.07   </td><td>0      </td><td>0.469  </td><td>6.421  </td><td>78.9   </td><td>4.9671 </td><td>2      </td><td>242    </td><td>17.8   </td><td>396.90 </td><td>9.14   </td></tr>\n",
       "\t<tr><td>34.7   </td><td>0.02729</td><td> 0     </td><td>7.07   </td><td>0      </td><td>0.469  </td><td>7.185  </td><td>61.1   </td><td>4.9671 </td><td>2      </td><td>242    </td><td>17.8   </td><td>392.83 </td><td>4.03   </td></tr>\n",
       "\t<tr><td>33.4   </td><td>0.03237</td><td> 0     </td><td>2.18   </td><td>0      </td><td>0.458  </td><td>6.998  </td><td>45.8   </td><td>6.0622 </td><td>3      </td><td>222    </td><td>18.7   </td><td>394.63 </td><td>2.94   </td></tr>\n",
       "\t<tr><td>36.2   </td><td>0.06905</td><td> 0     </td><td>2.18   </td><td>0      </td><td>0.458  </td><td>7.147  </td><td>54.2   </td><td>6.0622 </td><td>3      </td><td>222    </td><td>18.7   </td><td>396.90 </td><td>5.33   </td></tr>\n",
       "\t<tr><td>28.7   </td><td>0.02985</td><td> 0     </td><td>2.18   </td><td>0      </td><td>0.458  </td><td>6.430  </td><td>58.7   </td><td>6.0622 </td><td>3      </td><td>222    </td><td>18.7   </td><td>394.12 </td><td>5.21   </td></tr>\n",
       "</tbody>\n",
       "</table>\n"
      ],
      "text/latex": [
       "\\begin{tabular}{r|llllllllllllll}\n",
       " CMEDV & CRIM & ZN & INDUS & CHAS & NOX & RM & AGE & DIS & RAD & TAX & PTRATIO & B & LSTAT\\\\\n",
       "\\hline\n",
       "\t 24.0    & 0.00632 & 18      & 2.31    & 0       & 0.538   & 6.575   & 65.2    & 4.0900  & 1       & 296     & 15.3    & 396.90  & 4.98   \\\\\n",
       "\t 21.6    & 0.02731 &  0      & 7.07    & 0       & 0.469   & 6.421   & 78.9    & 4.9671  & 2       & 242     & 17.8    & 396.90  & 9.14   \\\\\n",
       "\t 34.7    & 0.02729 &  0      & 7.07    & 0       & 0.469   & 7.185   & 61.1    & 4.9671  & 2       & 242     & 17.8    & 392.83  & 4.03   \\\\\n",
       "\t 33.4    & 0.03237 &  0      & 2.18    & 0       & 0.458   & 6.998   & 45.8    & 6.0622  & 3       & 222     & 18.7    & 394.63  & 2.94   \\\\\n",
       "\t 36.2    & 0.06905 &  0      & 2.18    & 0       & 0.458   & 7.147   & 54.2    & 6.0622  & 3       & 222     & 18.7    & 396.90  & 5.33   \\\\\n",
       "\t 28.7    & 0.02985 &  0      & 2.18    & 0       & 0.458   & 6.430   & 58.7    & 6.0622  & 3       & 222     & 18.7    & 394.12  & 5.21   \\\\\n",
       "\\end{tabular}\n"
      ],
      "text/markdown": [
       "\n",
       "| CMEDV | CRIM | ZN | INDUS | CHAS | NOX | RM | AGE | DIS | RAD | TAX | PTRATIO | B | LSTAT |\n",
       "|---|---|---|---|---|---|---|---|---|---|---|---|---|---|\n",
       "| 24.0    | 0.00632 | 18      | 2.31    | 0       | 0.538   | 6.575   | 65.2    | 4.0900  | 1       | 296     | 15.3    | 396.90  | 4.98    |\n",
       "| 21.6    | 0.02731 |  0      | 7.07    | 0       | 0.469   | 6.421   | 78.9    | 4.9671  | 2       | 242     | 17.8    | 396.90  | 9.14    |\n",
       "| 34.7    | 0.02729 |  0      | 7.07    | 0       | 0.469   | 7.185   | 61.1    | 4.9671  | 2       | 242     | 17.8    | 392.83  | 4.03    |\n",
       "| 33.4    | 0.03237 |  0      | 2.18    | 0       | 0.458   | 6.998   | 45.8    | 6.0622  | 3       | 222     | 18.7    | 394.63  | 2.94    |\n",
       "| 36.2    | 0.06905 |  0      | 2.18    | 0       | 0.458   | 7.147   | 54.2    | 6.0622  | 3       | 222     | 18.7    | 396.90  | 5.33    |\n",
       "| 28.7    | 0.02985 |  0      | 2.18    | 0       | 0.458   | 6.430   | 58.7    | 6.0622  | 3       | 222     | 18.7    | 394.12  | 5.21    |\n",
       "\n"
      ],
      "text/plain": [
       "  CMEDV CRIM    ZN INDUS CHAS NOX   RM    AGE  DIS    RAD TAX PTRATIO B     \n",
       "1 24.0  0.00632 18 2.31  0    0.538 6.575 65.2 4.0900 1   296 15.3    396.90\n",
       "2 21.6  0.02731  0 7.07  0    0.469 6.421 78.9 4.9671 2   242 17.8    396.90\n",
       "3 34.7  0.02729  0 7.07  0    0.469 7.185 61.1 4.9671 2   242 17.8    392.83\n",
       "4 33.4  0.03237  0 2.18  0    0.458 6.998 45.8 6.0622 3   222 18.7    394.63\n",
       "5 36.2  0.06905  0 2.18  0    0.458 7.147 54.2 6.0622 3   222 18.7    396.90\n",
       "6 28.7  0.02985  0 2.18  0    0.458 6.430 58.7 6.0622 3   222 18.7    394.12\n",
       "  LSTAT\n",
       "1 4.98 \n",
       "2 9.14 \n",
       "3 4.03 \n",
       "4 2.94 \n",
       "5 5.33 \n",
       "6 5.21 "
      ]
     },
     "metadata": {},
     "output_type": "display_data"
    }
   ],
   "source": [
    "boston = read.csv(\"boston_corrected.csv\", header = TRUE)\n",
    "boston = boston[, 7:20]\n",
    "head(boston)"
   ]
  },
  {
   "cell_type": "markdown",
   "metadata": {},
   "source": [
    "To start, we create a binary variable, `crim.med`, which is \"Yes\" if `CRIM` contains a value above the median and \"No\" otherwise."
   ]
  },
  {
   "cell_type": "code",
   "execution_count": 99,
   "metadata": {},
   "outputs": [
    {
     "data": {
      "text/html": [
       "<table>\n",
       "<thead><tr><th scope=col>CMEDV</th><th scope=col>CRIM</th><th scope=col>ZN</th><th scope=col>INDUS</th><th scope=col>CHAS</th><th scope=col>NOX</th><th scope=col>RM</th><th scope=col>AGE</th><th scope=col>DIS</th><th scope=col>RAD</th><th scope=col>TAX</th><th scope=col>PTRATIO</th><th scope=col>B</th><th scope=col>LSTAT</th><th scope=col>crim.med</th></tr></thead>\n",
       "<tbody>\n",
       "\t<tr><td>24.0   </td><td>0.00632</td><td>18     </td><td>2.31   </td><td>0      </td><td>0.538  </td><td>6.575  </td><td>65.2   </td><td>4.0900 </td><td>1      </td><td>296    </td><td>15.3   </td><td>396.90 </td><td>4.98   </td><td>No     </td></tr>\n",
       "\t<tr><td>21.6   </td><td>0.02731</td><td> 0     </td><td>7.07   </td><td>0      </td><td>0.469  </td><td>6.421  </td><td>78.9   </td><td>4.9671 </td><td>2      </td><td>242    </td><td>17.8   </td><td>396.90 </td><td>9.14   </td><td>No     </td></tr>\n",
       "\t<tr><td>34.7   </td><td>0.02729</td><td> 0     </td><td>7.07   </td><td>0      </td><td>0.469  </td><td>7.185  </td><td>61.1   </td><td>4.9671 </td><td>2      </td><td>242    </td><td>17.8   </td><td>392.83 </td><td>4.03   </td><td>No     </td></tr>\n",
       "\t<tr><td>33.4   </td><td>0.03237</td><td> 0     </td><td>2.18   </td><td>0      </td><td>0.458  </td><td>6.998  </td><td>45.8   </td><td>6.0622 </td><td>3      </td><td>222    </td><td>18.7   </td><td>394.63 </td><td>2.94   </td><td>No     </td></tr>\n",
       "\t<tr><td>36.2   </td><td>0.06905</td><td> 0     </td><td>2.18   </td><td>0      </td><td>0.458  </td><td>7.147  </td><td>54.2   </td><td>6.0622 </td><td>3      </td><td>222    </td><td>18.7   </td><td>396.90 </td><td>5.33   </td><td>No     </td></tr>\n",
       "\t<tr><td>28.7   </td><td>0.02985</td><td> 0     </td><td>2.18   </td><td>0      </td><td>0.458  </td><td>6.430  </td><td>58.7   </td><td>6.0622 </td><td>3      </td><td>222    </td><td>18.7   </td><td>394.12 </td><td>5.21   </td><td>No     </td></tr>\n",
       "</tbody>\n",
       "</table>\n"
      ],
      "text/latex": [
       "\\begin{tabular}{r|lllllllllllllll}\n",
       " CMEDV & CRIM & ZN & INDUS & CHAS & NOX & RM & AGE & DIS & RAD & TAX & PTRATIO & B & LSTAT & crim.med\\\\\n",
       "\\hline\n",
       "\t 24.0    & 0.00632 & 18      & 2.31    & 0       & 0.538   & 6.575   & 65.2    & 4.0900  & 1       & 296     & 15.3    & 396.90  & 4.98    & No     \\\\\n",
       "\t 21.6    & 0.02731 &  0      & 7.07    & 0       & 0.469   & 6.421   & 78.9    & 4.9671  & 2       & 242     & 17.8    & 396.90  & 9.14    & No     \\\\\n",
       "\t 34.7    & 0.02729 &  0      & 7.07    & 0       & 0.469   & 7.185   & 61.1    & 4.9671  & 2       & 242     & 17.8    & 392.83  & 4.03    & No     \\\\\n",
       "\t 33.4    & 0.03237 &  0      & 2.18    & 0       & 0.458   & 6.998   & 45.8    & 6.0622  & 3       & 222     & 18.7    & 394.63  & 2.94    & No     \\\\\n",
       "\t 36.2    & 0.06905 &  0      & 2.18    & 0       & 0.458   & 7.147   & 54.2    & 6.0622  & 3       & 222     & 18.7    & 396.90  & 5.33    & No     \\\\\n",
       "\t 28.7    & 0.02985 &  0      & 2.18    & 0       & 0.458   & 6.430   & 58.7    & 6.0622  & 3       & 222     & 18.7    & 394.12  & 5.21    & No     \\\\\n",
       "\\end{tabular}\n"
      ],
      "text/markdown": [
       "\n",
       "| CMEDV | CRIM | ZN | INDUS | CHAS | NOX | RM | AGE | DIS | RAD | TAX | PTRATIO | B | LSTAT | crim.med |\n",
       "|---|---|---|---|---|---|---|---|---|---|---|---|---|---|---|\n",
       "| 24.0    | 0.00632 | 18      | 2.31    | 0       | 0.538   | 6.575   | 65.2    | 4.0900  | 1       | 296     | 15.3    | 396.90  | 4.98    | No      |\n",
       "| 21.6    | 0.02731 |  0      | 7.07    | 0       | 0.469   | 6.421   | 78.9    | 4.9671  | 2       | 242     | 17.8    | 396.90  | 9.14    | No      |\n",
       "| 34.7    | 0.02729 |  0      | 7.07    | 0       | 0.469   | 7.185   | 61.1    | 4.9671  | 2       | 242     | 17.8    | 392.83  | 4.03    | No      |\n",
       "| 33.4    | 0.03237 |  0      | 2.18    | 0       | 0.458   | 6.998   | 45.8    | 6.0622  | 3       | 222     | 18.7    | 394.63  | 2.94    | No      |\n",
       "| 36.2    | 0.06905 |  0      | 2.18    | 0       | 0.458   | 7.147   | 54.2    | 6.0622  | 3       | 222     | 18.7    | 396.90  | 5.33    | No      |\n",
       "| 28.7    | 0.02985 |  0      | 2.18    | 0       | 0.458   | 6.430   | 58.7    | 6.0622  | 3       | 222     | 18.7    | 394.12  | 5.21    | No      |\n",
       "\n"
      ],
      "text/plain": [
       "  CMEDV CRIM    ZN INDUS CHAS NOX   RM    AGE  DIS    RAD TAX PTRATIO B     \n",
       "1 24.0  0.00632 18 2.31  0    0.538 6.575 65.2 4.0900 1   296 15.3    396.90\n",
       "2 21.6  0.02731  0 7.07  0    0.469 6.421 78.9 4.9671 2   242 17.8    396.90\n",
       "3 34.7  0.02729  0 7.07  0    0.469 7.185 61.1 4.9671 2   242 17.8    392.83\n",
       "4 33.4  0.03237  0 2.18  0    0.458 6.998 45.8 6.0622 3   222 18.7    394.63\n",
       "5 36.2  0.06905  0 2.18  0    0.458 7.147 54.2 6.0622 3   222 18.7    396.90\n",
       "6 28.7  0.02985  0 2.18  0    0.458 6.430 58.7 6.0622 3   222 18.7    394.12\n",
       "  LSTAT crim.med\n",
       "1 4.98  No      \n",
       "2 9.14  No      \n",
       "3 4.03  No      \n",
       "4 2.94  No      \n",
       "5 5.33  No      \n",
       "6 5.21  No      "
      ]
     },
     "metadata": {},
     "output_type": "display_data"
    }
   ],
   "source": [
    "crim.med = rep(\"No\", dim(boston)[1])\n",
    "crim.med[boston$CRIM > median(boston$CRIM)] = \"Yes\"\n",
    "boston = data.frame(boston, crim.med)\n",
    "head(boston)"
   ]
  },
  {
   "cell_type": "markdown",
   "metadata": {},
   "source": [
    "Next we explore the data both numerically, by looking at the matrix of correlations, and graphically, by looking at boxplots to investigate the association between `crim.med` and the other features. First, we look at the matrix of correlations."
   ]
  },
  {
   "cell_type": "code",
   "execution_count": 104,
   "metadata": {},
   "outputs": [
    {
     "data": {
      "text/html": [
       "<dl class=dl-horizontal>\n",
       "\t<dt>CMEDV</dt>\n",
       "\t\t<dd>-0.389582440664448</dd>\n",
       "\t<dt>CRIM</dt>\n",
       "\t\t<dd>1</dd>\n",
       "\t<dt>ZN</dt>\n",
       "\t\t<dd>-0.200469219662547</dd>\n",
       "\t<dt>INDUS</dt>\n",
       "\t\t<dd>0.406583411406259</dd>\n",
       "\t<dt>CHAS</dt>\n",
       "\t\t<dd>-0.0558915822222415</dd>\n",
       "\t<dt>NOX</dt>\n",
       "\t\t<dd>0.420971711392456</dd>\n",
       "\t<dt>RM</dt>\n",
       "\t\t<dd>-0.219246702862514</dd>\n",
       "\t<dt>AGE</dt>\n",
       "\t\t<dd>0.352734250901364</dd>\n",
       "\t<dt>DIS</dt>\n",
       "\t\t<dd>-0.379670086951024</dd>\n",
       "\t<dt>RAD</dt>\n",
       "\t\t<dd>0.625505145262602</dd>\n",
       "\t<dt>TAX</dt>\n",
       "\t\t<dd>0.582764312032585</dd>\n",
       "\t<dt>PTRATIO</dt>\n",
       "\t\t<dd>0.28994557927952</dd>\n",
       "\t<dt>B</dt>\n",
       "\t\t<dd>-0.385063941994224</dd>\n",
       "\t<dt>LSTAT</dt>\n",
       "\t\t<dd>0.455621479447946</dd>\n",
       "</dl>\n"
      ],
      "text/latex": [
       "\\begin{description*}\n",
       "\\item[CMEDV] -0.389582440664448\n",
       "\\item[CRIM] 1\n",
       "\\item[ZN] -0.200469219662547\n",
       "\\item[INDUS] 0.406583411406259\n",
       "\\item[CHAS] -0.0558915822222415\n",
       "\\item[NOX] 0.420971711392456\n",
       "\\item[RM] -0.219246702862514\n",
       "\\item[AGE] 0.352734250901364\n",
       "\\item[DIS] -0.379670086951024\n",
       "\\item[RAD] 0.625505145262602\n",
       "\\item[TAX] 0.582764312032585\n",
       "\\item[PTRATIO] 0.28994557927952\n",
       "\\item[B] -0.385063941994224\n",
       "\\item[LSTAT] 0.455621479447946\n",
       "\\end{description*}\n"
      ],
      "text/markdown": [
       "CMEDV\n",
       ":   -0.389582440664448CRIM\n",
       ":   1ZN\n",
       ":   -0.200469219662547INDUS\n",
       ":   0.406583411406259CHAS\n",
       ":   -0.0558915822222415NOX\n",
       ":   0.420971711392456RM\n",
       ":   -0.219246702862514AGE\n",
       ":   0.352734250901364DIS\n",
       ":   -0.379670086951024RAD\n",
       ":   0.625505145262602TAX\n",
       ":   0.582764312032585PTRATIO\n",
       ":   0.28994557927952B\n",
       ":   -0.385063941994224LSTAT\n",
       ":   0.455621479447946\n",
       "\n"
      ],
      "text/plain": [
       "      CMEDV        CRIM          ZN       INDUS        CHAS         NOX \n",
       "-0.38958244  1.00000000 -0.20046922  0.40658341 -0.05589158  0.42097171 \n",
       "         RM         AGE         DIS         RAD         TAX     PTRATIO \n",
       "-0.21924670  0.35273425 -0.37967009  0.62550515  0.58276431  0.28994558 \n",
       "          B       LSTAT \n",
       "-0.38506394  0.45562148 "
      ]
     },
     "metadata": {},
     "output_type": "display_data"
    }
   ],
   "source": [
    "cor(boston[, -15])[, \"CRIM\"]"
   ]
  },
  {
   "cell_type": "markdown",
   "metadata": {},
   "source": [
    "We see that there are some moderate to moderately strong correlations between crime rate and the other variables. The most correlated variables are `RAD` (correlation of 0.626), a measure of accessibility to radial highways, and `TAX` (correlation of 0.583), the property tax rate in USD per \\$10,000. In fact, all of the variables aside from `CHAS`, an indicator variable with value 1 if a town borders the Charles River, have correlation values with a magnitude of at least 0.2. In addition, as we saw in Applied Exercise 8 from Chapter 3, every predictor aside from `CHAS` had a statistically significant association with `CRIM` when we performed univariate linear regressions. While we should first explore the data graphically, there are two possible subsets of predictors that immeidately jump out as candidates for use in producing models to predict whether or not a given suburb has a per capita crime rate above the median. First would be to use all of the predictors aside from `CHAS` and second would be to use the predictors with a correlation magnitude of at least 0.3 (`CMEDV`, `INDUS`, `NOX`, `AGE`, `DIS`, `RAD`, `TAX`, `B`, and `LSTAT`). We will make models using both subsets of predictors to compare the predictive strength of the various models. Before making further choices regarding which predictors to use when fitting models, we will look at boxplots to explore the data graphically. We start with boxplots of each predictor, aside from `CHAS`, comparing the suburbs with above-median crime rate and those with below-median crime rate."
   ]
  },
  {
   "cell_type": "code",
   "execution_count": 117,
   "metadata": {},
   "outputs": [
    {
     "data": {
      "image/png": "[encoded data removed]",
      "text/plain": [
       "plot without title"
      ]
     },
     "metadata": {},
     "output_type": "display_data"
    }
   ],
   "source": [
    "par(mfrow = c(2, 3))\n",
    "plot(boston$crim.med, boston$CMEDV, ylab = \"Median home value ($1000)\")\n",
    "plot(boston$crim.med, boston$ZN, ylab = \"Proportion of land zoned for 25000+ sq ft lots\")\n",
    "plot(boston$crim.med, boston$INDUS, ylab = \"Proportion of non-retail business acres\")\n",
    "plot(boston$crim.med, boston$NOX, ylab = \"Nitric oxides concentration (parts per 10 million)\")\n",
    "plot(boston$crim.med, boston$RM, ylab = \"Average rooms per home\")\n",
    "plot(boston$crim.med, boston$AGE, ylab = \"Proportion of homes built before 1940\")\n",
    "mtext(\"Boxplots for towns with above (Yes) and below (No) median crime rate\", outer = TRUE, line = -3)"
   ]
  },
  {
   "cell_type": "code",
   "execution_count": 119,
   "metadata": {},
   "outputs": [
    {
     "data": {
      "image/png": "[encoded data removed]",
      "text/plain": [
       "plot without title"
      ]
     },
     "metadata": {},
     "output_type": "display_data"
    }
   ],
   "source": [
    "par(mfrow = c(2, 3))\n",
    "plot(boston$crim.med, boston$DIS, ylab = \"Weighted distance to Boston employment centers\")\n",
    "plot(boston$crim.med, boston$RAD, ylab = \"Index of accessibility to radial highways\")\n",
    "plot(boston$crim.med, boston$TAX, ylab = \"Property tax rate (USD per $10000)\")\n",
    "plot(boston$crim.med, boston$PTRATIO, ylab = \"Pupil-teacher ratio\")\n",
    "plot(boston$crim.med, boston$B, ylab = \"1000*(Proportion of black residents - 0.63)^2\")\n",
    "plot(boston$crim.med, boston$LSTAT, ylab = \"Proportion lower socioeconomic status population\")\n",
    "mtext(\"Boxplots for towns with above (Yes) and below (No) median crime rate\", outer = TRUE, line = -3)"
   ]
  },
  {
   "cell_type": "markdown",
   "metadata": {},
   "source": [
    "The twelve boxplots we produced provide further evidence to suggest that the predictors which are likely to be most useful in predicting `crim.med` are those having a correlation magnitude of at least 0.3 with `CRIM` (`CMEDV`, `INDUS`, `NOX`, `AGE`, `DIS`, `RAD`, `TAX`, `B`, and `LSTAT`). Those are the variables which show the most separation in distributions between the suburbs with above-median crime rates and those with below-median crime rates. In particular, for all of those variables except `CMEDV`, it appears that the medians for the suburbs with above-median crime rates are well clear of the upper or lower quartile (depending on the particular variable) of the values for suburbs with below-median crime rates. Therefore, we will proceed and produce models using two different subsets of predictors: all of them aside from `CHAS`, and only the ones which are at least moderately correlated with `CRIM` (`CMEDV`, `INDUS`, `NOX`, `AGE`, `DIS`, `RAD`, `TAX`, `B`, and `LSTAT`).\n",
    "\n",
    "Before training any models, we split our data in to a training set and a test set using the 75%-25% split."
   ]
  },
  {
   "cell_type": "code",
   "execution_count": 121,
   "metadata": {},
   "outputs": [],
   "source": [
    "set.seed(312)\n",
    "train = sample(dim(boston)[1], size = 0.75*dim(Boston)[1])"
   ]
  },
  {
   "cell_type": "markdown",
   "metadata": {},
   "source": [
    "Now that we have split the data in to a training set and a test set, we fit classification models to predict whether or not a given suburb has an above-median crime rate. Note that for this exercise we will stick with the default prediction threshold of 50% for convenience. If we were trying to make predictions for an application, then we should consider other prediction thresholds depending on our tolerance for false positives versus false negatives. Here we use the convention that an above-median crime rate is the positive category and below-median the negative category. For each model, we will first use all of the predictors before using the ones which are at least moderately correlated with `CRIM`. The first classification model we use is logistic regression."
   ]
  },
  {
   "cell_type": "code",
   "execution_count": 127,
   "metadata": {},
   "outputs": [
    {
     "name": "stderr",
     "output_type": "stream",
     "text": [
      "Warning message:\n",
      "\"glm.fit: fitted probabilities numerically 0 or 1 occurred\""
     ]
    },
    {
     "data": {
      "text/plain": [
       "         Actual\n",
       "Predicted No Yes\n",
       "      No  57   3\n",
       "      Yes  5  62"
      ]
     },
     "metadata": {},
     "output_type": "display_data"
    }
   ],
   "source": [
    "glm.fit = glm(crim.med ~ . - CRIM - CHAS, data = boston, subset = train, family = \"binomial\")\n",
    "glm.probs = predict(glm.fit, boston[-train, ], type = \"response\")\n",
    "glm.pred = rep(\"No\", dim(boston[-train, ])[1])\n",
    "glm.pred[glm.probs > 0.5] = \"Yes\"\n",
    "table(glm.pred, boston[-train, \"crim.med\"], dnn = c(\"Predicted\", \"Actual\"))"
   ]
  },
  {
   "cell_type": "code",
   "execution_count": 128,
   "metadata": {},
   "outputs": [
    {
     "data": {
      "text/html": [
       "0.062992125984252"
      ],
      "text/latex": [
       "0.062992125984252"
      ],
      "text/markdown": [
       "0.062992125984252"
      ],
      "text/plain": [
       "[1] 0.06299213"
      ]
     },
     "metadata": {},
     "output_type": "display_data"
    }
   ],
   "source": [
    "1 - mean(glm.pred == boston[-train, \"crim.med\"])"
   ]
  },
  {
   "cell_type": "markdown",
   "metadata": {},
   "source": [
    "When using logistic regression to predict `crim.med` using all of the predictors aside from `CHAS`, we had an overall test error of 6.3%. Our positive predictive value was $62/67 \\approx 0.925$ and our true positive rate was $62/65 \\approx 0.954$. So far that seems like a pretty good error rate for the first model we tried, so lets continue with the smaller subset of predictors and then move on to other models to see if we can improve the performance at all."
   ]
  },
  {
   "cell_type": "code",
   "execution_count": 132,
   "metadata": {},
   "outputs": [
    {
     "data": {
      "text/plain": [
       "         Actual\n",
       "Predicted No Yes\n",
       "      No  58   8\n",
       "      Yes  4  57"
      ]
     },
     "metadata": {},
     "output_type": "display_data"
    }
   ],
   "source": [
    "glm.fit = glm(crim.med ~ CMEDV + INDUS + NOX + AGE + DIS + RAD + TAX + B + LSTAT,\n",
    "             data = boston, subset = train, family = \"binomial\")\n",
    "glm.probs = predict(glm.fit, boston[-train, ], type = \"response\")\n",
    "glm.pred = rep(\"No\", dim(boston[-train, ])[1])\n",
    "glm.pred[glm.probs > 0.5] = \"Yes\"\n",
    "table(glm.pred, boston[-train, \"crim.med\"], dnn = c(\"Predicted\", \"Actual\"))"
   ]
  },
  {
   "cell_type": "code",
   "execution_count": 133,
   "metadata": {},
   "outputs": [
    {
     "data": {
      "text/html": [
       "0.094488188976378"
      ],
      "text/latex": [
       "0.094488188976378"
      ],
      "text/markdown": [
       "0.094488188976378"
      ],
      "text/plain": [
       "[1] 0.09448819"
      ]
     },
     "metadata": {},
     "output_type": "display_data"
    }
   ],
   "source": [
    "1 - mean(glm.pred == boston[-train, \"crim.med\"])"
   ]
  },
  {
   "cell_type": "markdown",
   "metadata": {},
   "source": [
    "The logistic regression model using fewer predictors (`CMEDV`, `INDUS`, `NOX`, `AGE`, `DIS`, `RAD`, `TAX`, `B`, and `LSTAT`) performed slightly worse, with an overall test error of 9.4%. It had a positive predictive value of $57/61 \\approx 0.934$, which is a slight improvement over the model with more predictors. However, the true positive rate is also a little worse, at $57/65 \\approx 0.877$. This is due to the fact that source of error for the model with fewer predictors is mis-classifying suburbs which actually have above-median crime rates as being in the below-median category. We now move on to linear discriminant analysis."
   ]
  },
  {
   "cell_type": "code",
   "execution_count": 137,
   "metadata": {},
   "outputs": [
    {
     "data": {
      "text/plain": [
       "         Actual\n",
       "Predicted No Yes\n",
       "      No  56  17\n",
       "      Yes  6  48"
      ]
     },
     "metadata": {},
     "output_type": "display_data"
    }
   ],
   "source": [
    "lda.fit = lda(crim.med ~ . - CRIM - CHAS, data = boston, subset = train)\n",
    "lda.pred = predict(lda.fit, boston[-train, ])\n",
    "table(lda.pred$class, boston[-train, \"crim.med\"], dnn = c(\"Predicted\", \"Actual\"))"
   ]
  },
  {
   "cell_type": "code",
   "execution_count": 138,
   "metadata": {},
   "outputs": [
    {
     "data": {
      "text/html": [
       "0.181102362204724"
      ],
      "text/latex": [
       "0.181102362204724"
      ],
      "text/markdown": [
       "0.181102362204724"
      ],
      "text/plain": [
       "[1] 0.1811024"
      ]
     },
     "metadata": {},
     "output_type": "display_data"
    }
   ],
   "source": [
    "1 - mean(lda.pred$class == boston[-train, \"crim.med\"]) "
   ]
  },
  {
   "cell_type": "markdown",
   "metadata": {},
   "source": [
    "Compared to the logistic regression model using all of the predictors aside from `CHAS`, linear discriminant analysis performed much worse, with an overal test error of 18.1%. That is almost triple the overall test error from logistic regression. This performance discrepancy suggests that the assumption underlying LDA, that the observations are drawn from a Gaussian distribution where both classes share a common covariance matrix, are not met for at least some of these predictors. Once again, the source of the error comes from mis-classifying suburbs which actuall have above-median crime rates as being in the below-median category."
   ]
  },
  {
   "cell_type": "code",
   "execution_count": 139,
   "metadata": {},
   "outputs": [
    {
     "data": {
      "text/plain": [
       "         Actual\n",
       "Predicted No Yes\n",
       "      No  59  16\n",
       "      Yes  3  49"
      ]
     },
     "metadata": {},
     "output_type": "display_data"
    }
   ],
   "source": [
    "lda.fit = lda(crim.med ~ CMEDV + INDUS + NOX + AGE + DIS + RAD + TAX + B + LSTAT, data = boston, subset = train)\n",
    "lda.pred = predict(lda.fit, boston[-train, ])\n",
    "table(lda.pred$class, boston[-train, \"crim.med\"], dnn = c(\"Predicted\", \"Actual\"))"
   ]
  },
  {
   "cell_type": "code",
   "execution_count": 140,
   "metadata": {},
   "outputs": [
    {
     "data": {
      "text/html": [
       "0.149606299212598"
      ],
      "text/latex": [
       "0.149606299212598"
      ],
      "text/markdown": [
       "0.149606299212598"
      ],
      "text/plain": [
       "[1] 0.1496063"
      ]
     },
     "metadata": {},
     "output_type": "display_data"
    }
   ],
   "source": [
    "1 - mean(lda.pred$class == boston[-train, \"crim.med\"]) "
   ]
  },
  {
   "cell_type": "markdown",
   "metadata": {},
   "source": [
    "Similar to the model which used all of the predictors aside from `CHAS`, linear discriminant analysis using fewer predictors (`CMEDV`, `INDUS`, `NOX`, `AGE`, `DIS`, `RAD`, `TAX`, `B`, and `LSTAT`) performed worse than the logistic regression model using the same predictors. It did, however, perform a bit better than the LDA model which used more predictors. The improvement between LDA models comes mainly from improving the false positive rate. So far logistic regression appears to give the best test error rate. We continue on to quadratic discriminant analysis."
   ]
  },
  {
   "cell_type": "code",
   "execution_count": 141,
   "metadata": {},
   "outputs": [
    {
     "data": {
      "text/plain": [
       "         Actual\n",
       "Predicted No Yes\n",
       "      No  61  12\n",
       "      Yes  1  53"
      ]
     },
     "metadata": {},
     "output_type": "display_data"
    }
   ],
   "source": [
    "qda.fit = qda(crim.med ~ . - CRIM - CHAS, data = boston, subset = train)\n",
    "qda.pred = predict(qda.fit, boston[-train, ])\n",
    "table(qda.pred$class, boston[-train, \"crim.med\"], dnn = c(\"Predicted\", \"Actual\"))"
   ]
  },
  {
   "cell_type": "code",
   "execution_count": 142,
   "metadata": {},
   "outputs": [
    {
     "data": {
      "text/html": [
       "0.102362204724409"
      ],
      "text/latex": [
       "0.102362204724409"
      ],
      "text/markdown": [
       "0.102362204724409"
      ],
      "text/plain": [
       "[1] 0.1023622"
      ]
     },
     "metadata": {},
     "output_type": "display_data"
    }
   ],
   "source": [
    "1 - mean(qda.pred$class == boston[-train, \"crim.med\"]) "
   ]
  },
  {
   "cell_type": "markdown",
   "metadata": {},
   "source": [
    "Quadratic discriminant analysis with all of the predictors aside from `CHAS` had an overall test error of 10.2%, which is comparable to that of logistic regression using the predictors `CMEDV`, `INDUS`, `NOX`, `AGE`, `DIS`, `RAD`, `TAX`, `B`, and `LSTAT`. This is a solid improvement over linear discriminant analysis using the same predictors, and suggests that relaxing the assuption of a common covariance matrix for both classes to assuming each class has its own covariance matrix is a more accurate assumption about the data. One thing of note is that the QDA model has a high positive predictive value of $53/54 \\approx 0.981$, which is highest value out of all of the models we have seen up to this point. This model would be very good if our priority is to minimize the number of suburbs with below-median crime rates that are predicted to be in the above-median category."
   ]
  },
  {
   "cell_type": "code",
   "execution_count": 143,
   "metadata": {},
   "outputs": [
    {
     "data": {
      "text/plain": [
       "         Actual\n",
       "Predicted No Yes\n",
       "      No  59  13\n",
       "      Yes  3  52"
      ]
     },
     "metadata": {},
     "output_type": "display_data"
    }
   ],
   "source": [
    "qda.fit = qda(crim.med ~ CMEDV + INDUS + NOX + AGE + DIS + RAD + TAX + B + LSTAT, data = boston, subset = train)\n",
    "qda.pred = predict(qda.fit, boston[-train, ])\n",
    "table(qda.pred$class, boston[-train, \"crim.med\"], dnn = c(\"Predicted\", \"Actual\"))"
   ]
  },
  {
   "cell_type": "code",
   "execution_count": 144,
   "metadata": {},
   "outputs": [
    {
     "data": {
      "text/html": [
       "0.125984251968504"
      ],
      "text/latex": [
       "0.125984251968504"
      ],
      "text/markdown": [
       "0.125984251968504"
      ],
      "text/plain": [
       "[1] 0.1259843"
      ]
     },
     "metadata": {},
     "output_type": "display_data"
    }
   ],
   "source": [
    "1 - mean(qda.pred$class == boston[-train, \"crim.med\"]) "
   ]
  },
  {
   "cell_type": "markdown",
   "metadata": {},
   "source": [
    "Reducing to the smaller subset of predictors (`CMEDV`, `INDUS`, `NOX`, `AGE`, `DIS`, `RAD`, `TAX`, `B`, and `LSTAT`) resulted in a QDA model that performs slightly worse in terms of overall test error rate (12.6%) than the QDA model with more predictors. Even so, this QDA model still has a better overall test error rate than both of the LDA models.\n",
    "\n",
    "Before moving on to $k$-nearest neighbors classification, we make sure to standardize all of the variables to have mean zero and standard deviation one."
   ]
  },
  {
   "cell_type": "code",
   "execution_count": 146,
   "metadata": {},
   "outputs": [
    {
     "data": {
      "text/html": [
       "<table>\n",
       "<thead><tr><th scope=col>CMEDV</th><th scope=col>ZN</th><th scope=col>INDUS</th><th scope=col>NOX</th><th scope=col>RM</th><th scope=col>AGE</th><th scope=col>DIS</th><th scope=col>RAD</th><th scope=col>TAX</th><th scope=col>PTRATIO</th><th scope=col>B</th><th scope=col>LSTAT</th></tr></thead>\n",
       "<tbody>\n",
       "\t<tr><td> 0.1602176</td><td> 0.2845483</td><td>-1.2866362</td><td>-0.1440749</td><td>0.4132629 </td><td>-0.1198948</td><td>0.140075  </td><td>-0.9818712</td><td>-0.6659492</td><td>-1.4575580</td><td>0.4406159 </td><td>-1.0744990</td></tr>\n",
       "\t<tr><td>-0.1011583</td><td>-0.4872402</td><td>-0.5927944</td><td>-0.7395304</td><td>0.1940824 </td><td> 0.3668034</td><td>0.556609  </td><td>-0.8670245</td><td>-0.9863534</td><td>-0.3027945</td><td>0.4406159 </td><td>-0.4919525</td></tr>\n",
       "\t<tr><td> 1.3255187</td><td>-0.4872402</td><td>-0.5927944</td><td>-0.7395304</td><td>1.2814456 </td><td>-0.2655490</td><td>0.556609  </td><td>-0.8670245</td><td>-0.9863534</td><td>-0.3027945</td><td>0.3960351 </td><td>-1.2075324</td></tr>\n",
       "\t<tr><td> 1.1839401</td><td>-0.4872402</td><td>-1.3055857</td><td>-0.8344581</td><td>1.0152978 </td><td>-0.8090878</td><td>1.076671  </td><td>-0.7521778</td><td>-1.1050216</td><td> 0.1129203</td><td>0.4157514 </td><td>-1.3601708</td></tr>\n",
       "\t<tr><td> 1.4888787</td><td>-0.4872402</td><td>-1.3055857</td><td>-0.8344581</td><td>1.2273620 </td><td>-0.5106743</td><td>1.076671  </td><td>-0.7521778</td><td>-1.1050216</td><td> 0.1129203</td><td>0.4406159 </td><td>-1.0254866</td></tr>\n",
       "\t<tr><td> 0.6720789</td><td>-0.4872402</td><td>-1.3055857</td><td>-0.8344581</td><td>0.2068916 </td><td>-0.3508100</td><td>1.076671  </td><td>-0.7521778</td><td>-1.1050216</td><td> 0.1129203</td><td>0.4101651 </td><td>-1.0422909</td></tr>\n",
       "</tbody>\n",
       "</table>\n"
      ],
      "text/latex": [
       "\\begin{tabular}{llllllllllll}\n",
       " CMEDV & ZN & INDUS & NOX & RM & AGE & DIS & RAD & TAX & PTRATIO & B & LSTAT\\\\\n",
       "\\hline\n",
       "\t  0.1602176 &  0.2845483 & -1.2866362 & -0.1440749 & 0.4132629  & -0.1198948 & 0.140075   & -0.9818712 & -0.6659492 & -1.4575580 & 0.4406159  & -1.0744990\\\\\n",
       "\t -0.1011583 & -0.4872402 & -0.5927944 & -0.7395304 & 0.1940824  &  0.3668034 & 0.556609   & -0.8670245 & -0.9863534 & -0.3027945 & 0.4406159  & -0.4919525\\\\\n",
       "\t  1.3255187 & -0.4872402 & -0.5927944 & -0.7395304 & 1.2814456  & -0.2655490 & 0.556609   & -0.8670245 & -0.9863534 & -0.3027945 & 0.3960351  & -1.2075324\\\\\n",
       "\t  1.1839401 & -0.4872402 & -1.3055857 & -0.8344581 & 1.0152978  & -0.8090878 & 1.076671   & -0.7521778 & -1.1050216 &  0.1129203 & 0.4157514  & -1.3601708\\\\\n",
       "\t  1.4888787 & -0.4872402 & -1.3055857 & -0.8344581 & 1.2273620  & -0.5106743 & 1.076671   & -0.7521778 & -1.1050216 &  0.1129203 & 0.4406159  & -1.0254866\\\\\n",
       "\t  0.6720789 & -0.4872402 & -1.3055857 & -0.8344581 & 0.2068916  & -0.3508100 & 1.076671   & -0.7521778 & -1.1050216 &  0.1129203 & 0.4101651  & -1.0422909\\\\\n",
       "\\end{tabular}\n"
      ],
      "text/markdown": [
       "\n",
       "| CMEDV | ZN | INDUS | NOX | RM | AGE | DIS | RAD | TAX | PTRATIO | B | LSTAT |\n",
       "|---|---|---|---|---|---|---|---|---|---|---|---|\n",
       "|  0.1602176 |  0.2845483 | -1.2866362 | -0.1440749 | 0.4132629  | -0.1198948 | 0.140075   | -0.9818712 | -0.6659492 | -1.4575580 | 0.4406159  | -1.0744990 |\n",
       "| -0.1011583 | -0.4872402 | -0.5927944 | -0.7395304 | 0.1940824  |  0.3668034 | 0.556609   | -0.8670245 | -0.9863534 | -0.3027945 | 0.4406159  | -0.4919525 |\n",
       "|  1.3255187 | -0.4872402 | -0.5927944 | -0.7395304 | 1.2814456  | -0.2655490 | 0.556609   | -0.8670245 | -0.9863534 | -0.3027945 | 0.3960351  | -1.2075324 |\n",
       "|  1.1839401 | -0.4872402 | -1.3055857 | -0.8344581 | 1.0152978  | -0.8090878 | 1.076671   | -0.7521778 | -1.1050216 |  0.1129203 | 0.4157514  | -1.3601708 |\n",
       "|  1.4888787 | -0.4872402 | -1.3055857 | -0.8344581 | 1.2273620  | -0.5106743 | 1.076671   | -0.7521778 | -1.1050216 |  0.1129203 | 0.4406159  | -1.0254866 |\n",
       "|  0.6720789 | -0.4872402 | -1.3055857 | -0.8344581 | 0.2068916  | -0.3508100 | 1.076671   | -0.7521778 | -1.1050216 |  0.1129203 | 0.4101651  | -1.0422909 |\n",
       "\n"
      ],
      "text/plain": [
       "     CMEDV      ZN         INDUS      NOX        RM        AGE        DIS     \n",
       "[1,]  0.1602176  0.2845483 -1.2866362 -0.1440749 0.4132629 -0.1198948 0.140075\n",
       "[2,] -0.1011583 -0.4872402 -0.5927944 -0.7395304 0.1940824  0.3668034 0.556609\n",
       "[3,]  1.3255187 -0.4872402 -0.5927944 -0.7395304 1.2814456 -0.2655490 0.556609\n",
       "[4,]  1.1839401 -0.4872402 -1.3055857 -0.8344581 1.0152978 -0.8090878 1.076671\n",
       "[5,]  1.4888787 -0.4872402 -1.3055857 -0.8344581 1.2273620 -0.5106743 1.076671\n",
       "[6,]  0.6720789 -0.4872402 -1.3055857 -0.8344581 0.2068916 -0.3508100 1.076671\n",
       "     RAD        TAX        PTRATIO    B         LSTAT     \n",
       "[1,] -0.9818712 -0.6659492 -1.4575580 0.4406159 -1.0744990\n",
       "[2,] -0.8670245 -0.9863534 -0.3027945 0.4406159 -0.4919525\n",
       "[3,] -0.8670245 -0.9863534 -0.3027945 0.3960351 -1.2075324\n",
       "[4,] -0.7521778 -1.1050216  0.1129203 0.4157514 -1.3601708\n",
       "[5,] -0.7521778 -1.1050216  0.1129203 0.4406159 -1.0254866\n",
       "[6,] -0.7521778 -1.1050216  0.1129203 0.4101651 -1.0422909"
      ]
     },
     "metadata": {},
     "output_type": "display_data"
    }
   ],
   "source": [
    "scaled.boston = scale(boston[, -c(2, 5, 15)])\n",
    "head(scaled.boston)"
   ]
  },
  {
   "cell_type": "code",
   "execution_count": 147,
   "metadata": {},
   "outputs": [],
   "source": [
    "train.X = scaled.boston[train, ]\n",
    "test.X = scaled.boston[-train, ]\n",
    "train.crim.med = boston[train, \"crim.med\"]"
   ]
  },
  {
   "cell_type": "code",
   "execution_count": 148,
   "metadata": {},
   "outputs": [
    {
     "data": {
      "text/html": [
       "<table>\n",
       "<thead><tr><th scope=col>k.vals</th><th scope=col>knn.error</th></tr></thead>\n",
       "<tbody>\n",
       "\t<tr><td> 1        </td><td>0.10236220</td></tr>\n",
       "\t<tr><td> 3        </td><td>0.07086614</td></tr>\n",
       "\t<tr><td> 5        </td><td>0.08661417</td></tr>\n",
       "\t<tr><td> 7        </td><td>0.10236220</td></tr>\n",
       "\t<tr><td> 9        </td><td>0.11811024</td></tr>\n",
       "\t<tr><td>11        </td><td>0.13385827</td></tr>\n",
       "\t<tr><td>13        </td><td>0.11023622</td></tr>\n",
       "\t<tr><td>15        </td><td>0.11811024</td></tr>\n",
       "\t<tr><td>17        </td><td>0.13385827</td></tr>\n",
       "\t<tr><td>19        </td><td>0.13385827</td></tr>\n",
       "</tbody>\n",
       "</table>\n"
      ],
      "text/latex": [
       "\\begin{tabular}{ll}\n",
       " k.vals & knn.error\\\\\n",
       "\\hline\n",
       "\t  1         & 0.10236220\\\\\n",
       "\t  3         & 0.07086614\\\\\n",
       "\t  5         & 0.08661417\\\\\n",
       "\t  7         & 0.10236220\\\\\n",
       "\t  9         & 0.11811024\\\\\n",
       "\t 11         & 0.13385827\\\\\n",
       "\t 13         & 0.11023622\\\\\n",
       "\t 15         & 0.11811024\\\\\n",
       "\t 17         & 0.13385827\\\\\n",
       "\t 19         & 0.13385827\\\\\n",
       "\\end{tabular}\n"
      ],
      "text/markdown": [
       "\n",
       "| k.vals | knn.error |\n",
       "|---|---|\n",
       "|  1         | 0.10236220 |\n",
       "|  3         | 0.07086614 |\n",
       "|  5         | 0.08661417 |\n",
       "|  7         | 0.10236220 |\n",
       "|  9         | 0.11811024 |\n",
       "| 11         | 0.13385827 |\n",
       "| 13         | 0.11023622 |\n",
       "| 15         | 0.11811024 |\n",
       "| 17         | 0.13385827 |\n",
       "| 19         | 0.13385827 |\n",
       "\n"
      ],
      "text/plain": [
       "      k.vals knn.error \n",
       " [1,]  1     0.10236220\n",
       " [2,]  3     0.07086614\n",
       " [3,]  5     0.08661417\n",
       " [4,]  7     0.10236220\n",
       " [5,]  9     0.11811024\n",
       " [6,] 11     0.13385827\n",
       " [7,] 13     0.11023622\n",
       " [8,] 15     0.11811024\n",
       " [9,] 17     0.13385827\n",
       "[10,] 19     0.13385827"
      ]
     },
     "metadata": {},
     "output_type": "display_data"
    }
   ],
   "source": [
    "set.seed(312)\n",
    "k.vals = (1:10)*2 - 1\n",
    "knn.error = rep(0, 10)\n",
    "knn.tables = list()\n",
    "for (i in 1:10){\n",
    "    knn.pred = knn(train.X, test.X, train.crim.med, k = 2*i - 1)\n",
    "    knn.tables[[k.vals[i]]] = table(knn.pred, boston[-train, \"crim.med\"], dnn = c(\"Predicted\", \"Actual\"))\n",
    "    knn.error[i] = 1 - mean(knn.pred == boston[-train, \"crim.med\"])\n",
    "}\n",
    "cbind(k.vals, knn.error)"
   ]
  },
  {
   "cell_type": "code",
   "execution_count": 149,
   "metadata": {},
   "outputs": [
    {
     "data": {
      "text/plain": [
       "         Actual\n",
       "Predicted No Yes\n",
       "      No  61   8\n",
       "      Yes  1  57"
      ]
     },
     "metadata": {},
     "output_type": "display_data"
    }
   ],
   "source": [
    "knn.tables[[3]]"
   ]
  },
  {
   "cell_type": "markdown",
   "metadata": {},
   "source": [
    "We see that when using all of the predictors aside from `CHAS`, the value of $k$ with the lowest overall test error for $k$-nearest neighbors classification is $k = 3$, with an overal test error of 7.1%. This is just one additional mis-classified test observation compared to logistic regression using the same predictors. Looking at the confusion matrix, we see that KNN with $k = 3$ has the best positive predictive value out of all of the classification models, $57/58 \\approx 0.983$, though compared to logistic regression using the same predictors, this model has a worse true positive rate ($57/65 \\approx 0.877$ vs 0.954)."
   ]
  },
  {
   "cell_type": "code",
   "execution_count": 152,
   "metadata": {},
   "outputs": [],
   "source": [
    "cols = c(\"CMEDV\", \"INDUS\", \"NOX\", \"AGE\", \"DIS\", \"RAD\", \"TAX\", \"B\", \"LSTAT\")\n",
    "train.X = scaled.boston[train, cols]\n",
    "test.X = scaled.boston[-train, cols]\n",
    "train.crim.med = boston[train, \"crim.med\"]"
   ]
  },
  {
   "cell_type": "code",
   "execution_count": 153,
   "metadata": {},
   "outputs": [
    {
     "data": {
      "text/html": [
       "<table>\n",
       "<thead><tr><th scope=col>k.vals</th><th scope=col>knn.error</th></tr></thead>\n",
       "<tbody>\n",
       "\t<tr><td> 1        </td><td>0.08661417</td></tr>\n",
       "\t<tr><td> 3        </td><td>0.07086614</td></tr>\n",
       "\t<tr><td> 5        </td><td>0.08661417</td></tr>\n",
       "\t<tr><td> 7        </td><td>0.09448819</td></tr>\n",
       "\t<tr><td> 9        </td><td>0.11811024</td></tr>\n",
       "\t<tr><td>11        </td><td>0.14173228</td></tr>\n",
       "\t<tr><td>13        </td><td>0.12598425</td></tr>\n",
       "\t<tr><td>15        </td><td>0.14173228</td></tr>\n",
       "\t<tr><td>17        </td><td>0.14173228</td></tr>\n",
       "\t<tr><td>19        </td><td>0.13385827</td></tr>\n",
       "</tbody>\n",
       "</table>\n"
      ],
      "text/latex": [
       "\\begin{tabular}{ll}\n",
       " k.vals & knn.error\\\\\n",
       "\\hline\n",
       "\t  1         & 0.08661417\\\\\n",
       "\t  3         & 0.07086614\\\\\n",
       "\t  5         & 0.08661417\\\\\n",
       "\t  7         & 0.09448819\\\\\n",
       "\t  9         & 0.11811024\\\\\n",
       "\t 11         & 0.14173228\\\\\n",
       "\t 13         & 0.12598425\\\\\n",
       "\t 15         & 0.14173228\\\\\n",
       "\t 17         & 0.14173228\\\\\n",
       "\t 19         & 0.13385827\\\\\n",
       "\\end{tabular}\n"
      ],
      "text/markdown": [
       "\n",
       "| k.vals | knn.error |\n",
       "|---|---|\n",
       "|  1         | 0.08661417 |\n",
       "|  3         | 0.07086614 |\n",
       "|  5         | 0.08661417 |\n",
       "|  7         | 0.09448819 |\n",
       "|  9         | 0.11811024 |\n",
       "| 11         | 0.14173228 |\n",
       "| 13         | 0.12598425 |\n",
       "| 15         | 0.14173228 |\n",
       "| 17         | 0.14173228 |\n",
       "| 19         | 0.13385827 |\n",
       "\n"
      ],
      "text/plain": [
       "      k.vals knn.error \n",
       " [1,]  1     0.08661417\n",
       " [2,]  3     0.07086614\n",
       " [3,]  5     0.08661417\n",
       " [4,]  7     0.09448819\n",
       " [5,]  9     0.11811024\n",
       " [6,] 11     0.14173228\n",
       " [7,] 13     0.12598425\n",
       " [8,] 15     0.14173228\n",
       " [9,] 17     0.14173228\n",
       "[10,] 19     0.13385827"
      ]
     },
     "metadata": {},
     "output_type": "display_data"
    }
   ],
   "source": [
    "set.seed(312)\n",
    "k.vals = (1:10)*2 - 1\n",
    "knn.error = rep(0, 10)\n",
    "knn.tables = list()\n",
    "for (i in 1:10){\n",
    "    knn.pred = knn(train.X, test.X, train.crim.med, k = 2*i - 1)\n",
    "    knn.tables[[k.vals[i]]] = table(knn.pred, boston[-train, \"crim.med\"], dnn = c(\"Predicted\", \"Actual\"))\n",
    "    knn.error[i] = 1 - mean(knn.pred == boston[-train, \"crim.med\"])\n",
    "}\n",
    "cbind(k.vals, knn.error)"
   ]
  },
  {
   "cell_type": "code",
   "execution_count": 154,
   "metadata": {},
   "outputs": [
    {
     "data": {
      "text/plain": [
       "         Actual\n",
       "Predicted No Yes\n",
       "      No  61   8\n",
       "      Yes  1  57"
      ]
     },
     "metadata": {},
     "output_type": "display_data"
    }
   ],
   "source": [
    "knn.tables[[3]]"
   ]
  },
  {
   "cell_type": "markdown",
   "metadata": {},
   "source": [
    "Reducing to the smaller subset of predictors (`CMEDV`, `INDUS`, `NOX`, `AGE`, `DIS`, `RAD`, `TAX`, `B`, and `LSTAT`), we see that again the value of $k$ with the lowest overall test error rate is $k = 3$. In fact, KNN with $k = 3$ and this subset of predictors has the same confusion matrix as the previous KNN classifier which used more predictors. \n",
    "\n",
    "While we would need more precisely determine the metrics by which we would choose our preferred model and then perform further testing, such as cross validation, to more confidently choose a model, it seems as if there are two likely frontrunners to choose: logistic regression using all of the predictors aside from `CHAS`, and $k$-nearest neighbors using $k = 3$ and the smaller subset predictors (`CMEDV`, `INDUS`, `NOX`, `AGE`, `DIS`, `RAD`, `TAX`, `B`, and `LSTAT`). The strength of the logistic regression model lies in relative simplicity and interpretability compared to KNN, as well as the fact that it had the lowest overall test error out of the models we explored. The KNN classifier had comparable overall test error, but had a much better positive predictive value than logistic regression, at least when logistic regression used a prediction threshold of 0.5. One graphic we could use to better compare the performance of these two models would be to produce ROC curves for each model and compare the two area-under-curve values."
   ]
  }
 ],
 "metadata": {
  "kernelspec": {
   "display_name": "R",
   "language": "R",
   "name": "ir"
  },
  "language_info": {
   "codemirror_mode": "r",
   "file_extension": ".r",
   "mimetype": "text/x-r-source",
   "name": "R",
   "pygments_lexer": "r",
   "version": "3.6.1"
  }
 },
 "nbformat": 4,
 "nbformat_minor": 2
}
